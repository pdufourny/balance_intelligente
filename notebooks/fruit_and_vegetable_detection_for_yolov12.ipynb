{
  "nbformat": 4,
  "nbformat_minor": 0,
  "metadata": {
    "colab": {
      "provenance": [],
      "machine_shape": "hm",
      "gpuType": "L4"
    },
    "kernelspec": {
      "name": "python3",
      "display_name": "Python 3"
    },
    "language_info": {
      "name": "python"
    },
    "accelerator": "GPU"
  },
  "cells": [
    {
      "cell_type": "code",
      "execution_count": null,
      "metadata": {
        "id": "4iT9gfEGwkKW"
      },
      "outputs": [],
      "source": []
    },
    {
      "cell_type": "markdown",
      "source": [
        "#fruit and vegetable detection for yolov12"
      ],
      "metadata": {
        "id": "6h5MIpHywnPa"
      }
    },
    {
      "cell_type": "code",
      "source": [
        "import numpy as np\n",
        "import pandas as pd\n",
        "import os"
      ],
      "metadata": {
        "id": "BLZLbeFrwpxG"
      },
      "execution_count": 1,
      "outputs": []
    },
    {
      "cell_type": "code",
      "source": [
        "! cd /content\n",
        "! #rm -r sample_data/\n",
        "! rm /content/sample_data/*"
      ],
      "metadata": {
        "id": "XljwqqFExQQl"
      },
      "execution_count": 2,
      "outputs": []
    },
    {
      "cell_type": "code",
      "source": [
        "from google.colab import drive\n",
        "import locale\n",
        "\n",
        "def getpreferredencoding(do_setlocale = True):\n",
        "    return \"UTF-8\"\n",
        "\n",
        "drive.mount('/content/drive')\n",
        "path_to_drive = \"/content/drive/MyDrive/Artefact/Projet_batch_51\"\n",
        "base_dir = \"/content/\"\n",
        "\n",
        "\n",
        "locale.getpreferredencoding = getpreferredencoding"
      ],
      "metadata": {
        "colab": {
          "base_uri": "https://localhost:8080/"
        },
        "id": "Me-UXij7xS1s",
        "outputId": "c138800c-3dc4-49a7-c976-9bdbff59e88b"
      },
      "execution_count": 3,
      "outputs": [
        {
          "output_type": "stream",
          "name": "stdout",
          "text": [
            "Drive already mounted at /content/drive; to attempt to forcibly remount, call drive.mount(\"/content/drive\", force_remount=True).\n"
          ]
        }
      ]
    },
    {
      "cell_type": "code",
      "source": [
        "! cp /content/drive/MyDrive/Artefact/Projet_batch_51/input_data/sample_data/* /content/sample_data/"
      ],
      "metadata": {
        "id": "x78rNH2DxVeb"
      },
      "execution_count": 4,
      "outputs": []
    },
    {
      "cell_type": "markdown",
      "source": [
        "#installer locallement les lib externes"
      ],
      "metadata": {
        "id": "vtAErr3kxY-n"
      }
    },
    {
      "cell_type": "code",
      "source": [
        "! cp  /content/drive/MyDrive/Artefact/Projet_batch_51/input_data/fruit_and_vegetable_detection_for_yolov8.zip /content\n",
        "! sleep 3\n",
        "#! mkdir \"/content/fruit and vegetable detection for yolov8\"\n",
        "! unzip -q -o /content/fruit_and_vegetable_detection_for_yolov8.zip -d /content/\n",
        "\n",
        "! ls /content/fruit_and_vegetable_detection_for_yolov8/train | wc -l"
      ],
      "metadata": {
        "colab": {
          "base_uri": "https://localhost:8080/"
        },
        "id": "EF6Kw0XwxrBt",
        "outputId": "e347cf55-1dd4-4aab-de54-1e6083b282b2"
      },
      "execution_count": 5,
      "outputs": [
        {
          "output_type": "stream",
          "name": "stdout",
          "text": [
            "7705\n"
          ]
        }
      ]
    },
    {
      "cell_type": "code",
      "source": [
        "! pip install -q git+https://github.com/sunsmarterjie/yolov12.git roboflow supervision flash-attn"
      ],
      "metadata": {
        "colab": {
          "base_uri": "https://localhost:8080/"
        },
        "id": "na5wshXFrD4x",
        "outputId": "0a76ed11-a54c-411d-e1b5-2b5439805e22"
      },
      "execution_count": 12,
      "outputs": [
        {
          "output_type": "stream",
          "name": "stdout",
          "text": [
            "  Installing build dependencies ... \u001b[?25l\u001b[?25hdone\n",
            "  Getting requirements to build wheel ... \u001b[?25l\u001b[?25hdone\n",
            "  Preparing metadata (pyproject.toml) ... \u001b[?25l\u001b[?25hdone\n",
            "  Building wheel for ultralytics (pyproject.toml) ... \u001b[?25l\u001b[?25hdone\n"
          ]
        }
      ]
    },
    {
      "cell_type": "code",
      "source": [
        "from ultralytics import YOLO\n",
        "model = YOLO('yolov12s.pt')"
      ],
      "metadata": {
        "colab": {
          "base_uri": "https://localhost:8080/"
        },
        "id": "Anf9_l3WBM6d",
        "outputId": "c39af7bc-25c1-4d03-be57-2035704d62c0"
      },
      "execution_count": 14,
      "outputs": [
        {
          "output_type": "stream",
          "name": "stdout",
          "text": [
            "Downloading https://github.com/sunsmarterjie/yolov12/releases/download/v1.0/yolov12s.pt to 'yolov12s.pt'...\n"
          ]
        },
        {
          "output_type": "stream",
          "name": "stderr",
          "text": [
            "100%|██████████| 18.1M/18.1M [00:00<00:00, 53.4MB/s]\n"
          ]
        }
      ]
    },
    {
      "cell_type": "code",
      "source": [
        "results = model.train(data = \"/content/fruit_and_vegetable_detection_for_yolov8/data.yaml\", epochs=200, imgsz=512,batch = 64,patience = 15,scale = 0.5,translate = 0.5,degrees = 45, augment=True, verbose = False)\n"
      ],
      "metadata": {
        "colab": {
          "base_uri": "https://localhost:8080/"
        },
        "id": "y1GZozh7xvBr",
        "outputId": "dcd50684-b2de-47b0-ac46-ac7b14b4cd87"
      },
      "execution_count": 19,
      "outputs": [
        {
          "output_type": "stream",
          "name": "stdout",
          "text": [
            "New https://pypi.org/project/ultralytics/8.3.78 available 😃 Update with 'pip install -U ultralytics'\n",
            "Ultralytics 8.3.63 🚀 Python-3.11.11 torch-2.5.1+cu124 CUDA:0 (NVIDIA L4, 22693MiB)\n",
            "\u001b[34m\u001b[1mengine/trainer: \u001b[0mtask=detect, mode=train, model=yolov12s.pt, data=/content/fruit_and_vegetable_detection_for_yolov8/data.yaml, epochs=200, time=None, patience=15, batch=64, imgsz=512, save=True, save_period=-1, cache=False, device=None, workers=8, project=None, name=train33, exist_ok=False, pretrained=True, optimizer=auto, verbose=False, seed=0, deterministic=True, single_cls=False, rect=False, cos_lr=False, close_mosaic=10, resume=False, amp=True, fraction=1.0, profile=False, freeze=None, multi_scale=False, overlap_mask=True, mask_ratio=4, dropout=0.0, val=True, split=val, save_json=False, save_hybrid=False, conf=None, iou=0.7, max_det=300, half=False, dnn=False, plots=True, source=None, vid_stride=1, stream_buffer=False, visualize=False, augment=True, agnostic_nms=False, classes=None, retina_masks=False, embed=None, show=False, save_frames=False, save_txt=False, save_conf=False, save_crop=False, show_labels=True, show_conf=True, show_boxes=True, line_width=None, format=torchscript, keras=False, optimize=False, int8=False, dynamic=False, simplify=True, opset=None, workspace=None, nms=False, lr0=0.01, lrf=0.01, momentum=0.937, weight_decay=0.0005, warmup_epochs=3.0, warmup_momentum=0.8, warmup_bias_lr=0.0, box=7.5, cls=0.5, dfl=1.5, pose=12.0, kobj=1.0, nbs=64, hsv_h=0.015, hsv_s=0.7, hsv_v=0.4, degrees=45, translate=0.5, scale=0.5, shear=0.0, perspective=0.0, flipud=0.0, fliplr=0.5, bgr=0.0, mosaic=1.0, mixup=0.0, copy_paste=0.1, copy_paste_mode=flip, auto_augment=randaugment, erasing=0.4, crop_fraction=1.0, cfg=None, tracker=botsort.yaml, save_dir=runs/detect/train33\n",
            "\n",
            "                   from  n    params  module                                       arguments                     \n",
            "  0                  -1  1       928  ultralytics.nn.modules.conv.Conv             [3, 32, 3, 2]                 \n",
            "  1                  -1  1     18560  ultralytics.nn.modules.conv.Conv             [32, 64, 3, 2]                \n",
            "  2                  -1  1     26080  ultralytics.nn.modules.block.C3k2            [64, 128, 1, False, 0.25]     \n",
            "  3                  -1  1    147712  ultralytics.nn.modules.conv.Conv             [128, 128, 3, 2]              \n",
            "  4                  -1  1    103360  ultralytics.nn.modules.block.C3k2            [128, 256, 1, False, 0.25]    \n",
            "  5                  -1  1    590336  ultralytics.nn.modules.conv.Conv             [256, 256, 3, 2]              \n",
            "  6                  -1  2    689920  ultralytics.nn.modules.block.A2C2f           [256, 256, 2, True, 4]        \n",
            "  7                  -1  1   1180672  ultralytics.nn.modules.conv.Conv             [256, 512, 3, 2]              \n",
            "  8                  -1  2   2690560  ultralytics.nn.modules.block.A2C2f           [512, 512, 2, True, 1]        \n",
            "  9                  -1  1         0  torch.nn.modules.upsampling.Upsample         [None, 2, 'nearest']          \n",
            " 10             [-1, 6]  1         0  ultralytics.nn.modules.conv.Concat           [1]                           \n",
            " 11                  -1  1    345856  ultralytics.nn.modules.block.A2C2f           [768, 256, 1, False, -1]      \n",
            " 12                  -1  1         0  torch.nn.modules.upsampling.Upsample         [None, 2, 'nearest']          \n",
            " 13             [-1, 4]  1         0  ultralytics.nn.modules.conv.Concat           [1]                           \n",
            " 14                  -1  1     95104  ultralytics.nn.modules.block.A2C2f           [512, 128, 1, False, -1]      \n",
            " 15                  -1  1    147712  ultralytics.nn.modules.conv.Conv             [128, 128, 3, 2]              \n",
            " 16            [-1, 11]  1         0  ultralytics.nn.modules.conv.Concat           [1]                           \n",
            " 17                  -1  1    296704  ultralytics.nn.modules.block.A2C2f           [384, 256, 1, False, -1]      \n",
            " 18                  -1  1    590336  ultralytics.nn.modules.conv.Conv             [256, 256, 3, 2]              \n",
            " 19             [-1, 8]  1         0  ultralytics.nn.modules.conv.Concat           [1]                           \n",
            " 20                  -1  1   1511424  ultralytics.nn.modules.block.C3k2            [768, 512, 1, True]           \n",
            " 21        [14, 17, 20]  1    824826  ultralytics.nn.modules.head.Detect           [14, [128, 256, 512]]         \n",
            "YOLOv12s summary: 465 layers, 9,260,090 parameters, 9,260,074 gradients, 21.6 GFLOPs\n",
            "\n",
            "Transferred 699/699 items from pretrained weights\n",
            "\u001b[34m\u001b[1mTensorBoard: \u001b[0mStart with 'tensorboard --logdir runs/detect/train33', view at http://localhost:6006/\n",
            "Freezing layer 'model.21.dfl.conv.weight'\n",
            "\u001b[34m\u001b[1mAMP: \u001b[0mrunning Automatic Mixed Precision (AMP) checks...\n",
            "\u001b[34m\u001b[1mAMP: \u001b[0mchecks passed ✅\n"
          ]
        },
        {
          "output_type": "stream",
          "name": "stderr",
          "text": [
            "\u001b[34m\u001b[1mtrain: \u001b[0mScanning /content/fruit_and_vegetable_detection_for_yolov8/train.cache... 3852 images, 0 backgrounds, 0 corrupt: 100%|██████████| 3852/3852 [00:00<?, ?it/s]"
          ]
        },
        {
          "output_type": "stream",
          "name": "stdout",
          "text": [
            "\u001b[34m\u001b[1malbumentations: \u001b[0mBlur(p=0.01, blur_limit=(3, 7)), MedianBlur(p=0.01, blur_limit=(3, 7)), ToGray(p=0.01, num_output_channels=3, method='weighted_average'), CLAHE(p=0.01, clip_limit=(1.0, 4.0), tile_grid_size=(8, 8))\n"
          ]
        },
        {
          "output_type": "stream",
          "name": "stderr",
          "text": [
            "\n",
            "/content/yolov12/ultralytics/data/augment.py:1853: UserWarning: Argument(s) 'quality_lower' are not valid for transform ImageCompression\n",
            "  A.ImageCompression(quality_lower=75, p=0.0),\n",
            "\u001b[34m\u001b[1mval: \u001b[0mScanning /content/fruit_and_vegetable_detection_for_yolov8/val.cache... 89 images, 1 backgrounds, 0 corrupt: 100%|██████████| 90/90 [00:00<?, ?it/s]\n"
          ]
        },
        {
          "output_type": "stream",
          "name": "stdout",
          "text": [
            "Plotting labels to runs/detect/train33/labels.jpg... \n",
            "\u001b[34m\u001b[1moptimizer:\u001b[0m 'optimizer=auto' found, ignoring 'lr0=0.01' and 'momentum=0.937' and determining best 'optimizer', 'lr0' and 'momentum' automatically... \n",
            "\u001b[34m\u001b[1moptimizer:\u001b[0m SGD(lr=0.01, momentum=0.9) with parameter groups 113 weight(decay=0.0), 120 weight(decay=0.0005), 127 bias(decay=0.0)\n",
            "\u001b[34m\u001b[1mTensorBoard: \u001b[0mWARNING ⚠️ TensorBoard graph visualization failure Tracing failed sanity checks!\n",
            "ERROR: Graphs differed across invocations!\n",
            "\tGraph diff:\n",
            "\t\t  graph(%self.1 : __torch__.ultralytics.nn.tasks.DetectionModel,\n",
            "\t\t        %x.1 : Tensor):\n",
            "\t\t    %model : __torch__.torch.nn.modules.container.Sequential = prim::GetAttr[name=\"model\"](%self.1)\n",
            "\t\t    %_21 : __torch__.ultralytics.nn.modules.head.Detect = prim::GetAttr[name=\"21\"](%model)\n",
            "\t\t    %model.43 : __torch__.torch.nn.modules.container.Sequential = prim::GetAttr[name=\"model\"](%self.1)\n",
            "\t\t    %_20 : __torch__.ultralytics.nn.modules.block.C3k2 = prim::GetAttr[name=\"20\"](%model.43)\n",
            "\t\t    %model.41 : __torch__.torch.nn.modules.container.Sequential = prim::GetAttr[name=\"model\"](%self.1)\n",
            "\t\t    %_19 : __torch__.ultralytics.nn.modules.conv.Concat = prim::GetAttr[name=\"19\"](%model.41)\n",
            "\t\t    %model.39 : __torch__.torch.nn.modules.container.Sequential = prim::GetAttr[name=\"model\"](%self.1)\n",
            "\t\t    %_18 : __torch__.ultralytics.nn.modules.conv.Conv = prim::GetAttr[name=\"18\"](%model.39)\n",
            "\t\t    %model.37 : __torch__.torch.nn.modules.container.Sequential = prim::GetAttr[name=\"model\"](%self.1)\n",
            "\t\t    %_17 : __torch__.ultralytics.nn.modules.block.A2C2f = prim::GetAttr[name=\"17\"](%model.37)\n",
            "\t\t    %model.35 : __torch__.torch.nn.modules.container.Sequential = prim::GetAttr[name=\"model\"](%self.1)\n",
            "\t\t    %_16 : __torch__.ultralytics.nn.modules.conv.Concat = prim::GetAttr[name=\"16\"](%model.35)\n",
            "\t\t    %model.33 : __torch__.torch.nn.modules.container.Sequential = prim::GetAttr[name=\"model\"](%self.1)\n",
            "\t\t    %_15 : __torch__.ultralytics.nn.modules.conv.Conv = prim::GetAttr[name=\"15\"](%model.33)\n",
            "\t\t    %model.31 : __torch__.torch.nn.modules.container.Sequential = prim::GetAttr[name=\"model\"](%self.1)\n",
            "\t\t    %_14 : __torch__.ultralytics.nn.modules.block.A2C2f = prim::GetAttr[name=\"14\"](%model.31)\n",
            "\t\t    %model.29 : __torch__.torch.nn.modules.container.Sequential = prim::GetAttr[name=\"model\"](%self.1)\n",
            "\t\t    %_13 : __torch__.ultralytics.nn.modules.conv.Concat = prim::GetAttr[name=\"13\"](%model.29)\n",
            "\t\t    %model.27 : __torch__.torch.nn.modules.container.Sequential = prim::GetAttr[name=\"model\"](%self.1)\n",
            "\t\t    %_12 : __torch__.torch.nn.modules.upsampling.Upsample = prim::GetAttr[name=\"12\"](%model.27)\n",
            "\t\t    %model.25 : __torch__.torch.nn.modules.container.Sequential = prim::GetAttr[name=\"model\"](%self.1)\n",
            "\t\t    %_11 : __torch__.ultralytics.nn.modules.block.A2C2f = prim::GetAttr[name=\"11\"](%model.25)\n",
            "\t\t    %model.23 : __torch__.torch.nn.modules.container.Sequential = prim::GetAttr[name=\"model\"](%self.1)\n",
            "\t\t    %_10 : __torch__.ultralytics.nn.modules.conv.Concat = prim::GetAttr[name=\"10\"](%model.23)\n",
            "\t\t    %model.21 : __torch__.torch.nn.modules.container.Sequential = prim::GetAttr[name=\"model\"](%self.1)\n",
            "\t\t    %_9 : __torch__.torch.nn.modules.upsampling.Upsample = prim::GetAttr[name=\"9\"](%model.21)\n",
            "\t\t    %model.19 : __torch__.torch.nn.modules.container.Sequential = prim::GetAttr[name=\"model\"](%self.1)\n",
            "\t\t    %_8 : __torch__.ultralytics.nn.modules.block.A2C2f = prim::GetAttr[name=\"8\"](%model.19)\n",
            "\t\t    %model.17 : __torch__.torch.nn.modules.container.Sequential = prim::GetAttr[name=\"model\"](%self.1)\n",
            "\t\t    %_7 : __torch__.ultralytics.nn.modules.conv.Conv = prim::GetAttr[name=\"7\"](%model.17)\n",
            "\t\t    %model.15 : __torch__.torch.nn.modules.container.Sequential = prim::GetAttr[name=\"model\"](%self.1)\n",
            "\t\t    %_6 : __torch__.ultralytics.nn.modules.block.A2C2f = prim::GetAttr[name=\"6\"](%model.15)\n",
            "\t\t    %model.13 : __torch__.torch.nn.modules.container.Sequential = prim::GetAttr[name=\"model\"](%self.1)\n",
            "\t\t    %_5 : __torch__.ultralytics.nn.modules.conv.Conv = prim::GetAttr[name=\"5\"](%model.13)\n",
            "\t\t    %model.11 : __torch__.torch.nn.modules.container.Sequential = prim::GetAttr[name=\"model\"](%self.1)\n",
            "\t\t    %_4 : __torch__.ultralytics.nn.modules.block.C3k2 = prim::GetAttr[name=\"4\"](%model.11)\n",
            "\t\t    %model.9 : __torch__.torch.nn.modules.container.Sequential = prim::GetAttr[name=\"model\"](%self.1)\n",
            "\t\t    %_3 : __torch__.ultralytics.nn.modules.conv.Conv = prim::GetAttr[name=\"3\"](%model.9)\n",
            "\t\t    %model.7 : __torch__.torch.nn.modules.container.Sequential = prim::GetAttr[name=\"model\"](%self.1)\n",
            "\t\t    %_2.3 : __torch__.ultralytics.nn.modules.block.C3k2 = prim::GetAttr[name=\"2\"](%model.7)\n",
            "\t\t    %model.5 : __torch__.torch.nn.modules.container.Sequential = prim::GetAttr[name=\"model\"](%self.1)\n",
            "\t\t    %_1.5 : __torch__.ultralytics.nn.modules.conv.Conv = prim::GetAttr[name=\"1\"](%model.5)\n",
            "\t\t    %model.3 : __torch__.torch.nn.modules.container.Sequential = prim::GetAttr[name=\"model\"](%self.1)\n",
            "\t\t    %_21.1 : __torch__.ultralytics.nn.modules.head.Detect = prim::GetAttr[name=\"21\"](%model.3)\n",
            "\t\t    %cv3.1 : __torch__.torch.nn.modules.container.ModuleList = prim::GetAttr[name=\"cv3\"](%_21.1)\n",
            "\t\t    %_2.1 : __torch__.torch.nn.modules.container.Sequential = prim::GetAttr[name=\"2\"](%cv3.1)\n",
            "\t\t    %_1.1 : __torch__.torch.nn.modules.container.Sequential = prim::GetAttr[name=\"1\"](%_2.1)\n",
            "\t\t    %_1.3 : __torch__.ultralytics.nn.modules.conv.Conv = prim::GetAttr[name=\"1\"](%_1.1)\n",
            "\t\t    %act.1 : __torch__.torch.nn.modules.activation.SiLU = prim::GetAttr[name=\"act\"](%_1.3)\n",
            "\t\t    %model.1 : __torch__.torch.nn.modules.container.Sequential = prim::GetAttr[name=\"model\"](%self.1)\n",
            "\t\t    %_0.1 : __torch__.ultralytics.nn.modules.conv.Conv = prim::GetAttr[name=\"0\"](%model.1)\n",
            "\t\t    %75 : int = prim::Constant[value=2](), scope: __module.model.0/__module.model.0.conv # /usr/local/lib/python3.11/dist-packages/torch/nn/modules/conv.py:549:0\n",
            "\t\t    %76 : int = prim::Constant[value=1](), scope: __module.model.0/__module.model.0.conv # /usr/local/lib/python3.11/dist-packages/torch/nn/modules/conv.py:549:0\n",
            "\t\t    %77 : bool = prim::Constant[value=0](), scope: __module.model.0/__module.model.0.conv # /usr/local/lib/python3.11/dist-packages/torch/nn/modules/conv.py:549:0\n",
            "\t\t    %78 : int = prim::Constant[value=0](), scope: __module.model.0/__module.model.0.conv # /usr/local/lib/python3.11/dist-packages/torch/nn/modules/conv.py:549:0\n",
            "\t\t    %79 : bool = prim::Constant[value=1](), scope: __module.model.0/__module.model.0.conv # /usr/local/lib/python3.11/dist-packages/torch/nn/modules/conv.py:549:0\n",
            "\t\t    %conv.1 : __torch__.torch.nn.modules.conv.Conv2d = prim::GetAttr[name=\"conv\"](%_0.1)\n",
            "\t\t    %bias.239 : Tensor = prim::GetAttr[name=\"bias\"](%conv.1)\n",
            "\t\t    %weight.241 : Tensor = prim::GetAttr[name=\"weight\"](%conv.1)\n",
            "\t\t    %83 : int[] = prim::ListConstruct(%75, %75), scope: __module.model.0/__module.model.0.conv\n",
            "\t\t    %84 : int[] = prim::ListConstruct(%76, %76), scope: __module.model.0/__module.model.0.conv\n",
            "\t\t    %85 : int[] = prim::ListConstruct(%76, %76), scope: __module.model.0/__module.model.0.conv\n",
            "\t\t    %86 : int[] = prim::ListConstruct(%78, %78), scope: __module.model.0/__module.model.0.conv\n",
            "\t\t    %input.1 : Tensor = aten::_convolution(%x.1, %weight.241, %bias.239, %83, %84, %85, %77, %86, %76, %77, %79, %79, %79), scope: __module.model.0/__module.model.0.conv # /usr/local/lib/python3.11/dist-packages/torch/nn/modules/conv.py:549:0\n",
            "\t\t    %input.3 : Tensor = aten::silu_(%input.1), scope: __module.model.0/__module.model.21.cv3.2.1.1.act # /usr/local/lib/python3.11/dist-packages/torch/nn/functional.py:2379:0\n",
            "\t\t    %89 : int = prim::Constant[value=2](), scope: __module.model.1/__module.model.1.conv # /usr/local/lib/python3.11/dist-packages/torch/nn/modules/conv.py:549:0\n",
            "\t\t    %90 : int = prim::Constant[value=1](), scope: __module.model.1/__module.model.1.conv # /usr/local/lib/python3.11/dist-packages/torch/nn/modules/conv.py:549:0\n",
            "\t\t    %91 : bool = prim::Constant[value=0](), scope: __module.model.1/__module.model.1.conv # /usr/local/lib/python3.11/dist-packages/torch/nn/modules/conv.py:549:0\n",
            "\t\t    %92 : int = prim::Constant[value=0](), scope: __module.model.1/__module.model.1.conv # /usr/local/lib/python3.11/dist-packages/torch/nn/modules/conv.py:549:0\n",
            "\t\t    %93 : bool = prim::Constant[value=1](), scope: __module.model.1/__module.model.1.conv # /usr/local/lib/python3.11/dist-packages/torch/nn/modules/conv.py:549:0\n",
            "\t\t    %conv.3 : __torch__.torch.nn.modules.conv.Conv2d = prim::GetAttr[name=\"conv\"](%_1.5)\n",
            "\t\t    %bias.241 : Tensor = prim::GetAttr[name=\"bias\"](%conv.3)\n",
            "\t\t    %weight.243 : Tensor = prim::GetAttr[name=\"weight\"](%conv.3)\n",
            "\t\t    %97 : int[] = prim::ListConstruct(%89, %89), scope: __module.model.1/__module.model.1.conv\n",
            "\t\t    %98 : int[] = prim::ListConstruct(%90, %90), scope: __module.model.1/__module.model.1.conv\n",
            "\t\t    %99 : int[] = prim::ListConstruct(%90, %90), scope: __module.model.1/__module.model.1.conv\n",
            "\t\t    %100 : int[] = prim::ListConstruct(%92, %92), scope: __module.model.1/__module.model.1.conv\n",
            "\t\t    %input.5 : Tensor = aten::_convolution(%input.3, %weight.243, %bias.241, %97, %98, %99, %91, %100, %90, %91, %93, %93, %93), scope: __module.model.1/__module.model.1.conv # /usr/local/lib/python3.11/dist-packages/torch/nn/modules/conv.py:549:0\n",
            "\t\t    %input.7 : Tensor = aten::silu_(%input.5), scope: __module.model.1/__module.model.21.cv3.2.1.1.act # /usr/local/lib/python3.11/dist-packages/torch/nn/functional.py:2379:0\n",
            "\t\t    %103 : int = prim::Constant[value=2](), scope: __module.model.2 # /content/yolov12/ultralytics/nn/modules/block.py:238:0\n",
            "\t\t    %104 : bool = prim::Constant[value=1](), scope: __module.model.2/__module.model.2.cv1/__module.model.2.cv1.conv # /usr/local/lib/python3.11/dist-packages/torch/nn/modules/conv.py:549:0\n",
            "\t\t    %105 : bool = prim::Constant[value=0](), scope: __module.model.2/__module.model.2.cv1/__module.model.2.cv1.conv # /usr/local/lib/python3.11/dist-packages/torch/nn/modules/conv.py:549:0\n",
            "\t\t    %106 : int = prim::Constant[value=0](), scope: __module.model.2/__module.model.2.cv1/__module.model.2.cv1.conv # /usr/local/lib/python3.11/dist-packages/torch/nn/modules/conv.py:549:0\n",
            "\t\t    %107 : int = prim::Constant[value=1](), scope: __module.model.2/__module.model.2.cv1/__module.model.2.cv1.conv # /usr/local/lib/python3.11/dist-packages/torch/nn/modules/conv.py:549:0\n",
            "\t\t    %cv2.3 : __torch__.ultralytics.nn.modules.conv.Conv = prim::GetAttr[name=\"cv2\"](%_2.3)\n",
            "\t\t    %m.1 : __torch__.torch.nn.modules.container.ModuleList = prim::GetAttr[name=\"m\"](%_2.3)\n",
            "\t\t    %_0.3 : __torch__.ultralytics.nn.modules.block.Bottleneck = prim::GetAttr[name=\"0\"](%m.1)\n",
            "\t\t    %cv1.1 : __torch__.ultralytics.nn.modules.conv.Conv = prim::GetAttr[name=\"cv1\"](%_2.3)\n",
            "\t\t    %conv.5 : __torch__.torch.nn.modules.conv.Conv2d = prim::GetAttr[name=\"conv\"](%cv1.1)\n",
            "\t\t    %bias.243 : Tensor = prim::GetAttr[name=\"bias\"](%conv.5)\n",
            "\t\t    %weight.245 : Tensor = prim::GetAttr[name=\"weight\"](%conv.5)\n",
            "\t\t    %115 : int[] = prim::ListConstruct(%107, %107), scope: __module.model.2/__module.model.2.cv1/__module.model.2.cv1.conv\n",
            "\t\t    %116 : int[] = prim::ListConstruct(%106, %106), scope: __module.model.2/__module.model.2.cv1/__module.model.2.cv1.conv\n",
            "\t\t    %117 : int[] = prim::ListConstruct(%107, %107), scope: __module.model.2/__module.model.2.cv1/__module.model.2.cv1.conv\n",
            "\t\t    %118 : int[] = prim::ListConstruct(%106, %106), scope: __module.model.2/__module.model.2.cv1/__module.model.2.cv1.conv\n",
            "\t\t    %input.9 : Tensor = aten::_convolution(%input.7, %weight.245, %bias.243, %115, %116, %117, %105, %118, %107, %105, %104, %104, %104), scope: __module.model.2/__module.model.2.cv1/__module.model.2.cv1.conv # /usr/local/lib/python3.11/dist-packages/torch/nn/modules/conv.py:549:0\n",
            "\t\t    %120 : Tensor = aten::silu_(%input.9), scope: __module.model.2/__module.model.2.cv1/__module.model.21.cv3.2.1.1.act # /usr/local/lib/python3.11/dist-packages/torch/nn/functional.py:2379:0\n",
            "\t\t    %121 : Tensor[] = aten::chunk(%120, %103, %107), scope: __module.model.2 # /content/yolov12/ultralytics/nn/modules/block.py:238:0\n",
            "\t\t    %122 : Tensor, %input.11 : Tensor = prim::ListUnpack(%121), scope: __module.model.2\n",
            "\t\t    %cv2.1 : __torch__.ultralytics.nn.modules.conv.Conv = prim::GetAttr[name=\"cv2\"](%_0.3)\n",
            "\t\t    %cv1.3 : __torch__.ultralytics.nn.modules.conv.Conv = prim::GetAttr[name=\"cv1\"](%_0.3)\n",
            "\t\t    %conv.7 : __torch__.torch.nn.modules.conv.Conv2d = prim::GetAttr[name=\"conv\"](%cv1.3)\n",
            "\t\t    %bias.245 : Tensor = prim::GetAttr[name=\"bias\"](%conv.7)\n",
            "\t\t    %weight.247 : Tensor = prim::GetAttr[name=\"weight\"](%conv.7)\n",
            "\t\t    %129 : int[] = prim::ListConstruct(%107, %107), scope: __module.model.2/__module.model.2.m.0/__module.model.2.m.0.cv1/__module.model.2.m.0.cv1.conv\n",
            "\t\t    %130 : int[] = prim::ListConstruct(%107, %107), scope: __module.model.2/__module.model.2.m.0/__module.model.2.m.0.cv1/__module.model.2.m.0.cv1.conv\n",
            "\t\t    %131 : int[] = prim::ListConstruct(%107, %107), scope: __module.model.2/__module.model.2.m.0/__module.model.2.m.0.cv1/__module.model.2.m.0.cv1.conv\n",
            "\t\t    %132 : int[] = prim::ListConstruct(%106, %106), scope: __module.model.2/__module.model.2.m.0/__module.model.2.m.0.cv1/__module.model.2.m.0.cv1.conv\n",
            "\t\t    %input.13 : Tensor = aten::_convolution(%input.11, %weight.247, %bias.245, %129, %130, %131, %105, %132, %107, %105, %104, %104, %104), scope: __module.model.2/__module.model.2.m.0/__module.model.2.m.0.cv1/__module.model.2.m.0.cv1.conv # /usr/local/lib/python3.11/dist-packages/torch/nn/modules/conv.py:549:0\n",
            "\t\t    %input.15 : Tensor = aten::silu_(%input.13), scope: __module.model.2/__module.model.2.m.0/__module.model.2.m.0.cv1/__module.model.21.cv3.2.1.1.act # /usr/local/lib/python3.11/dist-packages/torch/nn/functional.py:2379:0\n",
            "\t\t    %conv.9 : __torch__.torch.nn.modules.conv.Conv2d = prim::GetAttr[name=\"conv\"](%cv2.1)\n",
            "\t\t    %bias.247 : Tensor = prim::GetAttr[name=\"bias\"](%conv.9)\n",
            "\t\t    %weight.249 : Tensor = prim::GetAttr[name=\"weight\"](%conv.9)\n",
            "\t\t    %138 : int[] = prim::ListConstruct(%107, %107), scope: __module.model.2/__module.model.2.m.0/__module.model.2.m.0.cv2/__module.model.2.m.0.cv2.conv\n",
            "\t\t    %139 : int[] = prim::ListConstruct(%107, %107), scope: __module.model.2/__module.model.2.m.0/__module.model.2.m.0.cv2/__module.model.2.m.0.cv2.conv\n",
            "\t\t    %140 : int[] = prim::ListConstruct(%107, %107), scope: __module.model.2/__module.model.2.m.0/__module.model.2.m.0.cv2/__module.model.2.m.0.cv2.conv\n",
            "\t\t    %141 : int[] = prim::ListConstruct(%106, %106), scope: __module.model.2/__module.model.2.m.0/__module.model.2.m.0.cv2/__module.model.2.m.0.cv2.conv\n",
            "\t\t    %input.17 : Tensor = aten::_convolution(%input.15, %weight.249, %bias.247, %138, %139, %140, %105, %141, %107, %105, %104, %104, %104), scope: __module.model.2/__module.model.2.m.0/__module.model.2.m.0.cv2/__module.model.2.m.0.cv2.conv # /usr/local/lib/python3.11/dist-packages/torch/nn/modules/conv.py:549:0\n",
            "\t\t    %143 : Tensor = aten::silu_(%input.17), scope: __module.model.2/__module.model.2.m.0/__module.model.2.m.0.cv2/__module.model.21.cv3.2.1.1.act # /usr/local/lib/python3.11/dist-packages/torch/nn/functional.py:2379:0\n",
            "\t\t    %144 : Tensor = aten::add(%input.11, %143, %107), scope: __module.model.2/__module.model.2.m.0 # /content/yolov12/ultralytics/nn/modules/block.py:348:0\n",
            "\t\t    %145 : Tensor[] = prim::ListConstruct(%122, %input.11, %144), scope: __module.model.2\n",
            "\t\t    %input.19 : Tensor = aten::cat(%145, %107), scope: __module.model.2 # /content/yolov12/ultralytics/nn/modules/block.py:240:0\n",
            "\t\t    %conv.11 : __torch__.torch.nn.modules.conv.Conv2d = prim::GetAttr[name=\"conv\"](%cv2.3)\n",
            "\t\t    %bias.249 : Tensor = prim::GetAttr[name=\"bias\"](%conv.11)\n",
            "\t\t    %weight.251 : Tensor = prim::GetAttr[name=\"weight\"](%conv.11)\n",
            "\t\t    %150 : int[] = prim::ListConstruct(%107, %107), scope: __module.model.2/__module.model.2.cv2/__module.model.2.cv2.conv\n",
            "\t\t    %151 : int[] = prim::ListConstruct(%106, %106), scope: __module.model.2/__module.model.2.cv2/__module.model.2.cv2.conv\n",
            "\t\t    %152 : int[] = prim::ListConstruct(%107, %107), scope: __module.model.2/__module.model.2.cv2/__module.model.2.cv2.conv\n",
            "\t\t    %153 : int[] = prim::ListConstruct(%106, %106), scope: __module.model.2/__module.model.2.cv2/__module.model.2.cv2.conv\n",
            "\t\t    %input.21 : Tensor = aten::_convolution(%input.19, %weight.251, %bias.249, %150, %151, %152, %105, %153, %107, %105, %104, %104, %104), scope: __module.model.2/__module.model.2.cv2/__module.model.2.cv2.conv # /usr/local/lib/python3.11/dist-packages/torch/nn/modules/conv.py:549:0\n",
            "\t\t    %input.23 : Tensor = aten::silu_(%input.21), scope: __module.model.2/__module.model.2.cv2/__module.model.21.cv3.2.1.1.act # /usr/local/lib/python3.11/dist-packages/torch/nn/functional.py:2379:0\n",
            "\t\t    %156 : int = prim::Constant[value=2](), scope: __module.model.3/__module.model.3.conv # /usr/local/lib/python3.11/dist-packages/torch/nn/modules/conv.py:549:0\n",
            "\t\t    %157 : int = prim::Constant[value=1](), scope: __module.model.3/__module.model.3.conv # /usr/local/lib/python3.11/dist-packages/torch/nn/modules/conv.py:549:0\n",
            "\t\t    %158 : bool = prim::Constant[value=0](), scope: __module.model.3/__module.model.3.conv # /usr/local/lib/python3.11/dist-packages/torch/nn/modules/conv.py:549:0\n",
            "\t\t    %159 : int = prim::Constant[value=0](), scope: __module.model.3/__module.model.3.conv # /usr/local/lib/python3.11/dist-packages/torch/nn/modules/conv.py:549:0\n",
            "\t\t    %160 : bool = prim::Constant[value=1](), scope: __module.model.3/__module.model.3.conv # /usr/local/lib/python3.11/dist-packages/torch/nn/modules/conv.py:549:0\n",
            "\t\t    %conv.13 : __torch__.torch.nn.modules.conv.Conv2d = prim::GetAttr[name=\"conv\"](%_3)\n",
            "\t\t    %bias.251 : Tensor = prim::GetAttr[name=\"bias\"](%conv.13)\n",
            "\t\t    %weight.253 : Tensor = prim::GetAttr[name=\"weight\"](%conv.13)\n",
            "\t\t    %164 : int[] = prim::ListConstruct(%156, %156), scope: __module.model.3/__module.model.3.conv\n",
            "\t\t    %165 : int[] = prim::ListConstruct(%157, %157), scope: __module.model.3/__module.model.3.conv\n",
            "\t\t    %166 : int[] = prim::ListConstruct(%157, %157), scope: __module.model.3/__module.model.3.conv\n",
            "\t\t    %167 : int[] = prim::ListConstruct(%159, %159), scope: __module.model.3/__module.model.3.conv\n",
            "\t\t    %input.25 : Tensor = aten::_convolution(%input.23, %weight.253, %bias.251, %164, %165, %166, %158, %167, %157, %158, %160, %160, %160), scope: __module.model.3/__module.model.3.conv # /usr/local/lib/python3.11/dist-packages/torch/nn/modules/conv.py:549:0\n",
            "\t\t    %input.27 : Tensor = aten::silu_(%input.25), scope: __module.model.3/__module.model.21.cv3.2.1.1.act # /usr/local/lib/python3.11/dist-packages/torch/nn/functional.py:2379:0\n",
            "\t\t    %170 : int = prim::Constant[value=2](), scope: __module.model.4 # /content/yolov12/ultralytics/nn/modules/block.py:238:0\n",
            "\t\t    %171 : bool = prim::Constant[value=1](), scope: __module.model.4/__module.model.4.cv1/__module.model.4.cv1.conv # /usr/local/lib/python3.11/dist-packages/torch/nn/modules/conv.py:549:0\n",
            "\t\t    %172 : bool = prim::Constant[value=0](), scope: __module.model.4/__module.model.4.cv1/__module.model.4.cv1.conv # /usr/local/lib/python3.11/dist-packages/torch/nn/modules/conv.py:549:0\n",
            "\t\t    %173 : int = prim::Constant[value=0](), scope: __module.model.4/__module.model.4.cv1/__module.model.4.cv1.conv # /usr/local/lib/python3.11/dist-packages/torch/nn/modules/conv.py:549:0\n",
            "\t\t    %174 : int = prim::Constant[value=1](), scope: __module.model.4/__module.model.4.cv1/__module.model.4.cv1.conv # /usr/local/lib/python3.11/dist-packages/torch/nn/modules/conv.py:549:0\n",
            "\t\t    %cv2.7 : __torch__.ultralytics.nn.modules.conv.Conv = prim::GetAttr[name=\"cv2\"](%_4)\n",
            "\t\t    %m.3 : __torch__.torch.nn.modules.container.ModuleList = prim::GetAttr[name=\"m\"](%_4)\n",
            "\t\t    %_0.5 : __torch__.ultralytics.nn.modules.block.Bottleneck = prim::GetAttr[name=\"0\"](%m.3)\n",
            "\t\t    %cv1.5 : __torch__.ultralytics.nn.modules.conv.Conv = prim::GetAttr[name=\"cv1\"](%_4)\n",
            "\t\t    %conv.15 : __torch__.torch.nn.modules.conv.Conv2d = prim::GetAttr[name=\"conv\"](%cv1.5)\n",
            "\t\t    %bias.253 : Tensor = prim::GetAttr[name=\"bias\"](%conv.15)\n",
            "\t\t    %weight.255 : Tensor = prim::GetAttr[name=\"weight\"](%conv.15)\n",
            "\t\t    %182 : int[] = prim::ListConstruct(%174, %174), scope: __module.model.4/__module.model.4.cv1/__module.model.4.cv1.conv\n",
            "\t\t    %183 : int[] = prim::ListConstruct(%173, %173), scope: __module.model.4/__module.model.4.cv1/__module.model.4.cv1.conv\n",
            "\t\t    %184 : int[] = prim::ListConstruct(%174, %174), scope: __module.model.4/__module.model.4.cv1/__module.model.4.cv1.conv\n",
            "\t\t    %185 : int[] = prim::ListConstruct(%173, %173), scope: __module.model.4/__module.model.4.cv1/__module.model.4.cv1.conv\n",
            "\t\t    %input.29 : Tensor = aten::_convolution(%input.27, %weight.255, %bias.253, %182, %183, %184, %172, %185, %174, %172, %171, %171, %171), scope: __module.model.4/__module.model.4.cv1/__module.model.4.cv1.conv # /usr/local/lib/python3.11/dist-packages/torch/nn/modules/conv.py:549:0\n",
            "\t\t    %187 : Tensor = aten::silu_(%input.29), scope: __module.model.4/__module.model.4.cv1/__module.model.21.cv3.2.1.1.act # /usr/local/lib/python3.11/dist-packages/torch/nn/functional.py:2379:0\n",
            "\t\t    %188 : Tensor[] = aten::chunk(%187, %170, %174), scope: __module.model.4 # /content/yolov12/ultralytics/nn/modules/block.py:238:0\n",
            "\t\t    %189 : Tensor, %input.31 : Tensor = prim::ListUnpack(%188), scope: __module.model.4\n",
            "\t\t    %cv2.5 : __torch__.ultralytics.nn.modules.conv.Conv = prim::GetAttr[name=\"cv2\"](%_0.5)\n",
            "\t\t    %cv1.7 : __torch__.ultralytics.nn.modules.conv.Conv = prim::GetAttr[name=\"cv1\"](%_0.5)\n",
            "\t\t    %conv.17 : __torch__.torch.nn.modules.conv.Conv2d = prim::GetAttr[name=\"conv\"](%cv1.7)\n",
            "\t\t    %bias.255 : Tensor = prim::GetAttr[name=\"bias\"](%conv.17)\n",
            "\t\t    %weight.257 : Tensor = prim::GetAttr[name=\"weight\"](%conv.17)\n",
            "\t\t    %196 : int[] = prim::ListConstruct(%174, %174), scope: __module.model.4/__module.model.4.m.0/__module.model.4.m.0.cv1/__module.model.4.m.0.cv1.conv\n",
            "\t\t    %197 : int[] = prim::ListConstruct(%174, %174), scope: __module.model.4/__module.model.4.m.0/__module.model.4.m.0.cv1/__module.model.4.m.0.cv1.conv\n",
            "\t\t    %198 : int[] = prim::ListConstruct(%174, %174), scope: __module.model.4/__module.model.4.m.0/__module.model.4.m.0.cv1/__module.model.4.m.0.cv1.conv\n",
            "\t\t    %199 : int[] = prim::ListConstruct(%173, %173), scope: __module.model.4/__module.model.4.m.0/__module.model.4.m.0.cv1/__module.model.4.m.0.cv1.conv\n",
            "\t\t    %input.33 : Tensor = aten::_convolution(%input.31, %weight.257, %bias.255, %196, %197, %198, %172, %199, %174, %172, %171, %171, %171), scope: __module.model.4/__module.model.4.m.0/__module.model.4.m.0.cv1/__module.model.4.m.0.cv1.conv # /usr/local/lib/python3.11/dist-packages/torch/nn/modules/conv.py:549:0\n",
            "\t\t    %input.35 : Tensor = aten::silu_(%input.33), scope: __module.model.4/__module.model.4.m.0/__module.model.4.m.0.cv1/__module.model.21.cv3.2.1.1.act # /usr/local/lib/python3.11/dist-packages/torch/nn/functional.py:2379:0\n",
            "\t\t    %conv.19 : __torch__.torch.nn.modules.conv.Conv2d = prim::GetAttr[name=\"conv\"](%cv2.5)\n",
            "\t\t    %bias.257 : Tensor = prim::GetAttr[name=\"bias\"](%conv.19)\n",
            "\t\t    %weight.259 : Tensor = prim::GetAttr[name=\"weight\"](%conv.19)\n",
            "\t\t    %205 : int[] = prim::ListConstruct(%174, %174), scope: __module.model.4/__module.model.4.m.0/__module.model.4.m.0.cv2/__module.model.4.m.0.cv2.conv\n",
            "\t\t    %206 : int[] = prim::ListConstruct(%174, %174), scope: __module.model.4/__module.model.4.m.0/__module.model.4.m.0.cv2/__module.model.4.m.0.cv2.conv\n",
            "\t\t    %207 : int[] = prim::ListConstruct(%174, %174), scope: __module.model.4/__module.model.4.m.0/__module.model.4.m.0.cv2/__module.model.4.m.0.cv2.conv\n",
            "\t\t    %208 : int[] = prim::ListConstruct(%173, %173), scope: __module.model.4/__module.model.4.m.0/__module.model.4.m.0.cv2/__module.model.4.m.0.cv2.conv\n",
            "\t\t    %input.37 : Tensor = aten::_convolution(%input.35, %weight.259, %bias.257, %205, %206, %207, %172, %208, %174, %172, %171, %171, %171), scope: __module.model.4/__module.model.4.m.0/__module.model.4.m.0.cv2/__module.model.4.m.0.cv2.conv # /usr/local/lib/python3.11/dist-packages/torch/nn/modules/conv.py:549:0\n",
            "\t\t    %210 : Tensor = aten::silu_(%input.37), scope: __module.model.4/__module.model.4.m.0/__module.model.4.m.0.cv2/__module.model.21.cv3.2.1.1.act # /usr/local/lib/python3.11/dist-packages/torch/nn/functional.py:2379:0\n",
            "\t\t    %211 : Tensor = aten::add(%input.31, %210, %174), scope: __module.model.4/__module.model.4.m.0 # /content/yolov12/ultralytics/nn/modules/block.py:348:0\n",
            "\t\t    %212 : Tensor[] = prim::ListConstruct(%189, %input.31, %211), scope: __module.model.4\n",
            "\t\t    %input.39 : Tensor = aten::cat(%212, %174), scope: __module.model.4 # /content/yolov12/ultralytics/nn/modules/block.py:240:0\n",
            "\t\t    %conv.21 : __torch__.torch.nn.modules.conv.Conv2d = prim::GetAttr[name=\"conv\"](%cv2.7)\n",
            "\t\t    %bias.259 : Tensor = prim::GetAttr[name=\"bias\"](%conv.21)\n",
            "\t\t    %weight.261 : Tensor = prim::GetAttr[name=\"weight\"](%conv.21)\n",
            "\t\t    %217 : int[] = prim::ListConstruct(%174, %174), scope: __module.model.4/__module.model.4.cv2/__module.model.4.cv2.conv\n",
            "\t\t    %218 : int[] = prim::ListConstruct(%173, %173), scope: __module.model.4/__module.model.4.cv2/__module.model.4.cv2.conv\n",
            "\t\t    %219 : int[] = prim::ListConstruct(%174, %174), scope: __module.model.4/__module.model.4.cv2/__module.model.4.cv2.conv\n",
            "\t\t    %220 : int[] = prim::ListConstruct(%173, %173), scope: __module.model.4/__module.model.4.cv2/__module.model.4.cv2.conv\n",
            "\t\t    %input.41 : Tensor = aten::_convolution(%input.39, %weight.261, %bias.259, %217, %218, %219, %172, %220, %174, %172, %171, %171, %171), scope: __module.model.4/__module.model.4.cv2/__module.model.4.cv2.conv # /usr/local/lib/python3.11/dist-packages/torch/nn/modules/conv.py:549:0\n",
            "\t\t    %input.43 : Tensor = aten::silu_(%input.41), scope: __module.model.4/__module.model.4.cv2/__module.model.21.cv3.2.1.1.act # /usr/local/lib/python3.11/dist-packages/torch/nn/functional.py:2379:0\n",
            "\t\t    %223 : int = prim::Constant[value=2](), scope: __module.model.5/__module.model.5.conv # /usr/local/lib/python3.11/dist-packages/torch/nn/modules/conv.py:549:0\n",
            "\t\t    %224 : int = prim::Constant[value=1](), scope: __module.model.5/__module.model.5.conv # /usr/local/lib/python3.11/dist-packages/torch/nn/modules/conv.py:549:0\n",
            "\t\t    %225 : bool = prim::Constant[value=0](), scope: __module.model.5/__module.model.5.conv # /usr/local/lib/python3.11/dist-packages/torch/nn/modules/conv.py:549:0\n",
            "\t\t    %226 : int = prim::Constant[value=0](), scope: __module.model.5/__module.model.5.conv # /usr/local/lib/python3.11/dist-packages/torch/nn/modules/conv.py:549:0\n",
            "\t\t    %227 : bool = prim::Constant[value=1](), scope: __module.model.5/__module.model.5.conv # /usr/local/lib/python3.11/dist-packages/torch/nn/modules/conv.py:549:0\n",
            "\t\t    %conv.23 : __torch__.torch.nn.modules.conv.Conv2d = prim::GetAttr[name=\"conv\"](%_5)\n",
            "\t\t    %bias.261 : Tensor = prim::GetAttr[name=\"bias\"](%conv.23)\n",
            "\t\t    %weight.263 : Tensor = prim::GetAttr[name=\"weight\"](%conv.23)\n",
            "\t\t    %231 : int[] = prim::ListConstruct(%223, %223), scope: __module.model.5/__module.model.5.conv\n",
            "\t\t    %232 : int[] = prim::ListConstruct(%224, %224), scope: __module.model.5/__module.model.5.conv\n",
            "\t\t    %233 : int[] = prim::ListConstruct(%224, %224), scope: __module.model.5/__module.model.5.conv\n",
            "\t\t    %234 : int[] = prim::ListConstruct(%226, %226), scope: __module.model.5/__module.model.5.conv\n",
            "\t\t    %input.45 : Tensor = aten::_convolution(%input.43, %weight.263, %bias.261, %231, %232, %233, %225, %234, %224, %225, %227, %227, %227), scope: __module.model.5/__module.model.5.conv # /usr/local/lib/python3.11/dist-packages/torch/nn/modules/conv.py:549:0\n",
            "\t\t    %input.47 : Tensor = aten::silu_(%input.45), scope: __module.model.5/__module.model.21.cv3.2.1.1.act # /usr/local/lib/python3.11/dist-packages/torch/nn/functional.py:2379:0\n",
            "\t\t    %237 : int = prim::Constant[value=2](), scope: __module.model.6/__module.model.6.m.0/__module.model.6.m.0.0/__module.model.6.m.0.0.attn # /content/yolov12/ultralytics/nn/modules/block.py:1219:0\n",
            "\t\t    %238 : int = prim::Constant[value=3](), scope: __module.model.6/__module.model.6.m.0/__module.model.6.m.0.0/__module.model.6.m.0.0.attn # /content/yolov12/ultralytics/nn/modules/block.py:1219:0\n",
            "\t\t    %239 : int = prim::Constant[value=-1](), scope: __module.model.6/__module.model.6.m.0/__module.model.6.m.0.0/__module.model.6.m.0.0.attn # /content/yolov12/ultralytics/nn/modules/block.py:1222:0\n",
            "\t\t    %240 : Tensor = prim::Constant[value={4}](), scope: __module.model.6/__module.model.6.m.0/__module.model.6.m.0.0/__module.model.6.m.0.0.attn # /content/yolov12/ultralytics/nn/modules/block.py:1224:0\n",
            "\t\t    %241 : Tensor = prim::Constant[value={3}](), scope: __module.model.6/__module.model.6.m.0/__module.model.6.m.0.0/__module.model.6.m.0.0.attn # /content/yolov12/ultralytics/nn/modules/block.py:1224:0\n",
            "\t\t    %242 : int = prim::Constant[value=4](), scope: __module.model.6/__module.model.6.m.0/__module.model.6.m.0.0/__module.model.6.m.0.0.attn # /content/yolov12/ultralytics/nn/modules/block.py:1226:0\n",
            "\t\t    %243 : int = prim::Constant[value=96](), scope: __module.model.6/__module.model.6.m.0/__module.model.6.m.0.0/__module.model.6.m.0.0.attn # /content/yolov12/ultralytics/nn/modules/block.py:1226:0\n",
            "\t\t    %244 : int = prim::Constant[value=32](), scope: __module.model.6/__module.model.6.m.0/__module.model.6.m.0.0/__module.model.6.m.0.0.attn # /usr/local/lib/python3.11/dist-packages/torch/_tensor.py:983:0\n",
            "\t\t    %245 : int = prim::Constant[value=5](), scope: __module.model.6/__module.model.6.m.0/__module.model.6.m.0.0/__module.model.6.m.0.0.attn # /content/yolov12/ultralytics/nn/modules/block.py:1232:0\n",
            "\t\t    %246 : NoneType = prim::Constant(), scope: __module.model.6/__module.model.6.m.0/__module.model.6.m.0.0/__module.model.6.m.0.0.attn\n",
            "\t\t    %247 : int = prim::Constant[value=6](), scope: __module.model.6/__module.model.6.m.0/__module.model.6.m.0.0/__module.model.6.m.0.0.attn # /content/yolov12/ultralytics/nn/modules/block.py:1235:0\n",
            "\t\t    %248 : int = prim::Constant[value=128](), scope: __module.model.6/__module.model.6.m.0/__module.model.6.m.0.0/__module.model.6.m.0.0.attn/__module.model.6.m.0.0.attn.pe/__module.model.6.m.0.0.attn.pe.conv # /usr/local/lib/python3.11/dist-packages/torch/nn/modules/conv.py:549:0\n",
            "\t\t    %249 : bool = prim::Constant[value=1](), scope: __module.model.6/__module.model.6.cv1/__module.model.6.cv1.conv # /usr/local/lib/python3.11/dist-packages/torch/nn/modules/conv.py:549:0\n",
            "\t\t    %250 : bool = prim::Constant[value=0](), scope: __module.model.6/__module.model.6.cv1/__module.model.6.cv1.conv # /usr/local/lib/python3.11/dist-packages/torch/nn/modules/conv.py:549:0\n",
            "\t\t    %251 : int = prim::Constant[value=0](), scope: __module.model.6/__module.model.6.cv1/__module.model.6.cv1.conv # /usr/local/lib/python3.11/dist-packages/torch/nn/modules/conv.py:549:0\n",
            "\t\t    %252 : int = prim::Constant[value=1](), scope: __module.model.6/__module.model.6.cv1/__module.model.6.cv1.conv # /usr/local/lib/python3.11/dist-packages/torch/nn/modules/conv.py:549:0\n",
            "\t\t    %cv2.9 : __torch__.ultralytics.nn.modules.conv.Conv = prim::GetAttr[name=\"cv2\"](%_6)\n",
            "\t\t    %m.7 : __torch__.torch.nn.modules.container.ModuleList = prim::GetAttr[name=\"m\"](%_6)\n",
            "\t\t    %_1.19 : __torch__.torch.nn.modules.container.Sequential = prim::GetAttr[name=\"1\"](%m.7)\n",
            "\t\t    %m.5 : __torch__.torch.nn.modules.container.ModuleList = prim::GetAttr[name=\"m\"](%_6)\n",
            "\t\t    %_0.13 : __torch__.torch.nn.modules.container.Sequential = prim::GetAttr[name=\"0\"](%m.5)\n",
            "\t\t    %cv1.9 : __torch__.ultralytics.nn.modules.conv.Conv = prim::GetAttr[name=\"cv1\"](%_6)\n",
            "\t\t    %conv.25 : __torch__.torch.nn.modules.conv.Conv2d = prim::GetAttr[name=\"conv\"](%cv1.9)\n",
            "\t\t    %bias.263 : Tensor = prim::GetAttr[name=\"bias\"](%conv.25)\n",
            "\t\t    %weight.265 : Tensor = prim::GetAttr[name=\"weight\"](%conv.25)\n",
            "\t\t    %262 : int[] = prim::ListConstruct(%252, %252), scope: __module.model.6/__module.model.6.cv1/__module.model.6.cv1.conv\n",
            "\t\t    %263 : int[] = prim::ListConstruct(%251, %251), scope: __module.model.6/__module.model.6.cv1/__module.model.6.cv1.conv\n",
            "\t\t    %264 : int[] = prim::ListConstruct(%252, %252), scope: __module.model.6/__module.model.6.cv1/__module.model.6.cv1.conv\n",
            "\t\t    %265 : int[] = prim::ListConstruct(%251, %251), scope: __module.model.6/__module.model.6.cv1/__module.model.6.cv1.conv\n",
            "\t\t    %input.49 : Tensor = aten::_convolution(%input.47, %weight.265, %bias.263, %262, %263, %264, %250, %265, %252, %250, %249, %249, %249), scope: __module.model.6/__module.model.6.cv1/__module.model.6.cv1.conv # /usr/local/lib/python3.11/dist-packages/torch/nn/modules/conv.py:549:0\n",
            "\t\t    %x.3 : Tensor = aten::silu_(%input.49), scope: __module.model.6/__module.model.6.cv1/__module.model.21.cv3.2.1.1.act # /usr/local/lib/python3.11/dist-packages/torch/nn/functional.py:2379:0\n",
            "\t\t    %_1.11 : __torch__.ultralytics.nn.modules.block.ABlock = prim::GetAttr[name=\"1\"](%_0.13)\n",
            "\t\t    %_0.9 : __torch__.ultralytics.nn.modules.block.ABlock = prim::GetAttr[name=\"0\"](%_0.13)\n",
            "\t\t    %mlp.1 : __torch__.torch.nn.modules.container.Sequential = prim::GetAttr[name=\"mlp\"](%_0.9)\n",
            "\t\t    %attn.1 : __torch__.ultralytics.nn.modules.block.AAttn = prim::GetAttr[name=\"attn\"](%_0.9)\n",
            "\t\t    %proj.1 : __torch__.ultralytics.nn.modules.conv.Conv = prim::GetAttr[name=\"proj\"](%attn.1)\n",
            "\t\t    %pe.1 : __torch__.ultralytics.nn.modules.conv.Conv = prim::GetAttr[name=\"pe\"](%attn.1)\n",
            "\t\t    %qkv.25 : __torch__.ultralytics.nn.modules.conv.Conv = prim::GetAttr[name=\"qkv\"](%attn.1)\n",
            "\t\t    %275 : int = aten::size(%x.3, %251), scope: __module.model.6/__module.model.6.m.0/__module.model.6.m.0.0/__module.model.6.m.0.0.attn # /content/yolov12/ultralytics/nn/modules/block.py:1219:0\n",
            "\t\t    %B.1 : Tensor = prim::NumToTensor(%275), scope: __module.model.6/__module.model.6.m.0/__module.model.6.m.0.0/__module.model.6.m.0.0.attn\n",
            "\t\t    %277 : int = aten::size(%x.3, %252), scope: __module.model.6/__module.model.6.m.0/__module.model.6.m.0.0/__module.model.6.m.0.0.attn # /content/yolov12/ultralytics/nn/modules/block.py:1219:0\n",
            "\t\t    %C.1 : Tensor = prim::NumToTensor(%277), scope: __module.model.6/__module.model.6.m.0/__module.model.6.m.0.0/__module.model.6.m.0.0.attn\n",
            "\t\t    %279 : int = aten::size(%x.3, %237), scope: __module.model.6/__module.model.6.m.0/__module.model.6.m.0.0/__module.model.6.m.0.0.attn # /content/yolov12/ultralytics/nn/modules/block.py:1219:0\n",
            "\t\t    %H.1 : Tensor = prim::NumToTensor(%279), scope: __module.model.6/__module.model.6.m.0/__module.model.6.m.0.0/__module.model.6.m.0.0.attn\n",
            "\t\t    %281 : int = aten::size(%x.3, %238), scope: __module.model.6/__module.model.6.m.0/__module.model.6.m.0.0/__module.model.6.m.0.0.attn # /content/yolov12/ultralytics/nn/modules/block.py:1219:0\n",
            "\t\t    %W.1 : Tensor = prim::NumToTensor(%281), scope: __module.model.6/__module.model.6.m.0/__module.model.6.m.0.0/__module.model.6.m.0.0.attn\n",
            "\t\t    %283 : Tensor = aten::mul(%H.1, %W.1), scope: __module.model.6/__module.model.6.m.0/__module.model.6.m.0.0/__module.model.6.m.0.0.attn # /content/yolov12/ultralytics/nn/modules/block.py:1220:0\n",
            "\t\t    %conv.27 : __torch__.torch.nn.modules.conv.Conv2d = prim::GetAttr[name=\"conv\"](%qkv.25)\n",
            "\t\t    %bias.265 : Tensor = prim::GetAttr[name=\"bias\"](%conv.27)\n",
            "\t\t    %weight.267 : Tensor = prim::GetAttr[name=\"weight\"](%conv.27)\n",
            "\t\t    %287 : int[] = prim::ListConstruct(%252, %252), scope: __module.model.6/__module.model.6.m.0/__module.model.6.m.0.0/__module.model.6.m.0.0.attn/__module.model.6.m.0.0.attn.qkv/__module.model.6.m.0.0.attn.qkv.conv\n",
            "\t\t    %288 : int[] = prim::ListConstruct(%251, %251), scope: __module.model.6/__module.model.6.m.0/__module.model.6.m.0.0/__module.model.6.m.0.0.attn/__module.model.6.m.0.0.attn.qkv/__module.model.6.m.0.0.attn.qkv.conv\n",
            "\t\t    %289 : int[] = prim::ListConstruct(%252, %252), scope: __module.model.6/__module.model.6.m.0/__module.model.6.m.0.0/__module.model.6.m.0.0.attn/__module.model.6.m.0.0.attn.qkv/__module.model.6.m.0.0.attn.qkv.conv\n",
            "\t\t    %290 : int[] = prim::ListConstruct(%251, %251), scope: __module.model.6/__module.model.6.m.0/__module.model.6.m.0.0/__module.model.6.m.0.0.attn/__module.model.6.m.0.0.attn.qkv/__module.model.6.m.0.0.attn.qkv.conv\n",
            "\t\t    %291 : Tensor = aten::_convolution(%x.3, %weight.267, %bias.265, %287, %288, %289, %250, %290, %252, %250, %249, %249, %249), scope: __module.model.6/__module.model.6.m.0/__module.model.6.m.0.0/__module.model.6.m.0.0.attn/__module.model.6.m.0.0.attn.qkv/__module.model.6.m.0.0.attn.qkv.conv # /usr/local/lib/python3.11/dist-packages/torch/nn/modules/conv.py:549:0\n",
            "\t\t    %292 : Tensor = aten::flatten(%291, %237, %239), scope: __module.model.6/__module.model.6.m.0/__module.model.6.m.0.0/__module.model.6.m.0.0.attn # /content/yolov12/ultralytics/nn/modules/block.py:1222:0\n",
            "\t\t    %qkv.1 : Tensor = aten::transpose(%292, %252, %237), scope: __module.model.6/__module.model.6.m.0/__module.model.6.m.0.0/__module.model.6.m.0.0.attn # /content/yolov12/ultralytics/nn/modules/block.py:1222:0\n",
            "\t\t    %294 : Tensor = aten::mul(%B.1, %240), scope: __module.model.6/__module.model.6.m.0/__module.model.6.m.0.0/__module.model.6.m.0.0.attn # /content/yolov12/ultralytics/nn/modules/block.py:1224:0\n",
            "\t\t    %295 : int = aten::Int(%294), scope: __module.model.6/__module.model.6.m.0/__module.model.6.m.0.0/__module.model.6.m.0.0.attn\n",
            "\t\t    %296 : Tensor = aten::floor_divide(%283, %240), scope: __module.model.6/__module.model.6.m.0/__module.model.6.m.0.0/__module.model.6.m.0.0.attn # /usr/local/lib/python3.11/dist-packages/torch/_tensor.py:1061:0\n",
            "\t\t    %297 : int = aten::Int(%296), scope: __module.model.6/__module.model.6.m.0/__module.model.6.m.0.0/__module.model.6.m.0.0.attn\n",
            "\t\t    %298 : Tensor = aten::mul(%C.1, %241), scope: __module.model.6/__module.model.6.m.0/__module.model.6.m.0.0/__module.model.6.m.0.0.attn # /content/yolov12/ultralytics/nn/modules/block.py:1224:0\n",
            "\t\t    %299 : int = aten::Int(%298), scope: __module.model.6/__module.model.6.m.0/__module.model.6.m.0.0/__module.model.6.m.0.0.attn\n",
            "\t\t    %300 : int[] = prim::ListConstruct(%295, %297, %299), scope: __module.model.6/__module.model.6.m.0/__module.model.6.m.0.0/__module.model.6.m.0.0.attn\n",
            "\t\t    %qkv.3 : Tensor = aten::reshape(%qkv.1, %300), scope: __module.model.6/__module.model.6.m.0/__module.model.6.m.0.0/__module.model.6.m.0.0.attn # /content/yolov12/ultralytics/nn/modules/block.py:1224:0\n",
            "\t\t    %302 : int = aten::size(%qkv.3, %251), scope: __module.model.6/__module.model.6.m.0/__module.model.6.m.0.0/__module.model.6.m.0.0.attn # /content/yolov12/ultralytics/nn/modules/block.py:1225:0\n",
            "\t\t    %B.3 : Tensor = prim::NumToTensor(%302), scope: __module.model.6/__module.model.6.m.0/__module.model.6.m.0.0/__module.model.6.m.0.0.attn\n",
            "\t\t    %304 : int = aten::size(%qkv.3, %252), scope: __module.model.6/__module.model.6.m.0/__module.model.6.m.0.0/__module.model.6.m.0.0.attn # /content/yolov12/ultralytics/nn/modules/block.py:1225:0\n",
            "\t\t    %N.1 : Tensor = prim::NumToTensor(%304), scope: __module.model.6/__module.model.6.m.0/__module.model.6.m.0.0/__module.model.6.m.0.0.attn\n",
            "\t\t    %306 : int[] = prim::ListConstruct(%302, %304, %242, %243), scope: __module.model.6/__module.model.6.m.0/__module.model.6.m.0.0/__module.model.6.m.0.0.attn\n",
            "\t\t    %307 : Tensor = aten::view(%qkv.3, %306), scope: __module.model.6/__module.model.6.m.0/__module.model.6.m.0.0/__module.model.6.m.0.0.attn # /content/yolov12/ultralytics/nn/modules/block.py:1226:0\n",
            "\t\t    %308 : int[] = prim::ListConstruct(%244, %244, %244), scope: __module.model.6/__module.model.6.m.0/__module.model.6.m.0.0/__module.model.6.m.0.0.attn\n",
            "\t\t    %309 : Tensor[] = aten::split_with_sizes(%307, %308, %238), scope: __module.model.6/__module.model.6.m.0/__module.model.6.m.0.0/__module.model.6.m.0.0.attn # /usr/local/lib/python3.11/dist-packages/torch/_tensor.py:983:0\n",
            "\t\t    %q.1 : Tensor, %k.1 : Tensor, %v.1 : Tensor = prim::ListUnpack(%309), scope: __module.model.6/__module.model.6.m.0/__module.model.6.m.0.0/__module.model.6.m.0.0.attn\n",
            "\t\t    %313 : Tensor = aten::contiguous(%q.1, %251), scope: __module.model.6/__module.model.6.m.0/__module.model.6.m.0.0/__module.model.6.m.0.0.attn # /content/yolov12/ultralytics/nn/modules/block.py:1232:0\n",
            "\t\t    %q.3 : Tensor = aten::to(%313, %245, %250, %250, %246), scope: __module.model.6/__module.model.6.m.0/__module.model.6.m.0.0/__module.model.6.m.0.0.attn # /content/yolov12/ultralytics/nn/modules/block.py:1232:0\n",
            "\t\t    %315 : Tensor = aten::contiguous(%k.1, %251), scope: __module.model.6/__module.model.6.m.0/__module.model.6.m.0.0/__module.model.6.m.0.0.attn # /content/yolov12/ultralytics/nn/modules/block.py:1233:0\n",
            "\t\t    %316 : Tensor = aten::to(%315, %245, %250, %250, %246), scope: __module.model.6/__module.model.6.m.0/__module.model.6.m.0.0/__module.model.6.m.0.0.attn # /content/yolov12/ultralytics/nn/modules/block.py:1233:0\n",
            "\t\t    %317 : Tensor = aten::contiguous(%v.1, %251), scope: __module.model.6/__module.model.6.m.0/__module.model.6.m.0.0/__module.model.6.m.0.0.attn # /content/yolov12/ultralytics/nn/modules/block.py:1234:0\n",
            "\t\t    %318 : Tensor = aten::to(%317, %245, %250, %250, %246), scope: __module.model.6/__module.model.6.m.0/__module.model.6.m.0.0/__module.model.6.m.0.0.attn # /content/yolov12/ultralytics/nn/modules/block.py:1234:0\n",
            "\t\t-   %319 : Tensor = ^FlashAttnFunc[inplace=0, module=\"flash_attn.flash_attn_interface\", Subgraph=<Graph>](0.0, None, False, (-1, -1), 0.0, None, False, False, True)(%q.3, %316, %318), scope: __module.model.6/__module.model.6.m.0/__module.model.6.m.0.0/__module.model.6.m.0.0.attn # /usr/local/lib/python3.11/dist-packages/torch/autograd/function.py:575:0\n",
            "\t\t?                                                                                                                                                              ^^^\n",
            "\t\t+   %319 : Tensor = ^FlashAttnFunc[inplace=0, module=\"flash_attn.flash_attn_interface\", Subgraph=<Graph>](0.0, None, False, (-1, -1), 0.0, None, False, False, False)(%q.3, %316, %318), scope: __module.model.6/__module.model.6.m.0/__module.model.6.m.0.0/__module.model.6.m.0.0.attn # /usr/local/lib/python3.11/dist-packages/torch/autograd/function.py:575:0\n",
            "\t\t?                                                                                                                                                              ^^^^\n",
            "\t\t    %x.5 : Tensor = aten::to(%319, %247, %250, %250, %246), scope: __module.model.6/__module.model.6.m.0/__module.model.6.m.0.0/__module.model.6.m.0.0.attn # /content/yolov12/ultralytics/nn/modules/block.py:1235:0\n",
            "\t\t    %321 : Tensor = aten::floor_divide(%B.3, %240), scope: __module.model.6/__module.model.6.m.0/__module.model.6.m.0.0/__module.model.6.m.0.0.attn # /usr/local/lib/python3.11/dist-packages/torch/_tensor.py:1061:0\n",
            "\t\t    %322 : int = aten::Int(%321), scope: __module.model.6/__module.model.6.m.0/__module.model.6.m.0.0/__module.model.6.m.0.0.attn\n",
            "\t\t    %323 : Tensor = aten::mul(%N.1, %240), scope: __module.model.6/__module.model.6.m.0/__module.model.6.m.0.0/__module.model.6.m.0.0.attn # /content/yolov12/ultralytics/nn/modules/block.py:1252:0\n",
            "\t\t    %324 : int = aten::Int(%323), scope: __module.model.6/__module.model.6.m.0/__module.model.6.m.0.0/__module.model.6.m.0.0.attn\n",
            "\t\t    %325 : int[] = prim::ListConstruct(%322, %324, %277), scope: __module.model.6/__module.model.6.m.0/__module.model.6.m.0.0/__module.model.6.m.0.0.attn\n",
            "\t\t    %x.7 : Tensor = aten::reshape(%x.5, %325), scope: __module.model.6/__module.model.6.m.0/__module.model.6.m.0.0/__module.model.6.m.0.0.attn # /content/yolov12/ultralytics/nn/modules/block.py:1252:0\n",
            "\t\t    %327 : Tensor = aten::floor_divide(%B.3, %240), scope: __module.model.6/__module.model.6.m.0/__module.model.6.m.0.0/__module.model.6.m.0.0.attn # /usr/local/lib/python3.11/dist-packages/torch/_tensor.py:1061:0\n",
            "\t\t    %328 : int = aten::Int(%327), scope: __module.model.6/__module.model.6.m.0/__module.model.6.m.0.0/__module.model.6.m.0.0.attn\n",
            "\t\t    %329 : Tensor = aten::mul(%N.1, %240), scope: __module.model.6/__module.model.6.m.0/__module.model.6.m.0.0/__module.model.6.m.0.0.attn # /content/yolov12/ultralytics/nn/modules/block.py:1253:0\n",
            "\t\t    %330 : int = aten::Int(%329), scope: __module.model.6/__module.model.6.m.0/__module.model.6.m.0.0/__module.model.6.m.0.0.attn\n",
            "\t\t    %331 : int[] = prim::ListConstruct(%328, %330, %277), scope: __module.model.6/__module.model.6.m.0/__module.model.6.m.0.0/__module.model.6.m.0.0.attn\n",
            "\t\t    %v.3 : Tensor = aten::reshape(%v.1, %331), scope: __module.model.6/__module.model.6.m.0/__module.model.6.m.0.0/__module.model.6.m.0.0.attn # /content/yolov12/ultralytics/nn/modules/block.py:1253:0\n",
            "\t\t    %333 : int = aten::size(%x.7, %251), scope: __module.model.6/__module.model.6.m.0/__module.model.6.m.0.0/__module.model.6.m.0.0.attn # /content/yolov12/ultralytics/nn/modules/block.py:1254:0\n",
            "\t\t    %334 : int[] = prim::ListConstruct(%333, %279, %281, %277), scope: __module.model.6/__module.model.6.m.0/__module.model.6.m.0.0/__module.model.6.m.0.0.attn\n",
            "\t\t    %335 : Tensor = aten::reshape(%x.7, %334), scope: __module.model.6/__module.model.6.m.0/__module.model.6.m.0.0/__module.model.6.m.0.0.attn # /content/yolov12/ultralytics/nn/modules/block.py:1256:0\n",
            "\t\t    %336 : int[] = prim::ListConstruct(%251, %238, %252, %237), scope: __module.model.6/__module.model.6.m.0/__module.model.6.m.0.0/__module.model.6.m.0.0.attn\n",
            "\t\t    %x.9 : Tensor = aten::permute(%335, %336), scope: __module.model.6/__module.model.6.m.0/__module.model.6.m.0.0/__module.model.6.m.0.0.attn # /content/yolov12/ultralytics/nn/modules/block.py:1256:0\n",
            "\t\t    %338 : int[] = prim::ListConstruct(%333, %279, %281, %277), scope: __module.model.6/__module.model.6.m.0/__module.model.6.m.0.0/__module.model.6.m.0.0.attn\n",
            "\t\t    %339 : Tensor = aten::reshape(%v.3, %338), scope: __module.model.6/__module.model.6.m.0/__module.model.6.m.0.0/__module.model.6.m.0.0.attn # /content/yolov12/ultralytics/nn/modules/block.py:1257:0\n",
            "\t\t    %340 : int[] = prim::ListConstruct(%251, %238, %252, %237), scope: __module.model.6/__module.model.6.m.0/__module.model.6.m.0.0/__module.model.6.m.0.0.attn\n",
            "\t\t    %input.51 : Tensor = aten::permute(%339, %340), scope: __module.model.6/__module.model.6.m.0/__module.model.6.m.0.0/__module.model.6.m.0.0.attn # /content/yolov12/ultralytics/nn/modules/block.py:1257:0\n",
            "\t\t    %conv.29 : __torch__.torch.nn.modules.conv.Conv2d = prim::GetAttr[name=\"conv\"](%pe.1)\n",
            "\t\t    %bias.267 : Tensor = prim::GetAttr[name=\"bias\"](%conv.29)\n",
            "\t\t    %weight.269 : Tensor = prim::GetAttr[name=\"weight\"](%conv.29)\n",
            "\t\t    %345 : int[] = prim::ListConstruct(%252, %252), scope: __module.model.6/__module.model.6.m.0/__module.model.6.m.0.0/__module.model.6.m.0.0.attn/__module.model.6.m.0.0.attn.pe/__module.model.6.m.0.0.attn.pe.conv\n",
            "\t\t    %346 : int[] = prim::ListConstruct(%238, %238), scope: __module.model.6/__module.model.6.m.0/__module.model.6.m.0.0/__module.model.6.m.0.0.attn/__module.model.6.m.0.0.attn.pe/__module.model.6.m.0.0.attn.pe.conv\n",
            "\t\t    %347 : int[] = prim::ListConstruct(%252, %252), scope: __module.model.6/__module.model.6.m.0/__module.model.6.m.0.0/__module.model.6.m.0.0.attn/__module.model.6.m.0.0.attn.pe/__module.model.6.m.0.0.attn.pe.conv\n",
            "\t\t    %348 : int[] = prim::ListConstruct(%251, %251), scope: __module.model.6/__module.model.6.m.0/__module.model.6.m.0.0/__module.model.6.m.0.0.attn/__module.model.6.m.0.0.attn.pe/__module.model.6.m.0.0.attn.pe.conv\n",
            "\t\t    %349 : Tensor = aten::_convolution(%input.51, %weight.269, %bias.267, %345, %346, %347, %250, %348, %248, %250, %249, %249, %249), scope: __module.model.6/__module.model.6.m.0/__module.model.6.m.0.0/__module.model.6.m.0.0.attn/__module.model.6.m.0.0.attn.pe/__module.model.6.m.0.0.attn.pe.conv # /usr/local/lib/python3.11/dist-packages/torch/nn/modules/conv.py:549:0\n",
            "\t\t    %input.53 : Tensor = aten::add(%x.9, %349, %252), scope: __module.model.6/__module.model.6.m.0/__module.model.6.m.0.0/__module.model.6.m.0.0.attn # /content/yolov12/ultralytics/nn/modules/block.py:1259:0\n",
            "\t\t    %conv.31 : __torch__.torch.nn.modules.conv.Conv2d = prim::GetAttr[name=\"conv\"](%proj.1)\n",
            "\t\t    %bias.269 : Tensor = prim::GetAttr[name=\"bias\"](%conv.31)\n",
            "\t\t    %weight.271 : Tensor = prim::GetAttr[name=\"weight\"](%conv.31)\n",
            "\t\t    %354 : int[] = prim::ListConstruct(%252, %252), scope: __module.model.6/__module.model.6.m.0/__module.model.6.m.0.0/__module.model.6.m.0.0.attn/__module.model.6.m.0.0.attn.proj/__module.model.6.m.0.0.attn.proj.conv\n",
            "\t\t    %355 : int[] = prim::ListConstruct(%251, %251), scope: __module.model.6/__module.model.6.m.0/__module.model.6.m.0.0/__module.model.6.m.0.0.attn/__module.model.6.m.0.0.attn.proj/__module.model.6.m.0.0.attn.proj.conv\n",
            "\t\t    %356 : int[] = prim::ListConstruct(%252, %252), scope: __module.model.6/__module.model.6.m.0/__module.model.6.m.0.0/__module.model.6.m.0.0.attn/__module.model.6.m.0.0.attn.proj/__module.model.6.m.0.0.attn.proj.conv\n",
            "\t\t    %357 : int[] = prim::ListConstruct(%251, %251), scope: __module.model.6/__module.model.6.m.0/__module.model.6.m.0.0/__module.model.6.m.0.0.attn/__module.model.6.m.0.0.attn.proj/__module.model.6.m.0.0.attn.proj.conv\n",
            "\t\t    %358 : Tensor = aten::_convolution(%input.53, %weight.271, %bias.269, %354, %355, %356, %250, %357, %252, %250, %249, %249, %249), scope: __module.model.6/__module.model.6.m.0/__module.model.6.m.0.0/__module.model.6.m.0.0.attn/__module.model.6.m.0.0.attn.proj/__module.model.6.m.0.0.attn.proj.conv # /usr/local/lib/python3.11/dist-packages/torch/nn/modules/conv.py:549:0\n",
            "\t\t    %input.55 : Tensor = aten::add(%x.3, %358, %252), scope: __module.model.6/__module.model.6.m.0/__module.model.6.m.0.0 # /content/yolov12/ultralytics/nn/modules/block.py:1310:0\n",
            "\t\t    %_1.7 : __torch__.ultralytics.nn.modules.conv.Conv = prim::GetAttr[name=\"1\"](%mlp.1)\n",
            "\t\t    %_0.7 : __torch__.ultralytics.nn.modules.conv.Conv = prim::GetAttr[name=\"0\"](%mlp.1)\n",
            "\t\t    %conv.33 : __torch__.torch.nn.modules.conv.Conv2d = prim::GetAttr[name=\"conv\"](%_0.7)\n",
            "\t\t    %bias.271 : Tensor = prim::GetAttr[name=\"bias\"](%conv.33)\n",
            "\t\t    %weight.273 : Tensor = prim::GetAttr[name=\"weight\"](%conv.33)\n",
            "\t\t    %365 : int[] = prim::ListConstruct(%252, %252), scope: __module.model.6/__module.model.6.m.0/__module.model.6.m.0.0/__module.model.6.m.0.0.mlp/__module.model.6.m.0.0.mlp.0/__module.model.6.m.0.0.mlp.0.conv\n",
            "\t\t    %366 : int[] = prim::ListConstruct(%251, %251), scope: __module.model.6/__module.model.6.m.0/__module.model.6.m.0.0/__module.model.6.m.0.0.mlp/__module.model.6.m.0.0.mlp.0/__module.model.6.m.0.0.mlp.0.conv\n",
            "\t\t    %367 : int[] = prim::ListConstruct(%252, %252), scope: __module.model.6/__module.model.6.m.0/__module.model.6.m.0.0/__module.model.6.m.0.0.mlp/__module.model.6.m.0.0.mlp.0/__module.model.6.m.0.0.mlp.0.conv\n",
            "\t\t    %368 : int[] = prim::ListConstruct(%251, %251), scope: __module.model.6/__module.model.6.m.0/__module.model.6.m.0.0/__module.model.6.m.0.0.mlp/__module.model.6.m.0.0.mlp.0/__module.model.6.m.0.0.mlp.0.conv\n",
            "\t\t    %input.57 : Tensor = aten::_convolution(%input.55, %weight.273, %bias.271, %365, %366, %367, %250, %368, %252, %250, %249, %249, %249), scope: __module.model.6/__module.model.6.m.0/__module.model.6.m.0.0/__module.model.6.m.0.0.mlp/__module.model.6.m.0.0.mlp.0/__module.model.6.m.0.0.mlp.0.conv # /usr/local/lib/python3.11/dist-packages/torch/nn/modules/conv.py:549:0\n",
            "\t\t    %input.59 : Tensor = aten::silu_(%input.57), scope: __module.model.6/__module.model.6.m.0/__module.model.6.m.0.0/__module.model.6.m.0.0.mlp/__module.model.6.m.0.0.mlp.0/__module.model.21.cv3.2.1.1.act # /usr/local/lib/python3.11/dist-packages/torch/nn/functional.py:2379:0\n",
            "\t\t    %act.9 : __torch__.torch.nn.modules.linear.Identity = prim::GetAttr[name=\"act\"](%_1.7)\n",
            "\t\t    %conv.35 : __torch__.torch.nn.modules.conv.Conv2d = prim::GetAttr[name=\"conv\"](%_1.7)\n",
            "\t\t    %bias.273 : Tensor = prim::GetAttr[name=\"bias\"](%conv.35)\n",
            "\t\t    %weight.275 : Tensor = prim::GetAttr[name=\"weight\"](%conv.35)\n",
            "\t\t    %375 : int[] = prim::ListConstruct(%252, %252), scope: __module.model.6/__module.model.6.m.0/__module.model.6.m.0.0/__module.model.6.m.0.0.mlp/__module.model.6.m.0.0.mlp.1/__module.model.6.m.0.0.mlp.1.conv\n",
            "\t\t    %376 : int[] = prim::ListConstruct(%251, %251), scope: __module.model.6/__module.model.6.m.0/__module.model.6.m.0.0/__module.model.6.m.0.0.mlp/__module.model.6.m.0.0.mlp.1/__module.model.6.m.0.0.mlp.1.conv\n",
            "\t\t    %377 : int[] = prim::ListConstruct(%252, %252), scope: __module.model.6/__module.model.6.m.0/__module.model.6.m.0.0/__module.model.6.m.0.0.mlp/__module.model.6.m.0.0.mlp.1/__module.model.6.m.0.0.mlp.1.conv\n",
            "\t\t    %378 : int[] = prim::ListConstruct(%251, %251), scope: __module.model.6/__module.model.6.m.0/__module.model.6.m.0.0/__module.model.6.m.0.0.mlp/__module.model.6.m.0.0.mlp.1/__module.model.6.m.0.0.mlp.1.conv\n",
            "\t\t    %379 : Tensor = aten::_convolution(%input.59, %weight.275, %bias.273, %375, %376, %377, %250, %378, %252, %250, %249, %249, %249), scope: __module.model.6/__module.model.6.m.0/__module.model.6.m.0.0/__module.model.6.m.0.0.mlp/__module.model.6.m.0.0.mlp.1/__module.model.6.m.0.0.mlp.1.conv # /usr/local/lib/python3.11/dist-packages/torch/nn/modules/conv.py:549:0\n",
            "\t\t    %x.11 : Tensor = aten::add(%input.55, %379, %252), scope: __module.model.6/__module.model.6.m.0/__module.model.6.m.0.0 # /content/yolov12/ultralytics/nn/modules/block.py:1311:0\n",
            "\t\t    %mlp.3 : __torch__.torch.nn.modules.container.Sequential = prim::GetAttr[name=\"mlp\"](%_1.11)\n",
            "\t\t    %attn.3 : __torch__.ultralytics.nn.modules.block.AAttn = prim::GetAttr[name=\"attn\"](%_1.11)\n",
            "\t\t    %proj.3 : __torch__.ultralytics.nn.modules.conv.Conv = prim::GetAttr[name=\"proj\"](%attn.3)\n",
            "\t\t    %pe.3 : __torch__.ultralytics.nn.modules.conv.Conv = prim::GetAttr[name=\"pe\"](%attn.3)\n",
            "\t\t    %qkv.27 : __torch__.ultralytics.nn.modules.conv.Conv = prim::GetAttr[name=\"qkv\"](%attn.3)\n",
            "\t\t    %386 : int = aten::size(%x.11, %251), scope: __module.model.6/__module.model.6.m.0/__module.model.6.m.0.1/__module.model.6.m.0.1.attn # /content/yolov12/ultralytics/nn/modules/block.py:1219:0\n",
            "\t\t    %B.7 : Tensor = prim::NumToTensor(%386), scope: __module.model.6/__module.model.6.m.0/__module.model.6.m.0.1/__module.model.6.m.0.1.attn\n",
            "\t\t    %388 : int = aten::size(%x.11, %252), scope: __module.model.6/__module.model.6.m.0/__module.model.6.m.0.1/__module.model.6.m.0.1.attn # /content/yolov12/ultralytics/nn/modules/block.py:1219:0\n",
            "\t\t    %C.3 : Tensor = prim::NumToTensor(%388), scope: __module.model.6/__module.model.6.m.0/__module.model.6.m.0.1/__module.model.6.m.0.1.attn\n",
            "\t\t    %390 : int = aten::size(%x.11, %237), scope: __module.model.6/__module.model.6.m.0/__module.model.6.m.0.1/__module.model.6.m.0.1.attn # /content/yolov12/ultralytics/nn/modules/block.py:1219:0\n",
            "\t\t    %H.3 : Tensor = prim::NumToTensor(%390), scope: __module.model.6/__module.model.6.m.0/__module.model.6.m.0.1/__module.model.6.m.0.1.attn\n",
            "\t\t    %392 : int = aten::size(%x.11, %238), scope: __module.model.6/__module.model.6.m.0/__module.model.6.m.0.1/__module.model.6.m.0.1.attn # /content/yolov12/ultralytics/nn/modules/block.py:1219:0\n",
            "\t\t    %W.3 : Tensor = prim::NumToTensor(%392), scope: __module.model.6/__module.model.6.m.0/__module.model.6.m.0.1/__module.model.6.m.0.1.attn\n",
            "\t\t    %394 : Tensor = aten::mul(%H.3, %W.3), scope: __module.model.6/__module.model.6.m.0/__module.model.6.m.0.1/__module.model.6.m.0.1.attn # /content/yolov12/ultralytics/nn/modules/block.py:1220:0\n",
            "\t\t    %conv.37 : __torch__.torch.nn.modules.conv.Conv2d = prim::GetAttr[name=\"conv\"](%qkv.27)\n",
            "\t\t    %bias.275 : Tensor = prim::GetAttr[name=\"bias\"](%conv.37)\n",
            "\t\t    %weight.277 : Tensor = prim::GetAttr[name=\"weight\"](%conv.37)\n",
            "\t\t    %398 : int[] = prim::ListConstruct(%252, %252), scope: __module.model.6/__module.model.6.m.0/__module.model.6.m.0.1/__module.model.6.m.0.1.attn/__module.model.6.m.0.1.attn.qkv/__module.model.6.m.0.1.attn.qkv.conv\n",
            "\t\t    %399 : int[] = prim::ListConstruct(%251, %251), scope: __module.model.6/__module.model.6.m.0/__module.model.6.m.0.1/__module.model.6.m.0.1.attn/__module.model.6.m.0.1.attn.qkv/__module.model.6.m.0.1.attn.qkv.conv\n",
            "\t\t    %400 : int[] = prim::ListConstruct(%252, %252), scope: __module.model.6/__module.model.6.m.0/__module.model.6.m.0.1/__module.model.6.m.0.1.attn/__module.model.6.m.0.1.attn.qkv/__module.model.6.m.0.1.attn.qkv.conv\n",
            "\t\t    %401 : int[] = prim::ListConstruct(%251, %251), scope: __module.model.6/__module.model.6.m.0/__module.model.6.m.0.1/__module.model.6.m.0.1.attn/__module.model.6.m.0.1.attn.qkv/__module.model.6.m.0.1.attn.qkv.conv\n",
            "\t\t    %402 : Tensor = aten::_convolution(%x.11, %weight.277, %bias.275, %398, %399, %400, %250, %401, %252, %250, %249, %249, %249), scope: __module.model.6/__module.model.6.m.0/__module.model.6.m.0.1/__module.model.6.m.0.1.attn/__module.model.6.m.0.1.attn.qkv/__module.model.6.m.0.1.attn.qkv.conv # /usr/local/lib/python3.11/dist-packages/torch/nn/modules/conv.py:549:0\n",
            "\t\t    %403 : Tensor = aten::flatten(%402, %237, %239), scope: __module.model.6/__module.model.6.m.0/__module.model.6.m.0.1/__module.model.6.m.0.1.attn # /content/yolov12/ultralytics/nn/modules/block.py:1222:0\n",
            "\t\t    %qkv.5 : Tensor = aten::transpose(%403, %252, %237), scope: __module.model.6/__module.model.6.m.0/__module.model.6.m.0.1/__module.model.6.m.0.1.attn # /content/yolov12/ultralytics/nn/modules/block.py:1222:0\n",
            "\t\t    %405 : Tensor = aten::mul(%B.7, %240), scope: __module.model.6/__module.model.6.m.0/__module.model.6.m.0.1/__module.model.6.m.0.1.attn # /content/yolov12/ultralytics/nn/modules/block.py:1224:0\n",
            "\t\t    %406 : int = aten::Int(%405), scope: __module.model.6/__module.model.6.m.0/__module.model.6.m.0.1/__module.model.6.m.0.1.attn\n",
            "\t\t    %407 : Tensor = aten::floor_divide(%394, %240), scope: __module.model.6/__module.model.6.m.0/__module.model.6.m.0.1/__module.model.6.m.0.1.attn # /usr/local/lib/python3.11/dist-packages/torch/_tensor.py:1061:0\n",
            "\t\t    %408 : int = aten::Int(%407), scope: __module.model.6/__module.model.6.m.0/__module.model.6.m.0.1/__module.model.6.m.0.1.attn\n",
            "\t\t    %409 : Tensor = aten::mul(%C.3, %241), scope: __module.model.6/__module.model.6.m.0/__module.model.6.m.0.1/__module.model.6.m.0.1.attn # /content/yolov12/ultralytics/nn/modules/block.py:1224:0\n",
            "\t\t    %410 : int = aten::Int(%409), scope: __module.model.6/__module.model.6.m.0/__module.model.6.m.0.1/__module.model.6.m.0.1.attn\n",
            "\t\t    %411 : int[] = prim::ListConstruct(%406, %408, %410), scope: __module.model.6/__module.model.6.m.0/__module.model.6.m.0.1/__module.model.6.m.0.1.attn\n",
            "\t\t    %qkv.7 : Tensor = aten::reshape(%qkv.5, %411), scope: __module.model.6/__module.model.6.m.0/__module.model.6.m.0.1/__module.model.6.m.0.1.attn # /content/yolov12/ultralytics/nn/modules/block.py:1224:0\n",
            "\t\t    %413 : int = aten::size(%qkv.7, %251), scope: __module.model.6/__module.model.6.m.0/__module.model.6.m.0.1/__module.model.6.m.0.1.attn # /content/yolov12/ultralytics/nn/modules/block.py:1225:0\n",
            "\t\t    %B.9 : Tensor = prim::NumToTensor(%413), scope: __module.model.6/__module.model.6.m.0/__module.model.6.m.0.1/__module.model.6.m.0.1.attn\n",
            "\t\t    %415 : int = aten::size(%qkv.7, %252), scope: __module.model.6/__module.model.6.m.0/__module.model.6.m.0.1/__module.model.6.m.0.1.attn # /content/yolov12/ultralytics/nn/modules/block.py:1225:0\n",
            "\t\t    %N.3 : Tensor = prim::NumToTensor(%415), scope: __module.model.6/__module.model.6.m.0/__module.model.6.m.0.1/__module.model.6.m.0.1.attn\n",
            "\t\t    %417 : int[] = prim::ListConstruct(%413, %415, %242, %243), scope: __module.model.6/__module.model.6.m.0/__module.model.6.m.0.1/__module.model.6.m.0.1.attn\n",
            "\t\t    %418 : Tensor = aten::view(%qkv.7, %417), scope: __module.model.6/__module.model.6.m.0/__module.model.6.m.0.1/__module.model.6.m.0.1.attn # /content/yolov12/ultralytics/nn/modules/block.py:1226:0\n",
            "\t\t    %419 : int[] = prim::ListConstruct(%244, %244, %244), scope: __module.model.6/__module.model.6.m.0/__module.model.6.m.0.1/__module.model.6.m.0.1.attn\n",
            "\t\t    %420 : Tensor[] = aten::split_with_sizes(%418, %419, %238), scope: __module.model.6/__module.model.6.m.0/__module.model.6.m.0.1/__module.model.6.m.0.1.attn # /usr/local/lib/python3.11/dist-packages/torch/_tensor.py:983:0\n",
            "\t\t    %q.5 : Tensor, %k.3 : Tensor, %v.5 : Tensor = prim::ListUnpack(%420), scope: __module.model.6/__module.model.6.m.0/__module.model.6.m.0.1/__module.model.6.m.0.1.attn\n",
            "\t\t    %424 : Tensor = aten::contiguous(%q.5, %251), scope: __module.model.6/__module.model.6.m.0/__module.model.6.m.0.1/__module.model.6.m.0.1.attn # /content/yolov12/ultralytics/nn/modules/block.py:1232:0\n",
            "\t\t    %q.7 : Tensor = aten::to(%424, %245, %250, %250, %246), scope: __module.model.6/__module.model.6.m.0/__module.model.6.m.0.1/__module.model.6.m.0.1.attn # /content/yolov12/ultralytics/nn/modules/block.py:1232:0\n",
            "\t\t    %426 : Tensor = aten::contiguous(%k.3, %251), scope: __module.model.6/__module.model.6.m.0/__module.model.6.m.0.1/__module.model.6.m.0.1.attn # /content/yolov12/ultralytics/nn/modules/block.py:1233:0\n",
            "\t\t    %427 : Tensor = aten::to(%426, %245, %250, %250, %246), scope: __module.model.6/__module.model.6.m.0/__module.model.6.m.0.1/__module.model.6.m.0.1.attn # /content/yolov12/ultralytics/nn/modules/block.py:1233:0\n",
            "\t\t    %428 : Tensor = aten::contiguous(%v.5, %251), scope: __module.model.6/__module.model.6.m.0/__module.model.6.m.0.1/__module.model.6.m.0.1.attn # /content/yolov12/ultralytics/nn/modules/block.py:1234:0\n",
            "\t\t    %429 : Tensor = aten::to(%428, %245, %250, %250, %246), scope: __module.model.6/__module.model.6.m.0/__module.model.6.m.0.1/__module.model.6.m.0.1.attn # /content/yolov12/ultralytics/nn/modules/block.py:1234:0\n",
            "\t\t-   %430 : Tensor = ^FlashAttnFunc[inplace=0, module=\"flash_attn.flash_attn_interface\", Subgraph=<Graph>](0.0, None, False, (-1, -1), 0.0, None, False, False, True)(%q.7, %427, %429), scope: __module.model.6/__module.model.6.m.0/__module.model.6.m.0.1/__module.model.6.m.0.1.attn # /usr/local/lib/python3.11/dist-packages/torch/autograd/function.py:575:0\n",
            "\t\t?                                                                                                                                                              ^^^\n",
            "\t\t+   %430 : Tensor = ^FlashAttnFunc[inplace=0, module=\"flash_attn.flash_attn_interface\", Subgraph=<Graph>](0.0, None, False, (-1, -1), 0.0, None, False, False, False)(%q.7, %427, %429), scope: __module.model.6/__module.model.6.m.0/__module.model.6.m.0.1/__module.model.6.m.0.1.attn # /usr/local/lib/python3.11/dist-packages/torch/autograd/function.py:575:0\n",
            "\t\t?                                                                                                                                                              ^^^^\n",
            "\t\t    %x.13 : Tensor = aten::to(%430, %247, %250, %250, %246), scope: __module.model.6/__module.model.6.m.0/__module.model.6.m.0.1/__module.model.6.m.0.1.attn # /content/yolov12/ultralytics/nn/modules/block.py:1235:0\n",
            "\t\t    %432 : Tensor = aten::floor_divide(%B.9, %240), scope: __module.model.6/__module.model.6.m.0/__module.model.6.m.0.1/__module.model.6.m.0.1.attn # /usr/local/lib/python3.11/dist-packages/torch/_tensor.py:1061:0\n",
            "\t\t    %433 : int = aten::Int(%432), scope: __module.model.6/__module.model.6.m.0/__module.model.6.m.0.1/__module.model.6.m.0.1.attn\n",
            "\t\t    %434 : Tensor = aten::mul(%N.3, %240), scope: __module.model.6/__module.model.6.m.0/__module.model.6.m.0.1/__module.model.6.m.0.1.attn # /content/yolov12/ultralytics/nn/modules/block.py:1252:0\n",
            "\t\t    %435 : int = aten::Int(%434), scope: __module.model.6/__module.model.6.m.0/__module.model.6.m.0.1/__module.model.6.m.0.1.attn\n",
            "\t\t    %436 : int[] = prim::ListConstruct(%433, %435, %388), scope: __module.model.6/__module.model.6.m.0/__module.model.6.m.0.1/__module.model.6.m.0.1.attn\n",
            "\t\t    %x.15 : Tensor = aten::reshape(%x.13, %436), scope: __module.model.6/__module.model.6.m.0/__module.model.6.m.0.1/__module.model.6.m.0.1.attn # /content/yolov12/ultralytics/nn/modules/block.py:1252:0\n",
            "\t\t    %438 : Tensor = aten::floor_divide(%B.9, %240), scope: __module.model.6/__module.model.6.m.0/__module.model.6.m.0.1/__module.model.6.m.0.1.attn # /usr/local/lib/python3.11/dist-packages/torch/_tensor.py:1061:0\n",
            "\t\t    %439 : int = aten::Int(%438), scope: __module.model.6/__module.model.6.m.0/__module.model.6.m.0.1/__module.model.6.m.0.1.attn\n",
            "\t\t    %440 : Tensor = aten::mul(%N.3, %240), scope: __module.model.6/__module.model.6.m.0/__module.model.6.m.0.1/__module.model.6.m.0.1.attn # /content/yolov12/ultralytics/nn/modules/block.py:1253:0\n",
            "\t\t    %441 : int = aten::Int(%440), scope: __module.model.6/__module.model.6.m.0/__module.model.6.m.0.1/__module.model.6.m.0.1.attn\n",
            "\t\t    %442 : int[] = prim::ListConstruct(%439, %441, %388), scope: __module.model.6/__module.model.6.m.0/__module.model.6.m.0.1/__module.model.6.m.0.1.attn\n",
            "\t\t    %v.7 : Tensor = aten::reshape(%v.5, %442), scope: __module.model.6/__module.model.6.m.0/__module.model.6.m.0.1/__module.model.6.m.0.1.attn # /content/yolov12/ultralytics/nn/modules/block.py:1253:0\n",
            "\t\t    %444 : int = aten::size(%x.15, %251), scope: __module.model.6/__module.model.6.m.0/__module.model.6.m.0.1/__module.model.6.m.0.1.attn # /content/yolov12/ultralytics/nn/modules/block.py:1254:0\n",
            "\t\t    %445 : int[] = prim::ListConstruct(%444, %390, %392, %388), scope: __module.model.6/__module.model.6.m.0/__module.model.6.m.0.1/__module.model.6.m.0.1.attn\n",
            "\t\t    %446 : Tensor = aten::reshape(%x.15, %445), scope: __module.model.6/__module.model.6.m.0/__module.model.6.m.0.1/__module.model.6.m.0.1.attn # /content/yolov12/ultralytics/nn/modules/block.py:1256:0\n",
            "\t\t    %447 : int[] = prim::ListConstruct(%251, %238, %252, %237), scope: __module.model.6/__module.model.6.m.0/__module.model.6.m.0.1/__module.model.6.m.0.1.attn\n",
            "\t\t    %x.17 : Tensor = aten::permute(%446, %447), scope: __module.model.6/__module.model.6.m.0/__module.model.6.m.0.1/__module.model.6.m.0.1.attn # /content/yolov12/ultralytics/nn/modules/block.py:1256:0\n",
            "\t\t    %449 : int[] = prim::ListConstruct(%444, %390, %392, %388), scope: __module.model.6/__module.model.6.m.0/__module.model.6.m.0.1/__module.model.6.m.0.1.attn\n",
            "\t\t    %450 : Tensor = aten::reshape(%v.7, %449), scope: __module.model.6/__module.model.6.m.0/__module.model.6.m.0.1/__module.model.6.m.0.1.attn # /content/yolov12/ultralytics/nn/modules/block.py:1257:0\n",
            "\t\t    %451 : int[] = prim::ListConstruct(%251, %238, %252, %237), scope: __module.model.6/__module.model.6.m.0/__module.model.6.m.0.1/__module.model.6.m.0.1.attn\n",
            "\t\t    %input.61 : Tensor = aten::permute(%450, %451), scope: __module.model.6/__module.model.6.m.0/__module.model.6.m.0.1/__module.model.6.m.0.1.attn # /content/yolov12/ultralytics/nn/modules/block.py:1257:0\n",
            "\t\t    %conv.39 : __torch__.torch.nn.modules.conv.Conv2d = prim::GetAttr[name=\"conv\"](%pe.3)\n",
            "\t\t    %bias.277 : Tensor = prim::GetAttr[name=\"bias\"](%conv.39)\n",
            "\t\t    %weight.279 : Tensor = prim::GetAttr[name=\"weight\"](%conv.39)\n",
            "\t\t    %456 : int[] = prim::ListConstruct(%252, %252), scope: __module.model.6/__module.model.6.m.0/__module.model.6.m.0.1/__module.model.6.m.0.1.attn/__module.model.6.m.0.1.attn.pe/__module.model.6.m.0.1.attn.pe.conv\n",
            "\t\t    %457 : int[] = prim::ListConstruct(%238, %238), scope: __module.model.6/__module.model.6.m.0/__module.model.6.m.0.1/__module.model.6.m.0.1.attn/__module.model.6.m.0.1.attn.pe/__module.model.6.m.0.1.attn.pe.conv\n",
            "\t\t    %458 : int[] = prim::ListConstruct(%252, %252), scope: __module.model.6/__module.model.6.m.0/__module.model.6.m.0.1/__module.model.6.m.0.1.attn/__module.model.6.m.0.1.attn.pe/__module.model.6.m.0.1.attn.pe.conv\n",
            "\t\t    %459 : int[] = prim::ListConstruct(%251, %251), scope: __module.model.6/__module.model.6.m.0/__module.model.6.m.0.1/__module.model.6.m.0.1.attn/__module.model.6.m.0.1.attn.pe/__module.model.6.m.0.1.attn.pe.conv\n",
            "\t\t    %460 : Tensor = aten::_convolution(%input.61, %weight.279, %bias.277, %456, %457, %458, %250, %459, %248, %250, %249, %249, %249), scope: __module.model.6/__module.model.6.m.0/__module.model.6.m.0.1/__module.model.6.m.0.1.attn/__module.model.6.m.0.1.attn.pe/__module.model.6.m.0.1.attn.pe.conv # /usr/local/lib/python3.11/dist-packages/torch/nn/modules/conv.py:549:0\n",
            "\t\t    %input.63 : Tensor = aten::add(%x.17, %460, %252), scope: __module.model.6/__module.model.6.m.0/__module.model.6.m.0.1/__module.model.6.m.0.1.attn # /content/yolov12/ultralytics/nn/modules/block.py:1259:0\n",
            "\t\t    %conv.41 : __torch__.torch.nn.modules.conv.Conv2d = prim::GetAttr[name=\"conv\"](%proj.3)\n",
            "\t\t    %bias.279 : Tensor = prim::GetAttr[name=\"bias\"](%conv.41)\n",
            "\t\t    %weight.281 : Tensor = prim::GetAttr[name=\"weight\"](%conv.41)\n",
            "\t\t    %465 : int[] = prim::ListConstruct(%252, %252), scope: __module.model.6/__module.model.6.m.0/__module.model.6.m.0.1/__module.model.6.m.0.1.attn/__module.model.6.m.0.1.attn.proj/__module.model.6.m.0.1.attn.proj.conv\n",
            "\t\t    %466 : int[] = prim::ListConstruct(%251, %251), scope: __module.model.6/__module.model.6.m.0/__module.model.6.m.0.1/__module.model.6.m.0.1.attn/__module.model.6.m.0.1.attn.proj/__module.model.6.m.0.1.attn.proj.conv\n",
            "\t\t    %467 : int[] = prim::ListConstruct(%252, %252), scope: __module.model.6/__module.model.6.m.0/__module.model.6.m.0.1/__module.model.6.m.0.1.attn/__module.model.6.m.0.1.attn.proj/__module.model.6.m.0.1.attn.proj.conv\n",
            "\t\t    %468 : int[] = prim::ListConstruct(%251, %251), scope: __module.model.6/__module.model.6.m.0/__module.model.6.m.0.1/__module.model.6.m.0.1.attn/__module.model.6.m.0.1.attn.proj/__module.model.6.m.0.1.attn.proj.conv\n",
            "\t\t    %469 : Tensor = aten::_convolution(%input.63, %weight.281, %bias.279, %465, %466, %467, %250, %468, %252, %250, %249, %249, %249), scope: __module.model.6/__module.model.6.m.0/__module.model.6.m.0.1/__module.model.6.m.0.1.attn/__module.model.6.m.0.1.attn.proj/__module.model.6.m.0.1.attn.proj.conv # /usr/local/lib/python3.11/dist-packages/torch/nn/modules/conv.py:549:0\n",
            "\t\t    %input.65 : Tensor = aten::add(%x.11, %469, %252), scope: __module.model.6/__module.model.6.m.0/__module.model.6.m.0.1 # /content/yolov12/ultralytics/nn/modules/block.py:1310:0\n",
            "\t\t    %_1.9 : __torch__.ultralytics.nn.modules.conv.Conv = prim::GetAttr[name=\"1\"](%mlp.3)\n",
            "\t\t    %_0.11 : __torch__.ultralytics.nn.modules.conv.Conv = prim::GetAttr[name=\"0\"](%mlp.3)\n",
            "\t\t    %conv.43 : __torch__.torch.nn.modules.conv.Conv2d = prim::GetAttr[name=\"conv\"](%_0.11)\n",
            "\t\t    %bias.281 : Tensor = prim::GetAttr[name=\"bias\"](%conv.43)\n",
            "\t\t    %weight.283 : Tensor = prim::GetAttr[name=\"weight\"](%conv.43)\n",
            "\t\t    %476 : int[] = prim::ListConstruct(%252, %252), scope: __module.model.6/__module.model.6.m.0/__module.model.6.m.0.1/__module.model.6.m.0.1.mlp/__module.model.6.m.0.1.mlp.0/__module.model.6.m.0.1.mlp.0.conv\n",
            "\t\t    %477 : int[] = prim::ListConstruct(%251, %251), scope: __module.model.6/__module.model.6.m.0/__module.model.6.m.0.1/__module.model.6.m.0.1.mlp/__module.model.6.m.0.1.mlp.0/__module.model.6.m.0.1.mlp.0.conv\n",
            "\t\t    %478 : int[] = prim::ListConstruct(%252, %252), scope: __module.model.6/__module.model.6.m.0/__module.model.6.m.0.1/__module.model.6.m.0.1.mlp/__module.model.6.m.0.1.mlp.0/__module.model.6.m.0.1.mlp.0.conv\n",
            "\t\t    %479 : int[] = prim::ListConstruct(%251, %251), scope: __module.model.6/__module.model.6.m.0/__module.model.6.m.0.1/__module.model.6.m.0.1.mlp/__module.model.6.m.0.1.mlp.0/__module.model.6.m.0.1.mlp.0.conv\n",
            "\t\t    %input.67 : Tensor = aten::_convolution(%input.65, %weight.283, %bias.281, %476, %477, %478, %250, %479, %252, %250, %249, %249, %249), scope: __module.model.6/__module.model.6.m.0/__module.model.6.m.0.1/__module.model.6.m.0.1.mlp/__module.model.6.m.0.1.mlp.0/__module.model.6.m.0.1.mlp.0.conv # /usr/local/lib/python3.11/dist-packages/torch/nn/modules/conv.py:549:0\n",
            "\t\t    %input.69 : Tensor = aten::silu_(%input.67), scope: __module.model.6/__module.model.6.m.0/__module.model.6.m.0.1/__module.model.6.m.0.1.mlp/__module.model.6.m.0.1.mlp.0/__module.model.21.cv3.2.1.1.act # /usr/local/lib/python3.11/dist-packages/torch/nn/functional.py:2379:0\n",
            "\t\t    %act.17 : __torch__.torch.nn.modules.linear.Identity = prim::GetAttr[name=\"act\"](%_1.9)\n",
            "\t\t    %conv.45 : __torch__.torch.nn.modules.conv.Conv2d = prim::GetAttr[name=\"conv\"](%_1.9)\n",
            "\t\t    %bias.283 : Tensor = prim::GetAttr[name=\"bias\"](%conv.45)\n",
            "\t\t    %weight.285 : Tensor = prim::GetAttr[name=\"weight\"](%conv.45)\n",
            "\t\t    %486 : int[] = prim::ListConstruct(%252, %252), scope: __module.model.6/__module.model.6.m.0/__module.model.6.m.0.1/__module.model.6.m.0.1.mlp/__module.model.6.m.0.1.mlp.1/__module.model.6.m.0.1.mlp.1.conv\n",
            "\t\t    %487 : int[] = prim::ListConstruct(%251, %251), scope: __module.model.6/__module.model.6.m.0/__module.model.6.m.0.1/__module.model.6.m.0.1.mlp/__module.model.6.m.0.1.mlp.1/__module.model.6.m.0.1.mlp.1.conv\n",
            "\t\t    %488 : int[] = prim::ListConstruct(%252, %252), scope: __module.model.6/__module.model.6.m.0/__module.model.6.m.0.1/__module.model.6.m.0.1.mlp/__module.model.6.m.0.1.mlp.1/__module.model.6.m.0.1.mlp.1.conv\n",
            "\t\t    %489 : int[] = prim::ListConstruct(%251, %251), scope: __module.model.6/__module.model.6.m.0/__module.model.6.m.0.1/__module.model.6.m.0.1.mlp/__module.model.6.m.0.1.mlp.1/__module.model.6.m.0.1.mlp.1.conv\n",
            "\t\t    %490 : Tensor = aten::_convolution(%input.69, %weight.285, %bias.283, %486, %487, %488, %250, %489, %252, %250, %249, %249, %249), scope: __module.model.6/__module.model.6.m.0/__module.model.6.m.0.1/__module.model.6.m.0.1.mlp/__module.model.6.m.0.1.mlp.1/__module.model.6.m.0.1.mlp.1.conv # /usr/local/lib/python3.11/dist-packages/torch/nn/modules/conv.py:549:0\n",
            "\t\t    %x.19 : Tensor = aten::add(%input.65, %490, %252), scope: __module.model.6/__module.model.6.m.0/__module.model.6.m.0.1 # /content/yolov12/ultralytics/nn/modules/block.py:1311:0\n",
            "\t\t    %_1.17 : __torch__.ultralytics.nn.modules.block.ABlock = prim::GetAttr[name=\"1\"](%_1.19)\n",
            "\t\t    %_0.17 : __torch__.ultralytics.nn.modules.block.ABlock = prim::GetAttr[name=\"0\"](%_1.19)\n",
            "\t\t    %mlp.5 : __torch__.torch.nn.modules.container.Sequential = prim::GetAttr[name=\"mlp\"](%_0.17)\n",
            "\t\t    %attn.5 : __torch__.ultralytics.nn.modules.block.AAttn = prim::GetAttr[name=\"attn\"](%_0.17)\n",
            "\t\t    %proj.5 : __torch__.ultralytics.nn.modules.conv.Conv = prim::GetAttr[name=\"proj\"](%attn.5)\n",
            "\t\t    %pe.5 : __torch__.ultralytics.nn.modules.conv.Conv = prim::GetAttr[name=\"pe\"](%attn.5)\n",
            "\t\t    %qkv.29 : __torch__.ultralytics.nn.modules.conv.Conv = prim::GetAttr[name=\"qkv\"](%attn.5)\n",
            "\t\t    %499 : int = aten::size(%x.19, %251), scope: __module.model.6/__module.model.6.m.1/__module.model.6.m.1.0/__module.model.6.m.1.0.attn # /content/yolov12/ultralytics/nn/modules/block.py:1219:0\n",
            "\t\t    %B.13 : Tensor = prim::NumToTensor(%499), scope: __module.model.6/__module.model.6.m.1/__module.model.6.m.1.0/__module.model.6.m.1.0.attn\n",
            "\t\t    %501 : int = aten::size(%x.19, %252), scope: __module.model.6/__module.model.6.m.1/__module.model.6.m.1.0/__module.model.6.m.1.0.attn # /content/yolov12/ultralytics/nn/modules/block.py:1219:0\n",
            "\t\t    %C.5 : Tensor = prim::NumToTensor(%501), scope: __module.model.6/__module.model.6.m.1/__module.model.6.m.1.0/__module.model.6.m.1.0.attn\n",
            "\t\t    %503 : int = aten::size(%x.19, %237), scope: __module.model.6/__module.model.6.m.1/__module.model.6.m.1.0/__module.model.6.m.1.0.attn # /content/yolov12/ultralytics/nn/modules/block.py:1219:0\n",
            "\t\t    %H.5 : Tensor = prim::NumToTensor(%503), scope: __module.model.6/__module.model.6.m.1/__module.model.6.m.1.0/__module.model.6.m.1.0.attn\n",
            "\t\t    %505 : int = aten::size(%x.19, %238), scope: __module.model.6/__module.model.6.m.1/__module.model.6.m.1.0/__module.model.6.m.1.0.attn # /content/yolov12/ultralytics/nn/modules/block.py:1219:0\n",
            "\t\t    %W.5 : Tensor = prim::NumToTensor(%505), scope: __module.model.6/__module.model.6.m.1/__module.model.6.m.1.0/__module.model.6.m.1.0.attn\n",
            "\t\t    %507 : Tensor = aten::mul(%H.5, %W.5), scope: __module.model.6/__module.model.6.m.1/__module.model.6.m.1.0/__module.model.6.m.1.0.attn # /content/yolov12/ultralytics/nn/modules/block.py:1220:0\n",
            "\t\t    %conv.47 : __torch__.torch.nn.modules.conv.Conv2d = prim::GetAttr[name=\"conv\"](%qkv.29)\n",
            "\t\t    %bias.285 : Tensor = prim::GetAttr[name=\"bias\"](%conv.47)\n",
            "\t\t    %weight.287 : Tensor = prim::GetAttr[name=\"weight\"](%conv.47)\n",
            "\t\t    %511 : int[] = prim::ListConstruct(%252, %252), scope: __module.model.6/__module.model.6.m.1/__module.model.6.m.1.0/__module.model.6.m.1.0.attn/__module.model.6.m.1.0.attn.qkv/__module.model.6.m.1.0.attn.qkv.conv\n",
            "\t\t    %512 : int[] = prim::ListConstruct(%251, %251), scope: __module.model.6/__module.model.6.m.1/__module.model.6.m.1.0/__module.model.6.m.1.0.attn/__module.model.6.m.1.0.attn.qkv/__module.model.6.m.1.0.attn.qkv.conv\n",
            "\t\t    %513 : int[] = prim::ListConstruct(%252, %252), scope: __module.model.6/__module.model.6.m.1/__module.model.6.m.1.0/__module.model.6.m.1.0.attn/__module.model.6.m.1.0.attn.qkv/__module.model.6.m.1.0.attn.qkv.conv\n",
            "\t\t    %514 : int[] = prim::ListConstruct(%251, %251), scope: __module.model.6/__module.model.6.m.1/__module.model.6.m.1.0/__module.model.6.m.1.0.attn/__module.model.6.m.1.0.attn.qkv/__module.model.6.m.1.0.attn.qkv.conv\n",
            "\t\t    %515 : Tensor = aten::_convolution(%x.19, %weight.287, %bias.285, %511, %512, %513, %250, %514, %252, %250, %249, %249, %249), scope: __module.model.6/__module.model.6.m.1/__module.model.6.m.1.0/__module.model.6.m.1.0.attn/__module.model.6.m.1.0.attn.qkv/__module.model.6.m.1.0.attn.qkv.conv # /usr/local/lib/python3.11/dist-packages/torch/nn/modules/conv.py:549:0\n",
            "\t\t    %516 : Tensor = aten::flatten(%515, %237, %239), scope: __module.model.6/__module.model.6.m.1/__module.model.6.m.1.0/__module.model.6.m.1.0.attn # /content/yolov12/ultralytics/nn/modules/block.py:1222:0\n",
            "\t\t    %qkv.9 : Tensor = aten::transpose(%516, %252, %237), scope: __module.model.6/__module.model.6.m.1/__module.model.6.m.1.0/__module.model.6.m.1.0.attn # /content/yolov12/ultralytics/nn/modules/block.py:1222:0\n",
            "\t\t    %518 : Tensor = aten::mul(%B.13, %240), scope: __module.model.6/__module.model.6.m.1/__module.model.6.m.1.0/__module.model.6.m.1.0.attn # /content/yolov12/ultralytics/nn/modules/block.py:1224:0\n",
            "\t\t    %519 : int = aten::Int(%518), scope: __module.model.6/__module.model.6.m.1/__module.model.6.m.1.0/__module.model.6.m.1.0.attn\n",
            "\t\t    %520 : Tensor = aten::floor_divide(%507, %240), scope: __module.model.6/__module.model.6.m.1/__module.model.6.m.1.0/__module.model.6.m.1.0.attn # /usr/local/lib/python3.11/dist-packages/torch/_tensor.py:1061:0\n",
            "\t\t    %521 : int = aten::Int(%520), scope: __module.model.6/__module.model.6.m.1/__module.model.6.m.1.0/__module.model.6.m.1.0.attn\n",
            "\t\t    %522 : Tensor = aten::mul(%C.5, %241), scope: __module.model.6/__module.model.6.m.1/__module.model.6.m.1.0/__module.model.6.m.1.0.attn # /content/yolov12/ultralytics/nn/modules/block.py:1224:0\n",
            "\t\t    %523 : int = aten::Int(%522), scope: __module.model.6/__module.model.6.m.1/__module.model.6.m.1.0/__module.model.6.m.1.0.attn\n",
            "\t\t    %524 : int[] = prim::ListConstruct(%519, %521, %523), scope: __module.model.6/__module.model.6.m.1/__module.model.6.m.1.0/__module.model.6.m.1.0.attn\n",
            "\t\t    %qkv.11 : Tensor = aten::reshape(%qkv.9, %524), scope: __module.model.6/__module.model.6.m.1/__module.model.6.m.1.0/__module.model.6.m.1.0.attn # /content/yolov12/ultralytics/nn/modules/block.py:1224:0\n",
            "\t\t    %526 : int = aten::size(%qkv.11, %251), scope: __module.model.6/__module.model.6.m.1/__module.model.6.m.1.0/__module.model.6.m.1.0.attn # /content/yolov12/ultralytics/nn/modules/block.py:1225:0\n",
            "\t\t    %B.15 : Tensor = prim::NumToTensor(%526), scope: __module.model.6/__module.model.6.m.1/__module.model.6.m.1.0/__module.model.6.m.1.0.attn\n",
            "\t\t    %528 : int = aten::size(%qkv.11, %252), scope: __module.model.6/__module.model.6.m.1/__module.model.6.m.1.0/__module.model.6.m.1.0.attn # /content/yolov12/ultralytics/nn/modules/block.py:1225:0\n",
            "\t\t    %N.5 : Tensor = prim::NumToTensor(%528), scope: __module.model.6/__module.model.6.m.1/__module.model.6.m.1.0/__module.model.6.m.1.0.attn\n",
            "\t\t    %530 : int[] = prim::ListConstruct(%526, %528, %242, %243), scope: __module.model.6/__module.model.6.m.1/__module.model.6.m.1.0/__module.model.6.m.1.0.attn\n",
            "\t\t    %531 : Tensor = aten::view(%qkv.11, %530), scope: __module.model.6/__module.model.6.m.1/__module.model.6.m.1.0/__module.model.6.m.1.0.attn # /content/yolov12/ultralytics/nn/modules/block.py:1226:0\n",
            "\t\t    %532 : int[] = prim::ListConstruct(%244, %244, %244), scope: __module.model.6/__module.model.6.m.1/__module.model.6.m.1.0/__module.model.6.m.1.0.attn\n",
            "\t\t    %533 : Tensor[] = aten::split_with_sizes(%531, %532, %238), scope: __module.model.6/__module.model.6.m.1/__module.model.6.m.1.0/__module.model.6.m.1.0.attn # /usr/local/lib/python3.11/dist-packages/torch/_tensor.py:983:0\n",
            "\t\t    %q.9 : Tensor, %k.5 : Tensor, %v.9 : Tensor = prim::ListUnpack(%533), scope: __module.model.6/__module.model.6.m.1/__module.model.6.m.1.0/__module.model.6.m.1.0.attn\n",
            "\t\t    %537 : Tensor = aten::contiguous(%q.9, %251), scope: __module.model.6/__module.model.6.m.1/__module.model.6.m.1.0/__module.model.6.m.1.0.attn # /content/yolov12/ultralytics/nn/modules/block.py:1232:0\n",
            "\t\t    %q.11 : Tensor = aten::to(%537, %245, %250, %250, %246), scope: __module.model.6/__module.model.6.m.1/__module.model.6.m.1.0/__module.model.6.m.1.0.attn # /content/yolov12/ultralytics/nn/modules/block.py:1232:0\n",
            "\t\t    %539 : Tensor = aten::contiguous(%k.5, %251), scope: __module.model.6/__module.model.6.m.1/__module.model.6.m.1.0/__module.model.6.m.1.0.attn # /content/yolov12/ultralytics/nn/modules/block.py:1233:0\n",
            "\t\t    %540 : Tensor = aten::to(%539, %245, %250, %250, %246), scope: __module.model.6/__module.model.6.m.1/__module.model.6.m.1.0/__module.model.6.m.1.0.attn # /content/yolov12/ultralytics/nn/modules/block.py:1233:0\n",
            "\t\t    %541 : Tensor = aten::contiguous(%v.9, %251), scope: __module.model.6/__module.model.6.m.1/__module.model.6.m.1.0/__module.model.6.m.1.0.attn # /content/yolov12/ultralytics/nn/modules/block.py:1234:0\n",
            "\t\t    %542 : Tensor = aten::to(%541, %245, %250, %250, %246), scope: __module.model.6/__module.model.6.m.1/__module.model.6.m.1.0/__module.model.6.m.1.0.attn # /content/yolov12/ultralytics/nn/modules/block.py:1234:0\n",
            "\t\t-   %543 : Tensor = ^FlashAttnFunc[inplace=0, module=\"flash_attn.flash_attn_interface\", Subgraph=<Graph>](0.0, None, False, (-1, -1), 0.0, None, False, False, True)(%q.11, %540, %542), scope: __module.model.6/__module.model.6.m.1/__module.model.6.m.1.0/__module.model.6.m.1.0.attn # /usr/local/lib/python3.11/dist-packages/torch/autograd/function.py:575:0\n",
            "\t\t?                                                                                                                                                              ^^^\n",
            "\t\t+   %543 : Tensor = ^FlashAttnFunc[inplace=0, module=\"flash_attn.flash_attn_interface\", Subgraph=<Graph>](0.0, None, False, (-1, -1), 0.0, None, False, False, False)(%q.11, %540, %542), scope: __module.model.6/__module.model.6.m.1/__module.model.6.m.1.0/__module.model.6.m.1.0.attn # /usr/local/lib/python3.11/dist-packages/torch/autograd/function.py:575:0\n",
            "\t\t?                                                                                                                                                              ^^^^\n",
            "\t\t    %x.21 : Tensor = aten::to(%543, %247, %250, %250, %246), scope: __module.model.6/__module.model.6.m.1/__module.model.6.m.1.0/__module.model.6.m.1.0.attn # /content/yolov12/ultralytics/nn/modules/block.py:1235:0\n",
            "\t\t    %545 : Tensor = aten::floor_divide(%B.15, %240), scope: __module.model.6/__module.model.6.m.1/__module.model.6.m.1.0/__module.model.6.m.1.0.attn # /usr/local/lib/python3.11/dist-packages/torch/_tensor.py:1061:0\n",
            "\t\t    %546 : int = aten::Int(%545), scope: __module.model.6/__module.model.6.m.1/__module.model.6.m.1.0/__module.model.6.m.1.0.attn\n",
            "\t\t    %547 : Tensor = aten::mul(%N.5, %240), scope: __module.model.6/__module.model.6.m.1/__module.model.6.m.1.0/__module.model.6.m.1.0.attn # /content/yolov12/ultralytics/nn/modules/block.py:1252:0\n",
            "\t\t    %548 : int = aten::Int(%547), scope: __module.model.6/__module.model.6.m.1/__module.model.6.m.1.0/__module.model.6.m.1.0.attn\n",
            "\t\t    %549 : int[] = prim::ListConstruct(%546, %548, %501), scope: __module.model.6/__module.model.6.m.1/__module.model.6.m.1.0/__module.model.6.m.1.0.attn\n",
            "\t\t    %x.23 : Tensor = aten::reshape(%x.21, %549), scope: __module.model.6/__module.model.6.m.1/__module.model.6.m.1.0/__module.model.6.m.1.0.attn # /content/yolov12/ultralytics/nn/modules/block.py:1252:0\n",
            "\t\t    %551 : Tensor = aten::floor_divide(%B.15, %240), scope: __module.model.6/__module.model.6.m.1/__module.model.6.m.1.0/__module.model.6.m.1.0.attn # /usr/local/lib/python3.11/dist-packages/torch/_tensor.py:1061:0\n",
            "\t\t    %552 : int = aten::Int(%551), scope: __module.model.6/__module.model.6.m.1/__module.model.6.m.1.0/__module.model.6.m.1.0.attn\n",
            "\t\t    %553 : Tensor = aten::mul(%N.5, %240), scope: __module.model.6/__module.model.6.m.1/__module.model.6.m.1.0/__module.model.6.m.1.0.attn # /content/yolov12/ultralytics/nn/modules/block.py:1253:0\n",
            "\t\t    %554 : int = aten::Int(%553), scope: __module.model.6/__module.model.6.m.1/__module.model.6.m.1.0/__module.model.6.m.1.0.attn\n",
            "\t\t    %555 : int[] = prim::ListConstruct(%552, %554, %501), scope: __module.model.6/__module.model.6.m.1/__module.model.6.m.1.0/__module.model.6.m.1.0.attn\n",
            "\t\t    %v.11 : Tensor = aten::reshape(%v.9, %555), scope: __module.model.6/__module.model.6.m.1/__module.model.6.m.1.0/__module.model.6.m.1.0.attn # /content/yolov12/ultralytics/nn/modules/block.py:1253:0\n",
            "\t\t    %557 : int = aten::size(%x.23, %251), scope: __module.model.6/__module.model.6.m.1/__module.model.6.m.1.0/__module.model.6.m.1.0.attn # /content/yolov12/ultralytics/nn/modules/block.py:1254:0\n",
            "\t\t    %558 : int[] = prim::ListConstruct(%557, %503, %505, %501), scope: __module.model.6/__module.model.6.m.1/__module.model.6.m.1.0/__module.model.6.m.1.0.attn\n",
            "\t\t    %559 : Tensor = aten::reshape(%x.23, %558), scope: __module.model.6/__module.model.6.m.1/__module.model.6.m.1.0/__module.model.6.m.1.0.attn # /content/yolov12/ultralytics/nn/modules/block.py:1256:0\n",
            "\t\t    %560 : int[] = prim::ListConstruct(%251, %238, %252, %237), scope: __module.model.6/__module.model.6.m.1/__module.model.6.m.1.0/__module.model.6.m.1.0.attn\n",
            "\t\t    %x.25 : Tensor = aten::permute(%559, %560), scope: __module.model.6/__module.model.6.m.1/__module.model.6.m.1.0/__module.model.6.m.1.0.attn # /content/yolov12/ultralytics/nn/modules/block.py:1256:0\n",
            "\t\t    %562 : int[] = prim::ListConstruct(%557, %503, %505, %501), scope: __module.model.6/__module.model.6.m.1/__module.model.6.m.1.0/__module.model.6.m.1.0.attn\n",
            "\t\t    %563 : Tensor = aten::reshape(%v.11, %562), scope: __module.model.6/__module.model.6.m.1/__module.model.6.m.1.0/__module.model.6.m.1.0.attn # /content/yolov12/ultralytics/nn/modules/block.py:1257:0\n",
            "\t\t    %564 : int[] = prim::ListConstruct(%251, %238, %252, %237), scope: __module.model.6/__module.model.6.m.1/__module.model.6.m.1.0/__module.model.6.m.1.0.attn\n",
            "\t\t    %input.71 : Tensor = aten::permute(%563, %564), scope: __module.model.6/__module.model.6.m.1/__module.model.6.m.1.0/__module.model.6.m.1.0.attn # /content/yolov12/ultralytics/nn/modules/block.py:1257:0\n",
            "\t\t    %conv.49 : __torch__.torch.nn.modules.conv.Conv2d = prim::GetAttr[name=\"conv\"](%pe.5)\n",
            "\t\t    %bias.287 : Tensor = prim::GetAttr[name=\"bias\"](%conv.49)\n",
            "\t\t    %weight.289 : Tensor = prim::GetAttr[name=\"weight\"](%conv.49)\n",
            "\t\t    %569 : int[] = prim::ListConstruct(%252, %252), scope: __module.model.6/__module.model.6.m.1/__module.model.6.m.1.0/__module.model.6.m.1.0.attn/__module.model.6.m.1.0.attn.pe/__module.model.6.m.1.0.attn.pe.conv\n",
            "\t\t    %570 : int[] = prim::ListConstruct(%238, %238), scope: __module.model.6/__module.model.6.m.1/__module.model.6.m.1.0/__module.model.6.m.1.0.attn/__module.model.6.m.1.0.attn.pe/__module.model.6.m.1.0.attn.pe.conv\n",
            "\t\t    %571 : int[] = prim::ListConstruct(%252, %252), scope: __module.model.6/__module.model.6.m.1/__module.model.6.m.1.0/__module.model.6.m.1.0.attn/__module.model.6.m.1.0.attn.pe/__module.model.6.m.1.0.attn.pe.conv\n",
            "\t\t    %572 : int[] = prim::ListConstruct(%251, %251), scope: __module.model.6/__module.model.6.m.1/__module.model.6.m.1.0/__module.model.6.m.1.0.attn/__module.model.6.m.1.0.attn.pe/__module.model.6.m.1.0.attn.pe.conv\n",
            "\t\t    %573 : Tensor = aten::_convolution(%input.71, %weight.289, %bias.287, %569, %570, %571, %250, %572, %248, %250, %249, %249, %249), scope: __module.model.6/__module.model.6.m.1/__module.model.6.m.1.0/__module.model.6.m.1.0.attn/__module.model.6.m.1.0.attn.pe/__module.model.6.m.1.0.attn.pe.conv # /usr/local/lib/python3.11/dist-packages/torch/nn/modules/conv.py:549:0\n",
            "\t\t    %input.73 : Tensor = aten::add(%x.25, %573, %252), scope: __module.model.6/__module.model.6.m.1/__module.model.6.m.1.0/__module.model.6.m.1.0.attn # /content/yolov12/ultralytics/nn/modules/block.py:1259:0\n",
            "\t\t    %conv.51 : __torch__.torch.nn.modules.conv.Conv2d = prim::GetAttr[name=\"conv\"](%proj.5)\n",
            "\t\t    %bias.289 : Tensor = prim::GetAttr[name=\"bias\"](%conv.51)\n",
            "\t\t    %weight.291 : Tensor = prim::GetAttr[name=\"weight\"](%conv.51)\n",
            "\t\t    %578 : int[] = prim::ListConstruct(%252, %252), scope: __module.model.6/__module.model.6.m.1/__module.model.6.m.1.0/__module.model.6.m.1.0.attn/__module.model.6.m.1.0.attn.proj/__module.model.6.m.1.0.attn.proj.conv\n",
            "\t\t    %579 : int[] = prim::ListConstruct(%251, %251), scope: __module.model.6/__module.model.6.m.1/__module.model.6.m.1.0/__module.model.6.m.1.0.attn/__module.model.6.m.1.0.attn.proj/__module.model.6.m.1.0.attn.proj.conv\n",
            "\t\t    %580 : int[] = prim::ListConstruct(%252, %252), scope: __module.model.6/__module.model.6.m.1/__module.model.6.m.1.0/__module.model.6.m.1.0.attn/__module.model.6.m.1.0.attn.proj/__module.model.6.m.1.0.attn.proj.conv\n",
            "\t\t    %581 : int[] = prim::ListConstruct(%251, %251), scope: __module.model.6/__module.model.6.m.1/__module.model.6.m.1.0/__module.model.6.m.1.0.attn/__module.model.6.m.1.0.attn.proj/__module.model.6.m.1.0.attn.proj.conv\n",
            "\t\t    %582 : Tensor = aten::_convolution(%input.73, %weight.291, %bias.289, %578, %579, %580, %250, %581, %252, %250, %249, %249, %249), scope: __module.model.6/__module.model.6.m.1/__module.model.6.m.1.0/__module.model.6.m.1.0.attn/__module.model.6.m.1.0.attn.proj/__module.model.6.m.1.0.attn.proj.conv # /usr/local/lib/python3.11/dist-packages/torch/nn/modules/conv.py:549:0\n",
            "\t\t    %input.75 : Tensor = aten::add(%x.19, %582, %252), scope: __module.model.6/__module.model.6.m.1/__module.model.6.m.1.0 # /content/yolov12/ultralytics/nn/modules/block.py:1310:0\n",
            "\t\t    %_1.13 : __torch__.ultralytics.nn.modules.conv.Conv = prim::GetAttr[name=\"1\"](%mlp.5)\n",
            "\t\t    %_0.15 : __torch__.ultralytics.nn.modules.conv.Conv = prim::GetAttr[name=\"0\"](%mlp.5)\n",
            "\t\t    %conv.53 : __torch__.torch.nn.modules.conv.Conv2d = prim::GetAttr[name=\"conv\"](%_0.15)\n",
            "\t\t    %bias.291 : Tensor = prim::GetAttr[name=\"bias\"](%conv.53)\n",
            "\t\t    %weight.293 : Tensor = prim::GetAttr[name=\"weight\"](%conv.53)\n",
            "\t\t    %589 : int[] = prim::ListConstruct(%252, %252), scope: __module.model.6/__module.model.6.m.1/__module.model.6.m.1.0/__module.model.6.m.1.0.mlp/__module.model.6.m.1.0.mlp.0/__module.model.6.m.1.0.mlp.0.conv\n",
            "\t\t    %590 : int[] = prim::ListConstruct(%251, %251), scope: __module.model.6/__module.model.6.m.1/__module.model.6.m.1.0/__module.model.6.m.1.0.mlp/__module.model.6.m.1.0.mlp.0/__module.model.6.m.1.0.mlp.0.conv\n",
            "\t\t    %591 : int[] = prim::ListConstruct(%252, %252), scope: __module.model.6/__module.model.6.m.1/__module.model.6.m.1.0/__module.model.6.m.1.0.mlp/__module.model.6.m.1.0.mlp.0/__module.model.6.m.1.0.mlp.0.conv\n",
            "\t\t    %592 : int[] = prim::ListConstruct(%251, %251), scope: __module.model.6/__module.model.6.m.1/__module.model.6.m.1.0/__module.model.6.m.1.0.mlp/__module.model.6.m.1.0.mlp.0/__module.model.6.m.1.0.mlp.0.conv\n",
            "\t\t    %input.77 : Tensor = aten::_convolution(%input.75, %weight.293, %bias.291, %589, %590, %591, %250, %592, %252, %250, %249, %249, %249), scope: __module.model.6/__module.model.6.m.1/__module.model.6.m.1.0/__module.model.6.m.1.0.mlp/__module.model.6.m.1.0.mlp.0/__module.model.6.m.1.0.mlp.0.conv # /usr/local/lib/python3.11/dist-packages/torch/nn/modules/conv.py:549:0\n",
            "\t\t    %input.79 : Tensor = aten::silu_(%input.77), scope: __module.model.6/__module.model.6.m.1/__module.model.6.m.1.0/__module.model.6.m.1.0.mlp/__module.model.6.m.1.0.mlp.0/__module.model.21.cv3.2.1.1.act # /usr/local/lib/python3.11/dist-packages/torch/nn/functional.py:2379:0\n",
            "\t\t    %act.25 : __torch__.torch.nn.modules.linear.Identity = prim::GetAttr[name=\"act\"](%_1.13)\n",
            "\t\t    %conv.55 : __torch__.torch.nn.modules.conv.Conv2d = prim::GetAttr[name=\"conv\"](%_1.13)\n",
            "\t\t    %bias.293 : Tensor = prim::GetAttr[name=\"bias\"](%conv.55)\n",
            "\t\t    %weight.295 : Tensor = prim::GetAttr[name=\"weight\"](%conv.55)\n",
            "\t\t    %599 : int[] = prim::ListConstruct(%252, %252), scope: __module.model.6/__module.model.6.m.1/__module.model.6.m.1.0/__module.model.6.m.1.0.mlp/__module.model.6.m.1.0.mlp.1/__module.model.6.m.1.0.mlp.1.conv\n",
            "\t\t    %600 : int[] = prim::ListConstruct(%251, %251), scope: __module.model.6/__module.model.6.m.1/__module.model.6.m.1.0/__module.model.6.m.1.0.mlp/__module.model.6.m.1.0.mlp.1/__module.model.6.m.1.0.mlp.1.conv\n",
            "\t\t    %601 : int[] = prim::ListConstruct(%252, %252), scope: __module.model.6/__module.model.6.m.1/__module.model.6.m.1.0/__module.model.6.m.1.0.mlp/__module.model.6.m.1.0.mlp.1/__module.model.6.m.1.0.mlp.1.conv\n",
            "\t\t    %602 : int[] = prim::ListConstruct(%251, %251), scope: __module.model.6/__module.model.6.m.1/__module.model.6.m.1.0/__module.model.6.m.1.0.mlp/__module.model.6.m.1.0.mlp.1/__module.model.6.m.1.0.mlp.1.conv\n",
            "\t\t    %603 : Tensor = aten::_convolution(%input.79, %weight.295, %bias.293, %599, %600, %601, %250, %602, %252, %250, %249, %249, %249), scope: __module.model.6/__module.model.6.m.1/__module.model.6.m.1.0/__module.model.6.m.1.0.mlp/__module.model.6.m.1.0.mlp.1/__module.model.6.m.1.0.mlp.1.conv # /usr/local/lib/python3.11/dist-packages/torch/nn/modules/conv.py:549:0\n",
            "\t\t    %x.27 : Tensor = aten::add(%input.75, %603, %252), scope: __module.model.6/__module.model.6.m.1/__module.model.6.m.1.0 # /content/yolov12/ultralytics/nn/modules/block.py:1311:0\n",
            "\t\t    %mlp.7 : __torch__.torch.nn.modules.container.Sequential = prim::GetAttr[name=\"mlp\"](%_1.17)\n",
            "\t\t    %attn.7 : __torch__.ultralytics.nn.modules.block.AAttn = prim::GetAttr[name=\"attn\"](%_1.17)\n",
            "\t\t    %proj.7 : __torch__.ultralytics.nn.modules.conv.Conv = prim::GetAttr[name=\"proj\"](%attn.7)\n",
            "\t\t    %pe.7 : __torch__.ultralytics.nn.modules.conv.Conv = prim::GetAttr[name=\"pe\"](%attn.7)\n",
            "\t\t    %qkv.31 : __torch__.ultralytics.nn.modules.conv.Conv = prim::GetAttr[name=\"qkv\"](%attn.7)\n",
            "\t\t    %610 : int = aten::size(%x.27, %251), scope: __module.model.6/__module.model.6.m.1/__module.model.6.m.1.1/__module.model.6.m.1.1.attn # /content/yolov12/ultralytics/nn/modules/block.py:1219:0\n",
            "\t\t    %B.19 : Tensor = prim::NumToTensor(%610), scope: __module.model.6/__module.model.6.m.1/__module.model.6.m.1.1/__module.model.6.m.1.1.attn\n",
            "\t\t    %612 : int = aten::size(%x.27, %252), scope: __module.model.6/__module.model.6.m.1/__module.model.6.m.1.1/__module.model.6.m.1.1.attn # /content/yolov12/ultralytics/nn/modules/block.py:1219:0\n",
            "\t\t    %C.7 : Tensor = prim::NumToTensor(%612), scope: __module.model.6/__module.model.6.m.1/__module.model.6.m.1.1/__module.model.6.m.1.1.attn\n",
            "\t\t    %614 : int = aten::size(%x.27, %237), scope: __module.model.6/__module.model.6.m.1/__module.model.6.m.1.1/__module.model.6.m.1.1.attn # /content/yolov12/ultralytics/nn/modules/block.py:1219:0\n",
            "\t\t    %H.7 : Tensor = prim::NumToTensor(%614), scope: __module.model.6/__module.model.6.m.1/__module.model.6.m.1.1/__module.model.6.m.1.1.attn\n",
            "\t\t    %616 : int = aten::size(%x.27, %238), scope: __module.model.6/__module.model.6.m.1/__module.model.6.m.1.1/__module.model.6.m.1.1.attn # /content/yolov12/ultralytics/nn/modules/block.py:1219:0\n",
            "\t\t    %W.7 : Tensor = prim::NumToTensor(%616), scope: __module.model.6/__module.model.6.m.1/__module.model.6.m.1.1/__module.model.6.m.1.1.attn\n",
            "\t\t    %618 : Tensor = aten::mul(%H.7, %W.7), scope: __module.model.6/__module.model.6.m.1/__module.model.6.m.1.1/__module.model.6.m.1.1.attn # /content/yolov12/ultralytics/nn/modules/block.py:1220:0\n",
            "\t\t    %conv.57 : __torch__.torch.nn.modules.conv.Conv2d = prim::GetAttr[name=\"conv\"](%qkv.31)\n",
            "\t\t    %bias.295 : Tensor = prim::GetAttr[name=\"bias\"](%conv.57)\n",
            "\t\t    %weight.297 : Tensor = prim::GetAttr[name=\"weight\"](%conv.57)\n",
            "\t\t    %622 : int[] = prim::ListConstruct(%252, %252), scope: __module.model.6/__module.model.6.m.1/__module.model.6.m.1.1/__module.model.6.m.1.1.attn/__module.model.6.m.1.1.attn.qkv/__module.model.6.m.1.1.attn.qkv.conv\n",
            "\t\t    %623 : int[] = prim::ListConstruct(%251, %251), scope: __module.model.6/__module.model.6.m.1/__module.model.6.m.1.1/__module.model.6.m.1.1.attn/__module.model.6.m.1.1.attn.qkv/__module.model.6.m.1.1.attn.qkv.conv\n",
            "\t\t    %624 : int[] = prim::ListConstruct(%252, %252), scope: __module.model.6/__module.model.6.m.1/__module.model.6.m.1.1/__module.model.6.m.1.1.attn/__module.model.6.m.1.1.attn.qkv/__module.model.6.m.1.1.attn.qkv.conv\n",
            "\t\t    %625 : int[] = prim::ListConstruct(%251, %251), scope: __module.model.6/__module.model.6.m.1/__module.model.6.m.1.1/__module.model.6.m.1.1.attn/__module.model.6.m.1.1.attn.qkv/__module.model.6.m.1.1.attn.qkv.conv\n",
            "\t\t    %626 : Tensor = aten::_convolution(%x.27, %weight.297, %bias.295, %622, %623, %624, %250, %625, %252, %250, %249, %249, %249), scope: __module.model.6/__module.model.6.m.1/__module.model.6.m.1.1/__module.model.6.m.1.1.attn/__module.model.6.m.1.1.attn.qkv/__module.model.6.m.1.1.attn.qkv.conv # /usr/local/lib/python3.11/dist-packages/torch/nn/modules/conv.py:549:0\n",
            "\t\t    %627 : Tensor = aten::flatten(%626, %237, %239), scope: __module.model.6/__module.model.6.m.1/__module.model.6.m.1.1/__module.model.6.m.1.1.attn # /content/yolov12/ultralytics/nn/modules/block.py:1222:0\n",
            "\t\t    %qkv.13 : Tensor = aten::transpose(%627, %252, %237), scope: __module.model.6/__module.model.6.m.1/__module.model.6.m.1.1/__module.model.6.m.1.1.attn # /content/yolov12/ultralytics/nn/modules/block.py:1222:0\n",
            "\t\t    %629 : Tensor = aten::mul(%B.19, %240), scope: __module.model.6/__module.model.6.m.1/__module.model.6.m.1.1/__module.model.6.m.1.1.attn # /content/yolov12/ultralytics/nn/modules/block.py:1224:0\n",
            "\t\t    %630 : int = aten::Int(%629), scope: __module.model.6/__module.model.6.m.1/__module.model.6.m.1.1/__module.model.6.m.1.1.attn\n",
            "\t\t    %631 : Tensor = aten::floor_divide(%618, %240), scope: __module.model.6/__module.model.6.m.1/__module.model.6.m.1.1/__module.model.6.m.1.1.attn # /usr/local/lib/python3.11/dist-packages/torch/_tensor.py:1061:0\n",
            "\t\t    %632 : int = aten::Int(%631), scope: __module.model.6/__module.model.6.m.1/__module.model.6.m.1.1/__module.model.6.m.1.1.attn\n",
            "\t\t    %633 : Tensor = aten::mul(%C.7, %241), scope: __module.model.6/__module.model.6.m.1/__module.model.6.m.1.1/__module.model.6.m.1.1.attn # /content/yolov12/ultralytics/nn/modules/block.py:1224:0\n",
            "\t\t    %634 : int = aten::Int(%633), scope: __module.model.6/__module.model.6.m.1/__module.model.6.m.1.1/__module.model.6.m.1.1.attn\n",
            "\t\t    %635 : int[] = prim::ListConstruct(%630, %632, %634), scope: __module.model.6/__module.model.6.m.1/__module.model.6.m.1.1/__module.model.6.m.1.1.attn\n",
            "\t\t    %qkv.15 : Tensor = aten::reshape(%qkv.13, %635), scope: __module.model.6/__module.model.6.m.1/__module.model.6.m.1.1/__module.model.6.m.1.1.attn # /content/yolov12/ultralytics/nn/modules/block.py:1224:0\n",
            "\t\t    %637 : int = aten::size(%qkv.15, %251), scope: __module.model.6/__module.model.6.m.1/__module.model.6.m.1.1/__module.model.6.m.1.1.attn # /content/yolov12/ultralytics/nn/modules/block.py:1225:0\n",
            "\t\t    %B.21 : Tensor = prim::NumToTensor(%637), scope: __module.model.6/__module.model.6.m.1/__module.model.6.m.1.1/__module.model.6.m.1.1.attn\n",
            "\t\t    %639 : int = aten::size(%qkv.15, %252), scope: __module.model.6/__module.model.6.m.1/__module.model.6.m.1.1/__module.model.6.m.1.1.attn # /content/yolov12/ultralytics/nn/modules/block.py:1225:0\n",
            "\t\t    %N.7 : Tensor = prim::NumToTensor(%639), scope: __module.model.6/__module.model.6.m.1/__module.model.6.m.1.1/__module.model.6.m.1.1.attn\n",
            "\t\t    %641 : int[] = prim::ListConstruct(%637, %639, %242, %243), scope: __module.model.6/__module.model.6.m.1/__module.model.6.m.1.1/__module.model.6.m.1.1.attn\n",
            "\t\t    %642 : Tensor = aten::view(%qkv.15, %641), scope: __module.model.6/__module.model.6.m.1/__module.model.6.m.1.1/__module.model.6.m.1.1.attn # /content/yolov12/ultralytics/nn/modules/block.py:1226:0\n",
            "\t\t    %643 : int[] = prim::ListConstruct(%244, %244, %244), scope: __module.model.6/__module.model.6.m.1/__module.model.6.m.1.1/__module.model.6.m.1.1.attn\n",
            "\t\t    %644 : Tensor[] = aten::split_with_sizes(%642, %643, %238), scope: __module.model.6/__module.model.6.m.1/__module.model.6.m.1.1/__module.model.6.m.1.1.attn # /usr/local/lib/python3.11/dist-packages/torch/_tensor.py:983:0\n",
            "\t\t    %q.13 : Tensor, %k.7 : Tensor, %v.13 : Tensor = prim::ListUnpack(%644), scope: __module.model.6/__module.model.6.m.1/__module.model.6.m.1.1/__module.model.6.m.1.1.attn\n",
            "\t\t    %648 : Tensor = aten::contiguous(%q.13, %251), scope: __module.model.6/__module.model.6.m.1/__module.model.6.m.1.1/__module.model.6.m.1.1.attn # /content/yolov12/ultralytics/nn/modules/block.py:1232:0\n",
            "\t\t    %q.15 : Tensor = aten::to(%648, %245, %250, %250, %246), scope: __module.model.6/__module.model.6.m.1/__module.model.6.m.1.1/__module.model.6.m.1.1.attn # /content/yolov12/ultralytics/nn/modules/block.py:1232:0\n",
            "\t\t    %650 : Tensor = aten::contiguous(%k.7, %251), scope: __module.model.6/__module.model.6.m.1/__module.model.6.m.1.1/__module.model.6.m.1.1.attn # /content/yolov12/ultralytics/nn/modules/block.py:1233:0\n",
            "\t\t    %651 : Tensor = aten::to(%650, %245, %250, %250, %246), scope: __module.model.6/__module.model.6.m.1/__module.model.6.m.1.1/__module.model.6.m.1.1.attn # /content/yolov12/ultralytics/nn/modules/block.py:1233:0\n",
            "\t\t    %652 : Tensor = aten::contiguous(%v.13, %251), scope: __module.model.6/__module.model.6.m.1/__module.model.6.m.1.1/__module.model.6.m.1.1.attn # /content/yolov12/ultralytics/nn/modules/block.py:1234:0\n",
            "\t\t    %653 : Tensor = aten::to(%652, %245, %250, %250, %246), scope: __module.model.6/__module.model.6.m.1/__module.model.6.m.1.1/__module.model.6.m.1.1.attn # /content/yolov12/ultralytics/nn/modules/block.py:1234:0\n",
            "\t\t-   %654 : Tensor = ^FlashAttnFunc[inplace=0, module=\"flash_attn.flash_attn_interface\", Subgraph=<Graph>](0.0, None, False, (-1, -1), 0.0, None, False, False, True)(%q.15, %651, %653), scope: __module.model.6/__module.model.6.m.1/__module.model.6.m.1.1/__module.model.6.m.1.1.attn # /usr/local/lib/python3.11/dist-packages/torch/autograd/function.py:575:0\n",
            "\t\t?                                                                                                                                                              ^^^\n",
            "\t\t+   %654 : Tensor = ^FlashAttnFunc[inplace=0, module=\"flash_attn.flash_attn_interface\", Subgraph=<Graph>](0.0, None, False, (-1, -1), 0.0, None, False, False, False)(%q.15, %651, %653), scope: __module.model.6/__module.model.6.m.1/__module.model.6.m.1.1/__module.model.6.m.1.1.attn # /usr/local/lib/python3.11/dist-packages/torch/autograd/function.py:575:0\n",
            "\t\t?                                                                                                                                                              ^^^^\n",
            "\t\t    %x.29 : Tensor = aten::to(%654, %247, %250, %250, %246), scope: __module.model.6/__module.model.6.m.1/__module.model.6.m.1.1/__module.model.6.m.1.1.attn # /content/yolov12/ultralytics/nn/modules/block.py:1235:0\n",
            "\t\t    %656 : Tensor = aten::floor_divide(%B.21, %240), scope: __module.model.6/__module.model.6.m.1/__module.model.6.m.1.1/__module.model.6.m.1.1.attn # /usr/local/lib/python3.11/dist-packages/torch/_tensor.py:1061:0\n",
            "\t\t    %657 : int = aten::Int(%656), scope: __module.model.6/__module.model.6.m.1/__module.model.6.m.1.1/__module.model.6.m.1.1.attn\n",
            "\t\t    %658 : Tensor = aten::mul(%N.7, %240), scope: __module.model.6/__module.model.6.m.1/__module.model.6.m.1.1/__module.model.6.m.1.1.attn # /content/yolov12/ultralytics/nn/modules/block.py:1252:0\n",
            "\t\t    %659 : int = aten::Int(%658), scope: __module.model.6/__module.model.6.m.1/__module.model.6.m.1.1/__module.model.6.m.1.1.attn\n",
            "\t\t    %660 : int[] = prim::ListConstruct(%657, %659, %612), scope: __module.model.6/__module.model.6.m.1/__module.model.6.m.1.1/__module.model.6.m.1.1.attn\n",
            "\t\t    %x.31 : Tensor = aten::reshape(%x.29, %660), scope: __module.model.6/__module.model.6.m.1/__module.model.6.m.1.1/__module.model.6.m.1.1.attn # /content/yolov12/ultralytics/nn/modules/block.py:1252:0\n",
            "\t\t    %662 : Tensor = aten::floor_divide(%B.21, %240), scope: __module.model.6/__module.model.6.m.1/__module.model.6.m.1.1/__module.model.6.m.1.1.attn # /usr/local/lib/python3.11/dist-packages/torch/_tensor.py:1061:0\n",
            "\t\t    %663 : int = aten::Int(%662), scope: __module.model.6/__module.model.6.m.1/__module.model.6.m.1.1/__module.model.6.m.1.1.attn\n",
            "\t\t    %664 : Tensor = aten::mul(%N.7, %240), scope: __module.model.6/__module.model.6.m.1/__module.model.6.m.1.1/__module.model.6.m.1.1.attn # /content/yolov12/ultralytics/nn/modules/block.py:1253:0\n",
            "\t\t    %665 : int = aten::Int(%664), scope: __module.model.6/__module.model.6.m.1/__module.model.6.m.1.1/__module.model.6.m.1.1.attn\n",
            "\t\t    %666 : int[] = prim::ListConstruct(%663, %665, %612), scope: __module.model.6/__module.model.6.m.1/__module.model.6.m.1.1/__module.model.6.m.1.1.attn\n",
            "\t\t    %v.15 : Tensor = aten::reshape(%v.13, %666), scope: __module.model.6/__module.model.6.m.1/__module.model.6.m.1.1/__module.model.6.m.1.1.attn # /content/yolov12/ultralytics/nn/modules/block.py:1253:0\n",
            "\t\t    %668 : int = aten::size(%x.31, %251), scope: __module.model.6/__module.model.6.m.1/__module.model.6.m.1.1/__module.model.6.m.1.1.attn # /content/yolov12/ultralytics/nn/modules/block.py:1254:0\n",
            "\t\t    %669 : int[] = prim::ListConstruct(%668, %614, %616, %612), scope: __module.model.6/__module.model.6.m.1/__module.model.6.m.1.1/__module.model.6.m.1.1.attn\n",
            "\t\t    %670 : Tensor = aten::reshape(%x.31, %669), scope: __module.model.6/__module.model.6.m.1/__module.model.6.m.1.1/__module.model.6.m.1.1.attn # /content/yolov12/ultralytics/nn/modules/block.py:1256:0\n",
            "\t\t    %671 : int[] = prim::ListConstruct(%251, %238, %252, %237), scope: __module.model.6/__module.model.6.m.1/__module.model.6.m.1.1/__module.model.6.m.1.1.attn\n",
            "\t\t    %x.33 : Tensor = aten::permute(%670, %671), scope: __module.model.6/__module.model.6.m.1/__module.model.6.m.1.1/__module.model.6.m.1.1.attn # /content/yolov12/ultralytics/nn/modules/block.py:1256:0\n",
            "\t\t    %673 : int[] = prim::ListConstruct(%668, %614, %616, %612), scope: __module.model.6/__module.model.6.m.1/__module.model.6.m.1.1/__module.model.6.m.1.1.attn\n",
            "\t\t    %674 : Tensor = aten::reshape(%v.15, %673), scope: __module.model.6/__module.model.6.m.1/__module.model.6.m.1.1/__module.model.6.m.1.1.attn # /content/yolov12/ultralytics/nn/modules/block.py:1257:0\n",
            "\t\t    %675 : int[] = prim::ListConstruct(%251, %238, %252, %237), scope: __module.model.6/__module.model.6.m.1/__module.model.6.m.1.1/__module.model.6.m.1.1.attn\n",
            "\t\t    %input.81 : Tensor = aten::permute(%674, %675), scope: __module.model.6/__module.model.6.m.1/__module.model.6.m.1.1/__module.model.6.m.1.1.attn # /content/yolov12/ultralytics/nn/modules/block.py:1257:0\n",
            "\t\t    %conv.59 : __torch__.torch.nn.modules.conv.Conv2d = prim::GetAttr[name=\"conv\"](%pe.7)\n",
            "\t\t    %bias.297 : Tensor = prim::GetAttr[name=\"bias\"](%conv.59)\n",
            "\t\t    %weight.299 : Tensor = prim::GetAttr[name=\"weight\"](%conv.59)\n",
            "\t\t    %680 : int[] = prim::ListConstruct(%252, %252), scope: __module.model.6/__module.model.6.m.1/__module.model.6.m.1.1/__module.model.6.m.1.1.attn/__module.model.6.m.1.1.attn.pe/__module.model.6.m.1.1.attn.pe.conv\n",
            "\t\t    %681 : int[] = prim::ListConstruct(%238, %238), scope: __module.model.6/__module.model.6.m.1/__module.model.6.m.1.1/__module.model.6.m.1.1.attn/__module.model.6.m.1.1.attn.pe/__module.model.6.m.1.1.attn.pe.conv\n",
            "\t\t    %682 : int[] = prim::ListConstruct(%252, %252), scope: __module.model.6/__module.model.6.m.1/__module.model.6.m.1.1/__module.model.6.m.1.1.attn/__module.model.6.m.1.1.attn.pe/__module.model.6.m.1.1.attn.pe.conv\n",
            "\t\t    %683 : int[] = prim::ListConstruct(%251, %251), scope: __module.model.6/__module.model.6.m.1/__module.model.6.m.1.1/__module.model.6.m.1.1.attn/__module.model.6.m.1.1.attn.pe/__module.model.6.m.1.1.attn.pe.conv\n",
            "\t\t    %684 : Tensor = aten::_convolution(%input.81, %weight.299, %bias.297, %680, %681, %682, %250, %683, %248, %250, %249, %249, %249), scope: __module.model.6/__module.model.6.m.1/__module.model.6.m.1.1/__module.model.6.m.1.1.attn/__module.model.6.m.1.1.attn.pe/__module.model.6.m.1.1.attn.pe.conv # /usr/local/lib/python3.11/dist-packages/torch/nn/modules/conv.py:549:0\n",
            "\t\t    %input.83 : Tensor = aten::add(%x.33, %684, %252), scope: __module.model.6/__module.model.6.m.1/__module.model.6.m.1.1/__module.model.6.m.1.1.attn # /content/yolov12/ultralytics/nn/modules/block.py:1259:0\n",
            "\t\t    %conv.61 : __torch__.torch.nn.modules.conv.Conv2d = prim::GetAttr[name=\"conv\"](%proj.7)\n",
            "\t\t    %bias.299 : Tensor = prim::GetAttr[name=\"bias\"](%conv.61)\n",
            "\t\t    %weight.301 : Tensor = prim::GetAttr[name=\"weight\"](%conv.61)\n",
            "\t\t    %689 : int[] = prim::ListConstruct(%252, %252), scope: __module.model.6/__module.model.6.m.1/__module.model.6.m.1.1/__module.model.6.m.1.1.attn/__module.model.6.m.1.1.attn.proj/__module.model.6.m.1.1.attn.proj.conv\n",
            "\t\t    %690 : int[] = prim::ListConstruct(%251, %251), scope: __module.model.6/__module.model.6.m.1/__module.model.6.m.1.1/__module.model.6.m.1.1.attn/__module.model.6.m.1.1.attn.proj/__module.model.6.m.1.1.attn.proj.conv\n",
            "\t\t    %691 : int[] = prim::ListConstruct(%252, %252), scope: __module.model.6/__module.model.6.m.1/__module.model.6.m.1.1/__module.model.6.m.1.1.attn/__module.model.6.m.1.1.attn.proj/__module.model.6.m.1.1.attn.proj.conv\n",
            "\t\t    %692 : int[] = prim::ListConstruct(%251, %251), scope: __module.model.6/__module.model.6.m.1/__module.model.6.m.1.1/__module.model.6.m.1.1.attn/__module.model.6.m.1.1.attn.proj/__module.model.6.m.1.1.attn.proj.conv\n",
            "\t\t    %693 : Tensor = aten::_convolution(%input.83, %weight.301, %bias.299, %689, %690, %691, %250, %692, %252, %250, %249, %249, %249), scope: __module.model.6/__module.model.6.m.1/__module.model.6.m.1.1/__module.model.6.m.1.1.attn/__module.model.6.m.1.1.attn.proj/__module.model.6.m.1.1.attn.proj.conv # /usr/local/lib/python3.11/dist-packages/torch/nn/modules/conv.py:549:0\n",
            "\t\t    %input.85 : Tensor = aten::add(%x.27, %693, %252), scope: __module.model.6/__module.model.6.m.1/__module.model.6.m.1.1 # /content/yolov12/ultralytics/nn/modules/block.py:1310:0\n",
            "\t\t    %_1.15 : __torch__.ultralytics.nn.modules.conv.Conv = prim::GetAttr[name=\"1\"](%mlp.7)\n",
            "\t\t    %_0.19 : __torch__.ultralytics.nn.modules.conv.Conv = prim::GetAttr[name=\"0\"](%mlp.7)\n",
            "\t\t    %conv.63 : __torch__.torch.nn.modules.conv.Conv2d = prim::GetAttr[name=\"conv\"](%_0.19)\n",
            "\t\t    %bias.301 : Tensor = prim::GetAttr[name=\"bias\"](%conv.63)\n",
            "\t\t    %weight.303 : Tensor = prim::GetAttr[name=\"weight\"](%conv.63)\n",
            "\t\t    %700 : int[] = prim::ListConstruct(%252, %252), scope: __module.model.6/__module.model.6.m.1/__module.model.6.m.1.1/__module.model.6.m.1.1.mlp/__module.model.6.m.1.1.mlp.0/__module.model.6.m.1.1.mlp.0.conv\n",
            "\t\t    %701 : int[] = prim::ListConstruct(%251, %251), scope: __module.model.6/__module.model.6.m.1/__module.model.6.m.1.1/__module.model.6.m.1.1.mlp/__module.model.6.m.1.1.mlp.0/__module.model.6.m.1.1.mlp.0.conv\n",
            "\t\t    %702 : int[] = prim::ListConstruct(%252, %252), scope: __module.model.6/__module.model.6.m.1/__module.model.6.m.1.1/__module.model.6.m.1.1.mlp/__module.model.6.m.1.1.mlp.0/__module.model.6.m.1.1.mlp.0.conv\n",
            "\t\t    %703 : int[] = prim::ListConstruct(%251, %251), scope: __module.model.6/__module.model.6.m.1/__module.model.6.m.1.1/__module.model.6.m.1.1.mlp/__module.model.6.m.1.1.mlp.0/__module.model.6.m.1.1.mlp.0.conv\n",
            "\t\t    %input.87 : Tensor = aten::_convolution(%input.85, %weight.303, %bias.301, %700, %701, %702, %250, %703, %252, %250, %249, %249, %249), scope: __module.model.6/__module.model.6.m.1/__module.model.6.m.1.1/__module.model.6.m.1.1.mlp/__module.model.6.m.1.1.mlp.0/__module.model.6.m.1.1.mlp.0.conv # /usr/local/lib/python3.11/dist-packages/torch/nn/modules/conv.py:549:0\n",
            "\t\t    %input.89 : Tensor = aten::silu_(%input.87), scope: __module.model.6/__module.model.6.m.1/__module.model.6.m.1.1/__module.model.6.m.1.1.mlp/__module.model.6.m.1.1.mlp.0/__module.model.21.cv3.2.1.1.act # /usr/local/lib/python3.11/dist-packages/torch/nn/functional.py:2379:0\n",
            "\t\t    %act.33 : __torch__.torch.nn.modules.linear.Identity = prim::GetAttr[name=\"act\"](%_1.15)\n",
            "\t\t    %conv.65 : __torch__.torch.nn.modules.conv.Conv2d = prim::GetAttr[name=\"conv\"](%_1.15)\n",
            "\t\t    %bias.303 : Tensor = prim::GetAttr[name=\"bias\"](%conv.65)\n",
            "\t\t    %weight.305 : Tensor = prim::GetAttr[name=\"weight\"](%conv.65)\n",
            "\t\t    %710 : int[] = prim::ListConstruct(%252, %252), scope: __module.model.6/__module.model.6.m.1/__module.model.6.m.1.1/__module.model.6.m.1.1.mlp/__module.model.6.m.1.1.mlp.1/__module.model.6.m.1.1.mlp.1.conv\n",
            "\t\t    %711 : int[] = prim::ListConstruct(%251, %251), scope: __module.model.6/__module.model.6.m.1/__module.model.6.m.1.1/__module.model.6.m.1.1.mlp/__module.model.6.m.1.1.mlp.1/__module.model.6.m.1.1.mlp.1.conv\n",
            "\t\t    %712 : int[] = prim::ListConstruct(%252, %252), scope: __module.model.6/__module.model.6.m.1/__module.model.6.m.1.1/__module.model.6.m.1.1.mlp/__module.model.6.m.1.1.mlp.1/__module.model.6.m.1.1.mlp.1.conv\n",
            "\t\t    %713 : int[] = prim::ListConstruct(%251, %251), scope: __module.model.6/__module.model.6.m.1/__module.model.6.m.1.1/__module.model.6.m.1.1.mlp/__module.model.6.m.1.1.mlp.1/__module.model.6.m.1.1.mlp.1.conv\n",
            "\t\t    %714 : Tensor = aten::_convolution(%input.89, %weight.305, %bias.303, %710, %711, %712, %250, %713, %252, %250, %249, %249, %249), scope: __module.model.6/__module.model.6.m.1/__module.model.6.m.1.1/__module.model.6.m.1.1.mlp/__module.model.6.m.1.1.mlp.1/__module.model.6.m.1.1.mlp.1.conv # /usr/local/lib/python3.11/dist-packages/torch/nn/modules/conv.py:549:0\n",
            "\t\t    %715 : Tensor = aten::add(%input.85, %714, %252), scope: __module.model.6/__module.model.6.m.1/__module.model.6.m.1.1 # /content/yolov12/ultralytics/nn/modules/block.py:1311:0\n",
            "\t\t    %716 : Tensor[] = prim::ListConstruct(%x.3, %x.19, %715), scope: __module.model.6\n",
            "\t\t    %input.91 : Tensor = aten::cat(%716, %252), scope: __module.model.6 # /content/yolov12/ultralytics/nn/modules/block.py:1369:0\n",
            "\t\t    %conv.67 : __torch__.torch.nn.modules.conv.Conv2d = prim::GetAttr[name=\"conv\"](%cv2.9)\n",
            "\t\t    %bias.305 : Tensor = prim::GetAttr[name=\"bias\"](%conv.67)\n",
            "\t\t    %weight.307 : Tensor = prim::GetAttr[name=\"weight\"](%conv.67)\n",
            "\t\t    %721 : int[] = prim::ListConstruct(%252, %252), scope: __module.model.6/__module.model.6.cv2/__module.model.6.cv2.conv\n",
            "\t\t    %722 : int[] = prim::ListConstruct(%251, %251), scope: __module.model.6/__module.model.6.cv2/__module.model.6.cv2.conv\n",
            "\t\t    %723 : int[] = prim::ListConstruct(%252, %252), scope: __module.model.6/__module.model.6.cv2/__module.model.6.cv2.conv\n",
            "\t\t    %724 : int[] = prim::ListConstruct(%251, %251), scope: __module.model.6/__module.model.6.cv2/__module.model.6.cv2.conv\n",
            "\t\t    %input.93 : Tensor = aten::_convolution(%input.91, %weight.307, %bias.305, %721, %722, %723, %250, %724, %252, %250, %249, %249, %249), scope: __module.model.6/__module.model.6.cv2/__module.model.6.cv2.conv # /usr/local/lib/python3.11/dist-packages/torch/nn/modules/conv.py:549:0\n",
            "\t\t    %input.95 : Tensor = aten::silu_(%input.93), scope: __module.model.6/__module.model.6.cv2/__module.model.21.cv3.2.1.1.act # /usr/local/lib/python3.11/dist-packages/torch/nn/functional.py:2379:0\n",
            "\t\t    %727 : int = prim::Constant[value=2](), scope: __module.model.7/__module.model.7.conv # /usr/local/lib/python3.11/dist-packages/torch/nn/modules/conv.py:549:0\n",
            "\t\t    %728 : int = prim::Constant[value=1](), scope: __module.model.7/__module.model.7.conv # /usr/local/lib/python3.11/dist-packages/torch/nn/modules/conv.py:549:0\n",
            "\t\t    %729 : bool = prim::Constant[value=0](), scope: __module.model.7/__module.model.7.conv # /usr/local/lib/python3.11/dist-packages/torch/nn/modules/conv.py:549:0\n",
            "\t\t    %730 : int = prim::Constant[value=0](), scope: __module.model.7/__module.model.7.conv # /usr/local/lib/python3.11/dist-packages/torch/nn/modules/conv.py:549:0\n",
            "\t\t    %731 : bool = prim::Constant[value=1](), scope: __module.model.7/__module.model.7.conv # /usr/local/lib/python3.11/dist-packages/torch/nn/modules/conv.py:549:0\n",
            "\t\t    %conv.69 : __torch__.torch.nn.modules.conv.Conv2d = prim::GetAttr[name=\"conv\"](%_7)\n",
            "\t\t    %bias.307 : Tensor = prim::GetAttr[name=\"bias\"](%conv.69)\n",
            "\t\t    %weight.309 : Tensor = prim::GetAttr[name=\"weight\"](%conv.69)\n",
            "\t\t    %735 : int[] = prim::ListConstruct(%727, %727), scope: __module.model.7/__module.model.7.conv\n",
            "\t\t    %736 : int[] = prim::ListConstruct(%728, %728), scope: __module.model.7/__module.model.7.conv\n",
            "\t\t    %737 : int[] = prim::ListConstruct(%728, %728), scope: __module.model.7/__module.model.7.conv\n",
            "\t\t    %738 : int[] = prim::ListConstruct(%730, %730), scope: __module.model.7/__module.model.7.conv\n",
            "\t\t    %input.97 : Tensor = aten::_convolution(%input.95, %weight.309, %bias.307, %735, %736, %737, %729, %738, %728, %729, %731, %731, %731), scope: __module.model.7/__module.model.7.conv # /usr/local/lib/python3.11/dist-packages/torch/nn/modules/conv.py:549:0\n",
            "\t\t    %input.99 : Tensor = aten::silu_(%input.97), scope: __module.model.7/__module.model.21.cv3.2.1.1.act # /usr/local/lib/python3.11/dist-packages/torch/nn/functional.py:2379:0\n",
            "\t\t    %741 : int = prim::Constant[value=2](), scope: __module.model.8/__module.model.8.m.0/__module.model.8.m.0.0/__module.model.8.m.0.0.attn # /content/yolov12/ultralytics/nn/modules/block.py:1219:0\n",
            "\t\t    %742 : int = prim::Constant[value=3](), scope: __module.model.8/__module.model.8.m.0/__module.model.8.m.0.0/__module.model.8.m.0.0.attn # /content/yolov12/ultralytics/nn/modules/block.py:1219:0\n",
            "\t\t    %743 : int = prim::Constant[value=-1](), scope: __module.model.8/__module.model.8.m.0/__module.model.8.m.0.0/__module.model.8.m.0.0.attn # /content/yolov12/ultralytics/nn/modules/block.py:1222:0\n",
            "\t\t    %744 : int = prim::Constant[value=8](), scope: __module.model.8/__module.model.8.m.0/__module.model.8.m.0.0/__module.model.8.m.0.0.attn # /content/yolov12/ultralytics/nn/modules/block.py:1226:0\n",
            "\t\t    %745 : int = prim::Constant[value=96](), scope: __module.model.8/__module.model.8.m.0/__module.model.8.m.0.0/__module.model.8.m.0.0.attn # /content/yolov12/ultralytics/nn/modules/block.py:1226:0\n",
            "\t\t    %746 : int = prim::Constant[value=32](), scope: __module.model.8/__module.model.8.m.0/__module.model.8.m.0.0/__module.model.8.m.0.0.attn # /usr/local/lib/python3.11/dist-packages/torch/_tensor.py:983:0\n",
            "\t\t    %747 : int = prim::Constant[value=5](), scope: __module.model.8/__module.model.8.m.0/__module.model.8.m.0.0/__module.model.8.m.0.0.attn # /content/yolov12/ultralytics/nn/modules/block.py:1232:0\n",
            "\t\t    %748 : NoneType = prim::Constant(), scope: __module.model.8/__module.model.8.m.0/__module.model.8.m.0.0/__module.model.8.m.0.0.attn\n",
            "\t\t    %749 : int = prim::Constant[value=6](), scope: __module.model.8/__module.model.8.m.0/__module.model.8.m.0.0/__module.model.8.m.0.0.attn # /content/yolov12/ultralytics/nn/modules/block.py:1235:0\n",
            "\t\t    %750 : int = prim::Constant[value=256](), scope: __module.model.8/__module.model.8.m.0/__module.model.8.m.0.0/__module.model.8.m.0.0.attn/__module.model.8.m.0.0.attn.pe/__module.model.8.m.0.0.attn.pe.conv # /usr/local/lib/python3.11/dist-packages/torch/nn/modules/conv.py:549:0\n",
            "\t\t    %751 : bool = prim::Constant[value=1](), scope: __module.model.8/__module.model.8.cv1/__module.model.8.cv1.conv # /usr/local/lib/python3.11/dist-packages/torch/nn/modules/conv.py:549:0\n",
            "\t\t    %752 : bool = prim::Constant[value=0](), scope: __module.model.8/__module.model.8.cv1/__module.model.8.cv1.conv # /usr/local/lib/python3.11/dist-packages/torch/nn/modules/conv.py:549:0\n",
            "\t\t    %753 : int = prim::Constant[value=0](), scope: __module.model.8/__module.model.8.cv1/__module.model.8.cv1.conv # /usr/local/lib/python3.11/dist-packages/torch/nn/modules/conv.py:549:0\n",
            "\t\t    %754 : int = prim::Constant[value=1](), scope: __module.model.8/__module.model.8.cv1/__module.model.8.cv1.conv # /usr/local/lib/python3.11/dist-packages/torch/nn/modules/conv.py:549:0\n",
            "\t\t    %cv2.11 : __torch__.ultralytics.nn.modules.conv.Conv = prim::GetAttr[name=\"cv2\"](%_8)\n",
            "\t\t    %m.11 : __torch__.torch.nn.modules.container.ModuleList = prim::GetAttr[name=\"m\"](%_8)\n",
            "\t\t    %_1.33 : __torch__.torch.nn.modules.container.Sequential = prim::GetAttr[name=\"1\"](%m.11)\n",
            "\t\t    %m.9 : __torch__.torch.nn.modules.container.ModuleList = prim::GetAttr[name=\"m\"](%_8)\n",
            "\t\t    %_0.27 : __torch__.torch.nn.modules.container.Sequential = prim::GetAttr[name=\"0\"](%m.9)\n",
            "\t\t    %cv1.11 : __torch__.ultralytics.nn.modules.conv.Conv = prim::GetAttr[name=\"cv1\"](%_8)\n",
            "\t\t    %conv.71 : __torch__.torch.nn.modules.conv.Conv2d = prim::GetAttr[name=\"conv\"](%cv1.11)\n",
            "\t\t    %bias.309 : Tensor = prim::GetAttr[name=\"bias\"](%conv.71)\n",
            "\t\t    %weight.311 : Tensor = prim::GetAttr[name=\"weight\"](%conv.71)\n",
            "\t\t    %764 : int[] = prim::ListConstruct(%754, %754), scope: __module.model.8/__module.model.8.cv1/__module.model.8.cv1.conv\n",
            "\t\t    %765 : int[] = prim::ListConstruct(%753, %753), scope: __module.model.8/__module.model.8.cv1/__module.model.8.cv1.conv\n",
            "\t\t    %766 : int[] = prim::ListConstruct(%754, %754), scope: __module.model.8/__module.model.8.cv1/__module.model.8.cv1.conv\n",
            "\t\t    %767 : int[] = prim::ListConstruct(%753, %753), scope: __module.model.8/__module.model.8.cv1/__module.model.8.cv1.conv\n",
            "\t\t    %input.101 : Tensor = aten::_convolution(%input.99, %weight.311, %bias.309, %764, %765, %766, %752, %767, %754, %752, %751, %751, %751), scope: __module.model.8/__module.model.8.cv1/__module.model.8.cv1.conv # /usr/local/lib/python3.11/dist-packages/torch/nn/modules/conv.py:549:0\n",
            "\t\t    %x.35 : Tensor = aten::silu_(%input.101), scope: __module.model.8/__module.model.8.cv1/__module.model.21.cv3.2.1.1.act # /usr/local/lib/python3.11/dist-packages/torch/nn/functional.py:2379:0\n",
            "\t\t    %_1.25 : __torch__.ultralytics.nn.modules.block.ABlock = prim::GetAttr[name=\"1\"](%_0.27)\n",
            "\t\t    %_0.23 : __torch__.ultralytics.nn.modules.block.ABlock = prim::GetAttr[name=\"0\"](%_0.27)\n",
            "\t\t    %mlp.9 : __torch__.torch.nn.modules.container.Sequential = prim::GetAttr[name=\"mlp\"](%_0.23)\n",
            "\t\t    %attn.9 : __torch__.ultralytics.nn.modules.block.AAttn = prim::GetAttr[name=\"attn\"](%_0.23)\n",
            "\t\t    %proj.9 : __torch__.ultralytics.nn.modules.conv.Conv = prim::GetAttr[name=\"proj\"](%attn.9)\n",
            "\t\t    %pe.9 : __torch__.ultralytics.nn.modules.conv.Conv = prim::GetAttr[name=\"pe\"](%attn.9)\n",
            "\t\t    %qkv.33 : __torch__.ultralytics.nn.modules.conv.Conv = prim::GetAttr[name=\"qkv\"](%attn.9)\n",
            "\t\t    %777 : int = aten::size(%x.35, %753), scope: __module.model.8/__module.model.8.m.0/__module.model.8.m.0.0/__module.model.8.m.0.0.attn # /content/yolov12/ultralytics/nn/modules/block.py:1219:0\n",
            "\t\t    %778 : int = aten::size(%x.35, %754), scope: __module.model.8/__module.model.8.m.0/__module.model.8.m.0.0/__module.model.8.m.0.0.attn # /content/yolov12/ultralytics/nn/modules/block.py:1219:0\n",
            "\t\t    %779 : int = aten::size(%x.35, %741), scope: __module.model.8/__module.model.8.m.0/__module.model.8.m.0.0/__module.model.8.m.0.0.attn # /content/yolov12/ultralytics/nn/modules/block.py:1219:0\n",
            "\t\t    %H.9 : Tensor = prim::NumToTensor(%779), scope: __module.model.8/__module.model.8.m.0/__module.model.8.m.0.0/__module.model.8.m.0.0.attn\n",
            "\t\t    %781 : int = aten::size(%x.35, %742), scope: __module.model.8/__module.model.8.m.0/__module.model.8.m.0.0/__module.model.8.m.0.0.attn # /content/yolov12/ultralytics/nn/modules/block.py:1219:0\n",
            "\t\t    %W.9 : Tensor = prim::NumToTensor(%781), scope: __module.model.8/__module.model.8.m.0/__module.model.8.m.0.0/__module.model.8.m.0.0.attn\n",
            "\t\t    %N.9 : Tensor = aten::mul(%H.9, %W.9), scope: __module.model.8/__module.model.8.m.0/__module.model.8.m.0.0/__module.model.8.m.0.0.attn # /content/yolov12/ultralytics/nn/modules/block.py:1220:0\n",
            "\t\t    %784 : int = aten::Int(%N.9), scope: __module.model.8/__module.model.8.m.0/__module.model.8.m.0.0/__module.model.8.m.0.0.attn\n",
            "\t\t    %conv.73 : __torch__.torch.nn.modules.conv.Conv2d = prim::GetAttr[name=\"conv\"](%qkv.33)\n",
            "\t\t    %bias.311 : Tensor = prim::GetAttr[name=\"bias\"](%conv.73)\n",
            "\t\t    %weight.313 : Tensor = prim::GetAttr[name=\"weight\"](%conv.73)\n",
            "\t\t    %788 : int[] = prim::ListConstruct(%754, %754), scope: __module.model.8/__module.model.8.m.0/__module.model.8.m.0.0/__module.model.8.m.0.0.attn/__module.model.8.m.0.0.attn.qkv/__module.model.8.m.0.0.attn.qkv.conv\n",
            "\t\t    %789 : int[] = prim::ListConstruct(%753, %753), scope: __module.model.8/__module.model.8.m.0/__module.model.8.m.0.0/__module.model.8.m.0.0.attn/__module.model.8.m.0.0.attn.qkv/__module.model.8.m.0.0.attn.qkv.conv\n",
            "\t\t    %790 : int[] = prim::ListConstruct(%754, %754), scope: __module.model.8/__module.model.8.m.0/__module.model.8.m.0.0/__module.model.8.m.0.0.attn/__module.model.8.m.0.0.attn.qkv/__module.model.8.m.0.0.attn.qkv.conv\n",
            "\t\t    %791 : int[] = prim::ListConstruct(%753, %753), scope: __module.model.8/__module.model.8.m.0/__module.model.8.m.0.0/__module.model.8.m.0.0.attn/__module.model.8.m.0.0.attn.qkv/__module.model.8.m.0.0.attn.qkv.conv\n",
            "\t\t    %792 : Tensor = aten::_convolution(%x.35, %weight.313, %bias.311, %788, %789, %790, %752, %791, %754, %752, %751, %751, %751), scope: __module.model.8/__module.model.8.m.0/__module.model.8.m.0.0/__module.model.8.m.0.0.attn/__module.model.8.m.0.0.attn.qkv/__module.model.8.m.0.0.attn.qkv.conv # /usr/local/lib/python3.11/dist-packages/torch/nn/modules/conv.py:549:0\n",
            "\t\t    %793 : Tensor = aten::flatten(%792, %741, %743), scope: __module.model.8/__module.model.8.m.0/__module.model.8.m.0.0/__module.model.8.m.0.0.attn # /content/yolov12/ultralytics/nn/modules/block.py:1222:0\n",
            "\t\t    %qkv.17 : Tensor = aten::transpose(%793, %754, %741), scope: __module.model.8/__module.model.8.m.0/__module.model.8.m.0.0/__module.model.8.m.0.0.attn # /content/yolov12/ultralytics/nn/modules/block.py:1222:0\n",
            "\t\t    %795 : int[] = prim::ListConstruct(%777, %784, %744, %745), scope: __module.model.8/__module.model.8.m.0/__module.model.8.m.0.0/__module.model.8.m.0.0.attn\n",
            "\t\t    %796 : Tensor = aten::view(%qkv.17, %795), scope: __module.model.8/__module.model.8.m.0/__module.model.8.m.0.0/__module.model.8.m.0.0.attn # /content/yolov12/ultralytics/nn/modules/block.py:1226:0\n",
            "\t\t    %797 : int[] = prim::ListConstruct(%746, %746, %746), scope: __module.model.8/__module.model.8.m.0/__module.model.8.m.0.0/__module.model.8.m.0.0.attn\n",
            "\t\t    %798 : Tensor[] = aten::split_with_sizes(%796, %797, %742), scope: __module.model.8/__module.model.8.m.0/__module.model.8.m.0.0/__module.model.8.m.0.0.attn # /usr/local/lib/python3.11/dist-packages/torch/_tensor.py:983:0\n",
            "\t\t    %q.17 : Tensor, %k.9 : Tensor, %v.17 : Tensor = prim::ListUnpack(%798), scope: __module.model.8/__module.model.8.m.0/__module.model.8.m.0.0/__module.model.8.m.0.0.attn\n",
            "\t\t    %802 : Tensor = aten::contiguous(%q.17, %753), scope: __module.model.8/__module.model.8.m.0/__module.model.8.m.0.0/__module.model.8.m.0.0.attn # /content/yolov12/ultralytics/nn/modules/block.py:1232:0\n",
            "\t\t    %q.19 : Tensor = aten::to(%802, %747, %752, %752, %748), scope: __module.model.8/__module.model.8.m.0/__module.model.8.m.0.0/__module.model.8.m.0.0.attn # /content/yolov12/ultralytics/nn/modules/block.py:1232:0\n",
            "\t\t    %804 : Tensor = aten::contiguous(%k.9, %753), scope: __module.model.8/__module.model.8.m.0/__module.model.8.m.0.0/__module.model.8.m.0.0.attn # /content/yolov12/ultralytics/nn/modules/block.py:1233:0\n",
            "\t\t    %805 : Tensor = aten::to(%804, %747, %752, %752, %748), scope: __module.model.8/__module.model.8.m.0/__module.model.8.m.0.0/__module.model.8.m.0.0.attn # /content/yolov12/ultralytics/nn/modules/block.py:1233:0\n",
            "\t\t    %806 : Tensor = aten::contiguous(%v.17, %753), scope: __module.model.8/__module.model.8.m.0/__module.model.8.m.0.0/__module.model.8.m.0.0.attn # /content/yolov12/ultralytics/nn/modules/block.py:1234:0\n",
            "\t\t    %807 : Tensor = aten::to(%806, %747, %752, %752, %748), scope: __module.model.8/__module.model.8.m.0/__module.model.8.m.0.0/__module.model.8.m.0.0.attn # /content/yolov12/ultralytics/nn/modules/block.py:1234:0\n",
            "\t\t-   %808 : Tensor = ^FlashAttnFunc[inplace=0, module=\"flash_attn.flash_attn_interface\", Subgraph=<Graph>](0.0, None, False, (-1, -1), 0.0, None, False, False, True)(%q.19, %805, %807), scope: __module.model.8/__module.model.8.m.0/__module.model.8.m.0.0/__module.model.8.m.0.0.attn # /usr/local/lib/python3.11/dist-packages/torch/autograd/function.py:575:0\n",
            "\t\t?                                                                                                                                                              ^^^\n",
            "\t\t+   %808 : Tensor = ^FlashAttnFunc[inplace=0, module=\"flash_attn.flash_attn_interface\", Subgraph=<Graph>](0.0, None, False, (-1, -1), 0.0, None, False, False, False)(%q.19, %805, %807), scope: __module.model.8/__module.model.8.m.0/__module.model.8.m.0.0/__module.model.8.m.0.0.attn # /usr/local/lib/python3.11/dist-packages/torch/autograd/function.py:575:0\n",
            "\t\t?                                                                                                                                                              ^^^^\n",
            "\t\t    %x.37 : Tensor = aten::to(%808, %749, %752, %752, %748), scope: __module.model.8/__module.model.8.m.0/__module.model.8.m.0.0/__module.model.8.m.0.0.attn # /content/yolov12/ultralytics/nn/modules/block.py:1235:0\n",
            "\t\t    %810 : int[] = prim::ListConstruct(%777, %779, %781, %778), scope: __module.model.8/__module.model.8.m.0/__module.model.8.m.0.0/__module.model.8.m.0.0.attn\n",
            "\t\t    %811 : Tensor = aten::reshape(%x.37, %810), scope: __module.model.8/__module.model.8.m.0/__module.model.8.m.0.0/__module.model.8.m.0.0.attn # /content/yolov12/ultralytics/nn/modules/block.py:1256:0\n",
            "\t\t    %812 : int[] = prim::ListConstruct(%753, %742, %754, %741), scope: __module.model.8/__module.model.8.m.0/__module.model.8.m.0.0/__module.model.8.m.0.0.attn\n",
            "\t\t    %x.39 : Tensor = aten::permute(%811, %812), scope: __module.model.8/__module.model.8.m.0/__module.model.8.m.0.0/__module.model.8.m.0.0.attn # /content/yolov12/ultralytics/nn/modules/block.py:1256:0\n",
            "\t\t    %814 : int[] = prim::ListConstruct(%777, %779, %781, %778), scope: __module.model.8/__module.model.8.m.0/__module.model.8.m.0.0/__module.model.8.m.0.0.attn\n",
            "\t\t    %815 : Tensor = aten::reshape(%v.17, %814), scope: __module.model.8/__module.model.8.m.0/__module.model.8.m.0.0/__module.model.8.m.0.0.attn # /content/yolov12/ultralytics/nn/modules/block.py:1257:0\n",
            "\t\t    %816 : int[] = prim::ListConstruct(%753, %742, %754, %741), scope: __module.model.8/__module.model.8.m.0/__module.model.8.m.0.0/__module.model.8.m.0.0.attn\n",
            "\t\t    %input.103 : Tensor = aten::permute(%815, %816), scope: __module.model.8/__module.model.8.m.0/__module.model.8.m.0.0/__module.model.8.m.0.0.attn # /content/yolov12/ultralytics/nn/modules/block.py:1257:0\n",
            "\t\t    %conv.75 : __torch__.torch.nn.modules.conv.Conv2d = prim::GetAttr[name=\"conv\"](%pe.9)\n",
            "\t\t    %bias.313 : Tensor = prim::GetAttr[name=\"bias\"](%conv.75)\n",
            "\t\t    %weight.315 : Tensor = prim::GetAttr[name=\"weight\"](%conv.75)\n",
            "\t\t    %821 : int[] = prim::ListConstruct(%754, %754), scope: __module.model.8/__module.model.8.m.0/__module.model.8.m.0.0/__module.model.8.m.0.0.attn/__module.model.8.m.0.0.attn.pe/__module.model.8.m.0.0.attn.pe.conv\n",
            "\t\t    %822 : int[] = prim::ListConstruct(%742, %742), scope: __module.model.8/__module.model.8.m.0/__module.model.8.m.0.0/__module.model.8.m.0.0.attn/__module.model.8.m.0.0.attn.pe/__module.model.8.m.0.0.attn.pe.conv\n",
            "\t\t    %823 : int[] = prim::ListConstruct(%754, %754), scope: __module.model.8/__module.model.8.m.0/__module.model.8.m.0.0/__module.model.8.m.0.0.attn/__module.model.8.m.0.0.attn.pe/__module.model.8.m.0.0.attn.pe.conv\n",
            "\t\t    %824 : int[] = prim::ListConstruct(%753, %753), scope: __module.model.8/__module.model.8.m.0/__module.model.8.m.0.0/__module.model.8.m.0.0.attn/__module.model.8.m.0.0.attn.pe/__module.model.8.m.0.0.attn.pe.conv\n",
            "\t\t    %825 : Tensor = aten::_convolution(%input.103, %weight.315, %bias.313, %821, %822, %823, %752, %824, %750, %752, %751, %751, %751), scope: __module.model.8/__module.model.8.m.0/__module.model.8.m.0.0/__module.model.8.m.0.0.attn/__module.model.8.m.0.0.attn.pe/__module.model.8.m.0.0.attn.pe.conv # /usr/local/lib/python3.11/dist-packages/torch/nn/modules/conv.py:549:0\n",
            "\t\t    %input.105 : Tensor = aten::add(%x.39, %825, %754), scope: __module.model.8/__module.model.8.m.0/__module.model.8.m.0.0/__module.model.8.m.0.0.attn # /content/yolov12/ultralytics/nn/modules/block.py:1259:0\n",
            "\t\t    %conv.77 : __torch__.torch.nn.modules.conv.Conv2d = prim::GetAttr[name=\"conv\"](%proj.9)\n",
            "\t\t    %bias.315 : Tensor = prim::GetAttr[name=\"bias\"](%conv.77)\n",
            "\t\t    %weight.317 : Tensor = prim::GetAttr[name=\"weight\"](%conv.77)\n",
            "\t\t    %830 : int[] = prim::ListConstruct(%754, %754), scope: __module.model.8/__module.model.8.m.0/__module.model.8.m.0.0/__module.model.8.m.0.0.attn/__module.model.8.m.0.0.attn.proj/__module.model.8.m.0.0.attn.proj.conv\n",
            "\t\t    %831 : int[] = prim::ListConstruct(%753, %753), scope: __module.model.8/__module.model.8.m.0/__module.model.8.m.0.0/__module.model.8.m.0.0.attn/__module.model.8.m.0.0.attn.proj/__module.model.8.m.0.0.attn.proj.conv\n",
            "\t\t    %832 : int[] = prim::ListConstruct(%754, %754), scope: __module.model.8/__module.model.8.m.0/__module.model.8.m.0.0/__module.model.8.m.0.0.attn/__module.model.8.m.0.0.attn.proj/__module.model.8.m.0.0.attn.proj.conv\n",
            "\t\t    %833 : int[] = prim::ListConstruct(%753, %753), scope: __module.model.8/__module.model.8.m.0/__module.model.8.m.0.0/__module.model.8.m.0.0.attn/__module.model.8.m.0.0.attn.proj/__module.model.8.m.0.0.attn.proj.conv\n",
            "\t\t    %834 : Tensor = aten::_convolution(%input.105, %weight.317, %bias.315, %830, %831, %832, %752, %833, %754, %752, %751, %751, %751), scope: __module.model.8/__module.model.8.m.0/__module.model.8.m.0.0/__module.model.8.m.0.0.attn/__module.model.8.m.0.0.attn.proj/__module.model.8.m.0.0.attn.proj.conv # /usr/local/lib/python3.11/dist-packages/torch/nn/modules/conv.py:549:0\n",
            "\t\t    %input.107 : Tensor = aten::add(%x.35, %834, %754), scope: __module.model.8/__module.model.8.m.0/__module.model.8.m.0.0 # /content/yolov12/ultralytics/nn/modules/block.py:1310:0\n",
            "\t\t    %_1.21 : __torch__.ultralytics.nn.modules.conv.Conv = prim::GetAttr[name=\"1\"](%mlp.9)\n",
            "\t\t    %_0.21 : __torch__.ultralytics.nn.modules.conv.Conv = prim::GetAttr[name=\"0\"](%mlp.9)\n",
            "\t\t    %conv.79 : __torch__.torch.nn.modules.conv.Conv2d = prim::GetAttr[name=\"conv\"](%_0.21)\n",
            "\t\t    %bias.317 : Tensor = prim::GetAttr[name=\"bias\"](%conv.79)\n",
            "\t\t    %weight.319 : Tensor = prim::GetAttr[name=\"weight\"](%conv.79)\n",
            "\t\t    %841 : int[] = prim::ListConstruct(%754, %754), scope: __module.model.8/__module.model.8.m.0/__module.model.8.m.0.0/__module.model.8.m.0.0.mlp/__module.model.8.m.0.0.mlp.0/__module.model.8.m.0.0.mlp.0.conv\n",
            "\t\t    %842 : int[] = prim::ListConstruct(%753, %753), scope: __module.model.8/__module.model.8.m.0/__module.model.8.m.0.0/__module.model.8.m.0.0.mlp/__module.model.8.m.0.0.mlp.0/__module.model.8.m.0.0.mlp.0.conv\n",
            "\t\t    %843 : int[] = prim::ListConstruct(%754, %754), scope: __module.model.8/__module.model.8.m.0/__module.model.8.m.0.0/__module.model.8.m.0.0.mlp/__module.model.8.m.0.0.mlp.0/__module.model.8.m.0.0.mlp.0.conv\n",
            "\t\t    %844 : int[] = prim::ListConstruct(%753, %753), scope: __module.model.8/__module.model.8.m.0/__module.model.8.m.0.0/__module.model.8.m.0.0.mlp/__module.model.8.m.0.0.mlp.0/__module.model.8.m.0.0.mlp.0.conv\n",
            "\t\t    %input.109 : Tensor = aten::_convolution(%input.107, %weight.319, %bias.317, %841, %842, %843, %752, %844, %754, %752, %751, %751, %751), scope: __module.model.8/__module.model.8.m.0/__module.model.8.m.0.0/__module.model.8.m.0.0.mlp/__module.model.8.m.0.0.mlp.0/__module.model.8.m.0.0.mlp.0.conv # /usr/local/lib/python3.11/dist-packages/torch/nn/modules/conv.py:549:0\n",
            "\t\t    %input.111 : Tensor = aten::silu_(%input.109), scope: __module.model.8/__module.model.8.m.0/__module.model.8.m.0.0/__module.model.8.m.0.0.mlp/__module.model.8.m.0.0.mlp.0/__module.model.21.cv3.2.1.1.act # /usr/local/lib/python3.11/dist-packages/torch/nn/functional.py:2379:0\n",
            "\t\t    %act.41 : __torch__.torch.nn.modules.linear.Identity = prim::GetAttr[name=\"act\"](%_1.21)\n",
            "\t\t    %conv.81 : __torch__.torch.nn.modules.conv.Conv2d = prim::GetAttr[name=\"conv\"](%_1.21)\n",
            "\t\t    %bias.319 : Tensor = prim::GetAttr[name=\"bias\"](%conv.81)\n",
            "\t\t    %weight.321 : Tensor = prim::GetAttr[name=\"weight\"](%conv.81)\n",
            "\t\t    %851 : int[] = prim::ListConstruct(%754, %754), scope: __module.model.8/__module.model.8.m.0/__module.model.8.m.0.0/__module.model.8.m.0.0.mlp/__module.model.8.m.0.0.mlp.1/__module.model.8.m.0.0.mlp.1.conv\n",
            "\t\t    %852 : int[] = prim::ListConstruct(%753, %753), scope: __module.model.8/__module.model.8.m.0/__module.model.8.m.0.0/__module.model.8.m.0.0.mlp/__module.model.8.m.0.0.mlp.1/__module.model.8.m.0.0.mlp.1.conv\n",
            "\t\t    %853 : int[] = prim::ListConstruct(%754, %754), scope: __module.model.8/__module.model.8.m.0/__module.model.8.m.0.0/__module.model.8.m.0.0.mlp/__module.model.8.m.0.0.mlp.1/__module.model.8.m.0.0.mlp.1.conv\n",
            "\t\t    %854 : int[] = prim::ListConstruct(%753, %753), scope: __module.model.8/__module.model.8.m.0/__module.model.8.m.0.0/__module.model.8.m.0.0.mlp/__module.model.8.m.0.0.mlp.1/__module.model.8.m.0.0.mlp.1.conv\n",
            "\t\t    %855 : Tensor = aten::_convolution(%input.111, %weight.321, %bias.319, %851, %852, %853, %752, %854, %754, %752, %751, %751, %751), scope: __module.model.8/__module.model.8.m.0/__module.model.8.m.0.0/__module.model.8.m.0.0.mlp/__module.model.8.m.0.0.mlp.1/__module.model.8.m.0.0.mlp.1.conv # /usr/local/lib/python3.11/dist-packages/torch/nn/modules/conv.py:549:0\n",
            "\t\t    %x.41 : Tensor = aten::add(%input.107, %855, %754), scope: __module.model.8/__module.model.8.m.0/__module.model.8.m.0.0 # /content/yolov12/ultralytics/nn/modules/block.py:1311:0\n",
            "\t\t    %mlp.11 : __torch__.torch.nn.modules.container.Sequential = prim::GetAttr[name=\"mlp\"](%_1.25)\n",
            "\t\t    %attn.11 : __torch__.ultralytics.nn.modules.block.AAttn = prim::GetAttr[name=\"attn\"](%_1.25)\n",
            "\t\t    %proj.11 : __torch__.ultralytics.nn.modules.conv.Conv = prim::GetAttr[name=\"proj\"](%attn.11)\n",
            "\t\t    %pe.11 : __torch__.ultralytics.nn.modules.conv.Conv = prim::GetAttr[name=\"pe\"](%attn.11)\n",
            "\t\t    %qkv.35 : __torch__.ultralytics.nn.modules.conv.Conv = prim::GetAttr[name=\"qkv\"](%attn.11)\n",
            "\t\t    %862 : int = aten::size(%x.41, %753), scope: __module.model.8/__module.model.8.m.0/__module.model.8.m.0.1/__module.model.8.m.0.1.attn # /content/yolov12/ultralytics/nn/modules/block.py:1219:0\n",
            "\t\t    %863 : int = aten::size(%x.41, %754), scope: __module.model.8/__module.model.8.m.0/__module.model.8.m.0.1/__module.model.8.m.0.1.attn # /content/yolov12/ultralytics/nn/modules/block.py:1219:0\n",
            "\t\t    %864 : int = aten::size(%x.41, %741), scope: __module.model.8/__module.model.8.m.0/__module.model.8.m.0.1/__module.model.8.m.0.1.attn # /content/yolov12/ultralytics/nn/modules/block.py:1219:0\n",
            "\t\t    %H.11 : Tensor = prim::NumToTensor(%864), scope: __module.model.8/__module.model.8.m.0/__module.model.8.m.0.1/__module.model.8.m.0.1.attn\n",
            "\t\t    %866 : int = aten::size(%x.41, %742), scope: __module.model.8/__module.model.8.m.0/__module.model.8.m.0.1/__module.model.8.m.0.1.attn # /content/yolov12/ultralytics/nn/modules/block.py:1219:0\n",
            "\t\t    %W.11 : Tensor = prim::NumToTensor(%866), scope: __module.model.8/__module.model.8.m.0/__module.model.8.m.0.1/__module.model.8.m.0.1.attn\n",
            "\t\t    %N.11 : Tensor = aten::mul(%H.11, %W.11), scope: __module.model.8/__module.model.8.m.0/__module.model.8.m.0.1/__module.model.8.m.0.1.attn # /content/yolov12/ultralytics/nn/modules/block.py:1220:0\n",
            "\t\t    %869 : int = aten::Int(%N.11), scope: __module.model.8/__module.model.8.m.0/__module.model.8.m.0.1/__module.model.8.m.0.1.attn\n",
            "\t\t    %conv.83 : __torch__.torch.nn.modules.conv.Conv2d = prim::GetAttr[name=\"conv\"](%qkv.35)\n",
            "\t\t    %bias.321 : Tensor = prim::GetAttr[name=\"bias\"](%conv.83)\n",
            "\t\t    %weight.323 : Tensor = prim::GetAttr[name=\"weight\"](%conv.83)\n",
            "\t\t    %873 : int[] = prim::ListConstruct(%754, %754), scope: __module.model.8/__module.model.8.m.0/__module.model.8.m.0.1/__module.model.8.m.0.1.attn/__module.model.8.m.0.1.attn.qkv/__module.model.8.m.0.1.attn.qkv.conv\n",
            "\t\t    %874 : int[] = prim::ListConstruct(%753, %753), scope: __module.model.8/__module.model.8.m.0/__module.model.8.m.0.1/__module.model.8.m.0.1.attn/__module.model.8.m.0.1.attn.qkv/__module.model.8.m.0.1.attn.qkv.conv\n",
            "\t\t    %875 : int[] = prim::ListConstruct(%754, %754), scope: __module.model.8/__module.model.8.m.0/__module.model.8.m.0.1/__module.model.8.m.0.1.attn/__module.model.8.m.0.1.attn.qkv/__module.model.8.m.0.1.attn.qkv.conv\n",
            "\t\t    %876 : int[] = prim::ListConstruct(%753, %753), scope: __module.model.8/__module.model.8.m.0/__module.model.8.m.0.1/__module.model.8.m.0.1.attn/__module.model.8.m.0.1.attn.qkv/__module.model.8.m.0.1.attn.qkv.conv\n",
            "\t\t    %877 : Tensor = aten::_convolution(%x.41, %weight.323, %bias.321, %873, %874, %875, %752, %876, %754, %752, %751, %751, %751), scope: __module.model.8/__module.model.8.m.0/__module.model.8.m.0.1/__module.model.8.m.0.1.attn/__module.model.8.m.0.1.attn.qkv/__module.model.8.m.0.1.attn.qkv.conv # /usr/local/lib/python3.11/dist-packages/torch/nn/modules/conv.py:549:0\n",
            "\t\t    %878 : Tensor = aten::flatten(%877, %741, %743), scope: __module.model.8/__module.model.8.m.0/__module.model.8.m.0.1/__module.model.8.m.0.1.attn # /content/yolov12/ultralytics/nn/modules/block.py:1222:0\n",
            "\t\t    %qkv.19 : Tensor = aten::transpose(%878, %754, %741), scope: __module.model.8/__module.model.8.m.0/__module.model.8.m.0.1/__module.model.8.m.0.1.attn # /content/yolov12/ultralytics/nn/modules/block.py:1222:0\n",
            "\t\t    %880 : int[] = prim::ListConstruct(%862, %869, %744, %745), scope: __module.model.8/__module.model.8.m.0/__module.model.8.m.0.1/__module.model.8.m.0.1.attn\n",
            "\t\t    %881 : Tensor = aten::view(%qkv.19, %880), scope: __module.model.8/__module.model.8.m.0/__module.model.8.m.0.1/__module.model.8.m.0.1.attn # /content/yolov12/ultralytics/nn/modules/block.py:1226:0\n",
            "\t\t    %882 : int[] = prim::ListConstruct(%746, %746, %746), scope: __module.model.8/__module.model.8.m.0/__module.model.8.m.0.1/__module.model.8.m.0.1.attn\n",
            "\t\t    %883 : Tensor[] = aten::split_with_sizes(%881, %882, %742), scope: __module.model.8/__module.model.8.m.0/__module.model.8.m.0.1/__module.model.8.m.0.1.attn # /usr/local/lib/python3.11/dist-packages/torch/_tensor.py:983:0\n",
            "\t\t    %q.21 : Tensor, %k.11 : Tensor, %v.19 : Tensor = prim::ListUnpack(%883), scope: __module.model.8/__module.model.8.m.0/__module.model.8.m.0.1/__module.model.8.m.0.1.attn\n",
            "\t\t    %887 : Tensor = aten::contiguous(%q.21, %753), scope: __module.model.8/__module.model.8.m.0/__module.model.8.m.0.1/__module.model.8.m.0.1.attn # /content/yolov12/ultralytics/nn/modules/block.py:1232:0\n",
            "\t\t    %q.23 : Tensor = aten::to(%887, %747, %752, %752, %748), scope: __module.model.8/__module.model.8.m.0/__module.model.8.m.0.1/__module.model.8.m.0.1.attn # /content/yolov12/ultralytics/nn/modules/block.py:1232:0\n",
            "\t\t    %889 : Tensor = aten::contiguous(%k.11, %753), scope: __module.model.8/__module.model.8.m.0/__module.model.8.m.0.1/__module.model.8.m.0.1.attn # /content/yolov12/ultralytics/nn/modules/block.py:1233:0\n",
            "\t\t    %890 : Tensor = aten::to(%889, %747, %752, %752, %748), scope: __module.model.8/__module.model.8.m.0/__module.model.8.m.0.1/__module.model.8.m.0.1.attn # /content/yolov12/ultralytics/nn/modules/block.py:1233:0\n",
            "\t\t    %891 : Tensor = aten::contiguous(%v.19, %753), scope: __module.model.8/__module.model.8.m.0/__module.model.8.m.0.1/__module.model.8.m.0.1.attn # /content/yolov12/ultralytics/nn/modules/block.py:1234:0\n",
            "\t\t    %892 : Tensor = aten::to(%891, %747, %752, %752, %748), scope: __module.model.8/__module.model.8.m.0/__module.model.8.m.0.1/__module.model.8.m.0.1.attn # /content/yolov12/ultralytics/nn/modules/block.py:1234:0\n",
            "\t\t-   %893 : Tensor = ^FlashAttnFunc[inplace=0, module=\"flash_attn.flash_attn_interface\", Subgraph=<Graph>](0.0, None, False, (-1, -1), 0.0, None, False, False, True)(%q.23, %890, %892), scope: __module.model.8/__module.model.8.m.0/__module.model.8.m.0.1/__module.model.8.m.0.1.attn # /usr/local/lib/python3.11/dist-packages/torch/autograd/function.py:575:0\n",
            "\t\t?                                                                                                                                                              ^^^\n",
            "\t\t+   %893 : Tensor = ^FlashAttnFunc[inplace=0, module=\"flash_attn.flash_attn_interface\", Subgraph=<Graph>](0.0, None, False, (-1, -1), 0.0, None, False, False, False)(%q.23, %890, %892), scope: __module.model.8/__module.model.8.m.0/__module.model.8.m.0.1/__module.model.8.m.0.1.attn # /usr/local/lib/python3.11/dist-packages/torch/autograd/function.py:575:0\n",
            "\t\t?                                                                                                                                                              ^^^^\n",
            "\t\t    %x.43 : Tensor = aten::to(%893, %749, %752, %752, %748), scope: __module.model.8/__module.model.8.m.0/__module.model.8.m.0.1/__module.model.8.m.0.1.attn # /content/yolov12/ultralytics/nn/modules/block.py:1235:0\n",
            "\t\t    %895 : int[] = prim::ListConstruct(%862, %864, %866, %863), scope: __module.model.8/__module.model.8.m.0/__module.model.8.m.0.1/__module.model.8.m.0.1.attn\n",
            "\t\t    %896 : Tensor = aten::reshape(%x.43, %895), scope: __module.model.8/__module.model.8.m.0/__module.model.8.m.0.1/__module.model.8.m.0.1.attn # /content/yolov12/ultralytics/nn/modules/block.py:1256:0\n",
            "\t\t    %897 : int[] = prim::ListConstruct(%753, %742, %754, %741), scope: __module.model.8/__module.model.8.m.0/__module.model.8.m.0.1/__module.model.8.m.0.1.attn\n",
            "\t\t    %x.45 : Tensor = aten::permute(%896, %897), scope: __module.model.8/__module.model.8.m.0/__module.model.8.m.0.1/__module.model.8.m.0.1.attn # /content/yolov12/ultralytics/nn/modules/block.py:1256:0\n",
            "\t\t    %899 : int[] = prim::ListConstruct(%862, %864, %866, %863), scope: __module.model.8/__module.model.8.m.0/__module.model.8.m.0.1/__module.model.8.m.0.1.attn\n",
            "\t\t    %900 : Tensor = aten::reshape(%v.19, %899), scope: __module.model.8/__module.model.8.m.0/__module.model.8.m.0.1/__module.model.8.m.0.1.attn # /content/yolov12/ultralytics/nn/modules/block.py:1257:0\n",
            "\t\t    %901 : int[] = prim::ListConstruct(%753, %742, %754, %741), scope: __module.model.8/__module.model.8.m.0/__module.model.8.m.0.1/__module.model.8.m.0.1.attn\n",
            "\t\t    %input.113 : Tensor = aten::permute(%900, %901), scope: __module.model.8/__module.model.8.m.0/__module.model.8.m.0.1/__module.model.8.m.0.1.attn # /content/yolov12/ultralytics/nn/modules/block.py:1257:0\n",
            "\t\t    %conv.85 : __torch__.torch.nn.modules.conv.Conv2d = prim::GetAttr[name=\"conv\"](%pe.11)\n",
            "\t\t    %bias.323 : Tensor = prim::GetAttr[name=\"bias\"](%conv.85)\n",
            "\t\t    %weight.325 : Tensor = prim::GetAttr[name=\"weight\"](%conv.85)\n",
            "\t\t    %906 : int[] = prim::ListConstruct(%754, %754), scope: __module.model.8/__module.model.8.m.0/__module.model.8.m.0.1/__module.model.8.m.0.1.attn/__module.model.8.m.0.1.attn.pe/__module.model.8.m.0.1.attn.pe.conv\n",
            "\t\t    %907 : int[] = prim::ListConstruct(%742, %742), scope: __module.model.8/__module.model.8.m.0/__module.model.8.m.0.1/__module.model.8.m.0.1.attn/__module.model.8.m.0.1.attn.pe/__module.model.8.m.0.1.attn.pe.conv\n",
            "\t\t    %908 : int[] = prim::ListConstruct(%754, %754), scope: __module.model.8/__module.model.8.m.0/__module.model.8.m.0.1/__module.model.8.m.0.1.attn/__module.model.8.m.0.1.attn.pe/__module.model.8.m.0.1.attn.pe.conv\n",
            "\t\t    %909 : int[] = prim::ListConstruct(%753, %753), scope: __module.model.8/__module.model.8.m.0/__module.model.8.m.0.1/__module.model.8.m.0.1.attn/__module.model.8.m.0.1.attn.pe/__module.model.8.m.0.1.attn.pe.conv\n",
            "\t\t    %910 : Tensor = aten::_convolution(%input.113, %weight.325, %bias.323, %906, %907, %908, %752, %909, %750, %752, %751, %751, %751), scope: __module.model.8/__module.model.8.m.0/__module.model.8.m.0.1/__module.model.8.m.0.1.attn/__module.model.8.m.0.1.attn.pe/__module.model.8.m.0.1.attn.pe.conv # /usr/local/lib/python3.11/dist-packages/torch/nn/modules/conv.py:549:0\n",
            "\t\t    %input.115 : Tensor = aten::add(%x.45, %910, %754), scope: __module.model.8/__module.model.8.m.0/__module.model.8.m.0.1/__module.model.8.m.0.1.attn # /content/yolov12/ultralytics/nn/modules/block.py:1259:0\n",
            "\t\t    %conv.87 : __torch__.torch.nn.modules.conv.Conv2d = prim::GetAttr[name=\"conv\"](%proj.11)\n",
            "\t\t    %bias.325 : Tensor = prim::GetAttr[name=\"bias\"](%conv.87)\n",
            "\t\t    %weight.327 : Tensor = prim::GetAttr[name=\"weight\"](%conv.87)\n",
            "\t\t    %915 : int[] = prim::ListConstruct(%754, %754), scope: __module.model.8/__module.model.8.m.0/__module.model.8.m.0.1/__module.model.8.m.0.1.attn/__module.model.8.m.0.1.attn.proj/__module.model.8.m.0.1.attn.proj.conv\n",
            "\t\t    %916 : int[] = prim::ListConstruct(%753, %753), scope: __module.model.8/__module.model.8.m.0/__module.model.8.m.0.1/__module.model.8.m.0.1.attn/__module.model.8.m.0.1.attn.proj/__module.model.8.m.0.1.attn.proj.conv\n",
            "\t\t    %917 : int[] = prim::ListConstruct(%754, %754), scope: __module.model.8/__module.model.8.m.0/__module.model.8.m.0.1/__module.model.8.m.0.1.attn/__module.model.8.m.0.1.attn.proj/__module.model.8.m.0.1.attn.proj.conv\n",
            "\t\t    %918 : int[] = prim::ListConstruct(%753, %753), scope: __module.model.8/__module.model.8.m.0/__module.model.8.m.0.1/__module.model.8.m.0.1.attn/__module.model.8.m.0.1.attn.proj/__module.model.8.m.0.1.attn.proj.conv\n",
            "\t\t    %919 : Tensor = aten::_convolution(%input.115, %weight.327, %bias.325, %915, %916, %917, %752, %918, %754, %752, %751, %751, %751), scope: __module.model.8/__module.model.8.m.0/__module.model.8.m.0.1/__module.model.8.m.0.1.attn/__module.model.8.m.0.1.attn.proj/__module.model.8.m.0.1.attn.proj.conv # /usr/local/lib/python3.11/dist-packages/torch/nn/modules/conv.py:549:0\n",
            "\t\t    %input.117 : Tensor = aten::add(%x.41, %919, %754), scope: __module.model.8/__module.model.8.m.0/__module.model.8.m.0.1 # /content/yolov12/ultralytics/nn/modules/block.py:1310:0\n",
            "\t\t    %_1.23 : __torch__.ultralytics.nn.modules.conv.Conv = prim::GetAttr[name=\"1\"](%mlp.11)\n",
            "\t\t    %_0.25 : __torch__.ultralytics.nn.modules.conv.Conv = prim::GetAttr[name=\"0\"](%mlp.11)\n",
            "\t\t    %conv.89 : __torch__.torch.nn.modules.conv.Conv2d = prim::GetAttr[name=\"conv\"](%_0.25)\n",
            "\t\t    %bias.327 : Tensor = prim::GetAttr[name=\"bias\"](%conv.89)\n",
            "\t\t    %weight.329 : Tensor = prim::GetAttr[name=\"weight\"](%conv.89)\n",
            "\t\t    %926 : int[] = prim::ListConstruct(%754, %754), scope: __module.model.8/__module.model.8.m.0/__module.model.8.m.0.1/__module.model.8.m.0.1.mlp/__module.model.8.m.0.1.mlp.0/__module.model.8.m.0.1.mlp.0.conv\n",
            "\t\t    %927 : int[] = prim::ListConstruct(%753, %753), scope: __module.model.8/__module.model.8.m.0/__module.model.8.m.0.1/__module.model.8.m.0.1.mlp/__module.model.8.m.0.1.mlp.0/__module.model.8.m.0.1.mlp.0.conv\n",
            "\t\t    %928 : int[] = prim::ListConstruct(%754, %754), scope: __module.model.8/__module.model.8.m.0/__module.model.8.m.0.1/__module.model.8.m.0.1.mlp/__module.model.8.m.0.1.mlp.0/__module.model.8.m.0.1.mlp.0.conv\n",
            "\t\t    %929 : int[] = prim::ListConstruct(%753, %753), scope: __module.model.8/__module.model.8.m.0/__module.model.8.m.0.1/__module.model.8.m.0.1.mlp/__module.model.8.m.0.1.mlp.0/__module.model.8.m.0.1.mlp.0.conv\n",
            "\t\t    %input.119 : Tensor = aten::_convolution(%input.117, %weight.329, %bias.327, %926, %927, %928, %752, %929, %754, %752, %751, %751, %751), scope: __module.model.8/__module.model.8.m.0/__module.model.8.m.0.1/__module.model.8.m.0.1.mlp/__module.model.8.m.0.1.mlp.0/__module.model.8.m.0.1.mlp.0.conv # /usr/local/lib/python3.11/dist-packages/torch/nn/modules/conv.py:549:0\n",
            "\t\t    %input.121 : Tensor = aten::silu_(%input.119), scope: __module.model.8/__module.model.8.m.0/__module.model.8.m.0.1/__module.model.8.m.0.1.mlp/__module.model.8.m.0.1.mlp.0/__module.model.21.cv3.2.1.1.act # /usr/local/lib/python3.11/dist-packages/torch/nn/functional.py:2379:0\n",
            "\t\t    %act.49 : __torch__.torch.nn.modules.linear.Identity = prim::GetAttr[name=\"act\"](%_1.23)\n",
            "\t\t    %conv.91 : __torch__.torch.nn.modules.conv.Conv2d = prim::GetAttr[name=\"conv\"](%_1.23)\n",
            "\t\t    %bias.329 : Tensor = prim::GetAttr[name=\"bias\"](%conv.91)\n",
            "\t\t    %weight.331 : Tensor = prim::GetAttr[name=\"weight\"](%conv.91)\n",
            "\t\t    %936 : int[] = prim::ListConstruct(%754, %754), scope: __module.model.8/__module.model.8.m.0/__module.model.8.m.0.1/__module.model.8.m.0.1.mlp/__module.model.8.m.0.1.mlp.1/__module.model.8.m.0.1.mlp.1.conv\n",
            "\t\t    %937 : int[] = prim::ListConstruct(%753, %753), scope: __module.model.8/__module.model.8.m.0/__module.model.8.m.0.1/__module.model.8.m.0.1.mlp/__module.model.8.m.0.1.mlp.1/__module.model.8.m.0.1.mlp.1.conv\n",
            "\t\t    %938 : int[] = prim::ListConstruct(%754, %754), scope: __module.model.8/__module.model.8.m.0/__module.model.8.m.0.1/__module.model.8.m.0.1.mlp/__module.model.8.m.0.1.mlp.1/__module.model.8.m.0.1.mlp.1.conv\n",
            "\t\t    %939 : int[] = prim::ListConstruct(%753, %753), scope: __module.model.8/__module.model.8.m.0/__module.model.8.m.0.1/__module.model.8.m.0.1.mlp/__module.model.8.m.0.1.mlp.1/__module.model.8.m.0.1.mlp.1.conv\n",
            "\t\t    %940 : Tensor = aten::_convolution(%input.121, %weight.331, %bias.329, %936, %937, %938, %752, %939, %754, %752, %751, %751, %751), scope: __module.model.8/__module.model.8.m.0/__module.model.8.m.0.1/__module.model.8.m.0.1.mlp/__module.model.8.m.0.1.mlp.1/__module.model.8.m.0.1.mlp.1.conv # /usr/local/lib/python3.11/dist-packages/torch/nn/modules/conv.py:549:0\n",
            "\t\t    %x.47 : Tensor = aten::add(%input.117, %940, %754), scope: __module.model.8/__module.model.8.m.0/__module.model.8.m.0.1 # /content/yolov12/ultralytics/nn/modules/block.py:1311:0\n",
            "\t\t    %_1.31 : __torch__.ultralytics.nn.modules.block.ABlock = prim::GetAttr[name=\"1\"](%_1.33)\n",
            "\t\t    %_0.31 : __torch__.ultralytics.nn.modules.block.ABlock = prim::GetAttr[name=\"0\"](%_1.33)\n",
            "\t\t    %mlp.13 : __torch__.torch.nn.modules.container.Sequential = prim::GetAttr[name=\"mlp\"](%_0.31)\n",
            "\t\t    %attn.13 : __torch__.ultralytics.nn.modules.block.AAttn = prim::GetAttr[name=\"attn\"](%_0.31)\n",
            "\t\t    %proj.13 : __torch__.ultralytics.nn.modules.conv.Conv = prim::GetAttr[name=\"proj\"](%attn.13)\n",
            "\t\t    %pe.13 : __torch__.ultralytics.nn.modules.conv.Conv = prim::GetAttr[name=\"pe\"](%attn.13)\n",
            "\t\t    %qkv.37 : __torch__.ultralytics.nn.modules.conv.Conv = prim::GetAttr[name=\"qkv\"](%attn.13)\n",
            "\t\t    %949 : int = aten::size(%x.47, %753), scope: __module.model.8/__module.model.8.m.1/__module.model.8.m.1.0/__module.model.8.m.1.0.attn # /content/yolov12/ultralytics/nn/modules/block.py:1219:0\n",
            "\t\t    %950 : int = aten::size(%x.47, %754), scope: __module.model.8/__module.model.8.m.1/__module.model.8.m.1.0/__module.model.8.m.1.0.attn # /content/yolov12/ultralytics/nn/modules/block.py:1219:0\n",
            "\t\t    %951 : int = aten::size(%x.47, %741), scope: __module.model.8/__module.model.8.m.1/__module.model.8.m.1.0/__module.model.8.m.1.0.attn # /content/yolov12/ultralytics/nn/modules/block.py:1219:0\n",
            "\t\t    %H.13 : Tensor = prim::NumToTensor(%951), scope: __module.model.8/__module.model.8.m.1/__module.model.8.m.1.0/__module.model.8.m.1.0.attn\n",
            "\t\t    %953 : int = aten::size(%x.47, %742), scope: __module.model.8/__module.model.8.m.1/__module.model.8.m.1.0/__module.model.8.m.1.0.attn # /content/yolov12/ultralytics/nn/modules/block.py:1219:0\n",
            "\t\t    %W.13 : Tensor = prim::NumToTensor(%953), scope: __module.model.8/__module.model.8.m.1/__module.model.8.m.1.0/__module.model.8.m.1.0.attn\n",
            "\t\t    %N.13 : Tensor = aten::mul(%H.13, %W.13), scope: __module.model.8/__module.model.8.m.1/__module.model.8.m.1.0/__module.model.8.m.1.0.attn # /content/yolov12/ultralytics/nn/modules/block.py:1220:0\n",
            "\t\t    %956 : int = aten::Int(%N.13), scope: __module.model.8/__module.model.8.m.1/__module.model.8.m.1.0/__module.model.8.m.1.0.attn\n",
            "\t\t    %conv.93 : __torch__.torch.nn.modules.conv.Conv2d = prim::GetAttr[name=\"conv\"](%qkv.37)\n",
            "\t\t    %bias.331 : Tensor = prim::GetAttr[name=\"bias\"](%conv.93)\n",
            "\t\t    %weight.333 : Tensor = prim::GetAttr[name=\"weight\"](%conv.93)\n",
            "\t\t    %960 : int[] = prim::ListConstruct(%754, %754), scope: __module.model.8/__module.model.8.m.1/__module.model.8.m.1.0/__module.model.8.m.1.0.attn/__module.model.8.m.1.0.attn.qkv/__module.model.8.m.1.0.attn.qkv.conv\n",
            "\t\t    %961 : int[] = prim::ListConstruct(%753, %753), scope: __module.model.8/__module.model.8.m.1/__module.model.8.m.1.0/__module.model.8.m.1.0.attn/__module.model.8.m.1.0.attn.qkv/__module.model.8.m.1.0.attn.qkv.conv\n",
            "\t\t    %962 : int[] = prim::ListConstruct(%754, %754), scope: __module.model.8/__module.model.8.m.1/__module.model.8.m.1.0/__module.model.8.m.1.0.attn/__module.model.8.m.1.0.attn.qkv/__module.model.8.m.1.0.attn.qkv.conv\n",
            "\t\t    %963 : int[] = prim::ListConstruct(%753, %753), scope: __module.model.8/__module.model.8.m.1/__module.model.8.m.1.0/__module.model.8.m.1.0.attn/__module.model.8.m.1.0.attn.qkv/__module.model.8.m.1.0.attn.qkv.conv\n",
            "\t\t    %964 : Tensor = aten::_convolution(%x.47, %weight.333, %bias.331, %960, %961, %962, %752, %963, %754, %752, %751, %751, %751), scope: __module.model.8/__module.model.8.m.1/__module.model.8.m.1.0/__module.model.8.m.1.0.attn/__module.model.8.m.1.0.attn.qkv/__module.model.8.m.1.0.attn.qkv.conv # /usr/local/lib/python3.11/dist-packages/torch/nn/modules/conv.py:549:0\n",
            "\t\t    %965 : Tensor = aten::flatten(%964, %741, %743), scope: __module.model.8/__module.model.8.m.1/__module.model.8.m.1.0/__module.model.8.m.1.0.attn # /content/yolov12/ultralytics/nn/modules/block.py:1222:0\n",
            "\t\t    %qkv.21 : Tensor = aten::transpose(%965, %754, %741), scope: __module.model.8/__module.model.8.m.1/__module.model.8.m.1.0/__module.model.8.m.1.0.attn # /content/yolov12/ultralytics/nn/modules/block.py:1222:0\n",
            "\t\t    %967 : int[] = prim::ListConstruct(%949, %956, %744, %745), scope: __module.model.8/__module.model.8.m.1/__module.model.8.m.1.0/__module.model.8.m.1.0.attn\n",
            "\t\t    %968 : Tensor = aten::view(%qkv.21, %967), scope: __module.model.8/__module.model.8.m.1/__module.model.8.m.1.0/__module.model.8.m.1.0.attn # /content/yolov12/ultralytics/nn/modules/block.py:1226:0\n",
            "\t\t    %969 : int[] = prim::ListConstruct(%746, %746, %746), scope: __module.model.8/__module.model.8.m.1/__module.model.8.m.1.0/__module.model.8.m.1.0.attn\n",
            "\t\t    %970 : Tensor[] = aten::split_with_sizes(%968, %969, %742), scope: __module.model.8/__module.model.8.m.1/__module.model.8.m.1.0/__module.model.8.m.1.0.attn # /usr/local/lib/python3.11/dist-packages/torch/_tensor.py:983:0\n",
            "\t\t    %q.25 : Tensor, %k.13 : Tensor, %v.21 : Tensor = prim::ListUnpack(%970), scope: __module.model.8/__module.model.8.m.1/__module.model.8.m.1.0/__module.model.8.m.1.0.attn\n",
            "\t\t    %974 : Tensor = aten::contiguous(%q.25, %753), scope: __module.model.8/__module.model.8.m.1/__module.model.8.m.1.0/__module.model.8.m.1.0.attn # /content/yolov12/ultralytics/nn/modules/block.py:1232:0\n",
            "\t\t    %q.27 : Tensor = aten::to(%974, %747, %752, %752, %748), scope: __module.model.8/__module.model.8.m.1/__module.model.8.m.1.0/__module.model.8.m.1.0.attn # /content/yolov12/ultralytics/nn/modules/block.py:1232:0\n",
            "\t\t    %976 : Tensor = aten::contiguous(%k.13, %753), scope: __module.model.8/__module.model.8.m.1/__module.model.8.m.1.0/__module.model.8.m.1.0.attn # /content/yolov12/ultralytics/nn/modules/block.py:1233:0\n",
            "\t\t    %977 : Tensor = aten::to(%976, %747, %752, %752, %748), scope: __module.model.8/__module.model.8.m.1/__module.model.8.m.1.0/__module.model.8.m.1.0.attn # /content/yolov12/ultralytics/nn/modules/block.py:1233:0\n",
            "\t\t    %978 : Tensor = aten::contiguous(%v.21, %753), scope: __module.model.8/__module.model.8.m.1/__module.model.8.m.1.0/__module.model.8.m.1.0.attn # /content/yolov12/ultralytics/nn/modules/block.py:1234:0\n",
            "\t\t    %979 : Tensor = aten::to(%978, %747, %752, %752, %748), scope: __module.model.8/__module.model.8.m.1/__module.model.8.m.1.0/__module.model.8.m.1.0.attn # /content/yolov12/ultralytics/nn/modules/block.py:1234:0\n",
            "\t\t-   %980 : Tensor = ^FlashAttnFunc[inplace=0, module=\"flash_attn.flash_attn_interface\", Subgraph=<Graph>](0.0, None, False, (-1, -1), 0.0, None, False, False, True)(%q.27, %977, %979), scope: __module.model.8/__module.model.8.m.1/__module.model.8.m.1.0/__module.model.8.m.1.0.attn # /usr/local/lib/python3.11/dist-packages/torch/autograd/function.py:575:0\n",
            "\t\t?                                                                                                                                                              ^^^\n",
            "\t\t+   %980 : Tensor = ^FlashAttnFunc[inplace=0, module=\"flash_attn.flash_attn_interface\", Subgraph=<Graph>](0.0, None, False, (-1, -1), 0.0, None, False, False, False)(%q.27, %977, %979), scope: __module.model.8/__module.model.8.m.1/__module.model.8.m.1.0/__module.model.8.m.1.0.attn # /usr/local/lib/python3.11/dist-packages/torch/autograd/function.py:575:0\n",
            "\t\t?                                                                                                                                                              ^^^^\n",
            "\t\t    %x.49 : Tensor = aten::to(%980, %749, %752, %752, %748), scope: __module.model.8/__module.model.8.m.1/__module.model.8.m.1.0/__module.model.8.m.1.0.attn # /content/yolov12/ultralytics/nn/modules/block.py:1235:0\n",
            "\t\t    %982 : int[] = prim::ListConstruct(%949, %951, %953, %950), scope: __module.model.8/__module.model.8.m.1/__module.model.8.m.1.0/__module.model.8.m.1.0.attn\n",
            "\t\t    %983 : Tensor = aten::reshape(%x.49, %982), scope: __module.model.8/__module.model.8.m.1/__module.model.8.m.1.0/__module.model.8.m.1.0.attn # /content/yolov12/ultralytics/nn/modules/block.py:1256:0\n",
            "\t\t    %984 : int[] = prim::ListConstruct(%753, %742, %754, %741), scope: __module.model.8/__module.model.8.m.1/__module.model.8.m.1.0/__module.model.8.m.1.0.attn\n",
            "\t\t    %x.51 : Tensor = aten::permute(%983, %984), scope: __module.model.8/__module.model.8.m.1/__module.model.8.m.1.0/__module.model.8.m.1.0.attn # /content/yolov12/ultralytics/nn/modules/block.py:1256:0\n",
            "\t\t    %986 : int[] = prim::ListConstruct(%949, %951, %953, %950), scope: __module.model.8/__module.model.8.m.1/__module.model.8.m.1.0/__module.model.8.m.1.0.attn\n",
            "\t\t    %987 : Tensor = aten::reshape(%v.21, %986), scope: __module.model.8/__module.model.8.m.1/__module.model.8.m.1.0/__module.model.8.m.1.0.attn # /content/yolov12/ultralytics/nn/modules/block.py:1257:0\n",
            "\t\t    %988 : int[] = prim::ListConstruct(%753, %742, %754, %741), scope: __module.model.8/__module.model.8.m.1/__module.model.8.m.1.0/__module.model.8.m.1.0.attn\n",
            "\t\t    %input.123 : Tensor = aten::permute(%987, %988), scope: __module.model.8/__module.model.8.m.1/__module.model.8.m.1.0/__module.model.8.m.1.0.attn # /content/yolov12/ultralytics/nn/modules/block.py:1257:0\n",
            "\t\t    %conv.95 : __torch__.torch.nn.modules.conv.Conv2d = prim::GetAttr[name=\"conv\"](%pe.13)\n",
            "\t\t    %bias.333 : Tensor = prim::GetAttr[name=\"bias\"](%conv.95)\n",
            "\t\t    %weight.335 : Tensor = prim::GetAttr[name=\"weight\"](%conv.95)\n",
            "\t\t    %993 : int[] = prim::ListConstruct(%754, %754), scope: __module.model.8/__module.model.8.m.1/__module.model.8.m.1.0/__module.model.8.m.1.0.attn/__module.model.8.m.1.0.attn.pe/__module.model.8.m.1.0.attn.pe.conv\n",
            "\t\t    %994 : int[] = prim::ListConstruct(%742, %742), scope: __module.model.8/__module.model.8.m.1/__module.model.8.m.1.0/__module.model.8.m.1.0.attn/__module.model.8.m.1.0.attn.pe/__module.model.8.m.1.0.attn.pe.conv\n",
            "\t\t    %995 : int[] = prim::ListConstruct(%754, %754), scope: __module.model.8/__module.model.8.m.1/__module.model.8.m.1.0/__module.model.8.m.1.0.attn/__module.model.8.m.1.0.attn.pe/__module.model.8.m.1.0.attn.pe.conv\n",
            "\t\t    %996 : int[] = prim::ListConstruct(%753, %753), scope: __module.model.8/__module.model.8.m.1/__module.model.8.m.1.0/__module.model.8.m.1.0.attn/__module.model.8.m.1.0.attn.pe/__module.model.8.m.1.0.attn.pe.conv\n",
            "\t\t    %997 : Tensor = aten::_convolution(%input.123, %weight.335, %bias.333, %993, %994, %995, %752, %996, %750, %752, %751, %751, %751), scope: __module.model.8/__module.model.8.m.1/__module.model.8.m.1.0/__module.model.8.m.1.0.attn/__module.model.8.m.1.0.attn.pe/__module.model.8.m.1.0.attn.pe.conv # /usr/local/lib/python3.11/dist-packages/torch/nn/modules/conv.py:549:0\n",
            "\t\t    %input.125 : Tensor = aten::add(%x.51, %997, %754), scope: __module.model.8/__module.model.8.m.1/__module.model.8.m.1.0/__module.model.8.m.1.0.attn # /content/yolov12/ultralytics/nn/modules/block.py:1259:0\n",
            "\t\t    %conv.97 : __torch__.torch.nn.modules.conv.Conv2d = prim::GetAttr[name=\"conv\"](%proj.13)\n",
            "\t\t    %bias.335 : Tensor = prim::GetAttr[name=\"bias\"](%conv.97)\n",
            "\t\t    %weight.337 : Tensor = prim::GetAttr[name=\"weight\"](%conv.97)\n",
            "\t\t    %1002 : int[] = prim::ListConstruct(%754, %754), scope: __module.model.8/__module.model.8.m.1/__module.model.8.m.1.0/__module.model.8.m.1.0.attn/__module.model.8.m.1.0.attn.proj/__module.model.8.m.1.0.attn.proj.conv\n",
            "\t\t    %1003 : int[] = prim::ListConstruct(%753, %753), scope: __module.model.8/__module.model.8.m.1/__module.model.8.m.1.0/__module.model.8.m.1.0.attn/__module.model.8.m.1.0.attn.proj/__module.model.8.m.1.0.attn.proj.conv\n",
            "\t\t    %1004 : int[] = prim::ListConstruct(%754, %754), scope: __module.model.8/__module.model.8.m.1/__module.model.8.m.1.0/__module.model.8.m.1.0.attn/__module.model.8.m.1.0.attn.proj/__module.model.8.m.1.0.attn.proj.conv\n",
            "\t\t    %1005 : int[] = prim::ListConstruct(%753, %753), scope: __module.model.8/__module.model.8.m.1/__module.model.8.m.1.0/__module.model.8.m.1.0.attn/__module.model.8.m.1.0.attn.proj/__module.model.8.m.1.0.attn.proj.conv\n",
            "\t\t    %1006 : Tensor = aten::_convolution(%input.125, %weight.337, %bias.335, %1002, %1003, %1004, %752, %1005, %754, %752, %751, %751, %751), scope: __module.model.8/__module.model.8.m.1/__module.model.8.m.1.0/__module.model.8.m.1.0.attn/__module.model.8.m.1.0.attn.proj/__module.model.8.m.1.0.attn.proj.conv # /usr/local/lib/python3.11/dist-packages/torch/nn/modules/conv.py:549:0\n",
            "\t\t    %input.127 : Tensor = aten::add(%x.47, %1006, %754), scope: __module.model.8/__module.model.8.m.1/__module.model.8.m.1.0 # /content/yolov12/ultralytics/nn/modules/block.py:1310:0\n",
            "\t\t    %_1.27 : __torch__.ultralytics.nn.modules.conv.Conv = prim::GetAttr[name=\"1\"](%mlp.13)\n",
            "\t\t    %_0.29 : __torch__.ultralytics.nn.modules.conv.Conv = prim::GetAttr[name=\"0\"](%mlp.13)\n",
            "\t\t    %conv.99 : __torch__.torch.nn.modules.conv.Conv2d = prim::GetAttr[name=\"conv\"](%_0.29)\n",
            "\t\t    %bias.337 : Tensor = prim::GetAttr[name=\"bias\"](%conv.99)\n",
            "\t\t    %weight.339 : Tensor = prim::GetAttr[name=\"weight\"](%conv.99)\n",
            "\t\t    %1013 : int[] = prim::ListConstruct(%754, %754), scope: __module.model.8/__module.model.8.m.1/__module.model.8.m.1.0/__module.model.8.m.1.0.mlp/__module.model.8.m.1.0.mlp.0/__module.model.8.m.1.0.mlp.0.conv\n",
            "\t\t    %1014 : int[] = prim::ListConstruct(%753, %753), scope: __module.model.8/__module.model.8.m.1/__module.model.8.m.1.0/__module.model.8.m.1.0.mlp/__module.model.8.m.1.0.mlp.0/__module.model.8.m.1.0.mlp.0.conv\n",
            "\t\t    %1015 : int[] = prim::ListConstruct(%754, %754), scope: __module.model.8/__module.model.8.m.1/__module.model.8.m.1.0/__module.model.8.m.1.0.mlp/__module.model.8.m.1.0.mlp.0/__module.model.8.m.1.0.mlp.0.conv\n",
            "\t\t    %1016 : int[] = prim::ListConstruct(%753, %753), scope: __module.model.8/__module.model.8.m.1/__module.model.8.m.1.0/__module.model.8.m.1.0.mlp/__module.model.8.m.1.0.mlp.0/__module.model.8.m.1.0.mlp.0.conv\n",
            "\t\t    %input.129 : Tensor = aten::_convolution(%input.127, %weight.339, %bias.337, %1013, %1014, %1015, %752, %1016, %754, %752, %751, %751, %751), scope: __module.model.8/__module.model.8.m.1/__module.model.8.m.1.0/__module.model.8.m.1.0.mlp/__module.model.8.m.1.0.mlp.0/__module.model.8.m.1.0.mlp.0.conv # /usr/local/lib/python3.11/dist-packages/torch/nn/modules/conv.py:549:0\n",
            "\t\t    %input.131 : Tensor = aten::silu_(%input.129), scope: __module.model.8/__module.model.8.m.1/__module.model.8.m.1.0/__module.model.8.m.1.0.mlp/__module.model.8.m.1.0.mlp.0/__module.model.21.cv3.2.1.1.act # /usr/local/lib/python3.11/dist-packages/torch/nn/functional.py:2379:0\n",
            "\t\t    %act.57 : __torch__.torch.nn.modules.linear.Identity = prim::GetAttr[name=\"act\"](%_1.27)\n",
            "\t\t    %conv.101 : __torch__.torch.nn.modules.conv.Conv2d = prim::GetAttr[name=\"conv\"](%_1.27)\n",
            "\t\t    %bias.339 : Tensor = prim::GetAttr[name=\"bias\"](%conv.101)\n",
            "\t\t    %weight.341 : Tensor = prim::GetAttr[name=\"weight\"](%conv.101)\n",
            "\t\t    %1023 : int[] = prim::ListConstruct(%754, %754), scope: __module.model.8/__module.model.8.m.1/__module.model.8.m.1.0/__module.model.8.m.1.0.mlp/__module.model.8.m.1.0.mlp.1/__module.model.8.m.1.0.mlp.1.conv\n",
            "\t\t    %1024 : int[] = prim::ListConstruct(%753, %753), scope: __module.model.8/__module.model.8.m.1/__module.model.8.m.1.0/__module.model.8.m.1.0.mlp/__module.model.8.m.1.0.mlp.1/__module.model.8.m.1.0.mlp.1.conv\n",
            "\t\t    %1025 : int[] = prim::ListConstruct(%754, %754), scope: __module.model.8/__module.model.8.m.1/__module.model.8.m.1.0/__module.model.8.m.1.0.mlp/__module.model.8.m.1.0.mlp.1/__module.model.8.m.1.0.mlp.1.conv\n",
            "\t\t    %1026 : int[] = prim::ListConstruct(%753, %753), scope: __module.model.8/__module.model.8.m.1/__module.model.8.m.1.0/__module.model.8.m.1.0.mlp/__module.model.8.m.1.0.mlp.1/__module.model.8.m.1.0.mlp.1.conv\n",
            "\t\t    %1027 : Tensor = aten::_convolution(%input.131, %weight.341, %bias.339, %1023, %1024, %1025, %752, %1026, %754, %752, %751, %751, %751), scope: __module.model.8/__module.model.8.m.1/__module.model.8.m.1.0/__module.model.8.m.1.0.mlp/__module.model.8.m.1.0.mlp.1/__module.model.8.m.1.0.mlp.1.conv # /usr/local/lib/python3.11/dist-packages/torch/nn/modules/conv.py:549:0\n",
            "\t\t    %x.53 : Tensor = aten::add(%input.127, %1027, %754), scope: __module.model.8/__module.model.8.m.1/__module.model.8.m.1.0 # /content/yolov12/ultralytics/nn/modules/block.py:1311:0\n",
            "\t\t    %mlp : __torch__.torch.nn.modules.container.Sequential = prim::GetAttr[name=\"mlp\"](%_1.31)\n",
            "\t\t    %attn : __torch__.ultralytics.nn.modules.block.AAttn = prim::GetAttr[name=\"attn\"](%_1.31)\n",
            "\t\t    %proj : __torch__.ultralytics.nn.modules.conv.Conv = prim::GetAttr[name=\"proj\"](%attn)\n",
            "\t\t    %pe : __torch__.ultralytics.nn.modules.conv.Conv = prim::GetAttr[name=\"pe\"](%attn)\n",
            "\t\t    %qkv : __torch__.ultralytics.nn.modules.conv.Conv = prim::GetAttr[name=\"qkv\"](%attn)\n",
            "\t\t    %1034 : int = aten::size(%x.53, %753), scope: __module.model.8/__module.model.8.m.1/__module.model.8.m.1.1/__module.model.8.m.1.1.attn # /content/yolov12/ultralytics/nn/modules/block.py:1219:0\n",
            "\t\t    %1035 : int = aten::size(%x.53, %754), scope: __module.model.8/__module.model.8.m.1/__module.model.8.m.1.1/__module.model.8.m.1.1.attn # /content/yolov12/ultralytics/nn/modules/block.py:1219:0\n",
            "\t\t    %1036 : int = aten::size(%x.53, %741), scope: __module.model.8/__module.model.8.m.1/__module.model.8.m.1.1/__module.model.8.m.1.1.attn # /content/yolov12/ultralytics/nn/modules/block.py:1219:0\n",
            "\t\t    %H : Tensor = prim::NumToTensor(%1036), scope: __module.model.8/__module.model.8.m.1/__module.model.8.m.1.1/__module.model.8.m.1.1.attn\n",
            "\t\t    %1038 : int = aten::size(%x.53, %742), scope: __module.model.8/__module.model.8.m.1/__module.model.8.m.1.1/__module.model.8.m.1.1.attn # /content/yolov12/ultralytics/nn/modules/block.py:1219:0\n",
            "\t\t    %W : Tensor = prim::NumToTensor(%1038), scope: __module.model.8/__module.model.8.m.1/__module.model.8.m.1.1/__module.model.8.m.1.1.attn\n",
            "\t\t    %N : Tensor = aten::mul(%H, %W), scope: __module.model.8/__module.model.8.m.1/__module.model.8.m.1.1/__module.model.8.m.1.1.attn # /content/yolov12/ultralytics/nn/modules/block.py:1220:0\n",
            "\t\t    %1041 : int = aten::Int(%N), scope: __module.model.8/__module.model.8.m.1/__module.model.8.m.1.1/__module.model.8.m.1.1.attn\n",
            "\t\t    %conv.103 : __torch__.torch.nn.modules.conv.Conv2d = prim::GetAttr[name=\"conv\"](%qkv)\n",
            "\t\t    %bias.341 : Tensor = prim::GetAttr[name=\"bias\"](%conv.103)\n",
            "\t\t    %weight.343 : Tensor = prim::GetAttr[name=\"weight\"](%conv.103)\n",
            "\t\t    %1045 : int[] = prim::ListConstruct(%754, %754), scope: __module.model.8/__module.model.8.m.1/__module.model.8.m.1.1/__module.model.8.m.1.1.attn/__module.model.8.m.1.1.attn.qkv/__module.model.8.m.1.1.attn.qkv.conv\n",
            "\t\t    %1046 : int[] = prim::ListConstruct(%753, %753), scope: __module.model.8/__module.model.8.m.1/__module.model.8.m.1.1/__module.model.8.m.1.1.attn/__module.model.8.m.1.1.attn.qkv/__module.model.8.m.1.1.attn.qkv.conv\n",
            "\t\t    %1047 : int[] = prim::ListConstruct(%754, %754), scope: __module.model.8/__module.model.8.m.1/__module.model.8.m.1.1/__module.model.8.m.1.1.attn/__module.model.8.m.1.1.attn.qkv/__module.model.8.m.1.1.attn.qkv.conv\n",
            "\t\t    %1048 : int[] = prim::ListConstruct(%753, %753), scope: __module.model.8/__module.model.8.m.1/__module.model.8.m.1.1/__module.model.8.m.1.1.attn/__module.model.8.m.1.1.attn.qkv/__module.model.8.m.1.1.attn.qkv.conv\n",
            "\t\t    %1049 : Tensor = aten::_convolution(%x.53, %weight.343, %bias.341, %1045, %1046, %1047, %752, %1048, %754, %752, %751, %751, %751), scope: __module.model.8/__module.model.8.m.1/__module.model.8.m.1.1/__module.model.8.m.1.1.attn/__module.model.8.m.1.1.attn.qkv/__module.model.8.m.1.1.attn.qkv.conv # /usr/local/lib/python3.11/dist-packages/torch/nn/modules/conv.py:549:0\n",
            "\t\t    %1050 : Tensor = aten::flatten(%1049, %741, %743), scope: __module.model.8/__module.model.8.m.1/__module.model.8.m.1.1/__module.model.8.m.1.1.attn # /content/yolov12/ultralytics/nn/modules/block.py:1222:0\n",
            "\t\t    %qkv.23 : Tensor = aten::transpose(%1050, %754, %741), scope: __module.model.8/__module.model.8.m.1/__module.model.8.m.1.1/__module.model.8.m.1.1.attn # /content/yolov12/ultralytics/nn/modules/block.py:1222:0\n",
            "\t\t    %1052 : int[] = prim::ListConstruct(%1034, %1041, %744, %745), scope: __module.model.8/__module.model.8.m.1/__module.model.8.m.1.1/__module.model.8.m.1.1.attn\n",
            "\t\t    %1053 : Tensor = aten::view(%qkv.23, %1052), scope: __module.model.8/__module.model.8.m.1/__module.model.8.m.1.1/__module.model.8.m.1.1.attn # /content/yolov12/ultralytics/nn/modules/block.py:1226:0\n",
            "\t\t    %1054 : int[] = prim::ListConstruct(%746, %746, %746), scope: __module.model.8/__module.model.8.m.1/__module.model.8.m.1.1/__module.model.8.m.1.1.attn\n",
            "\t\t    %1055 : Tensor[] = aten::split_with_sizes(%1053, %1054, %742), scope: __module.model.8/__module.model.8.m.1/__module.model.8.m.1.1/__module.model.8.m.1.1.attn # /usr/local/lib/python3.11/dist-packages/torch/_tensor.py:983:0\n",
            "\t\t    %q.29 : Tensor, %k : Tensor, %v : Tensor = prim::ListUnpack(%1055), scope: __module.model.8/__module.model.8.m.1/__module.model.8.m.1.1/__module.model.8.m.1.1.attn\n",
            "\t\t    %1059 : Tensor = aten::contiguous(%q.29, %753), scope: __module.model.8/__module.model.8.m.1/__module.model.8.m.1.1/__module.model.8.m.1.1.attn # /content/yolov12/ultralytics/nn/modules/block.py:1232:0\n",
            "\t\t    %q : Tensor = aten::to(%1059, %747, %752, %752, %748), scope: __module.model.8/__module.model.8.m.1/__module.model.8.m.1.1/__module.model.8.m.1.1.attn # /content/yolov12/ultralytics/nn/modules/block.py:1232:0\n",
            "\t\t    %1061 : Tensor = aten::contiguous(%k, %753), scope: __module.model.8/__module.model.8.m.1/__module.model.8.m.1.1/__module.model.8.m.1.1.attn # /content/yolov12/ultralytics/nn/modules/block.py:1233:0\n",
            "\t\t    %1062 : Tensor = aten::to(%1061, %747, %752, %752, %748), scope: __module.model.8/__module.model.8.m.1/__module.model.8.m.1.1/__module.model.8.m.1.1.attn # /content/yolov12/ultralytics/nn/modules/block.py:1233:0\n",
            "\t\t    %1063 : Tensor = aten::contiguous(%v, %753), scope: __module.model.8/__module.model.8.m.1/__module.model.8.m.1.1/__module.model.8.m.1.1.attn # /content/yolov12/ultralytics/nn/modules/block.py:1234:0\n",
            "\t\t    %1064 : Tensor = aten::to(%1063, %747, %752, %752, %748), scope: __module.model.8/__module.model.8.m.1/__module.model.8.m.1.1/__module.model.8.m.1.1.attn # /content/yolov12/ultralytics/nn/modules/block.py:1234:0\n",
            "\t\t-   %1065 : Tensor = ^FlashAttnFunc[inplace=0, module=\"flash_attn.flash_attn_interface\", Subgraph=<Graph>](0.0, None, False, (-1, -1), 0.0, None, False, False, True)(%q, %1062, %1064), scope: __module.model.8/__module.model.8.m.1/__module.model.8.m.1.1/__module.model.8.m.1.1.attn # /usr/local/lib/python3.11/dist-packages/torch/autograd/function.py:575:0\n",
            "\t\t?                                                                                                                                                               ^^^\n",
            "\t\t+   %1065 : Tensor = ^FlashAttnFunc[inplace=0, module=\"flash_attn.flash_attn_interface\", Subgraph=<Graph>](0.0, None, False, (-1, -1), 0.0, None, False, False, False)(%q, %1062, %1064), scope: __module.model.8/__module.model.8.m.1/__module.model.8.m.1.1/__module.model.8.m.1.1.attn # /usr/local/lib/python3.11/dist-packages/torch/autograd/function.py:575:0\n",
            "\t\t?                                                                                                                                                               ^^^^\n",
            "\t\t    %x.55 : Tensor = aten::to(%1065, %749, %752, %752, %748), scope: __module.model.8/__module.model.8.m.1/__module.model.8.m.1.1/__module.model.8.m.1.1.attn # /content/yolov12/ultralytics/nn/modules/block.py:1235:0\n",
            "\t\t    %1067 : int[] = prim::ListConstruct(%1034, %1036, %1038, %1035), scope: __module.model.8/__module.model.8.m.1/__module.model.8.m.1.1/__module.model.8.m.1.1.attn\n",
            "\t\t    %1068 : Tensor = aten::reshape(%x.55, %1067), scope: __module.model.8/__module.model.8.m.1/__module.model.8.m.1.1/__module.model.8.m.1.1.attn # /content/yolov12/ultralytics/nn/modules/block.py:1256:0\n",
            "\t\t    %1069 : int[] = prim::ListConstruct(%753, %742, %754, %741), scope: __module.model.8/__module.model.8.m.1/__module.model.8.m.1.1/__module.model.8.m.1.1.attn\n",
            "\t\t    %x.57 : Tensor = aten::permute(%1068, %1069), scope: __module.model.8/__module.model.8.m.1/__module.model.8.m.1.1/__module.model.8.m.1.1.attn # /content/yolov12/ultralytics/nn/modules/block.py:1256:0\n",
            "\t\t    %1071 : int[] = prim::ListConstruct(%1034, %1036, %1038, %1035), scope: __module.model.8/__module.model.8.m.1/__module.model.8.m.1.1/__module.model.8.m.1.1.attn\n",
            "\t\t    %1072 : Tensor = aten::reshape(%v, %1071), scope: __module.model.8/__module.model.8.m.1/__module.model.8.m.1.1/__module.model.8.m.1.1.attn # /content/yolov12/ultralytics/nn/modules/block.py:1257:0\n",
            "\t\t    %1073 : int[] = prim::ListConstruct(%753, %742, %754, %741), scope: __module.model.8/__module.model.8.m.1/__module.model.8.m.1.1/__module.model.8.m.1.1.attn\n",
            "\t\t    %input.133 : Tensor = aten::permute(%1072, %1073), scope: __module.model.8/__module.model.8.m.1/__module.model.8.m.1.1/__module.model.8.m.1.1.attn # /content/yolov12/ultralytics/nn/modules/block.py:1257:0\n",
            "\t\t    %conv.105 : __torch__.torch.nn.modules.conv.Conv2d = prim::GetAttr[name=\"conv\"](%pe)\n",
            "\t\t    %bias.343 : Tensor = prim::GetAttr[name=\"bias\"](%conv.105)\n",
            "\t\t    %weight.345 : Tensor = prim::GetAttr[name=\"weight\"](%conv.105)\n",
            "\t\t    %1078 : int[] = prim::ListConstruct(%754, %754), scope: __module.model.8/__module.model.8.m.1/__module.model.8.m.1.1/__module.model.8.m.1.1.attn/__module.model.8.m.1.1.attn.pe/__module.model.8.m.1.1.attn.pe.conv\n",
            "\t\t    %1079 : int[] = prim::ListConstruct(%742, %742), scope: __module.model.8/__module.model.8.m.1/__module.model.8.m.1.1/__module.model.8.m.1.1.attn/__module.model.8.m.1.1.attn.pe/__module.model.8.m.1.1.attn.pe.conv\n",
            "\t\t    %1080 : int[] = prim::ListConstruct(%754, %754), scope: __module.model.8/__module.model.8.m.1/__module.model.8.m.1.1/__module.model.8.m.1.1.attn/__module.model.8.m.1.1.attn.pe/__module.model.8.m.1.1.attn.pe.conv\n",
            "\t\t    %1081 : int[] = prim::ListConstruct(%753, %753), scope: __module.model.8/__module.model.8.m.1/__module.model.8.m.1.1/__module.model.8.m.1.1.attn/__module.model.8.m.1.1.attn.pe/__module.model.8.m.1.1.attn.pe.conv\n",
            "\t\t    %1082 : Tensor = aten::_convolution(%input.133, %weight.345, %bias.343, %1078, %1079, %1080, %752, %1081, %750, %752, %751, %751, %751), scope: __module.model.8/__module.model.8.m.1/__module.model.8.m.1.1/__module.model.8.m.1.1.attn/__module.model.8.m.1.1.attn.pe/__module.model.8.m.1.1.attn.pe.conv # /usr/local/lib/python3.11/dist-packages/torch/nn/modules/conv.py:549:0\n",
            "\t\t    %input.135 : Tensor = aten::add(%x.57, %1082, %754), scope: __module.model.8/__module.model.8.m.1/__module.model.8.m.1.1/__module.model.8.m.1.1.attn # /content/yolov12/ultralytics/nn/modules/block.py:1259:0\n",
            "\t\t    %conv.107 : __torch__.torch.nn.modules.conv.Conv2d = prim::GetAttr[name=\"conv\"](%proj)\n",
            "\t\t    %bias.345 : Tensor = prim::GetAttr[name=\"bias\"](%conv.107)\n",
            "\t\t    %weight.347 : Tensor = prim::GetAttr[name=\"weight\"](%conv.107)\n",
            "\t\t    %1087 : int[] = prim::ListConstruct(%754, %754), scope: __module.model.8/__module.model.8.m.1/__module.model.8.m.1.1/__module.model.8.m.1.1.attn/__module.model.8.m.1.1.attn.proj/__module.model.8.m.1.1.attn.proj.conv\n",
            "\t\t    %1088 : int[] = prim::ListConstruct(%753, %753), scope: __module.model.8/__module.model.8.m.1/__module.model.8.m.1.1/__module.model.8.m.1.1.attn/__module.model.8.m.1.1.attn.proj/__module.model.8.m.1.1.attn.proj.conv\n",
            "\t\t    %1089 : int[] = prim::ListConstruct(%754, %754), scope: __module.model.8/__module.model.8.m.1/__module.model.8.m.1.1/__module.model.8.m.1.1.attn/__module.model.8.m.1.1.attn.proj/__module.model.8.m.1.1.attn.proj.conv\n",
            "\t\t    %1090 : int[] = prim::ListConstruct(%753, %753), scope: __module.model.8/__module.model.8.m.1/__module.model.8.m.1.1/__module.model.8.m.1.1.attn/__module.model.8.m.1.1.attn.proj/__module.model.8.m.1.1.attn.proj.conv\n",
            "\t\t    %1091 : Tensor = aten::_convolution(%input.135, %weight.347, %bias.345, %1087, %1088, %1089, %752, %1090, %754, %752, %751, %751, %751), scope: __module.model.8/__module.model.8.m.1/__module.model.8.m.1.1/__module.model.8.m.1.1.attn/__module.model.8.m.1.1.attn.proj/__module.model.8.m.1.1.attn.proj.conv # /usr/local/lib/python3.11/dist-packages/torch/nn/modules/conv.py:549:0\n",
            "\t\t    %input.137 : Tensor = aten::add(%x.53, %1091, %754), scope: __module.model.8/__module.model.8.m.1/__module.model.8.m.1.1 # /content/yolov12/ultralytics/nn/modules/block.py:1310:0\n",
            "\t\t    %_1.29 : __torch__.ultralytics.nn.modules.conv.Conv = prim::GetAttr[name=\"1\"](%mlp)\n",
            "\t\t    %_0.33 : __torch__.ultralytics.nn.modules.conv.Conv = prim::GetAttr[name=\"0\"](%mlp)\n",
            "\t\t    %conv.109 : __torch__.torch.nn.modules.conv.Conv2d = prim::GetAttr[name=\"conv\"](%_0.33)\n",
            "\t\t    %bias.347 : Tensor = prim::GetAttr[name=\"bias\"](%conv.109)\n",
            "\t\t    %weight.349 : Tensor = prim::GetAttr[name=\"weight\"](%conv.109)\n",
            "\t\t    %1098 : int[] = prim::ListConstruct(%754, %754), scope: __module.model.8/__module.model.8.m.1/__module.model.8.m.1.1/__module.model.8.m.1.1.mlp/__module.model.8.m.1.1.mlp.0/__module.model.8.m.1.1.mlp.0.conv\n",
            "\t\t    %1099 : int[] = prim::ListConstruct(%753, %753), scope: __module.model.8/__module.model.8.m.1/__module.model.8.m.1.1/__module.model.8.m.1.1.mlp/__module.model.8.m.1.1.mlp.0/__module.model.8.m.1.1.mlp.0.conv\n",
            "\t\t    %1100 : int[] = prim::ListConstruct(%754, %754), scope: __module.model.8/__module.model.8.m.1/__module.model.8.m.1.1/__module.model.8.m.1.1.mlp/__module.model.8.m.1.1.mlp.0/__module.model.8.m.1.1.mlp.0.conv\n",
            "\t\t    %1101 : int[] = prim::ListConstruct(%753, %753), scope: __module.model.8/__module.model.8.m.1/__module.model.8.m.1.1/__module.model.8.m.1.1.mlp/__module.model.8.m.1.1.mlp.0/__module.model.8.m.1.1.mlp.0.conv\n",
            "\t\t    %input.139 : Tensor = aten::_convolution(%input.137, %weight.349, %bias.347, %1098, %1099, %1100, %752, %1101, %754, %752, %751, %751, %751), scope: __module.model.8/__module.model.8.m.1/__module.model.8.m.1.1/__module.model.8.m.1.1.mlp/__module.model.8.m.1.1.mlp.0/__module.model.8.m.1.1.mlp.0.conv # /usr/local/lib/python3.11/dist-packages/torch/nn/modules/conv.py:549:0\n",
            "\t\t    %input.141 : Tensor = aten::silu_(%input.139), scope: __module.model.8/__module.model.8.m.1/__module.model.8.m.1.1/__module.model.8.m.1.1.mlp/__module.model.8.m.1.1.mlp.0/__module.model.21.cv3.2.1.1.act # /usr/local/lib/python3.11/dist-packages/torch/nn/functional.py:2379:0\n",
            "\t\t    %act.65 : __torch__.torch.nn.modules.linear.Identity = prim::GetAttr[name=\"act\"](%_1.29)\n",
            "\t\t    %conv.111 : __torch__.torch.nn.modules.conv.Conv2d = prim::GetAttr[name=\"conv\"](%_1.29)\n",
            "\t\t    %bias.349 : Tensor = prim::GetAttr[name=\"bias\"](%conv.111)\n",
            "\t\t    %weight.351 : Tensor = prim::GetAttr[name=\"weight\"](%conv.111)\n",
            "\t\t    %1108 : int[] = prim::ListConstruct(%754, %754), scope: __module.model.8/__module.model.8.m.1/__module.model.8.m.1.1/__module.model.8.m.1.1.mlp/__module.model.8.m.1.1.mlp.1/__module.model.8.m.1.1.mlp.1.conv\n",
            "\t\t    %1109 : int[] = prim::ListConstruct(%753, %753), scope: __module.model.8/__module.model.8.m.1/__module.model.8.m.1.1/__module.model.8.m.1.1.mlp/__module.model.8.m.1.1.mlp.1/__module.model.8.m.1.1.mlp.1.conv\n",
            "\t\t    %1110 : int[] = prim::ListConstruct(%754, %754), scope: __module.model.8/__module.model.8.m.1/__module.model.8.m.1.1/__module.model.8.m.1.1.mlp/__module.model.8.m.1.1.mlp.1/__module.model.8.m.1.1.mlp.1.conv\n",
            "\t\t    %1111 : int[] = prim::ListConstruct(%753, %753), scope: __module.model.8/__module.model.8.m.1/__module.model.8.m.1.1/__module.model.8.m.1.1.mlp/__module.model.8.m.1.1.mlp.1/__module.model.8.m.1.1.mlp.1.conv\n",
            "\t\t    %1112 : Tensor = aten::_convolution(%input.141, %weight.351, %bias.349, %1108, %1109, %1110, %752, %1111, %754, %752, %751, %751, %751), scope: __module.model.8/__module.model.8.m.1/__module.model.8.m.1.1/__module.model.8.m.1.1.mlp/__module.model.8.m.1.1.mlp.1/__module.model.8.m.1.1.mlp.1.conv # /usr/local/lib/python3.11/dist-packages/torch/nn/modules/conv.py:549:0\n",
            "\t\t    %1113 : Tensor = aten::add(%input.137, %1112, %754), scope: __module.model.8/__module.model.8.m.1/__module.model.8.m.1.1 # /content/yolov12/ultralytics/nn/modules/block.py:1311:0\n",
            "\t\t    %1114 : Tensor[] = prim::ListConstruct(%x.35, %x.47, %1113), scope: __module.model.8\n",
            "\t\t    %input.143 : Tensor = aten::cat(%1114, %754), scope: __module.model.8 # /content/yolov12/ultralytics/nn/modules/block.py:1369:0\n",
            "\t\t    %conv.113 : __torch__.torch.nn.modules.conv.Conv2d = prim::GetAttr[name=\"conv\"](%cv2.11)\n",
            "\t\t    %bias.351 : Tensor = prim::GetAttr[name=\"bias\"](%conv.113)\n",
            "\t\t    %weight.353 : Tensor = prim::GetAttr[name=\"weight\"](%conv.113)\n",
            "\t\t    %1119 : int[] = prim::ListConstruct(%754, %754), scope: __module.model.8/__module.model.8.cv2/__module.model.8.cv2.conv\n",
            "\t\t    %1120 : int[] = prim::ListConstruct(%753, %753), scope: __module.model.8/__module.model.8.cv2/__module.model.8.cv2.conv\n",
            "\t\t    %1121 : int[] = prim::ListConstruct(%754, %754), scope: __module.model.8/__module.model.8.cv2/__module.model.8.cv2.conv\n",
            "\t\t    %1122 : int[] = prim::ListConstruct(%753, %753), scope: __module.model.8/__module.model.8.cv2/__module.model.8.cv2.conv\n",
            "\t\t    %input.145 : Tensor = aten::_convolution(%input.143, %weight.353, %bias.351, %1119, %1120, %1121, %752, %1122, %754, %752, %751, %751, %751), scope: __module.model.8/__module.model.8.cv2/__module.model.8.cv2.conv # /usr/local/lib/python3.11/dist-packages/torch/nn/modules/conv.py:549:0\n",
            "\t\t    %input.147 : Tensor = aten::silu_(%input.145), scope: __module.model.8/__module.model.8.cv2/__module.model.21.cv3.2.1.1.act # /usr/local/lib/python3.11/dist-packages/torch/nn/functional.py:2379:0\n",
            "\t\t    %1125 : float = prim::Constant[value=2.](), scope: __module.model.9 # /usr/local/lib/python3.11/dist-packages/torch/nn/functional.py:4536:0\n",
            "\t\t    %1126 : NoneType = prim::Constant(), scope: __module.model.9\n",
            "\t\t    %1127 : float[] = prim::ListConstruct(%1125, %1125), scope: __module.model.9\n",
            "\t\t    %1128 : Tensor = aten::upsample_nearest2d(%input.147, %1126, %1127), scope: __module.model.9 # /usr/local/lib/python3.11/dist-packages/torch/nn/functional.py:4536:0\n",
            "\t\t    %1129 : int = prim::Constant[value=1](), scope: __module.model.10 # /content/yolov12/ultralytics/nn/modules/conv.py:333:0\n",
            "\t\t    %1130 : Tensor[] = prim::ListConstruct(%1128, %input.95), scope: __module.model.10\n",
            "\t\t    %input.149 : Tensor = aten::cat(%1130, %1129), scope: __module.model.10 # /content/yolov12/ultralytics/nn/modules/conv.py:333:0\n",
            "\t\t    %1132 : bool = prim::Constant[value=1](), scope: __module.model.11/__module.model.11.cv1/__module.model.11.cv1.conv # /usr/local/lib/python3.11/dist-packages/torch/nn/modules/conv.py:549:0\n",
            "\t\t    %1133 : bool = prim::Constant[value=0](), scope: __module.model.11/__module.model.11.cv1/__module.model.11.cv1.conv # /usr/local/lib/python3.11/dist-packages/torch/nn/modules/conv.py:549:0\n",
            "\t\t    %1134 : int = prim::Constant[value=0](), scope: __module.model.11/__module.model.11.cv1/__module.model.11.cv1.conv # /usr/local/lib/python3.11/dist-packages/torch/nn/modules/conv.py:549:0\n",
            "\t\t    %1135 : int = prim::Constant[value=1](), scope: __module.model.11/__module.model.11.cv1/__module.model.11.cv1.conv # /usr/local/lib/python3.11/dist-packages/torch/nn/modules/conv.py:549:0\n",
            "\t\t    %cv2.19 : __torch__.ultralytics.nn.modules.conv.Conv = prim::GetAttr[name=\"cv2\"](%_11)\n",
            "\t\t    %m.15 : __torch__.torch.nn.modules.container.ModuleList = prim::GetAttr[name=\"m\"](%_11)\n",
            "\t\t    %_0.37 : __torch__.ultralytics.nn.modules.block.C3k = prim::GetAttr[name=\"0\"](%m.15)\n",
            "\t\t    %cv1.13 : __torch__.ultralytics.nn.modules.conv.Conv = prim::GetAttr[name=\"cv1\"](%_11)\n",
            "\t\t    %conv.115 : __torch__.torch.nn.modules.conv.Conv2d = prim::GetAttr[name=\"conv\"](%cv1.13)\n",
            "\t\t    %bias.353 : Tensor = prim::GetAttr[name=\"bias\"](%conv.115)\n",
            "\t\t    %weight.355 : Tensor = prim::GetAttr[name=\"weight\"](%conv.115)\n",
            "\t\t    %1143 : int[] = prim::ListConstruct(%1135, %1135), scope: __module.model.11/__module.model.11.cv1/__module.model.11.cv1.conv\n",
            "\t\t    %1144 : int[] = prim::ListConstruct(%1134, %1134), scope: __module.model.11/__module.model.11.cv1/__module.model.11.cv1.conv\n",
            "\t\t    %1145 : int[] = prim::ListConstruct(%1135, %1135), scope: __module.model.11/__module.model.11.cv1/__module.model.11.cv1.conv\n",
            "\t\t    %1146 : int[] = prim::ListConstruct(%1134, %1134), scope: __module.model.11/__module.model.11.cv1/__module.model.11.cv1.conv\n",
            "\t\t    %input.151 : Tensor = aten::_convolution(%input.149, %weight.355, %bias.353, %1143, %1144, %1145, %1133, %1146, %1135, %1133, %1132, %1132, %1132), scope: __module.model.11/__module.model.11.cv1/__module.model.11.cv1.conv # /usr/local/lib/python3.11/dist-packages/torch/nn/modules/conv.py:549:0\n",
            "\t\t    %input.153 : Tensor = aten::silu_(%input.151), scope: __module.model.11/__module.model.11.cv1/__module.model.21.cv3.2.1.1.act # /usr/local/lib/python3.11/dist-packages/torch/nn/functional.py:2379:0\n",
            "\t\t    %cv3.3 : __torch__.ultralytics.nn.modules.conv.Conv = prim::GetAttr[name=\"cv3\"](%_0.37)\n",
            "\t\t    %cv2.17 : __torch__.ultralytics.nn.modules.conv.Conv = prim::GetAttr[name=\"cv2\"](%_0.37)\n",
            "\t\t    %m.13 : __torch__.torch.nn.modules.container.Sequential = prim::GetAttr[name=\"m\"](%_0.37)\n",
            "\t\t    %cv1.15 : __torch__.ultralytics.nn.modules.conv.Conv = prim::GetAttr[name=\"cv1\"](%_0.37)\n",
            "\t\t    %conv.117 : __torch__.torch.nn.modules.conv.Conv2d = prim::GetAttr[name=\"conv\"](%cv1.15)\n",
            "\t\t    %bias.355 : Tensor = prim::GetAttr[name=\"bias\"](%conv.117)\n",
            "\t\t    %weight.357 : Tensor = prim::GetAttr[name=\"weight\"](%conv.117)\n",
            "\t\t    %1156 : int[] = prim::ListConstruct(%1135, %1135), scope: __module.model.11/__module.model.11.m.0/__module.model.11.m.0.cv1/__module.model.11.m.0.cv1.conv\n",
            "\t\t    %1157 : int[] = prim::ListConstruct(%1134, %1134), scope: __module.model.11/__module.model.11.m.0/__module.model.11.m.0.cv1/__module.model.11.m.0.cv1.conv\n",
            "\t\t    %1158 : int[] = prim::ListConstruct(%1135, %1135), scope: __module.model.11/__module.model.11.m.0/__module.model.11.m.0.cv1/__module.model.11.m.0.cv1.conv\n",
            "\t\t    %1159 : int[] = prim::ListConstruct(%1134, %1134), scope: __module.model.11/__module.model.11.m.0/__module.model.11.m.0.cv1/__module.model.11.m.0.cv1.conv\n",
            "\t\t    %input.155 : Tensor = aten::_convolution(%input.153, %weight.357, %bias.355, %1156, %1157, %1158, %1133, %1159, %1135, %1133, %1132, %1132, %1132), scope: __module.model.11/__module.model.11.m.0/__module.model.11.m.0.cv1/__module.model.11.m.0.cv1.conv # /usr/local/lib/python3.11/dist-packages/torch/nn/modules/conv.py:549:0\n",
            "\t\t    %input.157 : Tensor = aten::silu_(%input.155), scope: __module.model.11/__module.model.11.m.0/__module.model.11.m.0.cv1/__module.model.21.cv3.2.1.1.act # /usr/local/lib/python3.11/dist-packages/torch/nn/functional.py:2379:0\n",
            "\t\t    %_1.35 : __torch__.ultralytics.nn.modules.block.Bottleneck = prim::GetAttr[name=\"1\"](%m.13)\n",
            "\t\t    %_0.35 : __torch__.ultralytics.nn.modules.block.Bottleneck = prim::GetAttr[name=\"0\"](%m.13)\n",
            "\t\t    %cv2.13 : __torch__.ultralytics.nn.modules.conv.Conv = prim::GetAttr[name=\"cv2\"](%_0.35)\n",
            "\t\t    %cv1.17 : __torch__.ultralytics.nn.modules.conv.Conv = prim::GetAttr[name=\"cv1\"](%_0.35)\n",
            "\t\t    %conv.119 : __torch__.torch.nn.modules.conv.Conv2d = prim::GetAttr[name=\"conv\"](%cv1.17)\n",
            "\t\t    %bias.357 : Tensor = prim::GetAttr[name=\"bias\"](%conv.119)\n",
            "\t\t    %weight.359 : Tensor = prim::GetAttr[name=\"weight\"](%conv.119)\n",
            "\t\t    %1169 : int[] = prim::ListConstruct(%1135, %1135), scope: __module.model.11/__module.model.11.m.0/__module.model.11.m.0.m/__module.model.11.m.0.m.0/__module.model.11.m.0.m.0.cv1/__module.model.11.m.0.m.0.cv1.conv\n",
            "\t\t    %1170 : int[] = prim::ListConstruct(%1135, %1135), scope: __module.model.11/__module.model.11.m.0/__module.model.11.m.0.m/__module.model.11.m.0.m.0/__module.model.11.m.0.m.0.cv1/__module.model.11.m.0.m.0.cv1.conv\n",
            "\t\t    %1171 : int[] = prim::ListConstruct(%1135, %1135), scope: __module.model.11/__module.model.11.m.0/__module.model.11.m.0.m/__module.model.11.m.0.m.0/__module.model.11.m.0.m.0.cv1/__module.model.11.m.0.m.0.cv1.conv\n",
            "\t\t    %1172 : int[] = prim::ListConstruct(%1134, %1134), scope: __module.model.11/__module.model.11.m.0/__module.model.11.m.0.m/__module.model.11.m.0.m.0/__module.model.11.m.0.m.0.cv1/__module.model.11.m.0.m.0.cv1.conv\n",
            "\t\t    %input.159 : Tensor = aten::_convolution(%input.157, %weight.359, %bias.357, %1169, %1170, %1171, %1133, %1172, %1135, %1133, %1132, %1132, %1132), scope: __module.model.11/__module.model.11.m.0/__module.model.11.m.0.m/__module.model.11.m.0.m.0/__module.model.11.m.0.m.0.cv1/__module.model.11.m.0.m.0.cv1.conv # /usr/local/lib/python3.11/dist-packages/torch/nn/modules/conv.py:549:0\n",
            "\t\t    %input.161 : Tensor = aten::silu_(%input.159), scope: __module.model.11/__module.model.11.m.0/__module.model.11.m.0.m/__module.model.11.m.0.m.0/__module.model.11.m.0.m.0.cv1/__module.model.21.cv3.2.1.1.act # /usr/local/lib/python3.11/dist-packages/torch/nn/functional.py:2379:0\n",
            "\t\t    %conv.121 : __torch__.torch.nn.modules.conv.Conv2d = prim::GetAttr[name=\"conv\"](%cv2.13)\n",
            "\t\t    %bias.359 : Tensor = prim::GetAttr[name=\"bias\"](%conv.121)\n",
            "\t\t    %weight.361 : Tensor = prim::GetAttr[name=\"weight\"](%conv.121)\n",
            "\t\t    %1178 : int[] = prim::ListConstruct(%1135, %1135), scope: __module.model.11/__module.model.11.m.0/__module.model.11.m.0.m/__module.model.11.m.0.m.0/__module.model.11.m.0.m.0.cv2/__module.model.11.m.0.m.0.cv2.conv\n",
            "\t\t    %1179 : int[] = prim::ListConstruct(%1135, %1135), scope: __module.model.11/__module.model.11.m.0/__module.model.11.m.0.m/__module.model.11.m.0.m.0/__module.model.11.m.0.m.0.cv2/__module.model.11.m.0.m.0.cv2.conv\n",
            "\t\t    %1180 : int[] = prim::ListConstruct(%1135, %1135), scope: __module.model.11/__module.model.11.m.0/__module.model.11.m.0.m/__module.model.11.m.0.m.0/__module.model.11.m.0.m.0.cv2/__module.model.11.m.0.m.0.cv2.conv\n",
            "\t\t    %1181 : int[] = prim::ListConstruct(%1134, %1134), scope: __module.model.11/__module.model.11.m.0/__module.model.11.m.0.m/__module.model.11.m.0.m.0/__module.model.11.m.0.m.0.cv2/__module.model.11.m.0.m.0.cv2.conv\n",
            "\t\t    %input.163 : Tensor = aten::_convolution(%input.161, %weight.361, %bias.359, %1178, %1179, %1180, %1133, %1181, %1135, %1133, %1132, %1132, %1132), scope: __module.model.11/__module.model.11.m.0/__module.model.11.m.0.m/__module.model.11.m.0.m.0/__module.model.11.m.0.m.0.cv2/__module.model.11.m.0.m.0.cv2.conv # /usr/local/lib/python3.11/dist-packages/torch/nn/modules/conv.py:549:0\n",
            "\t\t    %1183 : Tensor = aten::silu_(%input.163), scope: __module.model.11/__module.model.11.m.0/__module.model.11.m.0.m/__module.model.11.m.0.m.0/__module.model.11.m.0.m.0.cv2/__module.model.21.cv3.2.1.1.act # /usr/local/lib/python3.11/dist-packages/torch/nn/functional.py:2379:0\n",
            "\t\t    %input.165 : Tensor = aten::add(%input.157, %1183, %1135), scope: __module.model.11/__module.model.11.m.0/__module.model.11.m.0.m/__module.model.11.m.0.m.0 # /content/yolov12/ultralytics/nn/modules/block.py:348:0\n",
            "\t\t    %cv2.15 : __torch__.ultralytics.nn.modules.conv.Conv = prim::GetAttr[name=\"cv2\"](%_1.35)\n",
            "\t\t    %cv1.19 : __torch__.ultralytics.nn.modules.conv.Conv = prim::GetAttr[name=\"cv1\"](%_1.35)\n",
            "\t\t    %conv.123 : __torch__.torch.nn.modules.conv.Conv2d = prim::GetAttr[name=\"conv\"](%cv1.19)\n",
            "\t\t    %bias.361 : Tensor = prim::GetAttr[name=\"bias\"](%conv.123)\n",
            "\t\t    %weight.363 : Tensor = prim::GetAttr[name=\"weight\"](%conv.123)\n",
            "\t\t    %1190 : int[] = prim::ListConstruct(%1135, %1135), scope: __module.model.11/__module.model.11.m.0/__module.model.11.m.0.m/__module.model.11.m.0.m.1/__module.model.11.m.0.m.1.cv1/__module.model.11.m.0.m.1.cv1.conv\n",
            "\t\t    %1191 : int[] = prim::ListConstruct(%1135, %1135), scope: __module.model.11/__module.model.11.m.0/__module.model.11.m.0.m/__module.model.11.m.0.m.1/__module.model.11.m.0.m.1.cv1/__module.model.11.m.0.m.1.cv1.conv\n",
            "\t\t    %1192 : int[] = prim::ListConstruct(%1135, %1135), scope: __module.model.11/__module.model.11.m.0/__module.model.11.m.0.m/__module.model.11.m.0.m.1/__module.model.11.m.0.m.1.cv1/__module.model.11.m.0.m.1.cv1.conv\n",
            "\t\t    %1193 : int[] = prim::ListConstruct(%1134, %1134), scope: __module.model.11/__module.model.11.m.0/__module.model.11.m.0.m/__module.model.11.m.0.m.1/__module.model.11.m.0.m.1.cv1/__module.model.11.m.0.m.1.cv1.conv\n",
            "\t\t    %input.167 : Tensor = aten::_convolution(%input.165, %weight.363, %bias.361, %1190, %1191, %1192, %1133, %1193, %1135, %1133, %1132, %1132, %1132), scope: __module.model.11/__module.model.11.m.0/__module.model.11.m.0.m/__module.model.11.m.0.m.1/__module.model.11.m.0.m.1.cv1/__module.model.11.m.0.m.1.cv1.conv # /usr/local/lib/python3.11/dist-packages/torch/nn/modules/conv.py:549:0\n",
            "\t\t    %input.169 : Tensor = aten::silu_(%input.167), scope: __module.model.11/__module.model.11.m.0/__module.model.11.m.0.m/__module.model.11.m.0.m.1/__module.model.11.m.0.m.1.cv1/__module.model.21.cv3.2.1.1.act # /usr/local/lib/python3.11/dist-packages/torch/nn/functional.py:2379:0\n",
            "\t\t    %conv.125 : __torch__.torch.nn.modules.conv.Conv2d = prim::GetAttr[name=\"conv\"](%cv2.15)\n",
            "\t\t    %bias.363 : Tensor = prim::GetAttr[name=\"bias\"](%conv.125)\n",
            "\t\t    %weight.365 : Tensor = prim::GetAttr[name=\"weight\"](%conv.125)\n",
            "\t\t    %1199 : int[] = prim::ListConstruct(%1135, %1135), scope: __module.model.11/__module.model.11.m.0/__module.model.11.m.0.m/__module.model.11.m.0.m.1/__module.model.11.m.0.m.1.cv2/__module.model.11.m.0.m.1.cv2.conv\n",
            "\t\t    %1200 : int[] = prim::ListConstruct(%1135, %1135), scope: __module.model.11/__module.model.11.m.0/__module.model.11.m.0.m/__module.model.11.m.0.m.1/__module.model.11.m.0.m.1.cv2/__module.model.11.m.0.m.1.cv2.conv\n",
            "\t\t    %1201 : int[] = prim::ListConstruct(%1135, %1135), scope: __module.model.11/__module.model.11.m.0/__module.model.11.m.0.m/__module.model.11.m.0.m.1/__module.model.11.m.0.m.1.cv2/__module.model.11.m.0.m.1.cv2.conv\n",
            "\t\t    %1202 : int[] = prim::ListConstruct(%1134, %1134), scope: __module.model.11/__module.model.11.m.0/__module.model.11.m.0.m/__module.model.11.m.0.m.1/__module.model.11.m.0.m.1.cv2/__module.model.11.m.0.m.1.cv2.conv\n",
            "\t\t    %input.171 : Tensor = aten::_convolution(%input.169, %weight.365, %bias.363, %1199, %1200, %1201, %1133, %1202, %1135, %1133, %1132, %1132, %1132), scope: __module.model.11/__module.model.11.m.0/__module.model.11.m.0.m/__module.model.11.m.0.m.1/__module.model.11.m.0.m.1.cv2/__module.model.11.m.0.m.1.cv2.conv # /usr/local/lib/python3.11/dist-packages/torch/nn/modules/conv.py:549:0\n",
            "\t\t    %1204 : Tensor = aten::silu_(%input.171), scope: __module.model.11/__module.model.11.m.0/__module.model.11.m.0.m/__module.model.11.m.0.m.1/__module.model.11.m.0.m.1.cv2/__module.model.21.cv3.2.1.1.act # /usr/local/lib/python3.11/dist-packages/torch/nn/functional.py:2379:0\n",
            "\t\t    %1205 : Tensor = aten::add(%input.165, %1204, %1135), scope: __module.model.11/__module.model.11.m.0/__module.model.11.m.0.m/__module.model.11.m.0.m.1 # /content/yolov12/ultralytics/nn/modules/block.py:348:0\n",
            "\t\t    %conv.127 : __torch__.torch.nn.modules.conv.Conv2d = prim::GetAttr[name=\"conv\"](%cv2.17)\n",
            "\t\t    %bias.365 : Tensor = prim::GetAttr[name=\"bias\"](%conv.127)\n",
            "\t\t    %weight.367 : Tensor = prim::GetAttr[name=\"weight\"](%conv.127)\n",
            "\t\t    %1209 : int[] = prim::ListConstruct(%1135, %1135), scope: __module.model.11/__module.model.11.m.0/__module.model.11.m.0.cv2/__module.model.11.m.0.cv2.conv\n",
            "\t\t    %1210 : int[] = prim::ListConstruct(%1134, %1134), scope: __module.model.11/__module.model.11.m.0/__module.model.11.m.0.cv2/__module.model.11.m.0.cv2.conv\n",
            "\t\t    %1211 : int[] = prim::ListConstruct(%1135, %1135), scope: __module.model.11/__module.model.11.m.0/__module.model.11.m.0.cv2/__module.model.11.m.0.cv2.conv\n",
            "\t\t    %1212 : int[] = prim::ListConstruct(%1134, %1134), scope: __module.model.11/__module.model.11.m.0/__module.model.11.m.0.cv2/__module.model.11.m.0.cv2.conv\n",
            "\t\t    %input.173 : Tensor = aten::_convolution(%input.153, %weight.367, %bias.365, %1209, %1210, %1211, %1133, %1212, %1135, %1133, %1132, %1132, %1132), scope: __module.model.11/__module.model.11.m.0/__module.model.11.m.0.cv2/__module.model.11.m.0.cv2.conv # /usr/local/lib/python3.11/dist-packages/torch/nn/modules/conv.py:549:0\n",
            "\t\t    %1214 : Tensor = aten::silu_(%input.173), scope: __module.model.11/__module.model.11.m.0/__module.model.11.m.0.cv2/__module.model.21.cv3.2.1.1.act # /usr/local/lib/python3.11/dist-packages/torch/nn/functional.py:2379:0\n",
            "\t\t    %1215 : Tensor[] = prim::ListConstruct(%1205, %1214), scope: __module.model.11/__module.model.11.m.0\n",
            "\t\t    %input.175 : Tensor = aten::cat(%1215, %1135), scope: __module.model.11/__module.model.11.m.0 # /content/yolov12/ultralytics/nn/modules/block.py:264:0\n",
            "\t\t    %conv.129 : __torch__.torch.nn.modules.conv.Conv2d = prim::GetAttr[name=\"conv\"](%cv3.3)\n",
            "\t\t    %bias.367 : Tensor = prim::GetAttr[name=\"bias\"](%conv.129)\n",
            "\t\t    %weight.369 : Tensor = prim::GetAttr[name=\"weight\"](%conv.129)\n",
            "\t\t    %1220 : int[] = prim::ListConstruct(%1135, %1135), scope: __module.model.11/__module.model.11.m.0/__module.model.11.m.0.cv3/__module.model.11.m.0.cv3.conv\n",
            "\t\t    %1221 : int[] = prim::ListConstruct(%1134, %1134), scope: __module.model.11/__module.model.11.m.0/__module.model.11.m.0.cv3/__module.model.11.m.0.cv3.conv\n",
            "\t\t    %1222 : int[] = prim::ListConstruct(%1135, %1135), scope: __module.model.11/__module.model.11.m.0/__module.model.11.m.0.cv3/__module.model.11.m.0.cv3.conv\n",
            "\t\t    %1223 : int[] = prim::ListConstruct(%1134, %1134), scope: __module.model.11/__module.model.11.m.0/__module.model.11.m.0.cv3/__module.model.11.m.0.cv3.conv\n",
            "\t\t    %input.177 : Tensor = aten::_convolution(%input.175, %weight.369, %bias.367, %1220, %1221, %1222, %1133, %1223, %1135, %1133, %1132, %1132, %1132), scope: __module.model.11/__module.model.11.m.0/__module.model.11.m.0.cv3/__module.model.11.m.0.cv3.conv # /usr/local/lib/python3.11/dist-packages/torch/nn/modules/conv.py:549:0\n",
            "\t\t    %1225 : Tensor = aten::silu_(%input.177), scope: __module.model.11/__module.model.11.m.0/__module.model.11.m.0.cv3/__module.model.21.cv3.2.1.1.act # /usr/local/lib/python3.11/dist-packages/torch/nn/functional.py:2379:0\n",
            "\t\t    %1226 : Tensor[] = prim::ListConstruct(%input.153, %1225), scope: __module.model.11\n",
            "\t\t    %input.179 : Tensor = aten::cat(%1226, %1135), scope: __module.model.11 # /content/yolov12/ultralytics/nn/modules/block.py:1369:0\n",
            "\t\t    %conv.131 : __torch__.torch.nn.modules.conv.Conv2d = prim::GetAttr[name=\"conv\"](%cv2.19)\n",
            "\t\t    %bias.369 : Tensor = prim::GetAttr[name=\"bias\"](%conv.131)\n",
            "\t\t    %weight.371 : Tensor = prim::GetAttr[name=\"weight\"](%conv.131)\n",
            "\t\t    %1231 : int[] = prim::ListConstruct(%1135, %1135), scope: __module.model.11/__module.model.11.cv2/__module.model.11.cv2.conv\n",
            "\t\t    %1232 : int[] = prim::ListConstruct(%1134, %1134), scope: __module.model.11/__module.model.11.cv2/__module.model.11.cv2.conv\n",
            "\t\t    %1233 : int[] = prim::ListConstruct(%1135, %1135), scope: __module.model.11/__module.model.11.cv2/__module.model.11.cv2.conv\n",
            "\t\t    %1234 : int[] = prim::ListConstruct(%1134, %1134), scope: __module.model.11/__module.model.11.cv2/__module.model.11.cv2.conv\n",
            "\t\t    %input.181 : Tensor = aten::_convolution(%input.179, %weight.371, %bias.369, %1231, %1232, %1233, %1133, %1234, %1135, %1133, %1132, %1132, %1132), scope: __module.model.11/__module.model.11.cv2/__module.model.11.cv2.conv # /usr/local/lib/python3.11/dist-packages/torch/nn/modules/conv.py:549:0\n",
            "\t\t    %input.183 : Tensor = aten::silu_(%input.181), scope: __module.model.11/__module.model.11.cv2/__module.model.21.cv3.2.1.1.act # /usr/local/lib/python3.11/dist-packages/torch/nn/functional.py:2379:0\n",
            "\t\t    %1237 : float = prim::Constant[value=2.](), scope: __module.model.12 # /usr/local/lib/python3.11/dist-packages/torch/nn/functional.py:4536:0\n",
            "\t\t    %1238 : NoneType = prim::Constant(), scope: __module.model.12\n",
            "\t\t    %1239 : float[] = prim::ListConstruct(%1237, %1237), scope: __module.model.12\n",
            "\t\t    %1240 : Tensor = aten::upsample_nearest2d(%input.183, %1238, %1239), scope: __module.model.12 # /usr/local/lib/python3.11/dist-packages/torch/nn/functional.py:4536:0\n",
            "\t\t    %1241 : int = prim::Constant[value=1](), scope: __module.model.13 # /content/yolov12/ultralytics/nn/modules/conv.py:333:0\n",
            "\t\t    %1242 : Tensor[] = prim::ListConstruct(%1240, %input.43), scope: __module.model.13\n",
            "\t\t    %input.185 : Tensor = aten::cat(%1242, %1241), scope: __module.model.13 # /content/yolov12/ultralytics/nn/modules/conv.py:333:0\n",
            "\t\t    %1244 : bool = prim::Constant[value=1](), scope: __module.model.14/__module.model.14.cv1/__module.model.14.cv1.conv # /usr/local/lib/python3.11/dist-packages/torch/nn/modules/conv.py:549:0\n",
            "\t\t    %1245 : bool = prim::Constant[value=0](), scope: __module.model.14/__module.model.14.cv1/__module.model.14.cv1.conv # /usr/local/lib/python3.11/dist-packages/torch/nn/modules/conv.py:549:0\n",
            "\t\t    %1246 : int = prim::Constant[value=0](), scope: __module.model.14/__module.model.14.cv1/__module.model.14.cv1.conv # /usr/local/lib/python3.11/dist-packages/torch/nn/modules/conv.py:549:0\n",
            "\t\t    %1247 : int = prim::Constant[value=1](), scope: __module.model.14/__module.model.14.cv1/__module.model.14.cv1.conv # /usr/local/lib/python3.11/dist-packages/torch/nn/modules/conv.py:549:0\n",
            "\t\t    %cv2.27 : __torch__.ultralytics.nn.modules.conv.Conv = prim::GetAttr[name=\"cv2\"](%_14)\n",
            "\t\t    %m.19 : __torch__.torch.nn.modules.container.ModuleList = prim::GetAttr[name=\"m\"](%_14)\n",
            "\t\t    %_0.41 : __torch__.ultralytics.nn.modules.block.C3k = prim::GetAttr[name=\"0\"](%m.19)\n",
            "\t\t    %cv1.21 : __torch__.ultralytics.nn.modules.conv.Conv = prim::GetAttr[name=\"cv1\"](%_14)\n",
            "\t\t    %conv.133 : __torch__.torch.nn.modules.conv.Conv2d = prim::GetAttr[name=\"conv\"](%cv1.21)\n",
            "\t\t    %bias.371 : Tensor = prim::GetAttr[name=\"bias\"](%conv.133)\n",
            "\t\t    %weight.373 : Tensor = prim::GetAttr[name=\"weight\"](%conv.133)\n",
            "\t\t    %1255 : int[] = prim::ListConstruct(%1247, %1247), scope: __module.model.14/__module.model.14.cv1/__module.model.14.cv1.conv\n",
            "\t\t    %1256 : int[] = prim::ListConstruct(%1246, %1246), scope: __module.model.14/__module.model.14.cv1/__module.model.14.cv1.conv\n",
            "\t\t    %1257 : int[] = prim::ListConstruct(%1247, %1247), scope: __module.model.14/__module.model.14.cv1/__module.model.14.cv1.conv\n",
            "\t\t    %1258 : int[] = prim::ListConstruct(%1246, %1246), scope: __module.model.14/__module.model.14.cv1/__module.model.14.cv1.conv\n",
            "\t\t    %input.187 : Tensor = aten::_convolution(%input.185, %weight.373, %bias.371, %1255, %1256, %1257, %1245, %1258, %1247, %1245, %1244, %1244, %1244), scope: __module.model.14/__module.model.14.cv1/__module.model.14.cv1.conv # /usr/local/lib/python3.11/dist-packages/torch/nn/modules/conv.py:549:0\n",
            "\t\t    %input.189 : Tensor = aten::silu_(%input.187), scope: __module.model.14/__module.model.14.cv1/__module.model.21.cv3.2.1.1.act # /usr/local/lib/python3.11/dist-packages/torch/nn/functional.py:2379:0\n",
            "\t\t    %cv3.5 : __torch__.ultralytics.nn.modules.conv.Conv = prim::GetAttr[name=\"cv3\"](%_0.41)\n",
            "\t\t    %cv2.25 : __torch__.ultralytics.nn.modules.conv.Conv = prim::GetAttr[name=\"cv2\"](%_0.41)\n",
            "\t\t    %m.17 : __torch__.torch.nn.modules.container.Sequential = prim::GetAttr[name=\"m\"](%_0.41)\n",
            "\t\t    %cv1.23 : __torch__.ultralytics.nn.modules.conv.Conv = prim::GetAttr[name=\"cv1\"](%_0.41)\n",
            "\t\t    %conv.135 : __torch__.torch.nn.modules.conv.Conv2d = prim::GetAttr[name=\"conv\"](%cv1.23)\n",
            "\t\t    %bias.373 : Tensor = prim::GetAttr[name=\"bias\"](%conv.135)\n",
            "\t\t    %weight.375 : Tensor = prim::GetAttr[name=\"weight\"](%conv.135)\n",
            "\t\t    %1268 : int[] = prim::ListConstruct(%1247, %1247), scope: __module.model.14/__module.model.14.m.0/__module.model.14.m.0.cv1/__module.model.14.m.0.cv1.conv\n",
            "\t\t    %1269 : int[] = prim::ListConstruct(%1246, %1246), scope: __module.model.14/__module.model.14.m.0/__module.model.14.m.0.cv1/__module.model.14.m.0.cv1.conv\n",
            "\t\t    %1270 : int[] = prim::ListConstruct(%1247, %1247), scope: __module.model.14/__module.model.14.m.0/__module.model.14.m.0.cv1/__module.model.14.m.0.cv1.conv\n",
            "\t\t    %1271 : int[] = prim::ListConstruct(%1246, %1246), scope: __module.model.14/__module.model.14.m.0/__module.model.14.m.0.cv1/__module.model.14.m.0.cv1.conv\n",
            "\t\t    %input.191 : Tensor = aten::_convolution(%input.189, %weight.375, %bias.373, %1268, %1269, %1270, %1245, %1271, %1247, %1245, %1244, %1244, %1244), scope: __module.model.14/__module.model.14.m.0/__module.model.14.m.0.cv1/__module.model.14.m.0.cv1.conv # /usr/local/lib/python3.11/dist-packages/torch/nn/modules/conv.py:549:0\n",
            "\t\t    %input.193 : Tensor = aten::silu_(%input.191), scope: __module.model.14/__module.model.14.m.0/__module.model.14.m.0.cv1/__module.model.21.cv3.2.1.1.act # /usr/local/lib/python3.11/dist-packages/torch/nn/functional.py:2379:0\n",
            "\t\t    %_1.37 : __torch__.ultralytics.nn.modules.block.Bottleneck = prim::GetAttr[name=\"1\"](%m.17)\n",
            "\t\t    %_0.39 : __torch__.ultralytics.nn.modules.block.Bottleneck = prim::GetAttr[name=\"0\"](%m.17)\n",
            "\t\t    %cv2.21 : __torch__.ultralytics.nn.modules.conv.Conv = prim::GetAttr[name=\"cv2\"](%_0.39)\n",
            "\t\t    %cv1.25 : __torch__.ultralytics.nn.modules.conv.Conv = prim::GetAttr[name=\"cv1\"](%_0.39)\n",
            "\t\t    %conv.137 : __torch__.torch.nn.modules.conv.Conv2d = prim::GetAttr[name=\"conv\"](%cv1.25)\n",
            "\t\t    %bias.375 : Tensor = prim::GetAttr[name=\"bias\"](%conv.137)\n",
            "\t\t    %weight.377 : Tensor = prim::GetAttr[name=\"weight\"](%conv.137)\n",
            "\t\t    %1281 : int[] = prim::ListConstruct(%1247, %1247), scope: __module.model.14/__module.model.14.m.0/__module.model.14.m.0.m/__module.model.14.m.0.m.0/__module.model.14.m.0.m.0.cv1/__module.model.14.m.0.m.0.cv1.conv\n",
            "\t\t    %1282 : int[] = prim::ListConstruct(%1247, %1247), scope: __module.model.14/__module.model.14.m.0/__module.model.14.m.0.m/__module.model.14.m.0.m.0/__module.model.14.m.0.m.0.cv1/__module.model.14.m.0.m.0.cv1.conv\n",
            "\t\t    %1283 : int[] = prim::ListConstruct(%1247, %1247), scope: __module.model.14/__module.model.14.m.0/__module.model.14.m.0.m/__module.model.14.m.0.m.0/__module.model.14.m.0.m.0.cv1/__module.model.14.m.0.m.0.cv1.conv\n",
            "\t\t    %1284 : int[] = prim::ListConstruct(%1246, %1246), scope: __module.model.14/__module.model.14.m.0/__module.model.14.m.0.m/__module.model.14.m.0.m.0/__module.model.14.m.0.m.0.cv1/__module.model.14.m.0.m.0.cv1.conv\n",
            "\t\t    %input.195 : Tensor = aten::_convolution(%input.193, %weight.377, %bias.375, %1281, %1282, %1283, %1245, %1284, %1247, %1245, %1244, %1244, %1244), scope: __module.model.14/__module.model.14.m.0/__module.model.14.m.0.m/__module.model.14.m.0.m.0/__module.model.14.m.0.m.0.cv1/__module.model.14.m.0.m.0.cv1.conv # /usr/local/lib/python3.11/dist-packages/torch/nn/modules/conv.py:549:0\n",
            "\t\t    %input.197 : Tensor = aten::silu_(%input.195), scope: __module.model.14/__module.model.14.m.0/__module.model.14.m.0.m/__module.model.14.m.0.m.0/__module.model.14.m.0.m.0.cv1/__module.model.21.cv3.2.1.1.act # /usr/local/lib/python3.11/dist-packages/torch/nn/functional.py:2379:0\n",
            "\t\t    %conv.139 : __torch__.torch.nn.modules.conv.Conv2d = prim::GetAttr[name=\"conv\"](%cv2.21)\n",
            "\t\t    %bias.377 : Tensor = prim::GetAttr[name=\"bias\"](%conv.139)\n",
            "\t\t    %weight.379 : Tensor = prim::GetAttr[name=\"weight\"](%conv.139)\n",
            "\t\t    %1290 : int[] = prim::ListConstruct(%1247, %1247), scope: __module.model.14/__module.model.14.m.0/__module.model.14.m.0.m/__module.model.14.m.0.m.0/__module.model.14.m.0.m.0.cv2/__module.model.14.m.0.m.0.cv2.conv\n",
            "\t\t    %1291 : int[] = prim::ListConstruct(%1247, %1247), scope: __module.model.14/__module.model.14.m.0/__module.model.14.m.0.m/__module.model.14.m.0.m.0/__module.model.14.m.0.m.0.cv2/__module.model.14.m.0.m.0.cv2.conv\n",
            "\t\t    %1292 : int[] = prim::ListConstruct(%1247, %1247), scope: __module.model.14/__module.model.14.m.0/__module.model.14.m.0.m/__module.model.14.m.0.m.0/__module.model.14.m.0.m.0.cv2/__module.model.14.m.0.m.0.cv2.conv\n",
            "\t\t    %1293 : int[] = prim::ListConstruct(%1246, %1246), scope: __module.model.14/__module.model.14.m.0/__module.model.14.m.0.m/__module.model.14.m.0.m.0/__module.model.14.m.0.m.0.cv2/__module.model.14.m.0.m.0.cv2.conv\n",
            "\t\t    %input.199 : Tensor = aten::_convolution(%input.197, %weight.379, %bias.377, %1290, %1291, %1292, %1245, %1293, %1247, %1245, %1244, %1244, %1244), scope: __module.model.14/__module.model.14.m.0/__module.model.14.m.0.m/__module.model.14.m.0.m.0/__module.model.14.m.0.m.0.cv2/__module.model.14.m.0.m.0.cv2.conv # /usr/local/lib/python3.11/dist-packages/torch/nn/modules/conv.py:549:0\n",
            "\t\t    %1295 : Tensor = aten::silu_(%input.199), scope: __module.model.14/__module.model.14.m.0/__module.model.14.m.0.m/__module.model.14.m.0.m.0/__module.model.14.m.0.m.0.cv2/__module.model.21.cv3.2.1.1.act # /usr/local/lib/python3.11/dist-packages/torch/nn/functional.py:2379:0\n",
            "\t\t    %input.201 : Tensor = aten::add(%input.193, %1295, %1247), scope: __module.model.14/__module.model.14.m.0/__module.model.14.m.0.m/__module.model.14.m.0.m.0 # /content/yolov12/ultralytics/nn/modules/block.py:348:0\n",
            "\t\t    %cv2.23 : __torch__.ultralytics.nn.modules.conv.Conv = prim::GetAttr[name=\"cv2\"](%_1.37)\n",
            "\t\t    %cv1.27 : __torch__.ultralytics.nn.modules.conv.Conv = prim::GetAttr[name=\"cv1\"](%_1.37)\n",
            "\t\t    %conv.141 : __torch__.torch.nn.modules.conv.Conv2d = prim::GetAttr[name=\"conv\"](%cv1.27)\n",
            "\t\t    %bias.379 : Tensor = prim::GetAttr[name=\"bias\"](%conv.141)\n",
            "\t\t    %weight.381 : Tensor = prim::GetAttr[name=\"weight\"](%conv.141)\n",
            "\t\t    %1302 : int[] = prim::ListConstruct(%1247, %1247), scope: __module.model.14/__module.model.14.m.0/__module.model.14.m.0.m/__module.model.14.m.0.m.1/__module.model.14.m.0.m.1.cv1/__module.model.14.m.0.m.1.cv1.conv\n",
            "\t\t    %1303 : int[] = prim::ListConstruct(%1247, %1247), scope: __module.model.14/__module.model.14.m.0/__module.model.14.m.0.m/__module.model.14.m.0.m.1/__module.model.14.m.0.m.1.cv1/__module.model.14.m.0.m.1.cv1.conv\n",
            "\t\t    %1304 : int[] = prim::ListConstruct(%1247, %1247), scope: __module.model.14/__module.model.14.m.0/__module.model.14.m.0.m/__module.model.14.m.0.m.1/__module.model.14.m.0.m.1.cv1/__module.model.14.m.0.m.1.cv1.conv\n",
            "\t\t    %1305 : int[] = prim::ListConstruct(%1246, %1246), scope: __module.model.14/__module.model.14.m.0/__module.model.14.m.0.m/__module.model.14.m.0.m.1/__module.model.14.m.0.m.1.cv1/__module.model.14.m.0.m.1.cv1.conv\n",
            "\t\t    %input.203 : Tensor = aten::_convolution(%input.201, %weight.381, %bias.379, %1302, %1303, %1304, %1245, %1305, %1247, %1245, %1244, %1244, %1244), scope: __module.model.14/__module.model.14.m.0/__module.model.14.m.0.m/__module.model.14.m.0.m.1/__module.model.14.m.0.m.1.cv1/__module.model.14.m.0.m.1.cv1.conv # /usr/local/lib/python3.11/dist-packages/torch/nn/modules/conv.py:549:0\n",
            "\t\t    %input.205 : Tensor = aten::silu_(%input.203), scope: __module.model.14/__module.model.14.m.0/__module.model.14.m.0.m/__module.model.14.m.0.m.1/__module.model.14.m.0.m.1.cv1/__module.model.21.cv3.2.1.1.act # /usr/local/lib/python3.11/dist-packages/torch/nn/functional.py:2379:0\n",
            "\t\t    %conv.143 : __torch__.torch.nn.modules.conv.Conv2d = prim::GetAttr[name=\"conv\"](%cv2.23)\n",
            "\t\t    %bias.381 : Tensor = prim::GetAttr[name=\"bias\"](%conv.143)\n",
            "\t\t    %weight.383 : Tensor = prim::GetAttr[name=\"weight\"](%conv.143)\n",
            "\t\t    %1311 : int[] = prim::ListConstruct(%1247, %1247), scope: __module.model.14/__module.model.14.m.0/__module.model.14.m.0.m/__module.model.14.m.0.m.1/__module.model.14.m.0.m.1.cv2/__module.model.14.m.0.m.1.cv2.conv\n",
            "\t\t    %1312 : int[] = prim::ListConstruct(%1247, %1247), scope: __module.model.14/__module.model.14.m.0/__module.model.14.m.0.m/__module.model.14.m.0.m.1/__module.model.14.m.0.m.1.cv2/__module.model.14.m.0.m.1.cv2.conv\n",
            "\t\t    %1313 : int[] = prim::ListConstruct(%1247, %1247), scope: __module.model.14/__module.model.14.m.0/__module.model.14.m.0.m/__module.model.14.m.0.m.1/__module.model.14.m.0.m.1.cv2/__module.model.14.m.0.m.1.cv2.conv\n",
            "\t\t    %1314 : int[] = prim::ListConstruct(%1246, %1246), scope: __module.model.14/__module.model.14.m.0/__module.model.14.m.0.m/__module.model.14.m.0.m.1/__module.model.14.m.0.m.1.cv2/__module.model.14.m.0.m.1.cv2.conv\n",
            "\t\t    %input.207 : Tensor = aten::_convolution(%input.205, %weight.383, %bias.381, %1311, %1312, %1313, %1245, %1314, %1247, %1245, %1244, %1244, %1244), scope: __module.model.14/__module.model.14.m.0/__module.model.14.m.0.m/__module.model.14.m.0.m.1/__module.model.14.m.0.m.1.cv2/__module.model.14.m.0.m.1.cv2.conv # /usr/local/lib/python3.11/dist-packages/torch/nn/modules/conv.py:549:0\n",
            "\t\t    %1316 : Tensor = aten::silu_(%input.207), scope: __module.model.14/__module.model.14.m.0/__module.model.14.m.0.m/__module.model.14.m.0.m.1/__module.model.14.m.0.m.1.cv2/__module.model.21.cv3.2.1.1.act # /usr/local/lib/python3.11/dist-packages/torch/nn/functional.py:2379:0\n",
            "\t\t    %1317 : Tensor = aten::add(%input.201, %1316, %1247), scope: __module.model.14/__module.model.14.m.0/__module.model.14.m.0.m/__module.model.14.m.0.m.1 # /content/yolov12/ultralytics/nn/modules/block.py:348:0\n",
            "\t\t    %conv.145 : __torch__.torch.nn.modules.conv.Conv2d = prim::GetAttr[name=\"conv\"](%cv2.25)\n",
            "\t\t    %bias.383 : Tensor = prim::GetAttr[name=\"bias\"](%conv.145)\n",
            "\t\t    %weight.385 : Tensor = prim::GetAttr[name=\"weight\"](%conv.145)\n",
            "\t\t    %1321 : int[] = prim::ListConstruct(%1247, %1247), scope: __module.model.14/__module.model.14.m.0/__module.model.14.m.0.cv2/__module.model.14.m.0.cv2.conv\n",
            "\t\t    %1322 : int[] = prim::ListConstruct(%1246, %1246), scope: __module.model.14/__module.model.14.m.0/__module.model.14.m.0.cv2/__module.model.14.m.0.cv2.conv\n",
            "\t\t    %1323 : int[] = prim::ListConstruct(%1247, %1247), scope: __module.model.14/__module.model.14.m.0/__module.model.14.m.0.cv2/__module.model.14.m.0.cv2.conv\n",
            "\t\t    %1324 : int[] = prim::ListConstruct(%1246, %1246), scope: __module.model.14/__module.model.14.m.0/__module.model.14.m.0.cv2/__module.model.14.m.0.cv2.conv\n",
            "\t\t    %input.209 : Tensor = aten::_convolution(%input.189, %weight.385, %bias.383, %1321, %1322, %1323, %1245, %1324, %1247, %1245, %1244, %1244, %1244), scope: __module.model.14/__module.model.14.m.0/__module.model.14.m.0.cv2/__module.model.14.m.0.cv2.conv # /usr/local/lib/python3.11/dist-packages/torch/nn/modules/conv.py:549:0\n",
            "\t\t    %1326 : Tensor = aten::silu_(%input.209), scope: __module.model.14/__module.model.14.m.0/__module.model.14.m.0.cv2/__module.model.21.cv3.2.1.1.act # /usr/local/lib/python3.11/dist-packages/torch/nn/functional.py:2379:0\n",
            "\t\t    %1327 : Tensor[] = prim::ListConstruct(%1317, %1326), scope: __module.model.14/__module.model.14.m.0\n",
            "\t\t    %input.211 : Tensor = aten::cat(%1327, %1247), scope: __module.model.14/__module.model.14.m.0 # /content/yolov12/ultralytics/nn/modules/block.py:264:0\n",
            "\t\t    %conv.147 : __torch__.torch.nn.modules.conv.Conv2d = prim::GetAttr[name=\"conv\"](%cv3.5)\n",
            "\t\t    %bias.385 : Tensor = prim::GetAttr[name=\"bias\"](%conv.147)\n",
            "\t\t    %weight.387 : Tensor = prim::GetAttr[name=\"weight\"](%conv.147)\n",
            "\t\t    %1332 : int[] = prim::ListConstruct(%1247, %1247), scope: __module.model.14/__module.model.14.m.0/__module.model.14.m.0.cv3/__module.model.14.m.0.cv3.conv\n",
            "\t\t    %1333 : int[] = prim::ListConstruct(%1246, %1246), scope: __module.model.14/__module.model.14.m.0/__module.model.14.m.0.cv3/__module.model.14.m.0.cv3.conv\n",
            "\t\t    %1334 : int[] = prim::ListConstruct(%1247, %1247), scope: __module.model.14/__module.model.14.m.0/__module.model.14.m.0.cv3/__module.model.14.m.0.cv3.conv\n",
            "\t\t    %1335 : int[] = prim::ListConstruct(%1246, %1246), scope: __module.model.14/__module.model.14.m.0/__module.model.14.m.0.cv3/__module.model.14.m.0.cv3.conv\n",
            "\t\t    %input.213 : Tensor = aten::_convolution(%input.211, %weight.387, %bias.385, %1332, %1333, %1334, %1245, %1335, %1247, %1245, %1244, %1244, %1244), scope: __module.model.14/__module.model.14.m.0/__module.model.14.m.0.cv3/__module.model.14.m.0.cv3.conv # /usr/local/lib/python3.11/dist-packages/torch/nn/modules/conv.py:549:0\n",
            "\t\t    %1337 : Tensor = aten::silu_(%input.213), scope: __module.model.14/__module.model.14.m.0/__module.model.14.m.0.cv3/__module.model.21.cv3.2.1.1.act # /usr/local/lib/python3.11/dist-packages/torch/nn/functional.py:2379:0\n",
            "\t\t    %1338 : Tensor[] = prim::ListConstruct(%input.189, %1337), scope: __module.model.14\n",
            "\t\t    %input.215 : Tensor = aten::cat(%1338, %1247), scope: __module.model.14 # /content/yolov12/ultralytics/nn/modules/block.py:1369:0\n",
            "\t\t    %conv.149 : __torch__.torch.nn.modules.conv.Conv2d = prim::GetAttr[name=\"conv\"](%cv2.27)\n",
            "\t\t    %bias.387 : Tensor = prim::GetAttr[name=\"bias\"](%conv.149)\n",
            "\t\t    %weight.389 : Tensor = prim::GetAttr[name=\"weight\"](%conv.149)\n",
            "\t\t    %1343 : int[] = prim::ListConstruct(%1247, %1247), scope: __module.model.14/__module.model.14.cv2/__module.model.14.cv2.conv\n",
            "\t\t    %1344 : int[] = prim::ListConstruct(%1246, %1246), scope: __module.model.14/__module.model.14.cv2/__module.model.14.cv2.conv\n",
            "\t\t    %1345 : int[] = prim::ListConstruct(%1247, %1247), scope: __module.model.14/__module.model.14.cv2/__module.model.14.cv2.conv\n",
            "\t\t    %1346 : int[] = prim::ListConstruct(%1246, %1246), scope: __module.model.14/__module.model.14.cv2/__module.model.14.cv2.conv\n",
            "\t\t    %input.217 : Tensor = aten::_convolution(%input.215, %weight.389, %bias.387, %1343, %1344, %1345, %1245, %1346, %1247, %1245, %1244, %1244, %1244), scope: __module.model.14/__module.model.14.cv2/__module.model.14.cv2.conv # /usr/local/lib/python3.11/dist-packages/torch/nn/modules/conv.py:549:0\n",
            "\t\t    %input.219 : Tensor = aten::silu_(%input.217), scope: __module.model.14/__module.model.14.cv2/__module.model.21.cv3.2.1.1.act # /usr/local/lib/python3.11/dist-packages/torch/nn/functional.py:2379:0\n",
            "\t\t    %1349 : int = prim::Constant[value=2](), scope: __module.model.15/__module.model.15.conv # /usr/local/lib/python3.11/dist-packages/torch/nn/modules/conv.py:549:0\n",
            "\t\t    %1350 : int = prim::Constant[value=1](), scope: __module.model.15/__module.model.15.conv # /usr/local/lib/python3.11/dist-packages/torch/nn/modules/conv.py:549:0\n",
            "\t\t    %1351 : bool = prim::Constant[value=0](), scope: __module.model.15/__module.model.15.conv # /usr/local/lib/python3.11/dist-packages/torch/nn/modules/conv.py:549:0\n",
            "\t\t    %1352 : int = prim::Constant[value=0](), scope: __module.model.15/__module.model.15.conv # /usr/local/lib/python3.11/dist-packages/torch/nn/modules/conv.py:549:0\n",
            "\t\t    %1353 : bool = prim::Constant[value=1](), scope: __module.model.15/__module.model.15.conv # /usr/local/lib/python3.11/dist-packages/torch/nn/modules/conv.py:549:0\n",
            "\t\t    %conv.151 : __torch__.torch.nn.modules.conv.Conv2d = prim::GetAttr[name=\"conv\"](%_15)\n",
            "\t\t    %bias.389 : Tensor = prim::GetAttr[name=\"bias\"](%conv.151)\n",
            "\t\t    %weight.391 : Tensor = prim::GetAttr[name=\"weight\"](%conv.151)\n",
            "\t\t    %1357 : int[] = prim::ListConstruct(%1349, %1349), scope: __module.model.15/__module.model.15.conv\n",
            "\t\t    %1358 : int[] = prim::ListConstruct(%1350, %1350), scope: __module.model.15/__module.model.15.conv\n",
            "\t\t    %1359 : int[] = prim::ListConstruct(%1350, %1350), scope: __module.model.15/__module.model.15.conv\n",
            "\t\t    %1360 : int[] = prim::ListConstruct(%1352, %1352), scope: __module.model.15/__module.model.15.conv\n",
            "\t\t    %input.221 : Tensor = aten::_convolution(%input.219, %weight.391, %bias.389, %1357, %1358, %1359, %1351, %1360, %1350, %1351, %1353, %1353, %1353), scope: __module.model.15/__module.model.15.conv # /usr/local/lib/python3.11/dist-packages/torch/nn/modules/conv.py:549:0\n",
            "\t\t    %1362 : Tensor = aten::silu_(%input.221), scope: __module.model.15/__module.model.21.cv3.2.1.1.act # /usr/local/lib/python3.11/dist-packages/torch/nn/functional.py:2379:0\n",
            "\t\t    %1363 : int = prim::Constant[value=1](), scope: __module.model.16 # /content/yolov12/ultralytics/nn/modules/conv.py:333:0\n",
            "\t\t    %1364 : Tensor[] = prim::ListConstruct(%1362, %input.183), scope: __module.model.16\n",
            "\t\t    %input.223 : Tensor = aten::cat(%1364, %1363), scope: __module.model.16 # /content/yolov12/ultralytics/nn/modules/conv.py:333:0\n",
            "\t\t    %1366 : bool = prim::Constant[value=1](), scope: __module.model.17/__module.model.17.cv1/__module.model.17.cv1.conv # /usr/local/lib/python3.11/dist-packages/torch/nn/modules/conv.py:549:0\n",
            "\t\t    %1367 : bool = prim::Constant[value=0](), scope: __module.model.17/__module.model.17.cv1/__module.model.17.cv1.conv # /usr/local/lib/python3.11/dist-packages/torch/nn/modules/conv.py:549:0\n",
            "\t\t    %1368 : int = prim::Constant[value=0](), scope: __module.model.17/__module.model.17.cv1/__module.model.17.cv1.conv # /usr/local/lib/python3.11/dist-packages/torch/nn/modules/conv.py:549:0\n",
            "\t\t    %1369 : int = prim::Constant[value=1](), scope: __module.model.17/__module.model.17.cv1/__module.model.17.cv1.conv # /usr/local/lib/python3.11/dist-packages/torch/nn/modules/conv.py:549:0\n",
            "\t\t    %cv2.35 : __torch__.ultralytics.nn.modules.conv.Conv = prim::GetAttr[name=\"cv2\"](%_17)\n",
            "\t\t    %m.23 : __torch__.torch.nn.modules.container.ModuleList = prim::GetAttr[name=\"m\"](%_17)\n",
            "\t\t    %_0.45 : __torch__.ultralytics.nn.modules.block.C3k = prim::GetAttr[name=\"0\"](%m.23)\n",
            "\t\t    %cv1.29 : __torch__.ultralytics.nn.modules.conv.Conv = prim::GetAttr[name=\"cv1\"](%_17)\n",
            "\t\t    %conv.153 : __torch__.torch.nn.modules.conv.Conv2d = prim::GetAttr[name=\"conv\"](%cv1.29)\n",
            "\t\t    %bias.391 : Tensor = prim::GetAttr[name=\"bias\"](%conv.153)\n",
            "\t\t    %weight.393 : Tensor = prim::GetAttr[name=\"weight\"](%conv.153)\n",
            "\t\t    %1377 : int[] = prim::ListConstruct(%1369, %1369), scope: __module.model.17/__module.model.17.cv1/__module.model.17.cv1.conv\n",
            "\t\t    %1378 : int[] = prim::ListConstruct(%1368, %1368), scope: __module.model.17/__module.model.17.cv1/__module.model.17.cv1.conv\n",
            "\t\t    %1379 : int[] = prim::ListConstruct(%1369, %1369), scope: __module.model.17/__module.model.17.cv1/__module.model.17.cv1.conv\n",
            "\t\t    %1380 : int[] = prim::ListConstruct(%1368, %1368), scope: __module.model.17/__module.model.17.cv1/__module.model.17.cv1.conv\n",
            "\t\t    %input.225 : Tensor = aten::_convolution(%input.223, %weight.393, %bias.391, %1377, %1378, %1379, %1367, %1380, %1369, %1367, %1366, %1366, %1366), scope: __module.model.17/__module.model.17.cv1/__module.model.17.cv1.conv # /usr/local/lib/python3.11/dist-packages/torch/nn/modules/conv.py:549:0\n",
            "\t\t    %input.227 : Tensor = aten::silu_(%input.225), scope: __module.model.17/__module.model.17.cv1/__module.model.21.cv3.2.1.1.act # /usr/local/lib/python3.11/dist-packages/torch/nn/functional.py:2379:0\n",
            "\t\t    %cv3.7 : __torch__.ultralytics.nn.modules.conv.Conv = prim::GetAttr[name=\"cv3\"](%_0.45)\n",
            "\t\t    %cv2.33 : __torch__.ultralytics.nn.modules.conv.Conv = prim::GetAttr[name=\"cv2\"](%_0.45)\n",
            "\t\t    %m.21 : __torch__.torch.nn.modules.container.Sequential = prim::GetAttr[name=\"m\"](%_0.45)\n",
            "\t\t    %cv1.31 : __torch__.ultralytics.nn.modules.conv.Conv = prim::GetAttr[name=\"cv1\"](%_0.45)\n",
            "\t\t    %conv.155 : __torch__.torch.nn.modules.conv.Conv2d = prim::GetAttr[name=\"conv\"](%cv1.31)\n",
            "\t\t    %bias.393 : Tensor = prim::GetAttr[name=\"bias\"](%conv.155)\n",
            "\t\t    %weight.395 : Tensor = prim::GetAttr[name=\"weight\"](%conv.155)\n",
            "\t\t    %1390 : int[] = prim::ListConstruct(%1369, %1369), scope: __module.model.17/__module.model.17.m.0/__module.model.17.m.0.cv1/__module.model.17.m.0.cv1.conv\n",
            "\t\t    %1391 : int[] = prim::ListConstruct(%1368, %1368), scope: __module.model.17/__module.model.17.m.0/__module.model.17.m.0.cv1/__module.model.17.m.0.cv1.conv\n",
            "\t\t    %1392 : int[] = prim::ListConstruct(%1369, %1369), scope: __module.model.17/__module.model.17.m.0/__module.model.17.m.0.cv1/__module.model.17.m.0.cv1.conv\n",
            "\t\t    %1393 : int[] = prim::ListConstruct(%1368, %1368), scope: __module.model.17/__module.model.17.m.0/__module.model.17.m.0.cv1/__module.model.17.m.0.cv1.conv\n",
            "\t\t    %input.229 : Tensor = aten::_convolution(%input.227, %weight.395, %bias.393, %1390, %1391, %1392, %1367, %1393, %1369, %1367, %1366, %1366, %1366), scope: __module.model.17/__module.model.17.m.0/__module.model.17.m.0.cv1/__module.model.17.m.0.cv1.conv # /usr/local/lib/python3.11/dist-packages/torch/nn/modules/conv.py:549:0\n",
            "\t\t    %input.231 : Tensor = aten::silu_(%input.229), scope: __module.model.17/__module.model.17.m.0/__module.model.17.m.0.cv1/__module.model.21.cv3.2.1.1.act # /usr/local/lib/python3.11/dist-packages/torch/nn/functional.py:2379:0\n",
            "\t\t    %_1.39 : __torch__.ultralytics.nn.modules.block.Bottleneck = prim::GetAttr[name=\"1\"](%m.21)\n",
            "\t\t    %_0.43 : __torch__.ultralytics.nn.modules.block.Bottleneck = prim::GetAttr[name=\"0\"](%m.21)\n",
            "\t\t    %cv2.29 : __torch__.ultralytics.nn.modules.conv.Conv = prim::GetAttr[name=\"cv2\"](%_0.43)\n",
            "\t\t    %cv1.33 : __torch__.ultralytics.nn.modules.conv.Conv = prim::GetAttr[name=\"cv1\"](%_0.43)\n",
            "\t\t    %conv.157 : __torch__.torch.nn.modules.conv.Conv2d = prim::GetAttr[name=\"conv\"](%cv1.33)\n",
            "\t\t    %bias.395 : Tensor = prim::GetAttr[name=\"bias\"](%conv.157)\n",
            "\t\t    %weight.397 : Tensor = prim::GetAttr[name=\"weight\"](%conv.157)\n",
            "\t\t    %1403 : int[] = prim::ListConstruct(%1369, %1369), scope: __module.model.17/__module.model.17.m.0/__module.model.17.m.0.m/__module.model.17.m.0.m.0/__module.model.17.m.0.m.0.cv1/__module.model.17.m.0.m.0.cv1.conv\n",
            "\t\t    %1404 : int[] = prim::ListConstruct(%1369, %1369), scope: __module.model.17/__module.model.17.m.0/__module.model.17.m.0.m/__module.model.17.m.0.m.0/__module.model.17.m.0.m.0.cv1/__module.model.17.m.0.m.0.cv1.conv\n",
            "\t\t    %1405 : int[] = prim::ListConstruct(%1369, %1369), scope: __module.model.17/__module.model.17.m.0/__module.model.17.m.0.m/__module.model.17.m.0.m.0/__module.model.17.m.0.m.0.cv1/__module.model.17.m.0.m.0.cv1.conv\n",
            "\t\t    %1406 : int[] = prim::ListConstruct(%1368, %1368), scope: __module.model.17/__module.model.17.m.0/__module.model.17.m.0.m/__module.model.17.m.0.m.0/__module.model.17.m.0.m.0.cv1/__module.model.17.m.0.m.0.cv1.conv\n",
            "\t\t    %input.233 : Tensor = aten::_convolution(%input.231, %weight.397, %bias.395, %1403, %1404, %1405, %1367, %1406, %1369, %1367, %1366, %1366, %1366), scope: __module.model.17/__module.model.17.m.0/__module.model.17.m.0.m/__module.model.17.m.0.m.0/__module.model.17.m.0.m.0.cv1/__module.model.17.m.0.m.0.cv1.conv # /usr/local/lib/python3.11/dist-packages/torch/nn/modules/conv.py:549:0\n",
            "\t\t    %input.235 : Tensor = aten::silu_(%input.233), scope: __module.model.17/__module.model.17.m.0/__module.model.17.m.0.m/__module.model.17.m.0.m.0/__module.model.17.m.0.m.0.cv1/__module.model.21.cv3.2.1.1.act # /usr/local/lib/python3.11/dist-packages/torch/nn/functional.py:2379:0\n",
            "\t\t    %conv.159 : __torch__.torch.nn.modules.conv.Conv2d = prim::GetAttr[name=\"conv\"](%cv2.29)\n",
            "\t\t    %bias.397 : Tensor = prim::GetAttr[name=\"bias\"](%conv.159)\n",
            "\t\t    %weight.399 : Tensor = prim::GetAttr[name=\"weight\"](%conv.159)\n",
            "\t\t    %1412 : int[] = prim::ListConstruct(%1369, %1369), scope: __module.model.17/__module.model.17.m.0/__module.model.17.m.0.m/__module.model.17.m.0.m.0/__module.model.17.m.0.m.0.cv2/__module.model.17.m.0.m.0.cv2.conv\n",
            "\t\t    %1413 : int[] = prim::ListConstruct(%1369, %1369), scope: __module.model.17/__module.model.17.m.0/__module.model.17.m.0.m/__module.model.17.m.0.m.0/__module.model.17.m.0.m.0.cv2/__module.model.17.m.0.m.0.cv2.conv\n",
            "\t\t    %1414 : int[] = prim::ListConstruct(%1369, %1369), scope: __module.model.17/__module.model.17.m.0/__module.model.17.m.0.m/__module.model.17.m.0.m.0/__module.model.17.m.0.m.0.cv2/__module.model.17.m.0.m.0.cv2.conv\n",
            "\t\t    %1415 : int[] = prim::ListConstruct(%1368, %1368), scope: __module.model.17/__module.model.17.m.0/__module.model.17.m.0.m/__module.model.17.m.0.m.0/__module.model.17.m.0.m.0.cv2/__module.model.17.m.0.m.0.cv2.conv\n",
            "\t\t    %input.237 : Tensor = aten::_convolution(%input.235, %weight.399, %bias.397, %1412, %1413, %1414, %1367, %1415, %1369, %1367, %1366, %1366, %1366), scope: __module.model.17/__module.model.17.m.0/__module.model.17.m.0.m/__module.model.17.m.0.m.0/__module.model.17.m.0.m.0.cv2/__module.model.17.m.0.m.0.cv2.conv # /usr/local/lib/python3.11/dist-packages/torch/nn/modules/conv.py:549:0\n",
            "\t\t    %1417 : Tensor = aten::silu_(%input.237), scope: __module.model.17/__module.model.17.m.0/__module.model.17.m.0.m/__module.model.17.m.0.m.0/__module.model.17.m.0.m.0.cv2/__module.model.21.cv3.2.1.1.act # /usr/local/lib/python3.11/dist-packages/torch/nn/functional.py:2379:0\n",
            "\t\t    %input.239 : Tensor = aten::add(%input.231, %1417, %1369), scope: __module.model.17/__module.model.17.m.0/__module.model.17.m.0.m/__module.model.17.m.0.m.0 # /content/yolov12/ultralytics/nn/modules/block.py:348:0\n",
            "\t\t    %cv2.31 : __torch__.ultralytics.nn.modules.conv.Conv = prim::GetAttr[name=\"cv2\"](%_1.39)\n",
            "\t\t    %cv1.35 : __torch__.ultralytics.nn.modules.conv.Conv = prim::GetAttr[name=\"cv1\"](%_1.39)\n",
            "\t\t    %conv.161 : __torch__.torch.nn.modules.conv.Conv2d = prim::GetAttr[name=\"conv\"](%cv1.35)\n",
            "\t\t    %bias.399 : Tensor = prim::GetAttr[name=\"bias\"](%conv.161)\n",
            "\t\t    %weight.401 : Tensor = prim::GetAttr[name=\"weight\"](%conv.161)\n",
            "\t\t    %1424 : int[] = prim::ListConstruct(%1369, %1369), scope: __module.model.17/__module.model.17.m.0/__module.model.17.m.0.m/__module.model.17.m.0.m.1/__module.model.17.m.0.m.1.cv1/__module.model.17.m.0.m.1.cv1.conv\n",
            "\t\t    %1425 : int[] = prim::ListConstruct(%1369, %1369), scope: __module.model.17/__module.model.17.m.0/__module.model.17.m.0.m/__module.model.17.m.0.m.1/__module.model.17.m.0.m.1.cv1/__module.model.17.m.0.m.1.cv1.conv\n",
            "\t\t    %1426 : int[] = prim::ListConstruct(%1369, %1369), scope: __module.model.17/__module.model.17.m.0/__module.model.17.m.0.m/__module.model.17.m.0.m.1/__module.model.17.m.0.m.1.cv1/__module.model.17.m.0.m.1.cv1.conv\n",
            "\t\t    %1427 : int[] = prim::ListConstruct(%1368, %1368), scope: __module.model.17/__module.model.17.m.0/__module.model.17.m.0.m/__module.model.17.m.0.m.1/__module.model.17.m.0.m.1.cv1/__module.model.17.m.0.m.1.cv1.conv\n",
            "\t\t    %input.241 : Tensor = aten::_convolution(%input.239, %weight.401, %bias.399, %1424, %1425, %1426, %1367, %1427, %1369, %1367, %1366, %1366, %1366), scope: __module.model.17/__module.model.17.m.0/__module.model.17.m.0.m/__module.model.17.m.0.m.1/__module.model.17.m.0.m.1.cv1/__module.model.17.m.0.m.1.cv1.conv # /usr/local/lib/python3.11/dist-packages/torch/nn/modules/conv.py:549:0\n",
            "\t\t    %input.243 : Tensor = aten::silu_(%input.241), scope: __module.model.17/__module.model.17.m.0/__module.model.17.m.0.m/__module.model.17.m.0.m.1/__module.model.17.m.0.m.1.cv1/__module.model.21.cv3.2.1.1.act # /usr/local/lib/python3.11/dist-packages/torch/nn/functional.py:2379:0\n",
            "\t\t    %conv.163 : __torch__.torch.nn.modules.conv.Conv2d = prim::GetAttr[name=\"conv\"](%cv2.31)\n",
            "\t\t    %bias.401 : Tensor = prim::GetAttr[name=\"bias\"](%conv.163)\n",
            "\t\t    %weight.403 : Tensor = prim::GetAttr[name=\"weight\"](%conv.163)\n",
            "\t\t    %1433 : int[] = prim::ListConstruct(%1369, %1369), scope: __module.model.17/__module.model.17.m.0/__module.model.17.m.0.m/__module.model.17.m.0.m.1/__module.model.17.m.0.m.1.cv2/__module.model.17.m.0.m.1.cv2.conv\n",
            "\t\t    %1434 : int[] = prim::ListConstruct(%1369, %1369), scope: __module.model.17/__module.model.17.m.0/__module.model.17.m.0.m/__module.model.17.m.0.m.1/__module.model.17.m.0.m.1.cv2/__module.model.17.m.0.m.1.cv2.conv\n",
            "\t\t    %1435 : int[] = prim::ListConstruct(%1369, %1369), scope: __module.model.17/__module.model.17.m.0/__module.model.17.m.0.m/__module.model.17.m.0.m.1/__module.model.17.m.0.m.1.cv2/__module.model.17.m.0.m.1.cv2.conv\n",
            "\t\t    %1436 : int[] = prim::ListConstruct(%1368, %1368), scope: __module.model.17/__module.model.17.m.0/__module.model.17.m.0.m/__module.model.17.m.0.m.1/__module.model.17.m.0.m.1.cv2/__module.model.17.m.0.m.1.cv2.conv\n",
            "\t\t    %input.245 : Tensor = aten::_convolution(%input.243, %weight.403, %bias.401, %1433, %1434, %1435, %1367, %1436, %1369, %1367, %1366, %1366, %1366), scope: __module.model.17/__module.model.17.m.0/__module.model.17.m.0.m/__module.model.17.m.0.m.1/__module.model.17.m.0.m.1.cv2/__module.model.17.m.0.m.1.cv2.conv # /usr/local/lib/python3.11/dist-packages/torch/nn/modules/conv.py:549:0\n",
            "\t\t    %1438 : Tensor = aten::silu_(%input.245), scope: __module.model.17/__module.model.17.m.0/__module.model.17.m.0.m/__module.model.17.m.0.m.1/__module.model.17.m.0.m.1.cv2/__module.model.21.cv3.2.1.1.act # /usr/local/lib/python3.11/dist-packages/torch/nn/functional.py:2379:0\n",
            "\t\t    %1439 : Tensor = aten::add(%input.239, %1438, %1369), scope: __module.model.17/__module.model.17.m.0/__module.model.17.m.0.m/__module.model.17.m.0.m.1 # /content/yolov12/ultralytics/nn/modules/block.py:348:0\n",
            "\t\t    %conv.165 : __torch__.torch.nn.modules.conv.Conv2d = prim::GetAttr[name=\"conv\"](%cv2.33)\n",
            "\t\t    %bias.403 : Tensor = prim::GetAttr[name=\"bias\"](%conv.165)\n",
            "\t\t    %weight.405 : Tensor = prim::GetAttr[name=\"weight\"](%conv.165)\n",
            "\t\t    %1443 : int[] = prim::ListConstruct(%1369, %1369), scope: __module.model.17/__module.model.17.m.0/__module.model.17.m.0.cv2/__module.model.17.m.0.cv2.conv\n",
            "\t\t    %1444 : int[] = prim::ListConstruct(%1368, %1368), scope: __module.model.17/__module.model.17.m.0/__module.model.17.m.0.cv2/__module.model.17.m.0.cv2.conv\n",
            "\t\t    %1445 : int[] = prim::ListConstruct(%1369, %1369), scope: __module.model.17/__module.model.17.m.0/__module.model.17.m.0.cv2/__module.model.17.m.0.cv2.conv\n",
            "\t\t    %1446 : int[] = prim::ListConstruct(%1368, %1368), scope: __module.model.17/__module.model.17.m.0/__module.model.17.m.0.cv2/__module.model.17.m.0.cv2.conv\n",
            "\t\t    %input.247 : Tensor = aten::_convolution(%input.227, %weight.405, %bias.403, %1443, %1444, %1445, %1367, %1446, %1369, %1367, %1366, %1366, %1366), scope: __module.model.17/__module.model.17.m.0/__module.model.17.m.0.cv2/__module.model.17.m.0.cv2.conv # /usr/local/lib/python3.11/dist-packages/torch/nn/modules/conv.py:549:0\n",
            "\t\t    %1448 : Tensor = aten::silu_(%input.247), scope: __module.model.17/__module.model.17.m.0/__module.model.17.m.0.cv2/__module.model.21.cv3.2.1.1.act # /usr/local/lib/python3.11/dist-packages/torch/nn/functional.py:2379:0\n",
            "\t\t    %1449 : Tensor[] = prim::ListConstruct(%1439, %1448), scope: __module.model.17/__module.model.17.m.0\n",
            "\t\t    %input.249 : Tensor = aten::cat(%1449, %1369), scope: __module.model.17/__module.model.17.m.0 # /content/yolov12/ultralytics/nn/modules/block.py:264:0\n",
            "\t\t    %conv.167 : __torch__.torch.nn.modules.conv.Conv2d = prim::GetAttr[name=\"conv\"](%cv3.7)\n",
            "\t\t    %bias.405 : Tensor = prim::GetAttr[name=\"bias\"](%conv.167)\n",
            "\t\t    %weight.407 : Tensor = prim::GetAttr[name=\"weight\"](%conv.167)\n",
            "\t\t    %1454 : int[] = prim::ListConstruct(%1369, %1369), scope: __module.model.17/__module.model.17.m.0/__module.model.17.m.0.cv3/__module.model.17.m.0.cv3.conv\n",
            "\t\t    %1455 : int[] = prim::ListConstruct(%1368, %1368), scope: __module.model.17/__module.model.17.m.0/__module.model.17.m.0.cv3/__module.model.17.m.0.cv3.conv\n",
            "\t\t    %1456 : int[] = prim::ListConstruct(%1369, %1369), scope: __module.model.17/__module.model.17.m.0/__module.model.17.m.0.cv3/__module.model.17.m.0.cv3.conv\n",
            "\t\t    %1457 : int[] = prim::ListConstruct(%1368, %1368), scope: __module.model.17/__module.model.17.m.0/__module.model.17.m.0.cv3/__module.model.17.m.0.cv3.conv\n",
            "\t\t    %input.251 : Tensor = aten::_convolution(%input.249, %weight.407, %bias.405, %1454, %1455, %1456, %1367, %1457, %1369, %1367, %1366, %1366, %1366), scope: __module.model.17/__module.model.17.m.0/__module.model.17.m.0.cv3/__module.model.17.m.0.cv3.conv # /usr/local/lib/python3.11/dist-packages/torch/nn/modules/conv.py:549:0\n",
            "\t\t    %1459 : Tensor = aten::silu_(%input.251), scope: __module.model.17/__module.model.17.m.0/__module.model.17.m.0.cv3/__module.model.21.cv3.2.1.1.act # /usr/local/lib/python3.11/dist-packages/torch/nn/functional.py:2379:0\n",
            "\t\t    %1460 : Tensor[] = prim::ListConstruct(%input.227, %1459), scope: __module.model.17\n",
            "\t\t    %input.253 : Tensor = aten::cat(%1460, %1369), scope: __module.model.17 # /content/yolov12/ultralytics/nn/modules/block.py:1369:0\n",
            "\t\t    %conv.169 : __torch__.torch.nn.modules.conv.Conv2d = prim::GetAttr[name=\"conv\"](%cv2.35)\n",
            "\t\t    %bias.407 : Tensor = prim::GetAttr[name=\"bias\"](%conv.169)\n",
            "\t\t    %weight.409 : Tensor = prim::GetAttr[name=\"weight\"](%conv.169)\n",
            "\t\t    %1465 : int[] = prim::ListConstruct(%1369, %1369), scope: __module.model.17/__module.model.17.cv2/__module.model.17.cv2.conv\n",
            "\t\t    %1466 : int[] = prim::ListConstruct(%1368, %1368), scope: __module.model.17/__module.model.17.cv2/__module.model.17.cv2.conv\n",
            "\t\t    %1467 : int[] = prim::ListConstruct(%1369, %1369), scope: __module.model.17/__module.model.17.cv2/__module.model.17.cv2.conv\n",
            "\t\t    %1468 : int[] = prim::ListConstruct(%1368, %1368), scope: __module.model.17/__module.model.17.cv2/__module.model.17.cv2.conv\n",
            "\t\t    %input.255 : Tensor = aten::_convolution(%input.253, %weight.409, %bias.407, %1465, %1466, %1467, %1367, %1468, %1369, %1367, %1366, %1366, %1366), scope: __module.model.17/__module.model.17.cv2/__module.model.17.cv2.conv # /usr/local/lib/python3.11/dist-packages/torch/nn/modules/conv.py:549:0\n",
            "\t\t    %input.257 : Tensor = aten::silu_(%input.255), scope: __module.model.17/__module.model.17.cv2/__module.model.21.cv3.2.1.1.act # /usr/local/lib/python3.11/dist-packages/torch/nn/functional.py:2379:0\n",
            "\t\t    %1471 : int = prim::Constant[value=2](), scope: __module.model.18/__module.model.18.conv # /usr/local/lib/python3.11/dist-packages/torch/nn/modules/conv.py:549:0\n",
            "\t\t    %1472 : int = prim::Constant[value=1](), scope: __module.model.18/__module.model.18.conv # /usr/local/lib/python3.11/dist-packages/torch/nn/modules/conv.py:549:0\n",
            "\t\t    %1473 : bool = prim::Constant[value=0](), scope: __module.model.18/__module.model.18.conv # /usr/local/lib/python3.11/dist-packages/torch/nn/modules/conv.py:549:0\n",
            "\t\t    %1474 : int = prim::Constant[value=0](), scope: __module.model.18/__module.model.18.conv # /usr/local/lib/python3.11/dist-packages/torch/nn/modules/conv.py:549:0\n",
            "\t\t    %1475 : bool = prim::Constant[value=1](), scope: __module.model.18/__module.model.18.conv # /usr/local/lib/python3.11/dist-packages/torch/nn/modules/conv.py:549:0\n",
            "\t\t    %conv.171 : __torch__.torch.nn.modules.conv.Conv2d = prim::GetAttr[name=\"conv\"](%_18)\n",
            "\t\t    %bias.409 : Tensor = prim::GetAttr[name=\"bias\"](%conv.171)\n",
            "\t\t    %weight.411 : Tensor = prim::GetAttr[name=\"weight\"](%conv.171)\n",
            "\t\t    %1479 : int[] = prim::ListConstruct(%1471, %1471), scope: __module.model.18/__module.model.18.conv\n",
            "\t\t    %1480 : int[] = prim::ListConstruct(%1472, %1472), scope: __module.model.18/__module.model.18.conv\n",
            "\t\t    %1481 : int[] = prim::ListConstruct(%1472, %1472), scope: __module.model.18/__module.model.18.conv\n",
            "\t\t    %1482 : int[] = prim::ListConstruct(%1474, %1474), scope: __module.model.18/__module.model.18.conv\n",
            "\t\t    %input.259 : Tensor = aten::_convolution(%input.257, %weight.411, %bias.409, %1479, %1480, %1481, %1473, %1482, %1472, %1473, %1475, %1475, %1475), scope: __module.model.18/__module.model.18.conv # /usr/local/lib/python3.11/dist-packages/torch/nn/modules/conv.py:549:0\n",
            "\t\t    %1484 : Tensor = aten::silu_(%input.259), scope: __module.model.18/__module.model.21.cv3.2.1.1.act # /usr/local/lib/python3.11/dist-packages/torch/nn/functional.py:2379:0\n",
            "\t\t    %1485 : int = prim::Constant[value=1](), scope: __module.model.19 # /content/yolov12/ultralytics/nn/modules/conv.py:333:0\n",
            "\t\t    %1486 : Tensor[] = prim::ListConstruct(%1484, %input.147), scope: __module.model.19\n",
            "\t\t    %input.261 : Tensor = aten::cat(%1486, %1485), scope: __module.model.19 # /content/yolov12/ultralytics/nn/modules/conv.py:333:0\n",
            "\t\t    %1488 : int = prim::Constant[value=2](), scope: __module.model.20 # /content/yolov12/ultralytics/nn/modules/block.py:238:0\n",
            "\t\t    %1489 : bool = prim::Constant[value=1](), scope: __module.model.20/__module.model.20.cv1/__module.model.20.cv1.conv # /usr/local/lib/python3.11/dist-packages/torch/nn/modules/conv.py:549:0\n",
            "\t\t    %1490 : bool = prim::Constant[value=0](), scope: __module.model.20/__module.model.20.cv1/__module.model.20.cv1.conv # /usr/local/lib/python3.11/dist-packages/torch/nn/modules/conv.py:549:0\n",
            "\t\t    %1491 : int = prim::Constant[value=0](), scope: __module.model.20/__module.model.20.cv1/__module.model.20.cv1.conv # /usr/local/lib/python3.11/dist-packages/torch/nn/modules/conv.py:549:0\n",
            "\t\t    %1492 : int = prim::Constant[value=1](), scope: __module.model.20/__module.model.20.cv1/__module.model.20.cv1.conv # /usr/local/lib/python3.11/dist-packages/torch/nn/modules/conv.py:549:0\n",
            "\t\t    %cv2.43 : __torch__.ultralytics.nn.modules.conv.Conv = prim::GetAttr[name=\"cv2\"](%_20)\n",
            "\t\t    %m : __torch__.torch.nn.modules.container.ModuleList = prim::GetAttr[name=\"m\"](%_20)\n",
            "\t\t    %_0.49 : __torch__.ultralytics.nn.modules.block.C3k = prim::GetAttr[name=\"0\"](%m)\n",
            "\t\t    %cv1.37 : __torch__.ultralytics.nn.modules.conv.Conv = prim::GetAttr[name=\"cv1\"](%_20)\n",
            "\t\t    %conv.173 : __torch__.torch.nn.modules.conv.Conv2d = prim::GetAttr[name=\"conv\"](%cv1.37)\n",
            "\t\t    %bias.411 : Tensor = prim::GetAttr[name=\"bias\"](%conv.173)\n",
            "\t\t    %weight.413 : Tensor = prim::GetAttr[name=\"weight\"](%conv.173)\n",
            "\t\t    %1500 : int[] = prim::ListConstruct(%1492, %1492), scope: __module.model.20/__module.model.20.cv1/__module.model.20.cv1.conv\n",
            "\t\t    %1501 : int[] = prim::ListConstruct(%1491, %1491), scope: __module.model.20/__module.model.20.cv1/__module.model.20.cv1.conv\n",
            "\t\t    %1502 : int[] = prim::ListConstruct(%1492, %1492), scope: __module.model.20/__module.model.20.cv1/__module.model.20.cv1.conv\n",
            "\t\t    %1503 : int[] = prim::ListConstruct(%1491, %1491), scope: __module.model.20/__module.model.20.cv1/__module.model.20.cv1.conv\n",
            "\t\t    %input.263 : Tensor = aten::_convolution(%input.261, %weight.413, %bias.411, %1500, %1501, %1502, %1490, %1503, %1492, %1490, %1489, %1489, %1489), scope: __module.model.20/__module.model.20.cv1/__module.model.20.cv1.conv # /usr/local/lib/python3.11/dist-packages/torch/nn/modules/conv.py:549:0\n",
            "\t\t    %1505 : Tensor = aten::silu_(%input.263), scope: __module.model.20/__module.model.20.cv1/__module.model.21.cv3.2.1.1.act # /usr/local/lib/python3.11/dist-packages/torch/nn/functional.py:2379:0\n",
            "\t\t    %1506 : Tensor[] = aten::chunk(%1505, %1488, %1492), scope: __module.model.20 # /content/yolov12/ultralytics/nn/modules/block.py:238:0\n",
            "\t\t    %1507 : Tensor, %input.265 : Tensor = prim::ListUnpack(%1506), scope: __module.model.20\n",
            "\t\t    %cv3.9 : __torch__.ultralytics.nn.modules.conv.Conv = prim::GetAttr[name=\"cv3\"](%_0.49)\n",
            "\t\t    %cv2.41 : __torch__.ultralytics.nn.modules.conv.Conv = prim::GetAttr[name=\"cv2\"](%_0.49)\n",
            "\t\t    %m.25 : __torch__.torch.nn.modules.container.Sequential = prim::GetAttr[name=\"m\"](%_0.49)\n",
            "\t\t    %cv1.39 : __torch__.ultralytics.nn.modules.conv.Conv = prim::GetAttr[name=\"cv1\"](%_0.49)\n",
            "\t\t    %conv.175 : __torch__.torch.nn.modules.conv.Conv2d = prim::GetAttr[name=\"conv\"](%cv1.39)\n",
            "\t\t    %bias.413 : Tensor = prim::GetAttr[name=\"bias\"](%conv.175)\n",
            "\t\t    %weight.415 : Tensor = prim::GetAttr[name=\"weight\"](%conv.175)\n",
            "\t\t    %1516 : int[] = prim::ListConstruct(%1492, %1492), scope: __module.model.20/__module.model.20.m.0/__module.model.20.m.0.cv1/__module.model.20.m.0.cv1.conv\n",
            "\t\t    %1517 : int[] = prim::ListConstruct(%1491, %1491), scope: __module.model.20/__module.model.20.m.0/__module.model.20.m.0.cv1/__module.model.20.m.0.cv1.conv\n",
            "\t\t    %1518 : int[] = prim::ListConstruct(%1492, %1492), scope: __module.model.20/__module.model.20.m.0/__module.model.20.m.0.cv1/__module.model.20.m.0.cv1.conv\n",
            "\t\t    %1519 : int[] = prim::ListConstruct(%1491, %1491), scope: __module.model.20/__module.model.20.m.0/__module.model.20.m.0.cv1/__module.model.20.m.0.cv1.conv\n",
            "\t\t    %input.267 : Tensor = aten::_convolution(%input.265, %weight.415, %bias.413, %1516, %1517, %1518, %1490, %1519, %1492, %1490, %1489, %1489, %1489), scope: __module.model.20/__module.model.20.m.0/__module.model.20.m.0.cv1/__module.model.20.m.0.cv1.conv # /usr/local/lib/python3.11/dist-packages/torch/nn/modules/conv.py:549:0\n",
            "\t\t    %input.269 : Tensor = aten::silu_(%input.267), scope: __module.model.20/__module.model.20.m.0/__module.model.20.m.0.cv1/__module.model.21.cv3.2.1.1.act # /usr/local/lib/python3.11/dist-packages/torch/nn/functional.py:2379:0\n",
            "\t\t    %_1.41 : __torch__.ultralytics.nn.modules.block.Bottleneck = prim::GetAttr[name=\"1\"](%m.25)\n",
            "\t\t    %_0.47 : __torch__.ultralytics.nn.modules.block.Bottleneck = prim::GetAttr[name=\"0\"](%m.25)\n",
            "\t\t    %cv2.37 : __torch__.ultralytics.nn.modules.conv.Conv = prim::GetAttr[name=\"cv2\"](%_0.47)\n",
            "\t\t    %cv1.41 : __torch__.ultralytics.nn.modules.conv.Conv = prim::GetAttr[name=\"cv1\"](%_0.47)\n",
            "\t\t    %conv.177 : __torch__.torch.nn.modules.conv.Conv2d = prim::GetAttr[name=\"conv\"](%cv1.41)\n",
            "\t\t    %bias.415 : Tensor = prim::GetAttr[name=\"bias\"](%conv.177)\n",
            "\t\t    %weight.417 : Tensor = prim::GetAttr[name=\"weight\"](%conv.177)\n",
            "\t\t    %1529 : int[] = prim::ListConstruct(%1492, %1492), scope: __module.model.20/__module.model.20.m.0/__module.model.20.m.0.m/__module.model.20.m.0.m.0/__module.model.20.m.0.m.0.cv1/__module.model.20.m.0.m.0.cv1.conv\n",
            "\t\t    %1530 : int[] = prim::ListConstruct(%1492, %1492), scope: __module.model.20/__module.model.20.m.0/__module.model.20.m.0.m/__module.model.20.m.0.m.0/__module.model.20.m.0.m.0.cv1/__module.model.20.m.0.m.0.cv1.conv\n",
            "\t\t    %1531 : int[] = prim::ListConstruct(%1492, %1492), scope: __module.model.20/__module.model.20.m.0/__module.model.20.m.0.m/__module.model.20.m.0.m.0/__module.model.20.m.0.m.0.cv1/__module.model.20.m.0.m.0.cv1.conv\n",
            "\t\t    %1532 : int[] = prim::ListConstruct(%1491, %1491), scope: __module.model.20/__module.model.20.m.0/__module.model.20.m.0.m/__module.model.20.m.0.m.0/__module.model.20.m.0.m.0.cv1/__module.model.20.m.0.m.0.cv1.conv\n",
            "\t\t    %input.271 : Tensor = aten::_convolution(%input.269, %weight.417, %bias.415, %1529, %1530, %1531, %1490, %1532, %1492, %1490, %1489, %1489, %1489), scope: __module.model.20/__module.model.20.m.0/__module.model.20.m.0.m/__module.model.20.m.0.m.0/__module.model.20.m.0.m.0.cv1/__module.model.20.m.0.m.0.cv1.conv # /usr/local/lib/python3.11/dist-packages/torch/nn/modules/conv.py:549:0\n",
            "\t\t    %input.273 : Tensor = aten::silu_(%input.271), scope: __module.model.20/__module.model.20.m.0/__module.model.20.m.0.m/__module.model.20.m.0.m.0/__module.model.20.m.0.m.0.cv1/__module.model.21.cv3.2.1.1.act # /usr/local/lib/python3.11/dist-packages/torch/nn/functional.py:2379:0\n",
            "\t\t    %conv.179 : __torch__.torch.nn.modules.conv.Conv2d = prim::GetAttr[name=\"conv\"](%cv2.37)\n",
            "\t\t    %bias.417 : Tensor = prim::GetAttr[name=\"bias\"](%conv.179)\n",
            "\t\t    %weight.419 : Tensor = prim::GetAttr[name=\"weight\"](%conv.179)\n",
            "\t\t    %1538 : int[] = prim::ListConstruct(%1492, %1492), scope: __module.model.20/__module.model.20.m.0/__module.model.20.m.0.m/__module.model.20.m.0.m.0/__module.model.20.m.0.m.0.cv2/__module.model.20.m.0.m.0.cv2.conv\n",
            "\t\t    %1539 : int[] = prim::ListConstruct(%1492, %1492), scope: __module.model.20/__module.model.20.m.0/__module.model.20.m.0.m/__module.model.20.m.0.m.0/__module.model.20.m.0.m.0.cv2/__module.model.20.m.0.m.0.cv2.conv\n",
            "\t\t    %1540 : int[] = prim::ListConstruct(%1492, %1492), scope: __module.model.20/__module.model.20.m.0/__module.model.20.m.0.m/__module.model.20.m.0.m.0/__module.model.20.m.0.m.0.cv2/__module.model.20.m.0.m.0.cv2.conv\n",
            "\t\t    %1541 : int[] = prim::ListConstruct(%1491, %1491), scope: __module.model.20/__module.model.20.m.0/__module.model.20.m.0.m/__module.model.20.m.0.m.0/__module.model.20.m.0.m.0.cv2/__module.model.20.m.0.m.0.cv2.conv\n",
            "\t\t    %input.275 : Tensor = aten::_convolution(%input.273, %weight.419, %bias.417, %1538, %1539, %1540, %1490, %1541, %1492, %1490, %1489, %1489, %1489), scope: __module.model.20/__module.model.20.m.0/__module.model.20.m.0.m/__module.model.20.m.0.m.0/__module.model.20.m.0.m.0.cv2/__module.model.20.m.0.m.0.cv2.conv # /usr/local/lib/python3.11/dist-packages/torch/nn/modules/conv.py:549:0\n",
            "\t\t    %1543 : Tensor = aten::silu_(%input.275), scope: __module.model.20/__module.model.20.m.0/__module.model.20.m.0.m/__module.model.20.m.0.m.0/__module.model.20.m.0.m.0.cv2/__module.model.21.cv3.2.1.1.act # /usr/local/lib/python3.11/dist-packages/torch/nn/functional.py:2379:0\n",
            "\t\t    %input.277 : Tensor = aten::add(%input.269, %1543, %1492), scope: __module.model.20/__module.model.20.m.0/__module.model.20.m.0.m/__module.model.20.m.0.m.0 # /content/yolov12/ultralytics/nn/modules/block.py:348:0\n",
            "\t\t    %cv2.39 : __torch__.ultralytics.nn.modules.conv.Conv = prim::GetAttr[name=\"cv2\"](%_1.41)\n",
            "\t\t    %cv1 : __torch__.ultralytics.nn.modules.conv.Conv = prim::GetAttr[name=\"cv1\"](%_1.41)\n",
            "\t\t    %conv.181 : __torch__.torch.nn.modules.conv.Conv2d = prim::GetAttr[name=\"conv\"](%cv1)\n",
            "\t\t    %bias.419 : Tensor = prim::GetAttr[name=\"bias\"](%conv.181)\n",
            "\t\t    %weight.421 : Tensor = prim::GetAttr[name=\"weight\"](%conv.181)\n",
            "\t\t    %1550 : int[] = prim::ListConstruct(%1492, %1492), scope: __module.model.20/__module.model.20.m.0/__module.model.20.m.0.m/__module.model.20.m.0.m.1/__module.model.20.m.0.m.1.cv1/__module.model.20.m.0.m.1.cv1.conv\n",
            "\t\t    %1551 : int[] = prim::ListConstruct(%1492, %1492), scope: __module.model.20/__module.model.20.m.0/__module.model.20.m.0.m/__module.model.20.m.0.m.1/__module.model.20.m.0.m.1.cv1/__module.model.20.m.0.m.1.cv1.conv\n",
            "\t\t    %1552 : int[] = prim::ListConstruct(%1492, %1492), scope: __module.model.20/__module.model.20.m.0/__module.model.20.m.0.m/__module.model.20.m.0.m.1/__module.model.20.m.0.m.1.cv1/__module.model.20.m.0.m.1.cv1.conv\n",
            "\t\t    %1553 : int[] = prim::ListConstruct(%1491, %1491), scope: __module.model.20/__module.model.20.m.0/__module.model.20.m.0.m/__module.model.20.m.0.m.1/__module.model.20.m.0.m.1.cv1/__module.model.20.m.0.m.1.cv1.conv\n",
            "\t\t    %input.279 : Tensor = aten::_convolution(%input.277, %weight.421, %bias.419, %1550, %1551, %1552, %1490, %1553, %1492, %1490, %1489, %1489, %1489), scope: __module.model.20/__module.model.20.m.0/__module.model.20.m.0.m/__module.model.20.m.0.m.1/__module.model.20.m.0.m.1.cv1/__module.model.20.m.0.m.1.cv1.conv # /usr/local/lib/python3.11/dist-packages/torch/nn/modules/conv.py:549:0\n",
            "\t\t    %input.281 : Tensor = aten::silu_(%input.279), scope: __module.model.20/__module.model.20.m.0/__module.model.20.m.0.m/__module.model.20.m.0.m.1/__module.model.20.m.0.m.1.cv1/__module.model.21.cv3.2.1.1.act # /usr/local/lib/python3.11/dist-packages/torch/nn/functional.py:2379:0\n",
            "\t\t    %conv.183 : __torch__.torch.nn.modules.conv.Conv2d = prim::GetAttr[name=\"conv\"](%cv2.39)\n",
            "\t\t    %bias.421 : Tensor = prim::GetAttr[name=\"bias\"](%conv.183)\n",
            "\t\t    %weight.423 : Tensor = prim::GetAttr[name=\"weight\"](%conv.183)\n",
            "\t\t    %1559 : int[] = prim::ListConstruct(%1492, %1492), scope: __module.model.20/__module.model.20.m.0/__module.model.20.m.0.m/__module.model.20.m.0.m.1/__module.model.20.m.0.m.1.cv2/__module.model.20.m.0.m.1.cv2.conv\n",
            "\t\t    %1560 : int[] = prim::ListConstruct(%1492, %1492), scope: __module.model.20/__module.model.20.m.0/__module.model.20.m.0.m/__module.model.20.m.0.m.1/__module.model.20.m.0.m.1.cv2/__module.model.20.m.0.m.1.cv2.conv\n",
            "\t\t    %1561 : int[] = prim::ListConstruct(%1492, %1492), scope: __module.model.20/__module.model.20.m.0/__module.model.20.m.0.m/__module.model.20.m.0.m.1/__module.model.20.m.0.m.1.cv2/__module.model.20.m.0.m.1.cv2.conv\n",
            "\t\t    %1562 : int[] = prim::ListConstruct(%1491, %1491), scope: __module.model.20/__module.model.20.m.0/__module.model.20.m.0.m/__module.model.20.m.0.m.1/__module.model.20.m.0.m.1.cv2/__module.model.20.m.0.m.1.cv2.conv\n",
            "\t\t    %input.283 : Tensor = aten::_convolution(%input.281, %weight.423, %bias.421, %1559, %1560, %1561, %1490, %1562, %1492, %1490, %1489, %1489, %1489), scope: __module.model.20/__module.model.20.m.0/__module.model.20.m.0.m/__module.model.20.m.0.m.1/__module.model.20.m.0.m.1.cv2/__module.model.20.m.0.m.1.cv2.conv # /usr/local/lib/python3.11/dist-packages/torch/nn/modules/conv.py:549:0\n",
            "\t\t    %1564 : Tensor = aten::silu_(%input.283), scope: __module.model.20/__module.model.20.m.0/__module.model.20.m.0.m/__module.model.20.m.0.m.1/__module.model.20.m.0.m.1.cv2/__module.model.21.cv3.2.1.1.act # /usr/local/lib/python3.11/dist-packages/torch/nn/functional.py:2379:0\n",
            "\t\t    %1565 : Tensor = aten::add(%input.277, %1564, %1492), scope: __module.model.20/__module.model.20.m.0/__module.model.20.m.0.m/__module.model.20.m.0.m.1 # /content/yolov12/ultralytics/nn/modules/block.py:348:0\n",
            "\t\t    %conv.185 : __torch__.torch.nn.modules.conv.Conv2d = prim::GetAttr[name=\"conv\"](%cv2.41)\n",
            "\t\t    %bias.423 : Tensor = prim::GetAttr[name=\"bias\"](%conv.185)\n",
            "\t\t    %weight.425 : Tensor = prim::GetAttr[name=\"weight\"](%conv.185)\n",
            "\t\t    %1569 : int[] = prim::ListConstruct(%1492, %1492), scope: __module.model.20/__module.model.20.m.0/__module.model.20.m.0.cv2/__module.model.20.m.0.cv2.conv\n",
            "\t\t    %1570 : int[] = prim::ListConstruct(%1491, %1491), scope: __module.model.20/__module.model.20.m.0/__module.model.20.m.0.cv2/__module.model.20.m.0.cv2.conv\n",
            "\t\t    %1571 : int[] = prim::ListConstruct(%1492, %1492), scope: __module.model.20/__module.model.20.m.0/__module.model.20.m.0.cv2/__module.model.20.m.0.cv2.conv\n",
            "\t\t    %1572 : int[] = prim::ListConstruct(%1491, %1491), scope: __module.model.20/__module.model.20.m.0/__module.model.20.m.0.cv2/__module.model.20.m.0.cv2.conv\n",
            "\t\t    %input.285 : Tensor = aten::_convolution(%input.265, %weight.425, %bias.423, %1569, %1570, %1571, %1490, %1572, %1492, %1490, %1489, %1489, %1489), scope: __module.model.20/__module.model.20.m.0/__module.model.20.m.0.cv2/__module.model.20.m.0.cv2.conv # /usr/local/lib/python3.11/dist-packages/torch/nn/modules/conv.py:549:0\n",
            "\t\t    %1574 : Tensor = aten::silu_(%input.285), scope: __module.model.20/__module.model.20.m.0/__module.model.20.m.0.cv2/__module.model.21.cv3.2.1.1.act # /usr/local/lib/python3.11/dist-packages/torch/nn/functional.py:2379:0\n",
            "\t\t    %1575 : Tensor[] = prim::ListConstruct(%1565, %1574), scope: __module.model.20/__module.model.20.m.0\n",
            "\t\t    %input.287 : Tensor = aten::cat(%1575, %1492), scope: __module.model.20/__module.model.20.m.0 # /content/yolov12/ultralytics/nn/modules/block.py:264:0\n",
            "\t\t    %conv.187 : __torch__.torch.nn.modules.conv.Conv2d = prim::GetAttr[name=\"conv\"](%cv3.9)\n",
            "\t\t    %bias.425 : Tensor = prim::GetAttr[name=\"bias\"](%conv.187)\n",
            "\t\t    %weight.427 : Tensor = prim::GetAttr[name=\"weight\"](%conv.187)\n",
            "\t\t    %1580 : int[] = prim::ListConstruct(%1492, %1492), scope: __module.model.20/__module.model.20.m.0/__module.model.20.m.0.cv3/__module.model.20.m.0.cv3.conv\n",
            "\t\t    %1581 : int[] = prim::ListConstruct(%1491, %1491), scope: __module.model.20/__module.model.20.m.0/__module.model.20.m.0.cv3/__module.model.20.m.0.cv3.conv\n",
            "\t\t    %1582 : int[] = prim::ListConstruct(%1492, %1492), scope: __module.model.20/__module.model.20.m.0/__module.model.20.m.0.cv3/__module.model.20.m.0.cv3.conv\n",
            "\t\t    %1583 : int[] = prim::ListConstruct(%1491, %1491), scope: __module.model.20/__module.model.20.m.0/__module.model.20.m.0.cv3/__module.model.20.m.0.cv3.conv\n",
            "\t\t    %input.289 : Tensor = aten::_convolution(%input.287, %weight.427, %bias.425, %1580, %1581, %1582, %1490, %1583, %1492, %1490, %1489, %1489, %1489), scope: __module.model.20/__module.model.20.m.0/__module.model.20.m.0.cv3/__module.model.20.m.0.cv3.conv # /usr/local/lib/python3.11/dist-packages/torch/nn/modules/conv.py:549:0\n",
            "\t\t    %1585 : Tensor = aten::silu_(%input.289), scope: __module.model.20/__module.model.20.m.0/__module.model.20.m.0.cv3/__module.model.21.cv3.2.1.1.act # /usr/local/lib/python3.11/dist-packages/torch/nn/functional.py:2379:0\n",
            "\t\t    %1586 : Tensor[] = prim::ListConstruct(%1507, %input.265, %1585), scope: __module.model.20\n",
            "\t\t    %input.291 : Tensor = aten::cat(%1586, %1492), scope: __module.model.20 # /content/yolov12/ultralytics/nn/modules/block.py:240:0\n",
            "\t\t    %conv.189 : __torch__.torch.nn.modules.conv.Conv2d = prim::GetAttr[name=\"conv\"](%cv2.43)\n",
            "\t\t    %bias.427 : Tensor = prim::GetAttr[name=\"bias\"](%conv.189)\n",
            "\t\t    %weight.429 : Tensor = prim::GetAttr[name=\"weight\"](%conv.189)\n",
            "\t\t    %1591 : int[] = prim::ListConstruct(%1492, %1492), scope: __module.model.20/__module.model.20.cv2/__module.model.20.cv2.conv\n",
            "\t\t    %1592 : int[] = prim::ListConstruct(%1491, %1491), scope: __module.model.20/__module.model.20.cv2/__module.model.20.cv2.conv\n",
            "\t\t    %1593 : int[] = prim::ListConstruct(%1492, %1492), scope: __module.model.20/__module.model.20.cv2/__module.model.20.cv2.conv\n",
            "\t\t    %1594 : int[] = prim::ListConstruct(%1491, %1491), scope: __module.model.20/__module.model.20.cv2/__module.model.20.cv2.conv\n",
            "\t\t    %input.293 : Tensor = aten::_convolution(%input.291, %weight.429, %bias.427, %1591, %1592, %1593, %1490, %1594, %1492, %1490, %1489, %1489, %1489), scope: __module.model.20/__module.model.20.cv2/__module.model.20.cv2.conv # /usr/local/lib/python3.11/dist-packages/torch/nn/modules/conv.py:549:0\n",
            "\t\t    %input.343 : Tensor = aten::silu_(%input.293), scope: __module.model.20/__module.model.20.cv2/__module.model.21.cv3.2.1.1.act # /usr/local/lib/python3.11/dist-packages/torch/nn/functional.py:2379:0\n",
            "\t\t    %1597 : Tensor = prim::Constant[value=<Tensor>](), scope: __module.model.21 # /content/yolov12/ultralytics/nn/modules/head.py:129:0\n",
            "\t\t    %1598 : Tensor = prim::Constant[value={2}](), scope: __module.model.21 # /content/yolov12/ultralytics/utils/tal.py:354:0\n",
            "\t\t    %1599 : Tensor = prim::Constant[value=<Tensor>](), scope: __module.model.21 # /content/yolov12/ultralytics/nn/modules/head.py:129:0\n",
            "\t\t    %1600 : int = prim::Constant[value=4](), scope: __module.model.21/__module.model.21.dfl # /content/yolov12/ultralytics/nn/modules/block.py:74:0\n",
            "\t\t    %1601 : int = prim::Constant[value=16](), scope: __module.model.21/__module.model.21.dfl # /content/yolov12/ultralytics/nn/modules/block.py:74:0\n",
            "\t\t    %1602 : NoneType = prim::Constant(), scope: __module.model.21/__module.model.21.dfl\n",
            "\t\t    %1603 : int = prim::Constant[value=14](), scope: __module.model.21 # /usr/local/lib/python3.11/dist-packages/torch/_tensor.py:983:0\n",
            "\t\t    %1604 : int = prim::Constant[value=64](), scope: __module.model.21 # /usr/local/lib/python3.11/dist-packages/torch/_tensor.py:983:0\n",
            "\t\t    %1605 : int = prim::Constant[value=2](), scope: __module.model.21 # /content/yolov12/ultralytics/nn/modules/head.py:104:0\n",
            "\t\t    %1606 : int = prim::Constant[value=-1](), scope: __module.model.21 # /content/yolov12/ultralytics/nn/modules/head.py:104:0\n",
            "\t\t    %1607 : int = prim::Constant[value=78](), scope: __module.model.21 # /content/yolov12/ultralytics/nn/modules/head.py:104:0\n",
            "\t\t    %1608 : int = prim::Constant[value=512](), scope: __module.model.21/__module.model.21.cv3.2/__module.model.21.cv3.2.0/__module.model.21.cv3.2.0.0/__module.model.21.cv3.2.0.0.conv # /usr/local/lib/python3.11/dist-packages/torch/nn/modules/conv.py:549:0\n",
            "\t\t    %1609 : int = prim::Constant[value=256](), scope: __module.model.21/__module.model.21.cv3.1/__module.model.21.cv3.1.0/__module.model.21.cv3.1.0.0/__module.model.21.cv3.1.0.0.conv # /usr/local/lib/python3.11/dist-packages/torch/nn/modules/conv.py:549:0\n",
            "\t\t    %1610 : int = prim::Constant[value=128](), scope: __module.model.21/__module.model.21.cv3.0/__module.model.21.cv3.0.0/__module.model.21.cv3.0.0.0/__module.model.21.cv3.0.0.0.conv # /usr/local/lib/python3.11/dist-packages/torch/nn/modules/conv.py:549:0\n",
            "\t\t    %1611 : int = prim::Constant[value=1](), scope: __module.model.21/__module.model.21.cv2.0/__module.model.21.cv2.0.0/__module.model.21.cv2.0.0.conv # /usr/local/lib/python3.11/dist-packages/torch/nn/modules/conv.py:549:0\n",
            "\t\t    %1612 : bool = prim::Constant[value=0](), scope: __module.model.21/__module.model.21.cv2.0/__module.model.21.cv2.0.0/__module.model.21.cv2.0.0.conv # /usr/local/lib/python3.11/dist-packages/torch/nn/modules/conv.py:549:0\n",
            "\t\t    %1613 : int = prim::Constant[value=0](), scope: __module.model.21/__module.model.21.cv2.0/__module.model.21.cv2.0.0/__module.model.21.cv2.0.0.conv # /usr/local/lib/python3.11/dist-packages/torch/nn/modules/conv.py:549:0\n",
            "\t\t    %1614 : bool = prim::Constant[value=1](), scope: __module.model.21/__module.model.21.cv2.0/__module.model.21.cv2.0.0/__module.model.21.cv2.0.0.conv # /usr/local/lib/python3.11/dist-packages/torch/nn/modules/conv.py:549:0\n",
            "\t\t    %dfl : __torch__.ultralytics.nn.modules.block.DFL = prim::GetAttr[name=\"dfl\"](%_21)\n",
            "\t\t    %cv3 : __torch__.torch.nn.modules.container.ModuleList = prim::GetAttr[name=\"cv3\"](%_21)\n",
            "\t\t    %_2 : __torch__.torch.nn.modules.container.Sequential = prim::GetAttr[name=\"2\"](%cv3)\n",
            "\t\t    %cv2 : __torch__.torch.nn.modules.container.ModuleList = prim::GetAttr[name=\"cv2\"](%_21)\n",
            "\t\t    %_2.17 : __torch__.torch.nn.modules.container.Sequential = prim::GetAttr[name=\"2\"](%cv2)\n",
            "\t\t    %cv3.15 : __torch__.torch.nn.modules.container.ModuleList = prim::GetAttr[name=\"cv3\"](%_21)\n",
            "\t\t    %_1.65 : __torch__.torch.nn.modules.container.Sequential = prim::GetAttr[name=\"1\"](%cv3.15)\n",
            "\t\t    %cv2.47 : __torch__.torch.nn.modules.container.ModuleList = prim::GetAttr[name=\"cv2\"](%_21)\n",
            "\t\t    %_1.57 : __torch__.torch.nn.modules.container.Sequential = prim::GetAttr[name=\"1\"](%cv2.47)\n",
            "\t\t    %cv3.13 : __torch__.torch.nn.modules.container.ModuleList = prim::GetAttr[name=\"cv3\"](%_21)\n",
            "\t\t    %_0.61 : __torch__.torch.nn.modules.container.Sequential = prim::GetAttr[name=\"0\"](%cv3.13)\n",
            "\t\t    %cv2.45 : __torch__.torch.nn.modules.container.ModuleList = prim::GetAttr[name=\"cv2\"](%_21)\n",
            "\t\t    %_0.53 : __torch__.torch.nn.modules.container.Sequential = prim::GetAttr[name=\"0\"](%cv2.45)\n",
            "\t\t    %_2.5 : __torch__.torch.nn.modules.conv.Conv2d = prim::GetAttr[name=\"2\"](%_0.53)\n",
            "\t\t    %_1.43 : __torch__.ultralytics.nn.modules.conv.Conv = prim::GetAttr[name=\"1\"](%_0.53)\n",
            "\t\t    %_0.51 : __torch__.ultralytics.nn.modules.conv.Conv = prim::GetAttr[name=\"0\"](%_0.53)\n",
            "\t\t    %conv.191 : __torch__.torch.nn.modules.conv.Conv2d = prim::GetAttr[name=\"conv\"](%_0.51)\n",
            "\t\t    %bias.429 : Tensor = prim::GetAttr[name=\"bias\"](%conv.191)\n",
            "\t\t    %weight.431 : Tensor = prim::GetAttr[name=\"weight\"](%conv.191)\n",
            "\t\t    %1634 : int[] = prim::ListConstruct(%1611, %1611), scope: __module.model.21/__module.model.21.cv2.0/__module.model.21.cv2.0.0/__module.model.21.cv2.0.0.conv\n",
            "\t\t    %1635 : int[] = prim::ListConstruct(%1611, %1611), scope: __module.model.21/__module.model.21.cv2.0/__module.model.21.cv2.0.0/__module.model.21.cv2.0.0.conv\n",
            "\t\t    %1636 : int[] = prim::ListConstruct(%1611, %1611), scope: __module.model.21/__module.model.21.cv2.0/__module.model.21.cv2.0.0/__module.model.21.cv2.0.0.conv\n",
            "\t\t    %1637 : int[] = prim::ListConstruct(%1613, %1613), scope: __module.model.21/__module.model.21.cv2.0/__module.model.21.cv2.0.0/__module.model.21.cv2.0.0.conv\n",
            "\t\t    %input.295 : Tensor = aten::_convolution(%input.219, %weight.431, %bias.429, %1634, %1635, %1636, %1612, %1637, %1611, %1612, %1614, %1614, %1614), scope: __module.model.21/__module.model.21.cv2.0/__module.model.21.cv2.0.0/__module.model.21.cv2.0.0.conv # /usr/local/lib/python3.11/dist-packages/torch/nn/modules/conv.py:549:0\n",
            "\t\t    %input.297 : Tensor = aten::silu_(%input.295), scope: __module.model.21/__module.model.21.cv2.0/__module.model.21.cv2.0.0/__module.model.21.cv3.2.1.1.act # /usr/local/lib/python3.11/dist-packages/torch/nn/functional.py:2379:0\n",
            "\t\t    %conv.193 : __torch__.torch.nn.modules.conv.Conv2d = prim::GetAttr[name=\"conv\"](%_1.43)\n",
            "\t\t    %bias.431 : Tensor = prim::GetAttr[name=\"bias\"](%conv.193)\n",
            "\t\t    %weight.433 : Tensor = prim::GetAttr[name=\"weight\"](%conv.193)\n",
            "\t\t    %1643 : int[] = prim::ListConstruct(%1611, %1611), scope: __module.model.21/__module.model.21.cv2.0/__module.model.21.cv2.0.1/__module.model.21.cv2.0.1.conv\n",
            "\t\t    %1644 : int[] = prim::ListConstruct(%1611, %1611), scope: __module.model.21/__module.model.21.cv2.0/__module.model.21.cv2.0.1/__module.model.21.cv2.0.1.conv\n",
            "\t\t    %1645 : int[] = prim::ListConstruct(%1611, %1611), scope: __module.model.21/__module.model.21.cv2.0/__module.model.21.cv2.0.1/__module.model.21.cv2.0.1.conv\n",
            "\t\t    %1646 : int[] = prim::ListConstruct(%1613, %1613), scope: __module.model.21/__module.model.21.cv2.0/__module.model.21.cv2.0.1/__module.model.21.cv2.0.1.conv\n",
            "\t\t    %input.299 : Tensor = aten::_convolution(%input.297, %weight.433, %bias.431, %1643, %1644, %1645, %1612, %1646, %1611, %1612, %1614, %1614, %1614), scope: __module.model.21/__module.model.21.cv2.0/__module.model.21.cv2.0.1/__module.model.21.cv2.0.1.conv # /usr/local/lib/python3.11/dist-packages/torch/nn/modules/conv.py:549:0\n",
            "\t\t    %input.301 : Tensor = aten::silu_(%input.299), scope: __module.model.21/__module.model.21.cv2.0/__module.model.21.cv2.0.1/__module.model.21.cv3.2.1.1.act # /usr/local/lib/python3.11/dist-packages/torch/nn/functional.py:2379:0\n",
            "\t\t    %bias.433 : Tensor = prim::GetAttr[name=\"bias\"](%_2.5)\n",
            "\t\t    %weight.435 : Tensor = prim::GetAttr[name=\"weight\"](%_2.5)\n",
            "\t\t    %1651 : int[] = prim::ListConstruct(%1611, %1611), scope: __module.model.21/__module.model.21.cv2.0/__module.model.21.cv2.0.2\n",
            "\t\t    %1652 : int[] = prim::ListConstruct(%1613, %1613), scope: __module.model.21/__module.model.21.cv2.0/__module.model.21.cv2.0.2\n",
            "\t\t    %1653 : int[] = prim::ListConstruct(%1611, %1611), scope: __module.model.21/__module.model.21.cv2.0/__module.model.21.cv2.0.2\n",
            "\t\t    %1654 : int[] = prim::ListConstruct(%1613, %1613), scope: __module.model.21/__module.model.21.cv2.0/__module.model.21.cv2.0.2\n",
            "\t\t    %1655 : Tensor = aten::_convolution(%input.301, %weight.435, %bias.433, %1651, %1652, %1653, %1612, %1654, %1611, %1612, %1614, %1614, %1614), scope: __module.model.21/__module.model.21.cv2.0/__module.model.21.cv2.0.2 # /usr/local/lib/python3.11/dist-packages/torch/nn/modules/conv.py:549:0\n",
            "\t\t    %_2.9 : __torch__.torch.nn.modules.conv.Conv2d = prim::GetAttr[name=\"2\"](%_0.61)\n",
            "\t\t    %_1.53 : __torch__.torch.nn.modules.container.Sequential = prim::GetAttr[name=\"1\"](%_0.61)\n",
            "\t\t    %_0.57 : __torch__.torch.nn.modules.container.Sequential = prim::GetAttr[name=\"0\"](%_0.61)\n",
            "\t\t    %_1.49 : __torch__.ultralytics.nn.modules.conv.Conv = prim::GetAttr[name=\"1\"](%_0.57)\n",
            "\t\t    %_0.55 : __torch__.ultralytics.nn.modules.conv.DWConv = prim::GetAttr[name=\"0\"](%_0.57)\n",
            "\t\t    %conv.195 : __torch__.torch.nn.modules.conv.Conv2d = prim::GetAttr[name=\"conv\"](%_0.55)\n",
            "\t\t    %bias.435 : Tensor = prim::GetAttr[name=\"bias\"](%conv.195)\n",
            "\t\t    %weight.437 : Tensor = prim::GetAttr[name=\"weight\"](%conv.195)\n",
            "\t\t    %1664 : int[] = prim::ListConstruct(%1611, %1611), scope: __module.model.21/__module.model.21.cv3.0/__module.model.21.cv3.0.0/__module.model.21.cv3.0.0.0/__module.model.21.cv3.0.0.0.conv\n",
            "\t\t    %1665 : int[] = prim::ListConstruct(%1611, %1611), scope: __module.model.21/__module.model.21.cv3.0/__module.model.21.cv3.0.0/__module.model.21.cv3.0.0.0/__module.model.21.cv3.0.0.0.conv\n",
            "\t\t    %1666 : int[] = prim::ListConstruct(%1611, %1611), scope: __module.model.21/__module.model.21.cv3.0/__module.model.21.cv3.0.0/__module.model.21.cv3.0.0.0/__module.model.21.cv3.0.0.0.conv\n",
            "\t\t    %1667 : int[] = prim::ListConstruct(%1613, %1613), scope: __module.model.21/__module.model.21.cv3.0/__module.model.21.cv3.0.0/__module.model.21.cv3.0.0.0/__module.model.21.cv3.0.0.0.conv\n",
            "\t\t    %input.303 : Tensor = aten::_convolution(%input.219, %weight.437, %bias.435, %1664, %1665, %1666, %1612, %1667, %1610, %1612, %1614, %1614, %1614), scope: __module.model.21/__module.model.21.cv3.0/__module.model.21.cv3.0.0/__module.model.21.cv3.0.0.0/__module.model.21.cv3.0.0.0.conv # /usr/local/lib/python3.11/dist-packages/torch/nn/modules/conv.py:549:0\n",
            "\t\t    %input.305 : Tensor = aten::silu_(%input.303), scope: __module.model.21/__module.model.21.cv3.0/__module.model.21.cv3.0.0/__module.model.21.cv3.0.0.0/__module.model.21.cv3.2.1.1.act # /usr/local/lib/python3.11/dist-packages/torch/nn/functional.py:2379:0\n",
            "\t\t    %conv.197 : __torch__.torch.nn.modules.conv.Conv2d = prim::GetAttr[name=\"conv\"](%_1.49)\n",
            "\t\t    %bias.437 : Tensor = prim::GetAttr[name=\"bias\"](%conv.197)\n",
            "\t\t    %weight.439 : Tensor = prim::GetAttr[name=\"weight\"](%conv.197)\n",
            "\t\t    %1673 : int[] = prim::ListConstruct(%1611, %1611), scope: __module.model.21/__module.model.21.cv3.0/__module.model.21.cv3.0.0/__module.model.21.cv3.0.0.1/__module.model.21.cv3.0.0.1.conv\n",
            "\t\t    %1674 : int[] = prim::ListConstruct(%1613, %1613), scope: __module.model.21/__module.model.21.cv3.0/__module.model.21.cv3.0.0/__module.model.21.cv3.0.0.1/__module.model.21.cv3.0.0.1.conv\n",
            "\t\t    %1675 : int[] = prim::ListConstruct(%1611, %1611), scope: __module.model.21/__module.model.21.cv3.0/__module.model.21.cv3.0.0/__module.model.21.cv3.0.0.1/__module.model.21.cv3.0.0.1.conv\n",
            "\t\t    %1676 : int[] = prim::ListConstruct(%1613, %1613), scope: __module.model.21/__module.model.21.cv3.0/__module.model.21.cv3.0.0/__module.model.21.cv3.0.0.1/__module.model.21.cv3.0.0.1.conv\n",
            "\t\t    %input.307 : Tensor = aten::_convolution(%input.305, %weight.439, %bias.437, %1673, %1674, %1675, %1612, %1676, %1611, %1612, %1614, %1614, %1614), scope: __module.model.21/__module.model.21.cv3.0/__module.model.21.cv3.0.0/__module.model.21.cv3.0.0.1/__module.model.21.cv3.0.0.1.conv # /usr/local/lib/python3.11/dist-packages/torch/nn/modules/conv.py:549:0\n",
            "\t\t    %input.309 : Tensor = aten::silu_(%input.307), scope: __module.model.21/__module.model.21.cv3.0/__module.model.21.cv3.0.0/__module.model.21.cv3.0.0.1/__module.model.21.cv3.2.1.1.act # /usr/local/lib/python3.11/dist-packages/torch/nn/functional.py:2379:0\n",
            "\t\t    %_1.51 : __torch__.ultralytics.nn.modules.conv.Conv = prim::GetAttr[name=\"1\"](%_1.53)\n",
            "\t\t    %_0.59 : __torch__.ultralytics.nn.modules.conv.DWConv = prim::GetAttr[name=\"0\"](%_1.53)\n",
            "\t\t    %conv.199 : __torch__.torch.nn.modules.conv.Conv2d = prim::GetAttr[name=\"conv\"](%_0.59)\n",
            "\t\t    %bias.439 : Tensor = prim::GetAttr[name=\"bias\"](%conv.199)\n",
            "\t\t    %weight.441 : Tensor = prim::GetAttr[name=\"weight\"](%conv.199)\n",
            "\t\t    %1684 : int[] = prim::ListConstruct(%1611, %1611), scope: __module.model.21/__module.model.21.cv3.0/__module.model.21.cv3.0.1/__module.model.21.cv3.0.1.0/__module.model.21.cv3.0.1.0.conv\n",
            "\t\t    %1685 : int[] = prim::ListConstruct(%1611, %1611), scope: __module.model.21/__module.model.21.cv3.0/__module.model.21.cv3.0.1/__module.model.21.cv3.0.1.0/__module.model.21.cv3.0.1.0.conv\n",
            "\t\t    %1686 : int[] = prim::ListConstruct(%1611, %1611), scope: __module.model.21/__module.model.21.cv3.0/__module.model.21.cv3.0.1/__module.model.21.cv3.0.1.0/__module.model.21.cv3.0.1.0.conv\n",
            "\t\t    %1687 : int[] = prim::ListConstruct(%1613, %1613), scope: __module.model.21/__module.model.21.cv3.0/__module.model.21.cv3.0.1/__module.model.21.cv3.0.1.0/__module.model.21.cv3.0.1.0.conv\n",
            "\t\t    %input.311 : Tensor = aten::_convolution(%input.309, %weight.441, %bias.439, %1684, %1685, %1686, %1612, %1687, %1610, %1612, %1614, %1614, %1614), scope: __module.model.21/__module.model.21.cv3.0/__module.model.21.cv3.0.1/__module.model.21.cv3.0.1.0/__module.model.21.cv3.0.1.0.conv # /usr/local/lib/python3.11/dist-packages/torch/nn/modules/conv.py:549:0\n",
            "\t\t    %input.313 : Tensor = aten::silu_(%input.311), scope: __module.model.21/__module.model.21.cv3.0/__module.model.21.cv3.0.1/__module.model.21.cv3.0.1.0/__module.model.21.cv3.2.1.1.act # /usr/local/lib/python3.11/dist-packages/torch/nn/functional.py:2379:0\n",
            "\t\t    %conv.201 : __torch__.torch.nn.modules.conv.Conv2d = prim::GetAttr[name=\"conv\"](%_1.51)\n",
            "\t\t    %bias.441 : Tensor = prim::GetAttr[name=\"bias\"](%conv.201)\n",
            "\t\t    %weight.443 : Tensor = prim::GetAttr[name=\"weight\"](%conv.201)\n",
            "\t\t    %1693 : int[] = prim::ListConstruct(%1611, %1611), scope: __module.model.21/__module.model.21.cv3.0/__module.model.21.cv3.0.1/__module.model.21.cv3.0.1.1/__module.model.21.cv3.0.1.1.conv\n",
            "\t\t    %1694 : int[] = prim::ListConstruct(%1613, %1613), scope: __module.model.21/__module.model.21.cv3.0/__module.model.21.cv3.0.1/__module.model.21.cv3.0.1.1/__module.model.21.cv3.0.1.1.conv\n",
            "\t\t    %1695 : int[] = prim::ListConstruct(%1611, %1611), scope: __module.model.21/__module.model.21.cv3.0/__module.model.21.cv3.0.1/__module.model.21.cv3.0.1.1/__module.model.21.cv3.0.1.1.conv\n",
            "\t\t    %1696 : int[] = prim::ListConstruct(%1613, %1613), scope: __module.model.21/__module.model.21.cv3.0/__module.model.21.cv3.0.1/__module.model.21.cv3.0.1.1/__module.model.21.cv3.0.1.1.conv\n",
            "\t\t    %input.315 : Tensor = aten::_convolution(%input.313, %weight.443, %bias.441, %1693, %1694, %1695, %1612, %1696, %1611, %1612, %1614, %1614, %1614), scope: __module.model.21/__module.model.21.cv3.0/__module.model.21.cv3.0.1/__module.model.21.cv3.0.1.1/__module.model.21.cv3.0.1.1.conv # /usr/local/lib/python3.11/dist-packages/torch/nn/modules/conv.py:549:0\n",
            "\t\t    %input.317 : Tensor = aten::silu_(%input.315), scope: __module.model.21/__module.model.21.cv3.0/__module.model.21.cv3.0.1/__module.model.21.cv3.0.1.1/__module.model.21.cv3.2.1.1.act # /usr/local/lib/python3.11/dist-packages/torch/nn/functional.py:2379:0\n",
            "\t\t    %bias.443 : Tensor = prim::GetAttr[name=\"bias\"](%_2.9)\n",
            "\t\t    %weight.445 : Tensor = prim::GetAttr[name=\"weight\"](%_2.9)\n",
            "\t\t    %1701 : int[] = prim::ListConstruct(%1611, %1611), scope: __module.model.21/__module.model.21.cv3.0/__module.model.21.cv3.0.2\n",
            "\t\t    %1702 : int[] = prim::ListConstruct(%1613, %1613), scope: __module.model.21/__module.model.21.cv3.0/__module.model.21.cv3.0.2\n",
            "\t\t    %1703 : int[] = prim::ListConstruct(%1611, %1611), scope: __module.model.21/__module.model.21.cv3.0/__module.model.21.cv3.0.2\n",
            "\t\t    %1704 : int[] = prim::ListConstruct(%1613, %1613), scope: __module.model.21/__module.model.21.cv3.0/__module.model.21.cv3.0.2\n",
            "\t\t    %1705 : Tensor = aten::_convolution(%input.317, %weight.445, %bias.443, %1701, %1702, %1703, %1612, %1704, %1611, %1612, %1614, %1614, %1614), scope: __module.model.21/__module.model.21.cv3.0/__module.model.21.cv3.0.2 # /usr/local/lib/python3.11/dist-packages/torch/nn/modules/conv.py:549:0\n",
            "\t\t    %1706 : Tensor[] = prim::ListConstruct(%1655, %1705), scope: __module.model.21\n",
            "\t\t    %xi.1 : Tensor = aten::cat(%1706, %1611), scope: __module.model.21 # /content/yolov12/ultralytics/nn/modules/head.py:70:0\n",
            "\t\t    %_2.11 : __torch__.torch.nn.modules.conv.Conv2d = prim::GetAttr[name=\"2\"](%_1.57)\n",
            "\t\t    %_1.55 : __torch__.ultralytics.nn.modules.conv.Conv = prim::GetAttr[name=\"1\"](%_1.57)\n",
            "\t\t    %_0.63 : __torch__.ultralytics.nn.modules.conv.Conv = prim::GetAttr[name=\"0\"](%_1.57)\n",
            "\t\t    %conv.203 : __torch__.torch.nn.modules.conv.Conv2d = prim::GetAttr[name=\"conv\"](%_0.63)\n",
            "\t\t    %bias.445 : Tensor = prim::GetAttr[name=\"bias\"](%conv.203)\n",
            "\t\t    %weight.447 : Tensor = prim::GetAttr[name=\"weight\"](%conv.203)\n",
            "\t\t    %1714 : int[] = prim::ListConstruct(%1611, %1611), scope: __module.model.21/__module.model.21.cv2.1/__module.model.21.cv2.1.0/__module.model.21.cv2.1.0.conv\n",
            "\t\t    %1715 : int[] = prim::ListConstruct(%1611, %1611), scope: __module.model.21/__module.model.21.cv2.1/__module.model.21.cv2.1.0/__module.model.21.cv2.1.0.conv\n",
            "\t\t    %1716 : int[] = prim::ListConstruct(%1611, %1611), scope: __module.model.21/__module.model.21.cv2.1/__module.model.21.cv2.1.0/__module.model.21.cv2.1.0.conv\n",
            "\t\t    %1717 : int[] = prim::ListConstruct(%1613, %1613), scope: __module.model.21/__module.model.21.cv2.1/__module.model.21.cv2.1.0/__module.model.21.cv2.1.0.conv\n",
            "\t\t    %input.319 : Tensor = aten::_convolution(%input.257, %weight.447, %bias.445, %1714, %1715, %1716, %1612, %1717, %1611, %1612, %1614, %1614, %1614), scope: __module.model.21/__module.model.21.cv2.1/__module.model.21.cv2.1.0/__module.model.21.cv2.1.0.conv # /usr/local/lib/python3.11/dist-packages/torch/nn/modules/conv.py:549:0\n",
            "\t\t    %input.321 : Tensor = aten::silu_(%input.319), scope: __module.model.21/__module.model.21.cv2.1/__module.model.21.cv2.1.0/__module.model.21.cv3.2.1.1.act # /usr/local/lib/python3.11/dist-packages/torch/nn/functional.py:2379:0\n",
            "\t\t    %conv.205 : __torch__.torch.nn.modules.conv.Conv2d = prim::GetAttr[name=\"conv\"](%_1.55)\n",
            "\t\t    %bias.447 : Tensor = prim::GetAttr[name=\"bias\"](%conv.205)\n",
            "\t\t    %weight.449 : Tensor = prim::GetAttr[name=\"weight\"](%conv.205)\n",
            "\t\t    %1723 : int[] = prim::ListConstruct(%1611, %1611), scope: __module.model.21/__module.model.21.cv2.1/__module.model.21.cv2.1.1/__module.model.21.cv2.1.1.conv\n",
            "\t\t    %1724 : int[] = prim::ListConstruct(%1611, %1611), scope: __module.model.21/__module.model.21.cv2.1/__module.model.21.cv2.1.1/__module.model.21.cv2.1.1.conv\n",
            "\t\t    %1725 : int[] = prim::ListConstruct(%1611, %1611), scope: __module.model.21/__module.model.21.cv2.1/__module.model.21.cv2.1.1/__module.model.21.cv2.1.1.conv\n",
            "\t\t    %1726 : int[] = prim::ListConstruct(%1613, %1613), scope: __module.model.21/__module.model.21.cv2.1/__module.model.21.cv2.1.1/__module.model.21.cv2.1.1.conv\n",
            "\t\t    %input.323 : Tensor = aten::_convolution(%input.321, %weight.449, %bias.447, %1723, %1724, %1725, %1612, %1726, %1611, %1612, %1614, %1614, %1614), scope: __module.model.21/__module.model.21.cv2.1/__module.model.21.cv2.1.1/__module.model.21.cv2.1.1.conv # /usr/local/lib/python3.11/dist-packages/torch/nn/modules/conv.py:549:0\n",
            "\t\t    %input.325 : Tensor = aten::silu_(%input.323), scope: __module.model.21/__module.model.21.cv2.1/__module.model.21.cv2.1.1/__module.model.21.cv3.2.1.1.act # /usr/local/lib/python3.11/dist-packages/torch/nn/functional.py:2379:0\n",
            "\t\t    %bias.449 : Tensor = prim::GetAttr[name=\"bias\"](%_2.11)\n",
            "\t\t    %weight.451 : Tensor = prim::GetAttr[name=\"weight\"](%_2.11)\n",
            "\t\t    %1731 : int[] = prim::ListConstruct(%1611, %1611), scope: __module.model.21/__module.model.21.cv2.1/__module.model.21.cv2.1.2\n",
            "\t\t    %1732 : int[] = prim::ListConstruct(%1613, %1613), scope: __module.model.21/__module.model.21.cv2.1/__module.model.21.cv2.1.2\n",
            "\t\t    %1733 : int[] = prim::ListConstruct(%1611, %1611), scope: __module.model.21/__module.model.21.cv2.1/__module.model.21.cv2.1.2\n",
            "\t\t    %1734 : int[] = prim::ListConstruct(%1613, %1613), scope: __module.model.21/__module.model.21.cv2.1/__module.model.21.cv2.1.2\n",
            "\t\t    %1735 : Tensor = aten::_convolution(%input.325, %weight.451, %bias.449, %1731, %1732, %1733, %1612, %1734, %1611, %1612, %1614, %1614, %1614), scope: __module.model.21/__module.model.21.cv2.1/__module.model.21.cv2.1.2 # /usr/local/lib/python3.11/dist-packages/torch/nn/modules/conv.py:549:0\n",
            "\t\t    %_2.13 : __torch__.torch.nn.modules.conv.Conv2d = prim::GetAttr[name=\"2\"](%_1.65)\n",
            "\t\t    %_1.63 : __torch__.torch.nn.modules.container.Sequential = prim::GetAttr[name=\"1\"](%_1.65)\n",
            "\t\t    %_0.67 : __torch__.torch.nn.modules.container.Sequential = prim::GetAttr[name=\"0\"](%_1.65)\n",
            "\t\t    %_1.59 : __torch__.ultralytics.nn.modules.conv.Conv = prim::GetAttr[name=\"1\"](%_0.67)\n",
            "\t\t    %_0.65 : __torch__.ultralytics.nn.modules.conv.DWConv = prim::GetAttr[name=\"0\"](%_0.67)\n",
            "\t\t    %conv.207 : __torch__.torch.nn.modules.conv.Conv2d = prim::GetAttr[name=\"conv\"](%_0.65)\n",
            "\t\t    %bias.451 : Tensor = prim::GetAttr[name=\"bias\"](%conv.207)\n",
            "\t\t    %weight.453 : Tensor = prim::GetAttr[name=\"weight\"](%conv.207)\n",
            "\t\t    %1744 : int[] = prim::ListConstruct(%1611, %1611), scope: __module.model.21/__module.model.21.cv3.1/__module.model.21.cv3.1.0/__module.model.21.cv3.1.0.0/__module.model.21.cv3.1.0.0.conv\n",
            "\t\t    %1745 : int[] = prim::ListConstruct(%1611, %1611), scope: __module.model.21/__module.model.21.cv3.1/__module.model.21.cv3.1.0/__module.model.21.cv3.1.0.0/__module.model.21.cv3.1.0.0.conv\n",
            "\t\t    %1746 : int[] = prim::ListConstruct(%1611, %1611), scope: __module.model.21/__module.model.21.cv3.1/__module.model.21.cv3.1.0/__module.model.21.cv3.1.0.0/__module.model.21.cv3.1.0.0.conv\n",
            "\t\t    %1747 : int[] = prim::ListConstruct(%1613, %1613), scope: __module.model.21/__module.model.21.cv3.1/__module.model.21.cv3.1.0/__module.model.21.cv3.1.0.0/__module.model.21.cv3.1.0.0.conv\n",
            "\t\t    %input.327 : Tensor = aten::_convolution(%input.257, %weight.453, %bias.451, %1744, %1745, %1746, %1612, %1747, %1609, %1612, %1614, %1614, %1614), scope: __module.model.21/__module.model.21.cv3.1/__module.model.21.cv3.1.0/__module.model.21.cv3.1.0.0/__module.model.21.cv3.1.0.0.conv # /usr/local/lib/python3.11/dist-packages/torch/nn/modules/conv.py:549:0\n",
            "\t\t    %input.329 : Tensor = aten::silu_(%input.327), scope: __module.model.21/__module.model.21.cv3.1/__module.model.21.cv3.1.0/__module.model.21.cv3.1.0.0/__module.model.21.cv3.2.1.1.act # /usr/local/lib/python3.11/dist-packages/torch/nn/functional.py:2379:0\n",
            "\t\t    %conv.209 : __torch__.torch.nn.modules.conv.Conv2d = prim::GetAttr[name=\"conv\"](%_1.59)\n",
            "\t\t    %bias.453 : Tensor = prim::GetAttr[name=\"bias\"](%conv.209)\n",
            "\t\t    %weight.455 : Tensor = prim::GetAttr[name=\"weight\"](%conv.209)\n",
            "\t\t    %1753 : int[] = prim::ListConstruct(%1611, %1611), scope: __module.model.21/__module.model.21.cv3.1/__module.model.21.cv3.1.0/__module.model.21.cv3.1.0.1/__module.model.21.cv3.1.0.1.conv\n",
            "\t\t    %1754 : int[] = prim::ListConstruct(%1613, %1613), scope: __module.model.21/__module.model.21.cv3.1/__module.model.21.cv3.1.0/__module.model.21.cv3.1.0.1/__module.model.21.cv3.1.0.1.conv\n",
            "\t\t    %1755 : int[] = prim::ListConstruct(%1611, %1611), scope: __module.model.21/__module.model.21.cv3.1/__module.model.21.cv3.1.0/__module.model.21.cv3.1.0.1/__module.model.21.cv3.1.0.1.conv\n",
            "\t\t    %1756 : int[] = prim::ListConstruct(%1613, %1613), scope: __module.model.21/__module.model.21.cv3.1/__module.model.21.cv3.1.0/__module.model.21.cv3.1.0.1/__module.model.21.cv3.1.0.1.conv\n",
            "\t\t    %input.331 : Tensor = aten::_convolution(%input.329, %weight.455, %bias.453, %1753, %1754, %1755, %1612, %1756, %1611, %1612, %1614, %1614, %1614), scope: __module.model.21/__module.model.21.cv3.1/__module.model.21.cv3.1.0/__module.model.21.cv3.1.0.1/__module.model.21.cv3.1.0.1.conv # /usr/local/lib/python3.11/dist-packages/torch/nn/modules/conv.py:549:0\n",
            "\t\t    %input.333 : Tensor = aten::silu_(%input.331), scope: __module.model.21/__module.model.21.cv3.1/__module.model.21.cv3.1.0/__module.model.21.cv3.1.0.1/__module.model.21.cv3.2.1.1.act # /usr/local/lib/python3.11/dist-packages/torch/nn/functional.py:2379:0\n",
            "\t\t    %_1.61 : __torch__.ultralytics.nn.modules.conv.Conv = prim::GetAttr[name=\"1\"](%_1.63)\n",
            "\t\t    %_0.69 : __torch__.ultralytics.nn.modules.conv.DWConv = prim::GetAttr[name=\"0\"](%_1.63)\n",
            "\t\t    %conv.211 : __torch__.torch.nn.modules.conv.Conv2d = prim::GetAttr[name=\"conv\"](%_0.69)\n",
            "\t\t    %bias.455 : Tensor = prim::GetAttr[name=\"bias\"](%conv.211)\n",
            "\t\t    %weight.457 : Tensor = prim::GetAttr[name=\"weight\"](%conv.211)\n",
            "\t\t    %1764 : int[] = prim::ListConstruct(%1611, %1611), scope: __module.model.21/__module.model.21.cv3.1/__module.model.21.cv3.1.1/__module.model.21.cv3.1.1.0/__module.model.21.cv3.1.1.0.conv\n",
            "\t\t    %1765 : int[] = prim::ListConstruct(%1611, %1611), scope: __module.model.21/__module.model.21.cv3.1/__module.model.21.cv3.1.1/__module.model.21.cv3.1.1.0/__module.model.21.cv3.1.1.0.conv\n",
            "\t\t    %1766 : int[] = prim::ListConstruct(%1611, %1611), scope: __module.model.21/__module.model.21.cv3.1/__module.model.21.cv3.1.1/__module.model.21.cv3.1.1.0/__module.model.21.cv3.1.1.0.conv\n",
            "\t\t    %1767 : int[] = prim::ListConstruct(%1613, %1613), scope: __module.model.21/__module.model.21.cv3.1/__module.model.21.cv3.1.1/__module.model.21.cv3.1.1.0/__module.model.21.cv3.1.1.0.conv\n",
            "\t\t    %input.335 : Tensor = aten::_convolution(%input.333, %weight.457, %bias.455, %1764, %1765, %1766, %1612, %1767, %1610, %1612, %1614, %1614, %1614), scope: __module.model.21/__module.model.21.cv3.1/__module.model.21.cv3.1.1/__module.model.21.cv3.1.1.0/__module.model.21.cv3.1.1.0.conv # /usr/local/lib/python3.11/dist-packages/torch/nn/modules/conv.py:549:0\n",
            "\t\t    %input.337 : Tensor = aten::silu_(%input.335), scope: __module.model.21/__module.model.21.cv3.1/__module.model.21.cv3.1.1/__module.model.21.cv3.1.1.0/__module.model.21.cv3.2.1.1.act # /usr/local/lib/python3.11/dist-packages/torch/nn/functional.py:2379:0\n",
            "\t\t    %conv.213 : __torch__.torch.nn.modules.conv.Conv2d = prim::GetAttr[name=\"conv\"](%_1.61)\n",
            "\t\t    %bias.457 : Tensor = prim::GetAttr[name=\"bias\"](%conv.213)\n",
            "\t\t    %weight.459 : Tensor = prim::GetAttr[name=\"weight\"](%conv.213)\n",
            "\t\t    %1773 : int[] = prim::ListConstruct(%1611, %1611), scope: __module.model.21/__module.model.21.cv3.1/__module.model.21.cv3.1.1/__module.model.21.cv3.1.1.1/__module.model.21.cv3.1.1.1.conv\n",
            "\t\t    %1774 : int[] = prim::ListConstruct(%1613, %1613), scope: __module.model.21/__module.model.21.cv3.1/__module.model.21.cv3.1.1/__module.model.21.cv3.1.1.1/__module.model.21.cv3.1.1.1.conv\n",
            "\t\t    %1775 : int[] = prim::ListConstruct(%1611, %1611), scope: __module.model.21/__module.model.21.cv3.1/__module.model.21.cv3.1.1/__module.model.21.cv3.1.1.1/__module.model.21.cv3.1.1.1.conv\n",
            "\t\t    %1776 : int[] = prim::ListConstruct(%1613, %1613), scope: __module.model.21/__module.model.21.cv3.1/__module.model.21.cv3.1.1/__module.model.21.cv3.1.1.1/__module.model.21.cv3.1.1.1.conv\n",
            "\t\t    %input.339 : Tensor = aten::_convolution(%input.337, %weight.459, %bias.457, %1773, %1774, %1775, %1612, %1776, %1611, %1612, %1614, %1614, %1614), scope: __module.model.21/__module.model.21.cv3.1/__module.model.21.cv3.1.1/__module.model.21.cv3.1.1.1/__module.model.21.cv3.1.1.1.conv # /usr/local/lib/python3.11/dist-packages/torch/nn/modules/conv.py:549:0\n",
            "\t\t    %input.341 : Tensor = aten::silu_(%input.339), scope: __module.model.21/__module.model.21.cv3.1/__module.model.21.cv3.1.1/__module.model.21.cv3.1.1.1/__module.model.21.cv3.2.1.1.act # /usr/local/lib/python3.11/dist-packages/torch/nn/functional.py:2379:0\n",
            "\t\t    %bias.459 : Tensor = prim::GetAttr[name=\"bias\"](%_2.13)\n",
            "\t\t    %weight.461 : Tensor = prim::GetAttr[name=\"weight\"](%_2.13)\n",
            "\t\t    %1781 : int[] = prim::ListConstruct(%1611, %1611), scope: __module.model.21/__module.model.21.cv3.1/__module.model.21.cv3.1.2\n",
            "\t\t    %1782 : int[] = prim::ListConstruct(%1613, %1613), scope: __module.model.21/__module.model.21.cv3.1/__module.model.21.cv3.1.2\n",
            "\t\t    %1783 : int[] = prim::ListConstruct(%1611, %1611), scope: __module.model.21/__module.model.21.cv3.1/__module.model.21.cv3.1.2\n",
            "\t\t    %1784 : int[] = prim::ListConstruct(%1613, %1613), scope: __module.model.21/__module.model.21.cv3.1/__module.model.21.cv3.1.2\n",
            "\t\t    %1785 : Tensor = aten::_convolution(%input.341, %weight.461, %bias.459, %1781, %1782, %1783, %1612, %1784, %1611, %1612, %1614, %1614, %1614), scope: __module.model.21/__module.model.21.cv3.1/__module.model.21.cv3.1.2 # /usr/local/lib/python3.11/dist-packages/torch/nn/modules/conv.py:549:0\n",
            "\t\t    %1786 : Tensor[] = prim::ListConstruct(%1735, %1785), scope: __module.model.21\n",
            "\t\t    %xi.3 : Tensor = aten::cat(%1786, %1611), scope: __module.model.21 # /content/yolov12/ultralytics/nn/modules/head.py:70:0\n",
            "\t\t    %_2.15 : __torch__.torch.nn.modules.conv.Conv2d = prim::GetAttr[name=\"2\"](%_2.17)\n",
            "\t\t    %_1.67 : __torch__.ultralytics.nn.modules.conv.Conv = prim::GetAttr[name=\"1\"](%_2.17)\n",
            "\t\t    %_0.71 : __torch__.ultralytics.nn.modules.conv.Conv = prim::GetAttr[name=\"0\"](%_2.17)\n",
            "\t\t    %conv.215 : __torch__.torch.nn.modules.conv.Conv2d = prim::GetAttr[name=\"conv\"](%_0.71)\n",
            "\t\t    %bias.461 : Tensor = prim::GetAttr[name=\"bias\"](%conv.215)\n",
            "\t\t    %weight.463 : Tensor = prim::GetAttr[name=\"weight\"](%conv.215)\n",
            "\t\t    %1794 : int[] = prim::ListConstruct(%1611, %1611), scope: __module.model.21/__module.model.21.cv2.2/__module.model.21.cv2.2.0/__module.model.21.cv2.2.0.conv\n",
            "\t\t    %1795 : int[] = prim::ListConstruct(%1611, %1611), scope: __module.model.21/__module.model.21.cv2.2/__module.model.21.cv2.2.0/__module.model.21.cv2.2.0.conv\n",
            "\t\t    %1796 : int[] = prim::ListConstruct(%1611, %1611), scope: __module.model.21/__module.model.21.cv2.2/__module.model.21.cv2.2.0/__module.model.21.cv2.2.0.conv\n",
            "\t\t    %1797 : int[] = prim::ListConstruct(%1613, %1613), scope: __module.model.21/__module.model.21.cv2.2/__module.model.21.cv2.2.0/__module.model.21.cv2.2.0.conv\n",
            "\t\t    %input.345 : Tensor = aten::_convolution(%input.343, %weight.463, %bias.461, %1794, %1795, %1796, %1612, %1797, %1611, %1612, %1614, %1614, %1614), scope: __module.model.21/__module.model.21.cv2.2/__module.model.21.cv2.2.0/__module.model.21.cv2.2.0.conv # /usr/local/lib/python3.11/dist-packages/torch/nn/modules/conv.py:549:0\n",
            "\t\t    %input.347 : Tensor = aten::silu_(%input.345), scope: __module.model.21/__module.model.21.cv2.2/__module.model.21.cv2.2.0/__module.model.21.cv3.2.1.1.act # /usr/local/lib/python3.11/dist-packages/torch/nn/functional.py:2379:0\n",
            "\t\t    %conv.217 : __torch__.torch.nn.modules.conv.Conv2d = prim::GetAttr[name=\"conv\"](%_1.67)\n",
            "\t\t    %bias.463 : Tensor = prim::GetAttr[name=\"bias\"](%conv.217)\n",
            "\t\t    %weight.465 : Tensor = prim::GetAttr[name=\"weight\"](%conv.217)\n",
            "\t\t    %1803 : int[] = prim::ListConstruct(%1611, %1611), scope: __module.model.21/__module.model.21.cv2.2/__module.model.21.cv2.2.1/__module.model.21.cv2.2.1.conv\n",
            "\t\t    %1804 : int[] = prim::ListConstruct(%1611, %1611), scope: __module.model.21/__module.model.21.cv2.2/__module.model.21.cv2.2.1/__module.model.21.cv2.2.1.conv\n",
            "\t\t    %1805 : int[] = prim::ListConstruct(%1611, %1611), scope: __module.model.21/__module.model.21.cv2.2/__module.model.21.cv2.2.1/__module.model.21.cv2.2.1.conv\n",
            "\t\t    %1806 : int[] = prim::ListConstruct(%1613, %1613), scope: __module.model.21/__module.model.21.cv2.2/__module.model.21.cv2.2.1/__module.model.21.cv2.2.1.conv\n",
            "\t\t    %input.349 : Tensor = aten::_convolution(%input.347, %weight.465, %bias.463, %1803, %1804, %1805, %1612, %1806, %1611, %1612, %1614, %1614, %1614), scope: __module.model.21/__module.model.21.cv2.2/__module.model.21.cv2.2.1/__module.model.21.cv2.2.1.conv # /usr/local/lib/python3.11/dist-packages/torch/nn/modules/conv.py:549:0\n",
            "\t\t    %input.351 : Tensor = aten::silu_(%input.349), scope: __module.model.21/__module.model.21.cv2.2/__module.model.21.cv2.2.1/__module.model.21.cv3.2.1.1.act # /usr/local/lib/python3.11/dist-packages/torch/nn/functional.py:2379:0\n",
            "\t\t    %bias.465 : Tensor = prim::GetAttr[name=\"bias\"](%_2.15)\n",
            "\t\t    %weight.467 : Tensor = prim::GetAttr[name=\"weight\"](%_2.15)\n",
            "\t\t    %1811 : int[] = prim::ListConstruct(%1611, %1611), scope: __module.model.21/__module.model.21.cv2.2/__module.model.21.cv2.2.2\n",
            "\t\t    %1812 : int[] = prim::ListConstruct(%1613, %1613), scope: __module.model.21/__module.model.21.cv2.2/__module.model.21.cv2.2.2\n",
            "\t\t    %1813 : int[] = prim::ListConstruct(%1611, %1611), scope: __module.model.21/__module.model.21.cv2.2/__module.model.21.cv2.2.2\n",
            "\t\t    %1814 : int[] = prim::ListConstruct(%1613, %1613), scope: __module.model.21/__module.model.21.cv2.2/__module.model.21.cv2.2.2\n",
            "\t\t    %1815 : Tensor = aten::_convolution(%input.351, %weight.467, %bias.465, %1811, %1812, %1813, %1612, %1814, %1611, %1612, %1614, %1614, %1614), scope: __module.model.21/__module.model.21.cv2.2/__module.model.21.cv2.2.2 # /usr/local/lib/python3.11/dist-packages/torch/nn/modules/conv.py:549:0\n",
            "\t\t    %_2.19 : __torch__.torch.nn.modules.conv.Conv2d = prim::GetAttr[name=\"2\"](%_2)\n",
            "\t\t    %_1 : __torch__.torch.nn.modules.container.Sequential = prim::GetAttr[name=\"1\"](%_2)\n",
            "\t\t    %_0.75 : __torch__.torch.nn.modules.container.Sequential = prim::GetAttr[name=\"0\"](%_2)\n",
            "\t\t    %_1.69 : __torch__.ultralytics.nn.modules.conv.Conv = prim::GetAttr[name=\"1\"](%_0.75)\n",
            "\t\t    %_0.73 : __torch__.ultralytics.nn.modules.conv.DWConv = prim::GetAttr[name=\"0\"](%_0.75)\n",
            "\t\t    %conv.219 : __torch__.torch.nn.modules.conv.Conv2d = prim::GetAttr[name=\"conv\"](%_0.73)\n",
            "\t\t    %bias.467 : Tensor = prim::GetAttr[name=\"bias\"](%conv.219)\n",
            "\t\t    %weight.469 : Tensor = prim::GetAttr[name=\"weight\"](%conv.219)\n",
            "\t\t    %1824 : int[] = prim::ListConstruct(%1611, %1611), scope: __module.model.21/__module.model.21.cv3.2/__module.model.21.cv3.2.0/__module.model.21.cv3.2.0.0/__module.model.21.cv3.2.0.0.conv\n",
            "\t\t    %1825 : int[] = prim::ListConstruct(%1611, %1611), scope: __module.model.21/__module.model.21.cv3.2/__module.model.21.cv3.2.0/__module.model.21.cv3.2.0.0/__module.model.21.cv3.2.0.0.conv\n",
            "\t\t    %1826 : int[] = prim::ListConstruct(%1611, %1611), scope: __module.model.21/__module.model.21.cv3.2/__module.model.21.cv3.2.0/__module.model.21.cv3.2.0.0/__module.model.21.cv3.2.0.0.conv\n",
            "\t\t    %1827 : int[] = prim::ListConstruct(%1613, %1613), scope: __module.model.21/__module.model.21.cv3.2/__module.model.21.cv3.2.0/__module.model.21.cv3.2.0.0/__module.model.21.cv3.2.0.0.conv\n",
            "\t\t    %input.353 : Tensor = aten::_convolution(%input.343, %weight.469, %bias.467, %1824, %1825, %1826, %1612, %1827, %1608, %1612, %1614, %1614, %1614), scope: __module.model.21/__module.model.21.cv3.2/__module.model.21.cv3.2.0/__module.model.21.cv3.2.0.0/__module.model.21.cv3.2.0.0.conv # /usr/local/lib/python3.11/dist-packages/torch/nn/modules/conv.py:549:0\n",
            "\t\t    %input.355 : Tensor = aten::silu_(%input.353), scope: __module.model.21/__module.model.21.cv3.2/__module.model.21.cv3.2.0/__module.model.21.cv3.2.0.0/__module.model.21.cv3.2.1.1.act # /usr/local/lib/python3.11/dist-packages/torch/nn/functional.py:2379:0\n",
            "\t\t    %conv.221 : __torch__.torch.nn.modules.conv.Conv2d = prim::GetAttr[name=\"conv\"](%_1.69)\n",
            "\t\t    %bias.469 : Tensor = prim::GetAttr[name=\"bias\"](%conv.221)\n",
            "\t\t    %weight.471 : Tensor = prim::GetAttr[name=\"weight\"](%conv.221)\n",
            "\t\t    %1833 : int[] = prim::ListConstruct(%1611, %1611), scope: __module.model.21/__module.model.21.cv3.2/__module.model.21.cv3.2.0/__module.model.21.cv3.2.0.1/__module.model.21.cv3.2.0.1.conv\n",
            "\t\t    %1834 : int[] = prim::ListConstruct(%1613, %1613), scope: __module.model.21/__module.model.21.cv3.2/__module.model.21.cv3.2.0/__module.model.21.cv3.2.0.1/__module.model.21.cv3.2.0.1.conv\n",
            "\t\t    %1835 : int[] = prim::ListConstruct(%1611, %1611), scope: __module.model.21/__module.model.21.cv3.2/__module.model.21.cv3.2.0/__module.model.21.cv3.2.0.1/__module.model.21.cv3.2.0.1.conv\n",
            "\t\t    %1836 : int[] = prim::ListConstruct(%1613, %1613), scope: __module.model.21/__module.model.21.cv3.2/__module.model.21.cv3.2.0/__module.model.21.cv3.2.0.1/__module.model.21.cv3.2.0.1.conv\n",
            "\t\t    %input.357 : Tensor = aten::_convolution(%input.355, %weight.471, %bias.469, %1833, %1834, %1835, %1612, %1836, %1611, %1612, %1614, %1614, %1614), scope: __module.model.21/__module.model.21.cv3.2/__module.model.21.cv3.2.0/__module.model.21.cv3.2.0.1/__module.model.21.cv3.2.0.1.conv # /usr/local/lib/python3.11/dist-packages/torch/nn/modules/conv.py:549:0\n",
            "\t\t    %input.359 : Tensor = aten::silu_(%input.357), scope: __module.model.21/__module.model.21.cv3.2/__module.model.21.cv3.2.0/__module.model.21.cv3.2.0.1/__module.model.21.cv3.2.1.1.act # /usr/local/lib/python3.11/dist-packages/torch/nn/functional.py:2379:0\n",
            "\t\t    %_1.77 : __torch__.ultralytics.nn.modules.conv.Conv = prim::GetAttr[name=\"1\"](%_1)\n",
            "\t\t    %_0 : __torch__.ultralytics.nn.modules.conv.DWConv = prim::GetAttr[name=\"0\"](%_1)\n",
            "\t\t    %conv.223 : __torch__.torch.nn.modules.conv.Conv2d = prim::GetAttr[name=\"conv\"](%_0)\n",
            "\t\t    %bias.471 : Tensor = prim::GetAttr[name=\"bias\"](%conv.223)\n",
            "\t\t    %weight.473 : Tensor = prim::GetAttr[name=\"weight\"](%conv.223)\n",
            "\t\t    %1844 : int[] = prim::ListConstruct(%1611, %1611), scope: __module.model.21/__module.model.21.cv3.2/__module.model.21.cv3.2.1/__module.model.21.cv3.2.1.0/__module.model.21.cv3.2.1.0.conv\n",
            "\t\t    %1845 : int[] = prim::ListConstruct(%1611, %1611), scope: __module.model.21/__module.model.21.cv3.2/__module.model.21.cv3.2.1/__module.model.21.cv3.2.1.0/__module.model.21.cv3.2.1.0.conv\n",
            "\t\t    %1846 : int[] = prim::ListConstruct(%1611, %1611), scope: __module.model.21/__module.model.21.cv3.2/__module.model.21.cv3.2.1/__module.model.21.cv3.2.1.0/__module.model.21.cv3.2.1.0.conv\n",
            "\t\t    %1847 : int[] = prim::ListConstruct(%1613, %1613), scope: __module.model.21/__module.model.21.cv3.2/__module.model.21.cv3.2.1/__module.model.21.cv3.2.1.0/__module.model.21.cv3.2.1.0.conv\n",
            "\t\t    %input.361 : Tensor = aten::_convolution(%input.359, %weight.473, %bias.471, %1844, %1845, %1846, %1612, %1847, %1610, %1612, %1614, %1614, %1614), scope: __module.model.21/__module.model.21.cv3.2/__module.model.21.cv3.2.1/__module.model.21.cv3.2.1.0/__module.model.21.cv3.2.1.0.conv # /usr/local/lib/python3.11/dist-packages/torch/nn/modules/conv.py:549:0\n",
            "\t\t    %input.363 : Tensor = aten::silu_(%input.361), scope: __module.model.21/__module.model.21.cv3.2/__module.model.21.cv3.2.1/__module.model.21.cv3.2.1.0/__module.model.21.cv3.2.1.1.act # /usr/local/lib/python3.11/dist-packages/torch/nn/functional.py:2379:0\n",
            "\t\t    %conv.225 : __torch__.torch.nn.modules.conv.Conv2d = prim::GetAttr[name=\"conv\"](%_1.77)\n",
            "\t\t    %bias.473 : Tensor = prim::GetAttr[name=\"bias\"](%conv.225)\n",
            "\t\t    %weight.475 : Tensor = prim::GetAttr[name=\"weight\"](%conv.225)\n",
            "\t\t    %1853 : int[] = prim::ListConstruct(%1611, %1611), scope: __module.model.21/__module.model.21.cv3.2/__module.model.21.cv3.2.1/__module.model.21.cv3.2.1.1/__module.model.21.cv3.2.1.1.conv\n",
            "\t\t    %1854 : int[] = prim::ListConstruct(%1613, %1613), scope: __module.model.21/__module.model.21.cv3.2/__module.model.21.cv3.2.1/__module.model.21.cv3.2.1.1/__module.model.21.cv3.2.1.1.conv\n",
            "\t\t    %1855 : int[] = prim::ListConstruct(%1611, %1611), scope: __module.model.21/__module.model.21.cv3.2/__module.model.21.cv3.2.1/__module.model.21.cv3.2.1.1/__module.model.21.cv3.2.1.1.conv\n",
            "\t\t    %1856 : int[] = prim::ListConstruct(%1613, %1613), scope: __module.model.21/__module.model.21.cv3.2/__module.model.21.cv3.2.1/__module.model.21.cv3.2.1.1/__module.model.21.cv3.2.1.1.conv\n",
            "\t\t    %input.365 : Tensor = aten::_convolution(%input.363, %weight.475, %bias.473, %1853, %1854, %1855, %1612, %1856, %1611, %1612, %1614, %1614, %1614), scope: __module.model.21/__module.model.21.cv3.2/__module.model.21.cv3.2.1/__module.model.21.cv3.2.1.1/__module.model.21.cv3.2.1.1.conv # /usr/local/lib/python3.11/dist-packages/torch/nn/modules/conv.py:549:0\n",
            "\t\t    %input.367 : Tensor = aten::silu_(%input.365), scope: __module.model.21/__module.model.21.cv3.2/__module.model.21.cv3.2.1/__module.model.21.cv3.2.1.1/__module.model.21.cv3.2.1.1.act # /usr/local/lib/python3.11/dist-packages/torch/nn/functional.py:2379:0\n",
            "\t\t    %bias : Tensor = prim::GetAttr[name=\"bias\"](%_2.19)\n",
            "\t\t    %weight.477 : Tensor = prim::GetAttr[name=\"weight\"](%_2.19)\n",
            "\t\t    %1861 : int[] = prim::ListConstruct(%1611, %1611), scope: __module.model.21/__module.model.21.cv3.2/__module.model.21.cv3.2.2\n",
            "\t\t    %1862 : int[] = prim::ListConstruct(%1613, %1613), scope: __module.model.21/__module.model.21.cv3.2/__module.model.21.cv3.2.2\n",
            "\t\t    %1863 : int[] = prim::ListConstruct(%1611, %1611), scope: __module.model.21/__module.model.21.cv3.2/__module.model.21.cv3.2.2\n",
            "\t\t    %1864 : int[] = prim::ListConstruct(%1613, %1613), scope: __module.model.21/__module.model.21.cv3.2/__module.model.21.cv3.2.2\n",
            "\t\t    %1865 : Tensor = aten::_convolution(%input.367, %weight.477, %bias, %1861, %1862, %1863, %1612, %1864, %1611, %1612, %1614, %1614, %1614), scope: __module.model.21/__module.model.21.cv3.2/__module.model.21.cv3.2.2 # /usr/local/lib/python3.11/dist-packages/torch/nn/modules/conv.py:549:0\n",
            "\t\t    %1866 : Tensor[] = prim::ListConstruct(%1815, %1865), scope: __module.model.21\n",
            "\t\t    %xi : Tensor = aten::cat(%1866, %1611), scope: __module.model.21 # /content/yolov12/ultralytics/nn/modules/head.py:70:0\n",
            "\t\t    %1868 : int = aten::size(%xi.1, %1613), scope: __module.model.21 # /content/yolov12/ultralytics/nn/modules/head.py:103:0\n",
            "\t\t    %1869 : int[] = prim::ListConstruct(%1868, %1607, %1606), scope: __module.model.21\n",
            "\t\t    %1870 : Tensor = aten::view(%xi.1, %1869), scope: __module.model.21 # /content/yolov12/ultralytics/nn/modules/head.py:104:0\n",
            "\t\t    %1871 : int[] = prim::ListConstruct(%1868, %1607, %1606), scope: __module.model.21\n",
            "\t\t    %1872 : Tensor = aten::view(%xi.3, %1871), scope: __module.model.21 # /content/yolov12/ultralytics/nn/modules/head.py:104:0\n",
            "\t\t    %1873 : int[] = prim::ListConstruct(%1868, %1607, %1606), scope: __module.model.21\n",
            "\t\t    %1874 : Tensor = aten::view(%xi, %1873), scope: __module.model.21 # /content/yolov12/ultralytics/nn/modules/head.py:104:0\n",
            "\t\t    %1875 : Tensor[] = prim::ListConstruct(%1870, %1872, %1874), scope: __module.model.21\n",
            "\t\t    %1876 : Tensor = aten::cat(%1875, %1605), scope: __module.model.21 # /content/yolov12/ultralytics/nn/modules/head.py:104:0\n",
            "\t\t    %1877 : int[] = prim::ListConstruct(%1604, %1603), scope: __module.model.21\n",
            "\t\t    %1878 : Tensor[] = aten::split_with_sizes(%1876, %1877, %1611), scope: __module.model.21 # /usr/local/lib/python3.11/dist-packages/torch/_tensor.py:983:0\n",
            "\t\t    %x : Tensor, %cls : Tensor = prim::ListUnpack(%1878), scope: __module.model.21\n",
            "\t\t    %conv : __torch__.torch.nn.modules.conv.Conv2d = prim::GetAttr[name=\"conv\"](%dfl)\n",
            "\t\t    %1882 : int = aten::size(%x, %1613), scope: __module.model.21/__module.model.21.dfl # /content/yolov12/ultralytics/nn/modules/block.py:73:0\n",
            "\t\t    %1883 : int = aten::size(%x, %1605), scope: __module.model.21/__module.model.21.dfl # /content/yolov12/ultralytics/nn/modules/block.py:73:0\n",
            "\t\t    %1884 : int[] = prim::ListConstruct(%1882, %1600, %1601, %1883), scope: __module.model.21/__module.model.21.dfl\n",
            "\t\t    %1885 : Tensor = aten::view(%x, %1884), scope: __module.model.21/__module.model.21.dfl # /content/yolov12/ultralytics/nn/modules/block.py:74:0\n",
            "\t\t    %1886 : Tensor = aten::transpose(%1885, %1605, %1611), scope: __module.model.21/__module.model.21.dfl # /content/yolov12/ultralytics/nn/modules/block.py:74:0\n",
            "\t\t    %input : Tensor = aten::softmax(%1886, %1611, %1602), scope: __module.model.21/__module.model.21.dfl # /content/yolov12/ultralytics/nn/modules/block.py:74:0\n",
            "\t\t    %weight : Tensor = prim::GetAttr[name=\"weight\"](%conv)\n",
            "\t\t    %1889 : int[] = prim::ListConstruct(%1611, %1611), scope: __module.model.21/__module.model.21.dfl/__module.model.21.dfl.conv\n",
            "\t\t    %1890 : int[] = prim::ListConstruct(%1613, %1613), scope: __module.model.21/__module.model.21.dfl/__module.model.21.dfl.conv\n",
            "\t\t    %1891 : int[] = prim::ListConstruct(%1611, %1611), scope: __module.model.21/__module.model.21.dfl/__module.model.21.dfl.conv\n",
            "\t\t    %1892 : int[] = prim::ListConstruct(%1613, %1613), scope: __module.model.21/__module.model.21.dfl/__module.model.21.dfl.conv\n",
            "\t\t    %1893 : Tensor = aten::_convolution(%input, %weight, %1602, %1889, %1890, %1891, %1612, %1892, %1611, %1612, %1614, %1614, %1614), scope: __module.model.21/__module.model.21.dfl/__module.model.21.dfl.conv # /usr/local/lib/python3.11/dist-packages/torch/nn/modules/conv.py:549:0\n",
            "\t\t    %1894 : int[] = prim::ListConstruct(%1882, %1600, %1883), scope: __module.model.21/__module.model.21.dfl\n",
            "\t\t    %distance : Tensor = aten::view(%1893, %1894), scope: __module.model.21/__module.model.21.dfl # /content/yolov12/ultralytics/nn/modules/block.py:74:0\n",
            "\t\t    %anchor_points : Tensor = aten::unsqueeze(%1599, %1613), scope: __module.model.21 # /content/yolov12/ultralytics/nn/modules/head.py:129:0\n",
            "\t\t    %1897 : Tensor[] = aten::chunk(%distance, %1605, %1611), scope: __module.model.21 # /content/yolov12/ultralytics/utils/tal.py:350:0\n",
            "\t\t    %lt : Tensor, %rb : Tensor = prim::ListUnpack(%1897), scope: __module.model.21\n",
            "\t\t    %x1y1 : Tensor = aten::sub(%anchor_points, %lt, %1611), scope: __module.model.21 # /content/yolov12/ultralytics/utils/tal.py:351:0\n",
            "\t\t    %x2y2 : Tensor = aten::add(%anchor_points, %rb, %1611), scope: __module.model.21 # /content/yolov12/ultralytics/utils/tal.py:352:0\n",
            "\t\t    %1902 : Tensor = aten::add(%x1y1, %x2y2, %1611), scope: __module.model.21 # /content/yolov12/ultralytics/utils/tal.py:354:0\n",
            "\t\t    %c_xy : Tensor = aten::div(%1902, %1598), scope: __module.model.21 # /content/yolov12/ultralytics/utils/tal.py:354:0\n",
            "\t\t    %wh : Tensor = aten::sub(%x2y2, %x1y1, %1611), scope: __module.model.21 # /content/yolov12/ultralytics/utils/tal.py:355:0\n",
            "\t\t    %1905 : Tensor[] = prim::ListConstruct(%c_xy, %wh), scope: __module.model.21\n",
            "\t\t    %1906 : Tensor = aten::cat(%1905, %1611), scope: __module.model.21 # /content/yolov12/ultralytics/utils/tal.py:356:0\n",
            "\t\t    %dbox : Tensor = aten::mul(%1906, %1597), scope: __module.model.21 # /content/yolov12/ultralytics/nn/modules/head.py:129:0\n",
            "\t\t    %1908 : Tensor = aten::sigmoid(%cls), scope: __module.model.21 # /content/yolov12/ultralytics/nn/modules/head.py:131:0\n",
            "\t\t    %1909 : Tensor[] = prim::ListConstruct(%dbox, %1908), scope: __module.model.21\n",
            "\t\t    %1910 : Tensor = aten::cat(%1909, %1611), scope: __module.model.21 # /content/yolov12/ultralytics/nn/modules/head.py:131:0\n",
            "\t\t    return (%1910)\n",
            "\tFirst diverging operator:\n",
            "\tNode diff:\n",
            "\t\t- %model : __torch__.torch.nn.modules.container.___torch_mangle_9317.Sequential = prim::GetAttr[name=\"model\"](%self.1)\n",
            "\t\t?                                                                --\n",
            "\t\t+ %model : __torch__.torch.nn.modules.container.___torch_mangle_9749.Sequential = prim::GetAttr[name=\"model\"](%self.1)\n",
            "\t\t?                                                                 ++\n",
            "\n",
            "Image sizes 512 train, 512 val\n",
            "Using 8 dataloader workers\n",
            "Logging results to \u001b[1mruns/detect/train33\u001b[0m\n",
            "Starting training for 200 epochs...\n",
            "\n",
            "      Epoch    GPU_mem   box_loss   cls_loss   dfl_loss  Instances       Size\n"
          ]
        },
        {
          "output_type": "stream",
          "name": "stderr",
          "text": [
            "      1/200      12.7G     0.9575     0.7652      1.283         25        512: 100%|██████████| 61/61 [00:56<00:00,  1.08it/s]\n",
            "                 Class     Images  Instances      Box(P          R      mAP50  mAP50-95): 100%|██████████| 1/1 [00:00<00:00,  1.59it/s]"
          ]
        },
        {
          "output_type": "stream",
          "name": "stdout",
          "text": [
            "                   all         90        102      0.825      0.905      0.931      0.773\n"
          ]
        },
        {
          "output_type": "stream",
          "name": "stderr",
          "text": [
            "\n"
          ]
        },
        {
          "output_type": "stream",
          "name": "stdout",
          "text": [
            "\n",
            "      Epoch    GPU_mem   box_loss   cls_loss   dfl_loss  Instances       Size\n"
          ]
        },
        {
          "output_type": "stream",
          "name": "stderr",
          "text": [
            "      2/200      11.9G     0.9224      0.706      1.257         19        512: 100%|██████████| 61/61 [00:54<00:00,  1.11it/s]\n",
            "                 Class     Images  Instances      Box(P          R      mAP50  mAP50-95): 100%|██████████| 1/1 [00:00<00:00,  1.86it/s]"
          ]
        },
        {
          "output_type": "stream",
          "name": "stdout",
          "text": [
            "                   all         90        102      0.972      0.946      0.983      0.843\n"
          ]
        },
        {
          "output_type": "stream",
          "name": "stderr",
          "text": [
            "\n"
          ]
        },
        {
          "output_type": "stream",
          "name": "stdout",
          "text": [
            "\n",
            "      Epoch    GPU_mem   box_loss   cls_loss   dfl_loss  Instances       Size\n"
          ]
        },
        {
          "output_type": "stream",
          "name": "stderr",
          "text": [
            "      3/200      11.9G     0.9516     0.7419      1.282         28        512: 100%|██████████| 61/61 [00:52<00:00,  1.15it/s]\n",
            "                 Class     Images  Instances      Box(P          R      mAP50  mAP50-95): 100%|██████████| 1/1 [00:00<00:00,  1.67it/s]"
          ]
        },
        {
          "output_type": "stream",
          "name": "stdout",
          "text": [
            "                   all         90        102      0.788      0.912      0.919      0.767\n"
          ]
        },
        {
          "output_type": "stream",
          "name": "stderr",
          "text": [
            "\n"
          ]
        },
        {
          "output_type": "stream",
          "name": "stdout",
          "text": [
            "\n",
            "      Epoch    GPU_mem   box_loss   cls_loss   dfl_loss  Instances       Size\n"
          ]
        },
        {
          "output_type": "stream",
          "name": "stderr",
          "text": [
            "      4/200      11.9G      1.021     0.8372      1.317         30        512: 100%|██████████| 61/61 [00:57<00:00,  1.07it/s]\n",
            "                 Class     Images  Instances      Box(P          R      mAP50  mAP50-95): 100%|██████████| 1/1 [00:00<00:00,  1.67it/s]"
          ]
        },
        {
          "output_type": "stream",
          "name": "stdout",
          "text": [
            "                   all         90        102      0.768      0.864      0.871      0.631\n"
          ]
        },
        {
          "output_type": "stream",
          "name": "stderr",
          "text": [
            "\n"
          ]
        },
        {
          "output_type": "stream",
          "name": "stdout",
          "text": [
            "\n",
            "      Epoch    GPU_mem   box_loss   cls_loss   dfl_loss  Instances       Size\n"
          ]
        },
        {
          "output_type": "stream",
          "name": "stderr",
          "text": [
            "      5/200      11.9G      1.008     0.8139      1.313         31        512: 100%|██████████| 61/61 [00:52<00:00,  1.16it/s]\n",
            "                 Class     Images  Instances      Box(P          R      mAP50  mAP50-95): 100%|██████████| 1/1 [00:00<00:00,  1.66it/s]"
          ]
        },
        {
          "output_type": "stream",
          "name": "stdout",
          "text": [
            "                   all         90        102      0.941      0.965      0.978       0.71\n"
          ]
        },
        {
          "output_type": "stream",
          "name": "stderr",
          "text": [
            "\n"
          ]
        },
        {
          "output_type": "stream",
          "name": "stdout",
          "text": [
            "\n",
            "      Epoch    GPU_mem   box_loss   cls_loss   dfl_loss  Instances       Size\n"
          ]
        },
        {
          "output_type": "stream",
          "name": "stderr",
          "text": [
            "      6/200      11.9G      1.007     0.8135      1.316         42        512: 100%|██████████| 61/61 [00:52<00:00,  1.16it/s]\n",
            "                 Class     Images  Instances      Box(P          R      mAP50  mAP50-95): 100%|██████████| 1/1 [00:00<00:00,  1.67it/s]"
          ]
        },
        {
          "output_type": "stream",
          "name": "stdout",
          "text": [
            "                   all         90        102      0.935      0.948      0.969      0.784\n"
          ]
        },
        {
          "output_type": "stream",
          "name": "stderr",
          "text": [
            "\n"
          ]
        },
        {
          "output_type": "stream",
          "name": "stdout",
          "text": [
            "\n",
            "      Epoch    GPU_mem   box_loss   cls_loss   dfl_loss  Instances       Size\n"
          ]
        },
        {
          "output_type": "stream",
          "name": "stderr",
          "text": [
            "      7/200      11.9G      1.007     0.8097      1.313         33        512: 100%|██████████| 61/61 [00:56<00:00,  1.09it/s]\n",
            "                 Class     Images  Instances      Box(P          R      mAP50  mAP50-95): 100%|██████████| 1/1 [00:00<00:00,  1.69it/s]"
          ]
        },
        {
          "output_type": "stream",
          "name": "stdout",
          "text": [
            "                   all         90        102        0.9       0.86      0.891      0.727\n"
          ]
        },
        {
          "output_type": "stream",
          "name": "stderr",
          "text": [
            "\n"
          ]
        },
        {
          "output_type": "stream",
          "name": "stdout",
          "text": [
            "\n",
            "      Epoch    GPU_mem   box_loss   cls_loss   dfl_loss  Instances       Size\n"
          ]
        },
        {
          "output_type": "stream",
          "name": "stderr",
          "text": [
            "      8/200      11.9G     0.9684     0.7753       1.29         30        512: 100%|██████████| 61/61 [00:51<00:00,  1.17it/s]\n",
            "                 Class     Images  Instances      Box(P          R      mAP50  mAP50-95): 100%|██████████| 1/1 [00:00<00:00,  1.69it/s]"
          ]
        },
        {
          "output_type": "stream",
          "name": "stdout",
          "text": [
            "                   all         90        102      0.884      0.912      0.971      0.776\n"
          ]
        },
        {
          "output_type": "stream",
          "name": "stderr",
          "text": [
            "\n"
          ]
        },
        {
          "output_type": "stream",
          "name": "stdout",
          "text": [
            "\n",
            "      Epoch    GPU_mem   box_loss   cls_loss   dfl_loss  Instances       Size\n"
          ]
        },
        {
          "output_type": "stream",
          "name": "stderr",
          "text": [
            "      9/200      11.9G     0.9798      0.793      1.295         33        512: 100%|██████████| 61/61 [00:57<00:00,  1.07it/s]\n",
            "                 Class     Images  Instances      Box(P          R      mAP50  mAP50-95): 100%|██████████| 1/1 [00:00<00:00,  1.67it/s]"
          ]
        },
        {
          "output_type": "stream",
          "name": "stdout",
          "text": [
            "                   all         90        102      0.892      0.913      0.952      0.765\n"
          ]
        },
        {
          "output_type": "stream",
          "name": "stderr",
          "text": [
            "\n"
          ]
        },
        {
          "output_type": "stream",
          "name": "stdout",
          "text": [
            "\n",
            "      Epoch    GPU_mem   box_loss   cls_loss   dfl_loss  Instances       Size\n"
          ]
        },
        {
          "output_type": "stream",
          "name": "stderr",
          "text": [
            "     10/200      11.9G       0.97     0.7834      1.283         23        512: 100%|██████████| 61/61 [00:54<00:00,  1.12it/s]\n",
            "                 Class     Images  Instances      Box(P          R      mAP50  mAP50-95): 100%|██████████| 1/1 [00:00<00:00,  2.06it/s]"
          ]
        },
        {
          "output_type": "stream",
          "name": "stdout",
          "text": [
            "                   all         90        102      0.926      0.956      0.957      0.769\n"
          ]
        },
        {
          "output_type": "stream",
          "name": "stderr",
          "text": [
            "\n"
          ]
        },
        {
          "output_type": "stream",
          "name": "stdout",
          "text": [
            "\n",
            "      Epoch    GPU_mem   box_loss   cls_loss   dfl_loss  Instances       Size\n"
          ]
        },
        {
          "output_type": "stream",
          "name": "stderr",
          "text": [
            "     11/200      11.9G     0.9595     0.7653      1.282         30        512: 100%|██████████| 61/61 [00:52<00:00,  1.16it/s]\n",
            "                 Class     Images  Instances      Box(P          R      mAP50  mAP50-95): 100%|██████████| 1/1 [00:00<00:00,  1.67it/s]"
          ]
        },
        {
          "output_type": "stream",
          "name": "stdout",
          "text": [
            "                   all         90        102      0.885      0.808      0.918      0.698\n"
          ]
        },
        {
          "output_type": "stream",
          "name": "stderr",
          "text": [
            "\n"
          ]
        },
        {
          "output_type": "stream",
          "name": "stdout",
          "text": [
            "\n",
            "      Epoch    GPU_mem   box_loss   cls_loss   dfl_loss  Instances       Size\n"
          ]
        },
        {
          "output_type": "stream",
          "name": "stderr",
          "text": [
            "     12/200      11.9G     0.9557     0.7635      1.282         24        512: 100%|██████████| 61/61 [00:53<00:00,  1.13it/s]\n",
            "                 Class     Images  Instances      Box(P          R      mAP50  mAP50-95): 100%|██████████| 1/1 [00:00<00:00,  1.90it/s]"
          ]
        },
        {
          "output_type": "stream",
          "name": "stdout",
          "text": [
            "                   all         90        102      0.809      0.922      0.926      0.781\n"
          ]
        },
        {
          "output_type": "stream",
          "name": "stderr",
          "text": [
            "\n"
          ]
        },
        {
          "output_type": "stream",
          "name": "stdout",
          "text": [
            "\n",
            "      Epoch    GPU_mem   box_loss   cls_loss   dfl_loss  Instances       Size\n"
          ]
        },
        {
          "output_type": "stream",
          "name": "stderr",
          "text": [
            "     13/200      11.9G     0.9544     0.7806      1.286         27        512: 100%|██████████| 61/61 [00:54<00:00,  1.12it/s]\n",
            "                 Class     Images  Instances      Box(P          R      mAP50  mAP50-95): 100%|██████████| 1/1 [00:00<00:00,  1.69it/s]"
          ]
        },
        {
          "output_type": "stream",
          "name": "stdout",
          "text": [
            "                   all         90        102      0.838      0.878      0.898      0.711\n"
          ]
        },
        {
          "output_type": "stream",
          "name": "stderr",
          "text": [
            "\n"
          ]
        },
        {
          "output_type": "stream",
          "name": "stdout",
          "text": [
            "\n",
            "      Epoch    GPU_mem   box_loss   cls_loss   dfl_loss  Instances       Size\n"
          ]
        },
        {
          "output_type": "stream",
          "name": "stderr",
          "text": [
            "     14/200      11.9G     0.9476     0.7638      1.284         28        512: 100%|██████████| 61/61 [00:52<00:00,  1.16it/s]\n",
            "                 Class     Images  Instances      Box(P          R      mAP50  mAP50-95): 100%|██████████| 1/1 [00:00<00:00,  1.90it/s]"
          ]
        },
        {
          "output_type": "stream",
          "name": "stdout",
          "text": [
            "                   all         90        102      0.826      0.906      0.951      0.767\n"
          ]
        },
        {
          "output_type": "stream",
          "name": "stderr",
          "text": [
            "\n"
          ]
        },
        {
          "output_type": "stream",
          "name": "stdout",
          "text": [
            "\n",
            "      Epoch    GPU_mem   box_loss   cls_loss   dfl_loss  Instances       Size\n"
          ]
        },
        {
          "output_type": "stream",
          "name": "stderr",
          "text": [
            "     15/200      11.9G     0.9373      0.745      1.278         29        512: 100%|██████████| 61/61 [00:53<00:00,  1.13it/s]\n",
            "                 Class     Images  Instances      Box(P          R      mAP50  mAP50-95): 100%|██████████| 1/1 [00:00<00:00,  1.66it/s]"
          ]
        },
        {
          "output_type": "stream",
          "name": "stdout",
          "text": [
            "                   all         90        102      0.867      0.948      0.975       0.78\n"
          ]
        },
        {
          "output_type": "stream",
          "name": "stderr",
          "text": [
            "\n"
          ]
        },
        {
          "output_type": "stream",
          "name": "stdout",
          "text": [
            "\n",
            "      Epoch    GPU_mem   box_loss   cls_loss   dfl_loss  Instances       Size\n"
          ]
        },
        {
          "output_type": "stream",
          "name": "stderr",
          "text": [
            "     16/200      11.9G     0.9394      0.751      1.269         31        512: 100%|██████████| 61/61 [00:53<00:00,  1.15it/s]\n",
            "                 Class     Images  Instances      Box(P          R      mAP50  mAP50-95): 100%|██████████| 1/1 [00:00<00:00,  1.67it/s]"
          ]
        },
        {
          "output_type": "stream",
          "name": "stdout",
          "text": [
            "                   all         90        102      0.928      0.945      0.963      0.807\n"
          ]
        },
        {
          "output_type": "stream",
          "name": "stderr",
          "text": [
            "\n"
          ]
        },
        {
          "output_type": "stream",
          "name": "stdout",
          "text": [
            "\n",
            "      Epoch    GPU_mem   box_loss   cls_loss   dfl_loss  Instances       Size\n"
          ]
        },
        {
          "output_type": "stream",
          "name": "stderr",
          "text": [
            "     17/200      11.9G     0.9337     0.7437      1.266         32        512: 100%|██████████| 61/61 [00:49<00:00,  1.23it/s]\n",
            "                 Class     Images  Instances      Box(P          R      mAP50  mAP50-95): 100%|██████████| 1/1 [00:00<00:00,  1.68it/s]"
          ]
        },
        {
          "output_type": "stream",
          "name": "stdout",
          "text": [
            "                   all         90        102      0.776      0.942      0.942      0.751\n",
            "\u001b[34m\u001b[1mEarlyStopping: \u001b[0mTraining stopped early as no improvement observed in last 15 epochs. Best results observed at epoch 2, best model saved as best.pt.\n",
            "To update EarlyStopping(patience=15) pass a new patience value, i.e. `patience=300` or use `patience=0` to disable EarlyStopping.\n"
          ]
        },
        {
          "output_type": "stream",
          "name": "stderr",
          "text": [
            "\n"
          ]
        },
        {
          "output_type": "stream",
          "name": "stdout",
          "text": [
            "\n",
            "17 epochs completed in 0.270 hours.\n",
            "Optimizer stripped from runs/detect/train33/weights/last.pt, 18.9MB\n",
            "Optimizer stripped from runs/detect/train33/weights/best.pt, 18.9MB\n",
            "\n",
            "Validating runs/detect/train33/weights/best.pt...\n",
            "Ultralytics 8.3.63 🚀 Python-3.11.11 torch-2.5.1+cu124 CUDA:0 (NVIDIA L4, 22693MiB)\n",
            "YOLOv12s summary (fused): 352 layers, 9,236,298 parameters, 0 gradients, 21.2 GFLOPs\n"
          ]
        },
        {
          "output_type": "stream",
          "name": "stderr",
          "text": [
            "                 Class     Images  Instances      Box(P          R      mAP50  mAP50-95): 100%|██████████| 1/1 [00:00<00:00,  1.15it/s]\n"
          ]
        },
        {
          "output_type": "stream",
          "name": "stdout",
          "text": [
            "                   all         90        102      0.962      0.962      0.982      0.814\n",
            "Speed: 0.2ms preprocess, 5.7ms inference, 0.0ms loss, 0.7ms postprocess per image\n",
            "Results saved to \u001b[1mruns/detect/train33\u001b[0m\n"
          ]
        }
      ]
    },
    {
      "cell_type": "code",
      "source": [],
      "metadata": {
        "id": "ISORV-CeBM4W"
      },
      "execution_count": null,
      "outputs": []
    },
    {
      "cell_type": "code",
      "source": [
        "lst_file_input = [\"/content/sample_data/\"+fname for fname in os.listdir(\"/content/sample_data/\") if fname.endswith(\".jpg\")]\n",
        "\n",
        "model_test = YOLO(\"/content/yolov12/runs/detect/train33/weights/best.pt\")\n",
        "results = model_test(lst_file_input)"
      ],
      "metadata": {
        "colab": {
          "base_uri": "https://localhost:8080/"
        },
        "id": "DLMeTcNkxzP4",
        "outputId": "bb0c5b1e-ee61-40f3-f6ba-7aa43c7df0f5"
      },
      "execution_count": 21,
      "outputs": [
        {
          "output_type": "stream",
          "name": "stdout",
          "text": [
            "\n",
            "0: 512x512 (no detections), 17.1ms\n",
            "1: 512x512 1 apple, 17.1ms\n",
            "2: 512x512 1 grapes-bag, 17.1ms\n",
            "3: 512x512 (no detections), 17.1ms\n",
            "4: 512x512 1 banana, 17.1ms\n",
            "5: 512x512 1 apple, 17.1ms\n",
            "6: 512x512 1 apple-bag, 17.1ms\n",
            "7: 512x512 1 banana, 1 apple, 17.1ms\n",
            "8: 512x512 1 banana, 1 apple, 17.1ms\n",
            "9: 512x512 1 chili-bag, 17.1ms\n",
            "10: 512x512 1 chili-bag, 17.1ms\n",
            "11: 512x512 3 chili-bags, 17.1ms\n",
            "12: 512x512 1 apple, 17.1ms\n",
            "13: 512x512 1 apple, 17.1ms\n",
            "14: 512x512 1 banana, 17.1ms\n",
            "Speed: 4.3ms preprocess, 17.1ms inference, 3.4ms postprocess per image at shape (1, 3, 512, 512)\n"
          ]
        }
      ]
    },
    {
      "cell_type": "code",
      "source": [
        "lst_file_input"
      ],
      "metadata": {
        "colab": {
          "base_uri": "https://localhost:8080/"
        },
        "id": "VuNeXyejbxRU",
        "outputId": "105ab495-c3a0-40d9-b67a-7c8a6c15623b"
      },
      "execution_count": 22,
      "outputs": [
        {
          "output_type": "execute_result",
          "data": {
            "text/plain": [
              "['/content/sample_data/poivron_rouge_bag_3.jpg',\n",
              " '/content/sample_data/1739108130225.jpg',\n",
              " '/content/sample_data/poivron_vert_bag_2.jpg',\n",
              " '/content/sample_data/poivron_rouge_bag_1.jpg',\n",
              " '/content/sample_data/golden_1.jpg',\n",
              " '/content/sample_data/1739108130215.jpg',\n",
              " '/content/sample_data/poivron_rouge_bag_2.jpg',\n",
              " '/content/sample_data/Golden_2.jpg',\n",
              " '/content/sample_data/Royal_gala_3.jpg',\n",
              " '/content/sample_data/poivron_vert_bag_3.jpg',\n",
              " '/content/sample_data/poivron_vert_bag_4.jpg',\n",
              " '/content/sample_data/poivron_vert_bag_1.jpg',\n",
              " '/content/sample_data/Pink_Lady_1.jpg',\n",
              " '/content/sample_data/Royal_gala_2.jpg',\n",
              " '/content/sample_data/Royal_gala1.jpg']"
            ]
          },
          "metadata": {},
          "execution_count": 22
        }
      ]
    },
    {
      "cell_type": "markdown",
      "source": [
        "#Sauvegarder les résultats et les models"
      ],
      "metadata": {
        "id": "QxSS3jrFyAiq"
      }
    },
    {
      "cell_type": "code",
      "source": [
        "#! mkdir -p \"/content/drive/MyDrive/Artefact/Projet_batch_51/pdf/fruit and vegetable detection for yolov8/train4\"\n",
        "\n",
        "#! cp -r /content/runs/detect/train4/ \"/content/drive/MyDrive/Artefact/Projet_batch_51/pdf/fruit and vegetable detection for yolov8/\""
      ],
      "metadata": {
        "id": "AOy07B_VyA50"
      },
      "execution_count": null,
      "outputs": []
    },
    {
      "cell_type": "code",
      "source": [
        "from ultralytics import YOLO\n",
        "model_m = YOLO('yolov12m.pt')\n"
      ],
      "metadata": {
        "colab": {
          "base_uri": "https://localhost:8080/"
        },
        "id": "WLVxZ2SrexNy",
        "outputId": "2cde4224-a99b-4a32-d15e-af94e263e549"
      },
      "execution_count": 23,
      "outputs": [
        {
          "output_type": "stream",
          "name": "stdout",
          "text": [
            "Downloading https://github.com/sunsmarterjie/yolov12/releases/download/v1.0/yolov12m.pt to 'yolov12m.pt'...\n"
          ]
        },
        {
          "output_type": "stream",
          "name": "stderr",
          "text": [
            "100%|██████████| 39.0M/39.0M [00:00<00:00, 48.3MB/s]\n"
          ]
        }
      ]
    },
    {
      "cell_type": "code",
      "source": [
        "results_m = model_m.train(data = \"/content/fruit_and_vegetable_detection_for_yolov8/data.yaml\", epochs=200, imgsz=512,batch = 60,patience = 20,scale = 0.5,translate = 0.5,degrees = 45, augment=True, verbose = False)\n"
      ],
      "metadata": {
        "colab": {
          "base_uri": "https://localhost:8080/"
        },
        "id": "BwWxxxaIforT",
        "outputId": "b8026615-49d5-4d16-8219-b1b877de712b"
      },
      "execution_count": 26,
      "outputs": [
        {
          "output_type": "stream",
          "name": "stdout",
          "text": [
            "New https://pypi.org/project/ultralytics/8.3.78 available 😃 Update with 'pip install -U ultralytics'\n",
            "Ultralytics 8.3.63 🚀 Python-3.11.11 torch-2.5.1+cu124 CUDA:0 (NVIDIA L4, 22693MiB)\n",
            "\u001b[34m\u001b[1mengine/trainer: \u001b[0mtask=detect, mode=train, model=/content/yolov12/runs/detect/train33/weights/best.pt, data=/content/fruit_and_vegetable_detection_for_yolov8/data.yaml, epochs=200, time=None, patience=20, batch=60, imgsz=512, save=True, save_period=-1, cache=False, device=None, workers=8, project=None, name=train5, exist_ok=False, pretrained=True, optimizer=auto, verbose=False, seed=0, deterministic=True, single_cls=False, rect=False, cos_lr=False, close_mosaic=10, resume=False, amp=True, fraction=1.0, profile=False, freeze=None, multi_scale=False, overlap_mask=True, mask_ratio=4, dropout=0.0, val=True, split=val, save_json=False, save_hybrid=False, conf=None, iou=0.7, max_det=300, half=False, dnn=False, plots=True, source=None, vid_stride=1, stream_buffer=False, visualize=False, augment=True, agnostic_nms=False, classes=None, retina_masks=False, embed=None, show=False, save_frames=False, save_txt=False, save_conf=False, save_crop=False, show_labels=True, show_conf=True, show_boxes=True, line_width=None, format=torchscript, keras=False, optimize=False, int8=False, dynamic=False, simplify=True, opset=None, workspace=None, nms=False, lr0=0.01, lrf=0.01, momentum=0.937, weight_decay=0.0005, warmup_epochs=3.0, warmup_momentum=0.8, warmup_bias_lr=0.0, box=7.5, cls=0.5, dfl=1.5, pose=12.0, kobj=1.0, nbs=64, hsv_h=0.015, hsv_s=0.7, hsv_v=0.4, degrees=45, translate=0.5, scale=0.5, shear=0.0, perspective=0.0, flipud=0.0, fliplr=0.5, bgr=0.0, mosaic=1.0, mixup=0.0, copy_paste=0.1, copy_paste_mode=flip, auto_augment=randaugment, erasing=0.4, crop_fraction=1.0, cfg=None, tracker=botsort.yaml, save_dir=runs/detect/train5\n",
            "\n",
            "                   from  n    params  module                                       arguments                     \n",
            "  0                  -1  1       928  ultralytics.nn.modules.conv.Conv             [3, 32, 3, 2]                 \n",
            "  1                  -1  1     18560  ultralytics.nn.modules.conv.Conv             [32, 64, 3, 2]                \n",
            "  2                  -1  1     26080  ultralytics.nn.modules.block.C3k2            [64, 128, 1, False, 0.25]     \n",
            "  3                  -1  1    147712  ultralytics.nn.modules.conv.Conv             [128, 128, 3, 2]              \n",
            "  4                  -1  1    103360  ultralytics.nn.modules.block.C3k2            [128, 256, 1, False, 0.25]    \n",
            "  5                  -1  1    590336  ultralytics.nn.modules.conv.Conv             [256, 256, 3, 2]              \n",
            "  6                  -1  2    689920  ultralytics.nn.modules.block.A2C2f           [256, 256, 2, True, 4]        \n",
            "  7                  -1  1   1180672  ultralytics.nn.modules.conv.Conv             [256, 512, 3, 2]              \n",
            "  8                  -1  2   2690560  ultralytics.nn.modules.block.A2C2f           [512, 512, 2, True, 1]        \n",
            "  9                  -1  1         0  torch.nn.modules.upsampling.Upsample         [None, 2, 'nearest']          \n",
            " 10             [-1, 6]  1         0  ultralytics.nn.modules.conv.Concat           [1]                           \n",
            " 11                  -1  1    345856  ultralytics.nn.modules.block.A2C2f           [768, 256, 1, False, -1]      \n",
            " 12                  -1  1         0  torch.nn.modules.upsampling.Upsample         [None, 2, 'nearest']          \n",
            " 13             [-1, 4]  1         0  ultralytics.nn.modules.conv.Concat           [1]                           \n",
            " 14                  -1  1     95104  ultralytics.nn.modules.block.A2C2f           [512, 128, 1, False, -1]      \n",
            " 15                  -1  1    147712  ultralytics.nn.modules.conv.Conv             [128, 128, 3, 2]              \n",
            " 16            [-1, 11]  1         0  ultralytics.nn.modules.conv.Concat           [1]                           \n",
            " 17                  -1  1    296704  ultralytics.nn.modules.block.A2C2f           [384, 256, 1, False, -1]      \n",
            " 18                  -1  1    590336  ultralytics.nn.modules.conv.Conv             [256, 256, 3, 2]              \n",
            " 19             [-1, 8]  1         0  ultralytics.nn.modules.conv.Concat           [1]                           \n",
            " 20                  -1  1   1511424  ultralytics.nn.modules.block.C3k2            [768, 512, 1, True]           \n",
            " 21        [14, 17, 20]  1    824826  ultralytics.nn.modules.head.Detect           [14, [128, 256, 512]]         \n",
            "YOLOv12s summary: 465 layers, 9,260,090 parameters, 9,260,074 gradients, 21.6 GFLOPs\n",
            "\n",
            "Transferred 134/699 items from pretrained weights\n",
            "\u001b[34m\u001b[1mTensorBoard: \u001b[0mStart with 'tensorboard --logdir runs/detect/train5', view at http://localhost:6006/\n",
            "Freezing layer 'model.21.dfl.conv.weight'\n",
            "\u001b[34m\u001b[1mAMP: \u001b[0mrunning Automatic Mixed Precision (AMP) checks...\n",
            "\u001b[34m\u001b[1mAMP: \u001b[0mchecks passed ✅\n"
          ]
        },
        {
          "output_type": "stream",
          "name": "stderr",
          "text": [
            "\u001b[34m\u001b[1mtrain: \u001b[0mScanning /content/fruit_and_vegetable_detection_for_yolov8/train.cache... 3852 images, 0 backgrounds, 0 corrupt: 100%|██████████| 3852/3852 [00:00<?, ?it/s]"
          ]
        },
        {
          "output_type": "stream",
          "name": "stdout",
          "text": [
            "\u001b[34m\u001b[1malbumentations: \u001b[0mBlur(p=0.01, blur_limit=(3, 7)), MedianBlur(p=0.01, blur_limit=(3, 7)), ToGray(p=0.01, num_output_channels=3, method='weighted_average'), CLAHE(p=0.01, clip_limit=(1.0, 4.0), tile_grid_size=(8, 8))\n"
          ]
        },
        {
          "output_type": "stream",
          "name": "stderr",
          "text": [
            "\n",
            "/content/yolov12/ultralytics/data/augment.py:1853: UserWarning: Argument(s) 'quality_lower' are not valid for transform ImageCompression\n",
            "  A.ImageCompression(quality_lower=75, p=0.0),\n",
            "\u001b[34m\u001b[1mval: \u001b[0mScanning /content/fruit_and_vegetable_detection_for_yolov8/val.cache... 89 images, 1 backgrounds, 0 corrupt: 100%|██████████| 90/90 [00:00<?, ?it/s]\n"
          ]
        },
        {
          "output_type": "stream",
          "name": "stdout",
          "text": [
            "Plotting labels to runs/detect/train5/labels.jpg... \n",
            "\u001b[34m\u001b[1moptimizer:\u001b[0m 'optimizer=auto' found, ignoring 'lr0=0.01' and 'momentum=0.937' and determining best 'optimizer', 'lr0' and 'momentum' automatically... \n",
            "\u001b[34m\u001b[1moptimizer:\u001b[0m SGD(lr=0.01, momentum=0.9) with parameter groups 113 weight(decay=0.0), 120 weight(decay=0.00046875), 127 bias(decay=0.0)\n",
            "\u001b[34m\u001b[1mTensorBoard: \u001b[0mWARNING ⚠️ TensorBoard graph visualization failure Tracing failed sanity checks!\n",
            "ERROR: Graphs differed across invocations!\n",
            "\tGraph diff:\n",
            "\t\t  graph(%self.1 : __torch__.ultralytics.nn.tasks.DetectionModel,\n",
            "\t\t        %x.1 : Tensor):\n",
            "\t\t    %model : __torch__.torch.nn.modules.container.Sequential = prim::GetAttr[name=\"model\"](%self.1)\n",
            "\t\t    %_21 : __torch__.ultralytics.nn.modules.head.Detect = prim::GetAttr[name=\"21\"](%model)\n",
            "\t\t    %model.43 : __torch__.torch.nn.modules.container.Sequential = prim::GetAttr[name=\"model\"](%self.1)\n",
            "\t\t    %_20 : __torch__.ultralytics.nn.modules.block.C3k2 = prim::GetAttr[name=\"20\"](%model.43)\n",
            "\t\t    %model.41 : __torch__.torch.nn.modules.container.Sequential = prim::GetAttr[name=\"model\"](%self.1)\n",
            "\t\t    %_19 : __torch__.ultralytics.nn.modules.conv.Concat = prim::GetAttr[name=\"19\"](%model.41)\n",
            "\t\t    %model.39 : __torch__.torch.nn.modules.container.Sequential = prim::GetAttr[name=\"model\"](%self.1)\n",
            "\t\t    %_18 : __torch__.ultralytics.nn.modules.conv.Conv = prim::GetAttr[name=\"18\"](%model.39)\n",
            "\t\t    %model.37 : __torch__.torch.nn.modules.container.Sequential = prim::GetAttr[name=\"model\"](%self.1)\n",
            "\t\t    %_17 : __torch__.ultralytics.nn.modules.block.A2C2f = prim::GetAttr[name=\"17\"](%model.37)\n",
            "\t\t    %model.35 : __torch__.torch.nn.modules.container.Sequential = prim::GetAttr[name=\"model\"](%self.1)\n",
            "\t\t    %_16 : __torch__.ultralytics.nn.modules.conv.Concat = prim::GetAttr[name=\"16\"](%model.35)\n",
            "\t\t    %model.33 : __torch__.torch.nn.modules.container.Sequential = prim::GetAttr[name=\"model\"](%self.1)\n",
            "\t\t    %_15 : __torch__.ultralytics.nn.modules.conv.Conv = prim::GetAttr[name=\"15\"](%model.33)\n",
            "\t\t    %model.31 : __torch__.torch.nn.modules.container.Sequential = prim::GetAttr[name=\"model\"](%self.1)\n",
            "\t\t    %_14 : __torch__.ultralytics.nn.modules.block.A2C2f = prim::GetAttr[name=\"14\"](%model.31)\n",
            "\t\t    %model.29 : __torch__.torch.nn.modules.container.Sequential = prim::GetAttr[name=\"model\"](%self.1)\n",
            "\t\t    %_13 : __torch__.ultralytics.nn.modules.conv.Concat = prim::GetAttr[name=\"13\"](%model.29)\n",
            "\t\t    %model.27 : __torch__.torch.nn.modules.container.Sequential = prim::GetAttr[name=\"model\"](%self.1)\n",
            "\t\t    %_12 : __torch__.torch.nn.modules.upsampling.Upsample = prim::GetAttr[name=\"12\"](%model.27)\n",
            "\t\t    %model.25 : __torch__.torch.nn.modules.container.Sequential = prim::GetAttr[name=\"model\"](%self.1)\n",
            "\t\t    %_11 : __torch__.ultralytics.nn.modules.block.A2C2f = prim::GetAttr[name=\"11\"](%model.25)\n",
            "\t\t    %model.23 : __torch__.torch.nn.modules.container.Sequential = prim::GetAttr[name=\"model\"](%self.1)\n",
            "\t\t    %_10 : __torch__.ultralytics.nn.modules.conv.Concat = prim::GetAttr[name=\"10\"](%model.23)\n",
            "\t\t    %model.21 : __torch__.torch.nn.modules.container.Sequential = prim::GetAttr[name=\"model\"](%self.1)\n",
            "\t\t    %_9 : __torch__.torch.nn.modules.upsampling.Upsample = prim::GetAttr[name=\"9\"](%model.21)\n",
            "\t\t    %model.19 : __torch__.torch.nn.modules.container.Sequential = prim::GetAttr[name=\"model\"](%self.1)\n",
            "\t\t    %_8 : __torch__.ultralytics.nn.modules.block.A2C2f = prim::GetAttr[name=\"8\"](%model.19)\n",
            "\t\t    %model.17 : __torch__.torch.nn.modules.container.Sequential = prim::GetAttr[name=\"model\"](%self.1)\n",
            "\t\t    %_7 : __torch__.ultralytics.nn.modules.conv.Conv = prim::GetAttr[name=\"7\"](%model.17)\n",
            "\t\t    %model.15 : __torch__.torch.nn.modules.container.Sequential = prim::GetAttr[name=\"model\"](%self.1)\n",
            "\t\t    %_6 : __torch__.ultralytics.nn.modules.block.A2C2f = prim::GetAttr[name=\"6\"](%model.15)\n",
            "\t\t    %model.13 : __torch__.torch.nn.modules.container.Sequential = prim::GetAttr[name=\"model\"](%self.1)\n",
            "\t\t    %_5 : __torch__.ultralytics.nn.modules.conv.Conv = prim::GetAttr[name=\"5\"](%model.13)\n",
            "\t\t    %model.11 : __torch__.torch.nn.modules.container.Sequential = prim::GetAttr[name=\"model\"](%self.1)\n",
            "\t\t    %_4 : __torch__.ultralytics.nn.modules.block.C3k2 = prim::GetAttr[name=\"4\"](%model.11)\n",
            "\t\t    %model.9 : __torch__.torch.nn.modules.container.Sequential = prim::GetAttr[name=\"model\"](%self.1)\n",
            "\t\t    %_3 : __torch__.ultralytics.nn.modules.conv.Conv = prim::GetAttr[name=\"3\"](%model.9)\n",
            "\t\t    %model.7 : __torch__.torch.nn.modules.container.Sequential = prim::GetAttr[name=\"model\"](%self.1)\n",
            "\t\t    %_2.3 : __torch__.ultralytics.nn.modules.block.C3k2 = prim::GetAttr[name=\"2\"](%model.7)\n",
            "\t\t    %model.5 : __torch__.torch.nn.modules.container.Sequential = prim::GetAttr[name=\"model\"](%self.1)\n",
            "\t\t    %_1.5 : __torch__.ultralytics.nn.modules.conv.Conv = prim::GetAttr[name=\"1\"](%model.5)\n",
            "\t\t    %model.3 : __torch__.torch.nn.modules.container.Sequential = prim::GetAttr[name=\"model\"](%self.1)\n",
            "\t\t    %_21.1 : __torch__.ultralytics.nn.modules.head.Detect = prim::GetAttr[name=\"21\"](%model.3)\n",
            "\t\t    %cv3.1 : __torch__.torch.nn.modules.container.ModuleList = prim::GetAttr[name=\"cv3\"](%_21.1)\n",
            "\t\t    %_2.1 : __torch__.torch.nn.modules.container.Sequential = prim::GetAttr[name=\"2\"](%cv3.1)\n",
            "\t\t    %_1.1 : __torch__.torch.nn.modules.container.Sequential = prim::GetAttr[name=\"1\"](%_2.1)\n",
            "\t\t    %_1.3 : __torch__.ultralytics.nn.modules.conv.Conv = prim::GetAttr[name=\"1\"](%_1.1)\n",
            "\t\t    %act.1 : __torch__.torch.nn.modules.activation.SiLU = prim::GetAttr[name=\"act\"](%_1.3)\n",
            "\t\t    %model.1 : __torch__.torch.nn.modules.container.Sequential = prim::GetAttr[name=\"model\"](%self.1)\n",
            "\t\t    %_0.1 : __torch__.ultralytics.nn.modules.conv.Conv = prim::GetAttr[name=\"0\"](%model.1)\n",
            "\t\t    %75 : int = prim::Constant[value=2](), scope: __module.model.0/__module.model.0.conv # /usr/local/lib/python3.11/dist-packages/torch/nn/modules/conv.py:549:0\n",
            "\t\t    %76 : int = prim::Constant[value=1](), scope: __module.model.0/__module.model.0.conv # /usr/local/lib/python3.11/dist-packages/torch/nn/modules/conv.py:549:0\n",
            "\t\t    %77 : bool = prim::Constant[value=0](), scope: __module.model.0/__module.model.0.conv # /usr/local/lib/python3.11/dist-packages/torch/nn/modules/conv.py:549:0\n",
            "\t\t    %78 : int = prim::Constant[value=0](), scope: __module.model.0/__module.model.0.conv # /usr/local/lib/python3.11/dist-packages/torch/nn/modules/conv.py:549:0\n",
            "\t\t    %79 : bool = prim::Constant[value=1](), scope: __module.model.0/__module.model.0.conv # /usr/local/lib/python3.11/dist-packages/torch/nn/modules/conv.py:549:0\n",
            "\t\t    %conv.1 : __torch__.torch.nn.modules.conv.Conv2d = prim::GetAttr[name=\"conv\"](%_0.1)\n",
            "\t\t    %bias.239 : Tensor = prim::GetAttr[name=\"bias\"](%conv.1)\n",
            "\t\t    %weight.241 : Tensor = prim::GetAttr[name=\"weight\"](%conv.1)\n",
            "\t\t    %83 : int[] = prim::ListConstruct(%75, %75), scope: __module.model.0/__module.model.0.conv\n",
            "\t\t    %84 : int[] = prim::ListConstruct(%76, %76), scope: __module.model.0/__module.model.0.conv\n",
            "\t\t    %85 : int[] = prim::ListConstruct(%76, %76), scope: __module.model.0/__module.model.0.conv\n",
            "\t\t    %86 : int[] = prim::ListConstruct(%78, %78), scope: __module.model.0/__module.model.0.conv\n",
            "\t\t    %input.1 : Tensor = aten::_convolution(%x.1, %weight.241, %bias.239, %83, %84, %85, %77, %86, %76, %77, %79, %79, %79), scope: __module.model.0/__module.model.0.conv # /usr/local/lib/python3.11/dist-packages/torch/nn/modules/conv.py:549:0\n",
            "\t\t    %input.3 : Tensor = aten::silu_(%input.1), scope: __module.model.0/__module.model.21.cv3.2.1.1.act # /usr/local/lib/python3.11/dist-packages/torch/nn/functional.py:2379:0\n",
            "\t\t    %89 : int = prim::Constant[value=2](), scope: __module.model.1/__module.model.1.conv # /usr/local/lib/python3.11/dist-packages/torch/nn/modules/conv.py:549:0\n",
            "\t\t    %90 : int = prim::Constant[value=1](), scope: __module.model.1/__module.model.1.conv # /usr/local/lib/python3.11/dist-packages/torch/nn/modules/conv.py:549:0\n",
            "\t\t    %91 : bool = prim::Constant[value=0](), scope: __module.model.1/__module.model.1.conv # /usr/local/lib/python3.11/dist-packages/torch/nn/modules/conv.py:549:0\n",
            "\t\t    %92 : int = prim::Constant[value=0](), scope: __module.model.1/__module.model.1.conv # /usr/local/lib/python3.11/dist-packages/torch/nn/modules/conv.py:549:0\n",
            "\t\t    %93 : bool = prim::Constant[value=1](), scope: __module.model.1/__module.model.1.conv # /usr/local/lib/python3.11/dist-packages/torch/nn/modules/conv.py:549:0\n",
            "\t\t    %conv.3 : __torch__.torch.nn.modules.conv.Conv2d = prim::GetAttr[name=\"conv\"](%_1.5)\n",
            "\t\t    %bias.241 : Tensor = prim::GetAttr[name=\"bias\"](%conv.3)\n",
            "\t\t    %weight.243 : Tensor = prim::GetAttr[name=\"weight\"](%conv.3)\n",
            "\t\t    %97 : int[] = prim::ListConstruct(%89, %89), scope: __module.model.1/__module.model.1.conv\n",
            "\t\t    %98 : int[] = prim::ListConstruct(%90, %90), scope: __module.model.1/__module.model.1.conv\n",
            "\t\t    %99 : int[] = prim::ListConstruct(%90, %90), scope: __module.model.1/__module.model.1.conv\n",
            "\t\t    %100 : int[] = prim::ListConstruct(%92, %92), scope: __module.model.1/__module.model.1.conv\n",
            "\t\t    %input.5 : Tensor = aten::_convolution(%input.3, %weight.243, %bias.241, %97, %98, %99, %91, %100, %90, %91, %93, %93, %93), scope: __module.model.1/__module.model.1.conv # /usr/local/lib/python3.11/dist-packages/torch/nn/modules/conv.py:549:0\n",
            "\t\t    %input.7 : Tensor = aten::silu_(%input.5), scope: __module.model.1/__module.model.21.cv3.2.1.1.act # /usr/local/lib/python3.11/dist-packages/torch/nn/functional.py:2379:0\n",
            "\t\t    %103 : int = prim::Constant[value=2](), scope: __module.model.2 # /content/yolov12/ultralytics/nn/modules/block.py:238:0\n",
            "\t\t    %104 : bool = prim::Constant[value=1](), scope: __module.model.2/__module.model.2.cv1/__module.model.2.cv1.conv # /usr/local/lib/python3.11/dist-packages/torch/nn/modules/conv.py:549:0\n",
            "\t\t    %105 : bool = prim::Constant[value=0](), scope: __module.model.2/__module.model.2.cv1/__module.model.2.cv1.conv # /usr/local/lib/python3.11/dist-packages/torch/nn/modules/conv.py:549:0\n",
            "\t\t    %106 : int = prim::Constant[value=0](), scope: __module.model.2/__module.model.2.cv1/__module.model.2.cv1.conv # /usr/local/lib/python3.11/dist-packages/torch/nn/modules/conv.py:549:0\n",
            "\t\t    %107 : int = prim::Constant[value=1](), scope: __module.model.2/__module.model.2.cv1/__module.model.2.cv1.conv # /usr/local/lib/python3.11/dist-packages/torch/nn/modules/conv.py:549:0\n",
            "\t\t    %cv2.3 : __torch__.ultralytics.nn.modules.conv.Conv = prim::GetAttr[name=\"cv2\"](%_2.3)\n",
            "\t\t    %m.1 : __torch__.torch.nn.modules.container.ModuleList = prim::GetAttr[name=\"m\"](%_2.3)\n",
            "\t\t    %_0.3 : __torch__.ultralytics.nn.modules.block.Bottleneck = prim::GetAttr[name=\"0\"](%m.1)\n",
            "\t\t    %cv1.1 : __torch__.ultralytics.nn.modules.conv.Conv = prim::GetAttr[name=\"cv1\"](%_2.3)\n",
            "\t\t    %conv.5 : __torch__.torch.nn.modules.conv.Conv2d = prim::GetAttr[name=\"conv\"](%cv1.1)\n",
            "\t\t    %bias.243 : Tensor = prim::GetAttr[name=\"bias\"](%conv.5)\n",
            "\t\t    %weight.245 : Tensor = prim::GetAttr[name=\"weight\"](%conv.5)\n",
            "\t\t    %115 : int[] = prim::ListConstruct(%107, %107), scope: __module.model.2/__module.model.2.cv1/__module.model.2.cv1.conv\n",
            "\t\t    %116 : int[] = prim::ListConstruct(%106, %106), scope: __module.model.2/__module.model.2.cv1/__module.model.2.cv1.conv\n",
            "\t\t    %117 : int[] = prim::ListConstruct(%107, %107), scope: __module.model.2/__module.model.2.cv1/__module.model.2.cv1.conv\n",
            "\t\t    %118 : int[] = prim::ListConstruct(%106, %106), scope: __module.model.2/__module.model.2.cv1/__module.model.2.cv1.conv\n",
            "\t\t    %input.9 : Tensor = aten::_convolution(%input.7, %weight.245, %bias.243, %115, %116, %117, %105, %118, %107, %105, %104, %104, %104), scope: __module.model.2/__module.model.2.cv1/__module.model.2.cv1.conv # /usr/local/lib/python3.11/dist-packages/torch/nn/modules/conv.py:549:0\n",
            "\t\t    %120 : Tensor = aten::silu_(%input.9), scope: __module.model.2/__module.model.2.cv1/__module.model.21.cv3.2.1.1.act # /usr/local/lib/python3.11/dist-packages/torch/nn/functional.py:2379:0\n",
            "\t\t    %121 : Tensor[] = aten::chunk(%120, %103, %107), scope: __module.model.2 # /content/yolov12/ultralytics/nn/modules/block.py:238:0\n",
            "\t\t    %122 : Tensor, %input.11 : Tensor = prim::ListUnpack(%121), scope: __module.model.2\n",
            "\t\t    %cv2.1 : __torch__.ultralytics.nn.modules.conv.Conv = prim::GetAttr[name=\"cv2\"](%_0.3)\n",
            "\t\t    %cv1.3 : __torch__.ultralytics.nn.modules.conv.Conv = prim::GetAttr[name=\"cv1\"](%_0.3)\n",
            "\t\t    %conv.7 : __torch__.torch.nn.modules.conv.Conv2d = prim::GetAttr[name=\"conv\"](%cv1.3)\n",
            "\t\t    %bias.245 : Tensor = prim::GetAttr[name=\"bias\"](%conv.7)\n",
            "\t\t    %weight.247 : Tensor = prim::GetAttr[name=\"weight\"](%conv.7)\n",
            "\t\t    %129 : int[] = prim::ListConstruct(%107, %107), scope: __module.model.2/__module.model.2.m.0/__module.model.2.m.0.cv1/__module.model.2.m.0.cv1.conv\n",
            "\t\t    %130 : int[] = prim::ListConstruct(%107, %107), scope: __module.model.2/__module.model.2.m.0/__module.model.2.m.0.cv1/__module.model.2.m.0.cv1.conv\n",
            "\t\t    %131 : int[] = prim::ListConstruct(%107, %107), scope: __module.model.2/__module.model.2.m.0/__module.model.2.m.0.cv1/__module.model.2.m.0.cv1.conv\n",
            "\t\t    %132 : int[] = prim::ListConstruct(%106, %106), scope: __module.model.2/__module.model.2.m.0/__module.model.2.m.0.cv1/__module.model.2.m.0.cv1.conv\n",
            "\t\t    %input.13 : Tensor = aten::_convolution(%input.11, %weight.247, %bias.245, %129, %130, %131, %105, %132, %107, %105, %104, %104, %104), scope: __module.model.2/__module.model.2.m.0/__module.model.2.m.0.cv1/__module.model.2.m.0.cv1.conv # /usr/local/lib/python3.11/dist-packages/torch/nn/modules/conv.py:549:0\n",
            "\t\t    %input.15 : Tensor = aten::silu_(%input.13), scope: __module.model.2/__module.model.2.m.0/__module.model.2.m.0.cv1/__module.model.21.cv3.2.1.1.act # /usr/local/lib/python3.11/dist-packages/torch/nn/functional.py:2379:0\n",
            "\t\t    %conv.9 : __torch__.torch.nn.modules.conv.Conv2d = prim::GetAttr[name=\"conv\"](%cv2.1)\n",
            "\t\t    %bias.247 : Tensor = prim::GetAttr[name=\"bias\"](%conv.9)\n",
            "\t\t    %weight.249 : Tensor = prim::GetAttr[name=\"weight\"](%conv.9)\n",
            "\t\t    %138 : int[] = prim::ListConstruct(%107, %107), scope: __module.model.2/__module.model.2.m.0/__module.model.2.m.0.cv2/__module.model.2.m.0.cv2.conv\n",
            "\t\t    %139 : int[] = prim::ListConstruct(%107, %107), scope: __module.model.2/__module.model.2.m.0/__module.model.2.m.0.cv2/__module.model.2.m.0.cv2.conv\n",
            "\t\t    %140 : int[] = prim::ListConstruct(%107, %107), scope: __module.model.2/__module.model.2.m.0/__module.model.2.m.0.cv2/__module.model.2.m.0.cv2.conv\n",
            "\t\t    %141 : int[] = prim::ListConstruct(%106, %106), scope: __module.model.2/__module.model.2.m.0/__module.model.2.m.0.cv2/__module.model.2.m.0.cv2.conv\n",
            "\t\t    %input.17 : Tensor = aten::_convolution(%input.15, %weight.249, %bias.247, %138, %139, %140, %105, %141, %107, %105, %104, %104, %104), scope: __module.model.2/__module.model.2.m.0/__module.model.2.m.0.cv2/__module.model.2.m.0.cv2.conv # /usr/local/lib/python3.11/dist-packages/torch/nn/modules/conv.py:549:0\n",
            "\t\t    %143 : Tensor = aten::silu_(%input.17), scope: __module.model.2/__module.model.2.m.0/__module.model.2.m.0.cv2/__module.model.21.cv3.2.1.1.act # /usr/local/lib/python3.11/dist-packages/torch/nn/functional.py:2379:0\n",
            "\t\t    %144 : Tensor = aten::add(%input.11, %143, %107), scope: __module.model.2/__module.model.2.m.0 # /content/yolov12/ultralytics/nn/modules/block.py:348:0\n",
            "\t\t    %145 : Tensor[] = prim::ListConstruct(%122, %input.11, %144), scope: __module.model.2\n",
            "\t\t    %input.19 : Tensor = aten::cat(%145, %107), scope: __module.model.2 # /content/yolov12/ultralytics/nn/modules/block.py:240:0\n",
            "\t\t    %conv.11 : __torch__.torch.nn.modules.conv.Conv2d = prim::GetAttr[name=\"conv\"](%cv2.3)\n",
            "\t\t    %bias.249 : Tensor = prim::GetAttr[name=\"bias\"](%conv.11)\n",
            "\t\t    %weight.251 : Tensor = prim::GetAttr[name=\"weight\"](%conv.11)\n",
            "\t\t    %150 : int[] = prim::ListConstruct(%107, %107), scope: __module.model.2/__module.model.2.cv2/__module.model.2.cv2.conv\n",
            "\t\t    %151 : int[] = prim::ListConstruct(%106, %106), scope: __module.model.2/__module.model.2.cv2/__module.model.2.cv2.conv\n",
            "\t\t    %152 : int[] = prim::ListConstruct(%107, %107), scope: __module.model.2/__module.model.2.cv2/__module.model.2.cv2.conv\n",
            "\t\t    %153 : int[] = prim::ListConstruct(%106, %106), scope: __module.model.2/__module.model.2.cv2/__module.model.2.cv2.conv\n",
            "\t\t    %input.21 : Tensor = aten::_convolution(%input.19, %weight.251, %bias.249, %150, %151, %152, %105, %153, %107, %105, %104, %104, %104), scope: __module.model.2/__module.model.2.cv2/__module.model.2.cv2.conv # /usr/local/lib/python3.11/dist-packages/torch/nn/modules/conv.py:549:0\n",
            "\t\t    %input.23 : Tensor = aten::silu_(%input.21), scope: __module.model.2/__module.model.2.cv2/__module.model.21.cv3.2.1.1.act # /usr/local/lib/python3.11/dist-packages/torch/nn/functional.py:2379:0\n",
            "\t\t    %156 : int = prim::Constant[value=2](), scope: __module.model.3/__module.model.3.conv # /usr/local/lib/python3.11/dist-packages/torch/nn/modules/conv.py:549:0\n",
            "\t\t    %157 : int = prim::Constant[value=1](), scope: __module.model.3/__module.model.3.conv # /usr/local/lib/python3.11/dist-packages/torch/nn/modules/conv.py:549:0\n",
            "\t\t    %158 : bool = prim::Constant[value=0](), scope: __module.model.3/__module.model.3.conv # /usr/local/lib/python3.11/dist-packages/torch/nn/modules/conv.py:549:0\n",
            "\t\t    %159 : int = prim::Constant[value=0](), scope: __module.model.3/__module.model.3.conv # /usr/local/lib/python3.11/dist-packages/torch/nn/modules/conv.py:549:0\n",
            "\t\t    %160 : bool = prim::Constant[value=1](), scope: __module.model.3/__module.model.3.conv # /usr/local/lib/python3.11/dist-packages/torch/nn/modules/conv.py:549:0\n",
            "\t\t    %conv.13 : __torch__.torch.nn.modules.conv.Conv2d = prim::GetAttr[name=\"conv\"](%_3)\n",
            "\t\t    %bias.251 : Tensor = prim::GetAttr[name=\"bias\"](%conv.13)\n",
            "\t\t    %weight.253 : Tensor = prim::GetAttr[name=\"weight\"](%conv.13)\n",
            "\t\t    %164 : int[] = prim::ListConstruct(%156, %156), scope: __module.model.3/__module.model.3.conv\n",
            "\t\t    %165 : int[] = prim::ListConstruct(%157, %157), scope: __module.model.3/__module.model.3.conv\n",
            "\t\t    %166 : int[] = prim::ListConstruct(%157, %157), scope: __module.model.3/__module.model.3.conv\n",
            "\t\t    %167 : int[] = prim::ListConstruct(%159, %159), scope: __module.model.3/__module.model.3.conv\n",
            "\t\t    %input.25 : Tensor = aten::_convolution(%input.23, %weight.253, %bias.251, %164, %165, %166, %158, %167, %157, %158, %160, %160, %160), scope: __module.model.3/__module.model.3.conv # /usr/local/lib/python3.11/dist-packages/torch/nn/modules/conv.py:549:0\n",
            "\t\t    %input.27 : Tensor = aten::silu_(%input.25), scope: __module.model.3/__module.model.21.cv3.2.1.1.act # /usr/local/lib/python3.11/dist-packages/torch/nn/functional.py:2379:0\n",
            "\t\t    %170 : int = prim::Constant[value=2](), scope: __module.model.4 # /content/yolov12/ultralytics/nn/modules/block.py:238:0\n",
            "\t\t    %171 : bool = prim::Constant[value=1](), scope: __module.model.4/__module.model.4.cv1/__module.model.4.cv1.conv # /usr/local/lib/python3.11/dist-packages/torch/nn/modules/conv.py:549:0\n",
            "\t\t    %172 : bool = prim::Constant[value=0](), scope: __module.model.4/__module.model.4.cv1/__module.model.4.cv1.conv # /usr/local/lib/python3.11/dist-packages/torch/nn/modules/conv.py:549:0\n",
            "\t\t    %173 : int = prim::Constant[value=0](), scope: __module.model.4/__module.model.4.cv1/__module.model.4.cv1.conv # /usr/local/lib/python3.11/dist-packages/torch/nn/modules/conv.py:549:0\n",
            "\t\t    %174 : int = prim::Constant[value=1](), scope: __module.model.4/__module.model.4.cv1/__module.model.4.cv1.conv # /usr/local/lib/python3.11/dist-packages/torch/nn/modules/conv.py:549:0\n",
            "\t\t    %cv2.7 : __torch__.ultralytics.nn.modules.conv.Conv = prim::GetAttr[name=\"cv2\"](%_4)\n",
            "\t\t    %m.3 : __torch__.torch.nn.modules.container.ModuleList = prim::GetAttr[name=\"m\"](%_4)\n",
            "\t\t    %_0.5 : __torch__.ultralytics.nn.modules.block.Bottleneck = prim::GetAttr[name=\"0\"](%m.3)\n",
            "\t\t    %cv1.5 : __torch__.ultralytics.nn.modules.conv.Conv = prim::GetAttr[name=\"cv1\"](%_4)\n",
            "\t\t    %conv.15 : __torch__.torch.nn.modules.conv.Conv2d = prim::GetAttr[name=\"conv\"](%cv1.5)\n",
            "\t\t    %bias.253 : Tensor = prim::GetAttr[name=\"bias\"](%conv.15)\n",
            "\t\t    %weight.255 : Tensor = prim::GetAttr[name=\"weight\"](%conv.15)\n",
            "\t\t    %182 : int[] = prim::ListConstruct(%174, %174), scope: __module.model.4/__module.model.4.cv1/__module.model.4.cv1.conv\n",
            "\t\t    %183 : int[] = prim::ListConstruct(%173, %173), scope: __module.model.4/__module.model.4.cv1/__module.model.4.cv1.conv\n",
            "\t\t    %184 : int[] = prim::ListConstruct(%174, %174), scope: __module.model.4/__module.model.4.cv1/__module.model.4.cv1.conv\n",
            "\t\t    %185 : int[] = prim::ListConstruct(%173, %173), scope: __module.model.4/__module.model.4.cv1/__module.model.4.cv1.conv\n",
            "\t\t    %input.29 : Tensor = aten::_convolution(%input.27, %weight.255, %bias.253, %182, %183, %184, %172, %185, %174, %172, %171, %171, %171), scope: __module.model.4/__module.model.4.cv1/__module.model.4.cv1.conv # /usr/local/lib/python3.11/dist-packages/torch/nn/modules/conv.py:549:0\n",
            "\t\t    %187 : Tensor = aten::silu_(%input.29), scope: __module.model.4/__module.model.4.cv1/__module.model.21.cv3.2.1.1.act # /usr/local/lib/python3.11/dist-packages/torch/nn/functional.py:2379:0\n",
            "\t\t    %188 : Tensor[] = aten::chunk(%187, %170, %174), scope: __module.model.4 # /content/yolov12/ultralytics/nn/modules/block.py:238:0\n",
            "\t\t    %189 : Tensor, %input.31 : Tensor = prim::ListUnpack(%188), scope: __module.model.4\n",
            "\t\t    %cv2.5 : __torch__.ultralytics.nn.modules.conv.Conv = prim::GetAttr[name=\"cv2\"](%_0.5)\n",
            "\t\t    %cv1.7 : __torch__.ultralytics.nn.modules.conv.Conv = prim::GetAttr[name=\"cv1\"](%_0.5)\n",
            "\t\t    %conv.17 : __torch__.torch.nn.modules.conv.Conv2d = prim::GetAttr[name=\"conv\"](%cv1.7)\n",
            "\t\t    %bias.255 : Tensor = prim::GetAttr[name=\"bias\"](%conv.17)\n",
            "\t\t    %weight.257 : Tensor = prim::GetAttr[name=\"weight\"](%conv.17)\n",
            "\t\t    %196 : int[] = prim::ListConstruct(%174, %174), scope: __module.model.4/__module.model.4.m.0/__module.model.4.m.0.cv1/__module.model.4.m.0.cv1.conv\n",
            "\t\t    %197 : int[] = prim::ListConstruct(%174, %174), scope: __module.model.4/__module.model.4.m.0/__module.model.4.m.0.cv1/__module.model.4.m.0.cv1.conv\n",
            "\t\t    %198 : int[] = prim::ListConstruct(%174, %174), scope: __module.model.4/__module.model.4.m.0/__module.model.4.m.0.cv1/__module.model.4.m.0.cv1.conv\n",
            "\t\t    %199 : int[] = prim::ListConstruct(%173, %173), scope: __module.model.4/__module.model.4.m.0/__module.model.4.m.0.cv1/__module.model.4.m.0.cv1.conv\n",
            "\t\t    %input.33 : Tensor = aten::_convolution(%input.31, %weight.257, %bias.255, %196, %197, %198, %172, %199, %174, %172, %171, %171, %171), scope: __module.model.4/__module.model.4.m.0/__module.model.4.m.0.cv1/__module.model.4.m.0.cv1.conv # /usr/local/lib/python3.11/dist-packages/torch/nn/modules/conv.py:549:0\n",
            "\t\t    %input.35 : Tensor = aten::silu_(%input.33), scope: __module.model.4/__module.model.4.m.0/__module.model.4.m.0.cv1/__module.model.21.cv3.2.1.1.act # /usr/local/lib/python3.11/dist-packages/torch/nn/functional.py:2379:0\n",
            "\t\t    %conv.19 : __torch__.torch.nn.modules.conv.Conv2d = prim::GetAttr[name=\"conv\"](%cv2.5)\n",
            "\t\t    %bias.257 : Tensor = prim::GetAttr[name=\"bias\"](%conv.19)\n",
            "\t\t    %weight.259 : Tensor = prim::GetAttr[name=\"weight\"](%conv.19)\n",
            "\t\t    %205 : int[] = prim::ListConstruct(%174, %174), scope: __module.model.4/__module.model.4.m.0/__module.model.4.m.0.cv2/__module.model.4.m.0.cv2.conv\n",
            "\t\t    %206 : int[] = prim::ListConstruct(%174, %174), scope: __module.model.4/__module.model.4.m.0/__module.model.4.m.0.cv2/__module.model.4.m.0.cv2.conv\n",
            "\t\t    %207 : int[] = prim::ListConstruct(%174, %174), scope: __module.model.4/__module.model.4.m.0/__module.model.4.m.0.cv2/__module.model.4.m.0.cv2.conv\n",
            "\t\t    %208 : int[] = prim::ListConstruct(%173, %173), scope: __module.model.4/__module.model.4.m.0/__module.model.4.m.0.cv2/__module.model.4.m.0.cv2.conv\n",
            "\t\t    %input.37 : Tensor = aten::_convolution(%input.35, %weight.259, %bias.257, %205, %206, %207, %172, %208, %174, %172, %171, %171, %171), scope: __module.model.4/__module.model.4.m.0/__module.model.4.m.0.cv2/__module.model.4.m.0.cv2.conv # /usr/local/lib/python3.11/dist-packages/torch/nn/modules/conv.py:549:0\n",
            "\t\t    %210 : Tensor = aten::silu_(%input.37), scope: __module.model.4/__module.model.4.m.0/__module.model.4.m.0.cv2/__module.model.21.cv3.2.1.1.act # /usr/local/lib/python3.11/dist-packages/torch/nn/functional.py:2379:0\n",
            "\t\t    %211 : Tensor = aten::add(%input.31, %210, %174), scope: __module.model.4/__module.model.4.m.0 # /content/yolov12/ultralytics/nn/modules/block.py:348:0\n",
            "\t\t    %212 : Tensor[] = prim::ListConstruct(%189, %input.31, %211), scope: __module.model.4\n",
            "\t\t    %input.39 : Tensor = aten::cat(%212, %174), scope: __module.model.4 # /content/yolov12/ultralytics/nn/modules/block.py:240:0\n",
            "\t\t    %conv.21 : __torch__.torch.nn.modules.conv.Conv2d = prim::GetAttr[name=\"conv\"](%cv2.7)\n",
            "\t\t    %bias.259 : Tensor = prim::GetAttr[name=\"bias\"](%conv.21)\n",
            "\t\t    %weight.261 : Tensor = prim::GetAttr[name=\"weight\"](%conv.21)\n",
            "\t\t    %217 : int[] = prim::ListConstruct(%174, %174), scope: __module.model.4/__module.model.4.cv2/__module.model.4.cv2.conv\n",
            "\t\t    %218 : int[] = prim::ListConstruct(%173, %173), scope: __module.model.4/__module.model.4.cv2/__module.model.4.cv2.conv\n",
            "\t\t    %219 : int[] = prim::ListConstruct(%174, %174), scope: __module.model.4/__module.model.4.cv2/__module.model.4.cv2.conv\n",
            "\t\t    %220 : int[] = prim::ListConstruct(%173, %173), scope: __module.model.4/__module.model.4.cv2/__module.model.4.cv2.conv\n",
            "\t\t    %input.41 : Tensor = aten::_convolution(%input.39, %weight.261, %bias.259, %217, %218, %219, %172, %220, %174, %172, %171, %171, %171), scope: __module.model.4/__module.model.4.cv2/__module.model.4.cv2.conv # /usr/local/lib/python3.11/dist-packages/torch/nn/modules/conv.py:549:0\n",
            "\t\t    %input.43 : Tensor = aten::silu_(%input.41), scope: __module.model.4/__module.model.4.cv2/__module.model.21.cv3.2.1.1.act # /usr/local/lib/python3.11/dist-packages/torch/nn/functional.py:2379:0\n",
            "\t\t    %223 : int = prim::Constant[value=2](), scope: __module.model.5/__module.model.5.conv # /usr/local/lib/python3.11/dist-packages/torch/nn/modules/conv.py:549:0\n",
            "\t\t    %224 : int = prim::Constant[value=1](), scope: __module.model.5/__module.model.5.conv # /usr/local/lib/python3.11/dist-packages/torch/nn/modules/conv.py:549:0\n",
            "\t\t    %225 : bool = prim::Constant[value=0](), scope: __module.model.5/__module.model.5.conv # /usr/local/lib/python3.11/dist-packages/torch/nn/modules/conv.py:549:0\n",
            "\t\t    %226 : int = prim::Constant[value=0](), scope: __module.model.5/__module.model.5.conv # /usr/local/lib/python3.11/dist-packages/torch/nn/modules/conv.py:549:0\n",
            "\t\t    %227 : bool = prim::Constant[value=1](), scope: __module.model.5/__module.model.5.conv # /usr/local/lib/python3.11/dist-packages/torch/nn/modules/conv.py:549:0\n",
            "\t\t    %conv.23 : __torch__.torch.nn.modules.conv.Conv2d = prim::GetAttr[name=\"conv\"](%_5)\n",
            "\t\t    %bias.261 : Tensor = prim::GetAttr[name=\"bias\"](%conv.23)\n",
            "\t\t    %weight.263 : Tensor = prim::GetAttr[name=\"weight\"](%conv.23)\n",
            "\t\t    %231 : int[] = prim::ListConstruct(%223, %223), scope: __module.model.5/__module.model.5.conv\n",
            "\t\t    %232 : int[] = prim::ListConstruct(%224, %224), scope: __module.model.5/__module.model.5.conv\n",
            "\t\t    %233 : int[] = prim::ListConstruct(%224, %224), scope: __module.model.5/__module.model.5.conv\n",
            "\t\t    %234 : int[] = prim::ListConstruct(%226, %226), scope: __module.model.5/__module.model.5.conv\n",
            "\t\t    %input.45 : Tensor = aten::_convolution(%input.43, %weight.263, %bias.261, %231, %232, %233, %225, %234, %224, %225, %227, %227, %227), scope: __module.model.5/__module.model.5.conv # /usr/local/lib/python3.11/dist-packages/torch/nn/modules/conv.py:549:0\n",
            "\t\t    %input.47 : Tensor = aten::silu_(%input.45), scope: __module.model.5/__module.model.21.cv3.2.1.1.act # /usr/local/lib/python3.11/dist-packages/torch/nn/functional.py:2379:0\n",
            "\t\t    %237 : int = prim::Constant[value=2](), scope: __module.model.6/__module.model.6.m.0/__module.model.6.m.0.0/__module.model.6.m.0.0.attn # /content/yolov12/ultralytics/nn/modules/block.py:1219:0\n",
            "\t\t    %238 : int = prim::Constant[value=3](), scope: __module.model.6/__module.model.6.m.0/__module.model.6.m.0.0/__module.model.6.m.0.0.attn # /content/yolov12/ultralytics/nn/modules/block.py:1219:0\n",
            "\t\t    %239 : int = prim::Constant[value=-1](), scope: __module.model.6/__module.model.6.m.0/__module.model.6.m.0.0/__module.model.6.m.0.0.attn # /content/yolov12/ultralytics/nn/modules/block.py:1222:0\n",
            "\t\t    %240 : Tensor = prim::Constant[value={4}](), scope: __module.model.6/__module.model.6.m.0/__module.model.6.m.0.0/__module.model.6.m.0.0.attn # /content/yolov12/ultralytics/nn/modules/block.py:1224:0\n",
            "\t\t    %241 : Tensor = prim::Constant[value={3}](), scope: __module.model.6/__module.model.6.m.0/__module.model.6.m.0.0/__module.model.6.m.0.0.attn # /content/yolov12/ultralytics/nn/modules/block.py:1224:0\n",
            "\t\t    %242 : int = prim::Constant[value=4](), scope: __module.model.6/__module.model.6.m.0/__module.model.6.m.0.0/__module.model.6.m.0.0.attn # /content/yolov12/ultralytics/nn/modules/block.py:1226:0\n",
            "\t\t    %243 : int = prim::Constant[value=96](), scope: __module.model.6/__module.model.6.m.0/__module.model.6.m.0.0/__module.model.6.m.0.0.attn # /content/yolov12/ultralytics/nn/modules/block.py:1226:0\n",
            "\t\t    %244 : int = prim::Constant[value=32](), scope: __module.model.6/__module.model.6.m.0/__module.model.6.m.0.0/__module.model.6.m.0.0.attn # /usr/local/lib/python3.11/dist-packages/torch/_tensor.py:983:0\n",
            "\t\t    %245 : int = prim::Constant[value=5](), scope: __module.model.6/__module.model.6.m.0/__module.model.6.m.0.0/__module.model.6.m.0.0.attn # /content/yolov12/ultralytics/nn/modules/block.py:1232:0\n",
            "\t\t    %246 : NoneType = prim::Constant(), scope: __module.model.6/__module.model.6.m.0/__module.model.6.m.0.0/__module.model.6.m.0.0.attn\n",
            "\t\t    %247 : int = prim::Constant[value=6](), scope: __module.model.6/__module.model.6.m.0/__module.model.6.m.0.0/__module.model.6.m.0.0.attn # /content/yolov12/ultralytics/nn/modules/block.py:1235:0\n",
            "\t\t    %248 : int = prim::Constant[value=128](), scope: __module.model.6/__module.model.6.m.0/__module.model.6.m.0.0/__module.model.6.m.0.0.attn/__module.model.6.m.0.0.attn.pe/__module.model.6.m.0.0.attn.pe.conv # /usr/local/lib/python3.11/dist-packages/torch/nn/modules/conv.py:549:0\n",
            "\t\t    %249 : bool = prim::Constant[value=1](), scope: __module.model.6/__module.model.6.cv1/__module.model.6.cv1.conv # /usr/local/lib/python3.11/dist-packages/torch/nn/modules/conv.py:549:0\n",
            "\t\t    %250 : bool = prim::Constant[value=0](), scope: __module.model.6/__module.model.6.cv1/__module.model.6.cv1.conv # /usr/local/lib/python3.11/dist-packages/torch/nn/modules/conv.py:549:0\n",
            "\t\t    %251 : int = prim::Constant[value=0](), scope: __module.model.6/__module.model.6.cv1/__module.model.6.cv1.conv # /usr/local/lib/python3.11/dist-packages/torch/nn/modules/conv.py:549:0\n",
            "\t\t    %252 : int = prim::Constant[value=1](), scope: __module.model.6/__module.model.6.cv1/__module.model.6.cv1.conv # /usr/local/lib/python3.11/dist-packages/torch/nn/modules/conv.py:549:0\n",
            "\t\t    %cv2.9 : __torch__.ultralytics.nn.modules.conv.Conv = prim::GetAttr[name=\"cv2\"](%_6)\n",
            "\t\t    %m.7 : __torch__.torch.nn.modules.container.ModuleList = prim::GetAttr[name=\"m\"](%_6)\n",
            "\t\t    %_1.19 : __torch__.torch.nn.modules.container.Sequential = prim::GetAttr[name=\"1\"](%m.7)\n",
            "\t\t    %m.5 : __torch__.torch.nn.modules.container.ModuleList = prim::GetAttr[name=\"m\"](%_6)\n",
            "\t\t    %_0.13 : __torch__.torch.nn.modules.container.Sequential = prim::GetAttr[name=\"0\"](%m.5)\n",
            "\t\t    %cv1.9 : __torch__.ultralytics.nn.modules.conv.Conv = prim::GetAttr[name=\"cv1\"](%_6)\n",
            "\t\t    %conv.25 : __torch__.torch.nn.modules.conv.Conv2d = prim::GetAttr[name=\"conv\"](%cv1.9)\n",
            "\t\t    %bias.263 : Tensor = prim::GetAttr[name=\"bias\"](%conv.25)\n",
            "\t\t    %weight.265 : Tensor = prim::GetAttr[name=\"weight\"](%conv.25)\n",
            "\t\t    %262 : int[] = prim::ListConstruct(%252, %252), scope: __module.model.6/__module.model.6.cv1/__module.model.6.cv1.conv\n",
            "\t\t    %263 : int[] = prim::ListConstruct(%251, %251), scope: __module.model.6/__module.model.6.cv1/__module.model.6.cv1.conv\n",
            "\t\t    %264 : int[] = prim::ListConstruct(%252, %252), scope: __module.model.6/__module.model.6.cv1/__module.model.6.cv1.conv\n",
            "\t\t    %265 : int[] = prim::ListConstruct(%251, %251), scope: __module.model.6/__module.model.6.cv1/__module.model.6.cv1.conv\n",
            "\t\t    %input.49 : Tensor = aten::_convolution(%input.47, %weight.265, %bias.263, %262, %263, %264, %250, %265, %252, %250, %249, %249, %249), scope: __module.model.6/__module.model.6.cv1/__module.model.6.cv1.conv # /usr/local/lib/python3.11/dist-packages/torch/nn/modules/conv.py:549:0\n",
            "\t\t    %x.3 : Tensor = aten::silu_(%input.49), scope: __module.model.6/__module.model.6.cv1/__module.model.21.cv3.2.1.1.act # /usr/local/lib/python3.11/dist-packages/torch/nn/functional.py:2379:0\n",
            "\t\t    %_1.11 : __torch__.ultralytics.nn.modules.block.ABlock = prim::GetAttr[name=\"1\"](%_0.13)\n",
            "\t\t    %_0.9 : __torch__.ultralytics.nn.modules.block.ABlock = prim::GetAttr[name=\"0\"](%_0.13)\n",
            "\t\t    %mlp.1 : __torch__.torch.nn.modules.container.Sequential = prim::GetAttr[name=\"mlp\"](%_0.9)\n",
            "\t\t    %attn.1 : __torch__.ultralytics.nn.modules.block.AAttn = prim::GetAttr[name=\"attn\"](%_0.9)\n",
            "\t\t    %proj.1 : __torch__.ultralytics.nn.modules.conv.Conv = prim::GetAttr[name=\"proj\"](%attn.1)\n",
            "\t\t    %pe.1 : __torch__.ultralytics.nn.modules.conv.Conv = prim::GetAttr[name=\"pe\"](%attn.1)\n",
            "\t\t    %qkv.25 : __torch__.ultralytics.nn.modules.conv.Conv = prim::GetAttr[name=\"qkv\"](%attn.1)\n",
            "\t\t    %275 : int = aten::size(%x.3, %251), scope: __module.model.6/__module.model.6.m.0/__module.model.6.m.0.0/__module.model.6.m.0.0.attn # /content/yolov12/ultralytics/nn/modules/block.py:1219:0\n",
            "\t\t    %B.1 : Tensor = prim::NumToTensor(%275), scope: __module.model.6/__module.model.6.m.0/__module.model.6.m.0.0/__module.model.6.m.0.0.attn\n",
            "\t\t    %277 : int = aten::size(%x.3, %252), scope: __module.model.6/__module.model.6.m.0/__module.model.6.m.0.0/__module.model.6.m.0.0.attn # /content/yolov12/ultralytics/nn/modules/block.py:1219:0\n",
            "\t\t    %C.1 : Tensor = prim::NumToTensor(%277), scope: __module.model.6/__module.model.6.m.0/__module.model.6.m.0.0/__module.model.6.m.0.0.attn\n",
            "\t\t    %279 : int = aten::size(%x.3, %237), scope: __module.model.6/__module.model.6.m.0/__module.model.6.m.0.0/__module.model.6.m.0.0.attn # /content/yolov12/ultralytics/nn/modules/block.py:1219:0\n",
            "\t\t    %H.1 : Tensor = prim::NumToTensor(%279), scope: __module.model.6/__module.model.6.m.0/__module.model.6.m.0.0/__module.model.6.m.0.0.attn\n",
            "\t\t    %281 : int = aten::size(%x.3, %238), scope: __module.model.6/__module.model.6.m.0/__module.model.6.m.0.0/__module.model.6.m.0.0.attn # /content/yolov12/ultralytics/nn/modules/block.py:1219:0\n",
            "\t\t    %W.1 : Tensor = prim::NumToTensor(%281), scope: __module.model.6/__module.model.6.m.0/__module.model.6.m.0.0/__module.model.6.m.0.0.attn\n",
            "\t\t    %283 : Tensor = aten::mul(%H.1, %W.1), scope: __module.model.6/__module.model.6.m.0/__module.model.6.m.0.0/__module.model.6.m.0.0.attn # /content/yolov12/ultralytics/nn/modules/block.py:1220:0\n",
            "\t\t    %conv.27 : __torch__.torch.nn.modules.conv.Conv2d = prim::GetAttr[name=\"conv\"](%qkv.25)\n",
            "\t\t    %bias.265 : Tensor = prim::GetAttr[name=\"bias\"](%conv.27)\n",
            "\t\t    %weight.267 : Tensor = prim::GetAttr[name=\"weight\"](%conv.27)\n",
            "\t\t    %287 : int[] = prim::ListConstruct(%252, %252), scope: __module.model.6/__module.model.6.m.0/__module.model.6.m.0.0/__module.model.6.m.0.0.attn/__module.model.6.m.0.0.attn.qkv/__module.model.6.m.0.0.attn.qkv.conv\n",
            "\t\t    %288 : int[] = prim::ListConstruct(%251, %251), scope: __module.model.6/__module.model.6.m.0/__module.model.6.m.0.0/__module.model.6.m.0.0.attn/__module.model.6.m.0.0.attn.qkv/__module.model.6.m.0.0.attn.qkv.conv\n",
            "\t\t    %289 : int[] = prim::ListConstruct(%252, %252), scope: __module.model.6/__module.model.6.m.0/__module.model.6.m.0.0/__module.model.6.m.0.0.attn/__module.model.6.m.0.0.attn.qkv/__module.model.6.m.0.0.attn.qkv.conv\n",
            "\t\t    %290 : int[] = prim::ListConstruct(%251, %251), scope: __module.model.6/__module.model.6.m.0/__module.model.6.m.0.0/__module.model.6.m.0.0.attn/__module.model.6.m.0.0.attn.qkv/__module.model.6.m.0.0.attn.qkv.conv\n",
            "\t\t    %291 : Tensor = aten::_convolution(%x.3, %weight.267, %bias.265, %287, %288, %289, %250, %290, %252, %250, %249, %249, %249), scope: __module.model.6/__module.model.6.m.0/__module.model.6.m.0.0/__module.model.6.m.0.0.attn/__module.model.6.m.0.0.attn.qkv/__module.model.6.m.0.0.attn.qkv.conv # /usr/local/lib/python3.11/dist-packages/torch/nn/modules/conv.py:549:0\n",
            "\t\t    %292 : Tensor = aten::flatten(%291, %237, %239), scope: __module.model.6/__module.model.6.m.0/__module.model.6.m.0.0/__module.model.6.m.0.0.attn # /content/yolov12/ultralytics/nn/modules/block.py:1222:0\n",
            "\t\t    %qkv.1 : Tensor = aten::transpose(%292, %252, %237), scope: __module.model.6/__module.model.6.m.0/__module.model.6.m.0.0/__module.model.6.m.0.0.attn # /content/yolov12/ultralytics/nn/modules/block.py:1222:0\n",
            "\t\t    %294 : Tensor = aten::mul(%B.1, %240), scope: __module.model.6/__module.model.6.m.0/__module.model.6.m.0.0/__module.model.6.m.0.0.attn # /content/yolov12/ultralytics/nn/modules/block.py:1224:0\n",
            "\t\t    %295 : int = aten::Int(%294), scope: __module.model.6/__module.model.6.m.0/__module.model.6.m.0.0/__module.model.6.m.0.0.attn\n",
            "\t\t    %296 : Tensor = aten::floor_divide(%283, %240), scope: __module.model.6/__module.model.6.m.0/__module.model.6.m.0.0/__module.model.6.m.0.0.attn # /usr/local/lib/python3.11/dist-packages/torch/_tensor.py:1061:0\n",
            "\t\t    %297 : int = aten::Int(%296), scope: __module.model.6/__module.model.6.m.0/__module.model.6.m.0.0/__module.model.6.m.0.0.attn\n",
            "\t\t    %298 : Tensor = aten::mul(%C.1, %241), scope: __module.model.6/__module.model.6.m.0/__module.model.6.m.0.0/__module.model.6.m.0.0.attn # /content/yolov12/ultralytics/nn/modules/block.py:1224:0\n",
            "\t\t    %299 : int = aten::Int(%298), scope: __module.model.6/__module.model.6.m.0/__module.model.6.m.0.0/__module.model.6.m.0.0.attn\n",
            "\t\t    %300 : int[] = prim::ListConstruct(%295, %297, %299), scope: __module.model.6/__module.model.6.m.0/__module.model.6.m.0.0/__module.model.6.m.0.0.attn\n",
            "\t\t    %qkv.3 : Tensor = aten::reshape(%qkv.1, %300), scope: __module.model.6/__module.model.6.m.0/__module.model.6.m.0.0/__module.model.6.m.0.0.attn # /content/yolov12/ultralytics/nn/modules/block.py:1224:0\n",
            "\t\t    %302 : int = aten::size(%qkv.3, %251), scope: __module.model.6/__module.model.6.m.0/__module.model.6.m.0.0/__module.model.6.m.0.0.attn # /content/yolov12/ultralytics/nn/modules/block.py:1225:0\n",
            "\t\t    %B.3 : Tensor = prim::NumToTensor(%302), scope: __module.model.6/__module.model.6.m.0/__module.model.6.m.0.0/__module.model.6.m.0.0.attn\n",
            "\t\t    %304 : int = aten::size(%qkv.3, %252), scope: __module.model.6/__module.model.6.m.0/__module.model.6.m.0.0/__module.model.6.m.0.0.attn # /content/yolov12/ultralytics/nn/modules/block.py:1225:0\n",
            "\t\t    %N.1 : Tensor = prim::NumToTensor(%304), scope: __module.model.6/__module.model.6.m.0/__module.model.6.m.0.0/__module.model.6.m.0.0.attn\n",
            "\t\t    %306 : int[] = prim::ListConstruct(%302, %304, %242, %243), scope: __module.model.6/__module.model.6.m.0/__module.model.6.m.0.0/__module.model.6.m.0.0.attn\n",
            "\t\t    %307 : Tensor = aten::view(%qkv.3, %306), scope: __module.model.6/__module.model.6.m.0/__module.model.6.m.0.0/__module.model.6.m.0.0.attn # /content/yolov12/ultralytics/nn/modules/block.py:1226:0\n",
            "\t\t    %308 : int[] = prim::ListConstruct(%244, %244, %244), scope: __module.model.6/__module.model.6.m.0/__module.model.6.m.0.0/__module.model.6.m.0.0.attn\n",
            "\t\t    %309 : Tensor[] = aten::split_with_sizes(%307, %308, %238), scope: __module.model.6/__module.model.6.m.0/__module.model.6.m.0.0/__module.model.6.m.0.0.attn # /usr/local/lib/python3.11/dist-packages/torch/_tensor.py:983:0\n",
            "\t\t    %q.1 : Tensor, %k.1 : Tensor, %v.1 : Tensor = prim::ListUnpack(%309), scope: __module.model.6/__module.model.6.m.0/__module.model.6.m.0.0/__module.model.6.m.0.0.attn\n",
            "\t\t    %313 : Tensor = aten::contiguous(%q.1, %251), scope: __module.model.6/__module.model.6.m.0/__module.model.6.m.0.0/__module.model.6.m.0.0.attn # /content/yolov12/ultralytics/nn/modules/block.py:1232:0\n",
            "\t\t    %q.3 : Tensor = aten::to(%313, %245, %250, %250, %246), scope: __module.model.6/__module.model.6.m.0/__module.model.6.m.0.0/__module.model.6.m.0.0.attn # /content/yolov12/ultralytics/nn/modules/block.py:1232:0\n",
            "\t\t    %315 : Tensor = aten::contiguous(%k.1, %251), scope: __module.model.6/__module.model.6.m.0/__module.model.6.m.0.0/__module.model.6.m.0.0.attn # /content/yolov12/ultralytics/nn/modules/block.py:1233:0\n",
            "\t\t    %316 : Tensor = aten::to(%315, %245, %250, %250, %246), scope: __module.model.6/__module.model.6.m.0/__module.model.6.m.0.0/__module.model.6.m.0.0.attn # /content/yolov12/ultralytics/nn/modules/block.py:1233:0\n",
            "\t\t    %317 : Tensor = aten::contiguous(%v.1, %251), scope: __module.model.6/__module.model.6.m.0/__module.model.6.m.0.0/__module.model.6.m.0.0.attn # /content/yolov12/ultralytics/nn/modules/block.py:1234:0\n",
            "\t\t    %318 : Tensor = aten::to(%317, %245, %250, %250, %246), scope: __module.model.6/__module.model.6.m.0/__module.model.6.m.0.0/__module.model.6.m.0.0.attn # /content/yolov12/ultralytics/nn/modules/block.py:1234:0\n",
            "\t\t-   %319 : Tensor = ^FlashAttnFunc[inplace=0, module=\"flash_attn.flash_attn_interface\", Subgraph=<Graph>](0.0, None, False, (-1, -1), 0.0, None, False, False, True)(%q.3, %316, %318), scope: __module.model.6/__module.model.6.m.0/__module.model.6.m.0.0/__module.model.6.m.0.0.attn # /usr/local/lib/python3.11/dist-packages/torch/autograd/function.py:575:0\n",
            "\t\t?                                                                                                                                                              ^^^\n",
            "\t\t+   %319 : Tensor = ^FlashAttnFunc[inplace=0, module=\"flash_attn.flash_attn_interface\", Subgraph=<Graph>](0.0, None, False, (-1, -1), 0.0, None, False, False, False)(%q.3, %316, %318), scope: __module.model.6/__module.model.6.m.0/__module.model.6.m.0.0/__module.model.6.m.0.0.attn # /usr/local/lib/python3.11/dist-packages/torch/autograd/function.py:575:0\n",
            "\t\t?                                                                                                                                                              ^^^^\n",
            "\t\t    %x.5 : Tensor = aten::to(%319, %247, %250, %250, %246), scope: __module.model.6/__module.model.6.m.0/__module.model.6.m.0.0/__module.model.6.m.0.0.attn # /content/yolov12/ultralytics/nn/modules/block.py:1235:0\n",
            "\t\t    %321 : Tensor = aten::floor_divide(%B.3, %240), scope: __module.model.6/__module.model.6.m.0/__module.model.6.m.0.0/__module.model.6.m.0.0.attn # /usr/local/lib/python3.11/dist-packages/torch/_tensor.py:1061:0\n",
            "\t\t    %322 : int = aten::Int(%321), scope: __module.model.6/__module.model.6.m.0/__module.model.6.m.0.0/__module.model.6.m.0.0.attn\n",
            "\t\t    %323 : Tensor = aten::mul(%N.1, %240), scope: __module.model.6/__module.model.6.m.0/__module.model.6.m.0.0/__module.model.6.m.0.0.attn # /content/yolov12/ultralytics/nn/modules/block.py:1252:0\n",
            "\t\t    %324 : int = aten::Int(%323), scope: __module.model.6/__module.model.6.m.0/__module.model.6.m.0.0/__module.model.6.m.0.0.attn\n",
            "\t\t    %325 : int[] = prim::ListConstruct(%322, %324, %277), scope: __module.model.6/__module.model.6.m.0/__module.model.6.m.0.0/__module.model.6.m.0.0.attn\n",
            "\t\t    %x.7 : Tensor = aten::reshape(%x.5, %325), scope: __module.model.6/__module.model.6.m.0/__module.model.6.m.0.0/__module.model.6.m.0.0.attn # /content/yolov12/ultralytics/nn/modules/block.py:1252:0\n",
            "\t\t    %327 : Tensor = aten::floor_divide(%B.3, %240), scope: __module.model.6/__module.model.6.m.0/__module.model.6.m.0.0/__module.model.6.m.0.0.attn # /usr/local/lib/python3.11/dist-packages/torch/_tensor.py:1061:0\n",
            "\t\t    %328 : int = aten::Int(%327), scope: __module.model.6/__module.model.6.m.0/__module.model.6.m.0.0/__module.model.6.m.0.0.attn\n",
            "\t\t    %329 : Tensor = aten::mul(%N.1, %240), scope: __module.model.6/__module.model.6.m.0/__module.model.6.m.0.0/__module.model.6.m.0.0.attn # /content/yolov12/ultralytics/nn/modules/block.py:1253:0\n",
            "\t\t    %330 : int = aten::Int(%329), scope: __module.model.6/__module.model.6.m.0/__module.model.6.m.0.0/__module.model.6.m.0.0.attn\n",
            "\t\t    %331 : int[] = prim::ListConstruct(%328, %330, %277), scope: __module.model.6/__module.model.6.m.0/__module.model.6.m.0.0/__module.model.6.m.0.0.attn\n",
            "\t\t    %v.3 : Tensor = aten::reshape(%v.1, %331), scope: __module.model.6/__module.model.6.m.0/__module.model.6.m.0.0/__module.model.6.m.0.0.attn # /content/yolov12/ultralytics/nn/modules/block.py:1253:0\n",
            "\t\t    %333 : int = aten::size(%x.7, %251), scope: __module.model.6/__module.model.6.m.0/__module.model.6.m.0.0/__module.model.6.m.0.0.attn # /content/yolov12/ultralytics/nn/modules/block.py:1254:0\n",
            "\t\t    %334 : int[] = prim::ListConstruct(%333, %279, %281, %277), scope: __module.model.6/__module.model.6.m.0/__module.model.6.m.0.0/__module.model.6.m.0.0.attn\n",
            "\t\t    %335 : Tensor = aten::reshape(%x.7, %334), scope: __module.model.6/__module.model.6.m.0/__module.model.6.m.0.0/__module.model.6.m.0.0.attn # /content/yolov12/ultralytics/nn/modules/block.py:1256:0\n",
            "\t\t    %336 : int[] = prim::ListConstruct(%251, %238, %252, %237), scope: __module.model.6/__module.model.6.m.0/__module.model.6.m.0.0/__module.model.6.m.0.0.attn\n",
            "\t\t    %x.9 : Tensor = aten::permute(%335, %336), scope: __module.model.6/__module.model.6.m.0/__module.model.6.m.0.0/__module.model.6.m.0.0.attn # /content/yolov12/ultralytics/nn/modules/block.py:1256:0\n",
            "\t\t    %338 : int[] = prim::ListConstruct(%333, %279, %281, %277), scope: __module.model.6/__module.model.6.m.0/__module.model.6.m.0.0/__module.model.6.m.0.0.attn\n",
            "\t\t    %339 : Tensor = aten::reshape(%v.3, %338), scope: __module.model.6/__module.model.6.m.0/__module.model.6.m.0.0/__module.model.6.m.0.0.attn # /content/yolov12/ultralytics/nn/modules/block.py:1257:0\n",
            "\t\t    %340 : int[] = prim::ListConstruct(%251, %238, %252, %237), scope: __module.model.6/__module.model.6.m.0/__module.model.6.m.0.0/__module.model.6.m.0.0.attn\n",
            "\t\t    %input.51 : Tensor = aten::permute(%339, %340), scope: __module.model.6/__module.model.6.m.0/__module.model.6.m.0.0/__module.model.6.m.0.0.attn # /content/yolov12/ultralytics/nn/modules/block.py:1257:0\n",
            "\t\t    %conv.29 : __torch__.torch.nn.modules.conv.Conv2d = prim::GetAttr[name=\"conv\"](%pe.1)\n",
            "\t\t    %bias.267 : Tensor = prim::GetAttr[name=\"bias\"](%conv.29)\n",
            "\t\t    %weight.269 : Tensor = prim::GetAttr[name=\"weight\"](%conv.29)\n",
            "\t\t    %345 : int[] = prim::ListConstruct(%252, %252), scope: __module.model.6/__module.model.6.m.0/__module.model.6.m.0.0/__module.model.6.m.0.0.attn/__module.model.6.m.0.0.attn.pe/__module.model.6.m.0.0.attn.pe.conv\n",
            "\t\t    %346 : int[] = prim::ListConstruct(%238, %238), scope: __module.model.6/__module.model.6.m.0/__module.model.6.m.0.0/__module.model.6.m.0.0.attn/__module.model.6.m.0.0.attn.pe/__module.model.6.m.0.0.attn.pe.conv\n",
            "\t\t    %347 : int[] = prim::ListConstruct(%252, %252), scope: __module.model.6/__module.model.6.m.0/__module.model.6.m.0.0/__module.model.6.m.0.0.attn/__module.model.6.m.0.0.attn.pe/__module.model.6.m.0.0.attn.pe.conv\n",
            "\t\t    %348 : int[] = prim::ListConstruct(%251, %251), scope: __module.model.6/__module.model.6.m.0/__module.model.6.m.0.0/__module.model.6.m.0.0.attn/__module.model.6.m.0.0.attn.pe/__module.model.6.m.0.0.attn.pe.conv\n",
            "\t\t    %349 : Tensor = aten::_convolution(%input.51, %weight.269, %bias.267, %345, %346, %347, %250, %348, %248, %250, %249, %249, %249), scope: __module.model.6/__module.model.6.m.0/__module.model.6.m.0.0/__module.model.6.m.0.0.attn/__module.model.6.m.0.0.attn.pe/__module.model.6.m.0.0.attn.pe.conv # /usr/local/lib/python3.11/dist-packages/torch/nn/modules/conv.py:549:0\n",
            "\t\t    %input.53 : Tensor = aten::add(%x.9, %349, %252), scope: __module.model.6/__module.model.6.m.0/__module.model.6.m.0.0/__module.model.6.m.0.0.attn # /content/yolov12/ultralytics/nn/modules/block.py:1259:0\n",
            "\t\t    %conv.31 : __torch__.torch.nn.modules.conv.Conv2d = prim::GetAttr[name=\"conv\"](%proj.1)\n",
            "\t\t    %bias.269 : Tensor = prim::GetAttr[name=\"bias\"](%conv.31)\n",
            "\t\t    %weight.271 : Tensor = prim::GetAttr[name=\"weight\"](%conv.31)\n",
            "\t\t    %354 : int[] = prim::ListConstruct(%252, %252), scope: __module.model.6/__module.model.6.m.0/__module.model.6.m.0.0/__module.model.6.m.0.0.attn/__module.model.6.m.0.0.attn.proj/__module.model.6.m.0.0.attn.proj.conv\n",
            "\t\t    %355 : int[] = prim::ListConstruct(%251, %251), scope: __module.model.6/__module.model.6.m.0/__module.model.6.m.0.0/__module.model.6.m.0.0.attn/__module.model.6.m.0.0.attn.proj/__module.model.6.m.0.0.attn.proj.conv\n",
            "\t\t    %356 : int[] = prim::ListConstruct(%252, %252), scope: __module.model.6/__module.model.6.m.0/__module.model.6.m.0.0/__module.model.6.m.0.0.attn/__module.model.6.m.0.0.attn.proj/__module.model.6.m.0.0.attn.proj.conv\n",
            "\t\t    %357 : int[] = prim::ListConstruct(%251, %251), scope: __module.model.6/__module.model.6.m.0/__module.model.6.m.0.0/__module.model.6.m.0.0.attn/__module.model.6.m.0.0.attn.proj/__module.model.6.m.0.0.attn.proj.conv\n",
            "\t\t    %358 : Tensor = aten::_convolution(%input.53, %weight.271, %bias.269, %354, %355, %356, %250, %357, %252, %250, %249, %249, %249), scope: __module.model.6/__module.model.6.m.0/__module.model.6.m.0.0/__module.model.6.m.0.0.attn/__module.model.6.m.0.0.attn.proj/__module.model.6.m.0.0.attn.proj.conv # /usr/local/lib/python3.11/dist-packages/torch/nn/modules/conv.py:549:0\n",
            "\t\t    %input.55 : Tensor = aten::add(%x.3, %358, %252), scope: __module.model.6/__module.model.6.m.0/__module.model.6.m.0.0 # /content/yolov12/ultralytics/nn/modules/block.py:1310:0\n",
            "\t\t    %_1.7 : __torch__.ultralytics.nn.modules.conv.Conv = prim::GetAttr[name=\"1\"](%mlp.1)\n",
            "\t\t    %_0.7 : __torch__.ultralytics.nn.modules.conv.Conv = prim::GetAttr[name=\"0\"](%mlp.1)\n",
            "\t\t    %conv.33 : __torch__.torch.nn.modules.conv.Conv2d = prim::GetAttr[name=\"conv\"](%_0.7)\n",
            "\t\t    %bias.271 : Tensor = prim::GetAttr[name=\"bias\"](%conv.33)\n",
            "\t\t    %weight.273 : Tensor = prim::GetAttr[name=\"weight\"](%conv.33)\n",
            "\t\t    %365 : int[] = prim::ListConstruct(%252, %252), scope: __module.model.6/__module.model.6.m.0/__module.model.6.m.0.0/__module.model.6.m.0.0.mlp/__module.model.6.m.0.0.mlp.0/__module.model.6.m.0.0.mlp.0.conv\n",
            "\t\t    %366 : int[] = prim::ListConstruct(%251, %251), scope: __module.model.6/__module.model.6.m.0/__module.model.6.m.0.0/__module.model.6.m.0.0.mlp/__module.model.6.m.0.0.mlp.0/__module.model.6.m.0.0.mlp.0.conv\n",
            "\t\t    %367 : int[] = prim::ListConstruct(%252, %252), scope: __module.model.6/__module.model.6.m.0/__module.model.6.m.0.0/__module.model.6.m.0.0.mlp/__module.model.6.m.0.0.mlp.0/__module.model.6.m.0.0.mlp.0.conv\n",
            "\t\t    %368 : int[] = prim::ListConstruct(%251, %251), scope: __module.model.6/__module.model.6.m.0/__module.model.6.m.0.0/__module.model.6.m.0.0.mlp/__module.model.6.m.0.0.mlp.0/__module.model.6.m.0.0.mlp.0.conv\n",
            "\t\t    %input.57 : Tensor = aten::_convolution(%input.55, %weight.273, %bias.271, %365, %366, %367, %250, %368, %252, %250, %249, %249, %249), scope: __module.model.6/__module.model.6.m.0/__module.model.6.m.0.0/__module.model.6.m.0.0.mlp/__module.model.6.m.0.0.mlp.0/__module.model.6.m.0.0.mlp.0.conv # /usr/local/lib/python3.11/dist-packages/torch/nn/modules/conv.py:549:0\n",
            "\t\t    %input.59 : Tensor = aten::silu_(%input.57), scope: __module.model.6/__module.model.6.m.0/__module.model.6.m.0.0/__module.model.6.m.0.0.mlp/__module.model.6.m.0.0.mlp.0/__module.model.21.cv3.2.1.1.act # /usr/local/lib/python3.11/dist-packages/torch/nn/functional.py:2379:0\n",
            "\t\t    %act.9 : __torch__.torch.nn.modules.linear.Identity = prim::GetAttr[name=\"act\"](%_1.7)\n",
            "\t\t    %conv.35 : __torch__.torch.nn.modules.conv.Conv2d = prim::GetAttr[name=\"conv\"](%_1.7)\n",
            "\t\t    %bias.273 : Tensor = prim::GetAttr[name=\"bias\"](%conv.35)\n",
            "\t\t    %weight.275 : Tensor = prim::GetAttr[name=\"weight\"](%conv.35)\n",
            "\t\t    %375 : int[] = prim::ListConstruct(%252, %252), scope: __module.model.6/__module.model.6.m.0/__module.model.6.m.0.0/__module.model.6.m.0.0.mlp/__module.model.6.m.0.0.mlp.1/__module.model.6.m.0.0.mlp.1.conv\n",
            "\t\t    %376 : int[] = prim::ListConstruct(%251, %251), scope: __module.model.6/__module.model.6.m.0/__module.model.6.m.0.0/__module.model.6.m.0.0.mlp/__module.model.6.m.0.0.mlp.1/__module.model.6.m.0.0.mlp.1.conv\n",
            "\t\t    %377 : int[] = prim::ListConstruct(%252, %252), scope: __module.model.6/__module.model.6.m.0/__module.model.6.m.0.0/__module.model.6.m.0.0.mlp/__module.model.6.m.0.0.mlp.1/__module.model.6.m.0.0.mlp.1.conv\n",
            "\t\t    %378 : int[] = prim::ListConstruct(%251, %251), scope: __module.model.6/__module.model.6.m.0/__module.model.6.m.0.0/__module.model.6.m.0.0.mlp/__module.model.6.m.0.0.mlp.1/__module.model.6.m.0.0.mlp.1.conv\n",
            "\t\t    %379 : Tensor = aten::_convolution(%input.59, %weight.275, %bias.273, %375, %376, %377, %250, %378, %252, %250, %249, %249, %249), scope: __module.model.6/__module.model.6.m.0/__module.model.6.m.0.0/__module.model.6.m.0.0.mlp/__module.model.6.m.0.0.mlp.1/__module.model.6.m.0.0.mlp.1.conv # /usr/local/lib/python3.11/dist-packages/torch/nn/modules/conv.py:549:0\n",
            "\t\t    %x.11 : Tensor = aten::add(%input.55, %379, %252), scope: __module.model.6/__module.model.6.m.0/__module.model.6.m.0.0 # /content/yolov12/ultralytics/nn/modules/block.py:1311:0\n",
            "\t\t    %mlp.3 : __torch__.torch.nn.modules.container.Sequential = prim::GetAttr[name=\"mlp\"](%_1.11)\n",
            "\t\t    %attn.3 : __torch__.ultralytics.nn.modules.block.AAttn = prim::GetAttr[name=\"attn\"](%_1.11)\n",
            "\t\t    %proj.3 : __torch__.ultralytics.nn.modules.conv.Conv = prim::GetAttr[name=\"proj\"](%attn.3)\n",
            "\t\t    %pe.3 : __torch__.ultralytics.nn.modules.conv.Conv = prim::GetAttr[name=\"pe\"](%attn.3)\n",
            "\t\t    %qkv.27 : __torch__.ultralytics.nn.modules.conv.Conv = prim::GetAttr[name=\"qkv\"](%attn.3)\n",
            "\t\t    %386 : int = aten::size(%x.11, %251), scope: __module.model.6/__module.model.6.m.0/__module.model.6.m.0.1/__module.model.6.m.0.1.attn # /content/yolov12/ultralytics/nn/modules/block.py:1219:0\n",
            "\t\t    %B.7 : Tensor = prim::NumToTensor(%386), scope: __module.model.6/__module.model.6.m.0/__module.model.6.m.0.1/__module.model.6.m.0.1.attn\n",
            "\t\t    %388 : int = aten::size(%x.11, %252), scope: __module.model.6/__module.model.6.m.0/__module.model.6.m.0.1/__module.model.6.m.0.1.attn # /content/yolov12/ultralytics/nn/modules/block.py:1219:0\n",
            "\t\t    %C.3 : Tensor = prim::NumToTensor(%388), scope: __module.model.6/__module.model.6.m.0/__module.model.6.m.0.1/__module.model.6.m.0.1.attn\n",
            "\t\t    %390 : int = aten::size(%x.11, %237), scope: __module.model.6/__module.model.6.m.0/__module.model.6.m.0.1/__module.model.6.m.0.1.attn # /content/yolov12/ultralytics/nn/modules/block.py:1219:0\n",
            "\t\t    %H.3 : Tensor = prim::NumToTensor(%390), scope: __module.model.6/__module.model.6.m.0/__module.model.6.m.0.1/__module.model.6.m.0.1.attn\n",
            "\t\t    %392 : int = aten::size(%x.11, %238), scope: __module.model.6/__module.model.6.m.0/__module.model.6.m.0.1/__module.model.6.m.0.1.attn # /content/yolov12/ultralytics/nn/modules/block.py:1219:0\n",
            "\t\t    %W.3 : Tensor = prim::NumToTensor(%392), scope: __module.model.6/__module.model.6.m.0/__module.model.6.m.0.1/__module.model.6.m.0.1.attn\n",
            "\t\t    %394 : Tensor = aten::mul(%H.3, %W.3), scope: __module.model.6/__module.model.6.m.0/__module.model.6.m.0.1/__module.model.6.m.0.1.attn # /content/yolov12/ultralytics/nn/modules/block.py:1220:0\n",
            "\t\t    %conv.37 : __torch__.torch.nn.modules.conv.Conv2d = prim::GetAttr[name=\"conv\"](%qkv.27)\n",
            "\t\t    %bias.275 : Tensor = prim::GetAttr[name=\"bias\"](%conv.37)\n",
            "\t\t    %weight.277 : Tensor = prim::GetAttr[name=\"weight\"](%conv.37)\n",
            "\t\t    %398 : int[] = prim::ListConstruct(%252, %252), scope: __module.model.6/__module.model.6.m.0/__module.model.6.m.0.1/__module.model.6.m.0.1.attn/__module.model.6.m.0.1.attn.qkv/__module.model.6.m.0.1.attn.qkv.conv\n",
            "\t\t    %399 : int[] = prim::ListConstruct(%251, %251), scope: __module.model.6/__module.model.6.m.0/__module.model.6.m.0.1/__module.model.6.m.0.1.attn/__module.model.6.m.0.1.attn.qkv/__module.model.6.m.0.1.attn.qkv.conv\n",
            "\t\t    %400 : int[] = prim::ListConstruct(%252, %252), scope: __module.model.6/__module.model.6.m.0/__module.model.6.m.0.1/__module.model.6.m.0.1.attn/__module.model.6.m.0.1.attn.qkv/__module.model.6.m.0.1.attn.qkv.conv\n",
            "\t\t    %401 : int[] = prim::ListConstruct(%251, %251), scope: __module.model.6/__module.model.6.m.0/__module.model.6.m.0.1/__module.model.6.m.0.1.attn/__module.model.6.m.0.1.attn.qkv/__module.model.6.m.0.1.attn.qkv.conv\n",
            "\t\t    %402 : Tensor = aten::_convolution(%x.11, %weight.277, %bias.275, %398, %399, %400, %250, %401, %252, %250, %249, %249, %249), scope: __module.model.6/__module.model.6.m.0/__module.model.6.m.0.1/__module.model.6.m.0.1.attn/__module.model.6.m.0.1.attn.qkv/__module.model.6.m.0.1.attn.qkv.conv # /usr/local/lib/python3.11/dist-packages/torch/nn/modules/conv.py:549:0\n",
            "\t\t    %403 : Tensor = aten::flatten(%402, %237, %239), scope: __module.model.6/__module.model.6.m.0/__module.model.6.m.0.1/__module.model.6.m.0.1.attn # /content/yolov12/ultralytics/nn/modules/block.py:1222:0\n",
            "\t\t    %qkv.5 : Tensor = aten::transpose(%403, %252, %237), scope: __module.model.6/__module.model.6.m.0/__module.model.6.m.0.1/__module.model.6.m.0.1.attn # /content/yolov12/ultralytics/nn/modules/block.py:1222:0\n",
            "\t\t    %405 : Tensor = aten::mul(%B.7, %240), scope: __module.model.6/__module.model.6.m.0/__module.model.6.m.0.1/__module.model.6.m.0.1.attn # /content/yolov12/ultralytics/nn/modules/block.py:1224:0\n",
            "\t\t    %406 : int = aten::Int(%405), scope: __module.model.6/__module.model.6.m.0/__module.model.6.m.0.1/__module.model.6.m.0.1.attn\n",
            "\t\t    %407 : Tensor = aten::floor_divide(%394, %240), scope: __module.model.6/__module.model.6.m.0/__module.model.6.m.0.1/__module.model.6.m.0.1.attn # /usr/local/lib/python3.11/dist-packages/torch/_tensor.py:1061:0\n",
            "\t\t    %408 : int = aten::Int(%407), scope: __module.model.6/__module.model.6.m.0/__module.model.6.m.0.1/__module.model.6.m.0.1.attn\n",
            "\t\t    %409 : Tensor = aten::mul(%C.3, %241), scope: __module.model.6/__module.model.6.m.0/__module.model.6.m.0.1/__module.model.6.m.0.1.attn # /content/yolov12/ultralytics/nn/modules/block.py:1224:0\n",
            "\t\t    %410 : int = aten::Int(%409), scope: __module.model.6/__module.model.6.m.0/__module.model.6.m.0.1/__module.model.6.m.0.1.attn\n",
            "\t\t    %411 : int[] = prim::ListConstruct(%406, %408, %410), scope: __module.model.6/__module.model.6.m.0/__module.model.6.m.0.1/__module.model.6.m.0.1.attn\n",
            "\t\t    %qkv.7 : Tensor = aten::reshape(%qkv.5, %411), scope: __module.model.6/__module.model.6.m.0/__module.model.6.m.0.1/__module.model.6.m.0.1.attn # /content/yolov12/ultralytics/nn/modules/block.py:1224:0\n",
            "\t\t    %413 : int = aten::size(%qkv.7, %251), scope: __module.model.6/__module.model.6.m.0/__module.model.6.m.0.1/__module.model.6.m.0.1.attn # /content/yolov12/ultralytics/nn/modules/block.py:1225:0\n",
            "\t\t    %B.9 : Tensor = prim::NumToTensor(%413), scope: __module.model.6/__module.model.6.m.0/__module.model.6.m.0.1/__module.model.6.m.0.1.attn\n",
            "\t\t    %415 : int = aten::size(%qkv.7, %252), scope: __module.model.6/__module.model.6.m.0/__module.model.6.m.0.1/__module.model.6.m.0.1.attn # /content/yolov12/ultralytics/nn/modules/block.py:1225:0\n",
            "\t\t    %N.3 : Tensor = prim::NumToTensor(%415), scope: __module.model.6/__module.model.6.m.0/__module.model.6.m.0.1/__module.model.6.m.0.1.attn\n",
            "\t\t    %417 : int[] = prim::ListConstruct(%413, %415, %242, %243), scope: __module.model.6/__module.model.6.m.0/__module.model.6.m.0.1/__module.model.6.m.0.1.attn\n",
            "\t\t    %418 : Tensor = aten::view(%qkv.7, %417), scope: __module.model.6/__module.model.6.m.0/__module.model.6.m.0.1/__module.model.6.m.0.1.attn # /content/yolov12/ultralytics/nn/modules/block.py:1226:0\n",
            "\t\t    %419 : int[] = prim::ListConstruct(%244, %244, %244), scope: __module.model.6/__module.model.6.m.0/__module.model.6.m.0.1/__module.model.6.m.0.1.attn\n",
            "\t\t    %420 : Tensor[] = aten::split_with_sizes(%418, %419, %238), scope: __module.model.6/__module.model.6.m.0/__module.model.6.m.0.1/__module.model.6.m.0.1.attn # /usr/local/lib/python3.11/dist-packages/torch/_tensor.py:983:0\n",
            "\t\t    %q.5 : Tensor, %k.3 : Tensor, %v.5 : Tensor = prim::ListUnpack(%420), scope: __module.model.6/__module.model.6.m.0/__module.model.6.m.0.1/__module.model.6.m.0.1.attn\n",
            "\t\t    %424 : Tensor = aten::contiguous(%q.5, %251), scope: __module.model.6/__module.model.6.m.0/__module.model.6.m.0.1/__module.model.6.m.0.1.attn # /content/yolov12/ultralytics/nn/modules/block.py:1232:0\n",
            "\t\t    %q.7 : Tensor = aten::to(%424, %245, %250, %250, %246), scope: __module.model.6/__module.model.6.m.0/__module.model.6.m.0.1/__module.model.6.m.0.1.attn # /content/yolov12/ultralytics/nn/modules/block.py:1232:0\n",
            "\t\t    %426 : Tensor = aten::contiguous(%k.3, %251), scope: __module.model.6/__module.model.6.m.0/__module.model.6.m.0.1/__module.model.6.m.0.1.attn # /content/yolov12/ultralytics/nn/modules/block.py:1233:0\n",
            "\t\t    %427 : Tensor = aten::to(%426, %245, %250, %250, %246), scope: __module.model.6/__module.model.6.m.0/__module.model.6.m.0.1/__module.model.6.m.0.1.attn # /content/yolov12/ultralytics/nn/modules/block.py:1233:0\n",
            "\t\t    %428 : Tensor = aten::contiguous(%v.5, %251), scope: __module.model.6/__module.model.6.m.0/__module.model.6.m.0.1/__module.model.6.m.0.1.attn # /content/yolov12/ultralytics/nn/modules/block.py:1234:0\n",
            "\t\t    %429 : Tensor = aten::to(%428, %245, %250, %250, %246), scope: __module.model.6/__module.model.6.m.0/__module.model.6.m.0.1/__module.model.6.m.0.1.attn # /content/yolov12/ultralytics/nn/modules/block.py:1234:0\n",
            "\t\t-   %430 : Tensor = ^FlashAttnFunc[inplace=0, module=\"flash_attn.flash_attn_interface\", Subgraph=<Graph>](0.0, None, False, (-1, -1), 0.0, None, False, False, True)(%q.7, %427, %429), scope: __module.model.6/__module.model.6.m.0/__module.model.6.m.0.1/__module.model.6.m.0.1.attn # /usr/local/lib/python3.11/dist-packages/torch/autograd/function.py:575:0\n",
            "\t\t?                                                                                                                                                              ^^^\n",
            "\t\t+   %430 : Tensor = ^FlashAttnFunc[inplace=0, module=\"flash_attn.flash_attn_interface\", Subgraph=<Graph>](0.0, None, False, (-1, -1), 0.0, None, False, False, False)(%q.7, %427, %429), scope: __module.model.6/__module.model.6.m.0/__module.model.6.m.0.1/__module.model.6.m.0.1.attn # /usr/local/lib/python3.11/dist-packages/torch/autograd/function.py:575:0\n",
            "\t\t?                                                                                                                                                              ^^^^\n",
            "\t\t    %x.13 : Tensor = aten::to(%430, %247, %250, %250, %246), scope: __module.model.6/__module.model.6.m.0/__module.model.6.m.0.1/__module.model.6.m.0.1.attn # /content/yolov12/ultralytics/nn/modules/block.py:1235:0\n",
            "\t\t    %432 : Tensor = aten::floor_divide(%B.9, %240), scope: __module.model.6/__module.model.6.m.0/__module.model.6.m.0.1/__module.model.6.m.0.1.attn # /usr/local/lib/python3.11/dist-packages/torch/_tensor.py:1061:0\n",
            "\t\t    %433 : int = aten::Int(%432), scope: __module.model.6/__module.model.6.m.0/__module.model.6.m.0.1/__module.model.6.m.0.1.attn\n",
            "\t\t    %434 : Tensor = aten::mul(%N.3, %240), scope: __module.model.6/__module.model.6.m.0/__module.model.6.m.0.1/__module.model.6.m.0.1.attn # /content/yolov12/ultralytics/nn/modules/block.py:1252:0\n",
            "\t\t    %435 : int = aten::Int(%434), scope: __module.model.6/__module.model.6.m.0/__module.model.6.m.0.1/__module.model.6.m.0.1.attn\n",
            "\t\t    %436 : int[] = prim::ListConstruct(%433, %435, %388), scope: __module.model.6/__module.model.6.m.0/__module.model.6.m.0.1/__module.model.6.m.0.1.attn\n",
            "\t\t    %x.15 : Tensor = aten::reshape(%x.13, %436), scope: __module.model.6/__module.model.6.m.0/__module.model.6.m.0.1/__module.model.6.m.0.1.attn # /content/yolov12/ultralytics/nn/modules/block.py:1252:0\n",
            "\t\t    %438 : Tensor = aten::floor_divide(%B.9, %240), scope: __module.model.6/__module.model.6.m.0/__module.model.6.m.0.1/__module.model.6.m.0.1.attn # /usr/local/lib/python3.11/dist-packages/torch/_tensor.py:1061:0\n",
            "\t\t    %439 : int = aten::Int(%438), scope: __module.model.6/__module.model.6.m.0/__module.model.6.m.0.1/__module.model.6.m.0.1.attn\n",
            "\t\t    %440 : Tensor = aten::mul(%N.3, %240), scope: __module.model.6/__module.model.6.m.0/__module.model.6.m.0.1/__module.model.6.m.0.1.attn # /content/yolov12/ultralytics/nn/modules/block.py:1253:0\n",
            "\t\t    %441 : int = aten::Int(%440), scope: __module.model.6/__module.model.6.m.0/__module.model.6.m.0.1/__module.model.6.m.0.1.attn\n",
            "\t\t    %442 : int[] = prim::ListConstruct(%439, %441, %388), scope: __module.model.6/__module.model.6.m.0/__module.model.6.m.0.1/__module.model.6.m.0.1.attn\n",
            "\t\t    %v.7 : Tensor = aten::reshape(%v.5, %442), scope: __module.model.6/__module.model.6.m.0/__module.model.6.m.0.1/__module.model.6.m.0.1.attn # /content/yolov12/ultralytics/nn/modules/block.py:1253:0\n",
            "\t\t    %444 : int = aten::size(%x.15, %251), scope: __module.model.6/__module.model.6.m.0/__module.model.6.m.0.1/__module.model.6.m.0.1.attn # /content/yolov12/ultralytics/nn/modules/block.py:1254:0\n",
            "\t\t    %445 : int[] = prim::ListConstruct(%444, %390, %392, %388), scope: __module.model.6/__module.model.6.m.0/__module.model.6.m.0.1/__module.model.6.m.0.1.attn\n",
            "\t\t    %446 : Tensor = aten::reshape(%x.15, %445), scope: __module.model.6/__module.model.6.m.0/__module.model.6.m.0.1/__module.model.6.m.0.1.attn # /content/yolov12/ultralytics/nn/modules/block.py:1256:0\n",
            "\t\t    %447 : int[] = prim::ListConstruct(%251, %238, %252, %237), scope: __module.model.6/__module.model.6.m.0/__module.model.6.m.0.1/__module.model.6.m.0.1.attn\n",
            "\t\t    %x.17 : Tensor = aten::permute(%446, %447), scope: __module.model.6/__module.model.6.m.0/__module.model.6.m.0.1/__module.model.6.m.0.1.attn # /content/yolov12/ultralytics/nn/modules/block.py:1256:0\n",
            "\t\t    %449 : int[] = prim::ListConstruct(%444, %390, %392, %388), scope: __module.model.6/__module.model.6.m.0/__module.model.6.m.0.1/__module.model.6.m.0.1.attn\n",
            "\t\t    %450 : Tensor = aten::reshape(%v.7, %449), scope: __module.model.6/__module.model.6.m.0/__module.model.6.m.0.1/__module.model.6.m.0.1.attn # /content/yolov12/ultralytics/nn/modules/block.py:1257:0\n",
            "\t\t    %451 : int[] = prim::ListConstruct(%251, %238, %252, %237), scope: __module.model.6/__module.model.6.m.0/__module.model.6.m.0.1/__module.model.6.m.0.1.attn\n",
            "\t\t    %input.61 : Tensor = aten::permute(%450, %451), scope: __module.model.6/__module.model.6.m.0/__module.model.6.m.0.1/__module.model.6.m.0.1.attn # /content/yolov12/ultralytics/nn/modules/block.py:1257:0\n",
            "\t\t    %conv.39 : __torch__.torch.nn.modules.conv.Conv2d = prim::GetAttr[name=\"conv\"](%pe.3)\n",
            "\t\t    %bias.277 : Tensor = prim::GetAttr[name=\"bias\"](%conv.39)\n",
            "\t\t    %weight.279 : Tensor = prim::GetAttr[name=\"weight\"](%conv.39)\n",
            "\t\t    %456 : int[] = prim::ListConstruct(%252, %252), scope: __module.model.6/__module.model.6.m.0/__module.model.6.m.0.1/__module.model.6.m.0.1.attn/__module.model.6.m.0.1.attn.pe/__module.model.6.m.0.1.attn.pe.conv\n",
            "\t\t    %457 : int[] = prim::ListConstruct(%238, %238), scope: __module.model.6/__module.model.6.m.0/__module.model.6.m.0.1/__module.model.6.m.0.1.attn/__module.model.6.m.0.1.attn.pe/__module.model.6.m.0.1.attn.pe.conv\n",
            "\t\t    %458 : int[] = prim::ListConstruct(%252, %252), scope: __module.model.6/__module.model.6.m.0/__module.model.6.m.0.1/__module.model.6.m.0.1.attn/__module.model.6.m.0.1.attn.pe/__module.model.6.m.0.1.attn.pe.conv\n",
            "\t\t    %459 : int[] = prim::ListConstruct(%251, %251), scope: __module.model.6/__module.model.6.m.0/__module.model.6.m.0.1/__module.model.6.m.0.1.attn/__module.model.6.m.0.1.attn.pe/__module.model.6.m.0.1.attn.pe.conv\n",
            "\t\t    %460 : Tensor = aten::_convolution(%input.61, %weight.279, %bias.277, %456, %457, %458, %250, %459, %248, %250, %249, %249, %249), scope: __module.model.6/__module.model.6.m.0/__module.model.6.m.0.1/__module.model.6.m.0.1.attn/__module.model.6.m.0.1.attn.pe/__module.model.6.m.0.1.attn.pe.conv # /usr/local/lib/python3.11/dist-packages/torch/nn/modules/conv.py:549:0\n",
            "\t\t    %input.63 : Tensor = aten::add(%x.17, %460, %252), scope: __module.model.6/__module.model.6.m.0/__module.model.6.m.0.1/__module.model.6.m.0.1.attn # /content/yolov12/ultralytics/nn/modules/block.py:1259:0\n",
            "\t\t    %conv.41 : __torch__.torch.nn.modules.conv.Conv2d = prim::GetAttr[name=\"conv\"](%proj.3)\n",
            "\t\t    %bias.279 : Tensor = prim::GetAttr[name=\"bias\"](%conv.41)\n",
            "\t\t    %weight.281 : Tensor = prim::GetAttr[name=\"weight\"](%conv.41)\n",
            "\t\t    %465 : int[] = prim::ListConstruct(%252, %252), scope: __module.model.6/__module.model.6.m.0/__module.model.6.m.0.1/__module.model.6.m.0.1.attn/__module.model.6.m.0.1.attn.proj/__module.model.6.m.0.1.attn.proj.conv\n",
            "\t\t    %466 : int[] = prim::ListConstruct(%251, %251), scope: __module.model.6/__module.model.6.m.0/__module.model.6.m.0.1/__module.model.6.m.0.1.attn/__module.model.6.m.0.1.attn.proj/__module.model.6.m.0.1.attn.proj.conv\n",
            "\t\t    %467 : int[] = prim::ListConstruct(%252, %252), scope: __module.model.6/__module.model.6.m.0/__module.model.6.m.0.1/__module.model.6.m.0.1.attn/__module.model.6.m.0.1.attn.proj/__module.model.6.m.0.1.attn.proj.conv\n",
            "\t\t    %468 : int[] = prim::ListConstruct(%251, %251), scope: __module.model.6/__module.model.6.m.0/__module.model.6.m.0.1/__module.model.6.m.0.1.attn/__module.model.6.m.0.1.attn.proj/__module.model.6.m.0.1.attn.proj.conv\n",
            "\t\t    %469 : Tensor = aten::_convolution(%input.63, %weight.281, %bias.279, %465, %466, %467, %250, %468, %252, %250, %249, %249, %249), scope: __module.model.6/__module.model.6.m.0/__module.model.6.m.0.1/__module.model.6.m.0.1.attn/__module.model.6.m.0.1.attn.proj/__module.model.6.m.0.1.attn.proj.conv # /usr/local/lib/python3.11/dist-packages/torch/nn/modules/conv.py:549:0\n",
            "\t\t    %input.65 : Tensor = aten::add(%x.11, %469, %252), scope: __module.model.6/__module.model.6.m.0/__module.model.6.m.0.1 # /content/yolov12/ultralytics/nn/modules/block.py:1310:0\n",
            "\t\t    %_1.9 : __torch__.ultralytics.nn.modules.conv.Conv = prim::GetAttr[name=\"1\"](%mlp.3)\n",
            "\t\t    %_0.11 : __torch__.ultralytics.nn.modules.conv.Conv = prim::GetAttr[name=\"0\"](%mlp.3)\n",
            "\t\t    %conv.43 : __torch__.torch.nn.modules.conv.Conv2d = prim::GetAttr[name=\"conv\"](%_0.11)\n",
            "\t\t    %bias.281 : Tensor = prim::GetAttr[name=\"bias\"](%conv.43)\n",
            "\t\t    %weight.283 : Tensor = prim::GetAttr[name=\"weight\"](%conv.43)\n",
            "\t\t    %476 : int[] = prim::ListConstruct(%252, %252), scope: __module.model.6/__module.model.6.m.0/__module.model.6.m.0.1/__module.model.6.m.0.1.mlp/__module.model.6.m.0.1.mlp.0/__module.model.6.m.0.1.mlp.0.conv\n",
            "\t\t    %477 : int[] = prim::ListConstruct(%251, %251), scope: __module.model.6/__module.model.6.m.0/__module.model.6.m.0.1/__module.model.6.m.0.1.mlp/__module.model.6.m.0.1.mlp.0/__module.model.6.m.0.1.mlp.0.conv\n",
            "\t\t    %478 : int[] = prim::ListConstruct(%252, %252), scope: __module.model.6/__module.model.6.m.0/__module.model.6.m.0.1/__module.model.6.m.0.1.mlp/__module.model.6.m.0.1.mlp.0/__module.model.6.m.0.1.mlp.0.conv\n",
            "\t\t    %479 : int[] = prim::ListConstruct(%251, %251), scope: __module.model.6/__module.model.6.m.0/__module.model.6.m.0.1/__module.model.6.m.0.1.mlp/__module.model.6.m.0.1.mlp.0/__module.model.6.m.0.1.mlp.0.conv\n",
            "\t\t    %input.67 : Tensor = aten::_convolution(%input.65, %weight.283, %bias.281, %476, %477, %478, %250, %479, %252, %250, %249, %249, %249), scope: __module.model.6/__module.model.6.m.0/__module.model.6.m.0.1/__module.model.6.m.0.1.mlp/__module.model.6.m.0.1.mlp.0/__module.model.6.m.0.1.mlp.0.conv # /usr/local/lib/python3.11/dist-packages/torch/nn/modules/conv.py:549:0\n",
            "\t\t    %input.69 : Tensor = aten::silu_(%input.67), scope: __module.model.6/__module.model.6.m.0/__module.model.6.m.0.1/__module.model.6.m.0.1.mlp/__module.model.6.m.0.1.mlp.0/__module.model.21.cv3.2.1.1.act # /usr/local/lib/python3.11/dist-packages/torch/nn/functional.py:2379:0\n",
            "\t\t    %act.17 : __torch__.torch.nn.modules.linear.Identity = prim::GetAttr[name=\"act\"](%_1.9)\n",
            "\t\t    %conv.45 : __torch__.torch.nn.modules.conv.Conv2d = prim::GetAttr[name=\"conv\"](%_1.9)\n",
            "\t\t    %bias.283 : Tensor = prim::GetAttr[name=\"bias\"](%conv.45)\n",
            "\t\t    %weight.285 : Tensor = prim::GetAttr[name=\"weight\"](%conv.45)\n",
            "\t\t    %486 : int[] = prim::ListConstruct(%252, %252), scope: __module.model.6/__module.model.6.m.0/__module.model.6.m.0.1/__module.model.6.m.0.1.mlp/__module.model.6.m.0.1.mlp.1/__module.model.6.m.0.1.mlp.1.conv\n",
            "\t\t    %487 : int[] = prim::ListConstruct(%251, %251), scope: __module.model.6/__module.model.6.m.0/__module.model.6.m.0.1/__module.model.6.m.0.1.mlp/__module.model.6.m.0.1.mlp.1/__module.model.6.m.0.1.mlp.1.conv\n",
            "\t\t    %488 : int[] = prim::ListConstruct(%252, %252), scope: __module.model.6/__module.model.6.m.0/__module.model.6.m.0.1/__module.model.6.m.0.1.mlp/__module.model.6.m.0.1.mlp.1/__module.model.6.m.0.1.mlp.1.conv\n",
            "\t\t    %489 : int[] = prim::ListConstruct(%251, %251), scope: __module.model.6/__module.model.6.m.0/__module.model.6.m.0.1/__module.model.6.m.0.1.mlp/__module.model.6.m.0.1.mlp.1/__module.model.6.m.0.1.mlp.1.conv\n",
            "\t\t    %490 : Tensor = aten::_convolution(%input.69, %weight.285, %bias.283, %486, %487, %488, %250, %489, %252, %250, %249, %249, %249), scope: __module.model.6/__module.model.6.m.0/__module.model.6.m.0.1/__module.model.6.m.0.1.mlp/__module.model.6.m.0.1.mlp.1/__module.model.6.m.0.1.mlp.1.conv # /usr/local/lib/python3.11/dist-packages/torch/nn/modules/conv.py:549:0\n",
            "\t\t    %x.19 : Tensor = aten::add(%input.65, %490, %252), scope: __module.model.6/__module.model.6.m.0/__module.model.6.m.0.1 # /content/yolov12/ultralytics/nn/modules/block.py:1311:0\n",
            "\t\t    %_1.17 : __torch__.ultralytics.nn.modules.block.ABlock = prim::GetAttr[name=\"1\"](%_1.19)\n",
            "\t\t    %_0.17 : __torch__.ultralytics.nn.modules.block.ABlock = prim::GetAttr[name=\"0\"](%_1.19)\n",
            "\t\t    %mlp.5 : __torch__.torch.nn.modules.container.Sequential = prim::GetAttr[name=\"mlp\"](%_0.17)\n",
            "\t\t    %attn.5 : __torch__.ultralytics.nn.modules.block.AAttn = prim::GetAttr[name=\"attn\"](%_0.17)\n",
            "\t\t    %proj.5 : __torch__.ultralytics.nn.modules.conv.Conv = prim::GetAttr[name=\"proj\"](%attn.5)\n",
            "\t\t    %pe.5 : __torch__.ultralytics.nn.modules.conv.Conv = prim::GetAttr[name=\"pe\"](%attn.5)\n",
            "\t\t    %qkv.29 : __torch__.ultralytics.nn.modules.conv.Conv = prim::GetAttr[name=\"qkv\"](%attn.5)\n",
            "\t\t    %499 : int = aten::size(%x.19, %251), scope: __module.model.6/__module.model.6.m.1/__module.model.6.m.1.0/__module.model.6.m.1.0.attn # /content/yolov12/ultralytics/nn/modules/block.py:1219:0\n",
            "\t\t    %B.13 : Tensor = prim::NumToTensor(%499), scope: __module.model.6/__module.model.6.m.1/__module.model.6.m.1.0/__module.model.6.m.1.0.attn\n",
            "\t\t    %501 : int = aten::size(%x.19, %252), scope: __module.model.6/__module.model.6.m.1/__module.model.6.m.1.0/__module.model.6.m.1.0.attn # /content/yolov12/ultralytics/nn/modules/block.py:1219:0\n",
            "\t\t    %C.5 : Tensor = prim::NumToTensor(%501), scope: __module.model.6/__module.model.6.m.1/__module.model.6.m.1.0/__module.model.6.m.1.0.attn\n",
            "\t\t    %503 : int = aten::size(%x.19, %237), scope: __module.model.6/__module.model.6.m.1/__module.model.6.m.1.0/__module.model.6.m.1.0.attn # /content/yolov12/ultralytics/nn/modules/block.py:1219:0\n",
            "\t\t    %H.5 : Tensor = prim::NumToTensor(%503), scope: __module.model.6/__module.model.6.m.1/__module.model.6.m.1.0/__module.model.6.m.1.0.attn\n",
            "\t\t    %505 : int = aten::size(%x.19, %238), scope: __module.model.6/__module.model.6.m.1/__module.model.6.m.1.0/__module.model.6.m.1.0.attn # /content/yolov12/ultralytics/nn/modules/block.py:1219:0\n",
            "\t\t    %W.5 : Tensor = prim::NumToTensor(%505), scope: __module.model.6/__module.model.6.m.1/__module.model.6.m.1.0/__module.model.6.m.1.0.attn\n",
            "\t\t    %507 : Tensor = aten::mul(%H.5, %W.5), scope: __module.model.6/__module.model.6.m.1/__module.model.6.m.1.0/__module.model.6.m.1.0.attn # /content/yolov12/ultralytics/nn/modules/block.py:1220:0\n",
            "\t\t    %conv.47 : __torch__.torch.nn.modules.conv.Conv2d = prim::GetAttr[name=\"conv\"](%qkv.29)\n",
            "\t\t    %bias.285 : Tensor = prim::GetAttr[name=\"bias\"](%conv.47)\n",
            "\t\t    %weight.287 : Tensor = prim::GetAttr[name=\"weight\"](%conv.47)\n",
            "\t\t    %511 : int[] = prim::ListConstruct(%252, %252), scope: __module.model.6/__module.model.6.m.1/__module.model.6.m.1.0/__module.model.6.m.1.0.attn/__module.model.6.m.1.0.attn.qkv/__module.model.6.m.1.0.attn.qkv.conv\n",
            "\t\t    %512 : int[] = prim::ListConstruct(%251, %251), scope: __module.model.6/__module.model.6.m.1/__module.model.6.m.1.0/__module.model.6.m.1.0.attn/__module.model.6.m.1.0.attn.qkv/__module.model.6.m.1.0.attn.qkv.conv\n",
            "\t\t    %513 : int[] = prim::ListConstruct(%252, %252), scope: __module.model.6/__module.model.6.m.1/__module.model.6.m.1.0/__module.model.6.m.1.0.attn/__module.model.6.m.1.0.attn.qkv/__module.model.6.m.1.0.attn.qkv.conv\n",
            "\t\t    %514 : int[] = prim::ListConstruct(%251, %251), scope: __module.model.6/__module.model.6.m.1/__module.model.6.m.1.0/__module.model.6.m.1.0.attn/__module.model.6.m.1.0.attn.qkv/__module.model.6.m.1.0.attn.qkv.conv\n",
            "\t\t    %515 : Tensor = aten::_convolution(%x.19, %weight.287, %bias.285, %511, %512, %513, %250, %514, %252, %250, %249, %249, %249), scope: __module.model.6/__module.model.6.m.1/__module.model.6.m.1.0/__module.model.6.m.1.0.attn/__module.model.6.m.1.0.attn.qkv/__module.model.6.m.1.0.attn.qkv.conv # /usr/local/lib/python3.11/dist-packages/torch/nn/modules/conv.py:549:0\n",
            "\t\t    %516 : Tensor = aten::flatten(%515, %237, %239), scope: __module.model.6/__module.model.6.m.1/__module.model.6.m.1.0/__module.model.6.m.1.0.attn # /content/yolov12/ultralytics/nn/modules/block.py:1222:0\n",
            "\t\t    %qkv.9 : Tensor = aten::transpose(%516, %252, %237), scope: __module.model.6/__module.model.6.m.1/__module.model.6.m.1.0/__module.model.6.m.1.0.attn # /content/yolov12/ultralytics/nn/modules/block.py:1222:0\n",
            "\t\t    %518 : Tensor = aten::mul(%B.13, %240), scope: __module.model.6/__module.model.6.m.1/__module.model.6.m.1.0/__module.model.6.m.1.0.attn # /content/yolov12/ultralytics/nn/modules/block.py:1224:0\n",
            "\t\t    %519 : int = aten::Int(%518), scope: __module.model.6/__module.model.6.m.1/__module.model.6.m.1.0/__module.model.6.m.1.0.attn\n",
            "\t\t    %520 : Tensor = aten::floor_divide(%507, %240), scope: __module.model.6/__module.model.6.m.1/__module.model.6.m.1.0/__module.model.6.m.1.0.attn # /usr/local/lib/python3.11/dist-packages/torch/_tensor.py:1061:0\n",
            "\t\t    %521 : int = aten::Int(%520), scope: __module.model.6/__module.model.6.m.1/__module.model.6.m.1.0/__module.model.6.m.1.0.attn\n",
            "\t\t    %522 : Tensor = aten::mul(%C.5, %241), scope: __module.model.6/__module.model.6.m.1/__module.model.6.m.1.0/__module.model.6.m.1.0.attn # /content/yolov12/ultralytics/nn/modules/block.py:1224:0\n",
            "\t\t    %523 : int = aten::Int(%522), scope: __module.model.6/__module.model.6.m.1/__module.model.6.m.1.0/__module.model.6.m.1.0.attn\n",
            "\t\t    %524 : int[] = prim::ListConstruct(%519, %521, %523), scope: __module.model.6/__module.model.6.m.1/__module.model.6.m.1.0/__module.model.6.m.1.0.attn\n",
            "\t\t    %qkv.11 : Tensor = aten::reshape(%qkv.9, %524), scope: __module.model.6/__module.model.6.m.1/__module.model.6.m.1.0/__module.model.6.m.1.0.attn # /content/yolov12/ultralytics/nn/modules/block.py:1224:0\n",
            "\t\t    %526 : int = aten::size(%qkv.11, %251), scope: __module.model.6/__module.model.6.m.1/__module.model.6.m.1.0/__module.model.6.m.1.0.attn # /content/yolov12/ultralytics/nn/modules/block.py:1225:0\n",
            "\t\t    %B.15 : Tensor = prim::NumToTensor(%526), scope: __module.model.6/__module.model.6.m.1/__module.model.6.m.1.0/__module.model.6.m.1.0.attn\n",
            "\t\t    %528 : int = aten::size(%qkv.11, %252), scope: __module.model.6/__module.model.6.m.1/__module.model.6.m.1.0/__module.model.6.m.1.0.attn # /content/yolov12/ultralytics/nn/modules/block.py:1225:0\n",
            "\t\t    %N.5 : Tensor = prim::NumToTensor(%528), scope: __module.model.6/__module.model.6.m.1/__module.model.6.m.1.0/__module.model.6.m.1.0.attn\n",
            "\t\t    %530 : int[] = prim::ListConstruct(%526, %528, %242, %243), scope: __module.model.6/__module.model.6.m.1/__module.model.6.m.1.0/__module.model.6.m.1.0.attn\n",
            "\t\t    %531 : Tensor = aten::view(%qkv.11, %530), scope: __module.model.6/__module.model.6.m.1/__module.model.6.m.1.0/__module.model.6.m.1.0.attn # /content/yolov12/ultralytics/nn/modules/block.py:1226:0\n",
            "\t\t    %532 : int[] = prim::ListConstruct(%244, %244, %244), scope: __module.model.6/__module.model.6.m.1/__module.model.6.m.1.0/__module.model.6.m.1.0.attn\n",
            "\t\t    %533 : Tensor[] = aten::split_with_sizes(%531, %532, %238), scope: __module.model.6/__module.model.6.m.1/__module.model.6.m.1.0/__module.model.6.m.1.0.attn # /usr/local/lib/python3.11/dist-packages/torch/_tensor.py:983:0\n",
            "\t\t    %q.9 : Tensor, %k.5 : Tensor, %v.9 : Tensor = prim::ListUnpack(%533), scope: __module.model.6/__module.model.6.m.1/__module.model.6.m.1.0/__module.model.6.m.1.0.attn\n",
            "\t\t    %537 : Tensor = aten::contiguous(%q.9, %251), scope: __module.model.6/__module.model.6.m.1/__module.model.6.m.1.0/__module.model.6.m.1.0.attn # /content/yolov12/ultralytics/nn/modules/block.py:1232:0\n",
            "\t\t    %q.11 : Tensor = aten::to(%537, %245, %250, %250, %246), scope: __module.model.6/__module.model.6.m.1/__module.model.6.m.1.0/__module.model.6.m.1.0.attn # /content/yolov12/ultralytics/nn/modules/block.py:1232:0\n",
            "\t\t    %539 : Tensor = aten::contiguous(%k.5, %251), scope: __module.model.6/__module.model.6.m.1/__module.model.6.m.1.0/__module.model.6.m.1.0.attn # /content/yolov12/ultralytics/nn/modules/block.py:1233:0\n",
            "\t\t    %540 : Tensor = aten::to(%539, %245, %250, %250, %246), scope: __module.model.6/__module.model.6.m.1/__module.model.6.m.1.0/__module.model.6.m.1.0.attn # /content/yolov12/ultralytics/nn/modules/block.py:1233:0\n",
            "\t\t    %541 : Tensor = aten::contiguous(%v.9, %251), scope: __module.model.6/__module.model.6.m.1/__module.model.6.m.1.0/__module.model.6.m.1.0.attn # /content/yolov12/ultralytics/nn/modules/block.py:1234:0\n",
            "\t\t    %542 : Tensor = aten::to(%541, %245, %250, %250, %246), scope: __module.model.6/__module.model.6.m.1/__module.model.6.m.1.0/__module.model.6.m.1.0.attn # /content/yolov12/ultralytics/nn/modules/block.py:1234:0\n",
            "\t\t-   %543 : Tensor = ^FlashAttnFunc[inplace=0, module=\"flash_attn.flash_attn_interface\", Subgraph=<Graph>](0.0, None, False, (-1, -1), 0.0, None, False, False, True)(%q.11, %540, %542), scope: __module.model.6/__module.model.6.m.1/__module.model.6.m.1.0/__module.model.6.m.1.0.attn # /usr/local/lib/python3.11/dist-packages/torch/autograd/function.py:575:0\n",
            "\t\t?                                                                                                                                                              ^^^\n",
            "\t\t+   %543 : Tensor = ^FlashAttnFunc[inplace=0, module=\"flash_attn.flash_attn_interface\", Subgraph=<Graph>](0.0, None, False, (-1, -1), 0.0, None, False, False, False)(%q.11, %540, %542), scope: __module.model.6/__module.model.6.m.1/__module.model.6.m.1.0/__module.model.6.m.1.0.attn # /usr/local/lib/python3.11/dist-packages/torch/autograd/function.py:575:0\n",
            "\t\t?                                                                                                                                                              ^^^^\n",
            "\t\t    %x.21 : Tensor = aten::to(%543, %247, %250, %250, %246), scope: __module.model.6/__module.model.6.m.1/__module.model.6.m.1.0/__module.model.6.m.1.0.attn # /content/yolov12/ultralytics/nn/modules/block.py:1235:0\n",
            "\t\t    %545 : Tensor = aten::floor_divide(%B.15, %240), scope: __module.model.6/__module.model.6.m.1/__module.model.6.m.1.0/__module.model.6.m.1.0.attn # /usr/local/lib/python3.11/dist-packages/torch/_tensor.py:1061:0\n",
            "\t\t    %546 : int = aten::Int(%545), scope: __module.model.6/__module.model.6.m.1/__module.model.6.m.1.0/__module.model.6.m.1.0.attn\n",
            "\t\t    %547 : Tensor = aten::mul(%N.5, %240), scope: __module.model.6/__module.model.6.m.1/__module.model.6.m.1.0/__module.model.6.m.1.0.attn # /content/yolov12/ultralytics/nn/modules/block.py:1252:0\n",
            "\t\t    %548 : int = aten::Int(%547), scope: __module.model.6/__module.model.6.m.1/__module.model.6.m.1.0/__module.model.6.m.1.0.attn\n",
            "\t\t    %549 : int[] = prim::ListConstruct(%546, %548, %501), scope: __module.model.6/__module.model.6.m.1/__module.model.6.m.1.0/__module.model.6.m.1.0.attn\n",
            "\t\t    %x.23 : Tensor = aten::reshape(%x.21, %549), scope: __module.model.6/__module.model.6.m.1/__module.model.6.m.1.0/__module.model.6.m.1.0.attn # /content/yolov12/ultralytics/nn/modules/block.py:1252:0\n",
            "\t\t    %551 : Tensor = aten::floor_divide(%B.15, %240), scope: __module.model.6/__module.model.6.m.1/__module.model.6.m.1.0/__module.model.6.m.1.0.attn # /usr/local/lib/python3.11/dist-packages/torch/_tensor.py:1061:0\n",
            "\t\t    %552 : int = aten::Int(%551), scope: __module.model.6/__module.model.6.m.1/__module.model.6.m.1.0/__module.model.6.m.1.0.attn\n",
            "\t\t    %553 : Tensor = aten::mul(%N.5, %240), scope: __module.model.6/__module.model.6.m.1/__module.model.6.m.1.0/__module.model.6.m.1.0.attn # /content/yolov12/ultralytics/nn/modules/block.py:1253:0\n",
            "\t\t    %554 : int = aten::Int(%553), scope: __module.model.6/__module.model.6.m.1/__module.model.6.m.1.0/__module.model.6.m.1.0.attn\n",
            "\t\t    %555 : int[] = prim::ListConstruct(%552, %554, %501), scope: __module.model.6/__module.model.6.m.1/__module.model.6.m.1.0/__module.model.6.m.1.0.attn\n",
            "\t\t    %v.11 : Tensor = aten::reshape(%v.9, %555), scope: __module.model.6/__module.model.6.m.1/__module.model.6.m.1.0/__module.model.6.m.1.0.attn # /content/yolov12/ultralytics/nn/modules/block.py:1253:0\n",
            "\t\t    %557 : int = aten::size(%x.23, %251), scope: __module.model.6/__module.model.6.m.1/__module.model.6.m.1.0/__module.model.6.m.1.0.attn # /content/yolov12/ultralytics/nn/modules/block.py:1254:0\n",
            "\t\t    %558 : int[] = prim::ListConstruct(%557, %503, %505, %501), scope: __module.model.6/__module.model.6.m.1/__module.model.6.m.1.0/__module.model.6.m.1.0.attn\n",
            "\t\t    %559 : Tensor = aten::reshape(%x.23, %558), scope: __module.model.6/__module.model.6.m.1/__module.model.6.m.1.0/__module.model.6.m.1.0.attn # /content/yolov12/ultralytics/nn/modules/block.py:1256:0\n",
            "\t\t    %560 : int[] = prim::ListConstruct(%251, %238, %252, %237), scope: __module.model.6/__module.model.6.m.1/__module.model.6.m.1.0/__module.model.6.m.1.0.attn\n",
            "\t\t    %x.25 : Tensor = aten::permute(%559, %560), scope: __module.model.6/__module.model.6.m.1/__module.model.6.m.1.0/__module.model.6.m.1.0.attn # /content/yolov12/ultralytics/nn/modules/block.py:1256:0\n",
            "\t\t    %562 : int[] = prim::ListConstruct(%557, %503, %505, %501), scope: __module.model.6/__module.model.6.m.1/__module.model.6.m.1.0/__module.model.6.m.1.0.attn\n",
            "\t\t    %563 : Tensor = aten::reshape(%v.11, %562), scope: __module.model.6/__module.model.6.m.1/__module.model.6.m.1.0/__module.model.6.m.1.0.attn # /content/yolov12/ultralytics/nn/modules/block.py:1257:0\n",
            "\t\t    %564 : int[] = prim::ListConstruct(%251, %238, %252, %237), scope: __module.model.6/__module.model.6.m.1/__module.model.6.m.1.0/__module.model.6.m.1.0.attn\n",
            "\t\t    %input.71 : Tensor = aten::permute(%563, %564), scope: __module.model.6/__module.model.6.m.1/__module.model.6.m.1.0/__module.model.6.m.1.0.attn # /content/yolov12/ultralytics/nn/modules/block.py:1257:0\n",
            "\t\t    %conv.49 : __torch__.torch.nn.modules.conv.Conv2d = prim::GetAttr[name=\"conv\"](%pe.5)\n",
            "\t\t    %bias.287 : Tensor = prim::GetAttr[name=\"bias\"](%conv.49)\n",
            "\t\t    %weight.289 : Tensor = prim::GetAttr[name=\"weight\"](%conv.49)\n",
            "\t\t    %569 : int[] = prim::ListConstruct(%252, %252), scope: __module.model.6/__module.model.6.m.1/__module.model.6.m.1.0/__module.model.6.m.1.0.attn/__module.model.6.m.1.0.attn.pe/__module.model.6.m.1.0.attn.pe.conv\n",
            "\t\t    %570 : int[] = prim::ListConstruct(%238, %238), scope: __module.model.6/__module.model.6.m.1/__module.model.6.m.1.0/__module.model.6.m.1.0.attn/__module.model.6.m.1.0.attn.pe/__module.model.6.m.1.0.attn.pe.conv\n",
            "\t\t    %571 : int[] = prim::ListConstruct(%252, %252), scope: __module.model.6/__module.model.6.m.1/__module.model.6.m.1.0/__module.model.6.m.1.0.attn/__module.model.6.m.1.0.attn.pe/__module.model.6.m.1.0.attn.pe.conv\n",
            "\t\t    %572 : int[] = prim::ListConstruct(%251, %251), scope: __module.model.6/__module.model.6.m.1/__module.model.6.m.1.0/__module.model.6.m.1.0.attn/__module.model.6.m.1.0.attn.pe/__module.model.6.m.1.0.attn.pe.conv\n",
            "\t\t    %573 : Tensor = aten::_convolution(%input.71, %weight.289, %bias.287, %569, %570, %571, %250, %572, %248, %250, %249, %249, %249), scope: __module.model.6/__module.model.6.m.1/__module.model.6.m.1.0/__module.model.6.m.1.0.attn/__module.model.6.m.1.0.attn.pe/__module.model.6.m.1.0.attn.pe.conv # /usr/local/lib/python3.11/dist-packages/torch/nn/modules/conv.py:549:0\n",
            "\t\t    %input.73 : Tensor = aten::add(%x.25, %573, %252), scope: __module.model.6/__module.model.6.m.1/__module.model.6.m.1.0/__module.model.6.m.1.0.attn # /content/yolov12/ultralytics/nn/modules/block.py:1259:0\n",
            "\t\t    %conv.51 : __torch__.torch.nn.modules.conv.Conv2d = prim::GetAttr[name=\"conv\"](%proj.5)\n",
            "\t\t    %bias.289 : Tensor = prim::GetAttr[name=\"bias\"](%conv.51)\n",
            "\t\t    %weight.291 : Tensor = prim::GetAttr[name=\"weight\"](%conv.51)\n",
            "\t\t    %578 : int[] = prim::ListConstruct(%252, %252), scope: __module.model.6/__module.model.6.m.1/__module.model.6.m.1.0/__module.model.6.m.1.0.attn/__module.model.6.m.1.0.attn.proj/__module.model.6.m.1.0.attn.proj.conv\n",
            "\t\t    %579 : int[] = prim::ListConstruct(%251, %251), scope: __module.model.6/__module.model.6.m.1/__module.model.6.m.1.0/__module.model.6.m.1.0.attn/__module.model.6.m.1.0.attn.proj/__module.model.6.m.1.0.attn.proj.conv\n",
            "\t\t    %580 : int[] = prim::ListConstruct(%252, %252), scope: __module.model.6/__module.model.6.m.1/__module.model.6.m.1.0/__module.model.6.m.1.0.attn/__module.model.6.m.1.0.attn.proj/__module.model.6.m.1.0.attn.proj.conv\n",
            "\t\t    %581 : int[] = prim::ListConstruct(%251, %251), scope: __module.model.6/__module.model.6.m.1/__module.model.6.m.1.0/__module.model.6.m.1.0.attn/__module.model.6.m.1.0.attn.proj/__module.model.6.m.1.0.attn.proj.conv\n",
            "\t\t    %582 : Tensor = aten::_convolution(%input.73, %weight.291, %bias.289, %578, %579, %580, %250, %581, %252, %250, %249, %249, %249), scope: __module.model.6/__module.model.6.m.1/__module.model.6.m.1.0/__module.model.6.m.1.0.attn/__module.model.6.m.1.0.attn.proj/__module.model.6.m.1.0.attn.proj.conv # /usr/local/lib/python3.11/dist-packages/torch/nn/modules/conv.py:549:0\n",
            "\t\t    %input.75 : Tensor = aten::add(%x.19, %582, %252), scope: __module.model.6/__module.model.6.m.1/__module.model.6.m.1.0 # /content/yolov12/ultralytics/nn/modules/block.py:1310:0\n",
            "\t\t    %_1.13 : __torch__.ultralytics.nn.modules.conv.Conv = prim::GetAttr[name=\"1\"](%mlp.5)\n",
            "\t\t    %_0.15 : __torch__.ultralytics.nn.modules.conv.Conv = prim::GetAttr[name=\"0\"](%mlp.5)\n",
            "\t\t    %conv.53 : __torch__.torch.nn.modules.conv.Conv2d = prim::GetAttr[name=\"conv\"](%_0.15)\n",
            "\t\t    %bias.291 : Tensor = prim::GetAttr[name=\"bias\"](%conv.53)\n",
            "\t\t    %weight.293 : Tensor = prim::GetAttr[name=\"weight\"](%conv.53)\n",
            "\t\t    %589 : int[] = prim::ListConstruct(%252, %252), scope: __module.model.6/__module.model.6.m.1/__module.model.6.m.1.0/__module.model.6.m.1.0.mlp/__module.model.6.m.1.0.mlp.0/__module.model.6.m.1.0.mlp.0.conv\n",
            "\t\t    %590 : int[] = prim::ListConstruct(%251, %251), scope: __module.model.6/__module.model.6.m.1/__module.model.6.m.1.0/__module.model.6.m.1.0.mlp/__module.model.6.m.1.0.mlp.0/__module.model.6.m.1.0.mlp.0.conv\n",
            "\t\t    %591 : int[] = prim::ListConstruct(%252, %252), scope: __module.model.6/__module.model.6.m.1/__module.model.6.m.1.0/__module.model.6.m.1.0.mlp/__module.model.6.m.1.0.mlp.0/__module.model.6.m.1.0.mlp.0.conv\n",
            "\t\t    %592 : int[] = prim::ListConstruct(%251, %251), scope: __module.model.6/__module.model.6.m.1/__module.model.6.m.1.0/__module.model.6.m.1.0.mlp/__module.model.6.m.1.0.mlp.0/__module.model.6.m.1.0.mlp.0.conv\n",
            "\t\t    %input.77 : Tensor = aten::_convolution(%input.75, %weight.293, %bias.291, %589, %590, %591, %250, %592, %252, %250, %249, %249, %249), scope: __module.model.6/__module.model.6.m.1/__module.model.6.m.1.0/__module.model.6.m.1.0.mlp/__module.model.6.m.1.0.mlp.0/__module.model.6.m.1.0.mlp.0.conv # /usr/local/lib/python3.11/dist-packages/torch/nn/modules/conv.py:549:0\n",
            "\t\t    %input.79 : Tensor = aten::silu_(%input.77), scope: __module.model.6/__module.model.6.m.1/__module.model.6.m.1.0/__module.model.6.m.1.0.mlp/__module.model.6.m.1.0.mlp.0/__module.model.21.cv3.2.1.1.act # /usr/local/lib/python3.11/dist-packages/torch/nn/functional.py:2379:0\n",
            "\t\t    %act.25 : __torch__.torch.nn.modules.linear.Identity = prim::GetAttr[name=\"act\"](%_1.13)\n",
            "\t\t    %conv.55 : __torch__.torch.nn.modules.conv.Conv2d = prim::GetAttr[name=\"conv\"](%_1.13)\n",
            "\t\t    %bias.293 : Tensor = prim::GetAttr[name=\"bias\"](%conv.55)\n",
            "\t\t    %weight.295 : Tensor = prim::GetAttr[name=\"weight\"](%conv.55)\n",
            "\t\t    %599 : int[] = prim::ListConstruct(%252, %252), scope: __module.model.6/__module.model.6.m.1/__module.model.6.m.1.0/__module.model.6.m.1.0.mlp/__module.model.6.m.1.0.mlp.1/__module.model.6.m.1.0.mlp.1.conv\n",
            "\t\t    %600 : int[] = prim::ListConstruct(%251, %251), scope: __module.model.6/__module.model.6.m.1/__module.model.6.m.1.0/__module.model.6.m.1.0.mlp/__module.model.6.m.1.0.mlp.1/__module.model.6.m.1.0.mlp.1.conv\n",
            "\t\t    %601 : int[] = prim::ListConstruct(%252, %252), scope: __module.model.6/__module.model.6.m.1/__module.model.6.m.1.0/__module.model.6.m.1.0.mlp/__module.model.6.m.1.0.mlp.1/__module.model.6.m.1.0.mlp.1.conv\n",
            "\t\t    %602 : int[] = prim::ListConstruct(%251, %251), scope: __module.model.6/__module.model.6.m.1/__module.model.6.m.1.0/__module.model.6.m.1.0.mlp/__module.model.6.m.1.0.mlp.1/__module.model.6.m.1.0.mlp.1.conv\n",
            "\t\t    %603 : Tensor = aten::_convolution(%input.79, %weight.295, %bias.293, %599, %600, %601, %250, %602, %252, %250, %249, %249, %249), scope: __module.model.6/__module.model.6.m.1/__module.model.6.m.1.0/__module.model.6.m.1.0.mlp/__module.model.6.m.1.0.mlp.1/__module.model.6.m.1.0.mlp.1.conv # /usr/local/lib/python3.11/dist-packages/torch/nn/modules/conv.py:549:0\n",
            "\t\t    %x.27 : Tensor = aten::add(%input.75, %603, %252), scope: __module.model.6/__module.model.6.m.1/__module.model.6.m.1.0 # /content/yolov12/ultralytics/nn/modules/block.py:1311:0\n",
            "\t\t    %mlp.7 : __torch__.torch.nn.modules.container.Sequential = prim::GetAttr[name=\"mlp\"](%_1.17)\n",
            "\t\t    %attn.7 : __torch__.ultralytics.nn.modules.block.AAttn = prim::GetAttr[name=\"attn\"](%_1.17)\n",
            "\t\t    %proj.7 : __torch__.ultralytics.nn.modules.conv.Conv = prim::GetAttr[name=\"proj\"](%attn.7)\n",
            "\t\t    %pe.7 : __torch__.ultralytics.nn.modules.conv.Conv = prim::GetAttr[name=\"pe\"](%attn.7)\n",
            "\t\t    %qkv.31 : __torch__.ultralytics.nn.modules.conv.Conv = prim::GetAttr[name=\"qkv\"](%attn.7)\n",
            "\t\t    %610 : int = aten::size(%x.27, %251), scope: __module.model.6/__module.model.6.m.1/__module.model.6.m.1.1/__module.model.6.m.1.1.attn # /content/yolov12/ultralytics/nn/modules/block.py:1219:0\n",
            "\t\t    %B.19 : Tensor = prim::NumToTensor(%610), scope: __module.model.6/__module.model.6.m.1/__module.model.6.m.1.1/__module.model.6.m.1.1.attn\n",
            "\t\t    %612 : int = aten::size(%x.27, %252), scope: __module.model.6/__module.model.6.m.1/__module.model.6.m.1.1/__module.model.6.m.1.1.attn # /content/yolov12/ultralytics/nn/modules/block.py:1219:0\n",
            "\t\t    %C.7 : Tensor = prim::NumToTensor(%612), scope: __module.model.6/__module.model.6.m.1/__module.model.6.m.1.1/__module.model.6.m.1.1.attn\n",
            "\t\t    %614 : int = aten::size(%x.27, %237), scope: __module.model.6/__module.model.6.m.1/__module.model.6.m.1.1/__module.model.6.m.1.1.attn # /content/yolov12/ultralytics/nn/modules/block.py:1219:0\n",
            "\t\t    %H.7 : Tensor = prim::NumToTensor(%614), scope: __module.model.6/__module.model.6.m.1/__module.model.6.m.1.1/__module.model.6.m.1.1.attn\n",
            "\t\t    %616 : int = aten::size(%x.27, %238), scope: __module.model.6/__module.model.6.m.1/__module.model.6.m.1.1/__module.model.6.m.1.1.attn # /content/yolov12/ultralytics/nn/modules/block.py:1219:0\n",
            "\t\t    %W.7 : Tensor = prim::NumToTensor(%616), scope: __module.model.6/__module.model.6.m.1/__module.model.6.m.1.1/__module.model.6.m.1.1.attn\n",
            "\t\t    %618 : Tensor = aten::mul(%H.7, %W.7), scope: __module.model.6/__module.model.6.m.1/__module.model.6.m.1.1/__module.model.6.m.1.1.attn # /content/yolov12/ultralytics/nn/modules/block.py:1220:0\n",
            "\t\t    %conv.57 : __torch__.torch.nn.modules.conv.Conv2d = prim::GetAttr[name=\"conv\"](%qkv.31)\n",
            "\t\t    %bias.295 : Tensor = prim::GetAttr[name=\"bias\"](%conv.57)\n",
            "\t\t    %weight.297 : Tensor = prim::GetAttr[name=\"weight\"](%conv.57)\n",
            "\t\t    %622 : int[] = prim::ListConstruct(%252, %252), scope: __module.model.6/__module.model.6.m.1/__module.model.6.m.1.1/__module.model.6.m.1.1.attn/__module.model.6.m.1.1.attn.qkv/__module.model.6.m.1.1.attn.qkv.conv\n",
            "\t\t    %623 : int[] = prim::ListConstruct(%251, %251), scope: __module.model.6/__module.model.6.m.1/__module.model.6.m.1.1/__module.model.6.m.1.1.attn/__module.model.6.m.1.1.attn.qkv/__module.model.6.m.1.1.attn.qkv.conv\n",
            "\t\t    %624 : int[] = prim::ListConstruct(%252, %252), scope: __module.model.6/__module.model.6.m.1/__module.model.6.m.1.1/__module.model.6.m.1.1.attn/__module.model.6.m.1.1.attn.qkv/__module.model.6.m.1.1.attn.qkv.conv\n",
            "\t\t    %625 : int[] = prim::ListConstruct(%251, %251), scope: __module.model.6/__module.model.6.m.1/__module.model.6.m.1.1/__module.model.6.m.1.1.attn/__module.model.6.m.1.1.attn.qkv/__module.model.6.m.1.1.attn.qkv.conv\n",
            "\t\t    %626 : Tensor = aten::_convolution(%x.27, %weight.297, %bias.295, %622, %623, %624, %250, %625, %252, %250, %249, %249, %249), scope: __module.model.6/__module.model.6.m.1/__module.model.6.m.1.1/__module.model.6.m.1.1.attn/__module.model.6.m.1.1.attn.qkv/__module.model.6.m.1.1.attn.qkv.conv # /usr/local/lib/python3.11/dist-packages/torch/nn/modules/conv.py:549:0\n",
            "\t\t    %627 : Tensor = aten::flatten(%626, %237, %239), scope: __module.model.6/__module.model.6.m.1/__module.model.6.m.1.1/__module.model.6.m.1.1.attn # /content/yolov12/ultralytics/nn/modules/block.py:1222:0\n",
            "\t\t    %qkv.13 : Tensor = aten::transpose(%627, %252, %237), scope: __module.model.6/__module.model.6.m.1/__module.model.6.m.1.1/__module.model.6.m.1.1.attn # /content/yolov12/ultralytics/nn/modules/block.py:1222:0\n",
            "\t\t    %629 : Tensor = aten::mul(%B.19, %240), scope: __module.model.6/__module.model.6.m.1/__module.model.6.m.1.1/__module.model.6.m.1.1.attn # /content/yolov12/ultralytics/nn/modules/block.py:1224:0\n",
            "\t\t    %630 : int = aten::Int(%629), scope: __module.model.6/__module.model.6.m.1/__module.model.6.m.1.1/__module.model.6.m.1.1.attn\n",
            "\t\t    %631 : Tensor = aten::floor_divide(%618, %240), scope: __module.model.6/__module.model.6.m.1/__module.model.6.m.1.1/__module.model.6.m.1.1.attn # /usr/local/lib/python3.11/dist-packages/torch/_tensor.py:1061:0\n",
            "\t\t    %632 : int = aten::Int(%631), scope: __module.model.6/__module.model.6.m.1/__module.model.6.m.1.1/__module.model.6.m.1.1.attn\n",
            "\t\t    %633 : Tensor = aten::mul(%C.7, %241), scope: __module.model.6/__module.model.6.m.1/__module.model.6.m.1.1/__module.model.6.m.1.1.attn # /content/yolov12/ultralytics/nn/modules/block.py:1224:0\n",
            "\t\t    %634 : int = aten::Int(%633), scope: __module.model.6/__module.model.6.m.1/__module.model.6.m.1.1/__module.model.6.m.1.1.attn\n",
            "\t\t    %635 : int[] = prim::ListConstruct(%630, %632, %634), scope: __module.model.6/__module.model.6.m.1/__module.model.6.m.1.1/__module.model.6.m.1.1.attn\n",
            "\t\t    %qkv.15 : Tensor = aten::reshape(%qkv.13, %635), scope: __module.model.6/__module.model.6.m.1/__module.model.6.m.1.1/__module.model.6.m.1.1.attn # /content/yolov12/ultralytics/nn/modules/block.py:1224:0\n",
            "\t\t    %637 : int = aten::size(%qkv.15, %251), scope: __module.model.6/__module.model.6.m.1/__module.model.6.m.1.1/__module.model.6.m.1.1.attn # /content/yolov12/ultralytics/nn/modules/block.py:1225:0\n",
            "\t\t    %B.21 : Tensor = prim::NumToTensor(%637), scope: __module.model.6/__module.model.6.m.1/__module.model.6.m.1.1/__module.model.6.m.1.1.attn\n",
            "\t\t    %639 : int = aten::size(%qkv.15, %252), scope: __module.model.6/__module.model.6.m.1/__module.model.6.m.1.1/__module.model.6.m.1.1.attn # /content/yolov12/ultralytics/nn/modules/block.py:1225:0\n",
            "\t\t    %N.7 : Tensor = prim::NumToTensor(%639), scope: __module.model.6/__module.model.6.m.1/__module.model.6.m.1.1/__module.model.6.m.1.1.attn\n",
            "\t\t    %641 : int[] = prim::ListConstruct(%637, %639, %242, %243), scope: __module.model.6/__module.model.6.m.1/__module.model.6.m.1.1/__module.model.6.m.1.1.attn\n",
            "\t\t    %642 : Tensor = aten::view(%qkv.15, %641), scope: __module.model.6/__module.model.6.m.1/__module.model.6.m.1.1/__module.model.6.m.1.1.attn # /content/yolov12/ultralytics/nn/modules/block.py:1226:0\n",
            "\t\t    %643 : int[] = prim::ListConstruct(%244, %244, %244), scope: __module.model.6/__module.model.6.m.1/__module.model.6.m.1.1/__module.model.6.m.1.1.attn\n",
            "\t\t    %644 : Tensor[] = aten::split_with_sizes(%642, %643, %238), scope: __module.model.6/__module.model.6.m.1/__module.model.6.m.1.1/__module.model.6.m.1.1.attn # /usr/local/lib/python3.11/dist-packages/torch/_tensor.py:983:0\n",
            "\t\t    %q.13 : Tensor, %k.7 : Tensor, %v.13 : Tensor = prim::ListUnpack(%644), scope: __module.model.6/__module.model.6.m.1/__module.model.6.m.1.1/__module.model.6.m.1.1.attn\n",
            "\t\t    %648 : Tensor = aten::contiguous(%q.13, %251), scope: __module.model.6/__module.model.6.m.1/__module.model.6.m.1.1/__module.model.6.m.1.1.attn # /content/yolov12/ultralytics/nn/modules/block.py:1232:0\n",
            "\t\t    %q.15 : Tensor = aten::to(%648, %245, %250, %250, %246), scope: __module.model.6/__module.model.6.m.1/__module.model.6.m.1.1/__module.model.6.m.1.1.attn # /content/yolov12/ultralytics/nn/modules/block.py:1232:0\n",
            "\t\t    %650 : Tensor = aten::contiguous(%k.7, %251), scope: __module.model.6/__module.model.6.m.1/__module.model.6.m.1.1/__module.model.6.m.1.1.attn # /content/yolov12/ultralytics/nn/modules/block.py:1233:0\n",
            "\t\t    %651 : Tensor = aten::to(%650, %245, %250, %250, %246), scope: __module.model.6/__module.model.6.m.1/__module.model.6.m.1.1/__module.model.6.m.1.1.attn # /content/yolov12/ultralytics/nn/modules/block.py:1233:0\n",
            "\t\t    %652 : Tensor = aten::contiguous(%v.13, %251), scope: __module.model.6/__module.model.6.m.1/__module.model.6.m.1.1/__module.model.6.m.1.1.attn # /content/yolov12/ultralytics/nn/modules/block.py:1234:0\n",
            "\t\t    %653 : Tensor = aten::to(%652, %245, %250, %250, %246), scope: __module.model.6/__module.model.6.m.1/__module.model.6.m.1.1/__module.model.6.m.1.1.attn # /content/yolov12/ultralytics/nn/modules/block.py:1234:0\n",
            "\t\t-   %654 : Tensor = ^FlashAttnFunc[inplace=0, module=\"flash_attn.flash_attn_interface\", Subgraph=<Graph>](0.0, None, False, (-1, -1), 0.0, None, False, False, True)(%q.15, %651, %653), scope: __module.model.6/__module.model.6.m.1/__module.model.6.m.1.1/__module.model.6.m.1.1.attn # /usr/local/lib/python3.11/dist-packages/torch/autograd/function.py:575:0\n",
            "\t\t?                                                                                                                                                              ^^^\n",
            "\t\t+   %654 : Tensor = ^FlashAttnFunc[inplace=0, module=\"flash_attn.flash_attn_interface\", Subgraph=<Graph>](0.0, None, False, (-1, -1), 0.0, None, False, False, False)(%q.15, %651, %653), scope: __module.model.6/__module.model.6.m.1/__module.model.6.m.1.1/__module.model.6.m.1.1.attn # /usr/local/lib/python3.11/dist-packages/torch/autograd/function.py:575:0\n",
            "\t\t?                                                                                                                                                              ^^^^\n",
            "\t\t    %x.29 : Tensor = aten::to(%654, %247, %250, %250, %246), scope: __module.model.6/__module.model.6.m.1/__module.model.6.m.1.1/__module.model.6.m.1.1.attn # /content/yolov12/ultralytics/nn/modules/block.py:1235:0\n",
            "\t\t    %656 : Tensor = aten::floor_divide(%B.21, %240), scope: __module.model.6/__module.model.6.m.1/__module.model.6.m.1.1/__module.model.6.m.1.1.attn # /usr/local/lib/python3.11/dist-packages/torch/_tensor.py:1061:0\n",
            "\t\t    %657 : int = aten::Int(%656), scope: __module.model.6/__module.model.6.m.1/__module.model.6.m.1.1/__module.model.6.m.1.1.attn\n",
            "\t\t    %658 : Tensor = aten::mul(%N.7, %240), scope: __module.model.6/__module.model.6.m.1/__module.model.6.m.1.1/__module.model.6.m.1.1.attn # /content/yolov12/ultralytics/nn/modules/block.py:1252:0\n",
            "\t\t    %659 : int = aten::Int(%658), scope: __module.model.6/__module.model.6.m.1/__module.model.6.m.1.1/__module.model.6.m.1.1.attn\n",
            "\t\t    %660 : int[] = prim::ListConstruct(%657, %659, %612), scope: __module.model.6/__module.model.6.m.1/__module.model.6.m.1.1/__module.model.6.m.1.1.attn\n",
            "\t\t    %x.31 : Tensor = aten::reshape(%x.29, %660), scope: __module.model.6/__module.model.6.m.1/__module.model.6.m.1.1/__module.model.6.m.1.1.attn # /content/yolov12/ultralytics/nn/modules/block.py:1252:0\n",
            "\t\t    %662 : Tensor = aten::floor_divide(%B.21, %240), scope: __module.model.6/__module.model.6.m.1/__module.model.6.m.1.1/__module.model.6.m.1.1.attn # /usr/local/lib/python3.11/dist-packages/torch/_tensor.py:1061:0\n",
            "\t\t    %663 : int = aten::Int(%662), scope: __module.model.6/__module.model.6.m.1/__module.model.6.m.1.1/__module.model.6.m.1.1.attn\n",
            "\t\t    %664 : Tensor = aten::mul(%N.7, %240), scope: __module.model.6/__module.model.6.m.1/__module.model.6.m.1.1/__module.model.6.m.1.1.attn # /content/yolov12/ultralytics/nn/modules/block.py:1253:0\n",
            "\t\t    %665 : int = aten::Int(%664), scope: __module.model.6/__module.model.6.m.1/__module.model.6.m.1.1/__module.model.6.m.1.1.attn\n",
            "\t\t    %666 : int[] = prim::ListConstruct(%663, %665, %612), scope: __module.model.6/__module.model.6.m.1/__module.model.6.m.1.1/__module.model.6.m.1.1.attn\n",
            "\t\t    %v.15 : Tensor = aten::reshape(%v.13, %666), scope: __module.model.6/__module.model.6.m.1/__module.model.6.m.1.1/__module.model.6.m.1.1.attn # /content/yolov12/ultralytics/nn/modules/block.py:1253:0\n",
            "\t\t    %668 : int = aten::size(%x.31, %251), scope: __module.model.6/__module.model.6.m.1/__module.model.6.m.1.1/__module.model.6.m.1.1.attn # /content/yolov12/ultralytics/nn/modules/block.py:1254:0\n",
            "\t\t    %669 : int[] = prim::ListConstruct(%668, %614, %616, %612), scope: __module.model.6/__module.model.6.m.1/__module.model.6.m.1.1/__module.model.6.m.1.1.attn\n",
            "\t\t    %670 : Tensor = aten::reshape(%x.31, %669), scope: __module.model.6/__module.model.6.m.1/__module.model.6.m.1.1/__module.model.6.m.1.1.attn # /content/yolov12/ultralytics/nn/modules/block.py:1256:0\n",
            "\t\t    %671 : int[] = prim::ListConstruct(%251, %238, %252, %237), scope: __module.model.6/__module.model.6.m.1/__module.model.6.m.1.1/__module.model.6.m.1.1.attn\n",
            "\t\t    %x.33 : Tensor = aten::permute(%670, %671), scope: __module.model.6/__module.model.6.m.1/__module.model.6.m.1.1/__module.model.6.m.1.1.attn # /content/yolov12/ultralytics/nn/modules/block.py:1256:0\n",
            "\t\t    %673 : int[] = prim::ListConstruct(%668, %614, %616, %612), scope: __module.model.6/__module.model.6.m.1/__module.model.6.m.1.1/__module.model.6.m.1.1.attn\n",
            "\t\t    %674 : Tensor = aten::reshape(%v.15, %673), scope: __module.model.6/__module.model.6.m.1/__module.model.6.m.1.1/__module.model.6.m.1.1.attn # /content/yolov12/ultralytics/nn/modules/block.py:1257:0\n",
            "\t\t    %675 : int[] = prim::ListConstruct(%251, %238, %252, %237), scope: __module.model.6/__module.model.6.m.1/__module.model.6.m.1.1/__module.model.6.m.1.1.attn\n",
            "\t\t    %input.81 : Tensor = aten::permute(%674, %675), scope: __module.model.6/__module.model.6.m.1/__module.model.6.m.1.1/__module.model.6.m.1.1.attn # /content/yolov12/ultralytics/nn/modules/block.py:1257:0\n",
            "\t\t    %conv.59 : __torch__.torch.nn.modules.conv.Conv2d = prim::GetAttr[name=\"conv\"](%pe.7)\n",
            "\t\t    %bias.297 : Tensor = prim::GetAttr[name=\"bias\"](%conv.59)\n",
            "\t\t    %weight.299 : Tensor = prim::GetAttr[name=\"weight\"](%conv.59)\n",
            "\t\t    %680 : int[] = prim::ListConstruct(%252, %252), scope: __module.model.6/__module.model.6.m.1/__module.model.6.m.1.1/__module.model.6.m.1.1.attn/__module.model.6.m.1.1.attn.pe/__module.model.6.m.1.1.attn.pe.conv\n",
            "\t\t    %681 : int[] = prim::ListConstruct(%238, %238), scope: __module.model.6/__module.model.6.m.1/__module.model.6.m.1.1/__module.model.6.m.1.1.attn/__module.model.6.m.1.1.attn.pe/__module.model.6.m.1.1.attn.pe.conv\n",
            "\t\t    %682 : int[] = prim::ListConstruct(%252, %252), scope: __module.model.6/__module.model.6.m.1/__module.model.6.m.1.1/__module.model.6.m.1.1.attn/__module.model.6.m.1.1.attn.pe/__module.model.6.m.1.1.attn.pe.conv\n",
            "\t\t    %683 : int[] = prim::ListConstruct(%251, %251), scope: __module.model.6/__module.model.6.m.1/__module.model.6.m.1.1/__module.model.6.m.1.1.attn/__module.model.6.m.1.1.attn.pe/__module.model.6.m.1.1.attn.pe.conv\n",
            "\t\t    %684 : Tensor = aten::_convolution(%input.81, %weight.299, %bias.297, %680, %681, %682, %250, %683, %248, %250, %249, %249, %249), scope: __module.model.6/__module.model.6.m.1/__module.model.6.m.1.1/__module.model.6.m.1.1.attn/__module.model.6.m.1.1.attn.pe/__module.model.6.m.1.1.attn.pe.conv # /usr/local/lib/python3.11/dist-packages/torch/nn/modules/conv.py:549:0\n",
            "\t\t    %input.83 : Tensor = aten::add(%x.33, %684, %252), scope: __module.model.6/__module.model.6.m.1/__module.model.6.m.1.1/__module.model.6.m.1.1.attn # /content/yolov12/ultralytics/nn/modules/block.py:1259:0\n",
            "\t\t    %conv.61 : __torch__.torch.nn.modules.conv.Conv2d = prim::GetAttr[name=\"conv\"](%proj.7)\n",
            "\t\t    %bias.299 : Tensor = prim::GetAttr[name=\"bias\"](%conv.61)\n",
            "\t\t    %weight.301 : Tensor = prim::GetAttr[name=\"weight\"](%conv.61)\n",
            "\t\t    %689 : int[] = prim::ListConstruct(%252, %252), scope: __module.model.6/__module.model.6.m.1/__module.model.6.m.1.1/__module.model.6.m.1.1.attn/__module.model.6.m.1.1.attn.proj/__module.model.6.m.1.1.attn.proj.conv\n",
            "\t\t    %690 : int[] = prim::ListConstruct(%251, %251), scope: __module.model.6/__module.model.6.m.1/__module.model.6.m.1.1/__module.model.6.m.1.1.attn/__module.model.6.m.1.1.attn.proj/__module.model.6.m.1.1.attn.proj.conv\n",
            "\t\t    %691 : int[] = prim::ListConstruct(%252, %252), scope: __module.model.6/__module.model.6.m.1/__module.model.6.m.1.1/__module.model.6.m.1.1.attn/__module.model.6.m.1.1.attn.proj/__module.model.6.m.1.1.attn.proj.conv\n",
            "\t\t    %692 : int[] = prim::ListConstruct(%251, %251), scope: __module.model.6/__module.model.6.m.1/__module.model.6.m.1.1/__module.model.6.m.1.1.attn/__module.model.6.m.1.1.attn.proj/__module.model.6.m.1.1.attn.proj.conv\n",
            "\t\t    %693 : Tensor = aten::_convolution(%input.83, %weight.301, %bias.299, %689, %690, %691, %250, %692, %252, %250, %249, %249, %249), scope: __module.model.6/__module.model.6.m.1/__module.model.6.m.1.1/__module.model.6.m.1.1.attn/__module.model.6.m.1.1.attn.proj/__module.model.6.m.1.1.attn.proj.conv # /usr/local/lib/python3.11/dist-packages/torch/nn/modules/conv.py:549:0\n",
            "\t\t    %input.85 : Tensor = aten::add(%x.27, %693, %252), scope: __module.model.6/__module.model.6.m.1/__module.model.6.m.1.1 # /content/yolov12/ultralytics/nn/modules/block.py:1310:0\n",
            "\t\t    %_1.15 : __torch__.ultralytics.nn.modules.conv.Conv = prim::GetAttr[name=\"1\"](%mlp.7)\n",
            "\t\t    %_0.19 : __torch__.ultralytics.nn.modules.conv.Conv = prim::GetAttr[name=\"0\"](%mlp.7)\n",
            "\t\t    %conv.63 : __torch__.torch.nn.modules.conv.Conv2d = prim::GetAttr[name=\"conv\"](%_0.19)\n",
            "\t\t    %bias.301 : Tensor = prim::GetAttr[name=\"bias\"](%conv.63)\n",
            "\t\t    %weight.303 : Tensor = prim::GetAttr[name=\"weight\"](%conv.63)\n",
            "\t\t    %700 : int[] = prim::ListConstruct(%252, %252), scope: __module.model.6/__module.model.6.m.1/__module.model.6.m.1.1/__module.model.6.m.1.1.mlp/__module.model.6.m.1.1.mlp.0/__module.model.6.m.1.1.mlp.0.conv\n",
            "\t\t    %701 : int[] = prim::ListConstruct(%251, %251), scope: __module.model.6/__module.model.6.m.1/__module.model.6.m.1.1/__module.model.6.m.1.1.mlp/__module.model.6.m.1.1.mlp.0/__module.model.6.m.1.1.mlp.0.conv\n",
            "\t\t    %702 : int[] = prim::ListConstruct(%252, %252), scope: __module.model.6/__module.model.6.m.1/__module.model.6.m.1.1/__module.model.6.m.1.1.mlp/__module.model.6.m.1.1.mlp.0/__module.model.6.m.1.1.mlp.0.conv\n",
            "\t\t    %703 : int[] = prim::ListConstruct(%251, %251), scope: __module.model.6/__module.model.6.m.1/__module.model.6.m.1.1/__module.model.6.m.1.1.mlp/__module.model.6.m.1.1.mlp.0/__module.model.6.m.1.1.mlp.0.conv\n",
            "\t\t    %input.87 : Tensor = aten::_convolution(%input.85, %weight.303, %bias.301, %700, %701, %702, %250, %703, %252, %250, %249, %249, %249), scope: __module.model.6/__module.model.6.m.1/__module.model.6.m.1.1/__module.model.6.m.1.1.mlp/__module.model.6.m.1.1.mlp.0/__module.model.6.m.1.1.mlp.0.conv # /usr/local/lib/python3.11/dist-packages/torch/nn/modules/conv.py:549:0\n",
            "\t\t    %input.89 : Tensor = aten::silu_(%input.87), scope: __module.model.6/__module.model.6.m.1/__module.model.6.m.1.1/__module.model.6.m.1.1.mlp/__module.model.6.m.1.1.mlp.0/__module.model.21.cv3.2.1.1.act # /usr/local/lib/python3.11/dist-packages/torch/nn/functional.py:2379:0\n",
            "\t\t    %act.33 : __torch__.torch.nn.modules.linear.Identity = prim::GetAttr[name=\"act\"](%_1.15)\n",
            "\t\t    %conv.65 : __torch__.torch.nn.modules.conv.Conv2d = prim::GetAttr[name=\"conv\"](%_1.15)\n",
            "\t\t    %bias.303 : Tensor = prim::GetAttr[name=\"bias\"](%conv.65)\n",
            "\t\t    %weight.305 : Tensor = prim::GetAttr[name=\"weight\"](%conv.65)\n",
            "\t\t    %710 : int[] = prim::ListConstruct(%252, %252), scope: __module.model.6/__module.model.6.m.1/__module.model.6.m.1.1/__module.model.6.m.1.1.mlp/__module.model.6.m.1.1.mlp.1/__module.model.6.m.1.1.mlp.1.conv\n",
            "\t\t    %711 : int[] = prim::ListConstruct(%251, %251), scope: __module.model.6/__module.model.6.m.1/__module.model.6.m.1.1/__module.model.6.m.1.1.mlp/__module.model.6.m.1.1.mlp.1/__module.model.6.m.1.1.mlp.1.conv\n",
            "\t\t    %712 : int[] = prim::ListConstruct(%252, %252), scope: __module.model.6/__module.model.6.m.1/__module.model.6.m.1.1/__module.model.6.m.1.1.mlp/__module.model.6.m.1.1.mlp.1/__module.model.6.m.1.1.mlp.1.conv\n",
            "\t\t    %713 : int[] = prim::ListConstruct(%251, %251), scope: __module.model.6/__module.model.6.m.1/__module.model.6.m.1.1/__module.model.6.m.1.1.mlp/__module.model.6.m.1.1.mlp.1/__module.model.6.m.1.1.mlp.1.conv\n",
            "\t\t    %714 : Tensor = aten::_convolution(%input.89, %weight.305, %bias.303, %710, %711, %712, %250, %713, %252, %250, %249, %249, %249), scope: __module.model.6/__module.model.6.m.1/__module.model.6.m.1.1/__module.model.6.m.1.1.mlp/__module.model.6.m.1.1.mlp.1/__module.model.6.m.1.1.mlp.1.conv # /usr/local/lib/python3.11/dist-packages/torch/nn/modules/conv.py:549:0\n",
            "\t\t    %715 : Tensor = aten::add(%input.85, %714, %252), scope: __module.model.6/__module.model.6.m.1/__module.model.6.m.1.1 # /content/yolov12/ultralytics/nn/modules/block.py:1311:0\n",
            "\t\t    %716 : Tensor[] = prim::ListConstruct(%x.3, %x.19, %715), scope: __module.model.6\n",
            "\t\t    %input.91 : Tensor = aten::cat(%716, %252), scope: __module.model.6 # /content/yolov12/ultralytics/nn/modules/block.py:1369:0\n",
            "\t\t    %conv.67 : __torch__.torch.nn.modules.conv.Conv2d = prim::GetAttr[name=\"conv\"](%cv2.9)\n",
            "\t\t    %bias.305 : Tensor = prim::GetAttr[name=\"bias\"](%conv.67)\n",
            "\t\t    %weight.307 : Tensor = prim::GetAttr[name=\"weight\"](%conv.67)\n",
            "\t\t    %721 : int[] = prim::ListConstruct(%252, %252), scope: __module.model.6/__module.model.6.cv2/__module.model.6.cv2.conv\n",
            "\t\t    %722 : int[] = prim::ListConstruct(%251, %251), scope: __module.model.6/__module.model.6.cv2/__module.model.6.cv2.conv\n",
            "\t\t    %723 : int[] = prim::ListConstruct(%252, %252), scope: __module.model.6/__module.model.6.cv2/__module.model.6.cv2.conv\n",
            "\t\t    %724 : int[] = prim::ListConstruct(%251, %251), scope: __module.model.6/__module.model.6.cv2/__module.model.6.cv2.conv\n",
            "\t\t    %input.93 : Tensor = aten::_convolution(%input.91, %weight.307, %bias.305, %721, %722, %723, %250, %724, %252, %250, %249, %249, %249), scope: __module.model.6/__module.model.6.cv2/__module.model.6.cv2.conv # /usr/local/lib/python3.11/dist-packages/torch/nn/modules/conv.py:549:0\n",
            "\t\t    %input.95 : Tensor = aten::silu_(%input.93), scope: __module.model.6/__module.model.6.cv2/__module.model.21.cv3.2.1.1.act # /usr/local/lib/python3.11/dist-packages/torch/nn/functional.py:2379:0\n",
            "\t\t    %727 : int = prim::Constant[value=2](), scope: __module.model.7/__module.model.7.conv # /usr/local/lib/python3.11/dist-packages/torch/nn/modules/conv.py:549:0\n",
            "\t\t    %728 : int = prim::Constant[value=1](), scope: __module.model.7/__module.model.7.conv # /usr/local/lib/python3.11/dist-packages/torch/nn/modules/conv.py:549:0\n",
            "\t\t    %729 : bool = prim::Constant[value=0](), scope: __module.model.7/__module.model.7.conv # /usr/local/lib/python3.11/dist-packages/torch/nn/modules/conv.py:549:0\n",
            "\t\t    %730 : int = prim::Constant[value=0](), scope: __module.model.7/__module.model.7.conv # /usr/local/lib/python3.11/dist-packages/torch/nn/modules/conv.py:549:0\n",
            "\t\t    %731 : bool = prim::Constant[value=1](), scope: __module.model.7/__module.model.7.conv # /usr/local/lib/python3.11/dist-packages/torch/nn/modules/conv.py:549:0\n",
            "\t\t    %conv.69 : __torch__.torch.nn.modules.conv.Conv2d = prim::GetAttr[name=\"conv\"](%_7)\n",
            "\t\t    %bias.307 : Tensor = prim::GetAttr[name=\"bias\"](%conv.69)\n",
            "\t\t    %weight.309 : Tensor = prim::GetAttr[name=\"weight\"](%conv.69)\n",
            "\t\t    %735 : int[] = prim::ListConstruct(%727, %727), scope: __module.model.7/__module.model.7.conv\n",
            "\t\t    %736 : int[] = prim::ListConstruct(%728, %728), scope: __module.model.7/__module.model.7.conv\n",
            "\t\t    %737 : int[] = prim::ListConstruct(%728, %728), scope: __module.model.7/__module.model.7.conv\n",
            "\t\t    %738 : int[] = prim::ListConstruct(%730, %730), scope: __module.model.7/__module.model.7.conv\n",
            "\t\t    %input.97 : Tensor = aten::_convolution(%input.95, %weight.309, %bias.307, %735, %736, %737, %729, %738, %728, %729, %731, %731, %731), scope: __module.model.7/__module.model.7.conv # /usr/local/lib/python3.11/dist-packages/torch/nn/modules/conv.py:549:0\n",
            "\t\t    %input.99 : Tensor = aten::silu_(%input.97), scope: __module.model.7/__module.model.21.cv3.2.1.1.act # /usr/local/lib/python3.11/dist-packages/torch/nn/functional.py:2379:0\n",
            "\t\t    %741 : int = prim::Constant[value=2](), scope: __module.model.8/__module.model.8.m.0/__module.model.8.m.0.0/__module.model.8.m.0.0.attn # /content/yolov12/ultralytics/nn/modules/block.py:1219:0\n",
            "\t\t    %742 : int = prim::Constant[value=3](), scope: __module.model.8/__module.model.8.m.0/__module.model.8.m.0.0/__module.model.8.m.0.0.attn # /content/yolov12/ultralytics/nn/modules/block.py:1219:0\n",
            "\t\t    %743 : int = prim::Constant[value=-1](), scope: __module.model.8/__module.model.8.m.0/__module.model.8.m.0.0/__module.model.8.m.0.0.attn # /content/yolov12/ultralytics/nn/modules/block.py:1222:0\n",
            "\t\t    %744 : int = prim::Constant[value=8](), scope: __module.model.8/__module.model.8.m.0/__module.model.8.m.0.0/__module.model.8.m.0.0.attn # /content/yolov12/ultralytics/nn/modules/block.py:1226:0\n",
            "\t\t    %745 : int = prim::Constant[value=96](), scope: __module.model.8/__module.model.8.m.0/__module.model.8.m.0.0/__module.model.8.m.0.0.attn # /content/yolov12/ultralytics/nn/modules/block.py:1226:0\n",
            "\t\t    %746 : int = prim::Constant[value=32](), scope: __module.model.8/__module.model.8.m.0/__module.model.8.m.0.0/__module.model.8.m.0.0.attn # /usr/local/lib/python3.11/dist-packages/torch/_tensor.py:983:0\n",
            "\t\t    %747 : int = prim::Constant[value=5](), scope: __module.model.8/__module.model.8.m.0/__module.model.8.m.0.0/__module.model.8.m.0.0.attn # /content/yolov12/ultralytics/nn/modules/block.py:1232:0\n",
            "\t\t    %748 : NoneType = prim::Constant(), scope: __module.model.8/__module.model.8.m.0/__module.model.8.m.0.0/__module.model.8.m.0.0.attn\n",
            "\t\t    %749 : int = prim::Constant[value=6](), scope: __module.model.8/__module.model.8.m.0/__module.model.8.m.0.0/__module.model.8.m.0.0.attn # /content/yolov12/ultralytics/nn/modules/block.py:1235:0\n",
            "\t\t    %750 : int = prim::Constant[value=256](), scope: __module.model.8/__module.model.8.m.0/__module.model.8.m.0.0/__module.model.8.m.0.0.attn/__module.model.8.m.0.0.attn.pe/__module.model.8.m.0.0.attn.pe.conv # /usr/local/lib/python3.11/dist-packages/torch/nn/modules/conv.py:549:0\n",
            "\t\t    %751 : bool = prim::Constant[value=1](), scope: __module.model.8/__module.model.8.cv1/__module.model.8.cv1.conv # /usr/local/lib/python3.11/dist-packages/torch/nn/modules/conv.py:549:0\n",
            "\t\t    %752 : bool = prim::Constant[value=0](), scope: __module.model.8/__module.model.8.cv1/__module.model.8.cv1.conv # /usr/local/lib/python3.11/dist-packages/torch/nn/modules/conv.py:549:0\n",
            "\t\t    %753 : int = prim::Constant[value=0](), scope: __module.model.8/__module.model.8.cv1/__module.model.8.cv1.conv # /usr/local/lib/python3.11/dist-packages/torch/nn/modules/conv.py:549:0\n",
            "\t\t    %754 : int = prim::Constant[value=1](), scope: __module.model.8/__module.model.8.cv1/__module.model.8.cv1.conv # /usr/local/lib/python3.11/dist-packages/torch/nn/modules/conv.py:549:0\n",
            "\t\t    %cv2.11 : __torch__.ultralytics.nn.modules.conv.Conv = prim::GetAttr[name=\"cv2\"](%_8)\n",
            "\t\t    %m.11 : __torch__.torch.nn.modules.container.ModuleList = prim::GetAttr[name=\"m\"](%_8)\n",
            "\t\t    %_1.33 : __torch__.torch.nn.modules.container.Sequential = prim::GetAttr[name=\"1\"](%m.11)\n",
            "\t\t    %m.9 : __torch__.torch.nn.modules.container.ModuleList = prim::GetAttr[name=\"m\"](%_8)\n",
            "\t\t    %_0.27 : __torch__.torch.nn.modules.container.Sequential = prim::GetAttr[name=\"0\"](%m.9)\n",
            "\t\t    %cv1.11 : __torch__.ultralytics.nn.modules.conv.Conv = prim::GetAttr[name=\"cv1\"](%_8)\n",
            "\t\t    %conv.71 : __torch__.torch.nn.modules.conv.Conv2d = prim::GetAttr[name=\"conv\"](%cv1.11)\n",
            "\t\t    %bias.309 : Tensor = prim::GetAttr[name=\"bias\"](%conv.71)\n",
            "\t\t    %weight.311 : Tensor = prim::GetAttr[name=\"weight\"](%conv.71)\n",
            "\t\t    %764 : int[] = prim::ListConstruct(%754, %754), scope: __module.model.8/__module.model.8.cv1/__module.model.8.cv1.conv\n",
            "\t\t    %765 : int[] = prim::ListConstruct(%753, %753), scope: __module.model.8/__module.model.8.cv1/__module.model.8.cv1.conv\n",
            "\t\t    %766 : int[] = prim::ListConstruct(%754, %754), scope: __module.model.8/__module.model.8.cv1/__module.model.8.cv1.conv\n",
            "\t\t    %767 : int[] = prim::ListConstruct(%753, %753), scope: __module.model.8/__module.model.8.cv1/__module.model.8.cv1.conv\n",
            "\t\t    %input.101 : Tensor = aten::_convolution(%input.99, %weight.311, %bias.309, %764, %765, %766, %752, %767, %754, %752, %751, %751, %751), scope: __module.model.8/__module.model.8.cv1/__module.model.8.cv1.conv # /usr/local/lib/python3.11/dist-packages/torch/nn/modules/conv.py:549:0\n",
            "\t\t    %x.35 : Tensor = aten::silu_(%input.101), scope: __module.model.8/__module.model.8.cv1/__module.model.21.cv3.2.1.1.act # /usr/local/lib/python3.11/dist-packages/torch/nn/functional.py:2379:0\n",
            "\t\t    %_1.25 : __torch__.ultralytics.nn.modules.block.ABlock = prim::GetAttr[name=\"1\"](%_0.27)\n",
            "\t\t    %_0.23 : __torch__.ultralytics.nn.modules.block.ABlock = prim::GetAttr[name=\"0\"](%_0.27)\n",
            "\t\t    %mlp.9 : __torch__.torch.nn.modules.container.Sequential = prim::GetAttr[name=\"mlp\"](%_0.23)\n",
            "\t\t    %attn.9 : __torch__.ultralytics.nn.modules.block.AAttn = prim::GetAttr[name=\"attn\"](%_0.23)\n",
            "\t\t    %proj.9 : __torch__.ultralytics.nn.modules.conv.Conv = prim::GetAttr[name=\"proj\"](%attn.9)\n",
            "\t\t    %pe.9 : __torch__.ultralytics.nn.modules.conv.Conv = prim::GetAttr[name=\"pe\"](%attn.9)\n",
            "\t\t    %qkv.33 : __torch__.ultralytics.nn.modules.conv.Conv = prim::GetAttr[name=\"qkv\"](%attn.9)\n",
            "\t\t    %777 : int = aten::size(%x.35, %753), scope: __module.model.8/__module.model.8.m.0/__module.model.8.m.0.0/__module.model.8.m.0.0.attn # /content/yolov12/ultralytics/nn/modules/block.py:1219:0\n",
            "\t\t    %778 : int = aten::size(%x.35, %754), scope: __module.model.8/__module.model.8.m.0/__module.model.8.m.0.0/__module.model.8.m.0.0.attn # /content/yolov12/ultralytics/nn/modules/block.py:1219:0\n",
            "\t\t    %779 : int = aten::size(%x.35, %741), scope: __module.model.8/__module.model.8.m.0/__module.model.8.m.0.0/__module.model.8.m.0.0.attn # /content/yolov12/ultralytics/nn/modules/block.py:1219:0\n",
            "\t\t    %H.9 : Tensor = prim::NumToTensor(%779), scope: __module.model.8/__module.model.8.m.0/__module.model.8.m.0.0/__module.model.8.m.0.0.attn\n",
            "\t\t    %781 : int = aten::size(%x.35, %742), scope: __module.model.8/__module.model.8.m.0/__module.model.8.m.0.0/__module.model.8.m.0.0.attn # /content/yolov12/ultralytics/nn/modules/block.py:1219:0\n",
            "\t\t    %W.9 : Tensor = prim::NumToTensor(%781), scope: __module.model.8/__module.model.8.m.0/__module.model.8.m.0.0/__module.model.8.m.0.0.attn\n",
            "\t\t    %N.9 : Tensor = aten::mul(%H.9, %W.9), scope: __module.model.8/__module.model.8.m.0/__module.model.8.m.0.0/__module.model.8.m.0.0.attn # /content/yolov12/ultralytics/nn/modules/block.py:1220:0\n",
            "\t\t    %784 : int = aten::Int(%N.9), scope: __module.model.8/__module.model.8.m.0/__module.model.8.m.0.0/__module.model.8.m.0.0.attn\n",
            "\t\t    %conv.73 : __torch__.torch.nn.modules.conv.Conv2d = prim::GetAttr[name=\"conv\"](%qkv.33)\n",
            "\t\t    %bias.311 : Tensor = prim::GetAttr[name=\"bias\"](%conv.73)\n",
            "\t\t    %weight.313 : Tensor = prim::GetAttr[name=\"weight\"](%conv.73)\n",
            "\t\t    %788 : int[] = prim::ListConstruct(%754, %754), scope: __module.model.8/__module.model.8.m.0/__module.model.8.m.0.0/__module.model.8.m.0.0.attn/__module.model.8.m.0.0.attn.qkv/__module.model.8.m.0.0.attn.qkv.conv\n",
            "\t\t    %789 : int[] = prim::ListConstruct(%753, %753), scope: __module.model.8/__module.model.8.m.0/__module.model.8.m.0.0/__module.model.8.m.0.0.attn/__module.model.8.m.0.0.attn.qkv/__module.model.8.m.0.0.attn.qkv.conv\n",
            "\t\t    %790 : int[] = prim::ListConstruct(%754, %754), scope: __module.model.8/__module.model.8.m.0/__module.model.8.m.0.0/__module.model.8.m.0.0.attn/__module.model.8.m.0.0.attn.qkv/__module.model.8.m.0.0.attn.qkv.conv\n",
            "\t\t    %791 : int[] = prim::ListConstruct(%753, %753), scope: __module.model.8/__module.model.8.m.0/__module.model.8.m.0.0/__module.model.8.m.0.0.attn/__module.model.8.m.0.0.attn.qkv/__module.model.8.m.0.0.attn.qkv.conv\n",
            "\t\t    %792 : Tensor = aten::_convolution(%x.35, %weight.313, %bias.311, %788, %789, %790, %752, %791, %754, %752, %751, %751, %751), scope: __module.model.8/__module.model.8.m.0/__module.model.8.m.0.0/__module.model.8.m.0.0.attn/__module.model.8.m.0.0.attn.qkv/__module.model.8.m.0.0.attn.qkv.conv # /usr/local/lib/python3.11/dist-packages/torch/nn/modules/conv.py:549:0\n",
            "\t\t    %793 : Tensor = aten::flatten(%792, %741, %743), scope: __module.model.8/__module.model.8.m.0/__module.model.8.m.0.0/__module.model.8.m.0.0.attn # /content/yolov12/ultralytics/nn/modules/block.py:1222:0\n",
            "\t\t    %qkv.17 : Tensor = aten::transpose(%793, %754, %741), scope: __module.model.8/__module.model.8.m.0/__module.model.8.m.0.0/__module.model.8.m.0.0.attn # /content/yolov12/ultralytics/nn/modules/block.py:1222:0\n",
            "\t\t    %795 : int[] = prim::ListConstruct(%777, %784, %744, %745), scope: __module.model.8/__module.model.8.m.0/__module.model.8.m.0.0/__module.model.8.m.0.0.attn\n",
            "\t\t    %796 : Tensor = aten::view(%qkv.17, %795), scope: __module.model.8/__module.model.8.m.0/__module.model.8.m.0.0/__module.model.8.m.0.0.attn # /content/yolov12/ultralytics/nn/modules/block.py:1226:0\n",
            "\t\t    %797 : int[] = prim::ListConstruct(%746, %746, %746), scope: __module.model.8/__module.model.8.m.0/__module.model.8.m.0.0/__module.model.8.m.0.0.attn\n",
            "\t\t    %798 : Tensor[] = aten::split_with_sizes(%796, %797, %742), scope: __module.model.8/__module.model.8.m.0/__module.model.8.m.0.0/__module.model.8.m.0.0.attn # /usr/local/lib/python3.11/dist-packages/torch/_tensor.py:983:0\n",
            "\t\t    %q.17 : Tensor, %k.9 : Tensor, %v.17 : Tensor = prim::ListUnpack(%798), scope: __module.model.8/__module.model.8.m.0/__module.model.8.m.0.0/__module.model.8.m.0.0.attn\n",
            "\t\t    %802 : Tensor = aten::contiguous(%q.17, %753), scope: __module.model.8/__module.model.8.m.0/__module.model.8.m.0.0/__module.model.8.m.0.0.attn # /content/yolov12/ultralytics/nn/modules/block.py:1232:0\n",
            "\t\t    %q.19 : Tensor = aten::to(%802, %747, %752, %752, %748), scope: __module.model.8/__module.model.8.m.0/__module.model.8.m.0.0/__module.model.8.m.0.0.attn # /content/yolov12/ultralytics/nn/modules/block.py:1232:0\n",
            "\t\t    %804 : Tensor = aten::contiguous(%k.9, %753), scope: __module.model.8/__module.model.8.m.0/__module.model.8.m.0.0/__module.model.8.m.0.0.attn # /content/yolov12/ultralytics/nn/modules/block.py:1233:0\n",
            "\t\t    %805 : Tensor = aten::to(%804, %747, %752, %752, %748), scope: __module.model.8/__module.model.8.m.0/__module.model.8.m.0.0/__module.model.8.m.0.0.attn # /content/yolov12/ultralytics/nn/modules/block.py:1233:0\n",
            "\t\t    %806 : Tensor = aten::contiguous(%v.17, %753), scope: __module.model.8/__module.model.8.m.0/__module.model.8.m.0.0/__module.model.8.m.0.0.attn # /content/yolov12/ultralytics/nn/modules/block.py:1234:0\n",
            "\t\t    %807 : Tensor = aten::to(%806, %747, %752, %752, %748), scope: __module.model.8/__module.model.8.m.0/__module.model.8.m.0.0/__module.model.8.m.0.0.attn # /content/yolov12/ultralytics/nn/modules/block.py:1234:0\n",
            "\t\t-   %808 : Tensor = ^FlashAttnFunc[inplace=0, module=\"flash_attn.flash_attn_interface\", Subgraph=<Graph>](0.0, None, False, (-1, -1), 0.0, None, False, False, True)(%q.19, %805, %807), scope: __module.model.8/__module.model.8.m.0/__module.model.8.m.0.0/__module.model.8.m.0.0.attn # /usr/local/lib/python3.11/dist-packages/torch/autograd/function.py:575:0\n",
            "\t\t?                                                                                                                                                              ^^^\n",
            "\t\t+   %808 : Tensor = ^FlashAttnFunc[inplace=0, module=\"flash_attn.flash_attn_interface\", Subgraph=<Graph>](0.0, None, False, (-1, -1), 0.0, None, False, False, False)(%q.19, %805, %807), scope: __module.model.8/__module.model.8.m.0/__module.model.8.m.0.0/__module.model.8.m.0.0.attn # /usr/local/lib/python3.11/dist-packages/torch/autograd/function.py:575:0\n",
            "\t\t?                                                                                                                                                              ^^^^\n",
            "\t\t    %x.37 : Tensor = aten::to(%808, %749, %752, %752, %748), scope: __module.model.8/__module.model.8.m.0/__module.model.8.m.0.0/__module.model.8.m.0.0.attn # /content/yolov12/ultralytics/nn/modules/block.py:1235:0\n",
            "\t\t    %810 : int[] = prim::ListConstruct(%777, %779, %781, %778), scope: __module.model.8/__module.model.8.m.0/__module.model.8.m.0.0/__module.model.8.m.0.0.attn\n",
            "\t\t    %811 : Tensor = aten::reshape(%x.37, %810), scope: __module.model.8/__module.model.8.m.0/__module.model.8.m.0.0/__module.model.8.m.0.0.attn # /content/yolov12/ultralytics/nn/modules/block.py:1256:0\n",
            "\t\t    %812 : int[] = prim::ListConstruct(%753, %742, %754, %741), scope: __module.model.8/__module.model.8.m.0/__module.model.8.m.0.0/__module.model.8.m.0.0.attn\n",
            "\t\t    %x.39 : Tensor = aten::permute(%811, %812), scope: __module.model.8/__module.model.8.m.0/__module.model.8.m.0.0/__module.model.8.m.0.0.attn # /content/yolov12/ultralytics/nn/modules/block.py:1256:0\n",
            "\t\t    %814 : int[] = prim::ListConstruct(%777, %779, %781, %778), scope: __module.model.8/__module.model.8.m.0/__module.model.8.m.0.0/__module.model.8.m.0.0.attn\n",
            "\t\t    %815 : Tensor = aten::reshape(%v.17, %814), scope: __module.model.8/__module.model.8.m.0/__module.model.8.m.0.0/__module.model.8.m.0.0.attn # /content/yolov12/ultralytics/nn/modules/block.py:1257:0\n",
            "\t\t    %816 : int[] = prim::ListConstruct(%753, %742, %754, %741), scope: __module.model.8/__module.model.8.m.0/__module.model.8.m.0.0/__module.model.8.m.0.0.attn\n",
            "\t\t    %input.103 : Tensor = aten::permute(%815, %816), scope: __module.model.8/__module.model.8.m.0/__module.model.8.m.0.0/__module.model.8.m.0.0.attn # /content/yolov12/ultralytics/nn/modules/block.py:1257:0\n",
            "\t\t    %conv.75 : __torch__.torch.nn.modules.conv.Conv2d = prim::GetAttr[name=\"conv\"](%pe.9)\n",
            "\t\t    %bias.313 : Tensor = prim::GetAttr[name=\"bias\"](%conv.75)\n",
            "\t\t    %weight.315 : Tensor = prim::GetAttr[name=\"weight\"](%conv.75)\n",
            "\t\t    %821 : int[] = prim::ListConstruct(%754, %754), scope: __module.model.8/__module.model.8.m.0/__module.model.8.m.0.0/__module.model.8.m.0.0.attn/__module.model.8.m.0.0.attn.pe/__module.model.8.m.0.0.attn.pe.conv\n",
            "\t\t    %822 : int[] = prim::ListConstruct(%742, %742), scope: __module.model.8/__module.model.8.m.0/__module.model.8.m.0.0/__module.model.8.m.0.0.attn/__module.model.8.m.0.0.attn.pe/__module.model.8.m.0.0.attn.pe.conv\n",
            "\t\t    %823 : int[] = prim::ListConstruct(%754, %754), scope: __module.model.8/__module.model.8.m.0/__module.model.8.m.0.0/__module.model.8.m.0.0.attn/__module.model.8.m.0.0.attn.pe/__module.model.8.m.0.0.attn.pe.conv\n",
            "\t\t    %824 : int[] = prim::ListConstruct(%753, %753), scope: __module.model.8/__module.model.8.m.0/__module.model.8.m.0.0/__module.model.8.m.0.0.attn/__module.model.8.m.0.0.attn.pe/__module.model.8.m.0.0.attn.pe.conv\n",
            "\t\t    %825 : Tensor = aten::_convolution(%input.103, %weight.315, %bias.313, %821, %822, %823, %752, %824, %750, %752, %751, %751, %751), scope: __module.model.8/__module.model.8.m.0/__module.model.8.m.0.0/__module.model.8.m.0.0.attn/__module.model.8.m.0.0.attn.pe/__module.model.8.m.0.0.attn.pe.conv # /usr/local/lib/python3.11/dist-packages/torch/nn/modules/conv.py:549:0\n",
            "\t\t    %input.105 : Tensor = aten::add(%x.39, %825, %754), scope: __module.model.8/__module.model.8.m.0/__module.model.8.m.0.0/__module.model.8.m.0.0.attn # /content/yolov12/ultralytics/nn/modules/block.py:1259:0\n",
            "\t\t    %conv.77 : __torch__.torch.nn.modules.conv.Conv2d = prim::GetAttr[name=\"conv\"](%proj.9)\n",
            "\t\t    %bias.315 : Tensor = prim::GetAttr[name=\"bias\"](%conv.77)\n",
            "\t\t    %weight.317 : Tensor = prim::GetAttr[name=\"weight\"](%conv.77)\n",
            "\t\t    %830 : int[] = prim::ListConstruct(%754, %754), scope: __module.model.8/__module.model.8.m.0/__module.model.8.m.0.0/__module.model.8.m.0.0.attn/__module.model.8.m.0.0.attn.proj/__module.model.8.m.0.0.attn.proj.conv\n",
            "\t\t    %831 : int[] = prim::ListConstruct(%753, %753), scope: __module.model.8/__module.model.8.m.0/__module.model.8.m.0.0/__module.model.8.m.0.0.attn/__module.model.8.m.0.0.attn.proj/__module.model.8.m.0.0.attn.proj.conv\n",
            "\t\t    %832 : int[] = prim::ListConstruct(%754, %754), scope: __module.model.8/__module.model.8.m.0/__module.model.8.m.0.0/__module.model.8.m.0.0.attn/__module.model.8.m.0.0.attn.proj/__module.model.8.m.0.0.attn.proj.conv\n",
            "\t\t    %833 : int[] = prim::ListConstruct(%753, %753), scope: __module.model.8/__module.model.8.m.0/__module.model.8.m.0.0/__module.model.8.m.0.0.attn/__module.model.8.m.0.0.attn.proj/__module.model.8.m.0.0.attn.proj.conv\n",
            "\t\t    %834 : Tensor = aten::_convolution(%input.105, %weight.317, %bias.315, %830, %831, %832, %752, %833, %754, %752, %751, %751, %751), scope: __module.model.8/__module.model.8.m.0/__module.model.8.m.0.0/__module.model.8.m.0.0.attn/__module.model.8.m.0.0.attn.proj/__module.model.8.m.0.0.attn.proj.conv # /usr/local/lib/python3.11/dist-packages/torch/nn/modules/conv.py:549:0\n",
            "\t\t    %input.107 : Tensor = aten::add(%x.35, %834, %754), scope: __module.model.8/__module.model.8.m.0/__module.model.8.m.0.0 # /content/yolov12/ultralytics/nn/modules/block.py:1310:0\n",
            "\t\t    %_1.21 : __torch__.ultralytics.nn.modules.conv.Conv = prim::GetAttr[name=\"1\"](%mlp.9)\n",
            "\t\t    %_0.21 : __torch__.ultralytics.nn.modules.conv.Conv = prim::GetAttr[name=\"0\"](%mlp.9)\n",
            "\t\t    %conv.79 : __torch__.torch.nn.modules.conv.Conv2d = prim::GetAttr[name=\"conv\"](%_0.21)\n",
            "\t\t    %bias.317 : Tensor = prim::GetAttr[name=\"bias\"](%conv.79)\n",
            "\t\t    %weight.319 : Tensor = prim::GetAttr[name=\"weight\"](%conv.79)\n",
            "\t\t    %841 : int[] = prim::ListConstruct(%754, %754), scope: __module.model.8/__module.model.8.m.0/__module.model.8.m.0.0/__module.model.8.m.0.0.mlp/__module.model.8.m.0.0.mlp.0/__module.model.8.m.0.0.mlp.0.conv\n",
            "\t\t    %842 : int[] = prim::ListConstruct(%753, %753), scope: __module.model.8/__module.model.8.m.0/__module.model.8.m.0.0/__module.model.8.m.0.0.mlp/__module.model.8.m.0.0.mlp.0/__module.model.8.m.0.0.mlp.0.conv\n",
            "\t\t    %843 : int[] = prim::ListConstruct(%754, %754), scope: __module.model.8/__module.model.8.m.0/__module.model.8.m.0.0/__module.model.8.m.0.0.mlp/__module.model.8.m.0.0.mlp.0/__module.model.8.m.0.0.mlp.0.conv\n",
            "\t\t    %844 : int[] = prim::ListConstruct(%753, %753), scope: __module.model.8/__module.model.8.m.0/__module.model.8.m.0.0/__module.model.8.m.0.0.mlp/__module.model.8.m.0.0.mlp.0/__module.model.8.m.0.0.mlp.0.conv\n",
            "\t\t    %input.109 : Tensor = aten::_convolution(%input.107, %weight.319, %bias.317, %841, %842, %843, %752, %844, %754, %752, %751, %751, %751), scope: __module.model.8/__module.model.8.m.0/__module.model.8.m.0.0/__module.model.8.m.0.0.mlp/__module.model.8.m.0.0.mlp.0/__module.model.8.m.0.0.mlp.0.conv # /usr/local/lib/python3.11/dist-packages/torch/nn/modules/conv.py:549:0\n",
            "\t\t    %input.111 : Tensor = aten::silu_(%input.109), scope: __module.model.8/__module.model.8.m.0/__module.model.8.m.0.0/__module.model.8.m.0.0.mlp/__module.model.8.m.0.0.mlp.0/__module.model.21.cv3.2.1.1.act # /usr/local/lib/python3.11/dist-packages/torch/nn/functional.py:2379:0\n",
            "\t\t    %act.41 : __torch__.torch.nn.modules.linear.Identity = prim::GetAttr[name=\"act\"](%_1.21)\n",
            "\t\t    %conv.81 : __torch__.torch.nn.modules.conv.Conv2d = prim::GetAttr[name=\"conv\"](%_1.21)\n",
            "\t\t    %bias.319 : Tensor = prim::GetAttr[name=\"bias\"](%conv.81)\n",
            "\t\t    %weight.321 : Tensor = prim::GetAttr[name=\"weight\"](%conv.81)\n",
            "\t\t    %851 : int[] = prim::ListConstruct(%754, %754), scope: __module.model.8/__module.model.8.m.0/__module.model.8.m.0.0/__module.model.8.m.0.0.mlp/__module.model.8.m.0.0.mlp.1/__module.model.8.m.0.0.mlp.1.conv\n",
            "\t\t    %852 : int[] = prim::ListConstruct(%753, %753), scope: __module.model.8/__module.model.8.m.0/__module.model.8.m.0.0/__module.model.8.m.0.0.mlp/__module.model.8.m.0.0.mlp.1/__module.model.8.m.0.0.mlp.1.conv\n",
            "\t\t    %853 : int[] = prim::ListConstruct(%754, %754), scope: __module.model.8/__module.model.8.m.0/__module.model.8.m.0.0/__module.model.8.m.0.0.mlp/__module.model.8.m.0.0.mlp.1/__module.model.8.m.0.0.mlp.1.conv\n",
            "\t\t    %854 : int[] = prim::ListConstruct(%753, %753), scope: __module.model.8/__module.model.8.m.0/__module.model.8.m.0.0/__module.model.8.m.0.0.mlp/__module.model.8.m.0.0.mlp.1/__module.model.8.m.0.0.mlp.1.conv\n",
            "\t\t    %855 : Tensor = aten::_convolution(%input.111, %weight.321, %bias.319, %851, %852, %853, %752, %854, %754, %752, %751, %751, %751), scope: __module.model.8/__module.model.8.m.0/__module.model.8.m.0.0/__module.model.8.m.0.0.mlp/__module.model.8.m.0.0.mlp.1/__module.model.8.m.0.0.mlp.1.conv # /usr/local/lib/python3.11/dist-packages/torch/nn/modules/conv.py:549:0\n",
            "\t\t    %x.41 : Tensor = aten::add(%input.107, %855, %754), scope: __module.model.8/__module.model.8.m.0/__module.model.8.m.0.0 # /content/yolov12/ultralytics/nn/modules/block.py:1311:0\n",
            "\t\t    %mlp.11 : __torch__.torch.nn.modules.container.Sequential = prim::GetAttr[name=\"mlp\"](%_1.25)\n",
            "\t\t    %attn.11 : __torch__.ultralytics.nn.modules.block.AAttn = prim::GetAttr[name=\"attn\"](%_1.25)\n",
            "\t\t    %proj.11 : __torch__.ultralytics.nn.modules.conv.Conv = prim::GetAttr[name=\"proj\"](%attn.11)\n",
            "\t\t    %pe.11 : __torch__.ultralytics.nn.modules.conv.Conv = prim::GetAttr[name=\"pe\"](%attn.11)\n",
            "\t\t    %qkv.35 : __torch__.ultralytics.nn.modules.conv.Conv = prim::GetAttr[name=\"qkv\"](%attn.11)\n",
            "\t\t    %862 : int = aten::size(%x.41, %753), scope: __module.model.8/__module.model.8.m.0/__module.model.8.m.0.1/__module.model.8.m.0.1.attn # /content/yolov12/ultralytics/nn/modules/block.py:1219:0\n",
            "\t\t    %863 : int = aten::size(%x.41, %754), scope: __module.model.8/__module.model.8.m.0/__module.model.8.m.0.1/__module.model.8.m.0.1.attn # /content/yolov12/ultralytics/nn/modules/block.py:1219:0\n",
            "\t\t    %864 : int = aten::size(%x.41, %741), scope: __module.model.8/__module.model.8.m.0/__module.model.8.m.0.1/__module.model.8.m.0.1.attn # /content/yolov12/ultralytics/nn/modules/block.py:1219:0\n",
            "\t\t    %H.11 : Tensor = prim::NumToTensor(%864), scope: __module.model.8/__module.model.8.m.0/__module.model.8.m.0.1/__module.model.8.m.0.1.attn\n",
            "\t\t    %866 : int = aten::size(%x.41, %742), scope: __module.model.8/__module.model.8.m.0/__module.model.8.m.0.1/__module.model.8.m.0.1.attn # /content/yolov12/ultralytics/nn/modules/block.py:1219:0\n",
            "\t\t    %W.11 : Tensor = prim::NumToTensor(%866), scope: __module.model.8/__module.model.8.m.0/__module.model.8.m.0.1/__module.model.8.m.0.1.attn\n",
            "\t\t    %N.11 : Tensor = aten::mul(%H.11, %W.11), scope: __module.model.8/__module.model.8.m.0/__module.model.8.m.0.1/__module.model.8.m.0.1.attn # /content/yolov12/ultralytics/nn/modules/block.py:1220:0\n",
            "\t\t    %869 : int = aten::Int(%N.11), scope: __module.model.8/__module.model.8.m.0/__module.model.8.m.0.1/__module.model.8.m.0.1.attn\n",
            "\t\t    %conv.83 : __torch__.torch.nn.modules.conv.Conv2d = prim::GetAttr[name=\"conv\"](%qkv.35)\n",
            "\t\t    %bias.321 : Tensor = prim::GetAttr[name=\"bias\"](%conv.83)\n",
            "\t\t    %weight.323 : Tensor = prim::GetAttr[name=\"weight\"](%conv.83)\n",
            "\t\t    %873 : int[] = prim::ListConstruct(%754, %754), scope: __module.model.8/__module.model.8.m.0/__module.model.8.m.0.1/__module.model.8.m.0.1.attn/__module.model.8.m.0.1.attn.qkv/__module.model.8.m.0.1.attn.qkv.conv\n",
            "\t\t    %874 : int[] = prim::ListConstruct(%753, %753), scope: __module.model.8/__module.model.8.m.0/__module.model.8.m.0.1/__module.model.8.m.0.1.attn/__module.model.8.m.0.1.attn.qkv/__module.model.8.m.0.1.attn.qkv.conv\n",
            "\t\t    %875 : int[] = prim::ListConstruct(%754, %754), scope: __module.model.8/__module.model.8.m.0/__module.model.8.m.0.1/__module.model.8.m.0.1.attn/__module.model.8.m.0.1.attn.qkv/__module.model.8.m.0.1.attn.qkv.conv\n",
            "\t\t    %876 : int[] = prim::ListConstruct(%753, %753), scope: __module.model.8/__module.model.8.m.0/__module.model.8.m.0.1/__module.model.8.m.0.1.attn/__module.model.8.m.0.1.attn.qkv/__module.model.8.m.0.1.attn.qkv.conv\n",
            "\t\t    %877 : Tensor = aten::_convolution(%x.41, %weight.323, %bias.321, %873, %874, %875, %752, %876, %754, %752, %751, %751, %751), scope: __module.model.8/__module.model.8.m.0/__module.model.8.m.0.1/__module.model.8.m.0.1.attn/__module.model.8.m.0.1.attn.qkv/__module.model.8.m.0.1.attn.qkv.conv # /usr/local/lib/python3.11/dist-packages/torch/nn/modules/conv.py:549:0\n",
            "\t\t    %878 : Tensor = aten::flatten(%877, %741, %743), scope: __module.model.8/__module.model.8.m.0/__module.model.8.m.0.1/__module.model.8.m.0.1.attn # /content/yolov12/ultralytics/nn/modules/block.py:1222:0\n",
            "\t\t    %qkv.19 : Tensor = aten::transpose(%878, %754, %741), scope: __module.model.8/__module.model.8.m.0/__module.model.8.m.0.1/__module.model.8.m.0.1.attn # /content/yolov12/ultralytics/nn/modules/block.py:1222:0\n",
            "\t\t    %880 : int[] = prim::ListConstruct(%862, %869, %744, %745), scope: __module.model.8/__module.model.8.m.0/__module.model.8.m.0.1/__module.model.8.m.0.1.attn\n",
            "\t\t    %881 : Tensor = aten::view(%qkv.19, %880), scope: __module.model.8/__module.model.8.m.0/__module.model.8.m.0.1/__module.model.8.m.0.1.attn # /content/yolov12/ultralytics/nn/modules/block.py:1226:0\n",
            "\t\t    %882 : int[] = prim::ListConstruct(%746, %746, %746), scope: __module.model.8/__module.model.8.m.0/__module.model.8.m.0.1/__module.model.8.m.0.1.attn\n",
            "\t\t    %883 : Tensor[] = aten::split_with_sizes(%881, %882, %742), scope: __module.model.8/__module.model.8.m.0/__module.model.8.m.0.1/__module.model.8.m.0.1.attn # /usr/local/lib/python3.11/dist-packages/torch/_tensor.py:983:0\n",
            "\t\t    %q.21 : Tensor, %k.11 : Tensor, %v.19 : Tensor = prim::ListUnpack(%883), scope: __module.model.8/__module.model.8.m.0/__module.model.8.m.0.1/__module.model.8.m.0.1.attn\n",
            "\t\t    %887 : Tensor = aten::contiguous(%q.21, %753), scope: __module.model.8/__module.model.8.m.0/__module.model.8.m.0.1/__module.model.8.m.0.1.attn # /content/yolov12/ultralytics/nn/modules/block.py:1232:0\n",
            "\t\t    %q.23 : Tensor = aten::to(%887, %747, %752, %752, %748), scope: __module.model.8/__module.model.8.m.0/__module.model.8.m.0.1/__module.model.8.m.0.1.attn # /content/yolov12/ultralytics/nn/modules/block.py:1232:0\n",
            "\t\t    %889 : Tensor = aten::contiguous(%k.11, %753), scope: __module.model.8/__module.model.8.m.0/__module.model.8.m.0.1/__module.model.8.m.0.1.attn # /content/yolov12/ultralytics/nn/modules/block.py:1233:0\n",
            "\t\t    %890 : Tensor = aten::to(%889, %747, %752, %752, %748), scope: __module.model.8/__module.model.8.m.0/__module.model.8.m.0.1/__module.model.8.m.0.1.attn # /content/yolov12/ultralytics/nn/modules/block.py:1233:0\n",
            "\t\t    %891 : Tensor = aten::contiguous(%v.19, %753), scope: __module.model.8/__module.model.8.m.0/__module.model.8.m.0.1/__module.model.8.m.0.1.attn # /content/yolov12/ultralytics/nn/modules/block.py:1234:0\n",
            "\t\t    %892 : Tensor = aten::to(%891, %747, %752, %752, %748), scope: __module.model.8/__module.model.8.m.0/__module.model.8.m.0.1/__module.model.8.m.0.1.attn # /content/yolov12/ultralytics/nn/modules/block.py:1234:0\n",
            "\t\t-   %893 : Tensor = ^FlashAttnFunc[inplace=0, module=\"flash_attn.flash_attn_interface\", Subgraph=<Graph>](0.0, None, False, (-1, -1), 0.0, None, False, False, True)(%q.23, %890, %892), scope: __module.model.8/__module.model.8.m.0/__module.model.8.m.0.1/__module.model.8.m.0.1.attn # /usr/local/lib/python3.11/dist-packages/torch/autograd/function.py:575:0\n",
            "\t\t?                                                                                                                                                              ^^^\n",
            "\t\t+   %893 : Tensor = ^FlashAttnFunc[inplace=0, module=\"flash_attn.flash_attn_interface\", Subgraph=<Graph>](0.0, None, False, (-1, -1), 0.0, None, False, False, False)(%q.23, %890, %892), scope: __module.model.8/__module.model.8.m.0/__module.model.8.m.0.1/__module.model.8.m.0.1.attn # /usr/local/lib/python3.11/dist-packages/torch/autograd/function.py:575:0\n",
            "\t\t?                                                                                                                                                              ^^^^\n",
            "\t\t    %x.43 : Tensor = aten::to(%893, %749, %752, %752, %748), scope: __module.model.8/__module.model.8.m.0/__module.model.8.m.0.1/__module.model.8.m.0.1.attn # /content/yolov12/ultralytics/nn/modules/block.py:1235:0\n",
            "\t\t    %895 : int[] = prim::ListConstruct(%862, %864, %866, %863), scope: __module.model.8/__module.model.8.m.0/__module.model.8.m.0.1/__module.model.8.m.0.1.attn\n",
            "\t\t    %896 : Tensor = aten::reshape(%x.43, %895), scope: __module.model.8/__module.model.8.m.0/__module.model.8.m.0.1/__module.model.8.m.0.1.attn # /content/yolov12/ultralytics/nn/modules/block.py:1256:0\n",
            "\t\t    %897 : int[] = prim::ListConstruct(%753, %742, %754, %741), scope: __module.model.8/__module.model.8.m.0/__module.model.8.m.0.1/__module.model.8.m.0.1.attn\n",
            "\t\t    %x.45 : Tensor = aten::permute(%896, %897), scope: __module.model.8/__module.model.8.m.0/__module.model.8.m.0.1/__module.model.8.m.0.1.attn # /content/yolov12/ultralytics/nn/modules/block.py:1256:0\n",
            "\t\t    %899 : int[] = prim::ListConstruct(%862, %864, %866, %863), scope: __module.model.8/__module.model.8.m.0/__module.model.8.m.0.1/__module.model.8.m.0.1.attn\n",
            "\t\t    %900 : Tensor = aten::reshape(%v.19, %899), scope: __module.model.8/__module.model.8.m.0/__module.model.8.m.0.1/__module.model.8.m.0.1.attn # /content/yolov12/ultralytics/nn/modules/block.py:1257:0\n",
            "\t\t    %901 : int[] = prim::ListConstruct(%753, %742, %754, %741), scope: __module.model.8/__module.model.8.m.0/__module.model.8.m.0.1/__module.model.8.m.0.1.attn\n",
            "\t\t    %input.113 : Tensor = aten::permute(%900, %901), scope: __module.model.8/__module.model.8.m.0/__module.model.8.m.0.1/__module.model.8.m.0.1.attn # /content/yolov12/ultralytics/nn/modules/block.py:1257:0\n",
            "\t\t    %conv.85 : __torch__.torch.nn.modules.conv.Conv2d = prim::GetAttr[name=\"conv\"](%pe.11)\n",
            "\t\t    %bias.323 : Tensor = prim::GetAttr[name=\"bias\"](%conv.85)\n",
            "\t\t    %weight.325 : Tensor = prim::GetAttr[name=\"weight\"](%conv.85)\n",
            "\t\t    %906 : int[] = prim::ListConstruct(%754, %754), scope: __module.model.8/__module.model.8.m.0/__module.model.8.m.0.1/__module.model.8.m.0.1.attn/__module.model.8.m.0.1.attn.pe/__module.model.8.m.0.1.attn.pe.conv\n",
            "\t\t    %907 : int[] = prim::ListConstruct(%742, %742), scope: __module.model.8/__module.model.8.m.0/__module.model.8.m.0.1/__module.model.8.m.0.1.attn/__module.model.8.m.0.1.attn.pe/__module.model.8.m.0.1.attn.pe.conv\n",
            "\t\t    %908 : int[] = prim::ListConstruct(%754, %754), scope: __module.model.8/__module.model.8.m.0/__module.model.8.m.0.1/__module.model.8.m.0.1.attn/__module.model.8.m.0.1.attn.pe/__module.model.8.m.0.1.attn.pe.conv\n",
            "\t\t    %909 : int[] = prim::ListConstruct(%753, %753), scope: __module.model.8/__module.model.8.m.0/__module.model.8.m.0.1/__module.model.8.m.0.1.attn/__module.model.8.m.0.1.attn.pe/__module.model.8.m.0.1.attn.pe.conv\n",
            "\t\t    %910 : Tensor = aten::_convolution(%input.113, %weight.325, %bias.323, %906, %907, %908, %752, %909, %750, %752, %751, %751, %751), scope: __module.model.8/__module.model.8.m.0/__module.model.8.m.0.1/__module.model.8.m.0.1.attn/__module.model.8.m.0.1.attn.pe/__module.model.8.m.0.1.attn.pe.conv # /usr/local/lib/python3.11/dist-packages/torch/nn/modules/conv.py:549:0\n",
            "\t\t    %input.115 : Tensor = aten::add(%x.45, %910, %754), scope: __module.model.8/__module.model.8.m.0/__module.model.8.m.0.1/__module.model.8.m.0.1.attn # /content/yolov12/ultralytics/nn/modules/block.py:1259:0\n",
            "\t\t    %conv.87 : __torch__.torch.nn.modules.conv.Conv2d = prim::GetAttr[name=\"conv\"](%proj.11)\n",
            "\t\t    %bias.325 : Tensor = prim::GetAttr[name=\"bias\"](%conv.87)\n",
            "\t\t    %weight.327 : Tensor = prim::GetAttr[name=\"weight\"](%conv.87)\n",
            "\t\t    %915 : int[] = prim::ListConstruct(%754, %754), scope: __module.model.8/__module.model.8.m.0/__module.model.8.m.0.1/__module.model.8.m.0.1.attn/__module.model.8.m.0.1.attn.proj/__module.model.8.m.0.1.attn.proj.conv\n",
            "\t\t    %916 : int[] = prim::ListConstruct(%753, %753), scope: __module.model.8/__module.model.8.m.0/__module.model.8.m.0.1/__module.model.8.m.0.1.attn/__module.model.8.m.0.1.attn.proj/__module.model.8.m.0.1.attn.proj.conv\n",
            "\t\t    %917 : int[] = prim::ListConstruct(%754, %754), scope: __module.model.8/__module.model.8.m.0/__module.model.8.m.0.1/__module.model.8.m.0.1.attn/__module.model.8.m.0.1.attn.proj/__module.model.8.m.0.1.attn.proj.conv\n",
            "\t\t    %918 : int[] = prim::ListConstruct(%753, %753), scope: __module.model.8/__module.model.8.m.0/__module.model.8.m.0.1/__module.model.8.m.0.1.attn/__module.model.8.m.0.1.attn.proj/__module.model.8.m.0.1.attn.proj.conv\n",
            "\t\t    %919 : Tensor = aten::_convolution(%input.115, %weight.327, %bias.325, %915, %916, %917, %752, %918, %754, %752, %751, %751, %751), scope: __module.model.8/__module.model.8.m.0/__module.model.8.m.0.1/__module.model.8.m.0.1.attn/__module.model.8.m.0.1.attn.proj/__module.model.8.m.0.1.attn.proj.conv # /usr/local/lib/python3.11/dist-packages/torch/nn/modules/conv.py:549:0\n",
            "\t\t    %input.117 : Tensor = aten::add(%x.41, %919, %754), scope: __module.model.8/__module.model.8.m.0/__module.model.8.m.0.1 # /content/yolov12/ultralytics/nn/modules/block.py:1310:0\n",
            "\t\t    %_1.23 : __torch__.ultralytics.nn.modules.conv.Conv = prim::GetAttr[name=\"1\"](%mlp.11)\n",
            "\t\t    %_0.25 : __torch__.ultralytics.nn.modules.conv.Conv = prim::GetAttr[name=\"0\"](%mlp.11)\n",
            "\t\t    %conv.89 : __torch__.torch.nn.modules.conv.Conv2d = prim::GetAttr[name=\"conv\"](%_0.25)\n",
            "\t\t    %bias.327 : Tensor = prim::GetAttr[name=\"bias\"](%conv.89)\n",
            "\t\t    %weight.329 : Tensor = prim::GetAttr[name=\"weight\"](%conv.89)\n",
            "\t\t    %926 : int[] = prim::ListConstruct(%754, %754), scope: __module.model.8/__module.model.8.m.0/__module.model.8.m.0.1/__module.model.8.m.0.1.mlp/__module.model.8.m.0.1.mlp.0/__module.model.8.m.0.1.mlp.0.conv\n",
            "\t\t    %927 : int[] = prim::ListConstruct(%753, %753), scope: __module.model.8/__module.model.8.m.0/__module.model.8.m.0.1/__module.model.8.m.0.1.mlp/__module.model.8.m.0.1.mlp.0/__module.model.8.m.0.1.mlp.0.conv\n",
            "\t\t    %928 : int[] = prim::ListConstruct(%754, %754), scope: __module.model.8/__module.model.8.m.0/__module.model.8.m.0.1/__module.model.8.m.0.1.mlp/__module.model.8.m.0.1.mlp.0/__module.model.8.m.0.1.mlp.0.conv\n",
            "\t\t    %929 : int[] = prim::ListConstruct(%753, %753), scope: __module.model.8/__module.model.8.m.0/__module.model.8.m.0.1/__module.model.8.m.0.1.mlp/__module.model.8.m.0.1.mlp.0/__module.model.8.m.0.1.mlp.0.conv\n",
            "\t\t    %input.119 : Tensor = aten::_convolution(%input.117, %weight.329, %bias.327, %926, %927, %928, %752, %929, %754, %752, %751, %751, %751), scope: __module.model.8/__module.model.8.m.0/__module.model.8.m.0.1/__module.model.8.m.0.1.mlp/__module.model.8.m.0.1.mlp.0/__module.model.8.m.0.1.mlp.0.conv # /usr/local/lib/python3.11/dist-packages/torch/nn/modules/conv.py:549:0\n",
            "\t\t    %input.121 : Tensor = aten::silu_(%input.119), scope: __module.model.8/__module.model.8.m.0/__module.model.8.m.0.1/__module.model.8.m.0.1.mlp/__module.model.8.m.0.1.mlp.0/__module.model.21.cv3.2.1.1.act # /usr/local/lib/python3.11/dist-packages/torch/nn/functional.py:2379:0\n",
            "\t\t    %act.49 : __torch__.torch.nn.modules.linear.Identity = prim::GetAttr[name=\"act\"](%_1.23)\n",
            "\t\t    %conv.91 : __torch__.torch.nn.modules.conv.Conv2d = prim::GetAttr[name=\"conv\"](%_1.23)\n",
            "\t\t    %bias.329 : Tensor = prim::GetAttr[name=\"bias\"](%conv.91)\n",
            "\t\t    %weight.331 : Tensor = prim::GetAttr[name=\"weight\"](%conv.91)\n",
            "\t\t    %936 : int[] = prim::ListConstruct(%754, %754), scope: __module.model.8/__module.model.8.m.0/__module.model.8.m.0.1/__module.model.8.m.0.1.mlp/__module.model.8.m.0.1.mlp.1/__module.model.8.m.0.1.mlp.1.conv\n",
            "\t\t    %937 : int[] = prim::ListConstruct(%753, %753), scope: __module.model.8/__module.model.8.m.0/__module.model.8.m.0.1/__module.model.8.m.0.1.mlp/__module.model.8.m.0.1.mlp.1/__module.model.8.m.0.1.mlp.1.conv\n",
            "\t\t    %938 : int[] = prim::ListConstruct(%754, %754), scope: __module.model.8/__module.model.8.m.0/__module.model.8.m.0.1/__module.model.8.m.0.1.mlp/__module.model.8.m.0.1.mlp.1/__module.model.8.m.0.1.mlp.1.conv\n",
            "\t\t    %939 : int[] = prim::ListConstruct(%753, %753), scope: __module.model.8/__module.model.8.m.0/__module.model.8.m.0.1/__module.model.8.m.0.1.mlp/__module.model.8.m.0.1.mlp.1/__module.model.8.m.0.1.mlp.1.conv\n",
            "\t\t    %940 : Tensor = aten::_convolution(%input.121, %weight.331, %bias.329, %936, %937, %938, %752, %939, %754, %752, %751, %751, %751), scope: __module.model.8/__module.model.8.m.0/__module.model.8.m.0.1/__module.model.8.m.0.1.mlp/__module.model.8.m.0.1.mlp.1/__module.model.8.m.0.1.mlp.1.conv # /usr/local/lib/python3.11/dist-packages/torch/nn/modules/conv.py:549:0\n",
            "\t\t    %x.47 : Tensor = aten::add(%input.117, %940, %754), scope: __module.model.8/__module.model.8.m.0/__module.model.8.m.0.1 # /content/yolov12/ultralytics/nn/modules/block.py:1311:0\n",
            "\t\t    %_1.31 : __torch__.ultralytics.nn.modules.block.ABlock = prim::GetAttr[name=\"1\"](%_1.33)\n",
            "\t\t    %_0.31 : __torch__.ultralytics.nn.modules.block.ABlock = prim::GetAttr[name=\"0\"](%_1.33)\n",
            "\t\t    %mlp.13 : __torch__.torch.nn.modules.container.Sequential = prim::GetAttr[name=\"mlp\"](%_0.31)\n",
            "\t\t    %attn.13 : __torch__.ultralytics.nn.modules.block.AAttn = prim::GetAttr[name=\"attn\"](%_0.31)\n",
            "\t\t    %proj.13 : __torch__.ultralytics.nn.modules.conv.Conv = prim::GetAttr[name=\"proj\"](%attn.13)\n",
            "\t\t    %pe.13 : __torch__.ultralytics.nn.modules.conv.Conv = prim::GetAttr[name=\"pe\"](%attn.13)\n",
            "\t\t    %qkv.37 : __torch__.ultralytics.nn.modules.conv.Conv = prim::GetAttr[name=\"qkv\"](%attn.13)\n",
            "\t\t    %949 : int = aten::size(%x.47, %753), scope: __module.model.8/__module.model.8.m.1/__module.model.8.m.1.0/__module.model.8.m.1.0.attn # /content/yolov12/ultralytics/nn/modules/block.py:1219:0\n",
            "\t\t    %950 : int = aten::size(%x.47, %754), scope: __module.model.8/__module.model.8.m.1/__module.model.8.m.1.0/__module.model.8.m.1.0.attn # /content/yolov12/ultralytics/nn/modules/block.py:1219:0\n",
            "\t\t    %951 : int = aten::size(%x.47, %741), scope: __module.model.8/__module.model.8.m.1/__module.model.8.m.1.0/__module.model.8.m.1.0.attn # /content/yolov12/ultralytics/nn/modules/block.py:1219:0\n",
            "\t\t    %H.13 : Tensor = prim::NumToTensor(%951), scope: __module.model.8/__module.model.8.m.1/__module.model.8.m.1.0/__module.model.8.m.1.0.attn\n",
            "\t\t    %953 : int = aten::size(%x.47, %742), scope: __module.model.8/__module.model.8.m.1/__module.model.8.m.1.0/__module.model.8.m.1.0.attn # /content/yolov12/ultralytics/nn/modules/block.py:1219:0\n",
            "\t\t    %W.13 : Tensor = prim::NumToTensor(%953), scope: __module.model.8/__module.model.8.m.1/__module.model.8.m.1.0/__module.model.8.m.1.0.attn\n",
            "\t\t    %N.13 : Tensor = aten::mul(%H.13, %W.13), scope: __module.model.8/__module.model.8.m.1/__module.model.8.m.1.0/__module.model.8.m.1.0.attn # /content/yolov12/ultralytics/nn/modules/block.py:1220:0\n",
            "\t\t    %956 : int = aten::Int(%N.13), scope: __module.model.8/__module.model.8.m.1/__module.model.8.m.1.0/__module.model.8.m.1.0.attn\n",
            "\t\t    %conv.93 : __torch__.torch.nn.modules.conv.Conv2d = prim::GetAttr[name=\"conv\"](%qkv.37)\n",
            "\t\t    %bias.331 : Tensor = prim::GetAttr[name=\"bias\"](%conv.93)\n",
            "\t\t    %weight.333 : Tensor = prim::GetAttr[name=\"weight\"](%conv.93)\n",
            "\t\t    %960 : int[] = prim::ListConstruct(%754, %754), scope: __module.model.8/__module.model.8.m.1/__module.model.8.m.1.0/__module.model.8.m.1.0.attn/__module.model.8.m.1.0.attn.qkv/__module.model.8.m.1.0.attn.qkv.conv\n",
            "\t\t    %961 : int[] = prim::ListConstruct(%753, %753), scope: __module.model.8/__module.model.8.m.1/__module.model.8.m.1.0/__module.model.8.m.1.0.attn/__module.model.8.m.1.0.attn.qkv/__module.model.8.m.1.0.attn.qkv.conv\n",
            "\t\t    %962 : int[] = prim::ListConstruct(%754, %754), scope: __module.model.8/__module.model.8.m.1/__module.model.8.m.1.0/__module.model.8.m.1.0.attn/__module.model.8.m.1.0.attn.qkv/__module.model.8.m.1.0.attn.qkv.conv\n",
            "\t\t    %963 : int[] = prim::ListConstruct(%753, %753), scope: __module.model.8/__module.model.8.m.1/__module.model.8.m.1.0/__module.model.8.m.1.0.attn/__module.model.8.m.1.0.attn.qkv/__module.model.8.m.1.0.attn.qkv.conv\n",
            "\t\t    %964 : Tensor = aten::_convolution(%x.47, %weight.333, %bias.331, %960, %961, %962, %752, %963, %754, %752, %751, %751, %751), scope: __module.model.8/__module.model.8.m.1/__module.model.8.m.1.0/__module.model.8.m.1.0.attn/__module.model.8.m.1.0.attn.qkv/__module.model.8.m.1.0.attn.qkv.conv # /usr/local/lib/python3.11/dist-packages/torch/nn/modules/conv.py:549:0\n",
            "\t\t    %965 : Tensor = aten::flatten(%964, %741, %743), scope: __module.model.8/__module.model.8.m.1/__module.model.8.m.1.0/__module.model.8.m.1.0.attn # /content/yolov12/ultralytics/nn/modules/block.py:1222:0\n",
            "\t\t    %qkv.21 : Tensor = aten::transpose(%965, %754, %741), scope: __module.model.8/__module.model.8.m.1/__module.model.8.m.1.0/__module.model.8.m.1.0.attn # /content/yolov12/ultralytics/nn/modules/block.py:1222:0\n",
            "\t\t    %967 : int[] = prim::ListConstruct(%949, %956, %744, %745), scope: __module.model.8/__module.model.8.m.1/__module.model.8.m.1.0/__module.model.8.m.1.0.attn\n",
            "\t\t    %968 : Tensor = aten::view(%qkv.21, %967), scope: __module.model.8/__module.model.8.m.1/__module.model.8.m.1.0/__module.model.8.m.1.0.attn # /content/yolov12/ultralytics/nn/modules/block.py:1226:0\n",
            "\t\t    %969 : int[] = prim::ListConstruct(%746, %746, %746), scope: __module.model.8/__module.model.8.m.1/__module.model.8.m.1.0/__module.model.8.m.1.0.attn\n",
            "\t\t    %970 : Tensor[] = aten::split_with_sizes(%968, %969, %742), scope: __module.model.8/__module.model.8.m.1/__module.model.8.m.1.0/__module.model.8.m.1.0.attn # /usr/local/lib/python3.11/dist-packages/torch/_tensor.py:983:0\n",
            "\t\t    %q.25 : Tensor, %k.13 : Tensor, %v.21 : Tensor = prim::ListUnpack(%970), scope: __module.model.8/__module.model.8.m.1/__module.model.8.m.1.0/__module.model.8.m.1.0.attn\n",
            "\t\t    %974 : Tensor = aten::contiguous(%q.25, %753), scope: __module.model.8/__module.model.8.m.1/__module.model.8.m.1.0/__module.model.8.m.1.0.attn # /content/yolov12/ultralytics/nn/modules/block.py:1232:0\n",
            "\t\t    %q.27 : Tensor = aten::to(%974, %747, %752, %752, %748), scope: __module.model.8/__module.model.8.m.1/__module.model.8.m.1.0/__module.model.8.m.1.0.attn # /content/yolov12/ultralytics/nn/modules/block.py:1232:0\n",
            "\t\t    %976 : Tensor = aten::contiguous(%k.13, %753), scope: __module.model.8/__module.model.8.m.1/__module.model.8.m.1.0/__module.model.8.m.1.0.attn # /content/yolov12/ultralytics/nn/modules/block.py:1233:0\n",
            "\t\t    %977 : Tensor = aten::to(%976, %747, %752, %752, %748), scope: __module.model.8/__module.model.8.m.1/__module.model.8.m.1.0/__module.model.8.m.1.0.attn # /content/yolov12/ultralytics/nn/modules/block.py:1233:0\n",
            "\t\t    %978 : Tensor = aten::contiguous(%v.21, %753), scope: __module.model.8/__module.model.8.m.1/__module.model.8.m.1.0/__module.model.8.m.1.0.attn # /content/yolov12/ultralytics/nn/modules/block.py:1234:0\n",
            "\t\t    %979 : Tensor = aten::to(%978, %747, %752, %752, %748), scope: __module.model.8/__module.model.8.m.1/__module.model.8.m.1.0/__module.model.8.m.1.0.attn # /content/yolov12/ultralytics/nn/modules/block.py:1234:0\n",
            "\t\t-   %980 : Tensor = ^FlashAttnFunc[inplace=0, module=\"flash_attn.flash_attn_interface\", Subgraph=<Graph>](0.0, None, False, (-1, -1), 0.0, None, False, False, True)(%q.27, %977, %979), scope: __module.model.8/__module.model.8.m.1/__module.model.8.m.1.0/__module.model.8.m.1.0.attn # /usr/local/lib/python3.11/dist-packages/torch/autograd/function.py:575:0\n",
            "\t\t?                                                                                                                                                              ^^^\n",
            "\t\t+   %980 : Tensor = ^FlashAttnFunc[inplace=0, module=\"flash_attn.flash_attn_interface\", Subgraph=<Graph>](0.0, None, False, (-1, -1), 0.0, None, False, False, False)(%q.27, %977, %979), scope: __module.model.8/__module.model.8.m.1/__module.model.8.m.1.0/__module.model.8.m.1.0.attn # /usr/local/lib/python3.11/dist-packages/torch/autograd/function.py:575:0\n",
            "\t\t?                                                                                                                                                              ^^^^\n",
            "\t\t    %x.49 : Tensor = aten::to(%980, %749, %752, %752, %748), scope: __module.model.8/__module.model.8.m.1/__module.model.8.m.1.0/__module.model.8.m.1.0.attn # /content/yolov12/ultralytics/nn/modules/block.py:1235:0\n",
            "\t\t    %982 : int[] = prim::ListConstruct(%949, %951, %953, %950), scope: __module.model.8/__module.model.8.m.1/__module.model.8.m.1.0/__module.model.8.m.1.0.attn\n",
            "\t\t    %983 : Tensor = aten::reshape(%x.49, %982), scope: __module.model.8/__module.model.8.m.1/__module.model.8.m.1.0/__module.model.8.m.1.0.attn # /content/yolov12/ultralytics/nn/modules/block.py:1256:0\n",
            "\t\t    %984 : int[] = prim::ListConstruct(%753, %742, %754, %741), scope: __module.model.8/__module.model.8.m.1/__module.model.8.m.1.0/__module.model.8.m.1.0.attn\n",
            "\t\t    %x.51 : Tensor = aten::permute(%983, %984), scope: __module.model.8/__module.model.8.m.1/__module.model.8.m.1.0/__module.model.8.m.1.0.attn # /content/yolov12/ultralytics/nn/modules/block.py:1256:0\n",
            "\t\t    %986 : int[] = prim::ListConstruct(%949, %951, %953, %950), scope: __module.model.8/__module.model.8.m.1/__module.model.8.m.1.0/__module.model.8.m.1.0.attn\n",
            "\t\t    %987 : Tensor = aten::reshape(%v.21, %986), scope: __module.model.8/__module.model.8.m.1/__module.model.8.m.1.0/__module.model.8.m.1.0.attn # /content/yolov12/ultralytics/nn/modules/block.py:1257:0\n",
            "\t\t    %988 : int[] = prim::ListConstruct(%753, %742, %754, %741), scope: __module.model.8/__module.model.8.m.1/__module.model.8.m.1.0/__module.model.8.m.1.0.attn\n",
            "\t\t    %input.123 : Tensor = aten::permute(%987, %988), scope: __module.model.8/__module.model.8.m.1/__module.model.8.m.1.0/__module.model.8.m.1.0.attn # /content/yolov12/ultralytics/nn/modules/block.py:1257:0\n",
            "\t\t    %conv.95 : __torch__.torch.nn.modules.conv.Conv2d = prim::GetAttr[name=\"conv\"](%pe.13)\n",
            "\t\t    %bias.333 : Tensor = prim::GetAttr[name=\"bias\"](%conv.95)\n",
            "\t\t    %weight.335 : Tensor = prim::GetAttr[name=\"weight\"](%conv.95)\n",
            "\t\t    %993 : int[] = prim::ListConstruct(%754, %754), scope: __module.model.8/__module.model.8.m.1/__module.model.8.m.1.0/__module.model.8.m.1.0.attn/__module.model.8.m.1.0.attn.pe/__module.model.8.m.1.0.attn.pe.conv\n",
            "\t\t    %994 : int[] = prim::ListConstruct(%742, %742), scope: __module.model.8/__module.model.8.m.1/__module.model.8.m.1.0/__module.model.8.m.1.0.attn/__module.model.8.m.1.0.attn.pe/__module.model.8.m.1.0.attn.pe.conv\n",
            "\t\t    %995 : int[] = prim::ListConstruct(%754, %754), scope: __module.model.8/__module.model.8.m.1/__module.model.8.m.1.0/__module.model.8.m.1.0.attn/__module.model.8.m.1.0.attn.pe/__module.model.8.m.1.0.attn.pe.conv\n",
            "\t\t    %996 : int[] = prim::ListConstruct(%753, %753), scope: __module.model.8/__module.model.8.m.1/__module.model.8.m.1.0/__module.model.8.m.1.0.attn/__module.model.8.m.1.0.attn.pe/__module.model.8.m.1.0.attn.pe.conv\n",
            "\t\t    %997 : Tensor = aten::_convolution(%input.123, %weight.335, %bias.333, %993, %994, %995, %752, %996, %750, %752, %751, %751, %751), scope: __module.model.8/__module.model.8.m.1/__module.model.8.m.1.0/__module.model.8.m.1.0.attn/__module.model.8.m.1.0.attn.pe/__module.model.8.m.1.0.attn.pe.conv # /usr/local/lib/python3.11/dist-packages/torch/nn/modules/conv.py:549:0\n",
            "\t\t    %input.125 : Tensor = aten::add(%x.51, %997, %754), scope: __module.model.8/__module.model.8.m.1/__module.model.8.m.1.0/__module.model.8.m.1.0.attn # /content/yolov12/ultralytics/nn/modules/block.py:1259:0\n",
            "\t\t    %conv.97 : __torch__.torch.nn.modules.conv.Conv2d = prim::GetAttr[name=\"conv\"](%proj.13)\n",
            "\t\t    %bias.335 : Tensor = prim::GetAttr[name=\"bias\"](%conv.97)\n",
            "\t\t    %weight.337 : Tensor = prim::GetAttr[name=\"weight\"](%conv.97)\n",
            "\t\t    %1002 : int[] = prim::ListConstruct(%754, %754), scope: __module.model.8/__module.model.8.m.1/__module.model.8.m.1.0/__module.model.8.m.1.0.attn/__module.model.8.m.1.0.attn.proj/__module.model.8.m.1.0.attn.proj.conv\n",
            "\t\t    %1003 : int[] = prim::ListConstruct(%753, %753), scope: __module.model.8/__module.model.8.m.1/__module.model.8.m.1.0/__module.model.8.m.1.0.attn/__module.model.8.m.1.0.attn.proj/__module.model.8.m.1.0.attn.proj.conv\n",
            "\t\t    %1004 : int[] = prim::ListConstruct(%754, %754), scope: __module.model.8/__module.model.8.m.1/__module.model.8.m.1.0/__module.model.8.m.1.0.attn/__module.model.8.m.1.0.attn.proj/__module.model.8.m.1.0.attn.proj.conv\n",
            "\t\t    %1005 : int[] = prim::ListConstruct(%753, %753), scope: __module.model.8/__module.model.8.m.1/__module.model.8.m.1.0/__module.model.8.m.1.0.attn/__module.model.8.m.1.0.attn.proj/__module.model.8.m.1.0.attn.proj.conv\n",
            "\t\t    %1006 : Tensor = aten::_convolution(%input.125, %weight.337, %bias.335, %1002, %1003, %1004, %752, %1005, %754, %752, %751, %751, %751), scope: __module.model.8/__module.model.8.m.1/__module.model.8.m.1.0/__module.model.8.m.1.0.attn/__module.model.8.m.1.0.attn.proj/__module.model.8.m.1.0.attn.proj.conv # /usr/local/lib/python3.11/dist-packages/torch/nn/modules/conv.py:549:0\n",
            "\t\t    %input.127 : Tensor = aten::add(%x.47, %1006, %754), scope: __module.model.8/__module.model.8.m.1/__module.model.8.m.1.0 # /content/yolov12/ultralytics/nn/modules/block.py:1310:0\n",
            "\t\t    %_1.27 : __torch__.ultralytics.nn.modules.conv.Conv = prim::GetAttr[name=\"1\"](%mlp.13)\n",
            "\t\t    %_0.29 : __torch__.ultralytics.nn.modules.conv.Conv = prim::GetAttr[name=\"0\"](%mlp.13)\n",
            "\t\t    %conv.99 : __torch__.torch.nn.modules.conv.Conv2d = prim::GetAttr[name=\"conv\"](%_0.29)\n",
            "\t\t    %bias.337 : Tensor = prim::GetAttr[name=\"bias\"](%conv.99)\n",
            "\t\t    %weight.339 : Tensor = prim::GetAttr[name=\"weight\"](%conv.99)\n",
            "\t\t    %1013 : int[] = prim::ListConstruct(%754, %754), scope: __module.model.8/__module.model.8.m.1/__module.model.8.m.1.0/__module.model.8.m.1.0.mlp/__module.model.8.m.1.0.mlp.0/__module.model.8.m.1.0.mlp.0.conv\n",
            "\t\t    %1014 : int[] = prim::ListConstruct(%753, %753), scope: __module.model.8/__module.model.8.m.1/__module.model.8.m.1.0/__module.model.8.m.1.0.mlp/__module.model.8.m.1.0.mlp.0/__module.model.8.m.1.0.mlp.0.conv\n",
            "\t\t    %1015 : int[] = prim::ListConstruct(%754, %754), scope: __module.model.8/__module.model.8.m.1/__module.model.8.m.1.0/__module.model.8.m.1.0.mlp/__module.model.8.m.1.0.mlp.0/__module.model.8.m.1.0.mlp.0.conv\n",
            "\t\t    %1016 : int[] = prim::ListConstruct(%753, %753), scope: __module.model.8/__module.model.8.m.1/__module.model.8.m.1.0/__module.model.8.m.1.0.mlp/__module.model.8.m.1.0.mlp.0/__module.model.8.m.1.0.mlp.0.conv\n",
            "\t\t    %input.129 : Tensor = aten::_convolution(%input.127, %weight.339, %bias.337, %1013, %1014, %1015, %752, %1016, %754, %752, %751, %751, %751), scope: __module.model.8/__module.model.8.m.1/__module.model.8.m.1.0/__module.model.8.m.1.0.mlp/__module.model.8.m.1.0.mlp.0/__module.model.8.m.1.0.mlp.0.conv # /usr/local/lib/python3.11/dist-packages/torch/nn/modules/conv.py:549:0\n",
            "\t\t    %input.131 : Tensor = aten::silu_(%input.129), scope: __module.model.8/__module.model.8.m.1/__module.model.8.m.1.0/__module.model.8.m.1.0.mlp/__module.model.8.m.1.0.mlp.0/__module.model.21.cv3.2.1.1.act # /usr/local/lib/python3.11/dist-packages/torch/nn/functional.py:2379:0\n",
            "\t\t    %act.57 : __torch__.torch.nn.modules.linear.Identity = prim::GetAttr[name=\"act\"](%_1.27)\n",
            "\t\t    %conv.101 : __torch__.torch.nn.modules.conv.Conv2d = prim::GetAttr[name=\"conv\"](%_1.27)\n",
            "\t\t    %bias.339 : Tensor = prim::GetAttr[name=\"bias\"](%conv.101)\n",
            "\t\t    %weight.341 : Tensor = prim::GetAttr[name=\"weight\"](%conv.101)\n",
            "\t\t    %1023 : int[] = prim::ListConstruct(%754, %754), scope: __module.model.8/__module.model.8.m.1/__module.model.8.m.1.0/__module.model.8.m.1.0.mlp/__module.model.8.m.1.0.mlp.1/__module.model.8.m.1.0.mlp.1.conv\n",
            "\t\t    %1024 : int[] = prim::ListConstruct(%753, %753), scope: __module.model.8/__module.model.8.m.1/__module.model.8.m.1.0/__module.model.8.m.1.0.mlp/__module.model.8.m.1.0.mlp.1/__module.model.8.m.1.0.mlp.1.conv\n",
            "\t\t    %1025 : int[] = prim::ListConstruct(%754, %754), scope: __module.model.8/__module.model.8.m.1/__module.model.8.m.1.0/__module.model.8.m.1.0.mlp/__module.model.8.m.1.0.mlp.1/__module.model.8.m.1.0.mlp.1.conv\n",
            "\t\t    %1026 : int[] = prim::ListConstruct(%753, %753), scope: __module.model.8/__module.model.8.m.1/__module.model.8.m.1.0/__module.model.8.m.1.0.mlp/__module.model.8.m.1.0.mlp.1/__module.model.8.m.1.0.mlp.1.conv\n",
            "\t\t    %1027 : Tensor = aten::_convolution(%input.131, %weight.341, %bias.339, %1023, %1024, %1025, %752, %1026, %754, %752, %751, %751, %751), scope: __module.model.8/__module.model.8.m.1/__module.model.8.m.1.0/__module.model.8.m.1.0.mlp/__module.model.8.m.1.0.mlp.1/__module.model.8.m.1.0.mlp.1.conv # /usr/local/lib/python3.11/dist-packages/torch/nn/modules/conv.py:549:0\n",
            "\t\t    %x.53 : Tensor = aten::add(%input.127, %1027, %754), scope: __module.model.8/__module.model.8.m.1/__module.model.8.m.1.0 # /content/yolov12/ultralytics/nn/modules/block.py:1311:0\n",
            "\t\t    %mlp : __torch__.torch.nn.modules.container.Sequential = prim::GetAttr[name=\"mlp\"](%_1.31)\n",
            "\t\t    %attn : __torch__.ultralytics.nn.modules.block.AAttn = prim::GetAttr[name=\"attn\"](%_1.31)\n",
            "\t\t    %proj : __torch__.ultralytics.nn.modules.conv.Conv = prim::GetAttr[name=\"proj\"](%attn)\n",
            "\t\t    %pe : __torch__.ultralytics.nn.modules.conv.Conv = prim::GetAttr[name=\"pe\"](%attn)\n",
            "\t\t    %qkv : __torch__.ultralytics.nn.modules.conv.Conv = prim::GetAttr[name=\"qkv\"](%attn)\n",
            "\t\t    %1034 : int = aten::size(%x.53, %753), scope: __module.model.8/__module.model.8.m.1/__module.model.8.m.1.1/__module.model.8.m.1.1.attn # /content/yolov12/ultralytics/nn/modules/block.py:1219:0\n",
            "\t\t    %1035 : int = aten::size(%x.53, %754), scope: __module.model.8/__module.model.8.m.1/__module.model.8.m.1.1/__module.model.8.m.1.1.attn # /content/yolov12/ultralytics/nn/modules/block.py:1219:0\n",
            "\t\t    %1036 : int = aten::size(%x.53, %741), scope: __module.model.8/__module.model.8.m.1/__module.model.8.m.1.1/__module.model.8.m.1.1.attn # /content/yolov12/ultralytics/nn/modules/block.py:1219:0\n",
            "\t\t    %H : Tensor = prim::NumToTensor(%1036), scope: __module.model.8/__module.model.8.m.1/__module.model.8.m.1.1/__module.model.8.m.1.1.attn\n",
            "\t\t    %1038 : int = aten::size(%x.53, %742), scope: __module.model.8/__module.model.8.m.1/__module.model.8.m.1.1/__module.model.8.m.1.1.attn # /content/yolov12/ultralytics/nn/modules/block.py:1219:0\n",
            "\t\t    %W : Tensor = prim::NumToTensor(%1038), scope: __module.model.8/__module.model.8.m.1/__module.model.8.m.1.1/__module.model.8.m.1.1.attn\n",
            "\t\t    %N : Tensor = aten::mul(%H, %W), scope: __module.model.8/__module.model.8.m.1/__module.model.8.m.1.1/__module.model.8.m.1.1.attn # /content/yolov12/ultralytics/nn/modules/block.py:1220:0\n",
            "\t\t    %1041 : int = aten::Int(%N), scope: __module.model.8/__module.model.8.m.1/__module.model.8.m.1.1/__module.model.8.m.1.1.attn\n",
            "\t\t    %conv.103 : __torch__.torch.nn.modules.conv.Conv2d = prim::GetAttr[name=\"conv\"](%qkv)\n",
            "\t\t    %bias.341 : Tensor = prim::GetAttr[name=\"bias\"](%conv.103)\n",
            "\t\t    %weight.343 : Tensor = prim::GetAttr[name=\"weight\"](%conv.103)\n",
            "\t\t    %1045 : int[] = prim::ListConstruct(%754, %754), scope: __module.model.8/__module.model.8.m.1/__module.model.8.m.1.1/__module.model.8.m.1.1.attn/__module.model.8.m.1.1.attn.qkv/__module.model.8.m.1.1.attn.qkv.conv\n",
            "\t\t    %1046 : int[] = prim::ListConstruct(%753, %753), scope: __module.model.8/__module.model.8.m.1/__module.model.8.m.1.1/__module.model.8.m.1.1.attn/__module.model.8.m.1.1.attn.qkv/__module.model.8.m.1.1.attn.qkv.conv\n",
            "\t\t    %1047 : int[] = prim::ListConstruct(%754, %754), scope: __module.model.8/__module.model.8.m.1/__module.model.8.m.1.1/__module.model.8.m.1.1.attn/__module.model.8.m.1.1.attn.qkv/__module.model.8.m.1.1.attn.qkv.conv\n",
            "\t\t    %1048 : int[] = prim::ListConstruct(%753, %753), scope: __module.model.8/__module.model.8.m.1/__module.model.8.m.1.1/__module.model.8.m.1.1.attn/__module.model.8.m.1.1.attn.qkv/__module.model.8.m.1.1.attn.qkv.conv\n",
            "\t\t    %1049 : Tensor = aten::_convolution(%x.53, %weight.343, %bias.341, %1045, %1046, %1047, %752, %1048, %754, %752, %751, %751, %751), scope: __module.model.8/__module.model.8.m.1/__module.model.8.m.1.1/__module.model.8.m.1.1.attn/__module.model.8.m.1.1.attn.qkv/__module.model.8.m.1.1.attn.qkv.conv # /usr/local/lib/python3.11/dist-packages/torch/nn/modules/conv.py:549:0\n",
            "\t\t    %1050 : Tensor = aten::flatten(%1049, %741, %743), scope: __module.model.8/__module.model.8.m.1/__module.model.8.m.1.1/__module.model.8.m.1.1.attn # /content/yolov12/ultralytics/nn/modules/block.py:1222:0\n",
            "\t\t    %qkv.23 : Tensor = aten::transpose(%1050, %754, %741), scope: __module.model.8/__module.model.8.m.1/__module.model.8.m.1.1/__module.model.8.m.1.1.attn # /content/yolov12/ultralytics/nn/modules/block.py:1222:0\n",
            "\t\t    %1052 : int[] = prim::ListConstruct(%1034, %1041, %744, %745), scope: __module.model.8/__module.model.8.m.1/__module.model.8.m.1.1/__module.model.8.m.1.1.attn\n",
            "\t\t    %1053 : Tensor = aten::view(%qkv.23, %1052), scope: __module.model.8/__module.model.8.m.1/__module.model.8.m.1.1/__module.model.8.m.1.1.attn # /content/yolov12/ultralytics/nn/modules/block.py:1226:0\n",
            "\t\t    %1054 : int[] = prim::ListConstruct(%746, %746, %746), scope: __module.model.8/__module.model.8.m.1/__module.model.8.m.1.1/__module.model.8.m.1.1.attn\n",
            "\t\t    %1055 : Tensor[] = aten::split_with_sizes(%1053, %1054, %742), scope: __module.model.8/__module.model.8.m.1/__module.model.8.m.1.1/__module.model.8.m.1.1.attn # /usr/local/lib/python3.11/dist-packages/torch/_tensor.py:983:0\n",
            "\t\t    %q.29 : Tensor, %k : Tensor, %v : Tensor = prim::ListUnpack(%1055), scope: __module.model.8/__module.model.8.m.1/__module.model.8.m.1.1/__module.model.8.m.1.1.attn\n",
            "\t\t    %1059 : Tensor = aten::contiguous(%q.29, %753), scope: __module.model.8/__module.model.8.m.1/__module.model.8.m.1.1/__module.model.8.m.1.1.attn # /content/yolov12/ultralytics/nn/modules/block.py:1232:0\n",
            "\t\t    %q : Tensor = aten::to(%1059, %747, %752, %752, %748), scope: __module.model.8/__module.model.8.m.1/__module.model.8.m.1.1/__module.model.8.m.1.1.attn # /content/yolov12/ultralytics/nn/modules/block.py:1232:0\n",
            "\t\t    %1061 : Tensor = aten::contiguous(%k, %753), scope: __module.model.8/__module.model.8.m.1/__module.model.8.m.1.1/__module.model.8.m.1.1.attn # /content/yolov12/ultralytics/nn/modules/block.py:1233:0\n",
            "\t\t    %1062 : Tensor = aten::to(%1061, %747, %752, %752, %748), scope: __module.model.8/__module.model.8.m.1/__module.model.8.m.1.1/__module.model.8.m.1.1.attn # /content/yolov12/ultralytics/nn/modules/block.py:1233:0\n",
            "\t\t    %1063 : Tensor = aten::contiguous(%v, %753), scope: __module.model.8/__module.model.8.m.1/__module.model.8.m.1.1/__module.model.8.m.1.1.attn # /content/yolov12/ultralytics/nn/modules/block.py:1234:0\n",
            "\t\t    %1064 : Tensor = aten::to(%1063, %747, %752, %752, %748), scope: __module.model.8/__module.model.8.m.1/__module.model.8.m.1.1/__module.model.8.m.1.1.attn # /content/yolov12/ultralytics/nn/modules/block.py:1234:0\n",
            "\t\t-   %1065 : Tensor = ^FlashAttnFunc[inplace=0, module=\"flash_attn.flash_attn_interface\", Subgraph=<Graph>](0.0, None, False, (-1, -1), 0.0, None, False, False, True)(%q, %1062, %1064), scope: __module.model.8/__module.model.8.m.1/__module.model.8.m.1.1/__module.model.8.m.1.1.attn # /usr/local/lib/python3.11/dist-packages/torch/autograd/function.py:575:0\n",
            "\t\t?                                                                                                                                                               ^^^\n",
            "\t\t+   %1065 : Tensor = ^FlashAttnFunc[inplace=0, module=\"flash_attn.flash_attn_interface\", Subgraph=<Graph>](0.0, None, False, (-1, -1), 0.0, None, False, False, False)(%q, %1062, %1064), scope: __module.model.8/__module.model.8.m.1/__module.model.8.m.1.1/__module.model.8.m.1.1.attn # /usr/local/lib/python3.11/dist-packages/torch/autograd/function.py:575:0\n",
            "\t\t?                                                                                                                                                               ^^^^\n",
            "\t\t    %x.55 : Tensor = aten::to(%1065, %749, %752, %752, %748), scope: __module.model.8/__module.model.8.m.1/__module.model.8.m.1.1/__module.model.8.m.1.1.attn # /content/yolov12/ultralytics/nn/modules/block.py:1235:0\n",
            "\t\t    %1067 : int[] = prim::ListConstruct(%1034, %1036, %1038, %1035), scope: __module.model.8/__module.model.8.m.1/__module.model.8.m.1.1/__module.model.8.m.1.1.attn\n",
            "\t\t    %1068 : Tensor = aten::reshape(%x.55, %1067), scope: __module.model.8/__module.model.8.m.1/__module.model.8.m.1.1/__module.model.8.m.1.1.attn # /content/yolov12/ultralytics/nn/modules/block.py:1256:0\n",
            "\t\t    %1069 : int[] = prim::ListConstruct(%753, %742, %754, %741), scope: __module.model.8/__module.model.8.m.1/__module.model.8.m.1.1/__module.model.8.m.1.1.attn\n",
            "\t\t    %x.57 : Tensor = aten::permute(%1068, %1069), scope: __module.model.8/__module.model.8.m.1/__module.model.8.m.1.1/__module.model.8.m.1.1.attn # /content/yolov12/ultralytics/nn/modules/block.py:1256:0\n",
            "\t\t    %1071 : int[] = prim::ListConstruct(%1034, %1036, %1038, %1035), scope: __module.model.8/__module.model.8.m.1/__module.model.8.m.1.1/__module.model.8.m.1.1.attn\n",
            "\t\t    %1072 : Tensor = aten::reshape(%v, %1071), scope: __module.model.8/__module.model.8.m.1/__module.model.8.m.1.1/__module.model.8.m.1.1.attn # /content/yolov12/ultralytics/nn/modules/block.py:1257:0\n",
            "\t\t    %1073 : int[] = prim::ListConstruct(%753, %742, %754, %741), scope: __module.model.8/__module.model.8.m.1/__module.model.8.m.1.1/__module.model.8.m.1.1.attn\n",
            "\t\t    %input.133 : Tensor = aten::permute(%1072, %1073), scope: __module.model.8/__module.model.8.m.1/__module.model.8.m.1.1/__module.model.8.m.1.1.attn # /content/yolov12/ultralytics/nn/modules/block.py:1257:0\n",
            "\t\t    %conv.105 : __torch__.torch.nn.modules.conv.Conv2d = prim::GetAttr[name=\"conv\"](%pe)\n",
            "\t\t    %bias.343 : Tensor = prim::GetAttr[name=\"bias\"](%conv.105)\n",
            "\t\t    %weight.345 : Tensor = prim::GetAttr[name=\"weight\"](%conv.105)\n",
            "\t\t    %1078 : int[] = prim::ListConstruct(%754, %754), scope: __module.model.8/__module.model.8.m.1/__module.model.8.m.1.1/__module.model.8.m.1.1.attn/__module.model.8.m.1.1.attn.pe/__module.model.8.m.1.1.attn.pe.conv\n",
            "\t\t    %1079 : int[] = prim::ListConstruct(%742, %742), scope: __module.model.8/__module.model.8.m.1/__module.model.8.m.1.1/__module.model.8.m.1.1.attn/__module.model.8.m.1.1.attn.pe/__module.model.8.m.1.1.attn.pe.conv\n",
            "\t\t    %1080 : int[] = prim::ListConstruct(%754, %754), scope: __module.model.8/__module.model.8.m.1/__module.model.8.m.1.1/__module.model.8.m.1.1.attn/__module.model.8.m.1.1.attn.pe/__module.model.8.m.1.1.attn.pe.conv\n",
            "\t\t    %1081 : int[] = prim::ListConstruct(%753, %753), scope: __module.model.8/__module.model.8.m.1/__module.model.8.m.1.1/__module.model.8.m.1.1.attn/__module.model.8.m.1.1.attn.pe/__module.model.8.m.1.1.attn.pe.conv\n",
            "\t\t    %1082 : Tensor = aten::_convolution(%input.133, %weight.345, %bias.343, %1078, %1079, %1080, %752, %1081, %750, %752, %751, %751, %751), scope: __module.model.8/__module.model.8.m.1/__module.model.8.m.1.1/__module.model.8.m.1.1.attn/__module.model.8.m.1.1.attn.pe/__module.model.8.m.1.1.attn.pe.conv # /usr/local/lib/python3.11/dist-packages/torch/nn/modules/conv.py:549:0\n",
            "\t\t    %input.135 : Tensor = aten::add(%x.57, %1082, %754), scope: __module.model.8/__module.model.8.m.1/__module.model.8.m.1.1/__module.model.8.m.1.1.attn # /content/yolov12/ultralytics/nn/modules/block.py:1259:0\n",
            "\t\t    %conv.107 : __torch__.torch.nn.modules.conv.Conv2d = prim::GetAttr[name=\"conv\"](%proj)\n",
            "\t\t    %bias.345 : Tensor = prim::GetAttr[name=\"bias\"](%conv.107)\n",
            "\t\t    %weight.347 : Tensor = prim::GetAttr[name=\"weight\"](%conv.107)\n",
            "\t\t    %1087 : int[] = prim::ListConstruct(%754, %754), scope: __module.model.8/__module.model.8.m.1/__module.model.8.m.1.1/__module.model.8.m.1.1.attn/__module.model.8.m.1.1.attn.proj/__module.model.8.m.1.1.attn.proj.conv\n",
            "\t\t    %1088 : int[] = prim::ListConstruct(%753, %753), scope: __module.model.8/__module.model.8.m.1/__module.model.8.m.1.1/__module.model.8.m.1.1.attn/__module.model.8.m.1.1.attn.proj/__module.model.8.m.1.1.attn.proj.conv\n",
            "\t\t    %1089 : int[] = prim::ListConstruct(%754, %754), scope: __module.model.8/__module.model.8.m.1/__module.model.8.m.1.1/__module.model.8.m.1.1.attn/__module.model.8.m.1.1.attn.proj/__module.model.8.m.1.1.attn.proj.conv\n",
            "\t\t    %1090 : int[] = prim::ListConstruct(%753, %753), scope: __module.model.8/__module.model.8.m.1/__module.model.8.m.1.1/__module.model.8.m.1.1.attn/__module.model.8.m.1.1.attn.proj/__module.model.8.m.1.1.attn.proj.conv\n",
            "\t\t    %1091 : Tensor = aten::_convolution(%input.135, %weight.347, %bias.345, %1087, %1088, %1089, %752, %1090, %754, %752, %751, %751, %751), scope: __module.model.8/__module.model.8.m.1/__module.model.8.m.1.1/__module.model.8.m.1.1.attn/__module.model.8.m.1.1.attn.proj/__module.model.8.m.1.1.attn.proj.conv # /usr/local/lib/python3.11/dist-packages/torch/nn/modules/conv.py:549:0\n",
            "\t\t    %input.137 : Tensor = aten::add(%x.53, %1091, %754), scope: __module.model.8/__module.model.8.m.1/__module.model.8.m.1.1 # /content/yolov12/ultralytics/nn/modules/block.py:1310:0\n",
            "\t\t    %_1.29 : __torch__.ultralytics.nn.modules.conv.Conv = prim::GetAttr[name=\"1\"](%mlp)\n",
            "\t\t    %_0.33 : __torch__.ultralytics.nn.modules.conv.Conv = prim::GetAttr[name=\"0\"](%mlp)\n",
            "\t\t    %conv.109 : __torch__.torch.nn.modules.conv.Conv2d = prim::GetAttr[name=\"conv\"](%_0.33)\n",
            "\t\t    %bias.347 : Tensor = prim::GetAttr[name=\"bias\"](%conv.109)\n",
            "\t\t    %weight.349 : Tensor = prim::GetAttr[name=\"weight\"](%conv.109)\n",
            "\t\t    %1098 : int[] = prim::ListConstruct(%754, %754), scope: __module.model.8/__module.model.8.m.1/__module.model.8.m.1.1/__module.model.8.m.1.1.mlp/__module.model.8.m.1.1.mlp.0/__module.model.8.m.1.1.mlp.0.conv\n",
            "\t\t    %1099 : int[] = prim::ListConstruct(%753, %753), scope: __module.model.8/__module.model.8.m.1/__module.model.8.m.1.1/__module.model.8.m.1.1.mlp/__module.model.8.m.1.1.mlp.0/__module.model.8.m.1.1.mlp.0.conv\n",
            "\t\t    %1100 : int[] = prim::ListConstruct(%754, %754), scope: __module.model.8/__module.model.8.m.1/__module.model.8.m.1.1/__module.model.8.m.1.1.mlp/__module.model.8.m.1.1.mlp.0/__module.model.8.m.1.1.mlp.0.conv\n",
            "\t\t    %1101 : int[] = prim::ListConstruct(%753, %753), scope: __module.model.8/__module.model.8.m.1/__module.model.8.m.1.1/__module.model.8.m.1.1.mlp/__module.model.8.m.1.1.mlp.0/__module.model.8.m.1.1.mlp.0.conv\n",
            "\t\t    %input.139 : Tensor = aten::_convolution(%input.137, %weight.349, %bias.347, %1098, %1099, %1100, %752, %1101, %754, %752, %751, %751, %751), scope: __module.model.8/__module.model.8.m.1/__module.model.8.m.1.1/__module.model.8.m.1.1.mlp/__module.model.8.m.1.1.mlp.0/__module.model.8.m.1.1.mlp.0.conv # /usr/local/lib/python3.11/dist-packages/torch/nn/modules/conv.py:549:0\n",
            "\t\t    %input.141 : Tensor = aten::silu_(%input.139), scope: __module.model.8/__module.model.8.m.1/__module.model.8.m.1.1/__module.model.8.m.1.1.mlp/__module.model.8.m.1.1.mlp.0/__module.model.21.cv3.2.1.1.act # /usr/local/lib/python3.11/dist-packages/torch/nn/functional.py:2379:0\n",
            "\t\t    %act.65 : __torch__.torch.nn.modules.linear.Identity = prim::GetAttr[name=\"act\"](%_1.29)\n",
            "\t\t    %conv.111 : __torch__.torch.nn.modules.conv.Conv2d = prim::GetAttr[name=\"conv\"](%_1.29)\n",
            "\t\t    %bias.349 : Tensor = prim::GetAttr[name=\"bias\"](%conv.111)\n",
            "\t\t    %weight.351 : Tensor = prim::GetAttr[name=\"weight\"](%conv.111)\n",
            "\t\t    %1108 : int[] = prim::ListConstruct(%754, %754), scope: __module.model.8/__module.model.8.m.1/__module.model.8.m.1.1/__module.model.8.m.1.1.mlp/__module.model.8.m.1.1.mlp.1/__module.model.8.m.1.1.mlp.1.conv\n",
            "\t\t    %1109 : int[] = prim::ListConstruct(%753, %753), scope: __module.model.8/__module.model.8.m.1/__module.model.8.m.1.1/__module.model.8.m.1.1.mlp/__module.model.8.m.1.1.mlp.1/__module.model.8.m.1.1.mlp.1.conv\n",
            "\t\t    %1110 : int[] = prim::ListConstruct(%754, %754), scope: __module.model.8/__module.model.8.m.1/__module.model.8.m.1.1/__module.model.8.m.1.1.mlp/__module.model.8.m.1.1.mlp.1/__module.model.8.m.1.1.mlp.1.conv\n",
            "\t\t    %1111 : int[] = prim::ListConstruct(%753, %753), scope: __module.model.8/__module.model.8.m.1/__module.model.8.m.1.1/__module.model.8.m.1.1.mlp/__module.model.8.m.1.1.mlp.1/__module.model.8.m.1.1.mlp.1.conv\n",
            "\t\t    %1112 : Tensor = aten::_convolution(%input.141, %weight.351, %bias.349, %1108, %1109, %1110, %752, %1111, %754, %752, %751, %751, %751), scope: __module.model.8/__module.model.8.m.1/__module.model.8.m.1.1/__module.model.8.m.1.1.mlp/__module.model.8.m.1.1.mlp.1/__module.model.8.m.1.1.mlp.1.conv # /usr/local/lib/python3.11/dist-packages/torch/nn/modules/conv.py:549:0\n",
            "\t\t    %1113 : Tensor = aten::add(%input.137, %1112, %754), scope: __module.model.8/__module.model.8.m.1/__module.model.8.m.1.1 # /content/yolov12/ultralytics/nn/modules/block.py:1311:0\n",
            "\t\t    %1114 : Tensor[] = prim::ListConstruct(%x.35, %x.47, %1113), scope: __module.model.8\n",
            "\t\t    %input.143 : Tensor = aten::cat(%1114, %754), scope: __module.model.8 # /content/yolov12/ultralytics/nn/modules/block.py:1369:0\n",
            "\t\t    %conv.113 : __torch__.torch.nn.modules.conv.Conv2d = prim::GetAttr[name=\"conv\"](%cv2.11)\n",
            "\t\t    %bias.351 : Tensor = prim::GetAttr[name=\"bias\"](%conv.113)\n",
            "\t\t    %weight.353 : Tensor = prim::GetAttr[name=\"weight\"](%conv.113)\n",
            "\t\t    %1119 : int[] = prim::ListConstruct(%754, %754), scope: __module.model.8/__module.model.8.cv2/__module.model.8.cv2.conv\n",
            "\t\t    %1120 : int[] = prim::ListConstruct(%753, %753), scope: __module.model.8/__module.model.8.cv2/__module.model.8.cv2.conv\n",
            "\t\t    %1121 : int[] = prim::ListConstruct(%754, %754), scope: __module.model.8/__module.model.8.cv2/__module.model.8.cv2.conv\n",
            "\t\t    %1122 : int[] = prim::ListConstruct(%753, %753), scope: __module.model.8/__module.model.8.cv2/__module.model.8.cv2.conv\n",
            "\t\t    %input.145 : Tensor = aten::_convolution(%input.143, %weight.353, %bias.351, %1119, %1120, %1121, %752, %1122, %754, %752, %751, %751, %751), scope: __module.model.8/__module.model.8.cv2/__module.model.8.cv2.conv # /usr/local/lib/python3.11/dist-packages/torch/nn/modules/conv.py:549:0\n",
            "\t\t    %input.147 : Tensor = aten::silu_(%input.145), scope: __module.model.8/__module.model.8.cv2/__module.model.21.cv3.2.1.1.act # /usr/local/lib/python3.11/dist-packages/torch/nn/functional.py:2379:0\n",
            "\t\t    %1125 : float = prim::Constant[value=2.](), scope: __module.model.9 # /usr/local/lib/python3.11/dist-packages/torch/nn/functional.py:4536:0\n",
            "\t\t    %1126 : NoneType = prim::Constant(), scope: __module.model.9\n",
            "\t\t    %1127 : float[] = prim::ListConstruct(%1125, %1125), scope: __module.model.9\n",
            "\t\t    %1128 : Tensor = aten::upsample_nearest2d(%input.147, %1126, %1127), scope: __module.model.9 # /usr/local/lib/python3.11/dist-packages/torch/nn/functional.py:4536:0\n",
            "\t\t    %1129 : int = prim::Constant[value=1](), scope: __module.model.10 # /content/yolov12/ultralytics/nn/modules/conv.py:333:0\n",
            "\t\t    %1130 : Tensor[] = prim::ListConstruct(%1128, %input.95), scope: __module.model.10\n",
            "\t\t    %input.149 : Tensor = aten::cat(%1130, %1129), scope: __module.model.10 # /content/yolov12/ultralytics/nn/modules/conv.py:333:0\n",
            "\t\t    %1132 : bool = prim::Constant[value=1](), scope: __module.model.11/__module.model.11.cv1/__module.model.11.cv1.conv # /usr/local/lib/python3.11/dist-packages/torch/nn/modules/conv.py:549:0\n",
            "\t\t    %1133 : bool = prim::Constant[value=0](), scope: __module.model.11/__module.model.11.cv1/__module.model.11.cv1.conv # /usr/local/lib/python3.11/dist-packages/torch/nn/modules/conv.py:549:0\n",
            "\t\t    %1134 : int = prim::Constant[value=0](), scope: __module.model.11/__module.model.11.cv1/__module.model.11.cv1.conv # /usr/local/lib/python3.11/dist-packages/torch/nn/modules/conv.py:549:0\n",
            "\t\t    %1135 : int = prim::Constant[value=1](), scope: __module.model.11/__module.model.11.cv1/__module.model.11.cv1.conv # /usr/local/lib/python3.11/dist-packages/torch/nn/modules/conv.py:549:0\n",
            "\t\t    %cv2.19 : __torch__.ultralytics.nn.modules.conv.Conv = prim::GetAttr[name=\"cv2\"](%_11)\n",
            "\t\t    %m.15 : __torch__.torch.nn.modules.container.ModuleList = prim::GetAttr[name=\"m\"](%_11)\n",
            "\t\t    %_0.37 : __torch__.ultralytics.nn.modules.block.C3k = prim::GetAttr[name=\"0\"](%m.15)\n",
            "\t\t    %cv1.13 : __torch__.ultralytics.nn.modules.conv.Conv = prim::GetAttr[name=\"cv1\"](%_11)\n",
            "\t\t    %conv.115 : __torch__.torch.nn.modules.conv.Conv2d = prim::GetAttr[name=\"conv\"](%cv1.13)\n",
            "\t\t    %bias.353 : Tensor = prim::GetAttr[name=\"bias\"](%conv.115)\n",
            "\t\t    %weight.355 : Tensor = prim::GetAttr[name=\"weight\"](%conv.115)\n",
            "\t\t    %1143 : int[] = prim::ListConstruct(%1135, %1135), scope: __module.model.11/__module.model.11.cv1/__module.model.11.cv1.conv\n",
            "\t\t    %1144 : int[] = prim::ListConstruct(%1134, %1134), scope: __module.model.11/__module.model.11.cv1/__module.model.11.cv1.conv\n",
            "\t\t    %1145 : int[] = prim::ListConstruct(%1135, %1135), scope: __module.model.11/__module.model.11.cv1/__module.model.11.cv1.conv\n",
            "\t\t    %1146 : int[] = prim::ListConstruct(%1134, %1134), scope: __module.model.11/__module.model.11.cv1/__module.model.11.cv1.conv\n",
            "\t\t    %input.151 : Tensor = aten::_convolution(%input.149, %weight.355, %bias.353, %1143, %1144, %1145, %1133, %1146, %1135, %1133, %1132, %1132, %1132), scope: __module.model.11/__module.model.11.cv1/__module.model.11.cv1.conv # /usr/local/lib/python3.11/dist-packages/torch/nn/modules/conv.py:549:0\n",
            "\t\t    %input.153 : Tensor = aten::silu_(%input.151), scope: __module.model.11/__module.model.11.cv1/__module.model.21.cv3.2.1.1.act # /usr/local/lib/python3.11/dist-packages/torch/nn/functional.py:2379:0\n",
            "\t\t    %cv3.3 : __torch__.ultralytics.nn.modules.conv.Conv = prim::GetAttr[name=\"cv3\"](%_0.37)\n",
            "\t\t    %cv2.17 : __torch__.ultralytics.nn.modules.conv.Conv = prim::GetAttr[name=\"cv2\"](%_0.37)\n",
            "\t\t    %m.13 : __torch__.torch.nn.modules.container.Sequential = prim::GetAttr[name=\"m\"](%_0.37)\n",
            "\t\t    %cv1.15 : __torch__.ultralytics.nn.modules.conv.Conv = prim::GetAttr[name=\"cv1\"](%_0.37)\n",
            "\t\t    %conv.117 : __torch__.torch.nn.modules.conv.Conv2d = prim::GetAttr[name=\"conv\"](%cv1.15)\n",
            "\t\t    %bias.355 : Tensor = prim::GetAttr[name=\"bias\"](%conv.117)\n",
            "\t\t    %weight.357 : Tensor = prim::GetAttr[name=\"weight\"](%conv.117)\n",
            "\t\t    %1156 : int[] = prim::ListConstruct(%1135, %1135), scope: __module.model.11/__module.model.11.m.0/__module.model.11.m.0.cv1/__module.model.11.m.0.cv1.conv\n",
            "\t\t    %1157 : int[] = prim::ListConstruct(%1134, %1134), scope: __module.model.11/__module.model.11.m.0/__module.model.11.m.0.cv1/__module.model.11.m.0.cv1.conv\n",
            "\t\t    %1158 : int[] = prim::ListConstruct(%1135, %1135), scope: __module.model.11/__module.model.11.m.0/__module.model.11.m.0.cv1/__module.model.11.m.0.cv1.conv\n",
            "\t\t    %1159 : int[] = prim::ListConstruct(%1134, %1134), scope: __module.model.11/__module.model.11.m.0/__module.model.11.m.0.cv1/__module.model.11.m.0.cv1.conv\n",
            "\t\t    %input.155 : Tensor = aten::_convolution(%input.153, %weight.357, %bias.355, %1156, %1157, %1158, %1133, %1159, %1135, %1133, %1132, %1132, %1132), scope: __module.model.11/__module.model.11.m.0/__module.model.11.m.0.cv1/__module.model.11.m.0.cv1.conv # /usr/local/lib/python3.11/dist-packages/torch/nn/modules/conv.py:549:0\n",
            "\t\t    %input.157 : Tensor = aten::silu_(%input.155), scope: __module.model.11/__module.model.11.m.0/__module.model.11.m.0.cv1/__module.model.21.cv3.2.1.1.act # /usr/local/lib/python3.11/dist-packages/torch/nn/functional.py:2379:0\n",
            "\t\t    %_1.35 : __torch__.ultralytics.nn.modules.block.Bottleneck = prim::GetAttr[name=\"1\"](%m.13)\n",
            "\t\t    %_0.35 : __torch__.ultralytics.nn.modules.block.Bottleneck = prim::GetAttr[name=\"0\"](%m.13)\n",
            "\t\t    %cv2.13 : __torch__.ultralytics.nn.modules.conv.Conv = prim::GetAttr[name=\"cv2\"](%_0.35)\n",
            "\t\t    %cv1.17 : __torch__.ultralytics.nn.modules.conv.Conv = prim::GetAttr[name=\"cv1\"](%_0.35)\n",
            "\t\t    %conv.119 : __torch__.torch.nn.modules.conv.Conv2d = prim::GetAttr[name=\"conv\"](%cv1.17)\n",
            "\t\t    %bias.357 : Tensor = prim::GetAttr[name=\"bias\"](%conv.119)\n",
            "\t\t    %weight.359 : Tensor = prim::GetAttr[name=\"weight\"](%conv.119)\n",
            "\t\t    %1169 : int[] = prim::ListConstruct(%1135, %1135), scope: __module.model.11/__module.model.11.m.0/__module.model.11.m.0.m/__module.model.11.m.0.m.0/__module.model.11.m.0.m.0.cv1/__module.model.11.m.0.m.0.cv1.conv\n",
            "\t\t    %1170 : int[] = prim::ListConstruct(%1135, %1135), scope: __module.model.11/__module.model.11.m.0/__module.model.11.m.0.m/__module.model.11.m.0.m.0/__module.model.11.m.0.m.0.cv1/__module.model.11.m.0.m.0.cv1.conv\n",
            "\t\t    %1171 : int[] = prim::ListConstruct(%1135, %1135), scope: __module.model.11/__module.model.11.m.0/__module.model.11.m.0.m/__module.model.11.m.0.m.0/__module.model.11.m.0.m.0.cv1/__module.model.11.m.0.m.0.cv1.conv\n",
            "\t\t    %1172 : int[] = prim::ListConstruct(%1134, %1134), scope: __module.model.11/__module.model.11.m.0/__module.model.11.m.0.m/__module.model.11.m.0.m.0/__module.model.11.m.0.m.0.cv1/__module.model.11.m.0.m.0.cv1.conv\n",
            "\t\t    %input.159 : Tensor = aten::_convolution(%input.157, %weight.359, %bias.357, %1169, %1170, %1171, %1133, %1172, %1135, %1133, %1132, %1132, %1132), scope: __module.model.11/__module.model.11.m.0/__module.model.11.m.0.m/__module.model.11.m.0.m.0/__module.model.11.m.0.m.0.cv1/__module.model.11.m.0.m.0.cv1.conv # /usr/local/lib/python3.11/dist-packages/torch/nn/modules/conv.py:549:0\n",
            "\t\t    %input.161 : Tensor = aten::silu_(%input.159), scope: __module.model.11/__module.model.11.m.0/__module.model.11.m.0.m/__module.model.11.m.0.m.0/__module.model.11.m.0.m.0.cv1/__module.model.21.cv3.2.1.1.act # /usr/local/lib/python3.11/dist-packages/torch/nn/functional.py:2379:0\n",
            "\t\t    %conv.121 : __torch__.torch.nn.modules.conv.Conv2d = prim::GetAttr[name=\"conv\"](%cv2.13)\n",
            "\t\t    %bias.359 : Tensor = prim::GetAttr[name=\"bias\"](%conv.121)\n",
            "\t\t    %weight.361 : Tensor = prim::GetAttr[name=\"weight\"](%conv.121)\n",
            "\t\t    %1178 : int[] = prim::ListConstruct(%1135, %1135), scope: __module.model.11/__module.model.11.m.0/__module.model.11.m.0.m/__module.model.11.m.0.m.0/__module.model.11.m.0.m.0.cv2/__module.model.11.m.0.m.0.cv2.conv\n",
            "\t\t    %1179 : int[] = prim::ListConstruct(%1135, %1135), scope: __module.model.11/__module.model.11.m.0/__module.model.11.m.0.m/__module.model.11.m.0.m.0/__module.model.11.m.0.m.0.cv2/__module.model.11.m.0.m.0.cv2.conv\n",
            "\t\t    %1180 : int[] = prim::ListConstruct(%1135, %1135), scope: __module.model.11/__module.model.11.m.0/__module.model.11.m.0.m/__module.model.11.m.0.m.0/__module.model.11.m.0.m.0.cv2/__module.model.11.m.0.m.0.cv2.conv\n",
            "\t\t    %1181 : int[] = prim::ListConstruct(%1134, %1134), scope: __module.model.11/__module.model.11.m.0/__module.model.11.m.0.m/__module.model.11.m.0.m.0/__module.model.11.m.0.m.0.cv2/__module.model.11.m.0.m.0.cv2.conv\n",
            "\t\t    %input.163 : Tensor = aten::_convolution(%input.161, %weight.361, %bias.359, %1178, %1179, %1180, %1133, %1181, %1135, %1133, %1132, %1132, %1132), scope: __module.model.11/__module.model.11.m.0/__module.model.11.m.0.m/__module.model.11.m.0.m.0/__module.model.11.m.0.m.0.cv2/__module.model.11.m.0.m.0.cv2.conv # /usr/local/lib/python3.11/dist-packages/torch/nn/modules/conv.py:549:0\n",
            "\t\t    %1183 : Tensor = aten::silu_(%input.163), scope: __module.model.11/__module.model.11.m.0/__module.model.11.m.0.m/__module.model.11.m.0.m.0/__module.model.11.m.0.m.0.cv2/__module.model.21.cv3.2.1.1.act # /usr/local/lib/python3.11/dist-packages/torch/nn/functional.py:2379:0\n",
            "\t\t    %input.165 : Tensor = aten::add(%input.157, %1183, %1135), scope: __module.model.11/__module.model.11.m.0/__module.model.11.m.0.m/__module.model.11.m.0.m.0 # /content/yolov12/ultralytics/nn/modules/block.py:348:0\n",
            "\t\t    %cv2.15 : __torch__.ultralytics.nn.modules.conv.Conv = prim::GetAttr[name=\"cv2\"](%_1.35)\n",
            "\t\t    %cv1.19 : __torch__.ultralytics.nn.modules.conv.Conv = prim::GetAttr[name=\"cv1\"](%_1.35)\n",
            "\t\t    %conv.123 : __torch__.torch.nn.modules.conv.Conv2d = prim::GetAttr[name=\"conv\"](%cv1.19)\n",
            "\t\t    %bias.361 : Tensor = prim::GetAttr[name=\"bias\"](%conv.123)\n",
            "\t\t    %weight.363 : Tensor = prim::GetAttr[name=\"weight\"](%conv.123)\n",
            "\t\t    %1190 : int[] = prim::ListConstruct(%1135, %1135), scope: __module.model.11/__module.model.11.m.0/__module.model.11.m.0.m/__module.model.11.m.0.m.1/__module.model.11.m.0.m.1.cv1/__module.model.11.m.0.m.1.cv1.conv\n",
            "\t\t    %1191 : int[] = prim::ListConstruct(%1135, %1135), scope: __module.model.11/__module.model.11.m.0/__module.model.11.m.0.m/__module.model.11.m.0.m.1/__module.model.11.m.0.m.1.cv1/__module.model.11.m.0.m.1.cv1.conv\n",
            "\t\t    %1192 : int[] = prim::ListConstruct(%1135, %1135), scope: __module.model.11/__module.model.11.m.0/__module.model.11.m.0.m/__module.model.11.m.0.m.1/__module.model.11.m.0.m.1.cv1/__module.model.11.m.0.m.1.cv1.conv\n",
            "\t\t    %1193 : int[] = prim::ListConstruct(%1134, %1134), scope: __module.model.11/__module.model.11.m.0/__module.model.11.m.0.m/__module.model.11.m.0.m.1/__module.model.11.m.0.m.1.cv1/__module.model.11.m.0.m.1.cv1.conv\n",
            "\t\t    %input.167 : Tensor = aten::_convolution(%input.165, %weight.363, %bias.361, %1190, %1191, %1192, %1133, %1193, %1135, %1133, %1132, %1132, %1132), scope: __module.model.11/__module.model.11.m.0/__module.model.11.m.0.m/__module.model.11.m.0.m.1/__module.model.11.m.0.m.1.cv1/__module.model.11.m.0.m.1.cv1.conv # /usr/local/lib/python3.11/dist-packages/torch/nn/modules/conv.py:549:0\n",
            "\t\t    %input.169 : Tensor = aten::silu_(%input.167), scope: __module.model.11/__module.model.11.m.0/__module.model.11.m.0.m/__module.model.11.m.0.m.1/__module.model.11.m.0.m.1.cv1/__module.model.21.cv3.2.1.1.act # /usr/local/lib/python3.11/dist-packages/torch/nn/functional.py:2379:0\n",
            "\t\t    %conv.125 : __torch__.torch.nn.modules.conv.Conv2d = prim::GetAttr[name=\"conv\"](%cv2.15)\n",
            "\t\t    %bias.363 : Tensor = prim::GetAttr[name=\"bias\"](%conv.125)\n",
            "\t\t    %weight.365 : Tensor = prim::GetAttr[name=\"weight\"](%conv.125)\n",
            "\t\t    %1199 : int[] = prim::ListConstruct(%1135, %1135), scope: __module.model.11/__module.model.11.m.0/__module.model.11.m.0.m/__module.model.11.m.0.m.1/__module.model.11.m.0.m.1.cv2/__module.model.11.m.0.m.1.cv2.conv\n",
            "\t\t    %1200 : int[] = prim::ListConstruct(%1135, %1135), scope: __module.model.11/__module.model.11.m.0/__module.model.11.m.0.m/__module.model.11.m.0.m.1/__module.model.11.m.0.m.1.cv2/__module.model.11.m.0.m.1.cv2.conv\n",
            "\t\t    %1201 : int[] = prim::ListConstruct(%1135, %1135), scope: __module.model.11/__module.model.11.m.0/__module.model.11.m.0.m/__module.model.11.m.0.m.1/__module.model.11.m.0.m.1.cv2/__module.model.11.m.0.m.1.cv2.conv\n",
            "\t\t    %1202 : int[] = prim::ListConstruct(%1134, %1134), scope: __module.model.11/__module.model.11.m.0/__module.model.11.m.0.m/__module.model.11.m.0.m.1/__module.model.11.m.0.m.1.cv2/__module.model.11.m.0.m.1.cv2.conv\n",
            "\t\t    %input.171 : Tensor = aten::_convolution(%input.169, %weight.365, %bias.363, %1199, %1200, %1201, %1133, %1202, %1135, %1133, %1132, %1132, %1132), scope: __module.model.11/__module.model.11.m.0/__module.model.11.m.0.m/__module.model.11.m.0.m.1/__module.model.11.m.0.m.1.cv2/__module.model.11.m.0.m.1.cv2.conv # /usr/local/lib/python3.11/dist-packages/torch/nn/modules/conv.py:549:0\n",
            "\t\t    %1204 : Tensor = aten::silu_(%input.171), scope: __module.model.11/__module.model.11.m.0/__module.model.11.m.0.m/__module.model.11.m.0.m.1/__module.model.11.m.0.m.1.cv2/__module.model.21.cv3.2.1.1.act # /usr/local/lib/python3.11/dist-packages/torch/nn/functional.py:2379:0\n",
            "\t\t    %1205 : Tensor = aten::add(%input.165, %1204, %1135), scope: __module.model.11/__module.model.11.m.0/__module.model.11.m.0.m/__module.model.11.m.0.m.1 # /content/yolov12/ultralytics/nn/modules/block.py:348:0\n",
            "\t\t    %conv.127 : __torch__.torch.nn.modules.conv.Conv2d = prim::GetAttr[name=\"conv\"](%cv2.17)\n",
            "\t\t    %bias.365 : Tensor = prim::GetAttr[name=\"bias\"](%conv.127)\n",
            "\t\t    %weight.367 : Tensor = prim::GetAttr[name=\"weight\"](%conv.127)\n",
            "\t\t    %1209 : int[] = prim::ListConstruct(%1135, %1135), scope: __module.model.11/__module.model.11.m.0/__module.model.11.m.0.cv2/__module.model.11.m.0.cv2.conv\n",
            "\t\t    %1210 : int[] = prim::ListConstruct(%1134, %1134), scope: __module.model.11/__module.model.11.m.0/__module.model.11.m.0.cv2/__module.model.11.m.0.cv2.conv\n",
            "\t\t    %1211 : int[] = prim::ListConstruct(%1135, %1135), scope: __module.model.11/__module.model.11.m.0/__module.model.11.m.0.cv2/__module.model.11.m.0.cv2.conv\n",
            "\t\t    %1212 : int[] = prim::ListConstruct(%1134, %1134), scope: __module.model.11/__module.model.11.m.0/__module.model.11.m.0.cv2/__module.model.11.m.0.cv2.conv\n",
            "\t\t    %input.173 : Tensor = aten::_convolution(%input.153, %weight.367, %bias.365, %1209, %1210, %1211, %1133, %1212, %1135, %1133, %1132, %1132, %1132), scope: __module.model.11/__module.model.11.m.0/__module.model.11.m.0.cv2/__module.model.11.m.0.cv2.conv # /usr/local/lib/python3.11/dist-packages/torch/nn/modules/conv.py:549:0\n",
            "\t\t    %1214 : Tensor = aten::silu_(%input.173), scope: __module.model.11/__module.model.11.m.0/__module.model.11.m.0.cv2/__module.model.21.cv3.2.1.1.act # /usr/local/lib/python3.11/dist-packages/torch/nn/functional.py:2379:0\n",
            "\t\t    %1215 : Tensor[] = prim::ListConstruct(%1205, %1214), scope: __module.model.11/__module.model.11.m.0\n",
            "\t\t    %input.175 : Tensor = aten::cat(%1215, %1135), scope: __module.model.11/__module.model.11.m.0 # /content/yolov12/ultralytics/nn/modules/block.py:264:0\n",
            "\t\t    %conv.129 : __torch__.torch.nn.modules.conv.Conv2d = prim::GetAttr[name=\"conv\"](%cv3.3)\n",
            "\t\t    %bias.367 : Tensor = prim::GetAttr[name=\"bias\"](%conv.129)\n",
            "\t\t    %weight.369 : Tensor = prim::GetAttr[name=\"weight\"](%conv.129)\n",
            "\t\t    %1220 : int[] = prim::ListConstruct(%1135, %1135), scope: __module.model.11/__module.model.11.m.0/__module.model.11.m.0.cv3/__module.model.11.m.0.cv3.conv\n",
            "\t\t    %1221 : int[] = prim::ListConstruct(%1134, %1134), scope: __module.model.11/__module.model.11.m.0/__module.model.11.m.0.cv3/__module.model.11.m.0.cv3.conv\n",
            "\t\t    %1222 : int[] = prim::ListConstruct(%1135, %1135), scope: __module.model.11/__module.model.11.m.0/__module.model.11.m.0.cv3/__module.model.11.m.0.cv3.conv\n",
            "\t\t    %1223 : int[] = prim::ListConstruct(%1134, %1134), scope: __module.model.11/__module.model.11.m.0/__module.model.11.m.0.cv3/__module.model.11.m.0.cv3.conv\n",
            "\t\t    %input.177 : Tensor = aten::_convolution(%input.175, %weight.369, %bias.367, %1220, %1221, %1222, %1133, %1223, %1135, %1133, %1132, %1132, %1132), scope: __module.model.11/__module.model.11.m.0/__module.model.11.m.0.cv3/__module.model.11.m.0.cv3.conv # /usr/local/lib/python3.11/dist-packages/torch/nn/modules/conv.py:549:0\n",
            "\t\t    %1225 : Tensor = aten::silu_(%input.177), scope: __module.model.11/__module.model.11.m.0/__module.model.11.m.0.cv3/__module.model.21.cv3.2.1.1.act # /usr/local/lib/python3.11/dist-packages/torch/nn/functional.py:2379:0\n",
            "\t\t    %1226 : Tensor[] = prim::ListConstruct(%input.153, %1225), scope: __module.model.11\n",
            "\t\t    %input.179 : Tensor = aten::cat(%1226, %1135), scope: __module.model.11 # /content/yolov12/ultralytics/nn/modules/block.py:1369:0\n",
            "\t\t    %conv.131 : __torch__.torch.nn.modules.conv.Conv2d = prim::GetAttr[name=\"conv\"](%cv2.19)\n",
            "\t\t    %bias.369 : Tensor = prim::GetAttr[name=\"bias\"](%conv.131)\n",
            "\t\t    %weight.371 : Tensor = prim::GetAttr[name=\"weight\"](%conv.131)\n",
            "\t\t    %1231 : int[] = prim::ListConstruct(%1135, %1135), scope: __module.model.11/__module.model.11.cv2/__module.model.11.cv2.conv\n",
            "\t\t    %1232 : int[] = prim::ListConstruct(%1134, %1134), scope: __module.model.11/__module.model.11.cv2/__module.model.11.cv2.conv\n",
            "\t\t    %1233 : int[] = prim::ListConstruct(%1135, %1135), scope: __module.model.11/__module.model.11.cv2/__module.model.11.cv2.conv\n",
            "\t\t    %1234 : int[] = prim::ListConstruct(%1134, %1134), scope: __module.model.11/__module.model.11.cv2/__module.model.11.cv2.conv\n",
            "\t\t    %input.181 : Tensor = aten::_convolution(%input.179, %weight.371, %bias.369, %1231, %1232, %1233, %1133, %1234, %1135, %1133, %1132, %1132, %1132), scope: __module.model.11/__module.model.11.cv2/__module.model.11.cv2.conv # /usr/local/lib/python3.11/dist-packages/torch/nn/modules/conv.py:549:0\n",
            "\t\t    %input.183 : Tensor = aten::silu_(%input.181), scope: __module.model.11/__module.model.11.cv2/__module.model.21.cv3.2.1.1.act # /usr/local/lib/python3.11/dist-packages/torch/nn/functional.py:2379:0\n",
            "\t\t    %1237 : float = prim::Constant[value=2.](), scope: __module.model.12 # /usr/local/lib/python3.11/dist-packages/torch/nn/functional.py:4536:0\n",
            "\t\t    %1238 : NoneType = prim::Constant(), scope: __module.model.12\n",
            "\t\t    %1239 : float[] = prim::ListConstruct(%1237, %1237), scope: __module.model.12\n",
            "\t\t    %1240 : Tensor = aten::upsample_nearest2d(%input.183, %1238, %1239), scope: __module.model.12 # /usr/local/lib/python3.11/dist-packages/torch/nn/functional.py:4536:0\n",
            "\t\t    %1241 : int = prim::Constant[value=1](), scope: __module.model.13 # /content/yolov12/ultralytics/nn/modules/conv.py:333:0\n",
            "\t\t    %1242 : Tensor[] = prim::ListConstruct(%1240, %input.43), scope: __module.model.13\n",
            "\t\t    %input.185 : Tensor = aten::cat(%1242, %1241), scope: __module.model.13 # /content/yolov12/ultralytics/nn/modules/conv.py:333:0\n",
            "\t\t    %1244 : bool = prim::Constant[value=1](), scope: __module.model.14/__module.model.14.cv1/__module.model.14.cv1.conv # /usr/local/lib/python3.11/dist-packages/torch/nn/modules/conv.py:549:0\n",
            "\t\t    %1245 : bool = prim::Constant[value=0](), scope: __module.model.14/__module.model.14.cv1/__module.model.14.cv1.conv # /usr/local/lib/python3.11/dist-packages/torch/nn/modules/conv.py:549:0\n",
            "\t\t    %1246 : int = prim::Constant[value=0](), scope: __module.model.14/__module.model.14.cv1/__module.model.14.cv1.conv # /usr/local/lib/python3.11/dist-packages/torch/nn/modules/conv.py:549:0\n",
            "\t\t    %1247 : int = prim::Constant[value=1](), scope: __module.model.14/__module.model.14.cv1/__module.model.14.cv1.conv # /usr/local/lib/python3.11/dist-packages/torch/nn/modules/conv.py:549:0\n",
            "\t\t    %cv2.27 : __torch__.ultralytics.nn.modules.conv.Conv = prim::GetAttr[name=\"cv2\"](%_14)\n",
            "\t\t    %m.19 : __torch__.torch.nn.modules.container.ModuleList = prim::GetAttr[name=\"m\"](%_14)\n",
            "\t\t    %_0.41 : __torch__.ultralytics.nn.modules.block.C3k = prim::GetAttr[name=\"0\"](%m.19)\n",
            "\t\t    %cv1.21 : __torch__.ultralytics.nn.modules.conv.Conv = prim::GetAttr[name=\"cv1\"](%_14)\n",
            "\t\t    %conv.133 : __torch__.torch.nn.modules.conv.Conv2d = prim::GetAttr[name=\"conv\"](%cv1.21)\n",
            "\t\t    %bias.371 : Tensor = prim::GetAttr[name=\"bias\"](%conv.133)\n",
            "\t\t    %weight.373 : Tensor = prim::GetAttr[name=\"weight\"](%conv.133)\n",
            "\t\t    %1255 : int[] = prim::ListConstruct(%1247, %1247), scope: __module.model.14/__module.model.14.cv1/__module.model.14.cv1.conv\n",
            "\t\t    %1256 : int[] = prim::ListConstruct(%1246, %1246), scope: __module.model.14/__module.model.14.cv1/__module.model.14.cv1.conv\n",
            "\t\t    %1257 : int[] = prim::ListConstruct(%1247, %1247), scope: __module.model.14/__module.model.14.cv1/__module.model.14.cv1.conv\n",
            "\t\t    %1258 : int[] = prim::ListConstruct(%1246, %1246), scope: __module.model.14/__module.model.14.cv1/__module.model.14.cv1.conv\n",
            "\t\t    %input.187 : Tensor = aten::_convolution(%input.185, %weight.373, %bias.371, %1255, %1256, %1257, %1245, %1258, %1247, %1245, %1244, %1244, %1244), scope: __module.model.14/__module.model.14.cv1/__module.model.14.cv1.conv # /usr/local/lib/python3.11/dist-packages/torch/nn/modules/conv.py:549:0\n",
            "\t\t    %input.189 : Tensor = aten::silu_(%input.187), scope: __module.model.14/__module.model.14.cv1/__module.model.21.cv3.2.1.1.act # /usr/local/lib/python3.11/dist-packages/torch/nn/functional.py:2379:0\n",
            "\t\t    %cv3.5 : __torch__.ultralytics.nn.modules.conv.Conv = prim::GetAttr[name=\"cv3\"](%_0.41)\n",
            "\t\t    %cv2.25 : __torch__.ultralytics.nn.modules.conv.Conv = prim::GetAttr[name=\"cv2\"](%_0.41)\n",
            "\t\t    %m.17 : __torch__.torch.nn.modules.container.Sequential = prim::GetAttr[name=\"m\"](%_0.41)\n",
            "\t\t    %cv1.23 : __torch__.ultralytics.nn.modules.conv.Conv = prim::GetAttr[name=\"cv1\"](%_0.41)\n",
            "\t\t    %conv.135 : __torch__.torch.nn.modules.conv.Conv2d = prim::GetAttr[name=\"conv\"](%cv1.23)\n",
            "\t\t    %bias.373 : Tensor = prim::GetAttr[name=\"bias\"](%conv.135)\n",
            "\t\t    %weight.375 : Tensor = prim::GetAttr[name=\"weight\"](%conv.135)\n",
            "\t\t    %1268 : int[] = prim::ListConstruct(%1247, %1247), scope: __module.model.14/__module.model.14.m.0/__module.model.14.m.0.cv1/__module.model.14.m.0.cv1.conv\n",
            "\t\t    %1269 : int[] = prim::ListConstruct(%1246, %1246), scope: __module.model.14/__module.model.14.m.0/__module.model.14.m.0.cv1/__module.model.14.m.0.cv1.conv\n",
            "\t\t    %1270 : int[] = prim::ListConstruct(%1247, %1247), scope: __module.model.14/__module.model.14.m.0/__module.model.14.m.0.cv1/__module.model.14.m.0.cv1.conv\n",
            "\t\t    %1271 : int[] = prim::ListConstruct(%1246, %1246), scope: __module.model.14/__module.model.14.m.0/__module.model.14.m.0.cv1/__module.model.14.m.0.cv1.conv\n",
            "\t\t    %input.191 : Tensor = aten::_convolution(%input.189, %weight.375, %bias.373, %1268, %1269, %1270, %1245, %1271, %1247, %1245, %1244, %1244, %1244), scope: __module.model.14/__module.model.14.m.0/__module.model.14.m.0.cv1/__module.model.14.m.0.cv1.conv # /usr/local/lib/python3.11/dist-packages/torch/nn/modules/conv.py:549:0\n",
            "\t\t    %input.193 : Tensor = aten::silu_(%input.191), scope: __module.model.14/__module.model.14.m.0/__module.model.14.m.0.cv1/__module.model.21.cv3.2.1.1.act # /usr/local/lib/python3.11/dist-packages/torch/nn/functional.py:2379:0\n",
            "\t\t    %_1.37 : __torch__.ultralytics.nn.modules.block.Bottleneck = prim::GetAttr[name=\"1\"](%m.17)\n",
            "\t\t    %_0.39 : __torch__.ultralytics.nn.modules.block.Bottleneck = prim::GetAttr[name=\"0\"](%m.17)\n",
            "\t\t    %cv2.21 : __torch__.ultralytics.nn.modules.conv.Conv = prim::GetAttr[name=\"cv2\"](%_0.39)\n",
            "\t\t    %cv1.25 : __torch__.ultralytics.nn.modules.conv.Conv = prim::GetAttr[name=\"cv1\"](%_0.39)\n",
            "\t\t    %conv.137 : __torch__.torch.nn.modules.conv.Conv2d = prim::GetAttr[name=\"conv\"](%cv1.25)\n",
            "\t\t    %bias.375 : Tensor = prim::GetAttr[name=\"bias\"](%conv.137)\n",
            "\t\t    %weight.377 : Tensor = prim::GetAttr[name=\"weight\"](%conv.137)\n",
            "\t\t    %1281 : int[] = prim::ListConstruct(%1247, %1247), scope: __module.model.14/__module.model.14.m.0/__module.model.14.m.0.m/__module.model.14.m.0.m.0/__module.model.14.m.0.m.0.cv1/__module.model.14.m.0.m.0.cv1.conv\n",
            "\t\t    %1282 : int[] = prim::ListConstruct(%1247, %1247), scope: __module.model.14/__module.model.14.m.0/__module.model.14.m.0.m/__module.model.14.m.0.m.0/__module.model.14.m.0.m.0.cv1/__module.model.14.m.0.m.0.cv1.conv\n",
            "\t\t    %1283 : int[] = prim::ListConstruct(%1247, %1247), scope: __module.model.14/__module.model.14.m.0/__module.model.14.m.0.m/__module.model.14.m.0.m.0/__module.model.14.m.0.m.0.cv1/__module.model.14.m.0.m.0.cv1.conv\n",
            "\t\t    %1284 : int[] = prim::ListConstruct(%1246, %1246), scope: __module.model.14/__module.model.14.m.0/__module.model.14.m.0.m/__module.model.14.m.0.m.0/__module.model.14.m.0.m.0.cv1/__module.model.14.m.0.m.0.cv1.conv\n",
            "\t\t    %input.195 : Tensor = aten::_convolution(%input.193, %weight.377, %bias.375, %1281, %1282, %1283, %1245, %1284, %1247, %1245, %1244, %1244, %1244), scope: __module.model.14/__module.model.14.m.0/__module.model.14.m.0.m/__module.model.14.m.0.m.0/__module.model.14.m.0.m.0.cv1/__module.model.14.m.0.m.0.cv1.conv # /usr/local/lib/python3.11/dist-packages/torch/nn/modules/conv.py:549:0\n",
            "\t\t    %input.197 : Tensor = aten::silu_(%input.195), scope: __module.model.14/__module.model.14.m.0/__module.model.14.m.0.m/__module.model.14.m.0.m.0/__module.model.14.m.0.m.0.cv1/__module.model.21.cv3.2.1.1.act # /usr/local/lib/python3.11/dist-packages/torch/nn/functional.py:2379:0\n",
            "\t\t    %conv.139 : __torch__.torch.nn.modules.conv.Conv2d = prim::GetAttr[name=\"conv\"](%cv2.21)\n",
            "\t\t    %bias.377 : Tensor = prim::GetAttr[name=\"bias\"](%conv.139)\n",
            "\t\t    %weight.379 : Tensor = prim::GetAttr[name=\"weight\"](%conv.139)\n",
            "\t\t    %1290 : int[] = prim::ListConstruct(%1247, %1247), scope: __module.model.14/__module.model.14.m.0/__module.model.14.m.0.m/__module.model.14.m.0.m.0/__module.model.14.m.0.m.0.cv2/__module.model.14.m.0.m.0.cv2.conv\n",
            "\t\t    %1291 : int[] = prim::ListConstruct(%1247, %1247), scope: __module.model.14/__module.model.14.m.0/__module.model.14.m.0.m/__module.model.14.m.0.m.0/__module.model.14.m.0.m.0.cv2/__module.model.14.m.0.m.0.cv2.conv\n",
            "\t\t    %1292 : int[] = prim::ListConstruct(%1247, %1247), scope: __module.model.14/__module.model.14.m.0/__module.model.14.m.0.m/__module.model.14.m.0.m.0/__module.model.14.m.0.m.0.cv2/__module.model.14.m.0.m.0.cv2.conv\n",
            "\t\t    %1293 : int[] = prim::ListConstruct(%1246, %1246), scope: __module.model.14/__module.model.14.m.0/__module.model.14.m.0.m/__module.model.14.m.0.m.0/__module.model.14.m.0.m.0.cv2/__module.model.14.m.0.m.0.cv2.conv\n",
            "\t\t    %input.199 : Tensor = aten::_convolution(%input.197, %weight.379, %bias.377, %1290, %1291, %1292, %1245, %1293, %1247, %1245, %1244, %1244, %1244), scope: __module.model.14/__module.model.14.m.0/__module.model.14.m.0.m/__module.model.14.m.0.m.0/__module.model.14.m.0.m.0.cv2/__module.model.14.m.0.m.0.cv2.conv # /usr/local/lib/python3.11/dist-packages/torch/nn/modules/conv.py:549:0\n",
            "\t\t    %1295 : Tensor = aten::silu_(%input.199), scope: __module.model.14/__module.model.14.m.0/__module.model.14.m.0.m/__module.model.14.m.0.m.0/__module.model.14.m.0.m.0.cv2/__module.model.21.cv3.2.1.1.act # /usr/local/lib/python3.11/dist-packages/torch/nn/functional.py:2379:0\n",
            "\t\t    %input.201 : Tensor = aten::add(%input.193, %1295, %1247), scope: __module.model.14/__module.model.14.m.0/__module.model.14.m.0.m/__module.model.14.m.0.m.0 # /content/yolov12/ultralytics/nn/modules/block.py:348:0\n",
            "\t\t    %cv2.23 : __torch__.ultralytics.nn.modules.conv.Conv = prim::GetAttr[name=\"cv2\"](%_1.37)\n",
            "\t\t    %cv1.27 : __torch__.ultralytics.nn.modules.conv.Conv = prim::GetAttr[name=\"cv1\"](%_1.37)\n",
            "\t\t    %conv.141 : __torch__.torch.nn.modules.conv.Conv2d = prim::GetAttr[name=\"conv\"](%cv1.27)\n",
            "\t\t    %bias.379 : Tensor = prim::GetAttr[name=\"bias\"](%conv.141)\n",
            "\t\t    %weight.381 : Tensor = prim::GetAttr[name=\"weight\"](%conv.141)\n",
            "\t\t    %1302 : int[] = prim::ListConstruct(%1247, %1247), scope: __module.model.14/__module.model.14.m.0/__module.model.14.m.0.m/__module.model.14.m.0.m.1/__module.model.14.m.0.m.1.cv1/__module.model.14.m.0.m.1.cv1.conv\n",
            "\t\t    %1303 : int[] = prim::ListConstruct(%1247, %1247), scope: __module.model.14/__module.model.14.m.0/__module.model.14.m.0.m/__module.model.14.m.0.m.1/__module.model.14.m.0.m.1.cv1/__module.model.14.m.0.m.1.cv1.conv\n",
            "\t\t    %1304 : int[] = prim::ListConstruct(%1247, %1247), scope: __module.model.14/__module.model.14.m.0/__module.model.14.m.0.m/__module.model.14.m.0.m.1/__module.model.14.m.0.m.1.cv1/__module.model.14.m.0.m.1.cv1.conv\n",
            "\t\t    %1305 : int[] = prim::ListConstruct(%1246, %1246), scope: __module.model.14/__module.model.14.m.0/__module.model.14.m.0.m/__module.model.14.m.0.m.1/__module.model.14.m.0.m.1.cv1/__module.model.14.m.0.m.1.cv1.conv\n",
            "\t\t    %input.203 : Tensor = aten::_convolution(%input.201, %weight.381, %bias.379, %1302, %1303, %1304, %1245, %1305, %1247, %1245, %1244, %1244, %1244), scope: __module.model.14/__module.model.14.m.0/__module.model.14.m.0.m/__module.model.14.m.0.m.1/__module.model.14.m.0.m.1.cv1/__module.model.14.m.0.m.1.cv1.conv # /usr/local/lib/python3.11/dist-packages/torch/nn/modules/conv.py:549:0\n",
            "\t\t    %input.205 : Tensor = aten::silu_(%input.203), scope: __module.model.14/__module.model.14.m.0/__module.model.14.m.0.m/__module.model.14.m.0.m.1/__module.model.14.m.0.m.1.cv1/__module.model.21.cv3.2.1.1.act # /usr/local/lib/python3.11/dist-packages/torch/nn/functional.py:2379:0\n",
            "\t\t    %conv.143 : __torch__.torch.nn.modules.conv.Conv2d = prim::GetAttr[name=\"conv\"](%cv2.23)\n",
            "\t\t    %bias.381 : Tensor = prim::GetAttr[name=\"bias\"](%conv.143)\n",
            "\t\t    %weight.383 : Tensor = prim::GetAttr[name=\"weight\"](%conv.143)\n",
            "\t\t    %1311 : int[] = prim::ListConstruct(%1247, %1247), scope: __module.model.14/__module.model.14.m.0/__module.model.14.m.0.m/__module.model.14.m.0.m.1/__module.model.14.m.0.m.1.cv2/__module.model.14.m.0.m.1.cv2.conv\n",
            "\t\t    %1312 : int[] = prim::ListConstruct(%1247, %1247), scope: __module.model.14/__module.model.14.m.0/__module.model.14.m.0.m/__module.model.14.m.0.m.1/__module.model.14.m.0.m.1.cv2/__module.model.14.m.0.m.1.cv2.conv\n",
            "\t\t    %1313 : int[] = prim::ListConstruct(%1247, %1247), scope: __module.model.14/__module.model.14.m.0/__module.model.14.m.0.m/__module.model.14.m.0.m.1/__module.model.14.m.0.m.1.cv2/__module.model.14.m.0.m.1.cv2.conv\n",
            "\t\t    %1314 : int[] = prim::ListConstruct(%1246, %1246), scope: __module.model.14/__module.model.14.m.0/__module.model.14.m.0.m/__module.model.14.m.0.m.1/__module.model.14.m.0.m.1.cv2/__module.model.14.m.0.m.1.cv2.conv\n",
            "\t\t    %input.207 : Tensor = aten::_convolution(%input.205, %weight.383, %bias.381, %1311, %1312, %1313, %1245, %1314, %1247, %1245, %1244, %1244, %1244), scope: __module.model.14/__module.model.14.m.0/__module.model.14.m.0.m/__module.model.14.m.0.m.1/__module.model.14.m.0.m.1.cv2/__module.model.14.m.0.m.1.cv2.conv # /usr/local/lib/python3.11/dist-packages/torch/nn/modules/conv.py:549:0\n",
            "\t\t    %1316 : Tensor = aten::silu_(%input.207), scope: __module.model.14/__module.model.14.m.0/__module.model.14.m.0.m/__module.model.14.m.0.m.1/__module.model.14.m.0.m.1.cv2/__module.model.21.cv3.2.1.1.act # /usr/local/lib/python3.11/dist-packages/torch/nn/functional.py:2379:0\n",
            "\t\t    %1317 : Tensor = aten::add(%input.201, %1316, %1247), scope: __module.model.14/__module.model.14.m.0/__module.model.14.m.0.m/__module.model.14.m.0.m.1 # /content/yolov12/ultralytics/nn/modules/block.py:348:0\n",
            "\t\t    %conv.145 : __torch__.torch.nn.modules.conv.Conv2d = prim::GetAttr[name=\"conv\"](%cv2.25)\n",
            "\t\t    %bias.383 : Tensor = prim::GetAttr[name=\"bias\"](%conv.145)\n",
            "\t\t    %weight.385 : Tensor = prim::GetAttr[name=\"weight\"](%conv.145)\n",
            "\t\t    %1321 : int[] = prim::ListConstruct(%1247, %1247), scope: __module.model.14/__module.model.14.m.0/__module.model.14.m.0.cv2/__module.model.14.m.0.cv2.conv\n",
            "\t\t    %1322 : int[] = prim::ListConstruct(%1246, %1246), scope: __module.model.14/__module.model.14.m.0/__module.model.14.m.0.cv2/__module.model.14.m.0.cv2.conv\n",
            "\t\t    %1323 : int[] = prim::ListConstruct(%1247, %1247), scope: __module.model.14/__module.model.14.m.0/__module.model.14.m.0.cv2/__module.model.14.m.0.cv2.conv\n",
            "\t\t    %1324 : int[] = prim::ListConstruct(%1246, %1246), scope: __module.model.14/__module.model.14.m.0/__module.model.14.m.0.cv2/__module.model.14.m.0.cv2.conv\n",
            "\t\t    %input.209 : Tensor = aten::_convolution(%input.189, %weight.385, %bias.383, %1321, %1322, %1323, %1245, %1324, %1247, %1245, %1244, %1244, %1244), scope: __module.model.14/__module.model.14.m.0/__module.model.14.m.0.cv2/__module.model.14.m.0.cv2.conv # /usr/local/lib/python3.11/dist-packages/torch/nn/modules/conv.py:549:0\n",
            "\t\t    %1326 : Tensor = aten::silu_(%input.209), scope: __module.model.14/__module.model.14.m.0/__module.model.14.m.0.cv2/__module.model.21.cv3.2.1.1.act # /usr/local/lib/python3.11/dist-packages/torch/nn/functional.py:2379:0\n",
            "\t\t    %1327 : Tensor[] = prim::ListConstruct(%1317, %1326), scope: __module.model.14/__module.model.14.m.0\n",
            "\t\t    %input.211 : Tensor = aten::cat(%1327, %1247), scope: __module.model.14/__module.model.14.m.0 # /content/yolov12/ultralytics/nn/modules/block.py:264:0\n",
            "\t\t    %conv.147 : __torch__.torch.nn.modules.conv.Conv2d = prim::GetAttr[name=\"conv\"](%cv3.5)\n",
            "\t\t    %bias.385 : Tensor = prim::GetAttr[name=\"bias\"](%conv.147)\n",
            "\t\t    %weight.387 : Tensor = prim::GetAttr[name=\"weight\"](%conv.147)\n",
            "\t\t    %1332 : int[] = prim::ListConstruct(%1247, %1247), scope: __module.model.14/__module.model.14.m.0/__module.model.14.m.0.cv3/__module.model.14.m.0.cv3.conv\n",
            "\t\t    %1333 : int[] = prim::ListConstruct(%1246, %1246), scope: __module.model.14/__module.model.14.m.0/__module.model.14.m.0.cv3/__module.model.14.m.0.cv3.conv\n",
            "\t\t    %1334 : int[] = prim::ListConstruct(%1247, %1247), scope: __module.model.14/__module.model.14.m.0/__module.model.14.m.0.cv3/__module.model.14.m.0.cv3.conv\n",
            "\t\t    %1335 : int[] = prim::ListConstruct(%1246, %1246), scope: __module.model.14/__module.model.14.m.0/__module.model.14.m.0.cv3/__module.model.14.m.0.cv3.conv\n",
            "\t\t    %input.213 : Tensor = aten::_convolution(%input.211, %weight.387, %bias.385, %1332, %1333, %1334, %1245, %1335, %1247, %1245, %1244, %1244, %1244), scope: __module.model.14/__module.model.14.m.0/__module.model.14.m.0.cv3/__module.model.14.m.0.cv3.conv # /usr/local/lib/python3.11/dist-packages/torch/nn/modules/conv.py:549:0\n",
            "\t\t    %1337 : Tensor = aten::silu_(%input.213), scope: __module.model.14/__module.model.14.m.0/__module.model.14.m.0.cv3/__module.model.21.cv3.2.1.1.act # /usr/local/lib/python3.11/dist-packages/torch/nn/functional.py:2379:0\n",
            "\t\t    %1338 : Tensor[] = prim::ListConstruct(%input.189, %1337), scope: __module.model.14\n",
            "\t\t    %input.215 : Tensor = aten::cat(%1338, %1247), scope: __module.model.14 # /content/yolov12/ultralytics/nn/modules/block.py:1369:0\n",
            "\t\t    %conv.149 : __torch__.torch.nn.modules.conv.Conv2d = prim::GetAttr[name=\"conv\"](%cv2.27)\n",
            "\t\t    %bias.387 : Tensor = prim::GetAttr[name=\"bias\"](%conv.149)\n",
            "\t\t    %weight.389 : Tensor = prim::GetAttr[name=\"weight\"](%conv.149)\n",
            "\t\t    %1343 : int[] = prim::ListConstruct(%1247, %1247), scope: __module.model.14/__module.model.14.cv2/__module.model.14.cv2.conv\n",
            "\t\t    %1344 : int[] = prim::ListConstruct(%1246, %1246), scope: __module.model.14/__module.model.14.cv2/__module.model.14.cv2.conv\n",
            "\t\t    %1345 : int[] = prim::ListConstruct(%1247, %1247), scope: __module.model.14/__module.model.14.cv2/__module.model.14.cv2.conv\n",
            "\t\t    %1346 : int[] = prim::ListConstruct(%1246, %1246), scope: __module.model.14/__module.model.14.cv2/__module.model.14.cv2.conv\n",
            "\t\t    %input.217 : Tensor = aten::_convolution(%input.215, %weight.389, %bias.387, %1343, %1344, %1345, %1245, %1346, %1247, %1245, %1244, %1244, %1244), scope: __module.model.14/__module.model.14.cv2/__module.model.14.cv2.conv # /usr/local/lib/python3.11/dist-packages/torch/nn/modules/conv.py:549:0\n",
            "\t\t    %input.219 : Tensor = aten::silu_(%input.217), scope: __module.model.14/__module.model.14.cv2/__module.model.21.cv3.2.1.1.act # /usr/local/lib/python3.11/dist-packages/torch/nn/functional.py:2379:0\n",
            "\t\t    %1349 : int = prim::Constant[value=2](), scope: __module.model.15/__module.model.15.conv # /usr/local/lib/python3.11/dist-packages/torch/nn/modules/conv.py:549:0\n",
            "\t\t    %1350 : int = prim::Constant[value=1](), scope: __module.model.15/__module.model.15.conv # /usr/local/lib/python3.11/dist-packages/torch/nn/modules/conv.py:549:0\n",
            "\t\t    %1351 : bool = prim::Constant[value=0](), scope: __module.model.15/__module.model.15.conv # /usr/local/lib/python3.11/dist-packages/torch/nn/modules/conv.py:549:0\n",
            "\t\t    %1352 : int = prim::Constant[value=0](), scope: __module.model.15/__module.model.15.conv # /usr/local/lib/python3.11/dist-packages/torch/nn/modules/conv.py:549:0\n",
            "\t\t    %1353 : bool = prim::Constant[value=1](), scope: __module.model.15/__module.model.15.conv # /usr/local/lib/python3.11/dist-packages/torch/nn/modules/conv.py:549:0\n",
            "\t\t    %conv.151 : __torch__.torch.nn.modules.conv.Conv2d = prim::GetAttr[name=\"conv\"](%_15)\n",
            "\t\t    %bias.389 : Tensor = prim::GetAttr[name=\"bias\"](%conv.151)\n",
            "\t\t    %weight.391 : Tensor = prim::GetAttr[name=\"weight\"](%conv.151)\n",
            "\t\t    %1357 : int[] = prim::ListConstruct(%1349, %1349), scope: __module.model.15/__module.model.15.conv\n",
            "\t\t    %1358 : int[] = prim::ListConstruct(%1350, %1350), scope: __module.model.15/__module.model.15.conv\n",
            "\t\t    %1359 : int[] = prim::ListConstruct(%1350, %1350), scope: __module.model.15/__module.model.15.conv\n",
            "\t\t    %1360 : int[] = prim::ListConstruct(%1352, %1352), scope: __module.model.15/__module.model.15.conv\n",
            "\t\t    %input.221 : Tensor = aten::_convolution(%input.219, %weight.391, %bias.389, %1357, %1358, %1359, %1351, %1360, %1350, %1351, %1353, %1353, %1353), scope: __module.model.15/__module.model.15.conv # /usr/local/lib/python3.11/dist-packages/torch/nn/modules/conv.py:549:0\n",
            "\t\t    %1362 : Tensor = aten::silu_(%input.221), scope: __module.model.15/__module.model.21.cv3.2.1.1.act # /usr/local/lib/python3.11/dist-packages/torch/nn/functional.py:2379:0\n",
            "\t\t    %1363 : int = prim::Constant[value=1](), scope: __module.model.16 # /content/yolov12/ultralytics/nn/modules/conv.py:333:0\n",
            "\t\t    %1364 : Tensor[] = prim::ListConstruct(%1362, %input.183), scope: __module.model.16\n",
            "\t\t    %input.223 : Tensor = aten::cat(%1364, %1363), scope: __module.model.16 # /content/yolov12/ultralytics/nn/modules/conv.py:333:0\n",
            "\t\t    %1366 : bool = prim::Constant[value=1](), scope: __module.model.17/__module.model.17.cv1/__module.model.17.cv1.conv # /usr/local/lib/python3.11/dist-packages/torch/nn/modules/conv.py:549:0\n",
            "\t\t    %1367 : bool = prim::Constant[value=0](), scope: __module.model.17/__module.model.17.cv1/__module.model.17.cv1.conv # /usr/local/lib/python3.11/dist-packages/torch/nn/modules/conv.py:549:0\n",
            "\t\t    %1368 : int = prim::Constant[value=0](), scope: __module.model.17/__module.model.17.cv1/__module.model.17.cv1.conv # /usr/local/lib/python3.11/dist-packages/torch/nn/modules/conv.py:549:0\n",
            "\t\t    %1369 : int = prim::Constant[value=1](), scope: __module.model.17/__module.model.17.cv1/__module.model.17.cv1.conv # /usr/local/lib/python3.11/dist-packages/torch/nn/modules/conv.py:549:0\n",
            "\t\t    %cv2.35 : __torch__.ultralytics.nn.modules.conv.Conv = prim::GetAttr[name=\"cv2\"](%_17)\n",
            "\t\t    %m.23 : __torch__.torch.nn.modules.container.ModuleList = prim::GetAttr[name=\"m\"](%_17)\n",
            "\t\t    %_0.45 : __torch__.ultralytics.nn.modules.block.C3k = prim::GetAttr[name=\"0\"](%m.23)\n",
            "\t\t    %cv1.29 : __torch__.ultralytics.nn.modules.conv.Conv = prim::GetAttr[name=\"cv1\"](%_17)\n",
            "\t\t    %conv.153 : __torch__.torch.nn.modules.conv.Conv2d = prim::GetAttr[name=\"conv\"](%cv1.29)\n",
            "\t\t    %bias.391 : Tensor = prim::GetAttr[name=\"bias\"](%conv.153)\n",
            "\t\t    %weight.393 : Tensor = prim::GetAttr[name=\"weight\"](%conv.153)\n",
            "\t\t    %1377 : int[] = prim::ListConstruct(%1369, %1369), scope: __module.model.17/__module.model.17.cv1/__module.model.17.cv1.conv\n",
            "\t\t    %1378 : int[] = prim::ListConstruct(%1368, %1368), scope: __module.model.17/__module.model.17.cv1/__module.model.17.cv1.conv\n",
            "\t\t    %1379 : int[] = prim::ListConstruct(%1369, %1369), scope: __module.model.17/__module.model.17.cv1/__module.model.17.cv1.conv\n",
            "\t\t    %1380 : int[] = prim::ListConstruct(%1368, %1368), scope: __module.model.17/__module.model.17.cv1/__module.model.17.cv1.conv\n",
            "\t\t    %input.225 : Tensor = aten::_convolution(%input.223, %weight.393, %bias.391, %1377, %1378, %1379, %1367, %1380, %1369, %1367, %1366, %1366, %1366), scope: __module.model.17/__module.model.17.cv1/__module.model.17.cv1.conv # /usr/local/lib/python3.11/dist-packages/torch/nn/modules/conv.py:549:0\n",
            "\t\t    %input.227 : Tensor = aten::silu_(%input.225), scope: __module.model.17/__module.model.17.cv1/__module.model.21.cv3.2.1.1.act # /usr/local/lib/python3.11/dist-packages/torch/nn/functional.py:2379:0\n",
            "\t\t    %cv3.7 : __torch__.ultralytics.nn.modules.conv.Conv = prim::GetAttr[name=\"cv3\"](%_0.45)\n",
            "\t\t    %cv2.33 : __torch__.ultralytics.nn.modules.conv.Conv = prim::GetAttr[name=\"cv2\"](%_0.45)\n",
            "\t\t    %m.21 : __torch__.torch.nn.modules.container.Sequential = prim::GetAttr[name=\"m\"](%_0.45)\n",
            "\t\t    %cv1.31 : __torch__.ultralytics.nn.modules.conv.Conv = prim::GetAttr[name=\"cv1\"](%_0.45)\n",
            "\t\t    %conv.155 : __torch__.torch.nn.modules.conv.Conv2d = prim::GetAttr[name=\"conv\"](%cv1.31)\n",
            "\t\t    %bias.393 : Tensor = prim::GetAttr[name=\"bias\"](%conv.155)\n",
            "\t\t    %weight.395 : Tensor = prim::GetAttr[name=\"weight\"](%conv.155)\n",
            "\t\t    %1390 : int[] = prim::ListConstruct(%1369, %1369), scope: __module.model.17/__module.model.17.m.0/__module.model.17.m.0.cv1/__module.model.17.m.0.cv1.conv\n",
            "\t\t    %1391 : int[] = prim::ListConstruct(%1368, %1368), scope: __module.model.17/__module.model.17.m.0/__module.model.17.m.0.cv1/__module.model.17.m.0.cv1.conv\n",
            "\t\t    %1392 : int[] = prim::ListConstruct(%1369, %1369), scope: __module.model.17/__module.model.17.m.0/__module.model.17.m.0.cv1/__module.model.17.m.0.cv1.conv\n",
            "\t\t    %1393 : int[] = prim::ListConstruct(%1368, %1368), scope: __module.model.17/__module.model.17.m.0/__module.model.17.m.0.cv1/__module.model.17.m.0.cv1.conv\n",
            "\t\t    %input.229 : Tensor = aten::_convolution(%input.227, %weight.395, %bias.393, %1390, %1391, %1392, %1367, %1393, %1369, %1367, %1366, %1366, %1366), scope: __module.model.17/__module.model.17.m.0/__module.model.17.m.0.cv1/__module.model.17.m.0.cv1.conv # /usr/local/lib/python3.11/dist-packages/torch/nn/modules/conv.py:549:0\n",
            "\t\t    %input.231 : Tensor = aten::silu_(%input.229), scope: __module.model.17/__module.model.17.m.0/__module.model.17.m.0.cv1/__module.model.21.cv3.2.1.1.act # /usr/local/lib/python3.11/dist-packages/torch/nn/functional.py:2379:0\n",
            "\t\t    %_1.39 : __torch__.ultralytics.nn.modules.block.Bottleneck = prim::GetAttr[name=\"1\"](%m.21)\n",
            "\t\t    %_0.43 : __torch__.ultralytics.nn.modules.block.Bottleneck = prim::GetAttr[name=\"0\"](%m.21)\n",
            "\t\t    %cv2.29 : __torch__.ultralytics.nn.modules.conv.Conv = prim::GetAttr[name=\"cv2\"](%_0.43)\n",
            "\t\t    %cv1.33 : __torch__.ultralytics.nn.modules.conv.Conv = prim::GetAttr[name=\"cv1\"](%_0.43)\n",
            "\t\t    %conv.157 : __torch__.torch.nn.modules.conv.Conv2d = prim::GetAttr[name=\"conv\"](%cv1.33)\n",
            "\t\t    %bias.395 : Tensor = prim::GetAttr[name=\"bias\"](%conv.157)\n",
            "\t\t    %weight.397 : Tensor = prim::GetAttr[name=\"weight\"](%conv.157)\n",
            "\t\t    %1403 : int[] = prim::ListConstruct(%1369, %1369), scope: __module.model.17/__module.model.17.m.0/__module.model.17.m.0.m/__module.model.17.m.0.m.0/__module.model.17.m.0.m.0.cv1/__module.model.17.m.0.m.0.cv1.conv\n",
            "\t\t    %1404 : int[] = prim::ListConstruct(%1369, %1369), scope: __module.model.17/__module.model.17.m.0/__module.model.17.m.0.m/__module.model.17.m.0.m.0/__module.model.17.m.0.m.0.cv1/__module.model.17.m.0.m.0.cv1.conv\n",
            "\t\t    %1405 : int[] = prim::ListConstruct(%1369, %1369), scope: __module.model.17/__module.model.17.m.0/__module.model.17.m.0.m/__module.model.17.m.0.m.0/__module.model.17.m.0.m.0.cv1/__module.model.17.m.0.m.0.cv1.conv\n",
            "\t\t    %1406 : int[] = prim::ListConstruct(%1368, %1368), scope: __module.model.17/__module.model.17.m.0/__module.model.17.m.0.m/__module.model.17.m.0.m.0/__module.model.17.m.0.m.0.cv1/__module.model.17.m.0.m.0.cv1.conv\n",
            "\t\t    %input.233 : Tensor = aten::_convolution(%input.231, %weight.397, %bias.395, %1403, %1404, %1405, %1367, %1406, %1369, %1367, %1366, %1366, %1366), scope: __module.model.17/__module.model.17.m.0/__module.model.17.m.0.m/__module.model.17.m.0.m.0/__module.model.17.m.0.m.0.cv1/__module.model.17.m.0.m.0.cv1.conv # /usr/local/lib/python3.11/dist-packages/torch/nn/modules/conv.py:549:0\n",
            "\t\t    %input.235 : Tensor = aten::silu_(%input.233), scope: __module.model.17/__module.model.17.m.0/__module.model.17.m.0.m/__module.model.17.m.0.m.0/__module.model.17.m.0.m.0.cv1/__module.model.21.cv3.2.1.1.act # /usr/local/lib/python3.11/dist-packages/torch/nn/functional.py:2379:0\n",
            "\t\t    %conv.159 : __torch__.torch.nn.modules.conv.Conv2d = prim::GetAttr[name=\"conv\"](%cv2.29)\n",
            "\t\t    %bias.397 : Tensor = prim::GetAttr[name=\"bias\"](%conv.159)\n",
            "\t\t    %weight.399 : Tensor = prim::GetAttr[name=\"weight\"](%conv.159)\n",
            "\t\t    %1412 : int[] = prim::ListConstruct(%1369, %1369), scope: __module.model.17/__module.model.17.m.0/__module.model.17.m.0.m/__module.model.17.m.0.m.0/__module.model.17.m.0.m.0.cv2/__module.model.17.m.0.m.0.cv2.conv\n",
            "\t\t    %1413 : int[] = prim::ListConstruct(%1369, %1369), scope: __module.model.17/__module.model.17.m.0/__module.model.17.m.0.m/__module.model.17.m.0.m.0/__module.model.17.m.0.m.0.cv2/__module.model.17.m.0.m.0.cv2.conv\n",
            "\t\t    %1414 : int[] = prim::ListConstruct(%1369, %1369), scope: __module.model.17/__module.model.17.m.0/__module.model.17.m.0.m/__module.model.17.m.0.m.0/__module.model.17.m.0.m.0.cv2/__module.model.17.m.0.m.0.cv2.conv\n",
            "\t\t    %1415 : int[] = prim::ListConstruct(%1368, %1368), scope: __module.model.17/__module.model.17.m.0/__module.model.17.m.0.m/__module.model.17.m.0.m.0/__module.model.17.m.0.m.0.cv2/__module.model.17.m.0.m.0.cv2.conv\n",
            "\t\t    %input.237 : Tensor = aten::_convolution(%input.235, %weight.399, %bias.397, %1412, %1413, %1414, %1367, %1415, %1369, %1367, %1366, %1366, %1366), scope: __module.model.17/__module.model.17.m.0/__module.model.17.m.0.m/__module.model.17.m.0.m.0/__module.model.17.m.0.m.0.cv2/__module.model.17.m.0.m.0.cv2.conv # /usr/local/lib/python3.11/dist-packages/torch/nn/modules/conv.py:549:0\n",
            "\t\t    %1417 : Tensor = aten::silu_(%input.237), scope: __module.model.17/__module.model.17.m.0/__module.model.17.m.0.m/__module.model.17.m.0.m.0/__module.model.17.m.0.m.0.cv2/__module.model.21.cv3.2.1.1.act # /usr/local/lib/python3.11/dist-packages/torch/nn/functional.py:2379:0\n",
            "\t\t    %input.239 : Tensor = aten::add(%input.231, %1417, %1369), scope: __module.model.17/__module.model.17.m.0/__module.model.17.m.0.m/__module.model.17.m.0.m.0 # /content/yolov12/ultralytics/nn/modules/block.py:348:0\n",
            "\t\t    %cv2.31 : __torch__.ultralytics.nn.modules.conv.Conv = prim::GetAttr[name=\"cv2\"](%_1.39)\n",
            "\t\t    %cv1.35 : __torch__.ultralytics.nn.modules.conv.Conv = prim::GetAttr[name=\"cv1\"](%_1.39)\n",
            "\t\t    %conv.161 : __torch__.torch.nn.modules.conv.Conv2d = prim::GetAttr[name=\"conv\"](%cv1.35)\n",
            "\t\t    %bias.399 : Tensor = prim::GetAttr[name=\"bias\"](%conv.161)\n",
            "\t\t    %weight.401 : Tensor = prim::GetAttr[name=\"weight\"](%conv.161)\n",
            "\t\t    %1424 : int[] = prim::ListConstruct(%1369, %1369), scope: __module.model.17/__module.model.17.m.0/__module.model.17.m.0.m/__module.model.17.m.0.m.1/__module.model.17.m.0.m.1.cv1/__module.model.17.m.0.m.1.cv1.conv\n",
            "\t\t    %1425 : int[] = prim::ListConstruct(%1369, %1369), scope: __module.model.17/__module.model.17.m.0/__module.model.17.m.0.m/__module.model.17.m.0.m.1/__module.model.17.m.0.m.1.cv1/__module.model.17.m.0.m.1.cv1.conv\n",
            "\t\t    %1426 : int[] = prim::ListConstruct(%1369, %1369), scope: __module.model.17/__module.model.17.m.0/__module.model.17.m.0.m/__module.model.17.m.0.m.1/__module.model.17.m.0.m.1.cv1/__module.model.17.m.0.m.1.cv1.conv\n",
            "\t\t    %1427 : int[] = prim::ListConstruct(%1368, %1368), scope: __module.model.17/__module.model.17.m.0/__module.model.17.m.0.m/__module.model.17.m.0.m.1/__module.model.17.m.0.m.1.cv1/__module.model.17.m.0.m.1.cv1.conv\n",
            "\t\t    %input.241 : Tensor = aten::_convolution(%input.239, %weight.401, %bias.399, %1424, %1425, %1426, %1367, %1427, %1369, %1367, %1366, %1366, %1366), scope: __module.model.17/__module.model.17.m.0/__module.model.17.m.0.m/__module.model.17.m.0.m.1/__module.model.17.m.0.m.1.cv1/__module.model.17.m.0.m.1.cv1.conv # /usr/local/lib/python3.11/dist-packages/torch/nn/modules/conv.py:549:0\n",
            "\t\t    %input.243 : Tensor = aten::silu_(%input.241), scope: __module.model.17/__module.model.17.m.0/__module.model.17.m.0.m/__module.model.17.m.0.m.1/__module.model.17.m.0.m.1.cv1/__module.model.21.cv3.2.1.1.act # /usr/local/lib/python3.11/dist-packages/torch/nn/functional.py:2379:0\n",
            "\t\t    %conv.163 : __torch__.torch.nn.modules.conv.Conv2d = prim::GetAttr[name=\"conv\"](%cv2.31)\n",
            "\t\t    %bias.401 : Tensor = prim::GetAttr[name=\"bias\"](%conv.163)\n",
            "\t\t    %weight.403 : Tensor = prim::GetAttr[name=\"weight\"](%conv.163)\n",
            "\t\t    %1433 : int[] = prim::ListConstruct(%1369, %1369), scope: __module.model.17/__module.model.17.m.0/__module.model.17.m.0.m/__module.model.17.m.0.m.1/__module.model.17.m.0.m.1.cv2/__module.model.17.m.0.m.1.cv2.conv\n",
            "\t\t    %1434 : int[] = prim::ListConstruct(%1369, %1369), scope: __module.model.17/__module.model.17.m.0/__module.model.17.m.0.m/__module.model.17.m.0.m.1/__module.model.17.m.0.m.1.cv2/__module.model.17.m.0.m.1.cv2.conv\n",
            "\t\t    %1435 : int[] = prim::ListConstruct(%1369, %1369), scope: __module.model.17/__module.model.17.m.0/__module.model.17.m.0.m/__module.model.17.m.0.m.1/__module.model.17.m.0.m.1.cv2/__module.model.17.m.0.m.1.cv2.conv\n",
            "\t\t    %1436 : int[] = prim::ListConstruct(%1368, %1368), scope: __module.model.17/__module.model.17.m.0/__module.model.17.m.0.m/__module.model.17.m.0.m.1/__module.model.17.m.0.m.1.cv2/__module.model.17.m.0.m.1.cv2.conv\n",
            "\t\t    %input.245 : Tensor = aten::_convolution(%input.243, %weight.403, %bias.401, %1433, %1434, %1435, %1367, %1436, %1369, %1367, %1366, %1366, %1366), scope: __module.model.17/__module.model.17.m.0/__module.model.17.m.0.m/__module.model.17.m.0.m.1/__module.model.17.m.0.m.1.cv2/__module.model.17.m.0.m.1.cv2.conv # /usr/local/lib/python3.11/dist-packages/torch/nn/modules/conv.py:549:0\n",
            "\t\t    %1438 : Tensor = aten::silu_(%input.245), scope: __module.model.17/__module.model.17.m.0/__module.model.17.m.0.m/__module.model.17.m.0.m.1/__module.model.17.m.0.m.1.cv2/__module.model.21.cv3.2.1.1.act # /usr/local/lib/python3.11/dist-packages/torch/nn/functional.py:2379:0\n",
            "\t\t    %1439 : Tensor = aten::add(%input.239, %1438, %1369), scope: __module.model.17/__module.model.17.m.0/__module.model.17.m.0.m/__module.model.17.m.0.m.1 # /content/yolov12/ultralytics/nn/modules/block.py:348:0\n",
            "\t\t    %conv.165 : __torch__.torch.nn.modules.conv.Conv2d = prim::GetAttr[name=\"conv\"](%cv2.33)\n",
            "\t\t    %bias.403 : Tensor = prim::GetAttr[name=\"bias\"](%conv.165)\n",
            "\t\t    %weight.405 : Tensor = prim::GetAttr[name=\"weight\"](%conv.165)\n",
            "\t\t    %1443 : int[] = prim::ListConstruct(%1369, %1369), scope: __module.model.17/__module.model.17.m.0/__module.model.17.m.0.cv2/__module.model.17.m.0.cv2.conv\n",
            "\t\t    %1444 : int[] = prim::ListConstruct(%1368, %1368), scope: __module.model.17/__module.model.17.m.0/__module.model.17.m.0.cv2/__module.model.17.m.0.cv2.conv\n",
            "\t\t    %1445 : int[] = prim::ListConstruct(%1369, %1369), scope: __module.model.17/__module.model.17.m.0/__module.model.17.m.0.cv2/__module.model.17.m.0.cv2.conv\n",
            "\t\t    %1446 : int[] = prim::ListConstruct(%1368, %1368), scope: __module.model.17/__module.model.17.m.0/__module.model.17.m.0.cv2/__module.model.17.m.0.cv2.conv\n",
            "\t\t    %input.247 : Tensor = aten::_convolution(%input.227, %weight.405, %bias.403, %1443, %1444, %1445, %1367, %1446, %1369, %1367, %1366, %1366, %1366), scope: __module.model.17/__module.model.17.m.0/__module.model.17.m.0.cv2/__module.model.17.m.0.cv2.conv # /usr/local/lib/python3.11/dist-packages/torch/nn/modules/conv.py:549:0\n",
            "\t\t    %1448 : Tensor = aten::silu_(%input.247), scope: __module.model.17/__module.model.17.m.0/__module.model.17.m.0.cv2/__module.model.21.cv3.2.1.1.act # /usr/local/lib/python3.11/dist-packages/torch/nn/functional.py:2379:0\n",
            "\t\t    %1449 : Tensor[] = prim::ListConstruct(%1439, %1448), scope: __module.model.17/__module.model.17.m.0\n",
            "\t\t    %input.249 : Tensor = aten::cat(%1449, %1369), scope: __module.model.17/__module.model.17.m.0 # /content/yolov12/ultralytics/nn/modules/block.py:264:0\n",
            "\t\t    %conv.167 : __torch__.torch.nn.modules.conv.Conv2d = prim::GetAttr[name=\"conv\"](%cv3.7)\n",
            "\t\t    %bias.405 : Tensor = prim::GetAttr[name=\"bias\"](%conv.167)\n",
            "\t\t    %weight.407 : Tensor = prim::GetAttr[name=\"weight\"](%conv.167)\n",
            "\t\t    %1454 : int[] = prim::ListConstruct(%1369, %1369), scope: __module.model.17/__module.model.17.m.0/__module.model.17.m.0.cv3/__module.model.17.m.0.cv3.conv\n",
            "\t\t    %1455 : int[] = prim::ListConstruct(%1368, %1368), scope: __module.model.17/__module.model.17.m.0/__module.model.17.m.0.cv3/__module.model.17.m.0.cv3.conv\n",
            "\t\t    %1456 : int[] = prim::ListConstruct(%1369, %1369), scope: __module.model.17/__module.model.17.m.0/__module.model.17.m.0.cv3/__module.model.17.m.0.cv3.conv\n",
            "\t\t    %1457 : int[] = prim::ListConstruct(%1368, %1368), scope: __module.model.17/__module.model.17.m.0/__module.model.17.m.0.cv3/__module.model.17.m.0.cv3.conv\n",
            "\t\t    %input.251 : Tensor = aten::_convolution(%input.249, %weight.407, %bias.405, %1454, %1455, %1456, %1367, %1457, %1369, %1367, %1366, %1366, %1366), scope: __module.model.17/__module.model.17.m.0/__module.model.17.m.0.cv3/__module.model.17.m.0.cv3.conv # /usr/local/lib/python3.11/dist-packages/torch/nn/modules/conv.py:549:0\n",
            "\t\t    %1459 : Tensor = aten::silu_(%input.251), scope: __module.model.17/__module.model.17.m.0/__module.model.17.m.0.cv3/__module.model.21.cv3.2.1.1.act # /usr/local/lib/python3.11/dist-packages/torch/nn/functional.py:2379:0\n",
            "\t\t    %1460 : Tensor[] = prim::ListConstruct(%input.227, %1459), scope: __module.model.17\n",
            "\t\t    %input.253 : Tensor = aten::cat(%1460, %1369), scope: __module.model.17 # /content/yolov12/ultralytics/nn/modules/block.py:1369:0\n",
            "\t\t    %conv.169 : __torch__.torch.nn.modules.conv.Conv2d = prim::GetAttr[name=\"conv\"](%cv2.35)\n",
            "\t\t    %bias.407 : Tensor = prim::GetAttr[name=\"bias\"](%conv.169)\n",
            "\t\t    %weight.409 : Tensor = prim::GetAttr[name=\"weight\"](%conv.169)\n",
            "\t\t    %1465 : int[] = prim::ListConstruct(%1369, %1369), scope: __module.model.17/__module.model.17.cv2/__module.model.17.cv2.conv\n",
            "\t\t    %1466 : int[] = prim::ListConstruct(%1368, %1368), scope: __module.model.17/__module.model.17.cv2/__module.model.17.cv2.conv\n",
            "\t\t    %1467 : int[] = prim::ListConstruct(%1369, %1369), scope: __module.model.17/__module.model.17.cv2/__module.model.17.cv2.conv\n",
            "\t\t    %1468 : int[] = prim::ListConstruct(%1368, %1368), scope: __module.model.17/__module.model.17.cv2/__module.model.17.cv2.conv\n",
            "\t\t    %input.255 : Tensor = aten::_convolution(%input.253, %weight.409, %bias.407, %1465, %1466, %1467, %1367, %1468, %1369, %1367, %1366, %1366, %1366), scope: __module.model.17/__module.model.17.cv2/__module.model.17.cv2.conv # /usr/local/lib/python3.11/dist-packages/torch/nn/modules/conv.py:549:0\n",
            "\t\t    %input.257 : Tensor = aten::silu_(%input.255), scope: __module.model.17/__module.model.17.cv2/__module.model.21.cv3.2.1.1.act # /usr/local/lib/python3.11/dist-packages/torch/nn/functional.py:2379:0\n",
            "\t\t    %1471 : int = prim::Constant[value=2](), scope: __module.model.18/__module.model.18.conv # /usr/local/lib/python3.11/dist-packages/torch/nn/modules/conv.py:549:0\n",
            "\t\t    %1472 : int = prim::Constant[value=1](), scope: __module.model.18/__module.model.18.conv # /usr/local/lib/python3.11/dist-packages/torch/nn/modules/conv.py:549:0\n",
            "\t\t    %1473 : bool = prim::Constant[value=0](), scope: __module.model.18/__module.model.18.conv # /usr/local/lib/python3.11/dist-packages/torch/nn/modules/conv.py:549:0\n",
            "\t\t    %1474 : int = prim::Constant[value=0](), scope: __module.model.18/__module.model.18.conv # /usr/local/lib/python3.11/dist-packages/torch/nn/modules/conv.py:549:0\n",
            "\t\t    %1475 : bool = prim::Constant[value=1](), scope: __module.model.18/__module.model.18.conv # /usr/local/lib/python3.11/dist-packages/torch/nn/modules/conv.py:549:0\n",
            "\t\t    %conv.171 : __torch__.torch.nn.modules.conv.Conv2d = prim::GetAttr[name=\"conv\"](%_18)\n",
            "\t\t    %bias.409 : Tensor = prim::GetAttr[name=\"bias\"](%conv.171)\n",
            "\t\t    %weight.411 : Tensor = prim::GetAttr[name=\"weight\"](%conv.171)\n",
            "\t\t    %1479 : int[] = prim::ListConstruct(%1471, %1471), scope: __module.model.18/__module.model.18.conv\n",
            "\t\t    %1480 : int[] = prim::ListConstruct(%1472, %1472), scope: __module.model.18/__module.model.18.conv\n",
            "\t\t    %1481 : int[] = prim::ListConstruct(%1472, %1472), scope: __module.model.18/__module.model.18.conv\n",
            "\t\t    %1482 : int[] = prim::ListConstruct(%1474, %1474), scope: __module.model.18/__module.model.18.conv\n",
            "\t\t    %input.259 : Tensor = aten::_convolution(%input.257, %weight.411, %bias.409, %1479, %1480, %1481, %1473, %1482, %1472, %1473, %1475, %1475, %1475), scope: __module.model.18/__module.model.18.conv # /usr/local/lib/python3.11/dist-packages/torch/nn/modules/conv.py:549:0\n",
            "\t\t    %1484 : Tensor = aten::silu_(%input.259), scope: __module.model.18/__module.model.21.cv3.2.1.1.act # /usr/local/lib/python3.11/dist-packages/torch/nn/functional.py:2379:0\n",
            "\t\t    %1485 : int = prim::Constant[value=1](), scope: __module.model.19 # /content/yolov12/ultralytics/nn/modules/conv.py:333:0\n",
            "\t\t    %1486 : Tensor[] = prim::ListConstruct(%1484, %input.147), scope: __module.model.19\n",
            "\t\t    %input.261 : Tensor = aten::cat(%1486, %1485), scope: __module.model.19 # /content/yolov12/ultralytics/nn/modules/conv.py:333:0\n",
            "\t\t    %1488 : int = prim::Constant[value=2](), scope: __module.model.20 # /content/yolov12/ultralytics/nn/modules/block.py:238:0\n",
            "\t\t    %1489 : bool = prim::Constant[value=1](), scope: __module.model.20/__module.model.20.cv1/__module.model.20.cv1.conv # /usr/local/lib/python3.11/dist-packages/torch/nn/modules/conv.py:549:0\n",
            "\t\t    %1490 : bool = prim::Constant[value=0](), scope: __module.model.20/__module.model.20.cv1/__module.model.20.cv1.conv # /usr/local/lib/python3.11/dist-packages/torch/nn/modules/conv.py:549:0\n",
            "\t\t    %1491 : int = prim::Constant[value=0](), scope: __module.model.20/__module.model.20.cv1/__module.model.20.cv1.conv # /usr/local/lib/python3.11/dist-packages/torch/nn/modules/conv.py:549:0\n",
            "\t\t    %1492 : int = prim::Constant[value=1](), scope: __module.model.20/__module.model.20.cv1/__module.model.20.cv1.conv # /usr/local/lib/python3.11/dist-packages/torch/nn/modules/conv.py:549:0\n",
            "\t\t    %cv2.43 : __torch__.ultralytics.nn.modules.conv.Conv = prim::GetAttr[name=\"cv2\"](%_20)\n",
            "\t\t    %m : __torch__.torch.nn.modules.container.ModuleList = prim::GetAttr[name=\"m\"](%_20)\n",
            "\t\t    %_0.49 : __torch__.ultralytics.nn.modules.block.C3k = prim::GetAttr[name=\"0\"](%m)\n",
            "\t\t    %cv1.37 : __torch__.ultralytics.nn.modules.conv.Conv = prim::GetAttr[name=\"cv1\"](%_20)\n",
            "\t\t    %conv.173 : __torch__.torch.nn.modules.conv.Conv2d = prim::GetAttr[name=\"conv\"](%cv1.37)\n",
            "\t\t    %bias.411 : Tensor = prim::GetAttr[name=\"bias\"](%conv.173)\n",
            "\t\t    %weight.413 : Tensor = prim::GetAttr[name=\"weight\"](%conv.173)\n",
            "\t\t    %1500 : int[] = prim::ListConstruct(%1492, %1492), scope: __module.model.20/__module.model.20.cv1/__module.model.20.cv1.conv\n",
            "\t\t    %1501 : int[] = prim::ListConstruct(%1491, %1491), scope: __module.model.20/__module.model.20.cv1/__module.model.20.cv1.conv\n",
            "\t\t    %1502 : int[] = prim::ListConstruct(%1492, %1492), scope: __module.model.20/__module.model.20.cv1/__module.model.20.cv1.conv\n",
            "\t\t    %1503 : int[] = prim::ListConstruct(%1491, %1491), scope: __module.model.20/__module.model.20.cv1/__module.model.20.cv1.conv\n",
            "\t\t    %input.263 : Tensor = aten::_convolution(%input.261, %weight.413, %bias.411, %1500, %1501, %1502, %1490, %1503, %1492, %1490, %1489, %1489, %1489), scope: __module.model.20/__module.model.20.cv1/__module.model.20.cv1.conv # /usr/local/lib/python3.11/dist-packages/torch/nn/modules/conv.py:549:0\n",
            "\t\t    %1505 : Tensor = aten::silu_(%input.263), scope: __module.model.20/__module.model.20.cv1/__module.model.21.cv3.2.1.1.act # /usr/local/lib/python3.11/dist-packages/torch/nn/functional.py:2379:0\n",
            "\t\t    %1506 : Tensor[] = aten::chunk(%1505, %1488, %1492), scope: __module.model.20 # /content/yolov12/ultralytics/nn/modules/block.py:238:0\n",
            "\t\t    %1507 : Tensor, %input.265 : Tensor = prim::ListUnpack(%1506), scope: __module.model.20\n",
            "\t\t    %cv3.9 : __torch__.ultralytics.nn.modules.conv.Conv = prim::GetAttr[name=\"cv3\"](%_0.49)\n",
            "\t\t    %cv2.41 : __torch__.ultralytics.nn.modules.conv.Conv = prim::GetAttr[name=\"cv2\"](%_0.49)\n",
            "\t\t    %m.25 : __torch__.torch.nn.modules.container.Sequential = prim::GetAttr[name=\"m\"](%_0.49)\n",
            "\t\t    %cv1.39 : __torch__.ultralytics.nn.modules.conv.Conv = prim::GetAttr[name=\"cv1\"](%_0.49)\n",
            "\t\t    %conv.175 : __torch__.torch.nn.modules.conv.Conv2d = prim::GetAttr[name=\"conv\"](%cv1.39)\n",
            "\t\t    %bias.413 : Tensor = prim::GetAttr[name=\"bias\"](%conv.175)\n",
            "\t\t    %weight.415 : Tensor = prim::GetAttr[name=\"weight\"](%conv.175)\n",
            "\t\t    %1516 : int[] = prim::ListConstruct(%1492, %1492), scope: __module.model.20/__module.model.20.m.0/__module.model.20.m.0.cv1/__module.model.20.m.0.cv1.conv\n",
            "\t\t    %1517 : int[] = prim::ListConstruct(%1491, %1491), scope: __module.model.20/__module.model.20.m.0/__module.model.20.m.0.cv1/__module.model.20.m.0.cv1.conv\n",
            "\t\t    %1518 : int[] = prim::ListConstruct(%1492, %1492), scope: __module.model.20/__module.model.20.m.0/__module.model.20.m.0.cv1/__module.model.20.m.0.cv1.conv\n",
            "\t\t    %1519 : int[] = prim::ListConstruct(%1491, %1491), scope: __module.model.20/__module.model.20.m.0/__module.model.20.m.0.cv1/__module.model.20.m.0.cv1.conv\n",
            "\t\t    %input.267 : Tensor = aten::_convolution(%input.265, %weight.415, %bias.413, %1516, %1517, %1518, %1490, %1519, %1492, %1490, %1489, %1489, %1489), scope: __module.model.20/__module.model.20.m.0/__module.model.20.m.0.cv1/__module.model.20.m.0.cv1.conv # /usr/local/lib/python3.11/dist-packages/torch/nn/modules/conv.py:549:0\n",
            "\t\t    %input.269 : Tensor = aten::silu_(%input.267), scope: __module.model.20/__module.model.20.m.0/__module.model.20.m.0.cv1/__module.model.21.cv3.2.1.1.act # /usr/local/lib/python3.11/dist-packages/torch/nn/functional.py:2379:0\n",
            "\t\t    %_1.41 : __torch__.ultralytics.nn.modules.block.Bottleneck = prim::GetAttr[name=\"1\"](%m.25)\n",
            "\t\t    %_0.47 : __torch__.ultralytics.nn.modules.block.Bottleneck = prim::GetAttr[name=\"0\"](%m.25)\n",
            "\t\t    %cv2.37 : __torch__.ultralytics.nn.modules.conv.Conv = prim::GetAttr[name=\"cv2\"](%_0.47)\n",
            "\t\t    %cv1.41 : __torch__.ultralytics.nn.modules.conv.Conv = prim::GetAttr[name=\"cv1\"](%_0.47)\n",
            "\t\t    %conv.177 : __torch__.torch.nn.modules.conv.Conv2d = prim::GetAttr[name=\"conv\"](%cv1.41)\n",
            "\t\t    %bias.415 : Tensor = prim::GetAttr[name=\"bias\"](%conv.177)\n",
            "\t\t    %weight.417 : Tensor = prim::GetAttr[name=\"weight\"](%conv.177)\n",
            "\t\t    %1529 : int[] = prim::ListConstruct(%1492, %1492), scope: __module.model.20/__module.model.20.m.0/__module.model.20.m.0.m/__module.model.20.m.0.m.0/__module.model.20.m.0.m.0.cv1/__module.model.20.m.0.m.0.cv1.conv\n",
            "\t\t    %1530 : int[] = prim::ListConstruct(%1492, %1492), scope: __module.model.20/__module.model.20.m.0/__module.model.20.m.0.m/__module.model.20.m.0.m.0/__module.model.20.m.0.m.0.cv1/__module.model.20.m.0.m.0.cv1.conv\n",
            "\t\t    %1531 : int[] = prim::ListConstruct(%1492, %1492), scope: __module.model.20/__module.model.20.m.0/__module.model.20.m.0.m/__module.model.20.m.0.m.0/__module.model.20.m.0.m.0.cv1/__module.model.20.m.0.m.0.cv1.conv\n",
            "\t\t    %1532 : int[] = prim::ListConstruct(%1491, %1491), scope: __module.model.20/__module.model.20.m.0/__module.model.20.m.0.m/__module.model.20.m.0.m.0/__module.model.20.m.0.m.0.cv1/__module.model.20.m.0.m.0.cv1.conv\n",
            "\t\t    %input.271 : Tensor = aten::_convolution(%input.269, %weight.417, %bias.415, %1529, %1530, %1531, %1490, %1532, %1492, %1490, %1489, %1489, %1489), scope: __module.model.20/__module.model.20.m.0/__module.model.20.m.0.m/__module.model.20.m.0.m.0/__module.model.20.m.0.m.0.cv1/__module.model.20.m.0.m.0.cv1.conv # /usr/local/lib/python3.11/dist-packages/torch/nn/modules/conv.py:549:0\n",
            "\t\t    %input.273 : Tensor = aten::silu_(%input.271), scope: __module.model.20/__module.model.20.m.0/__module.model.20.m.0.m/__module.model.20.m.0.m.0/__module.model.20.m.0.m.0.cv1/__module.model.21.cv3.2.1.1.act # /usr/local/lib/python3.11/dist-packages/torch/nn/functional.py:2379:0\n",
            "\t\t    %conv.179 : __torch__.torch.nn.modules.conv.Conv2d = prim::GetAttr[name=\"conv\"](%cv2.37)\n",
            "\t\t    %bias.417 : Tensor = prim::GetAttr[name=\"bias\"](%conv.179)\n",
            "\t\t    %weight.419 : Tensor = prim::GetAttr[name=\"weight\"](%conv.179)\n",
            "\t\t    %1538 : int[] = prim::ListConstruct(%1492, %1492), scope: __module.model.20/__module.model.20.m.0/__module.model.20.m.0.m/__module.model.20.m.0.m.0/__module.model.20.m.0.m.0.cv2/__module.model.20.m.0.m.0.cv2.conv\n",
            "\t\t    %1539 : int[] = prim::ListConstruct(%1492, %1492), scope: __module.model.20/__module.model.20.m.0/__module.model.20.m.0.m/__module.model.20.m.0.m.0/__module.model.20.m.0.m.0.cv2/__module.model.20.m.0.m.0.cv2.conv\n",
            "\t\t    %1540 : int[] = prim::ListConstruct(%1492, %1492), scope: __module.model.20/__module.model.20.m.0/__module.model.20.m.0.m/__module.model.20.m.0.m.0/__module.model.20.m.0.m.0.cv2/__module.model.20.m.0.m.0.cv2.conv\n",
            "\t\t    %1541 : int[] = prim::ListConstruct(%1491, %1491), scope: __module.model.20/__module.model.20.m.0/__module.model.20.m.0.m/__module.model.20.m.0.m.0/__module.model.20.m.0.m.0.cv2/__module.model.20.m.0.m.0.cv2.conv\n",
            "\t\t    %input.275 : Tensor = aten::_convolution(%input.273, %weight.419, %bias.417, %1538, %1539, %1540, %1490, %1541, %1492, %1490, %1489, %1489, %1489), scope: __module.model.20/__module.model.20.m.0/__module.model.20.m.0.m/__module.model.20.m.0.m.0/__module.model.20.m.0.m.0.cv2/__module.model.20.m.0.m.0.cv2.conv # /usr/local/lib/python3.11/dist-packages/torch/nn/modules/conv.py:549:0\n",
            "\t\t    %1543 : Tensor = aten::silu_(%input.275), scope: __module.model.20/__module.model.20.m.0/__module.model.20.m.0.m/__module.model.20.m.0.m.0/__module.model.20.m.0.m.0.cv2/__module.model.21.cv3.2.1.1.act # /usr/local/lib/python3.11/dist-packages/torch/nn/functional.py:2379:0\n",
            "\t\t    %input.277 : Tensor = aten::add(%input.269, %1543, %1492), scope: __module.model.20/__module.model.20.m.0/__module.model.20.m.0.m/__module.model.20.m.0.m.0 # /content/yolov12/ultralytics/nn/modules/block.py:348:0\n",
            "\t\t    %cv2.39 : __torch__.ultralytics.nn.modules.conv.Conv = prim::GetAttr[name=\"cv2\"](%_1.41)\n",
            "\t\t    %cv1 : __torch__.ultralytics.nn.modules.conv.Conv = prim::GetAttr[name=\"cv1\"](%_1.41)\n",
            "\t\t    %conv.181 : __torch__.torch.nn.modules.conv.Conv2d = prim::GetAttr[name=\"conv\"](%cv1)\n",
            "\t\t    %bias.419 : Tensor = prim::GetAttr[name=\"bias\"](%conv.181)\n",
            "\t\t    %weight.421 : Tensor = prim::GetAttr[name=\"weight\"](%conv.181)\n",
            "\t\t    %1550 : int[] = prim::ListConstruct(%1492, %1492), scope: __module.model.20/__module.model.20.m.0/__module.model.20.m.0.m/__module.model.20.m.0.m.1/__module.model.20.m.0.m.1.cv1/__module.model.20.m.0.m.1.cv1.conv\n",
            "\t\t    %1551 : int[] = prim::ListConstruct(%1492, %1492), scope: __module.model.20/__module.model.20.m.0/__module.model.20.m.0.m/__module.model.20.m.0.m.1/__module.model.20.m.0.m.1.cv1/__module.model.20.m.0.m.1.cv1.conv\n",
            "\t\t    %1552 : int[] = prim::ListConstruct(%1492, %1492), scope: __module.model.20/__module.model.20.m.0/__module.model.20.m.0.m/__module.model.20.m.0.m.1/__module.model.20.m.0.m.1.cv1/__module.model.20.m.0.m.1.cv1.conv\n",
            "\t\t    %1553 : int[] = prim::ListConstruct(%1491, %1491), scope: __module.model.20/__module.model.20.m.0/__module.model.20.m.0.m/__module.model.20.m.0.m.1/__module.model.20.m.0.m.1.cv1/__module.model.20.m.0.m.1.cv1.conv\n",
            "\t\t    %input.279 : Tensor = aten::_convolution(%input.277, %weight.421, %bias.419, %1550, %1551, %1552, %1490, %1553, %1492, %1490, %1489, %1489, %1489), scope: __module.model.20/__module.model.20.m.0/__module.model.20.m.0.m/__module.model.20.m.0.m.1/__module.model.20.m.0.m.1.cv1/__module.model.20.m.0.m.1.cv1.conv # /usr/local/lib/python3.11/dist-packages/torch/nn/modules/conv.py:549:0\n",
            "\t\t    %input.281 : Tensor = aten::silu_(%input.279), scope: __module.model.20/__module.model.20.m.0/__module.model.20.m.0.m/__module.model.20.m.0.m.1/__module.model.20.m.0.m.1.cv1/__module.model.21.cv3.2.1.1.act # /usr/local/lib/python3.11/dist-packages/torch/nn/functional.py:2379:0\n",
            "\t\t    %conv.183 : __torch__.torch.nn.modules.conv.Conv2d = prim::GetAttr[name=\"conv\"](%cv2.39)\n",
            "\t\t    %bias.421 : Tensor = prim::GetAttr[name=\"bias\"](%conv.183)\n",
            "\t\t    %weight.423 : Tensor = prim::GetAttr[name=\"weight\"](%conv.183)\n",
            "\t\t    %1559 : int[] = prim::ListConstruct(%1492, %1492), scope: __module.model.20/__module.model.20.m.0/__module.model.20.m.0.m/__module.model.20.m.0.m.1/__module.model.20.m.0.m.1.cv2/__module.model.20.m.0.m.1.cv2.conv\n",
            "\t\t    %1560 : int[] = prim::ListConstruct(%1492, %1492), scope: __module.model.20/__module.model.20.m.0/__module.model.20.m.0.m/__module.model.20.m.0.m.1/__module.model.20.m.0.m.1.cv2/__module.model.20.m.0.m.1.cv2.conv\n",
            "\t\t    %1561 : int[] = prim::ListConstruct(%1492, %1492), scope: __module.model.20/__module.model.20.m.0/__module.model.20.m.0.m/__module.model.20.m.0.m.1/__module.model.20.m.0.m.1.cv2/__module.model.20.m.0.m.1.cv2.conv\n",
            "\t\t    %1562 : int[] = prim::ListConstruct(%1491, %1491), scope: __module.model.20/__module.model.20.m.0/__module.model.20.m.0.m/__module.model.20.m.0.m.1/__module.model.20.m.0.m.1.cv2/__module.model.20.m.0.m.1.cv2.conv\n",
            "\t\t    %input.283 : Tensor = aten::_convolution(%input.281, %weight.423, %bias.421, %1559, %1560, %1561, %1490, %1562, %1492, %1490, %1489, %1489, %1489), scope: __module.model.20/__module.model.20.m.0/__module.model.20.m.0.m/__module.model.20.m.0.m.1/__module.model.20.m.0.m.1.cv2/__module.model.20.m.0.m.1.cv2.conv # /usr/local/lib/python3.11/dist-packages/torch/nn/modules/conv.py:549:0\n",
            "\t\t    %1564 : Tensor = aten::silu_(%input.283), scope: __module.model.20/__module.model.20.m.0/__module.model.20.m.0.m/__module.model.20.m.0.m.1/__module.model.20.m.0.m.1.cv2/__module.model.21.cv3.2.1.1.act # /usr/local/lib/python3.11/dist-packages/torch/nn/functional.py:2379:0\n",
            "\t\t    %1565 : Tensor = aten::add(%input.277, %1564, %1492), scope: __module.model.20/__module.model.20.m.0/__module.model.20.m.0.m/__module.model.20.m.0.m.1 # /content/yolov12/ultralytics/nn/modules/block.py:348:0\n",
            "\t\t    %conv.185 : __torch__.torch.nn.modules.conv.Conv2d = prim::GetAttr[name=\"conv\"](%cv2.41)\n",
            "\t\t    %bias.423 : Tensor = prim::GetAttr[name=\"bias\"](%conv.185)\n",
            "\t\t    %weight.425 : Tensor = prim::GetAttr[name=\"weight\"](%conv.185)\n",
            "\t\t    %1569 : int[] = prim::ListConstruct(%1492, %1492), scope: __module.model.20/__module.model.20.m.0/__module.model.20.m.0.cv2/__module.model.20.m.0.cv2.conv\n",
            "\t\t    %1570 : int[] = prim::ListConstruct(%1491, %1491), scope: __module.model.20/__module.model.20.m.0/__module.model.20.m.0.cv2/__module.model.20.m.0.cv2.conv\n",
            "\t\t    %1571 : int[] = prim::ListConstruct(%1492, %1492), scope: __module.model.20/__module.model.20.m.0/__module.model.20.m.0.cv2/__module.model.20.m.0.cv2.conv\n",
            "\t\t    %1572 : int[] = prim::ListConstruct(%1491, %1491), scope: __module.model.20/__module.model.20.m.0/__module.model.20.m.0.cv2/__module.model.20.m.0.cv2.conv\n",
            "\t\t    %input.285 : Tensor = aten::_convolution(%input.265, %weight.425, %bias.423, %1569, %1570, %1571, %1490, %1572, %1492, %1490, %1489, %1489, %1489), scope: __module.model.20/__module.model.20.m.0/__module.model.20.m.0.cv2/__module.model.20.m.0.cv2.conv # /usr/local/lib/python3.11/dist-packages/torch/nn/modules/conv.py:549:0\n",
            "\t\t    %1574 : Tensor = aten::silu_(%input.285), scope: __module.model.20/__module.model.20.m.0/__module.model.20.m.0.cv2/__module.model.21.cv3.2.1.1.act # /usr/local/lib/python3.11/dist-packages/torch/nn/functional.py:2379:0\n",
            "\t\t    %1575 : Tensor[] = prim::ListConstruct(%1565, %1574), scope: __module.model.20/__module.model.20.m.0\n",
            "\t\t    %input.287 : Tensor = aten::cat(%1575, %1492), scope: __module.model.20/__module.model.20.m.0 # /content/yolov12/ultralytics/nn/modules/block.py:264:0\n",
            "\t\t    %conv.187 : __torch__.torch.nn.modules.conv.Conv2d = prim::GetAttr[name=\"conv\"](%cv3.9)\n",
            "\t\t    %bias.425 : Tensor = prim::GetAttr[name=\"bias\"](%conv.187)\n",
            "\t\t    %weight.427 : Tensor = prim::GetAttr[name=\"weight\"](%conv.187)\n",
            "\t\t    %1580 : int[] = prim::ListConstruct(%1492, %1492), scope: __module.model.20/__module.model.20.m.0/__module.model.20.m.0.cv3/__module.model.20.m.0.cv3.conv\n",
            "\t\t    %1581 : int[] = prim::ListConstruct(%1491, %1491), scope: __module.model.20/__module.model.20.m.0/__module.model.20.m.0.cv3/__module.model.20.m.0.cv3.conv\n",
            "\t\t    %1582 : int[] = prim::ListConstruct(%1492, %1492), scope: __module.model.20/__module.model.20.m.0/__module.model.20.m.0.cv3/__module.model.20.m.0.cv3.conv\n",
            "\t\t    %1583 : int[] = prim::ListConstruct(%1491, %1491), scope: __module.model.20/__module.model.20.m.0/__module.model.20.m.0.cv3/__module.model.20.m.0.cv3.conv\n",
            "\t\t    %input.289 : Tensor = aten::_convolution(%input.287, %weight.427, %bias.425, %1580, %1581, %1582, %1490, %1583, %1492, %1490, %1489, %1489, %1489), scope: __module.model.20/__module.model.20.m.0/__module.model.20.m.0.cv3/__module.model.20.m.0.cv3.conv # /usr/local/lib/python3.11/dist-packages/torch/nn/modules/conv.py:549:0\n",
            "\t\t    %1585 : Tensor = aten::silu_(%input.289), scope: __module.model.20/__module.model.20.m.0/__module.model.20.m.0.cv3/__module.model.21.cv3.2.1.1.act # /usr/local/lib/python3.11/dist-packages/torch/nn/functional.py:2379:0\n",
            "\t\t    %1586 : Tensor[] = prim::ListConstruct(%1507, %input.265, %1585), scope: __module.model.20\n",
            "\t\t    %input.291 : Tensor = aten::cat(%1586, %1492), scope: __module.model.20 # /content/yolov12/ultralytics/nn/modules/block.py:240:0\n",
            "\t\t    %conv.189 : __torch__.torch.nn.modules.conv.Conv2d = prim::GetAttr[name=\"conv\"](%cv2.43)\n",
            "\t\t    %bias.427 : Tensor = prim::GetAttr[name=\"bias\"](%conv.189)\n",
            "\t\t    %weight.429 : Tensor = prim::GetAttr[name=\"weight\"](%conv.189)\n",
            "\t\t    %1591 : int[] = prim::ListConstruct(%1492, %1492), scope: __module.model.20/__module.model.20.cv2/__module.model.20.cv2.conv\n",
            "\t\t    %1592 : int[] = prim::ListConstruct(%1491, %1491), scope: __module.model.20/__module.model.20.cv2/__module.model.20.cv2.conv\n",
            "\t\t    %1593 : int[] = prim::ListConstruct(%1492, %1492), scope: __module.model.20/__module.model.20.cv2/__module.model.20.cv2.conv\n",
            "\t\t    %1594 : int[] = prim::ListConstruct(%1491, %1491), scope: __module.model.20/__module.model.20.cv2/__module.model.20.cv2.conv\n",
            "\t\t    %input.293 : Tensor = aten::_convolution(%input.291, %weight.429, %bias.427, %1591, %1592, %1593, %1490, %1594, %1492, %1490, %1489, %1489, %1489), scope: __module.model.20/__module.model.20.cv2/__module.model.20.cv2.conv # /usr/local/lib/python3.11/dist-packages/torch/nn/modules/conv.py:549:0\n",
            "\t\t    %input.343 : Tensor = aten::silu_(%input.293), scope: __module.model.20/__module.model.20.cv2/__module.model.21.cv3.2.1.1.act # /usr/local/lib/python3.11/dist-packages/torch/nn/functional.py:2379:0\n",
            "\t\t    %1597 : Tensor = prim::Constant[value=<Tensor>](), scope: __module.model.21 # /content/yolov12/ultralytics/nn/modules/head.py:129:0\n",
            "\t\t    %1598 : Tensor = prim::Constant[value={2}](), scope: __module.model.21 # /content/yolov12/ultralytics/utils/tal.py:354:0\n",
            "\t\t    %1599 : Tensor = prim::Constant[value=<Tensor>](), scope: __module.model.21 # /content/yolov12/ultralytics/nn/modules/head.py:129:0\n",
            "\t\t    %1600 : int = prim::Constant[value=4](), scope: __module.model.21/__module.model.21.dfl # /content/yolov12/ultralytics/nn/modules/block.py:74:0\n",
            "\t\t    %1601 : int = prim::Constant[value=16](), scope: __module.model.21/__module.model.21.dfl # /content/yolov12/ultralytics/nn/modules/block.py:74:0\n",
            "\t\t    %1602 : NoneType = prim::Constant(), scope: __module.model.21/__module.model.21.dfl\n",
            "\t\t    %1603 : int = prim::Constant[value=14](), scope: __module.model.21 # /usr/local/lib/python3.11/dist-packages/torch/_tensor.py:983:0\n",
            "\t\t    %1604 : int = prim::Constant[value=64](), scope: __module.model.21 # /usr/local/lib/python3.11/dist-packages/torch/_tensor.py:983:0\n",
            "\t\t    %1605 : int = prim::Constant[value=2](), scope: __module.model.21 # /content/yolov12/ultralytics/nn/modules/head.py:104:0\n",
            "\t\t    %1606 : int = prim::Constant[value=-1](), scope: __module.model.21 # /content/yolov12/ultralytics/nn/modules/head.py:104:0\n",
            "\t\t    %1607 : int = prim::Constant[value=78](), scope: __module.model.21 # /content/yolov12/ultralytics/nn/modules/head.py:104:0\n",
            "\t\t    %1608 : int = prim::Constant[value=512](), scope: __module.model.21/__module.model.21.cv3.2/__module.model.21.cv3.2.0/__module.model.21.cv3.2.0.0/__module.model.21.cv3.2.0.0.conv # /usr/local/lib/python3.11/dist-packages/torch/nn/modules/conv.py:549:0\n",
            "\t\t    %1609 : int = prim::Constant[value=256](), scope: __module.model.21/__module.model.21.cv3.1/__module.model.21.cv3.1.0/__module.model.21.cv3.1.0.0/__module.model.21.cv3.1.0.0.conv # /usr/local/lib/python3.11/dist-packages/torch/nn/modules/conv.py:549:0\n",
            "\t\t    %1610 : int = prim::Constant[value=128](), scope: __module.model.21/__module.model.21.cv3.0/__module.model.21.cv3.0.0/__module.model.21.cv3.0.0.0/__module.model.21.cv3.0.0.0.conv # /usr/local/lib/python3.11/dist-packages/torch/nn/modules/conv.py:549:0\n",
            "\t\t    %1611 : int = prim::Constant[value=1](), scope: __module.model.21/__module.model.21.cv2.0/__module.model.21.cv2.0.0/__module.model.21.cv2.0.0.conv # /usr/local/lib/python3.11/dist-packages/torch/nn/modules/conv.py:549:0\n",
            "\t\t    %1612 : bool = prim::Constant[value=0](), scope: __module.model.21/__module.model.21.cv2.0/__module.model.21.cv2.0.0/__module.model.21.cv2.0.0.conv # /usr/local/lib/python3.11/dist-packages/torch/nn/modules/conv.py:549:0\n",
            "\t\t    %1613 : int = prim::Constant[value=0](), scope: __module.model.21/__module.model.21.cv2.0/__module.model.21.cv2.0.0/__module.model.21.cv2.0.0.conv # /usr/local/lib/python3.11/dist-packages/torch/nn/modules/conv.py:549:0\n",
            "\t\t    %1614 : bool = prim::Constant[value=1](), scope: __module.model.21/__module.model.21.cv2.0/__module.model.21.cv2.0.0/__module.model.21.cv2.0.0.conv # /usr/local/lib/python3.11/dist-packages/torch/nn/modules/conv.py:549:0\n",
            "\t\t    %dfl : __torch__.ultralytics.nn.modules.block.DFL = prim::GetAttr[name=\"dfl\"](%_21)\n",
            "\t\t    %cv3 : __torch__.torch.nn.modules.container.ModuleList = prim::GetAttr[name=\"cv3\"](%_21)\n",
            "\t\t    %_2 : __torch__.torch.nn.modules.container.Sequential = prim::GetAttr[name=\"2\"](%cv3)\n",
            "\t\t    %cv2 : __torch__.torch.nn.modules.container.ModuleList = prim::GetAttr[name=\"cv2\"](%_21)\n",
            "\t\t    %_2.17 : __torch__.torch.nn.modules.container.Sequential = prim::GetAttr[name=\"2\"](%cv2)\n",
            "\t\t    %cv3.15 : __torch__.torch.nn.modules.container.ModuleList = prim::GetAttr[name=\"cv3\"](%_21)\n",
            "\t\t    %_1.65 : __torch__.torch.nn.modules.container.Sequential = prim::GetAttr[name=\"1\"](%cv3.15)\n",
            "\t\t    %cv2.47 : __torch__.torch.nn.modules.container.ModuleList = prim::GetAttr[name=\"cv2\"](%_21)\n",
            "\t\t    %_1.57 : __torch__.torch.nn.modules.container.Sequential = prim::GetAttr[name=\"1\"](%cv2.47)\n",
            "\t\t    %cv3.13 : __torch__.torch.nn.modules.container.ModuleList = prim::GetAttr[name=\"cv3\"](%_21)\n",
            "\t\t    %_0.61 : __torch__.torch.nn.modules.container.Sequential = prim::GetAttr[name=\"0\"](%cv3.13)\n",
            "\t\t    %cv2.45 : __torch__.torch.nn.modules.container.ModuleList = prim::GetAttr[name=\"cv2\"](%_21)\n",
            "\t\t    %_0.53 : __torch__.torch.nn.modules.container.Sequential = prim::GetAttr[name=\"0\"](%cv2.45)\n",
            "\t\t    %_2.5 : __torch__.torch.nn.modules.conv.Conv2d = prim::GetAttr[name=\"2\"](%_0.53)\n",
            "\t\t    %_1.43 : __torch__.ultralytics.nn.modules.conv.Conv = prim::GetAttr[name=\"1\"](%_0.53)\n",
            "\t\t    %_0.51 : __torch__.ultralytics.nn.modules.conv.Conv = prim::GetAttr[name=\"0\"](%_0.53)\n",
            "\t\t    %conv.191 : __torch__.torch.nn.modules.conv.Conv2d = prim::GetAttr[name=\"conv\"](%_0.51)\n",
            "\t\t    %bias.429 : Tensor = prim::GetAttr[name=\"bias\"](%conv.191)\n",
            "\t\t    %weight.431 : Tensor = prim::GetAttr[name=\"weight\"](%conv.191)\n",
            "\t\t    %1634 : int[] = prim::ListConstruct(%1611, %1611), scope: __module.model.21/__module.model.21.cv2.0/__module.model.21.cv2.0.0/__module.model.21.cv2.0.0.conv\n",
            "\t\t    %1635 : int[] = prim::ListConstruct(%1611, %1611), scope: __module.model.21/__module.model.21.cv2.0/__module.model.21.cv2.0.0/__module.model.21.cv2.0.0.conv\n",
            "\t\t    %1636 : int[] = prim::ListConstruct(%1611, %1611), scope: __module.model.21/__module.model.21.cv2.0/__module.model.21.cv2.0.0/__module.model.21.cv2.0.0.conv\n",
            "\t\t    %1637 : int[] = prim::ListConstruct(%1613, %1613), scope: __module.model.21/__module.model.21.cv2.0/__module.model.21.cv2.0.0/__module.model.21.cv2.0.0.conv\n",
            "\t\t    %input.295 : Tensor = aten::_convolution(%input.219, %weight.431, %bias.429, %1634, %1635, %1636, %1612, %1637, %1611, %1612, %1614, %1614, %1614), scope: __module.model.21/__module.model.21.cv2.0/__module.model.21.cv2.0.0/__module.model.21.cv2.0.0.conv # /usr/local/lib/python3.11/dist-packages/torch/nn/modules/conv.py:549:0\n",
            "\t\t    %input.297 : Tensor = aten::silu_(%input.295), scope: __module.model.21/__module.model.21.cv2.0/__module.model.21.cv2.0.0/__module.model.21.cv3.2.1.1.act # /usr/local/lib/python3.11/dist-packages/torch/nn/functional.py:2379:0\n",
            "\t\t    %conv.193 : __torch__.torch.nn.modules.conv.Conv2d = prim::GetAttr[name=\"conv\"](%_1.43)\n",
            "\t\t    %bias.431 : Tensor = prim::GetAttr[name=\"bias\"](%conv.193)\n",
            "\t\t    %weight.433 : Tensor = prim::GetAttr[name=\"weight\"](%conv.193)\n",
            "\t\t    %1643 : int[] = prim::ListConstruct(%1611, %1611), scope: __module.model.21/__module.model.21.cv2.0/__module.model.21.cv2.0.1/__module.model.21.cv2.0.1.conv\n",
            "\t\t    %1644 : int[] = prim::ListConstruct(%1611, %1611), scope: __module.model.21/__module.model.21.cv2.0/__module.model.21.cv2.0.1/__module.model.21.cv2.0.1.conv\n",
            "\t\t    %1645 : int[] = prim::ListConstruct(%1611, %1611), scope: __module.model.21/__module.model.21.cv2.0/__module.model.21.cv2.0.1/__module.model.21.cv2.0.1.conv\n",
            "\t\t    %1646 : int[] = prim::ListConstruct(%1613, %1613), scope: __module.model.21/__module.model.21.cv2.0/__module.model.21.cv2.0.1/__module.model.21.cv2.0.1.conv\n",
            "\t\t    %input.299 : Tensor = aten::_convolution(%input.297, %weight.433, %bias.431, %1643, %1644, %1645, %1612, %1646, %1611, %1612, %1614, %1614, %1614), scope: __module.model.21/__module.model.21.cv2.0/__module.model.21.cv2.0.1/__module.model.21.cv2.0.1.conv # /usr/local/lib/python3.11/dist-packages/torch/nn/modules/conv.py:549:0\n",
            "\t\t    %input.301 : Tensor = aten::silu_(%input.299), scope: __module.model.21/__module.model.21.cv2.0/__module.model.21.cv2.0.1/__module.model.21.cv3.2.1.1.act # /usr/local/lib/python3.11/dist-packages/torch/nn/functional.py:2379:0\n",
            "\t\t    %bias.433 : Tensor = prim::GetAttr[name=\"bias\"](%_2.5)\n",
            "\t\t    %weight.435 : Tensor = prim::GetAttr[name=\"weight\"](%_2.5)\n",
            "\t\t    %1651 : int[] = prim::ListConstruct(%1611, %1611), scope: __module.model.21/__module.model.21.cv2.0/__module.model.21.cv2.0.2\n",
            "\t\t    %1652 : int[] = prim::ListConstruct(%1613, %1613), scope: __module.model.21/__module.model.21.cv2.0/__module.model.21.cv2.0.2\n",
            "\t\t    %1653 : int[] = prim::ListConstruct(%1611, %1611), scope: __module.model.21/__module.model.21.cv2.0/__module.model.21.cv2.0.2\n",
            "\t\t    %1654 : int[] = prim::ListConstruct(%1613, %1613), scope: __module.model.21/__module.model.21.cv2.0/__module.model.21.cv2.0.2\n",
            "\t\t    %1655 : Tensor = aten::_convolution(%input.301, %weight.435, %bias.433, %1651, %1652, %1653, %1612, %1654, %1611, %1612, %1614, %1614, %1614), scope: __module.model.21/__module.model.21.cv2.0/__module.model.21.cv2.0.2 # /usr/local/lib/python3.11/dist-packages/torch/nn/modules/conv.py:549:0\n",
            "\t\t    %_2.9 : __torch__.torch.nn.modules.conv.Conv2d = prim::GetAttr[name=\"2\"](%_0.61)\n",
            "\t\t    %_1.53 : __torch__.torch.nn.modules.container.Sequential = prim::GetAttr[name=\"1\"](%_0.61)\n",
            "\t\t    %_0.57 : __torch__.torch.nn.modules.container.Sequential = prim::GetAttr[name=\"0\"](%_0.61)\n",
            "\t\t    %_1.49 : __torch__.ultralytics.nn.modules.conv.Conv = prim::GetAttr[name=\"1\"](%_0.57)\n",
            "\t\t    %_0.55 : __torch__.ultralytics.nn.modules.conv.DWConv = prim::GetAttr[name=\"0\"](%_0.57)\n",
            "\t\t    %conv.195 : __torch__.torch.nn.modules.conv.Conv2d = prim::GetAttr[name=\"conv\"](%_0.55)\n",
            "\t\t    %bias.435 : Tensor = prim::GetAttr[name=\"bias\"](%conv.195)\n",
            "\t\t    %weight.437 : Tensor = prim::GetAttr[name=\"weight\"](%conv.195)\n",
            "\t\t    %1664 : int[] = prim::ListConstruct(%1611, %1611), scope: __module.model.21/__module.model.21.cv3.0/__module.model.21.cv3.0.0/__module.model.21.cv3.0.0.0/__module.model.21.cv3.0.0.0.conv\n",
            "\t\t    %1665 : int[] = prim::ListConstruct(%1611, %1611), scope: __module.model.21/__module.model.21.cv3.0/__module.model.21.cv3.0.0/__module.model.21.cv3.0.0.0/__module.model.21.cv3.0.0.0.conv\n",
            "\t\t    %1666 : int[] = prim::ListConstruct(%1611, %1611), scope: __module.model.21/__module.model.21.cv3.0/__module.model.21.cv3.0.0/__module.model.21.cv3.0.0.0/__module.model.21.cv3.0.0.0.conv\n",
            "\t\t    %1667 : int[] = prim::ListConstruct(%1613, %1613), scope: __module.model.21/__module.model.21.cv3.0/__module.model.21.cv3.0.0/__module.model.21.cv3.0.0.0/__module.model.21.cv3.0.0.0.conv\n",
            "\t\t    %input.303 : Tensor = aten::_convolution(%input.219, %weight.437, %bias.435, %1664, %1665, %1666, %1612, %1667, %1610, %1612, %1614, %1614, %1614), scope: __module.model.21/__module.model.21.cv3.0/__module.model.21.cv3.0.0/__module.model.21.cv3.0.0.0/__module.model.21.cv3.0.0.0.conv # /usr/local/lib/python3.11/dist-packages/torch/nn/modules/conv.py:549:0\n",
            "\t\t    %input.305 : Tensor = aten::silu_(%input.303), scope: __module.model.21/__module.model.21.cv3.0/__module.model.21.cv3.0.0/__module.model.21.cv3.0.0.0/__module.model.21.cv3.2.1.1.act # /usr/local/lib/python3.11/dist-packages/torch/nn/functional.py:2379:0\n",
            "\t\t    %conv.197 : __torch__.torch.nn.modules.conv.Conv2d = prim::GetAttr[name=\"conv\"](%_1.49)\n",
            "\t\t    %bias.437 : Tensor = prim::GetAttr[name=\"bias\"](%conv.197)\n",
            "\t\t    %weight.439 : Tensor = prim::GetAttr[name=\"weight\"](%conv.197)\n",
            "\t\t    %1673 : int[] = prim::ListConstruct(%1611, %1611), scope: __module.model.21/__module.model.21.cv3.0/__module.model.21.cv3.0.0/__module.model.21.cv3.0.0.1/__module.model.21.cv3.0.0.1.conv\n",
            "\t\t    %1674 : int[] = prim::ListConstruct(%1613, %1613), scope: __module.model.21/__module.model.21.cv3.0/__module.model.21.cv3.0.0/__module.model.21.cv3.0.0.1/__module.model.21.cv3.0.0.1.conv\n",
            "\t\t    %1675 : int[] = prim::ListConstruct(%1611, %1611), scope: __module.model.21/__module.model.21.cv3.0/__module.model.21.cv3.0.0/__module.model.21.cv3.0.0.1/__module.model.21.cv3.0.0.1.conv\n",
            "\t\t    %1676 : int[] = prim::ListConstruct(%1613, %1613), scope: __module.model.21/__module.model.21.cv3.0/__module.model.21.cv3.0.0/__module.model.21.cv3.0.0.1/__module.model.21.cv3.0.0.1.conv\n",
            "\t\t    %input.307 : Tensor = aten::_convolution(%input.305, %weight.439, %bias.437, %1673, %1674, %1675, %1612, %1676, %1611, %1612, %1614, %1614, %1614), scope: __module.model.21/__module.model.21.cv3.0/__module.model.21.cv3.0.0/__module.model.21.cv3.0.0.1/__module.model.21.cv3.0.0.1.conv # /usr/local/lib/python3.11/dist-packages/torch/nn/modules/conv.py:549:0\n",
            "\t\t    %input.309 : Tensor = aten::silu_(%input.307), scope: __module.model.21/__module.model.21.cv3.0/__module.model.21.cv3.0.0/__module.model.21.cv3.0.0.1/__module.model.21.cv3.2.1.1.act # /usr/local/lib/python3.11/dist-packages/torch/nn/functional.py:2379:0\n",
            "\t\t    %_1.51 : __torch__.ultralytics.nn.modules.conv.Conv = prim::GetAttr[name=\"1\"](%_1.53)\n",
            "\t\t    %_0.59 : __torch__.ultralytics.nn.modules.conv.DWConv = prim::GetAttr[name=\"0\"](%_1.53)\n",
            "\t\t    %conv.199 : __torch__.torch.nn.modules.conv.Conv2d = prim::GetAttr[name=\"conv\"](%_0.59)\n",
            "\t\t    %bias.439 : Tensor = prim::GetAttr[name=\"bias\"](%conv.199)\n",
            "\t\t    %weight.441 : Tensor = prim::GetAttr[name=\"weight\"](%conv.199)\n",
            "\t\t    %1684 : int[] = prim::ListConstruct(%1611, %1611), scope: __module.model.21/__module.model.21.cv3.0/__module.model.21.cv3.0.1/__module.model.21.cv3.0.1.0/__module.model.21.cv3.0.1.0.conv\n",
            "\t\t    %1685 : int[] = prim::ListConstruct(%1611, %1611), scope: __module.model.21/__module.model.21.cv3.0/__module.model.21.cv3.0.1/__module.model.21.cv3.0.1.0/__module.model.21.cv3.0.1.0.conv\n",
            "\t\t    %1686 : int[] = prim::ListConstruct(%1611, %1611), scope: __module.model.21/__module.model.21.cv3.0/__module.model.21.cv3.0.1/__module.model.21.cv3.0.1.0/__module.model.21.cv3.0.1.0.conv\n",
            "\t\t    %1687 : int[] = prim::ListConstruct(%1613, %1613), scope: __module.model.21/__module.model.21.cv3.0/__module.model.21.cv3.0.1/__module.model.21.cv3.0.1.0/__module.model.21.cv3.0.1.0.conv\n",
            "\t\t    %input.311 : Tensor = aten::_convolution(%input.309, %weight.441, %bias.439, %1684, %1685, %1686, %1612, %1687, %1610, %1612, %1614, %1614, %1614), scope: __module.model.21/__module.model.21.cv3.0/__module.model.21.cv3.0.1/__module.model.21.cv3.0.1.0/__module.model.21.cv3.0.1.0.conv # /usr/local/lib/python3.11/dist-packages/torch/nn/modules/conv.py:549:0\n",
            "\t\t    %input.313 : Tensor = aten::silu_(%input.311), scope: __module.model.21/__module.model.21.cv3.0/__module.model.21.cv3.0.1/__module.model.21.cv3.0.1.0/__module.model.21.cv3.2.1.1.act # /usr/local/lib/python3.11/dist-packages/torch/nn/functional.py:2379:0\n",
            "\t\t    %conv.201 : __torch__.torch.nn.modules.conv.Conv2d = prim::GetAttr[name=\"conv\"](%_1.51)\n",
            "\t\t    %bias.441 : Tensor = prim::GetAttr[name=\"bias\"](%conv.201)\n",
            "\t\t    %weight.443 : Tensor = prim::GetAttr[name=\"weight\"](%conv.201)\n",
            "\t\t    %1693 : int[] = prim::ListConstruct(%1611, %1611), scope: __module.model.21/__module.model.21.cv3.0/__module.model.21.cv3.0.1/__module.model.21.cv3.0.1.1/__module.model.21.cv3.0.1.1.conv\n",
            "\t\t    %1694 : int[] = prim::ListConstruct(%1613, %1613), scope: __module.model.21/__module.model.21.cv3.0/__module.model.21.cv3.0.1/__module.model.21.cv3.0.1.1/__module.model.21.cv3.0.1.1.conv\n",
            "\t\t    %1695 : int[] = prim::ListConstruct(%1611, %1611), scope: __module.model.21/__module.model.21.cv3.0/__module.model.21.cv3.0.1/__module.model.21.cv3.0.1.1/__module.model.21.cv3.0.1.1.conv\n",
            "\t\t    %1696 : int[] = prim::ListConstruct(%1613, %1613), scope: __module.model.21/__module.model.21.cv3.0/__module.model.21.cv3.0.1/__module.model.21.cv3.0.1.1/__module.model.21.cv3.0.1.1.conv\n",
            "\t\t    %input.315 : Tensor = aten::_convolution(%input.313, %weight.443, %bias.441, %1693, %1694, %1695, %1612, %1696, %1611, %1612, %1614, %1614, %1614), scope: __module.model.21/__module.model.21.cv3.0/__module.model.21.cv3.0.1/__module.model.21.cv3.0.1.1/__module.model.21.cv3.0.1.1.conv # /usr/local/lib/python3.11/dist-packages/torch/nn/modules/conv.py:549:0\n",
            "\t\t    %input.317 : Tensor = aten::silu_(%input.315), scope: __module.model.21/__module.model.21.cv3.0/__module.model.21.cv3.0.1/__module.model.21.cv3.0.1.1/__module.model.21.cv3.2.1.1.act # /usr/local/lib/python3.11/dist-packages/torch/nn/functional.py:2379:0\n",
            "\t\t    %bias.443 : Tensor = prim::GetAttr[name=\"bias\"](%_2.9)\n",
            "\t\t    %weight.445 : Tensor = prim::GetAttr[name=\"weight\"](%_2.9)\n",
            "\t\t    %1701 : int[] = prim::ListConstruct(%1611, %1611), scope: __module.model.21/__module.model.21.cv3.0/__module.model.21.cv3.0.2\n",
            "\t\t    %1702 : int[] = prim::ListConstruct(%1613, %1613), scope: __module.model.21/__module.model.21.cv3.0/__module.model.21.cv3.0.2\n",
            "\t\t    %1703 : int[] = prim::ListConstruct(%1611, %1611), scope: __module.model.21/__module.model.21.cv3.0/__module.model.21.cv3.0.2\n",
            "\t\t    %1704 : int[] = prim::ListConstruct(%1613, %1613), scope: __module.model.21/__module.model.21.cv3.0/__module.model.21.cv3.0.2\n",
            "\t\t    %1705 : Tensor = aten::_convolution(%input.317, %weight.445, %bias.443, %1701, %1702, %1703, %1612, %1704, %1611, %1612, %1614, %1614, %1614), scope: __module.model.21/__module.model.21.cv3.0/__module.model.21.cv3.0.2 # /usr/local/lib/python3.11/dist-packages/torch/nn/modules/conv.py:549:0\n",
            "\t\t    %1706 : Tensor[] = prim::ListConstruct(%1655, %1705), scope: __module.model.21\n",
            "\t\t    %xi.1 : Tensor = aten::cat(%1706, %1611), scope: __module.model.21 # /content/yolov12/ultralytics/nn/modules/head.py:70:0\n",
            "\t\t    %_2.11 : __torch__.torch.nn.modules.conv.Conv2d = prim::GetAttr[name=\"2\"](%_1.57)\n",
            "\t\t    %_1.55 : __torch__.ultralytics.nn.modules.conv.Conv = prim::GetAttr[name=\"1\"](%_1.57)\n",
            "\t\t    %_0.63 : __torch__.ultralytics.nn.modules.conv.Conv = prim::GetAttr[name=\"0\"](%_1.57)\n",
            "\t\t    %conv.203 : __torch__.torch.nn.modules.conv.Conv2d = prim::GetAttr[name=\"conv\"](%_0.63)\n",
            "\t\t    %bias.445 : Tensor = prim::GetAttr[name=\"bias\"](%conv.203)\n",
            "\t\t    %weight.447 : Tensor = prim::GetAttr[name=\"weight\"](%conv.203)\n",
            "\t\t    %1714 : int[] = prim::ListConstruct(%1611, %1611), scope: __module.model.21/__module.model.21.cv2.1/__module.model.21.cv2.1.0/__module.model.21.cv2.1.0.conv\n",
            "\t\t    %1715 : int[] = prim::ListConstruct(%1611, %1611), scope: __module.model.21/__module.model.21.cv2.1/__module.model.21.cv2.1.0/__module.model.21.cv2.1.0.conv\n",
            "\t\t    %1716 : int[] = prim::ListConstruct(%1611, %1611), scope: __module.model.21/__module.model.21.cv2.1/__module.model.21.cv2.1.0/__module.model.21.cv2.1.0.conv\n",
            "\t\t    %1717 : int[] = prim::ListConstruct(%1613, %1613), scope: __module.model.21/__module.model.21.cv2.1/__module.model.21.cv2.1.0/__module.model.21.cv2.1.0.conv\n",
            "\t\t    %input.319 : Tensor = aten::_convolution(%input.257, %weight.447, %bias.445, %1714, %1715, %1716, %1612, %1717, %1611, %1612, %1614, %1614, %1614), scope: __module.model.21/__module.model.21.cv2.1/__module.model.21.cv2.1.0/__module.model.21.cv2.1.0.conv # /usr/local/lib/python3.11/dist-packages/torch/nn/modules/conv.py:549:0\n",
            "\t\t    %input.321 : Tensor = aten::silu_(%input.319), scope: __module.model.21/__module.model.21.cv2.1/__module.model.21.cv2.1.0/__module.model.21.cv3.2.1.1.act # /usr/local/lib/python3.11/dist-packages/torch/nn/functional.py:2379:0\n",
            "\t\t    %conv.205 : __torch__.torch.nn.modules.conv.Conv2d = prim::GetAttr[name=\"conv\"](%_1.55)\n",
            "\t\t    %bias.447 : Tensor = prim::GetAttr[name=\"bias\"](%conv.205)\n",
            "\t\t    %weight.449 : Tensor = prim::GetAttr[name=\"weight\"](%conv.205)\n",
            "\t\t    %1723 : int[] = prim::ListConstruct(%1611, %1611), scope: __module.model.21/__module.model.21.cv2.1/__module.model.21.cv2.1.1/__module.model.21.cv2.1.1.conv\n",
            "\t\t    %1724 : int[] = prim::ListConstruct(%1611, %1611), scope: __module.model.21/__module.model.21.cv2.1/__module.model.21.cv2.1.1/__module.model.21.cv2.1.1.conv\n",
            "\t\t    %1725 : int[] = prim::ListConstruct(%1611, %1611), scope: __module.model.21/__module.model.21.cv2.1/__module.model.21.cv2.1.1/__module.model.21.cv2.1.1.conv\n",
            "\t\t    %1726 : int[] = prim::ListConstruct(%1613, %1613), scope: __module.model.21/__module.model.21.cv2.1/__module.model.21.cv2.1.1/__module.model.21.cv2.1.1.conv\n",
            "\t\t    %input.323 : Tensor = aten::_convolution(%input.321, %weight.449, %bias.447, %1723, %1724, %1725, %1612, %1726, %1611, %1612, %1614, %1614, %1614), scope: __module.model.21/__module.model.21.cv2.1/__module.model.21.cv2.1.1/__module.model.21.cv2.1.1.conv # /usr/local/lib/python3.11/dist-packages/torch/nn/modules/conv.py:549:0\n",
            "\t\t    %input.325 : Tensor = aten::silu_(%input.323), scope: __module.model.21/__module.model.21.cv2.1/__module.model.21.cv2.1.1/__module.model.21.cv3.2.1.1.act # /usr/local/lib/python3.11/dist-packages/torch/nn/functional.py:2379:0\n",
            "\t\t    %bias.449 : Tensor = prim::GetAttr[name=\"bias\"](%_2.11)\n",
            "\t\t    %weight.451 : Tensor = prim::GetAttr[name=\"weight\"](%_2.11)\n",
            "\t\t    %1731 : int[] = prim::ListConstruct(%1611, %1611), scope: __module.model.21/__module.model.21.cv2.1/__module.model.21.cv2.1.2\n",
            "\t\t    %1732 : int[] = prim::ListConstruct(%1613, %1613), scope: __module.model.21/__module.model.21.cv2.1/__module.model.21.cv2.1.2\n",
            "\t\t    %1733 : int[] = prim::ListConstruct(%1611, %1611), scope: __module.model.21/__module.model.21.cv2.1/__module.model.21.cv2.1.2\n",
            "\t\t    %1734 : int[] = prim::ListConstruct(%1613, %1613), scope: __module.model.21/__module.model.21.cv2.1/__module.model.21.cv2.1.2\n",
            "\t\t    %1735 : Tensor = aten::_convolution(%input.325, %weight.451, %bias.449, %1731, %1732, %1733, %1612, %1734, %1611, %1612, %1614, %1614, %1614), scope: __module.model.21/__module.model.21.cv2.1/__module.model.21.cv2.1.2 # /usr/local/lib/python3.11/dist-packages/torch/nn/modules/conv.py:549:0\n",
            "\t\t    %_2.13 : __torch__.torch.nn.modules.conv.Conv2d = prim::GetAttr[name=\"2\"](%_1.65)\n",
            "\t\t    %_1.63 : __torch__.torch.nn.modules.container.Sequential = prim::GetAttr[name=\"1\"](%_1.65)\n",
            "\t\t    %_0.67 : __torch__.torch.nn.modules.container.Sequential = prim::GetAttr[name=\"0\"](%_1.65)\n",
            "\t\t    %_1.59 : __torch__.ultralytics.nn.modules.conv.Conv = prim::GetAttr[name=\"1\"](%_0.67)\n",
            "\t\t    %_0.65 : __torch__.ultralytics.nn.modules.conv.DWConv = prim::GetAttr[name=\"0\"](%_0.67)\n",
            "\t\t    %conv.207 : __torch__.torch.nn.modules.conv.Conv2d = prim::GetAttr[name=\"conv\"](%_0.65)\n",
            "\t\t    %bias.451 : Tensor = prim::GetAttr[name=\"bias\"](%conv.207)\n",
            "\t\t    %weight.453 : Tensor = prim::GetAttr[name=\"weight\"](%conv.207)\n",
            "\t\t    %1744 : int[] = prim::ListConstruct(%1611, %1611), scope: __module.model.21/__module.model.21.cv3.1/__module.model.21.cv3.1.0/__module.model.21.cv3.1.0.0/__module.model.21.cv3.1.0.0.conv\n",
            "\t\t    %1745 : int[] = prim::ListConstruct(%1611, %1611), scope: __module.model.21/__module.model.21.cv3.1/__module.model.21.cv3.1.0/__module.model.21.cv3.1.0.0/__module.model.21.cv3.1.0.0.conv\n",
            "\t\t    %1746 : int[] = prim::ListConstruct(%1611, %1611), scope: __module.model.21/__module.model.21.cv3.1/__module.model.21.cv3.1.0/__module.model.21.cv3.1.0.0/__module.model.21.cv3.1.0.0.conv\n",
            "\t\t    %1747 : int[] = prim::ListConstruct(%1613, %1613), scope: __module.model.21/__module.model.21.cv3.1/__module.model.21.cv3.1.0/__module.model.21.cv3.1.0.0/__module.model.21.cv3.1.0.0.conv\n",
            "\t\t    %input.327 : Tensor = aten::_convolution(%input.257, %weight.453, %bias.451, %1744, %1745, %1746, %1612, %1747, %1609, %1612, %1614, %1614, %1614), scope: __module.model.21/__module.model.21.cv3.1/__module.model.21.cv3.1.0/__module.model.21.cv3.1.0.0/__module.model.21.cv3.1.0.0.conv # /usr/local/lib/python3.11/dist-packages/torch/nn/modules/conv.py:549:0\n",
            "\t\t    %input.329 : Tensor = aten::silu_(%input.327), scope: __module.model.21/__module.model.21.cv3.1/__module.model.21.cv3.1.0/__module.model.21.cv3.1.0.0/__module.model.21.cv3.2.1.1.act # /usr/local/lib/python3.11/dist-packages/torch/nn/functional.py:2379:0\n",
            "\t\t    %conv.209 : __torch__.torch.nn.modules.conv.Conv2d = prim::GetAttr[name=\"conv\"](%_1.59)\n",
            "\t\t    %bias.453 : Tensor = prim::GetAttr[name=\"bias\"](%conv.209)\n",
            "\t\t    %weight.455 : Tensor = prim::GetAttr[name=\"weight\"](%conv.209)\n",
            "\t\t    %1753 : int[] = prim::ListConstruct(%1611, %1611), scope: __module.model.21/__module.model.21.cv3.1/__module.model.21.cv3.1.0/__module.model.21.cv3.1.0.1/__module.model.21.cv3.1.0.1.conv\n",
            "\t\t    %1754 : int[] = prim::ListConstruct(%1613, %1613), scope: __module.model.21/__module.model.21.cv3.1/__module.model.21.cv3.1.0/__module.model.21.cv3.1.0.1/__module.model.21.cv3.1.0.1.conv\n",
            "\t\t    %1755 : int[] = prim::ListConstruct(%1611, %1611), scope: __module.model.21/__module.model.21.cv3.1/__module.model.21.cv3.1.0/__module.model.21.cv3.1.0.1/__module.model.21.cv3.1.0.1.conv\n",
            "\t\t    %1756 : int[] = prim::ListConstruct(%1613, %1613), scope: __module.model.21/__module.model.21.cv3.1/__module.model.21.cv3.1.0/__module.model.21.cv3.1.0.1/__module.model.21.cv3.1.0.1.conv\n",
            "\t\t    %input.331 : Tensor = aten::_convolution(%input.329, %weight.455, %bias.453, %1753, %1754, %1755, %1612, %1756, %1611, %1612, %1614, %1614, %1614), scope: __module.model.21/__module.model.21.cv3.1/__module.model.21.cv3.1.0/__module.model.21.cv3.1.0.1/__module.model.21.cv3.1.0.1.conv # /usr/local/lib/python3.11/dist-packages/torch/nn/modules/conv.py:549:0\n",
            "\t\t    %input.333 : Tensor = aten::silu_(%input.331), scope: __module.model.21/__module.model.21.cv3.1/__module.model.21.cv3.1.0/__module.model.21.cv3.1.0.1/__module.model.21.cv3.2.1.1.act # /usr/local/lib/python3.11/dist-packages/torch/nn/functional.py:2379:0\n",
            "\t\t    %_1.61 : __torch__.ultralytics.nn.modules.conv.Conv = prim::GetAttr[name=\"1\"](%_1.63)\n",
            "\t\t    %_0.69 : __torch__.ultralytics.nn.modules.conv.DWConv = prim::GetAttr[name=\"0\"](%_1.63)\n",
            "\t\t    %conv.211 : __torch__.torch.nn.modules.conv.Conv2d = prim::GetAttr[name=\"conv\"](%_0.69)\n",
            "\t\t    %bias.455 : Tensor = prim::GetAttr[name=\"bias\"](%conv.211)\n",
            "\t\t    %weight.457 : Tensor = prim::GetAttr[name=\"weight\"](%conv.211)\n",
            "\t\t    %1764 : int[] = prim::ListConstruct(%1611, %1611), scope: __module.model.21/__module.model.21.cv3.1/__module.model.21.cv3.1.1/__module.model.21.cv3.1.1.0/__module.model.21.cv3.1.1.0.conv\n",
            "\t\t    %1765 : int[] = prim::ListConstruct(%1611, %1611), scope: __module.model.21/__module.model.21.cv3.1/__module.model.21.cv3.1.1/__module.model.21.cv3.1.1.0/__module.model.21.cv3.1.1.0.conv\n",
            "\t\t    %1766 : int[] = prim::ListConstruct(%1611, %1611), scope: __module.model.21/__module.model.21.cv3.1/__module.model.21.cv3.1.1/__module.model.21.cv3.1.1.0/__module.model.21.cv3.1.1.0.conv\n",
            "\t\t    %1767 : int[] = prim::ListConstruct(%1613, %1613), scope: __module.model.21/__module.model.21.cv3.1/__module.model.21.cv3.1.1/__module.model.21.cv3.1.1.0/__module.model.21.cv3.1.1.0.conv\n",
            "\t\t    %input.335 : Tensor = aten::_convolution(%input.333, %weight.457, %bias.455, %1764, %1765, %1766, %1612, %1767, %1610, %1612, %1614, %1614, %1614), scope: __module.model.21/__module.model.21.cv3.1/__module.model.21.cv3.1.1/__module.model.21.cv3.1.1.0/__module.model.21.cv3.1.1.0.conv # /usr/local/lib/python3.11/dist-packages/torch/nn/modules/conv.py:549:0\n",
            "\t\t    %input.337 : Tensor = aten::silu_(%input.335), scope: __module.model.21/__module.model.21.cv3.1/__module.model.21.cv3.1.1/__module.model.21.cv3.1.1.0/__module.model.21.cv3.2.1.1.act # /usr/local/lib/python3.11/dist-packages/torch/nn/functional.py:2379:0\n",
            "\t\t    %conv.213 : __torch__.torch.nn.modules.conv.Conv2d = prim::GetAttr[name=\"conv\"](%_1.61)\n",
            "\t\t    %bias.457 : Tensor = prim::GetAttr[name=\"bias\"](%conv.213)\n",
            "\t\t    %weight.459 : Tensor = prim::GetAttr[name=\"weight\"](%conv.213)\n",
            "\t\t    %1773 : int[] = prim::ListConstruct(%1611, %1611), scope: __module.model.21/__module.model.21.cv3.1/__module.model.21.cv3.1.1/__module.model.21.cv3.1.1.1/__module.model.21.cv3.1.1.1.conv\n",
            "\t\t    %1774 : int[] = prim::ListConstruct(%1613, %1613), scope: __module.model.21/__module.model.21.cv3.1/__module.model.21.cv3.1.1/__module.model.21.cv3.1.1.1/__module.model.21.cv3.1.1.1.conv\n",
            "\t\t    %1775 : int[] = prim::ListConstruct(%1611, %1611), scope: __module.model.21/__module.model.21.cv3.1/__module.model.21.cv3.1.1/__module.model.21.cv3.1.1.1/__module.model.21.cv3.1.1.1.conv\n",
            "\t\t    %1776 : int[] = prim::ListConstruct(%1613, %1613), scope: __module.model.21/__module.model.21.cv3.1/__module.model.21.cv3.1.1/__module.model.21.cv3.1.1.1/__module.model.21.cv3.1.1.1.conv\n",
            "\t\t    %input.339 : Tensor = aten::_convolution(%input.337, %weight.459, %bias.457, %1773, %1774, %1775, %1612, %1776, %1611, %1612, %1614, %1614, %1614), scope: __module.model.21/__module.model.21.cv3.1/__module.model.21.cv3.1.1/__module.model.21.cv3.1.1.1/__module.model.21.cv3.1.1.1.conv # /usr/local/lib/python3.11/dist-packages/torch/nn/modules/conv.py:549:0\n",
            "\t\t    %input.341 : Tensor = aten::silu_(%input.339), scope: __module.model.21/__module.model.21.cv3.1/__module.model.21.cv3.1.1/__module.model.21.cv3.1.1.1/__module.model.21.cv3.2.1.1.act # /usr/local/lib/python3.11/dist-packages/torch/nn/functional.py:2379:0\n",
            "\t\t    %bias.459 : Tensor = prim::GetAttr[name=\"bias\"](%_2.13)\n",
            "\t\t    %weight.461 : Tensor = prim::GetAttr[name=\"weight\"](%_2.13)\n",
            "\t\t    %1781 : int[] = prim::ListConstruct(%1611, %1611), scope: __module.model.21/__module.model.21.cv3.1/__module.model.21.cv3.1.2\n",
            "\t\t    %1782 : int[] = prim::ListConstruct(%1613, %1613), scope: __module.model.21/__module.model.21.cv3.1/__module.model.21.cv3.1.2\n",
            "\t\t    %1783 : int[] = prim::ListConstruct(%1611, %1611), scope: __module.model.21/__module.model.21.cv3.1/__module.model.21.cv3.1.2\n",
            "\t\t    %1784 : int[] = prim::ListConstruct(%1613, %1613), scope: __module.model.21/__module.model.21.cv3.1/__module.model.21.cv3.1.2\n",
            "\t\t    %1785 : Tensor = aten::_convolution(%input.341, %weight.461, %bias.459, %1781, %1782, %1783, %1612, %1784, %1611, %1612, %1614, %1614, %1614), scope: __module.model.21/__module.model.21.cv3.1/__module.model.21.cv3.1.2 # /usr/local/lib/python3.11/dist-packages/torch/nn/modules/conv.py:549:0\n",
            "\t\t    %1786 : Tensor[] = prim::ListConstruct(%1735, %1785), scope: __module.model.21\n",
            "\t\t    %xi.3 : Tensor = aten::cat(%1786, %1611), scope: __module.model.21 # /content/yolov12/ultralytics/nn/modules/head.py:70:0\n",
            "\t\t    %_2.15 : __torch__.torch.nn.modules.conv.Conv2d = prim::GetAttr[name=\"2\"](%_2.17)\n",
            "\t\t    %_1.67 : __torch__.ultralytics.nn.modules.conv.Conv = prim::GetAttr[name=\"1\"](%_2.17)\n",
            "\t\t    %_0.71 : __torch__.ultralytics.nn.modules.conv.Conv = prim::GetAttr[name=\"0\"](%_2.17)\n",
            "\t\t    %conv.215 : __torch__.torch.nn.modules.conv.Conv2d = prim::GetAttr[name=\"conv\"](%_0.71)\n",
            "\t\t    %bias.461 : Tensor = prim::GetAttr[name=\"bias\"](%conv.215)\n",
            "\t\t    %weight.463 : Tensor = prim::GetAttr[name=\"weight\"](%conv.215)\n",
            "\t\t    %1794 : int[] = prim::ListConstruct(%1611, %1611), scope: __module.model.21/__module.model.21.cv2.2/__module.model.21.cv2.2.0/__module.model.21.cv2.2.0.conv\n",
            "\t\t    %1795 : int[] = prim::ListConstruct(%1611, %1611), scope: __module.model.21/__module.model.21.cv2.2/__module.model.21.cv2.2.0/__module.model.21.cv2.2.0.conv\n",
            "\t\t    %1796 : int[] = prim::ListConstruct(%1611, %1611), scope: __module.model.21/__module.model.21.cv2.2/__module.model.21.cv2.2.0/__module.model.21.cv2.2.0.conv\n",
            "\t\t    %1797 : int[] = prim::ListConstruct(%1613, %1613), scope: __module.model.21/__module.model.21.cv2.2/__module.model.21.cv2.2.0/__module.model.21.cv2.2.0.conv\n",
            "\t\t    %input.345 : Tensor = aten::_convolution(%input.343, %weight.463, %bias.461, %1794, %1795, %1796, %1612, %1797, %1611, %1612, %1614, %1614, %1614), scope: __module.model.21/__module.model.21.cv2.2/__module.model.21.cv2.2.0/__module.model.21.cv2.2.0.conv # /usr/local/lib/python3.11/dist-packages/torch/nn/modules/conv.py:549:0\n",
            "\t\t    %input.347 : Tensor = aten::silu_(%input.345), scope: __module.model.21/__module.model.21.cv2.2/__module.model.21.cv2.2.0/__module.model.21.cv3.2.1.1.act # /usr/local/lib/python3.11/dist-packages/torch/nn/functional.py:2379:0\n",
            "\t\t    %conv.217 : __torch__.torch.nn.modules.conv.Conv2d = prim::GetAttr[name=\"conv\"](%_1.67)\n",
            "\t\t    %bias.463 : Tensor = prim::GetAttr[name=\"bias\"](%conv.217)\n",
            "\t\t    %weight.465 : Tensor = prim::GetAttr[name=\"weight\"](%conv.217)\n",
            "\t\t    %1803 : int[] = prim::ListConstruct(%1611, %1611), scope: __module.model.21/__module.model.21.cv2.2/__module.model.21.cv2.2.1/__module.model.21.cv2.2.1.conv\n",
            "\t\t    %1804 : int[] = prim::ListConstruct(%1611, %1611), scope: __module.model.21/__module.model.21.cv2.2/__module.model.21.cv2.2.1/__module.model.21.cv2.2.1.conv\n",
            "\t\t    %1805 : int[] = prim::ListConstruct(%1611, %1611), scope: __module.model.21/__module.model.21.cv2.2/__module.model.21.cv2.2.1/__module.model.21.cv2.2.1.conv\n",
            "\t\t    %1806 : int[] = prim::ListConstruct(%1613, %1613), scope: __module.model.21/__module.model.21.cv2.2/__module.model.21.cv2.2.1/__module.model.21.cv2.2.1.conv\n",
            "\t\t    %input.349 : Tensor = aten::_convolution(%input.347, %weight.465, %bias.463, %1803, %1804, %1805, %1612, %1806, %1611, %1612, %1614, %1614, %1614), scope: __module.model.21/__module.model.21.cv2.2/__module.model.21.cv2.2.1/__module.model.21.cv2.2.1.conv # /usr/local/lib/python3.11/dist-packages/torch/nn/modules/conv.py:549:0\n",
            "\t\t    %input.351 : Tensor = aten::silu_(%input.349), scope: __module.model.21/__module.model.21.cv2.2/__module.model.21.cv2.2.1/__module.model.21.cv3.2.1.1.act # /usr/local/lib/python3.11/dist-packages/torch/nn/functional.py:2379:0\n",
            "\t\t    %bias.465 : Tensor = prim::GetAttr[name=\"bias\"](%_2.15)\n",
            "\t\t    %weight.467 : Tensor = prim::GetAttr[name=\"weight\"](%_2.15)\n",
            "\t\t    %1811 : int[] = prim::ListConstruct(%1611, %1611), scope: __module.model.21/__module.model.21.cv2.2/__module.model.21.cv2.2.2\n",
            "\t\t    %1812 : int[] = prim::ListConstruct(%1613, %1613), scope: __module.model.21/__module.model.21.cv2.2/__module.model.21.cv2.2.2\n",
            "\t\t    %1813 : int[] = prim::ListConstruct(%1611, %1611), scope: __module.model.21/__module.model.21.cv2.2/__module.model.21.cv2.2.2\n",
            "\t\t    %1814 : int[] = prim::ListConstruct(%1613, %1613), scope: __module.model.21/__module.model.21.cv2.2/__module.model.21.cv2.2.2\n",
            "\t\t    %1815 : Tensor = aten::_convolution(%input.351, %weight.467, %bias.465, %1811, %1812, %1813, %1612, %1814, %1611, %1612, %1614, %1614, %1614), scope: __module.model.21/__module.model.21.cv2.2/__module.model.21.cv2.2.2 # /usr/local/lib/python3.11/dist-packages/torch/nn/modules/conv.py:549:0\n",
            "\t\t    %_2.19 : __torch__.torch.nn.modules.conv.Conv2d = prim::GetAttr[name=\"2\"](%_2)\n",
            "\t\t    %_1 : __torch__.torch.nn.modules.container.Sequential = prim::GetAttr[name=\"1\"](%_2)\n",
            "\t\t    %_0.75 : __torch__.torch.nn.modules.container.Sequential = prim::GetAttr[name=\"0\"](%_2)\n",
            "\t\t    %_1.69 : __torch__.ultralytics.nn.modules.conv.Conv = prim::GetAttr[name=\"1\"](%_0.75)\n",
            "\t\t    %_0.73 : __torch__.ultralytics.nn.modules.conv.DWConv = prim::GetAttr[name=\"0\"](%_0.75)\n",
            "\t\t    %conv.219 : __torch__.torch.nn.modules.conv.Conv2d = prim::GetAttr[name=\"conv\"](%_0.73)\n",
            "\t\t    %bias.467 : Tensor = prim::GetAttr[name=\"bias\"](%conv.219)\n",
            "\t\t    %weight.469 : Tensor = prim::GetAttr[name=\"weight\"](%conv.219)\n",
            "\t\t    %1824 : int[] = prim::ListConstruct(%1611, %1611), scope: __module.model.21/__module.model.21.cv3.2/__module.model.21.cv3.2.0/__module.model.21.cv3.2.0.0/__module.model.21.cv3.2.0.0.conv\n",
            "\t\t    %1825 : int[] = prim::ListConstruct(%1611, %1611), scope: __module.model.21/__module.model.21.cv3.2/__module.model.21.cv3.2.0/__module.model.21.cv3.2.0.0/__module.model.21.cv3.2.0.0.conv\n",
            "\t\t    %1826 : int[] = prim::ListConstruct(%1611, %1611), scope: __module.model.21/__module.model.21.cv3.2/__module.model.21.cv3.2.0/__module.model.21.cv3.2.0.0/__module.model.21.cv3.2.0.0.conv\n",
            "\t\t    %1827 : int[] = prim::ListConstruct(%1613, %1613), scope: __module.model.21/__module.model.21.cv3.2/__module.model.21.cv3.2.0/__module.model.21.cv3.2.0.0/__module.model.21.cv3.2.0.0.conv\n",
            "\t\t    %input.353 : Tensor = aten::_convolution(%input.343, %weight.469, %bias.467, %1824, %1825, %1826, %1612, %1827, %1608, %1612, %1614, %1614, %1614), scope: __module.model.21/__module.model.21.cv3.2/__module.model.21.cv3.2.0/__module.model.21.cv3.2.0.0/__module.model.21.cv3.2.0.0.conv # /usr/local/lib/python3.11/dist-packages/torch/nn/modules/conv.py:549:0\n",
            "\t\t    %input.355 : Tensor = aten::silu_(%input.353), scope: __module.model.21/__module.model.21.cv3.2/__module.model.21.cv3.2.0/__module.model.21.cv3.2.0.0/__module.model.21.cv3.2.1.1.act # /usr/local/lib/python3.11/dist-packages/torch/nn/functional.py:2379:0\n",
            "\t\t    %conv.221 : __torch__.torch.nn.modules.conv.Conv2d = prim::GetAttr[name=\"conv\"](%_1.69)\n",
            "\t\t    %bias.469 : Tensor = prim::GetAttr[name=\"bias\"](%conv.221)\n",
            "\t\t    %weight.471 : Tensor = prim::GetAttr[name=\"weight\"](%conv.221)\n",
            "\t\t    %1833 : int[] = prim::ListConstruct(%1611, %1611), scope: __module.model.21/__module.model.21.cv3.2/__module.model.21.cv3.2.0/__module.model.21.cv3.2.0.1/__module.model.21.cv3.2.0.1.conv\n",
            "\t\t    %1834 : int[] = prim::ListConstruct(%1613, %1613), scope: __module.model.21/__module.model.21.cv3.2/__module.model.21.cv3.2.0/__module.model.21.cv3.2.0.1/__module.model.21.cv3.2.0.1.conv\n",
            "\t\t    %1835 : int[] = prim::ListConstruct(%1611, %1611), scope: __module.model.21/__module.model.21.cv3.2/__module.model.21.cv3.2.0/__module.model.21.cv3.2.0.1/__module.model.21.cv3.2.0.1.conv\n",
            "\t\t    %1836 : int[] = prim::ListConstruct(%1613, %1613), scope: __module.model.21/__module.model.21.cv3.2/__module.model.21.cv3.2.0/__module.model.21.cv3.2.0.1/__module.model.21.cv3.2.0.1.conv\n",
            "\t\t    %input.357 : Tensor = aten::_convolution(%input.355, %weight.471, %bias.469, %1833, %1834, %1835, %1612, %1836, %1611, %1612, %1614, %1614, %1614), scope: __module.model.21/__module.model.21.cv3.2/__module.model.21.cv3.2.0/__module.model.21.cv3.2.0.1/__module.model.21.cv3.2.0.1.conv # /usr/local/lib/python3.11/dist-packages/torch/nn/modules/conv.py:549:0\n",
            "\t\t    %input.359 : Tensor = aten::silu_(%input.357), scope: __module.model.21/__module.model.21.cv3.2/__module.model.21.cv3.2.0/__module.model.21.cv3.2.0.1/__module.model.21.cv3.2.1.1.act # /usr/local/lib/python3.11/dist-packages/torch/nn/functional.py:2379:0\n",
            "\t\t    %_1.77 : __torch__.ultralytics.nn.modules.conv.Conv = prim::GetAttr[name=\"1\"](%_1)\n",
            "\t\t    %_0 : __torch__.ultralytics.nn.modules.conv.DWConv = prim::GetAttr[name=\"0\"](%_1)\n",
            "\t\t    %conv.223 : __torch__.torch.nn.modules.conv.Conv2d = prim::GetAttr[name=\"conv\"](%_0)\n",
            "\t\t    %bias.471 : Tensor = prim::GetAttr[name=\"bias\"](%conv.223)\n",
            "\t\t    %weight.473 : Tensor = prim::GetAttr[name=\"weight\"](%conv.223)\n",
            "\t\t    %1844 : int[] = prim::ListConstruct(%1611, %1611), scope: __module.model.21/__module.model.21.cv3.2/__module.model.21.cv3.2.1/__module.model.21.cv3.2.1.0/__module.model.21.cv3.2.1.0.conv\n",
            "\t\t    %1845 : int[] = prim::ListConstruct(%1611, %1611), scope: __module.model.21/__module.model.21.cv3.2/__module.model.21.cv3.2.1/__module.model.21.cv3.2.1.0/__module.model.21.cv3.2.1.0.conv\n",
            "\t\t    %1846 : int[] = prim::ListConstruct(%1611, %1611), scope: __module.model.21/__module.model.21.cv3.2/__module.model.21.cv3.2.1/__module.model.21.cv3.2.1.0/__module.model.21.cv3.2.1.0.conv\n",
            "\t\t    %1847 : int[] = prim::ListConstruct(%1613, %1613), scope: __module.model.21/__module.model.21.cv3.2/__module.model.21.cv3.2.1/__module.model.21.cv3.2.1.0/__module.model.21.cv3.2.1.0.conv\n",
            "\t\t    %input.361 : Tensor = aten::_convolution(%input.359, %weight.473, %bias.471, %1844, %1845, %1846, %1612, %1847, %1610, %1612, %1614, %1614, %1614), scope: __module.model.21/__module.model.21.cv3.2/__module.model.21.cv3.2.1/__module.model.21.cv3.2.1.0/__module.model.21.cv3.2.1.0.conv # /usr/local/lib/python3.11/dist-packages/torch/nn/modules/conv.py:549:0\n",
            "\t\t    %input.363 : Tensor = aten::silu_(%input.361), scope: __module.model.21/__module.model.21.cv3.2/__module.model.21.cv3.2.1/__module.model.21.cv3.2.1.0/__module.model.21.cv3.2.1.1.act # /usr/local/lib/python3.11/dist-packages/torch/nn/functional.py:2379:0\n",
            "\t\t    %conv.225 : __torch__.torch.nn.modules.conv.Conv2d = prim::GetAttr[name=\"conv\"](%_1.77)\n",
            "\t\t    %bias.473 : Tensor = prim::GetAttr[name=\"bias\"](%conv.225)\n",
            "\t\t    %weight.475 : Tensor = prim::GetAttr[name=\"weight\"](%conv.225)\n",
            "\t\t    %1853 : int[] = prim::ListConstruct(%1611, %1611), scope: __module.model.21/__module.model.21.cv3.2/__module.model.21.cv3.2.1/__module.model.21.cv3.2.1.1/__module.model.21.cv3.2.1.1.conv\n",
            "\t\t    %1854 : int[] = prim::ListConstruct(%1613, %1613), scope: __module.model.21/__module.model.21.cv3.2/__module.model.21.cv3.2.1/__module.model.21.cv3.2.1.1/__module.model.21.cv3.2.1.1.conv\n",
            "\t\t    %1855 : int[] = prim::ListConstruct(%1611, %1611), scope: __module.model.21/__module.model.21.cv3.2/__module.model.21.cv3.2.1/__module.model.21.cv3.2.1.1/__module.model.21.cv3.2.1.1.conv\n",
            "\t\t    %1856 : int[] = prim::ListConstruct(%1613, %1613), scope: __module.model.21/__module.model.21.cv3.2/__module.model.21.cv3.2.1/__module.model.21.cv3.2.1.1/__module.model.21.cv3.2.1.1.conv\n",
            "\t\t    %input.365 : Tensor = aten::_convolution(%input.363, %weight.475, %bias.473, %1853, %1854, %1855, %1612, %1856, %1611, %1612, %1614, %1614, %1614), scope: __module.model.21/__module.model.21.cv3.2/__module.model.21.cv3.2.1/__module.model.21.cv3.2.1.1/__module.model.21.cv3.2.1.1.conv # /usr/local/lib/python3.11/dist-packages/torch/nn/modules/conv.py:549:0\n",
            "\t\t    %input.367 : Tensor = aten::silu_(%input.365), scope: __module.model.21/__module.model.21.cv3.2/__module.model.21.cv3.2.1/__module.model.21.cv3.2.1.1/__module.model.21.cv3.2.1.1.act # /usr/local/lib/python3.11/dist-packages/torch/nn/functional.py:2379:0\n",
            "\t\t    %bias : Tensor = prim::GetAttr[name=\"bias\"](%_2.19)\n",
            "\t\t    %weight.477 : Tensor = prim::GetAttr[name=\"weight\"](%_2.19)\n",
            "\t\t    %1861 : int[] = prim::ListConstruct(%1611, %1611), scope: __module.model.21/__module.model.21.cv3.2/__module.model.21.cv3.2.2\n",
            "\t\t    %1862 : int[] = prim::ListConstruct(%1613, %1613), scope: __module.model.21/__module.model.21.cv3.2/__module.model.21.cv3.2.2\n",
            "\t\t    %1863 : int[] = prim::ListConstruct(%1611, %1611), scope: __module.model.21/__module.model.21.cv3.2/__module.model.21.cv3.2.2\n",
            "\t\t    %1864 : int[] = prim::ListConstruct(%1613, %1613), scope: __module.model.21/__module.model.21.cv3.2/__module.model.21.cv3.2.2\n",
            "\t\t    %1865 : Tensor = aten::_convolution(%input.367, %weight.477, %bias, %1861, %1862, %1863, %1612, %1864, %1611, %1612, %1614, %1614, %1614), scope: __module.model.21/__module.model.21.cv3.2/__module.model.21.cv3.2.2 # /usr/local/lib/python3.11/dist-packages/torch/nn/modules/conv.py:549:0\n",
            "\t\t    %1866 : Tensor[] = prim::ListConstruct(%1815, %1865), scope: __module.model.21\n",
            "\t\t    %xi : Tensor = aten::cat(%1866, %1611), scope: __module.model.21 # /content/yolov12/ultralytics/nn/modules/head.py:70:0\n",
            "\t\t    %1868 : int = aten::size(%xi.1, %1613), scope: __module.model.21 # /content/yolov12/ultralytics/nn/modules/head.py:103:0\n",
            "\t\t    %1869 : int[] = prim::ListConstruct(%1868, %1607, %1606), scope: __module.model.21\n",
            "\t\t    %1870 : Tensor = aten::view(%xi.1, %1869), scope: __module.model.21 # /content/yolov12/ultralytics/nn/modules/head.py:104:0\n",
            "\t\t    %1871 : int[] = prim::ListConstruct(%1868, %1607, %1606), scope: __module.model.21\n",
            "\t\t    %1872 : Tensor = aten::view(%xi.3, %1871), scope: __module.model.21 # /content/yolov12/ultralytics/nn/modules/head.py:104:0\n",
            "\t\t    %1873 : int[] = prim::ListConstruct(%1868, %1607, %1606), scope: __module.model.21\n",
            "\t\t    %1874 : Tensor = aten::view(%xi, %1873), scope: __module.model.21 # /content/yolov12/ultralytics/nn/modules/head.py:104:0\n",
            "\t\t    %1875 : Tensor[] = prim::ListConstruct(%1870, %1872, %1874), scope: __module.model.21\n",
            "\t\t    %1876 : Tensor = aten::cat(%1875, %1605), scope: __module.model.21 # /content/yolov12/ultralytics/nn/modules/head.py:104:0\n",
            "\t\t    %1877 : int[] = prim::ListConstruct(%1604, %1603), scope: __module.model.21\n",
            "\t\t    %1878 : Tensor[] = aten::split_with_sizes(%1876, %1877, %1611), scope: __module.model.21 # /usr/local/lib/python3.11/dist-packages/torch/_tensor.py:983:0\n",
            "\t\t    %x : Tensor, %cls : Tensor = prim::ListUnpack(%1878), scope: __module.model.21\n",
            "\t\t    %conv : __torch__.torch.nn.modules.conv.Conv2d = prim::GetAttr[name=\"conv\"](%dfl)\n",
            "\t\t    %1882 : int = aten::size(%x, %1613), scope: __module.model.21/__module.model.21.dfl # /content/yolov12/ultralytics/nn/modules/block.py:73:0\n",
            "\t\t    %1883 : int = aten::size(%x, %1605), scope: __module.model.21/__module.model.21.dfl # /content/yolov12/ultralytics/nn/modules/block.py:73:0\n",
            "\t\t    %1884 : int[] = prim::ListConstruct(%1882, %1600, %1601, %1883), scope: __module.model.21/__module.model.21.dfl\n",
            "\t\t    %1885 : Tensor = aten::view(%x, %1884), scope: __module.model.21/__module.model.21.dfl # /content/yolov12/ultralytics/nn/modules/block.py:74:0\n",
            "\t\t    %1886 : Tensor = aten::transpose(%1885, %1605, %1611), scope: __module.model.21/__module.model.21.dfl # /content/yolov12/ultralytics/nn/modules/block.py:74:0\n",
            "\t\t    %input : Tensor = aten::softmax(%1886, %1611, %1602), scope: __module.model.21/__module.model.21.dfl # /content/yolov12/ultralytics/nn/modules/block.py:74:0\n",
            "\t\t    %weight : Tensor = prim::GetAttr[name=\"weight\"](%conv)\n",
            "\t\t    %1889 : int[] = prim::ListConstruct(%1611, %1611), scope: __module.model.21/__module.model.21.dfl/__module.model.21.dfl.conv\n",
            "\t\t    %1890 : int[] = prim::ListConstruct(%1613, %1613), scope: __module.model.21/__module.model.21.dfl/__module.model.21.dfl.conv\n",
            "\t\t    %1891 : int[] = prim::ListConstruct(%1611, %1611), scope: __module.model.21/__module.model.21.dfl/__module.model.21.dfl.conv\n",
            "\t\t    %1892 : int[] = prim::ListConstruct(%1613, %1613), scope: __module.model.21/__module.model.21.dfl/__module.model.21.dfl.conv\n",
            "\t\t    %1893 : Tensor = aten::_convolution(%input, %weight, %1602, %1889, %1890, %1891, %1612, %1892, %1611, %1612, %1614, %1614, %1614), scope: __module.model.21/__module.model.21.dfl/__module.model.21.dfl.conv # /usr/local/lib/python3.11/dist-packages/torch/nn/modules/conv.py:549:0\n",
            "\t\t    %1894 : int[] = prim::ListConstruct(%1882, %1600, %1883), scope: __module.model.21/__module.model.21.dfl\n",
            "\t\t    %distance : Tensor = aten::view(%1893, %1894), scope: __module.model.21/__module.model.21.dfl # /content/yolov12/ultralytics/nn/modules/block.py:74:0\n",
            "\t\t    %anchor_points : Tensor = aten::unsqueeze(%1599, %1613), scope: __module.model.21 # /content/yolov12/ultralytics/nn/modules/head.py:129:0\n",
            "\t\t    %1897 : Tensor[] = aten::chunk(%distance, %1605, %1611), scope: __module.model.21 # /content/yolov12/ultralytics/utils/tal.py:350:0\n",
            "\t\t    %lt : Tensor, %rb : Tensor = prim::ListUnpack(%1897), scope: __module.model.21\n",
            "\t\t    %x1y1 : Tensor = aten::sub(%anchor_points, %lt, %1611), scope: __module.model.21 # /content/yolov12/ultralytics/utils/tal.py:351:0\n",
            "\t\t    %x2y2 : Tensor = aten::add(%anchor_points, %rb, %1611), scope: __module.model.21 # /content/yolov12/ultralytics/utils/tal.py:352:0\n",
            "\t\t    %1902 : Tensor = aten::add(%x1y1, %x2y2, %1611), scope: __module.model.21 # /content/yolov12/ultralytics/utils/tal.py:354:0\n",
            "\t\t    %c_xy : Tensor = aten::div(%1902, %1598), scope: __module.model.21 # /content/yolov12/ultralytics/utils/tal.py:354:0\n",
            "\t\t    %wh : Tensor = aten::sub(%x2y2, %x1y1, %1611), scope: __module.model.21 # /content/yolov12/ultralytics/utils/tal.py:355:0\n",
            "\t\t    %1905 : Tensor[] = prim::ListConstruct(%c_xy, %wh), scope: __module.model.21\n",
            "\t\t    %1906 : Tensor = aten::cat(%1905, %1611), scope: __module.model.21 # /content/yolov12/ultralytics/utils/tal.py:356:0\n",
            "\t\t    %dbox : Tensor = aten::mul(%1906, %1597), scope: __module.model.21 # /content/yolov12/ultralytics/nn/modules/head.py:129:0\n",
            "\t\t    %1908 : Tensor = aten::sigmoid(%cls), scope: __module.model.21 # /content/yolov12/ultralytics/nn/modules/head.py:131:0\n",
            "\t\t    %1909 : Tensor[] = prim::ListConstruct(%dbox, %1908), scope: __module.model.21\n",
            "\t\t    %1910 : Tensor = aten::cat(%1909, %1611), scope: __module.model.21 # /content/yolov12/ultralytics/nn/modules/head.py:131:0\n",
            "\t\t    return (%1910)\n",
            "\tFirst diverging operator:\n",
            "\tNode diff:\n",
            "\t\t- %model : __torch__.torch.nn.modules.container.___torch_mangle_13389.Sequential = prim::GetAttr[name=\"model\"](%self.1)\n",
            "\t\t?                                                                 - ^\n",
            "\t\t+ %model : __torch__.torch.nn.modules.container.___torch_mangle_13821.Sequential = prim::GetAttr[name=\"model\"](%self.1)\n",
            "\t\t?                                                                  ^^\n",
            "\n",
            "Image sizes 512 train, 512 val\n",
            "Using 8 dataloader workers\n",
            "Logging results to \u001b[1mruns/detect/train5\u001b[0m\n",
            "Starting training for 200 epochs...\n",
            "\n",
            "      Epoch    GPU_mem   box_loss   cls_loss   dfl_loss  Instances       Size\n"
          ]
        },
        {
          "output_type": "stream",
          "name": "stderr",
          "text": [
            "      1/200      11.6G      1.646      2.366      1.871         31        512: 100%|██████████| 65/65 [00:38<00:00,  1.68it/s]\n",
            "                 Class     Images  Instances      Box(P          R      mAP50  mAP50-95): 100%|██████████| 1/1 [00:00<00:00,  1.64it/s]"
          ]
        },
        {
          "output_type": "stream",
          "name": "stdout",
          "text": [
            "                   all         90        102      0.838      0.672      0.936      0.634\n"
          ]
        },
        {
          "output_type": "stream",
          "name": "stderr",
          "text": [
            "\n"
          ]
        },
        {
          "output_type": "stream",
          "name": "stdout",
          "text": [
            "\n",
            "      Epoch    GPU_mem   box_loss   cls_loss   dfl_loss  Instances       Size\n"
          ]
        },
        {
          "output_type": "stream",
          "name": "stderr",
          "text": [
            "      2/200      11.3G      1.043      1.154      1.358         23        512: 100%|██████████| 65/65 [00:39<00:00,  1.66it/s]\n",
            "                 Class     Images  Instances      Box(P          R      mAP50  mAP50-95): 100%|██████████| 1/1 [00:00<00:00,  1.64it/s]"
          ]
        },
        {
          "output_type": "stream",
          "name": "stdout",
          "text": [
            "                   all         90        102      0.768      0.875      0.941      0.768\n"
          ]
        },
        {
          "output_type": "stream",
          "name": "stderr",
          "text": [
            "\n"
          ]
        },
        {
          "output_type": "stream",
          "name": "stdout",
          "text": [
            "\n",
            "      Epoch    GPU_mem   box_loss   cls_loss   dfl_loss  Instances       Size\n"
          ]
        },
        {
          "output_type": "stream",
          "name": "stderr",
          "text": [
            "      3/200      11.2G      1.024      1.037       1.33         34        512: 100%|██████████| 65/65 [00:36<00:00,  1.80it/s]\n",
            "                 Class     Images  Instances      Box(P          R      mAP50  mAP50-95): 100%|██████████| 1/1 [00:00<00:00,  1.65it/s]"
          ]
        },
        {
          "output_type": "stream",
          "name": "stdout",
          "text": [
            "                   all         90        102      0.822      0.897      0.893      0.716\n"
          ]
        },
        {
          "output_type": "stream",
          "name": "stderr",
          "text": [
            "\n"
          ]
        },
        {
          "output_type": "stream",
          "name": "stdout",
          "text": [
            "\n",
            "      Epoch    GPU_mem   box_loss   cls_loss   dfl_loss  Instances       Size\n"
          ]
        },
        {
          "output_type": "stream",
          "name": "stderr",
          "text": [
            "      4/200      11.2G       1.04     0.9904      1.341         30        512: 100%|██████████| 65/65 [00:39<00:00,  1.64it/s]\n",
            "                 Class     Images  Instances      Box(P          R      mAP50  mAP50-95): 100%|██████████| 1/1 [00:00<00:00,  1.64it/s]"
          ]
        },
        {
          "output_type": "stream",
          "name": "stdout",
          "text": [
            "                   all         90        102      0.731      0.853      0.879      0.679\n"
          ]
        },
        {
          "output_type": "stream",
          "name": "stderr",
          "text": [
            "\n"
          ]
        },
        {
          "output_type": "stream",
          "name": "stdout",
          "text": [
            "\n",
            "      Epoch    GPU_mem   box_loss   cls_loss   dfl_loss  Instances       Size\n"
          ]
        },
        {
          "output_type": "stream",
          "name": "stderr",
          "text": [
            "      5/200      11.2G      1.006     0.9046      1.314         27        512: 100%|██████████| 65/65 [00:37<00:00,  1.74it/s]\n",
            "                 Class     Images  Instances      Box(P          R      mAP50  mAP50-95): 100%|██████████| 1/1 [00:00<00:00,  1.65it/s]"
          ]
        },
        {
          "output_type": "stream",
          "name": "stdout",
          "text": [
            "                   all         90        102      0.941      0.964      0.975      0.793\n"
          ]
        },
        {
          "output_type": "stream",
          "name": "stderr",
          "text": [
            "\n"
          ]
        },
        {
          "output_type": "stream",
          "name": "stdout",
          "text": [
            "\n",
            "      Epoch    GPU_mem   box_loss   cls_loss   dfl_loss  Instances       Size\n"
          ]
        },
        {
          "output_type": "stream",
          "name": "stderr",
          "text": [
            "      6/200      11.3G     0.9886     0.8563      1.305         35        512: 100%|██████████| 65/65 [00:37<00:00,  1.74it/s]\n",
            "                 Class     Images  Instances      Box(P          R      mAP50  mAP50-95): 100%|██████████| 1/1 [00:00<00:00,  1.71it/s]"
          ]
        },
        {
          "output_type": "stream",
          "name": "stdout",
          "text": [
            "                   all         90        102      0.929      0.926      0.956      0.787\n"
          ]
        },
        {
          "output_type": "stream",
          "name": "stderr",
          "text": [
            "\n"
          ]
        },
        {
          "output_type": "stream",
          "name": "stdout",
          "text": [
            "\n",
            "      Epoch    GPU_mem   box_loss   cls_loss   dfl_loss  Instances       Size\n"
          ]
        },
        {
          "output_type": "stream",
          "name": "stderr",
          "text": [
            "      7/200      11.2G     0.9826     0.8311      1.305         24        512: 100%|██████████| 65/65 [00:38<00:00,  1.68it/s]\n",
            "                 Class     Images  Instances      Box(P          R      mAP50  mAP50-95): 100%|██████████| 1/1 [00:00<00:00,  1.69it/s]"
          ]
        },
        {
          "output_type": "stream",
          "name": "stdout",
          "text": [
            "                   all         90        102      0.895      0.837      0.941      0.756\n"
          ]
        },
        {
          "output_type": "stream",
          "name": "stderr",
          "text": [
            "\n"
          ]
        },
        {
          "output_type": "stream",
          "name": "stdout",
          "text": [
            "\n",
            "      Epoch    GPU_mem   box_loss   cls_loss   dfl_loss  Instances       Size\n"
          ]
        },
        {
          "output_type": "stream",
          "name": "stderr",
          "text": [
            "      8/200      11.2G     0.9672     0.8176      1.288         29        512: 100%|██████████| 65/65 [00:38<00:00,  1.68it/s]\n",
            "                 Class     Images  Instances      Box(P          R      mAP50  mAP50-95): 100%|██████████| 1/1 [00:00<00:00,  1.70it/s]"
          ]
        },
        {
          "output_type": "stream",
          "name": "stdout",
          "text": [
            "                   all         90        102      0.932       0.96      0.957        0.8\n"
          ]
        },
        {
          "output_type": "stream",
          "name": "stderr",
          "text": [
            "\n"
          ]
        },
        {
          "output_type": "stream",
          "name": "stdout",
          "text": [
            "\n",
            "      Epoch    GPU_mem   box_loss   cls_loss   dfl_loss  Instances       Size\n"
          ]
        },
        {
          "output_type": "stream",
          "name": "stderr",
          "text": [
            "      9/200      11.2G     0.9473     0.7697      1.275         28        512: 100%|██████████| 65/65 [00:36<00:00,  1.79it/s]\n",
            "                 Class     Images  Instances      Box(P          R      mAP50  mAP50-95): 100%|██████████| 1/1 [00:00<00:00,  1.67it/s]"
          ]
        },
        {
          "output_type": "stream",
          "name": "stdout",
          "text": [
            "                   all         90        102      0.842      0.877      0.915      0.737\n"
          ]
        },
        {
          "output_type": "stream",
          "name": "stderr",
          "text": [
            "\n"
          ]
        },
        {
          "output_type": "stream",
          "name": "stdout",
          "text": [
            "\n",
            "      Epoch    GPU_mem   box_loss   cls_loss   dfl_loss  Instances       Size\n"
          ]
        },
        {
          "output_type": "stream",
          "name": "stderr",
          "text": [
            "     10/200      11.2G     0.9492     0.7793      1.281         20        512: 100%|██████████| 65/65 [00:37<00:00,  1.74it/s]\n",
            "                 Class     Images  Instances      Box(P          R      mAP50  mAP50-95): 100%|██████████| 1/1 [00:00<00:00,  1.79it/s]"
          ]
        },
        {
          "output_type": "stream",
          "name": "stdout",
          "text": [
            "                   all         90        102      0.933      0.975      0.977      0.816\n"
          ]
        },
        {
          "output_type": "stream",
          "name": "stderr",
          "text": [
            "\n"
          ]
        },
        {
          "output_type": "stream",
          "name": "stdout",
          "text": [
            "\n",
            "      Epoch    GPU_mem   box_loss   cls_loss   dfl_loss  Instances       Size\n"
          ]
        },
        {
          "output_type": "stream",
          "name": "stderr",
          "text": [
            "     11/200      11.3G     0.9509     0.7647      1.284         29        512: 100%|██████████| 65/65 [00:38<00:00,  1.67it/s]\n",
            "                 Class     Images  Instances      Box(P          R      mAP50  mAP50-95): 100%|██████████| 1/1 [00:00<00:00,  1.70it/s]"
          ]
        },
        {
          "output_type": "stream",
          "name": "stdout",
          "text": [
            "                   all         90        102      0.814       0.93      0.961      0.815\n"
          ]
        },
        {
          "output_type": "stream",
          "name": "stderr",
          "text": [
            "\n"
          ]
        },
        {
          "output_type": "stream",
          "name": "stdout",
          "text": [
            "\n",
            "      Epoch    GPU_mem   box_loss   cls_loss   dfl_loss  Instances       Size\n"
          ]
        },
        {
          "output_type": "stream",
          "name": "stderr",
          "text": [
            "     12/200      11.2G     0.9413     0.7602      1.276         26        512: 100%|██████████| 65/65 [00:38<00:00,  1.67it/s]\n",
            "                 Class     Images  Instances      Box(P          R      mAP50  mAP50-95): 100%|██████████| 1/1 [00:00<00:00,  1.70it/s]"
          ]
        },
        {
          "output_type": "stream",
          "name": "stdout",
          "text": [
            "                   all         90        102      0.793       0.95      0.968      0.804\n"
          ]
        },
        {
          "output_type": "stream",
          "name": "stderr",
          "text": [
            "\n"
          ]
        },
        {
          "output_type": "stream",
          "name": "stdout",
          "text": [
            "\n",
            "      Epoch    GPU_mem   box_loss   cls_loss   dfl_loss  Instances       Size\n"
          ]
        },
        {
          "output_type": "stream",
          "name": "stderr",
          "text": [
            "     13/200      11.3G     0.9265     0.7472      1.263         27        512: 100%|██████████| 65/65 [00:38<00:00,  1.67it/s]\n",
            "                 Class     Images  Instances      Box(P          R      mAP50  mAP50-95): 100%|██████████| 1/1 [00:00<00:00,  1.74it/s]"
          ]
        },
        {
          "output_type": "stream",
          "name": "stdout",
          "text": [
            "                   all         90        102      0.864      0.973      0.959      0.802\n"
          ]
        },
        {
          "output_type": "stream",
          "name": "stderr",
          "text": [
            "\n"
          ]
        },
        {
          "output_type": "stream",
          "name": "stdout",
          "text": [
            "\n",
            "      Epoch    GPU_mem   box_loss   cls_loss   dfl_loss  Instances       Size\n"
          ]
        },
        {
          "output_type": "stream",
          "name": "stderr",
          "text": [
            "     14/200      11.2G     0.9162      0.749      1.255         29        512: 100%|██████████| 65/65 [00:37<00:00,  1.73it/s]\n",
            "                 Class     Images  Instances      Box(P          R      mAP50  mAP50-95): 100%|██████████| 1/1 [00:00<00:00,  1.72it/s]"
          ]
        },
        {
          "output_type": "stream",
          "name": "stdout",
          "text": [
            "                   all         90        102      0.876      0.965       0.94       0.79\n"
          ]
        },
        {
          "output_type": "stream",
          "name": "stderr",
          "text": [
            "\n"
          ]
        },
        {
          "output_type": "stream",
          "name": "stdout",
          "text": [
            "\n",
            "      Epoch    GPU_mem   box_loss   cls_loss   dfl_loss  Instances       Size\n"
          ]
        },
        {
          "output_type": "stream",
          "name": "stderr",
          "text": [
            "     15/200      11.2G     0.9114     0.7352      1.258         30        512: 100%|██████████| 65/65 [00:37<00:00,  1.73it/s]\n",
            "                 Class     Images  Instances      Box(P          R      mAP50  mAP50-95): 100%|██████████| 1/1 [00:00<00:00,  1.71it/s]"
          ]
        },
        {
          "output_type": "stream",
          "name": "stdout",
          "text": [
            "                   all         90        102      0.891      0.931      0.946      0.801\n"
          ]
        },
        {
          "output_type": "stream",
          "name": "stderr",
          "text": [
            "\n"
          ]
        },
        {
          "output_type": "stream",
          "name": "stdout",
          "text": [
            "\n",
            "      Epoch    GPU_mem   box_loss   cls_loss   dfl_loss  Instances       Size\n"
          ]
        },
        {
          "output_type": "stream",
          "name": "stderr",
          "text": [
            "     16/200      11.3G     0.9053     0.7172      1.249         30        512: 100%|██████████| 65/65 [00:36<00:00,  1.77it/s]\n",
            "                 Class     Images  Instances      Box(P          R      mAP50  mAP50-95): 100%|██████████| 1/1 [00:00<00:00,  1.70it/s]"
          ]
        },
        {
          "output_type": "stream",
          "name": "stdout",
          "text": [
            "                   all         90        102      0.874      0.973      0.955      0.805\n"
          ]
        },
        {
          "output_type": "stream",
          "name": "stderr",
          "text": [
            "\n"
          ]
        },
        {
          "output_type": "stream",
          "name": "stdout",
          "text": [
            "\n",
            "      Epoch    GPU_mem   box_loss   cls_loss   dfl_loss  Instances       Size\n"
          ]
        },
        {
          "output_type": "stream",
          "name": "stderr",
          "text": [
            "     17/200      11.3G      0.901     0.7179       1.25         29        512: 100%|██████████| 65/65 [00:39<00:00,  1.63it/s]\n",
            "                 Class     Images  Instances      Box(P          R      mAP50  mAP50-95): 100%|██████████| 1/1 [00:00<00:00,  1.71it/s]"
          ]
        },
        {
          "output_type": "stream",
          "name": "stdout",
          "text": [
            "                   all         90        102      0.907      0.927      0.955      0.817\n"
          ]
        },
        {
          "output_type": "stream",
          "name": "stderr",
          "text": [
            "\n"
          ]
        },
        {
          "output_type": "stream",
          "name": "stdout",
          "text": [
            "\n",
            "      Epoch    GPU_mem   box_loss   cls_loss   dfl_loss  Instances       Size\n"
          ]
        },
        {
          "output_type": "stream",
          "name": "stderr",
          "text": [
            "     18/200      11.2G     0.8916     0.6995      1.247         29        512: 100%|██████████| 65/65 [00:37<00:00,  1.71it/s]\n",
            "                 Class     Images  Instances      Box(P          R      mAP50  mAP50-95): 100%|██████████| 1/1 [00:00<00:00,  1.69it/s]"
          ]
        },
        {
          "output_type": "stream",
          "name": "stdout",
          "text": [
            "                   all         90        102      0.919      0.943      0.967      0.814\n"
          ]
        },
        {
          "output_type": "stream",
          "name": "stderr",
          "text": [
            "\n"
          ]
        },
        {
          "output_type": "stream",
          "name": "stdout",
          "text": [
            "\n",
            "      Epoch    GPU_mem   box_loss   cls_loss   dfl_loss  Instances       Size\n"
          ]
        },
        {
          "output_type": "stream",
          "name": "stderr",
          "text": [
            "     19/200      11.2G     0.8832     0.7016      1.234         32        512: 100%|██████████| 65/65 [00:39<00:00,  1.66it/s]\n",
            "                 Class     Images  Instances      Box(P          R      mAP50  mAP50-95): 100%|██████████| 1/1 [00:00<00:00,  1.71it/s]"
          ]
        },
        {
          "output_type": "stream",
          "name": "stdout",
          "text": [
            "                   all         90        102      0.905      0.983       0.96      0.819\n"
          ]
        },
        {
          "output_type": "stream",
          "name": "stderr",
          "text": [
            "\n"
          ]
        },
        {
          "output_type": "stream",
          "name": "stdout",
          "text": [
            "\n",
            "      Epoch    GPU_mem   box_loss   cls_loss   dfl_loss  Instances       Size\n"
          ]
        },
        {
          "output_type": "stream",
          "name": "stderr",
          "text": [
            "     20/200      11.2G     0.9032     0.7225      1.249         41        512: 100%|██████████| 65/65 [00:36<00:00,  1.79it/s]\n",
            "                 Class     Images  Instances      Box(P          R      mAP50  mAP50-95): 100%|██████████| 1/1 [00:00<00:00,  1.89it/s]"
          ]
        },
        {
          "output_type": "stream",
          "name": "stdout",
          "text": [
            "                   all         90        102      0.948      0.998      0.989      0.828\n"
          ]
        },
        {
          "output_type": "stream",
          "name": "stderr",
          "text": [
            "\n"
          ]
        },
        {
          "output_type": "stream",
          "name": "stdout",
          "text": [
            "\n",
            "      Epoch    GPU_mem   box_loss   cls_loss   dfl_loss  Instances       Size\n"
          ]
        },
        {
          "output_type": "stream",
          "name": "stderr",
          "text": [
            "     21/200      11.2G     0.8833     0.6967      1.237         35        512: 100%|██████████| 65/65 [00:40<00:00,  1.62it/s]\n",
            "                 Class     Images  Instances      Box(P          R      mAP50  mAP50-95): 100%|██████████| 1/1 [00:00<00:00,  1.68it/s]"
          ]
        },
        {
          "output_type": "stream",
          "name": "stdout",
          "text": [
            "                   all         90        102      0.885       0.89      0.933      0.792\n"
          ]
        },
        {
          "output_type": "stream",
          "name": "stderr",
          "text": [
            "\n"
          ]
        },
        {
          "output_type": "stream",
          "name": "stdout",
          "text": [
            "\n",
            "      Epoch    GPU_mem   box_loss   cls_loss   dfl_loss  Instances       Size\n"
          ]
        },
        {
          "output_type": "stream",
          "name": "stderr",
          "text": [
            "     22/200      11.2G      0.876     0.6915      1.232         36        512: 100%|██████████| 65/65 [00:37<00:00,  1.73it/s]\n",
            "                 Class     Images  Instances      Box(P          R      mAP50  mAP50-95): 100%|██████████| 1/1 [00:00<00:00,  1.82it/s]"
          ]
        },
        {
          "output_type": "stream",
          "name": "stdout",
          "text": [
            "                   all         90        102      0.918      0.947       0.97      0.827\n"
          ]
        },
        {
          "output_type": "stream",
          "name": "stderr",
          "text": [
            "\n"
          ]
        },
        {
          "output_type": "stream",
          "name": "stdout",
          "text": [
            "\n",
            "      Epoch    GPU_mem   box_loss   cls_loss   dfl_loss  Instances       Size\n"
          ]
        },
        {
          "output_type": "stream",
          "name": "stderr",
          "text": [
            "     23/200      11.2G     0.8753     0.6833      1.237         26        512: 100%|██████████| 65/65 [00:39<00:00,  1.67it/s]\n",
            "                 Class     Images  Instances      Box(P          R      mAP50  mAP50-95): 100%|██████████| 1/1 [00:00<00:00,  2.02it/s]"
          ]
        },
        {
          "output_type": "stream",
          "name": "stdout",
          "text": [
            "                   all         90        102      0.969      0.946      0.974      0.837\n"
          ]
        },
        {
          "output_type": "stream",
          "name": "stderr",
          "text": [
            "\n"
          ]
        },
        {
          "output_type": "stream",
          "name": "stdout",
          "text": [
            "\n",
            "      Epoch    GPU_mem   box_loss   cls_loss   dfl_loss  Instances       Size\n"
          ]
        },
        {
          "output_type": "stream",
          "name": "stderr",
          "text": [
            "     24/200      11.2G     0.8646     0.6607      1.221         26        512: 100%|██████████| 65/65 [00:37<00:00,  1.74it/s]\n",
            "                 Class     Images  Instances      Box(P          R      mAP50  mAP50-95): 100%|██████████| 1/1 [00:00<00:00,  1.67it/s]"
          ]
        },
        {
          "output_type": "stream",
          "name": "stdout",
          "text": [
            "                   all         90        102      0.934      0.957      0.975      0.835\n"
          ]
        },
        {
          "output_type": "stream",
          "name": "stderr",
          "text": [
            "\n"
          ]
        },
        {
          "output_type": "stream",
          "name": "stdout",
          "text": [
            "\n",
            "      Epoch    GPU_mem   box_loss   cls_loss   dfl_loss  Instances       Size\n"
          ]
        },
        {
          "output_type": "stream",
          "name": "stderr",
          "text": [
            "     25/200      11.2G     0.8617     0.6718      1.219         26        512: 100%|██████████| 65/65 [00:39<00:00,  1.66it/s]\n",
            "                 Class     Images  Instances      Box(P          R      mAP50  mAP50-95): 100%|██████████| 1/1 [00:00<00:00,  1.68it/s]"
          ]
        },
        {
          "output_type": "stream",
          "name": "stdout",
          "text": [
            "                   all         90        102      0.949      0.991       0.99       0.81\n"
          ]
        },
        {
          "output_type": "stream",
          "name": "stderr",
          "text": [
            "\n"
          ]
        },
        {
          "output_type": "stream",
          "name": "stdout",
          "text": [
            "\n",
            "      Epoch    GPU_mem   box_loss   cls_loss   dfl_loss  Instances       Size\n"
          ]
        },
        {
          "output_type": "stream",
          "name": "stderr",
          "text": [
            "     26/200      11.2G     0.8658     0.6717      1.232         28        512: 100%|██████████| 65/65 [00:36<00:00,  1.77it/s]\n",
            "                 Class     Images  Instances      Box(P          R      mAP50  mAP50-95): 100%|██████████| 1/1 [00:00<00:00,  1.72it/s]"
          ]
        },
        {
          "output_type": "stream",
          "name": "stdout",
          "text": [
            "                   all         90        102      0.915      0.969      0.978      0.832\n"
          ]
        },
        {
          "output_type": "stream",
          "name": "stderr",
          "text": [
            "\n"
          ]
        },
        {
          "output_type": "stream",
          "name": "stdout",
          "text": [
            "\n",
            "      Epoch    GPU_mem   box_loss   cls_loss   dfl_loss  Instances       Size\n"
          ]
        },
        {
          "output_type": "stream",
          "name": "stderr",
          "text": [
            "     27/200      11.2G     0.8537     0.6619      1.217         33        512: 100%|██████████| 65/65 [00:37<00:00,  1.72it/s]\n",
            "                 Class     Images  Instances      Box(P          R      mAP50  mAP50-95): 100%|██████████| 1/1 [00:00<00:00,  1.70it/s]"
          ]
        },
        {
          "output_type": "stream",
          "name": "stdout",
          "text": [
            "                   all         90        102      0.892      0.943      0.956      0.825\n"
          ]
        },
        {
          "output_type": "stream",
          "name": "stderr",
          "text": [
            "\n"
          ]
        },
        {
          "output_type": "stream",
          "name": "stdout",
          "text": [
            "\n",
            "      Epoch    GPU_mem   box_loss   cls_loss   dfl_loss  Instances       Size\n"
          ]
        },
        {
          "output_type": "stream",
          "name": "stderr",
          "text": [
            "     28/200      11.2G     0.8662     0.6734      1.226         27        512: 100%|██████████| 65/65 [00:42<00:00,  1.52it/s]\n",
            "                 Class     Images  Instances      Box(P          R      mAP50  mAP50-95): 100%|██████████| 1/1 [00:01<00:00,  1.14s/it]"
          ]
        },
        {
          "output_type": "stream",
          "name": "stdout",
          "text": [
            "                   all         90        102      0.808      0.991      0.989      0.836\n"
          ]
        },
        {
          "output_type": "stream",
          "name": "stderr",
          "text": [
            "\n"
          ]
        },
        {
          "output_type": "stream",
          "name": "stdout",
          "text": [
            "\n",
            "      Epoch    GPU_mem   box_loss   cls_loss   dfl_loss  Instances       Size\n"
          ]
        },
        {
          "output_type": "stream",
          "name": "stderr",
          "text": [
            "     29/200      11.2G     0.8625     0.6737      1.223         31        512: 100%|██████████| 65/65 [00:38<00:00,  1.70it/s]\n",
            "                 Class     Images  Instances      Box(P          R      mAP50  mAP50-95): 100%|██████████| 1/1 [00:01<00:00,  1.09s/it]"
          ]
        },
        {
          "output_type": "stream",
          "name": "stdout",
          "text": [
            "                   all         90        102      0.877      0.956      0.942      0.786\n"
          ]
        },
        {
          "output_type": "stream",
          "name": "stderr",
          "text": [
            "\n"
          ]
        },
        {
          "output_type": "stream",
          "name": "stdout",
          "text": [
            "\n",
            "      Epoch    GPU_mem   box_loss   cls_loss   dfl_loss  Instances       Size\n"
          ]
        },
        {
          "output_type": "stream",
          "name": "stderr",
          "text": [
            "     30/200      11.2G     0.8635     0.6716      1.225         31        512: 100%|██████████| 65/65 [00:37<00:00,  1.73it/s]\n",
            "                 Class     Images  Instances      Box(P          R      mAP50  mAP50-95): 100%|██████████| 1/1 [00:00<00:00,  1.72it/s]"
          ]
        },
        {
          "output_type": "stream",
          "name": "stdout",
          "text": [
            "                   all         90        102      0.869      0.981       0.96      0.812\n"
          ]
        },
        {
          "output_type": "stream",
          "name": "stderr",
          "text": [
            "\n"
          ]
        },
        {
          "output_type": "stream",
          "name": "stdout",
          "text": [
            "\n",
            "      Epoch    GPU_mem   box_loss   cls_loss   dfl_loss  Instances       Size\n"
          ]
        },
        {
          "output_type": "stream",
          "name": "stderr",
          "text": [
            "     31/200      11.2G     0.8544     0.6737      1.214         29        512: 100%|██████████| 65/65 [00:37<00:00,  1.72it/s]\n",
            "                 Class     Images  Instances      Box(P          R      mAP50  mAP50-95): 100%|██████████| 1/1 [00:00<00:00,  1.71it/s]"
          ]
        },
        {
          "output_type": "stream",
          "name": "stdout",
          "text": [
            "                   all         90        102      0.937      0.962      0.974      0.843\n"
          ]
        },
        {
          "output_type": "stream",
          "name": "stderr",
          "text": [
            "\n"
          ]
        },
        {
          "output_type": "stream",
          "name": "stdout",
          "text": [
            "\n",
            "      Epoch    GPU_mem   box_loss   cls_loss   dfl_loss  Instances       Size\n"
          ]
        },
        {
          "output_type": "stream",
          "name": "stderr",
          "text": [
            "     32/200      11.3G     0.8323     0.6437      1.205         24        512: 100%|██████████| 65/65 [00:39<00:00,  1.66it/s]\n",
            "                 Class     Images  Instances      Box(P          R      mAP50  mAP50-95): 100%|██████████| 1/1 [00:00<00:00,  1.72it/s]"
          ]
        },
        {
          "output_type": "stream",
          "name": "stdout",
          "text": [
            "                   all         90        102      0.881      0.941      0.936        0.8\n"
          ]
        },
        {
          "output_type": "stream",
          "name": "stderr",
          "text": [
            "\n"
          ]
        },
        {
          "output_type": "stream",
          "name": "stdout",
          "text": [
            "\n",
            "      Epoch    GPU_mem   box_loss   cls_loss   dfl_loss  Instances       Size\n"
          ]
        },
        {
          "output_type": "stream",
          "name": "stderr",
          "text": [
            "     33/200      11.2G     0.8408     0.6496       1.21         27        512: 100%|██████████| 65/65 [00:37<00:00,  1.75it/s]\n",
            "                 Class     Images  Instances      Box(P          R      mAP50  mAP50-95): 100%|██████████| 1/1 [00:00<00:00,  1.73it/s]"
          ]
        },
        {
          "output_type": "stream",
          "name": "stdout",
          "text": [
            "                   all         90        102      0.929      0.951      0.968      0.827\n"
          ]
        },
        {
          "output_type": "stream",
          "name": "stderr",
          "text": [
            "\n"
          ]
        },
        {
          "output_type": "stream",
          "name": "stdout",
          "text": [
            "\n",
            "      Epoch    GPU_mem   box_loss   cls_loss   dfl_loss  Instances       Size\n"
          ]
        },
        {
          "output_type": "stream",
          "name": "stderr",
          "text": [
            "     34/200      11.2G     0.8349     0.6411      1.207         27        512: 100%|██████████| 65/65 [00:38<00:00,  1.69it/s]\n",
            "                 Class     Images  Instances      Box(P          R      mAP50  mAP50-95): 100%|██████████| 1/1 [00:00<00:00,  1.71it/s]"
          ]
        },
        {
          "output_type": "stream",
          "name": "stdout",
          "text": [
            "                   all         90        102      0.904       0.92      0.965      0.839\n"
          ]
        },
        {
          "output_type": "stream",
          "name": "stderr",
          "text": [
            "\n"
          ]
        },
        {
          "output_type": "stream",
          "name": "stdout",
          "text": [
            "\n",
            "      Epoch    GPU_mem   box_loss   cls_loss   dfl_loss  Instances       Size\n"
          ]
        },
        {
          "output_type": "stream",
          "name": "stderr",
          "text": [
            "     35/200      11.2G     0.8322     0.6462      1.204         38        512: 100%|██████████| 65/65 [00:39<00:00,  1.65it/s]\n",
            "                 Class     Images  Instances      Box(P          R      mAP50  mAP50-95): 100%|██████████| 1/1 [00:00<00:00,  1.72it/s]"
          ]
        },
        {
          "output_type": "stream",
          "name": "stdout",
          "text": [
            "                   all         90        102      0.927      0.934      0.961      0.815\n"
          ]
        },
        {
          "output_type": "stream",
          "name": "stderr",
          "text": [
            "\n"
          ]
        },
        {
          "output_type": "stream",
          "name": "stdout",
          "text": [
            "\n",
            "      Epoch    GPU_mem   box_loss   cls_loss   dfl_loss  Instances       Size\n"
          ]
        },
        {
          "output_type": "stream",
          "name": "stderr",
          "text": [
            "     36/200      11.2G     0.8321     0.6349      1.197         33        512: 100%|██████████| 65/65 [00:38<00:00,  1.69it/s]\n",
            "                 Class     Images  Instances      Box(P          R      mAP50  mAP50-95): 100%|██████████| 1/1 [00:00<00:00,  1.70it/s]"
          ]
        },
        {
          "output_type": "stream",
          "name": "stdout",
          "text": [
            "                   all         90        102      0.945      0.981       0.98      0.842\n"
          ]
        },
        {
          "output_type": "stream",
          "name": "stderr",
          "text": [
            "\n"
          ]
        },
        {
          "output_type": "stream",
          "name": "stdout",
          "text": [
            "\n",
            "      Epoch    GPU_mem   box_loss   cls_loss   dfl_loss  Instances       Size\n"
          ]
        },
        {
          "output_type": "stream",
          "name": "stderr",
          "text": [
            "     37/200      11.2G     0.8264     0.6248      1.192         28        512: 100%|██████████| 65/65 [00:37<00:00,  1.71it/s]\n",
            "                 Class     Images  Instances      Box(P          R      mAP50  mAP50-95): 100%|██████████| 1/1 [00:00<00:00,  1.79it/s]"
          ]
        },
        {
          "output_type": "stream",
          "name": "stdout",
          "text": [
            "                   all         90        102      0.965          1      0.994      0.863\n"
          ]
        },
        {
          "output_type": "stream",
          "name": "stderr",
          "text": [
            "\n"
          ]
        },
        {
          "output_type": "stream",
          "name": "stdout",
          "text": [
            "\n",
            "      Epoch    GPU_mem   box_loss   cls_loss   dfl_loss  Instances       Size\n"
          ]
        },
        {
          "output_type": "stream",
          "name": "stderr",
          "text": [
            "     38/200      11.2G     0.8284     0.6222      1.202         36        512: 100%|██████████| 65/65 [00:37<00:00,  1.71it/s]\n",
            "                 Class     Images  Instances      Box(P          R      mAP50  mAP50-95): 100%|██████████| 1/1 [00:00<00:00,  1.71it/s]"
          ]
        },
        {
          "output_type": "stream",
          "name": "stdout",
          "text": [
            "                   all         90        102      0.935      0.986      0.989      0.843\n"
          ]
        },
        {
          "output_type": "stream",
          "name": "stderr",
          "text": [
            "\n"
          ]
        },
        {
          "output_type": "stream",
          "name": "stdout",
          "text": [
            "\n",
            "      Epoch    GPU_mem   box_loss   cls_loss   dfl_loss  Instances       Size\n"
          ]
        },
        {
          "output_type": "stream",
          "name": "stderr",
          "text": [
            "     39/200      11.2G     0.8266     0.6292      1.204         31        512: 100%|██████████| 65/65 [00:38<00:00,  1.69it/s]\n",
            "                 Class     Images  Instances      Box(P          R      mAP50  mAP50-95): 100%|██████████| 1/1 [00:00<00:00,  1.72it/s]"
          ]
        },
        {
          "output_type": "stream",
          "name": "stdout",
          "text": [
            "                   all         90        102      0.931      0.963      0.974      0.844\n"
          ]
        },
        {
          "output_type": "stream",
          "name": "stderr",
          "text": [
            "\n"
          ]
        },
        {
          "output_type": "stream",
          "name": "stdout",
          "text": [
            "\n",
            "      Epoch    GPU_mem   box_loss   cls_loss   dfl_loss  Instances       Size\n"
          ]
        },
        {
          "output_type": "stream",
          "name": "stderr",
          "text": [
            "     40/200      11.2G     0.8212     0.6326        1.2         35        512: 100%|██████████| 65/65 [00:38<00:00,  1.67it/s]\n",
            "                 Class     Images  Instances      Box(P          R      mAP50  mAP50-95): 100%|██████████| 1/1 [00:00<00:00,  1.72it/s]"
          ]
        },
        {
          "output_type": "stream",
          "name": "stdout",
          "text": [
            "                   all         90        102      0.937      0.955      0.967      0.831\n"
          ]
        },
        {
          "output_type": "stream",
          "name": "stderr",
          "text": [
            "\n"
          ]
        },
        {
          "output_type": "stream",
          "name": "stdout",
          "text": [
            "\n",
            "      Epoch    GPU_mem   box_loss   cls_loss   dfl_loss  Instances       Size\n"
          ]
        },
        {
          "output_type": "stream",
          "name": "stderr",
          "text": [
            "     41/200      11.3G     0.8357     0.6315       1.21         34        512: 100%|██████████| 65/65 [00:35<00:00,  1.81it/s]\n",
            "                 Class     Images  Instances      Box(P          R      mAP50  mAP50-95): 100%|██████████| 1/1 [00:00<00:00,  1.71it/s]"
          ]
        },
        {
          "output_type": "stream",
          "name": "stdout",
          "text": [
            "                   all         90        102      0.978      0.998      0.993      0.853\n"
          ]
        },
        {
          "output_type": "stream",
          "name": "stderr",
          "text": [
            "\n"
          ]
        },
        {
          "output_type": "stream",
          "name": "stdout",
          "text": [
            "\n",
            "      Epoch    GPU_mem   box_loss   cls_loss   dfl_loss  Instances       Size\n"
          ]
        },
        {
          "output_type": "stream",
          "name": "stderr",
          "text": [
            "     42/200      11.2G     0.8245     0.6202      1.204         31        512: 100%|██████████| 65/65 [00:39<00:00,  1.66it/s]\n",
            "                 Class     Images  Instances      Box(P          R      mAP50  mAP50-95): 100%|██████████| 1/1 [00:00<00:00,  1.73it/s]"
          ]
        },
        {
          "output_type": "stream",
          "name": "stdout",
          "text": [
            "                   all         90        102      0.911      0.967      0.958      0.812\n"
          ]
        },
        {
          "output_type": "stream",
          "name": "stderr",
          "text": [
            "\n"
          ]
        },
        {
          "output_type": "stream",
          "name": "stdout",
          "text": [
            "\n",
            "      Epoch    GPU_mem   box_loss   cls_loss   dfl_loss  Instances       Size\n"
          ]
        },
        {
          "output_type": "stream",
          "name": "stderr",
          "text": [
            "     43/200      11.2G     0.8111     0.6114       1.19         27        512: 100%|██████████| 65/65 [00:38<00:00,  1.69it/s]\n",
            "                 Class     Images  Instances      Box(P          R      mAP50  mAP50-95): 100%|██████████| 1/1 [00:00<00:00,  1.64it/s]"
          ]
        },
        {
          "output_type": "stream",
          "name": "stdout",
          "text": [
            "                   all         90        102      0.903      0.894      0.978      0.839\n"
          ]
        },
        {
          "output_type": "stream",
          "name": "stderr",
          "text": [
            "\n"
          ]
        },
        {
          "output_type": "stream",
          "name": "stdout",
          "text": [
            "\n",
            "      Epoch    GPU_mem   box_loss   cls_loss   dfl_loss  Instances       Size\n"
          ]
        },
        {
          "output_type": "stream",
          "name": "stderr",
          "text": [
            "     44/200      11.2G     0.8051     0.6152      1.187         23        512: 100%|██████████| 65/65 [00:39<00:00,  1.66it/s]\n",
            "                 Class     Images  Instances      Box(P          R      mAP50  mAP50-95): 100%|██████████| 1/1 [00:00<00:00,  1.01it/s]"
          ]
        },
        {
          "output_type": "stream",
          "name": "stdout",
          "text": [
            "                   all         90        102      0.835      0.962      0.961      0.828\n"
          ]
        },
        {
          "output_type": "stream",
          "name": "stderr",
          "text": [
            "\n"
          ]
        },
        {
          "output_type": "stream",
          "name": "stdout",
          "text": [
            "\n",
            "      Epoch    GPU_mem   box_loss   cls_loss   dfl_loss  Instances       Size\n"
          ]
        },
        {
          "output_type": "stream",
          "name": "stderr",
          "text": [
            "     45/200      11.2G     0.8107     0.6213       1.19         26        512: 100%|██████████| 65/65 [00:37<00:00,  1.74it/s]\n",
            "                 Class     Images  Instances      Box(P          R      mAP50  mAP50-95): 100%|██████████| 1/1 [00:01<00:00,  1.11s/it]"
          ]
        },
        {
          "output_type": "stream",
          "name": "stdout",
          "text": [
            "                   all         90        102       0.84      0.944      0.945       0.81\n"
          ]
        },
        {
          "output_type": "stream",
          "name": "stderr",
          "text": [
            "\n"
          ]
        },
        {
          "output_type": "stream",
          "name": "stdout",
          "text": [
            "\n",
            "      Epoch    GPU_mem   box_loss   cls_loss   dfl_loss  Instances       Size\n"
          ]
        },
        {
          "output_type": "stream",
          "name": "stderr",
          "text": [
            "     46/200      11.2G     0.8021     0.6067      1.186         27        512: 100%|██████████| 65/65 [00:39<00:00,  1.66it/s]\n",
            "                 Class     Images  Instances      Box(P          R      mAP50  mAP50-95): 100%|██████████| 1/1 [00:01<00:00,  1.21s/it]"
          ]
        },
        {
          "output_type": "stream",
          "name": "stdout",
          "text": [
            "                   all         90        102      0.953      0.974      0.977      0.852\n"
          ]
        },
        {
          "output_type": "stream",
          "name": "stderr",
          "text": [
            "\n"
          ]
        },
        {
          "output_type": "stream",
          "name": "stdout",
          "text": [
            "\n",
            "      Epoch    GPU_mem   box_loss   cls_loss   dfl_loss  Instances       Size\n"
          ]
        },
        {
          "output_type": "stream",
          "name": "stderr",
          "text": [
            "     47/200      11.2G     0.8064     0.6119      1.185         33        512: 100%|██████████| 65/65 [00:36<00:00,  1.76it/s]\n",
            "                 Class     Images  Instances      Box(P          R      mAP50  mAP50-95): 100%|██████████| 1/1 [00:01<00:00,  1.29s/it]"
          ]
        },
        {
          "output_type": "stream",
          "name": "stdout",
          "text": [
            "                   all         90        102      0.928      0.973      0.968      0.832\n"
          ]
        },
        {
          "output_type": "stream",
          "name": "stderr",
          "text": [
            "\n"
          ]
        },
        {
          "output_type": "stream",
          "name": "stdout",
          "text": [
            "\n",
            "      Epoch    GPU_mem   box_loss   cls_loss   dfl_loss  Instances       Size\n"
          ]
        },
        {
          "output_type": "stream",
          "name": "stderr",
          "text": [
            "     48/200      11.2G     0.8018     0.6115      1.186         28        512: 100%|██████████| 65/65 [00:37<00:00,  1.73it/s]\n",
            "                 Class     Images  Instances      Box(P          R      mAP50  mAP50-95): 100%|██████████| 1/1 [00:01<00:00,  1.03s/it]"
          ]
        },
        {
          "output_type": "stream",
          "name": "stdout",
          "text": [
            "                   all         90        102      0.892      0.891      0.932      0.814\n"
          ]
        },
        {
          "output_type": "stream",
          "name": "stderr",
          "text": [
            "\n"
          ]
        },
        {
          "output_type": "stream",
          "name": "stdout",
          "text": [
            "\n",
            "      Epoch    GPU_mem   box_loss   cls_loss   dfl_loss  Instances       Size\n"
          ]
        },
        {
          "output_type": "stream",
          "name": "stderr",
          "text": [
            "     49/200      11.2G     0.8094     0.6204      1.193         25        512: 100%|██████████| 65/65 [00:37<00:00,  1.74it/s]\n",
            "                 Class     Images  Instances      Box(P          R      mAP50  mAP50-95): 100%|██████████| 1/1 [00:00<00:00,  1.73it/s]"
          ]
        },
        {
          "output_type": "stream",
          "name": "stdout",
          "text": [
            "                   all         90        102      0.975      0.985      0.988      0.864\n"
          ]
        },
        {
          "output_type": "stream",
          "name": "stderr",
          "text": [
            "\n"
          ]
        },
        {
          "output_type": "stream",
          "name": "stdout",
          "text": [
            "\n",
            "      Epoch    GPU_mem   box_loss   cls_loss   dfl_loss  Instances       Size\n"
          ]
        },
        {
          "output_type": "stream",
          "name": "stderr",
          "text": [
            "     50/200      11.2G     0.7894     0.6015      1.176         39        512: 100%|██████████| 65/65 [00:37<00:00,  1.73it/s]\n",
            "                 Class     Images  Instances      Box(P          R      mAP50  mAP50-95): 100%|██████████| 1/1 [00:00<00:00,  1.66it/s]"
          ]
        },
        {
          "output_type": "stream",
          "name": "stdout",
          "text": [
            "                   all         90        102      0.973      0.996      0.993      0.887\n"
          ]
        },
        {
          "output_type": "stream",
          "name": "stderr",
          "text": [
            "\n"
          ]
        },
        {
          "output_type": "stream",
          "name": "stdout",
          "text": [
            "\n",
            "      Epoch    GPU_mem   box_loss   cls_loss   dfl_loss  Instances       Size\n"
          ]
        },
        {
          "output_type": "stream",
          "name": "stderr",
          "text": [
            "     51/200      11.2G     0.7788     0.5856      1.169         27        512: 100%|██████████| 65/65 [00:39<00:00,  1.63it/s]\n",
            "                 Class     Images  Instances      Box(P          R      mAP50  mAP50-95): 100%|██████████| 1/1 [00:00<00:00,  1.73it/s]"
          ]
        },
        {
          "output_type": "stream",
          "name": "stdout",
          "text": [
            "                   all         90        102      0.904      0.924      0.928      0.794\n"
          ]
        },
        {
          "output_type": "stream",
          "name": "stderr",
          "text": [
            "\n"
          ]
        },
        {
          "output_type": "stream",
          "name": "stdout",
          "text": [
            "\n",
            "      Epoch    GPU_mem   box_loss   cls_loss   dfl_loss  Instances       Size\n"
          ]
        },
        {
          "output_type": "stream",
          "name": "stderr",
          "text": [
            "     52/200      11.2G     0.7899     0.6102      1.177         32        512: 100%|██████████| 65/65 [00:37<00:00,  1.72it/s]\n",
            "                 Class     Images  Instances      Box(P          R      mAP50  mAP50-95): 100%|██████████| 1/1 [00:00<00:00,  1.70it/s]"
          ]
        },
        {
          "output_type": "stream",
          "name": "stdout",
          "text": [
            "                   all         90        102      0.967      0.974      0.988      0.865\n"
          ]
        },
        {
          "output_type": "stream",
          "name": "stderr",
          "text": [
            "\n"
          ]
        },
        {
          "output_type": "stream",
          "name": "stdout",
          "text": [
            "\n",
            "      Epoch    GPU_mem   box_loss   cls_loss   dfl_loss  Instances       Size\n"
          ]
        },
        {
          "output_type": "stream",
          "name": "stderr",
          "text": [
            "     53/200      11.2G     0.7843     0.6027      1.178         31        512: 100%|██████████| 65/65 [00:38<00:00,  1.70it/s]\n",
            "                 Class     Images  Instances      Box(P          R      mAP50  mAP50-95): 100%|██████████| 1/1 [00:01<00:00,  1.05s/it]"
          ]
        },
        {
          "output_type": "stream",
          "name": "stdout",
          "text": [
            "                   all         90        102      0.966      0.985       0.99      0.864\n"
          ]
        },
        {
          "output_type": "stream",
          "name": "stderr",
          "text": [
            "\n"
          ]
        },
        {
          "output_type": "stream",
          "name": "stdout",
          "text": [
            "\n",
            "      Epoch    GPU_mem   box_loss   cls_loss   dfl_loss  Instances       Size\n"
          ]
        },
        {
          "output_type": "stream",
          "name": "stderr",
          "text": [
            "     54/200      11.3G     0.7819     0.5847      1.167         28        512: 100%|██████████| 65/65 [00:37<00:00,  1.74it/s]\n",
            "                 Class     Images  Instances      Box(P          R      mAP50  mAP50-95): 100%|██████████| 1/1 [00:00<00:00,  1.71it/s]"
          ]
        },
        {
          "output_type": "stream",
          "name": "stdout",
          "text": [
            "                   all         90        102      0.897      0.972      0.956      0.828\n"
          ]
        },
        {
          "output_type": "stream",
          "name": "stderr",
          "text": [
            "\n"
          ]
        },
        {
          "output_type": "stream",
          "name": "stdout",
          "text": [
            "\n",
            "      Epoch    GPU_mem   box_loss   cls_loss   dfl_loss  Instances       Size\n"
          ]
        },
        {
          "output_type": "stream",
          "name": "stderr",
          "text": [
            "     55/200      11.2G     0.7765     0.5781      1.175         29        512: 100%|██████████| 65/65 [00:38<00:00,  1.71it/s]\n",
            "                 Class     Images  Instances      Box(P          R      mAP50  mAP50-95): 100%|██████████| 1/1 [00:00<00:00,  1.73it/s]"
          ]
        },
        {
          "output_type": "stream",
          "name": "stdout",
          "text": [
            "                   all         90        102      0.954       0.93      0.961      0.824\n"
          ]
        },
        {
          "output_type": "stream",
          "name": "stderr",
          "text": [
            "\n"
          ]
        },
        {
          "output_type": "stream",
          "name": "stdout",
          "text": [
            "\n",
            "      Epoch    GPU_mem   box_loss   cls_loss   dfl_loss  Instances       Size\n"
          ]
        },
        {
          "output_type": "stream",
          "name": "stderr",
          "text": [
            "     56/200      11.2G     0.7768     0.5792      1.163         32        512: 100%|██████████| 65/65 [00:36<00:00,  1.78it/s]\n",
            "                 Class     Images  Instances      Box(P          R      mAP50  mAP50-95): 100%|██████████| 1/1 [00:00<00:00,  1.72it/s]"
          ]
        },
        {
          "output_type": "stream",
          "name": "stdout",
          "text": [
            "                   all         90        102      0.925      0.972      0.981      0.847\n"
          ]
        },
        {
          "output_type": "stream",
          "name": "stderr",
          "text": [
            "\n"
          ]
        },
        {
          "output_type": "stream",
          "name": "stdout",
          "text": [
            "\n",
            "      Epoch    GPU_mem   box_loss   cls_loss   dfl_loss  Instances       Size\n"
          ]
        },
        {
          "output_type": "stream",
          "name": "stderr",
          "text": [
            "     57/200      11.2G     0.7685     0.5676      1.162         30        512: 100%|██████████| 65/65 [00:37<00:00,  1.71it/s]\n",
            "                 Class     Images  Instances      Box(P          R      mAP50  mAP50-95): 100%|██████████| 1/1 [00:00<00:00,  1.71it/s]"
          ]
        },
        {
          "output_type": "stream",
          "name": "stdout",
          "text": [
            "                   all         90        102      0.946      0.963      0.963      0.834\n"
          ]
        },
        {
          "output_type": "stream",
          "name": "stderr",
          "text": [
            "\n"
          ]
        },
        {
          "output_type": "stream",
          "name": "stdout",
          "text": [
            "\n",
            "      Epoch    GPU_mem   box_loss   cls_loss   dfl_loss  Instances       Size\n"
          ]
        },
        {
          "output_type": "stream",
          "name": "stderr",
          "text": [
            "     58/200      11.2G     0.7699     0.5693      1.164         31        512: 100%|██████████| 65/65 [00:40<00:00,  1.59it/s]\n",
            "                 Class     Images  Instances      Box(P          R      mAP50  mAP50-95): 100%|██████████| 1/1 [00:00<00:00,  1.72it/s]"
          ]
        },
        {
          "output_type": "stream",
          "name": "stdout",
          "text": [
            "                   all         90        102      0.864      0.928      0.941      0.801\n"
          ]
        },
        {
          "output_type": "stream",
          "name": "stderr",
          "text": [
            "\n"
          ]
        },
        {
          "output_type": "stream",
          "name": "stdout",
          "text": [
            "\n",
            "      Epoch    GPU_mem   box_loss   cls_loss   dfl_loss  Instances       Size\n"
          ]
        },
        {
          "output_type": "stream",
          "name": "stderr",
          "text": [
            "     59/200      11.2G     0.7784     0.5842      1.171         23        512: 100%|██████████| 65/65 [00:37<00:00,  1.71it/s]\n",
            "                 Class     Images  Instances      Box(P          R      mAP50  mAP50-95): 100%|██████████| 1/1 [00:00<00:00,  1.71it/s]"
          ]
        },
        {
          "output_type": "stream",
          "name": "stdout",
          "text": [
            "                   all         90        102      0.877       0.97       0.96      0.824\n"
          ]
        },
        {
          "output_type": "stream",
          "name": "stderr",
          "text": [
            "\n"
          ]
        },
        {
          "output_type": "stream",
          "name": "stdout",
          "text": [
            "\n",
            "      Epoch    GPU_mem   box_loss   cls_loss   dfl_loss  Instances       Size\n"
          ]
        },
        {
          "output_type": "stream",
          "name": "stderr",
          "text": [
            "     60/200      11.2G     0.7726       0.58      1.172         31        512: 100%|██████████| 65/65 [00:37<00:00,  1.75it/s]\n",
            "                 Class     Images  Instances      Box(P          R      mAP50  mAP50-95): 100%|██████████| 1/1 [00:00<00:00,  1.89it/s]"
          ]
        },
        {
          "output_type": "stream",
          "name": "stdout",
          "text": [
            "                   all         90        102      0.942      0.946      0.964      0.846\n"
          ]
        },
        {
          "output_type": "stream",
          "name": "stderr",
          "text": [
            "\n"
          ]
        },
        {
          "output_type": "stream",
          "name": "stdout",
          "text": [
            "\n",
            "      Epoch    GPU_mem   box_loss   cls_loss   dfl_loss  Instances       Size\n"
          ]
        },
        {
          "output_type": "stream",
          "name": "stderr",
          "text": [
            "     61/200      11.2G     0.7704     0.5751      1.166         30        512: 100%|██████████| 65/65 [00:38<00:00,  1.67it/s]\n",
            "                 Class     Images  Instances      Box(P          R      mAP50  mAP50-95): 100%|██████████| 1/1 [00:00<00:00,  1.69it/s]"
          ]
        },
        {
          "output_type": "stream",
          "name": "stdout",
          "text": [
            "                   all         90        102       0.88      0.962      0.968      0.819\n"
          ]
        },
        {
          "output_type": "stream",
          "name": "stderr",
          "text": [
            "\n"
          ]
        },
        {
          "output_type": "stream",
          "name": "stdout",
          "text": [
            "\n",
            "      Epoch    GPU_mem   box_loss   cls_loss   dfl_loss  Instances       Size\n"
          ]
        },
        {
          "output_type": "stream",
          "name": "stderr",
          "text": [
            "     62/200      11.3G     0.7641     0.5781       1.16         31        512: 100%|██████████| 65/65 [00:36<00:00,  1.77it/s]\n",
            "                 Class     Images  Instances      Box(P          R      mAP50  mAP50-95): 100%|██████████| 1/1 [00:00<00:00,  1.08it/s]"
          ]
        },
        {
          "output_type": "stream",
          "name": "stdout",
          "text": [
            "                   all         90        102      0.903      0.927      0.951      0.797\n"
          ]
        },
        {
          "output_type": "stream",
          "name": "stderr",
          "text": [
            "\n"
          ]
        },
        {
          "output_type": "stream",
          "name": "stdout",
          "text": [
            "\n",
            "      Epoch    GPU_mem   box_loss   cls_loss   dfl_loss  Instances       Size\n"
          ]
        },
        {
          "output_type": "stream",
          "name": "stderr",
          "text": [
            "     63/200      11.2G     0.7608      0.573      1.161         25        512: 100%|██████████| 65/65 [00:38<00:00,  1.69it/s]\n",
            "                 Class     Images  Instances      Box(P          R      mAP50  mAP50-95): 100%|██████████| 1/1 [00:01<00:00,  1.06s/it]"
          ]
        },
        {
          "output_type": "stream",
          "name": "stdout",
          "text": [
            "                   all         90        102      0.852      0.913      0.918      0.786\n"
          ]
        },
        {
          "output_type": "stream",
          "name": "stderr",
          "text": [
            "\n"
          ]
        },
        {
          "output_type": "stream",
          "name": "stdout",
          "text": [
            "\n",
            "      Epoch    GPU_mem   box_loss   cls_loss   dfl_loss  Instances       Size\n"
          ]
        },
        {
          "output_type": "stream",
          "name": "stderr",
          "text": [
            "     64/200      11.2G     0.7619     0.5699      1.165         25        512: 100%|██████████| 65/65 [00:37<00:00,  1.73it/s]\n",
            "                 Class     Images  Instances      Box(P          R      mAP50  mAP50-95): 100%|██████████| 1/1 [00:01<00:00,  1.03s/it]"
          ]
        },
        {
          "output_type": "stream",
          "name": "stdout",
          "text": [
            "                   all         90        102      0.914       0.93      0.946       0.82\n"
          ]
        },
        {
          "output_type": "stream",
          "name": "stderr",
          "text": [
            "\n"
          ]
        },
        {
          "output_type": "stream",
          "name": "stdout",
          "text": [
            "\n",
            "      Epoch    GPU_mem   box_loss   cls_loss   dfl_loss  Instances       Size\n"
          ]
        },
        {
          "output_type": "stream",
          "name": "stderr",
          "text": [
            "     65/200      11.2G     0.7428     0.5539      1.148         36        512: 100%|██████████| 65/65 [00:37<00:00,  1.75it/s]\n",
            "                 Class     Images  Instances      Box(P          R      mAP50  mAP50-95): 100%|██████████| 1/1 [00:00<00:00,  1.73it/s]"
          ]
        },
        {
          "output_type": "stream",
          "name": "stdout",
          "text": [
            "                   all         90        102      0.918      0.933      0.938       0.81\n"
          ]
        },
        {
          "output_type": "stream",
          "name": "stderr",
          "text": [
            "\n"
          ]
        },
        {
          "output_type": "stream",
          "name": "stdout",
          "text": [
            "\n",
            "      Epoch    GPU_mem   box_loss   cls_loss   dfl_loss  Instances       Size\n"
          ]
        },
        {
          "output_type": "stream",
          "name": "stderr",
          "text": [
            "     66/200      11.2G     0.7549     0.5764      1.156         30        512: 100%|██████████| 65/65 [00:39<00:00,  1.63it/s]\n",
            "                 Class     Images  Instances      Box(P          R      mAP50  mAP50-95): 100%|██████████| 1/1 [00:00<00:00,  1.73it/s]"
          ]
        },
        {
          "output_type": "stream",
          "name": "stdout",
          "text": [
            "                   all         90        102      0.889      0.958      0.957      0.845\n"
          ]
        },
        {
          "output_type": "stream",
          "name": "stderr",
          "text": [
            "\n"
          ]
        },
        {
          "output_type": "stream",
          "name": "stdout",
          "text": [
            "\n",
            "      Epoch    GPU_mem   box_loss   cls_loss   dfl_loss  Instances       Size\n"
          ]
        },
        {
          "output_type": "stream",
          "name": "stderr",
          "text": [
            "     67/200      11.2G     0.7569     0.5719      1.157         29        512: 100%|██████████| 65/65 [00:38<00:00,  1.67it/s]\n",
            "                 Class     Images  Instances      Box(P          R      mAP50  mAP50-95): 100%|██████████| 1/1 [00:00<00:00,  1.73it/s]"
          ]
        },
        {
          "output_type": "stream",
          "name": "stdout",
          "text": [
            "                   all         90        102      0.898      0.923      0.938      0.817\n"
          ]
        },
        {
          "output_type": "stream",
          "name": "stderr",
          "text": [
            "\n"
          ]
        },
        {
          "output_type": "stream",
          "name": "stdout",
          "text": [
            "\n",
            "      Epoch    GPU_mem   box_loss   cls_loss   dfl_loss  Instances       Size\n"
          ]
        },
        {
          "output_type": "stream",
          "name": "stderr",
          "text": [
            "     68/200      11.3G     0.7559     0.5664      1.162         34        512: 100%|██████████| 65/65 [00:37<00:00,  1.71it/s]\n",
            "                 Class     Images  Instances      Box(P          R      mAP50  mAP50-95): 100%|██████████| 1/1 [00:01<00:00,  1.11s/it]"
          ]
        },
        {
          "output_type": "stream",
          "name": "stdout",
          "text": [
            "                   all         90        102      0.891      0.891       0.93      0.799\n"
          ]
        },
        {
          "output_type": "stream",
          "name": "stderr",
          "text": [
            "\n"
          ]
        },
        {
          "output_type": "stream",
          "name": "stdout",
          "text": [
            "\n",
            "      Epoch    GPU_mem   box_loss   cls_loss   dfl_loss  Instances       Size\n"
          ]
        },
        {
          "output_type": "stream",
          "name": "stderr",
          "text": [
            "     69/200      11.2G     0.7455     0.5543      1.152         25        512: 100%|██████████| 65/65 [00:37<00:00,  1.75it/s]\n",
            "                 Class     Images  Instances      Box(P          R      mAP50  mAP50-95): 100%|██████████| 1/1 [00:00<00:00,  1.74it/s]"
          ]
        },
        {
          "output_type": "stream",
          "name": "stdout",
          "text": [
            "                   all         90        102      0.811      0.964      0.946      0.811\n"
          ]
        },
        {
          "output_type": "stream",
          "name": "stderr",
          "text": [
            "\n"
          ]
        },
        {
          "output_type": "stream",
          "name": "stdout",
          "text": [
            "\n",
            "      Epoch    GPU_mem   box_loss   cls_loss   dfl_loss  Instances       Size\n"
          ]
        },
        {
          "output_type": "stream",
          "name": "stderr",
          "text": [
            "     70/200      11.2G     0.7577     0.5575      1.161         27        512: 100%|██████████| 65/65 [00:38<00:00,  1.69it/s]\n",
            "                 Class     Images  Instances      Box(P          R      mAP50  mAP50-95): 100%|██████████| 1/1 [00:00<00:00,  1.72it/s]"
          ]
        },
        {
          "output_type": "stream",
          "name": "stdout",
          "text": [
            "                   all         90        102      0.905      0.923       0.92      0.818\n",
            "\u001b[34m\u001b[1mEarlyStopping: \u001b[0mTraining stopped early as no improvement observed in last 20 epochs. Best results observed at epoch 50, best model saved as best.pt.\n",
            "To update EarlyStopping(patience=20) pass a new patience value, i.e. `patience=300` or use `patience=0` to disable EarlyStopping.\n"
          ]
        },
        {
          "output_type": "stream",
          "name": "stderr",
          "text": [
            "\n"
          ]
        },
        {
          "output_type": "stream",
          "name": "stdout",
          "text": [
            "\n",
            "70 epochs completed in 0.792 hours.\n",
            "Optimizer stripped from runs/detect/train5/weights/last.pt, 18.9MB\n",
            "Optimizer stripped from runs/detect/train5/weights/best.pt, 18.9MB\n",
            "\n",
            "Validating runs/detect/train5/weights/best.pt...\n",
            "Ultralytics 8.3.63 🚀 Python-3.11.11 torch-2.5.1+cu124 CUDA:0 (NVIDIA L4, 22693MiB)\n",
            "YOLOv12s summary (fused): 352 layers, 9,236,298 parameters, 0 gradients, 21.2 GFLOPs\n"
          ]
        },
        {
          "output_type": "stream",
          "name": "stderr",
          "text": [
            "                 Class     Images  Instances      Box(P          R      mAP50  mAP50-95): 100%|██████████| 1/1 [00:00<00:00,  1.04it/s]\n"
          ]
        },
        {
          "output_type": "stream",
          "name": "stdout",
          "text": [
            "                   all         90        102      0.946      0.978      0.969      0.844\n",
            "Speed: 0.1ms preprocess, 5.6ms inference, 0.0ms loss, 1.0ms postprocess per image\n",
            "Results saved to \u001b[1mruns/detect/train5\u001b[0m\n"
          ]
        }
      ]
    },
    {
      "cell_type": "code",
      "source": [
        "lst_file_input = [\"/content/sample_data/\"+fname for fname in os.listdir(\"/content/sample_data/\") if fname.endswith(\".jpg\")]\n",
        "\n",
        "model_m = YOLO(\"/content/yolov12/runs/detect/train5/weights/best.pt\")\n",
        "results = model_m(lst_file_input)"
      ],
      "metadata": {
        "id": "Z3ZZ-Omumxpk",
        "colab": {
          "base_uri": "https://localhost:8080/"
        },
        "outputId": "b82be1fc-705c-465b-9f2c-d614c2fa911f"
      },
      "execution_count": 27,
      "outputs": [
        {
          "output_type": "stream",
          "name": "stdout",
          "text": [
            "\n",
            "0: 512x512 1 raspberry, 2.3ms\n",
            "1: 512x512 1 banana, 2.3ms\n",
            "2: 512x512 (no detections), 2.3ms\n",
            "3: 512x512 2 raspberrys, 2.3ms\n",
            "4: 512x512 1 banana, 2.3ms\n",
            "5: 512x512 1 apple-bag, 2.3ms\n",
            "6: 512x512 1 blackberries, 1 raspberry, 1 apple-bag, 2.3ms\n",
            "7: 512x512 1 banana, 2.3ms\n",
            "8: 512x512 (no detections), 2.3ms\n",
            "9: 512x512 1 blackberries, 1 raspberry, 2.3ms\n",
            "10: 512x512 1 blackberries, 2.3ms\n",
            "11: 512x512 1 blackberries, 1 raspberry, 2 chili-bags, 2.3ms\n",
            "12: 512x512 1 tomato-bag, 1 tomato, 2.3ms\n",
            "13: 512x512 1 apple-bag, 2.3ms\n",
            "14: 512x512 1 banana, 2.3ms\n",
            "Speed: 3.1ms preprocess, 2.3ms inference, 0.9ms postprocess per image at shape (1, 3, 512, 512)\n"
          ]
        }
      ]
    },
    {
      "cell_type": "code",
      "source": [
        "! mkdir -p /content/drive/MyDrive/Artefact/Projet_batch_51/pdf/fruit_and_vegetable_detection_for_yolov12./train5\n",
        "\n",
        "! cp -r /content/yolov12/runs/detect/train5/ /content/drive/MyDrive/Artefact/Projet_batch_51/pdf/fruit_and_vegetable_detection_for_yolov12./train5"
      ],
      "metadata": {
        "id": "VDd950h8I0fx"
      },
      "execution_count": 28,
      "outputs": []
    }
  ]
}
