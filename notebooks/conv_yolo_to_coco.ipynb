{
 "cells": [
  {
   "cell_type": "markdown",
   "metadata": {},
   "source": [
    "#### convert fruit_and_vegetable_detection_for_yolov8 data to coco format\n",
    "##### only keey mandatory fields"
   ]
  },
  {
   "cell_type": "markdown",
   "metadata": {},
   "source": []
  },
  {
   "cell_type": "code",
   "execution_count": 39,
   "metadata": {},
   "outputs": [],
   "source": [
    "import os\n",
    "import matplotlib.pyplot as plt\n",
    "from tqdm import tqdm\n",
    "import json\n"
   ]
  },
  {
   "cell_type": "code",
   "execution_count": null,
   "metadata": {},
   "outputs": [],
   "source": [
    "path = \"/home/usr/code/pdufourny/Projet/fruit and vegetable detection for yolov4/fruit_and_vegetable_detection_for_yolov8/\"\n",
    "path_train = path+\"train/\"\n",
    "path_test = path+\"test/\"\n",
    "path_val = path+\"val/\"\n",
    "lst_labels = {}"
   ]
  },
  {
   "cell_type": "code",
   "execution_count": 62,
   "metadata": {},
   "outputs": [
    {
     "data": {
      "text/plain": [
       "4592"
      ]
     },
     "execution_count": 62,
     "metadata": {},
     "output_type": "execute_result"
    }
   ],
   "source": [
    "lst_file_input = [path_train+fname for fname in os.listdir(path_train) if fname.endswith(\".txt\")]\n",
    "lst_file_input += [path_test+fname for fname in os.listdir(path_test) if fname.endswith(\".txt\")]\n",
    "lst_file_input += [path_val+fname for fname in os.listdir(path_val) if fname.endswith(\".txt\")]\n",
    "train_files = [path_train+fname for fname in os.listdir(path_train) if fname.endswith(\".txt\")]\n",
    "test_files = [path_test+fname for fname in os.listdir(path_test) if fname.endswith(\".txt\")]\n",
    "val_files = [path_val+fname for fname in os.listdir(path_val) if fname.endswith(\".txt\")]\n",
    "len(lst_file_input)"
   ]
  },
  {
   "cell_type": "code",
   "execution_count": 45,
   "metadata": {},
   "outputs": [
    {
     "data": {
      "text/plain": [
       "{'images': [{'id': 1,\n",
       "   'file_name': '645_2_chilli_wb_45.jpg',\n",
       "   'width': 3024,\n",
       "   'height': 4032,\n",
       "   'date_captured': '2020-07-20T19:39:26+00:00'},\n",
       "  {'id': 2,\n",
       "   'file_name': '622_2_banana_wob_20.jpg',\n",
       "   'width': 3024,\n",
       "   'height': 4032,\n",
       "   'date_captured': '2020-07-20T19:39:26+00:00'}],\n",
       " 'annotations': [{'image_id': 1,\n",
       "   'category_id': '12',\n",
       "   'bbox': [963, 642, 2050, 2832]},\n",
       "  {'image_id': 2, 'category_id': '1', 'bbox': [1143, 834, 1482, 1933]}],\n",
       " 'categories': []}"
      ]
     },
     "execution_count": 45,
     "metadata": {},
     "output_type": "execute_result"
    }
   ],
   "source": [
    "\n",
    "box_in_img = []\n",
    "images_list = []\n",
    "annotations_list = []\n",
    "image_id=0\n",
    "def add_image_to_coco(img_name, image_id,images_list, annotations_list):\n",
    "    with open(img_name, \"r\") as f_in:\n",
    "        box_in_img = f_in.readlines()\n",
    "    im = plt.imread(img_name.replace(\"txt\",\"jpg\"))\n",
    "    im_height, im_width, _ = im.shape\n",
    "    image_id += 1\n",
    "    for box in box_in_img:\n",
    "        label, x_center, y_center, w, h = box.split(\" \")\n",
    "        w = float(w)*im_width\n",
    "        h = float(h)*im_height\n",
    "        x_center = float(x_center)*im_width\n",
    "        y_center = float(y_center)*im_height\n",
    "        x_left = x_center - w/2\n",
    "        y_top = y_center - h/2\n",
    "        annotations_list.append({\"image_id\" : image_id, \"category_id\" : label, \"bbox\":[int(x_left), int(y_top), int(w), int(h)]})\n",
    "\n",
    "    images_list.append({\"id\" : image_id, \"file_name\" : img_name.split(\"/\")[-1].replace(\"txt\",\"jpg\") , \"width\" : im_width, \"height\" : im_height, \"date_captured\": \"2020-07-20T19:39:26+00:00\"})\n",
    "    return image_id\n",
    "image_id = add_image_to_coco(lst_file_input[0], image_id, images_list, annotations_list)\n",
    "image_id = add_image_to_coco(lst_file_input[1], image_id, images_list, annotations_list)\n",
    "coco_json = {\"images\" : images_list, \"annotations\" : annotations_list, \"categories\" : []}\n",
    "coco_json\n"
   ]
  },
  {
   "cell_type": "code",
   "execution_count": 63,
   "metadata": {},
   "outputs": [
    {
     "name": "stderr",
     "output_type": "stream",
     "text": [
      "100%|██████████| 3852/3852 [08:52<00:00,  7.23it/s]\n",
      "100%|██████████| 650/650 [01:14<00:00,  8.74it/s]\n"
     ]
    }
   ],
   "source": [
    "box_in_img = []\n",
    "images_list = []\n",
    "annotations_list = []\n",
    "image_id=0\n",
    "\n",
    "for image in tqdm(train_files):\n",
    "    image_id = add_image_to_coco(image, image_id, images_list, annotations_list)\n",
    "coco_json = {\"images\" : images_list, \"annotations\" : annotations_list, \"categories\" : []}\n",
    "with open(\"coco_train.json\", \"w\") as f_out:\n",
    "    json.dump(coco_json, f_out)\n",
    "\n",
    "box_in_img = []\n",
    "images_list = []\n",
    "annotations_list = []\n",
    "image_id=0\n",
    "# use test folder as val folder because there is mode files to test\n",
    "for image in tqdm(test_files):\n",
    "    image_id = add_image_to_coco(image, image_id, images_list, annotations_list)\n",
    "coco_json = {\"images\" : images_list, \"annotations\" : annotations_list, \"categories\" : []}\n",
    "with open(\"coco_val.json\", \"w\") as f_out:\n",
    "    json.dump(coco_json, f_out)\n",
    "\n",
    "\n",
    "\n"
   ]
  },
  {
   "cell_type": "code",
   "execution_count": 66,
   "metadata": {},
   "outputs": [
    {
     "name": "stdout",
     "output_type": "stream",
     "text": [
      "total 4988\n",
      "-rw-rw-r-- 1 usr usr 1004229 Feb 21 17:22  coco1.json\n",
      "-rw-rw-r-- 1 usr usr 1003025 Feb 21 17:12  coco.json\n",
      "-rw-rw-r-- 1 usr usr  843328 Feb 21 17:57  coco_train1.json\n",
      "-rw-rw-r-- 1 usr usr  842124 Feb 21 17:53  coco_train.json\n",
      "-rw-rw-r-- 1 usr usr  141289 Feb 21 17:57  coco_val1.json\n",
      "-rw-rw-r-- 1 usr usr  140085 Feb 21 17:54  coco_val.json\n",
      "-rw-rw-r-- 1 usr usr    6959 Feb 19 18:22  conv_fruit_image_for_object_detection.ipynb\n",
      "-rw-rw-r-- 1 usr usr    4460 Feb 21 16:08  conv_yolo_to_coco.ipynb\n",
      "-rw-rw-r-- 1 usr usr   44540 Feb 20 22:02  fruit_and_vegetable_detection_for_detectron2.ipynb\n",
      "-rw-rw-r-- 1 usr usr  811071 Feb 20 22:02  fruit_and_vegetable_detection_for_yolov12.ipynb\n",
      "-rw-rw-r-- 1 usr usr    1202 Feb 21 17:20  header_coco.json\n",
      "-rw-rw-r-- 1 usr usr  136163 Feb 19 18:24  tests_fruit_images_for_object_detection.ipynb\n",
      "-rw-rw-r-- 1 usr usr   82624 Feb 19 18:24  tests_yolov8s.ipynb\n",
      "-rw-rw-r-- 1 usr usr   12838 Feb 20 22:02 'wk_on_fruit and vegetable detection for yolov4.ipynb'\n"
     ]
    }
   ],
   "source": [
    "! ls -l"
   ]
  },
  {
   "cell_type": "code",
   "execution_count": null,
   "metadata": {},
   "outputs": [],
   "source": [
    "! cat header_coco.json  coco_train.json > coco_train1.json\n",
    "! echo \"}\" >> coco_train1.json\n",
    "\n",
    "! cat header_coco.json  coco_val.json > coco_val1.json\n",
    "! echo \"}\" >> coco_val1.json\n"
   ]
  },
  {
   "cell_type": "code",
   "execution_count": 71,
   "metadata": {},
   "outputs": [
    {
     "name": "stdout",
     "output_type": "stream",
     "text": [
      "==> coco_train1.json <==\n",
      " {   \"info\": {\n",
      "        \"year\": \"2025\",\n",
      "        \"version\": \"1\",\n",
      "        \"description\": \"created for project\",\n",
      "        \"contributor\": \"pdf\",\n",
      "        \"url\": \"\",\n",
      "        \"date_created\": \"0000-01-01T00:00:00+00:00\"\n",
      "    },\n",
      "    \"licenses\": [\n",
      "        {\n",
      "head: cannot open '1' for reading: No such file or directory\n"
     ]
    }
   ],
   "source": [
    "! head \"coco_train1.json\" 1"
   ]
  },
  {
   "cell_type": "code",
   "execution_count": null,
   "metadata": {},
   "outputs": [],
   "source": []
  }
 ],
 "metadata": {
  "kernelspec": {
   "display_name": "balance_intelligente",
   "language": "python",
   "name": "python3"
  },
  "language_info": {
   "codemirror_mode": {
    "name": "ipython",
    "version": 3
   },
   "file_extension": ".py",
   "mimetype": "text/x-python",
   "name": "python",
   "nbconvert_exporter": "python",
   "pygments_lexer": "ipython3",
   "version": "3.10.12"
  }
 },
 "nbformat": 4,
 "nbformat_minor": 2
}
